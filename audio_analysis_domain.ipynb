{
 "cells": [
  {
   "cell_type": "markdown",
   "id": "e690ac994001a838",
   "metadata": {},
   "source": [
    "# 🎤 Domain Specific Audio Classification\n",
    "\n",
    "This notebook provides a starting point for working with audio in our domain.\n",
    "It covers:\n",
    "1. Dataset loading\n",
    "2. Dataset Exploration\n",
    "3. Basic Feature Exploration\n",
    "4. Preprocessing Techniques\n",
    "5. 4Fluid Audio Features\n",
    "6. 4Fluid Audio Classification"
   ]
  },
  {
   "cell_type": "markdown",
   "id": "1eef2d9f6346640f",
   "metadata": {},
   "source": [
    "# 1. Dataset Loading\n",
    "\n",
    "To load the dataset, we use the function `dvc_load_database_metadata` from the `data.dvc_loader` module.\n",
    "This function fetches dataset metadata from the specified DVC database and set.\n",
    "Before running this step, **make sure to download the database metadata from DVC** (e.g., using `dvc pull`).\n",
    "\n",
    "The audio files referenced in the dataset must be available in the folder `data/audios`, otherwise will be downloaded during the function call.\n",
    "\n",
    "Below is the formal structure used:\n",
    "\n",
    "## Parameters\n",
    "\n",
    "- `database`: Specifies the database source (e.g., `DatabasesDVC.ONBOARDING`).\n",
    "- `dataset`: Specifies the dataset type (e.g., `DatabaseSetsDVC.TRAIN` or `DatabaseSetsDVC.TEST`).\n",
    "\n",
    "## Dataset Metadata Structure\n",
    "\n",
    "The metadata file is typically a table with the following columns:\n",
    "\n",
    "- **`id`**: Unique identifier for each audio sample.\n",
    "- **`class`**: The label or target class associated with the audio sample.\n",
    "- **`url_audio`**: Path or URL pointing to the corresponding audio file (resolved to `data/audio`)."
   ]
  },
  {
   "cell_type": "code",
   "execution_count": 1,
   "id": "baff63fb279f8f3b",
   "metadata": {
    "ExecuteTime": {
     "end_time": "2025-09-11T18:56:28.433410Z",
     "start_time": "2025-09-11T18:56:28.391582Z"
    }
   },
   "outputs": [
    {
     "name": "stderr",
     "output_type": "stream",
     "text": [
      "2025-09-15 15:44:48.237259: I tensorflow/core/util/port.cc:153] oneDNN custom operations are on. You may see slightly different numerical results due to floating-point round-off errors from different computation orders. To turn them off, set the environment variable `TF_ENABLE_ONEDNN_OPTS=0`.\n",
      "2025-09-15 15:44:48.427718: I tensorflow/core/platform/cpu_feature_guard.cc:210] This TensorFlow binary is optimized to use available CPU instructions in performance-critical operations.\n",
      "To enable the following instructions: AVX2 AVX_VNNI FMA, in other operations, rebuild TensorFlow with the appropriate compiler flags.\n",
      "2025-09-15 15:44:49.485480: I tensorflow/core/util/port.cc:153] oneDNN custom operations are on. You may see slightly different numerical results due to floating-point round-off errors from different computation orders. To turn them off, set the environment variable `TF_ENABLE_ONEDNN_OPTS=0`.\n"
     ]
    },
    {
     "data": {
      "text/html": [
       "<div>\n",
       "<style scoped>\n",
       "    .dataframe tbody tr th:only-of-type {\n",
       "        vertical-align: middle;\n",
       "    }\n",
       "\n",
       "    .dataframe tbody tr th {\n",
       "        vertical-align: top;\n",
       "    }\n",
       "\n",
       "    .dataframe thead th {\n",
       "        text-align: right;\n",
       "    }\n",
       "</style>\n",
       "<table border=\"1\" class=\"dataframe\">\n",
       "  <thead>\n",
       "    <tr style=\"text-align: right;\">\n",
       "      <th></th>\n",
       "      <th>id</th>\n",
       "      <th>class</th>\n",
       "      <th>url_audio</th>\n",
       "      <th>path</th>\n",
       "    </tr>\n",
       "  </thead>\n",
       "  <tbody>\n",
       "    <tr>\n",
       "      <th>0</th>\n",
       "      <td>d6926f64-65e5-47c7-99c4-700d493d599a</td>\n",
       "      <td>LEAK</td>\n",
       "      <td>https://4fluid-samples-audio.s3.sa-east-1.amaz...</td>\n",
       "      <td>/home/stevan/Documentos/4fluid-ia/data/audios/...</td>\n",
       "    </tr>\n",
       "    <tr>\n",
       "      <th>1</th>\n",
       "      <td>f2c7ef7e-ddd9-469d-859a-031948b08d6b</td>\n",
       "      <td>LEAK</td>\n",
       "      <td>https://4fluid-samples-audios.s3.sa-east-1.ama...</td>\n",
       "      <td>/home/stevan/Documentos/4fluid-ia/data/audios/...</td>\n",
       "    </tr>\n",
       "    <tr>\n",
       "      <th>2</th>\n",
       "      <td>c5e299e9-914f-426b-b5c0-da25ce47d9cb</td>\n",
       "      <td>LEAK</td>\n",
       "      <td>https://4fluid-samples-audio.s3.sa-east-1.amaz...</td>\n",
       "      <td>/home/stevan/Documentos/4fluid-ia/data/audios/...</td>\n",
       "    </tr>\n",
       "    <tr>\n",
       "      <th>3</th>\n",
       "      <td>260b0c06-ab60-4657-bfc0-e6e6a066712a</td>\n",
       "      <td>LEAK</td>\n",
       "      <td>https://4fluid-samples-audios.s3.sa-east-1.ama...</td>\n",
       "      <td>/home/stevan/Documentos/4fluid-ia/data/audios/...</td>\n",
       "    </tr>\n",
       "    <tr>\n",
       "      <th>4</th>\n",
       "      <td>6731a2ff-5961-4f8c-8a25-e6d37aa2eef3</td>\n",
       "      <td>LEAK</td>\n",
       "      <td>https://4fluid-samples-audio.s3.sa-east-1.amaz...</td>\n",
       "      <td>/home/stevan/Documentos/4fluid-ia/data/audios/...</td>\n",
       "    </tr>\n",
       "  </tbody>\n",
       "</table>\n",
       "</div>"
      ],
      "text/plain": [
       "                                     id class  \\\n",
       "0  d6926f64-65e5-47c7-99c4-700d493d599a  LEAK   \n",
       "1  f2c7ef7e-ddd9-469d-859a-031948b08d6b  LEAK   \n",
       "2  c5e299e9-914f-426b-b5c0-da25ce47d9cb  LEAK   \n",
       "3  260b0c06-ab60-4657-bfc0-e6e6a066712a  LEAK   \n",
       "4  6731a2ff-5961-4f8c-8a25-e6d37aa2eef3  LEAK   \n",
       "\n",
       "                                           url_audio  \\\n",
       "0  https://4fluid-samples-audio.s3.sa-east-1.amaz...   \n",
       "1  https://4fluid-samples-audios.s3.sa-east-1.ama...   \n",
       "2  https://4fluid-samples-audio.s3.sa-east-1.amaz...   \n",
       "3  https://4fluid-samples-audios.s3.sa-east-1.ama...   \n",
       "4  https://4fluid-samples-audio.s3.sa-east-1.amaz...   \n",
       "\n",
       "                                                path  \n",
       "0  /home/stevan/Documentos/4fluid-ia/data/audios/...  \n",
       "1  /home/stevan/Documentos/4fluid-ia/data/audios/...  \n",
       "2  /home/stevan/Documentos/4fluid-ia/data/audios/...  \n",
       "3  /home/stevan/Documentos/4fluid-ia/data/audios/...  \n",
       "4  /home/stevan/Documentos/4fluid-ia/data/audios/...  "
      ]
     },
     "metadata": {},
     "output_type": "display_data"
    },
    {
     "data": {
      "text/html": [
       "<div>\n",
       "<style scoped>\n",
       "    .dataframe tbody tr th:only-of-type {\n",
       "        vertical-align: middle;\n",
       "    }\n",
       "\n",
       "    .dataframe tbody tr th {\n",
       "        vertical-align: top;\n",
       "    }\n",
       "\n",
       "    .dataframe thead th {\n",
       "        text-align: right;\n",
       "    }\n",
       "</style>\n",
       "<table border=\"1\" class=\"dataframe\">\n",
       "  <thead>\n",
       "    <tr style=\"text-align: right;\">\n",
       "      <th></th>\n",
       "      <th>id</th>\n",
       "      <th>class</th>\n",
       "      <th>url_audio</th>\n",
       "      <th>path</th>\n",
       "    </tr>\n",
       "  </thead>\n",
       "  <tbody>\n",
       "    <tr>\n",
       "      <th>0</th>\n",
       "      <td>09753cbd-2201-4e21-bd83-eadba3e14130</td>\n",
       "      <td>LEAK</td>\n",
       "      <td>https://4fluid-samples-audio.s3.sa-east-1.amaz...</td>\n",
       "      <td>/home/stevan/Documentos/4fluid-ia/data/audios/...</td>\n",
       "    </tr>\n",
       "    <tr>\n",
       "      <th>1</th>\n",
       "      <td>244e2f24-33c2-47c4-829e-6b395e80041f</td>\n",
       "      <td>LEAK</td>\n",
       "      <td>https://4fluid-samples-audio.s3.sa-east-1.amaz...</td>\n",
       "      <td>/home/stevan/Documentos/4fluid-ia/data/audios/...</td>\n",
       "    </tr>\n",
       "    <tr>\n",
       "      <th>2</th>\n",
       "      <td>7373d90a-0d0d-4bce-abe0-fa083588b8c1</td>\n",
       "      <td>LEAK</td>\n",
       "      <td>https://4fluid-samples-audio.s3.sa-east-1.amaz...</td>\n",
       "      <td>/home/stevan/Documentos/4fluid-ia/data/audios/...</td>\n",
       "    </tr>\n",
       "    <tr>\n",
       "      <th>3</th>\n",
       "      <td>e942abf2-16e2-49b2-bd64-e1b3c51ebf1a</td>\n",
       "      <td>LEAK</td>\n",
       "      <td>https://4fluid-samples-audio.s3.sa-east-1.amaz...</td>\n",
       "      <td>/home/stevan/Documentos/4fluid-ia/data/audios/...</td>\n",
       "    </tr>\n",
       "    <tr>\n",
       "      <th>4</th>\n",
       "      <td>c6d62a6f-88bb-4915-9968-61491b2488ef</td>\n",
       "      <td>LEAK</td>\n",
       "      <td>https://4fluid-samples-audio.s3.sa-east-1.amaz...</td>\n",
       "      <td>/home/stevan/Documentos/4fluid-ia/data/audios/...</td>\n",
       "    </tr>\n",
       "  </tbody>\n",
       "</table>\n",
       "</div>"
      ],
      "text/plain": [
       "                                     id class  \\\n",
       "0  09753cbd-2201-4e21-bd83-eadba3e14130  LEAK   \n",
       "1  244e2f24-33c2-47c4-829e-6b395e80041f  LEAK   \n",
       "2  7373d90a-0d0d-4bce-abe0-fa083588b8c1  LEAK   \n",
       "3  e942abf2-16e2-49b2-bd64-e1b3c51ebf1a  LEAK   \n",
       "4  c6d62a6f-88bb-4915-9968-61491b2488ef  LEAK   \n",
       "\n",
       "                                           url_audio  \\\n",
       "0  https://4fluid-samples-audio.s3.sa-east-1.amaz...   \n",
       "1  https://4fluid-samples-audio.s3.sa-east-1.amaz...   \n",
       "2  https://4fluid-samples-audio.s3.sa-east-1.amaz...   \n",
       "3  https://4fluid-samples-audio.s3.sa-east-1.amaz...   \n",
       "4  https://4fluid-samples-audio.s3.sa-east-1.amaz...   \n",
       "\n",
       "                                                path  \n",
       "0  /home/stevan/Documentos/4fluid-ia/data/audios/...  \n",
       "1  /home/stevan/Documentos/4fluid-ia/data/audios/...  \n",
       "2  /home/stevan/Documentos/4fluid-ia/data/audios/...  \n",
       "3  /home/stevan/Documentos/4fluid-ia/data/audios/...  \n",
       "4  /home/stevan/Documentos/4fluid-ia/data/audios/...  "
      ]
     },
     "metadata": {},
     "output_type": "display_data"
    }
   ],
   "source": [
    "from sklearn.metrics import confusion_matrix\n",
    "\n",
    "from data.dvc_loader import dvc_load_database_metadata\n",
    "from data.dvc_catalog import DatabasesDVC, DatabaseSetsDVC\n",
    "from research.clustering_embeddings_soft_voting.dash_units import plot_mixture_model_dispersion\n",
    "\n",
    "df_train = dvc_load_database_metadata(DatabasesDVC.ONBOARDING, DatabaseSetsDVC.TRAIN)\n",
    "df_test = dvc_load_database_metadata(DatabasesDVC.ONBOARDING, DatabaseSetsDVC.TEST)\n",
    "\n",
    "display(df_train.head())\n",
    "display(df_test.head())"
   ]
  },
  {
   "cell_type": "markdown",
   "id": "7ecf4a4b22619bcf",
   "metadata": {},
   "source": [
    "# 2. Dataset Exploration: Example Audio Samples\n",
    "\n",
    "Now that we have the dataset metadata, we can explore some examples from each class.\n",
    "The idea is to visualize the raw audio as **mel spectrograms**, which are widely used features in audio analysis and machine learning.\n",
    "\n",
    "### What is a Mel Spectrogram?\n",
    "- A **spectrogram** shows how the frequency content of a signal evolves over time.\n",
    "- The **mel scale** is a perceptual scale that maps frequencies to how humans perceive pitch, compressing high frequencies and emphasizing low ones.\n",
    "- By plotting mel spectrograms, we can see the differences between classes in a way that resembles how humans perceive sound.\n",
    "\n",
    "### Procedure\n",
    "1. We randomly select `n` samples from each class.\n",
    "2. For each audio file:\n",
    "   - Load the waveform from `data/audio/`.\n",
    "   - Compute the **mel spectrogram** using `librosa`.\n",
    "   - Convert the power values to decibels (dB) for better visualization.\n",
    "3. Display the spectrograms in a grid:\n",
    "   - **Columns** = classes.\n",
    "   - **Rows** = different examples.\n",
    "\n",
    "This helps us:\n",
    "- Get an intuition of the dataset distribution.\n",
    "- Verify if files are correctly loaded.\n",
    "- Observe class-specific acoustic patterns (e.g., leakage frequencies vs. non-leakage, external noise-sound events)."
   ]
  },
  {
   "cell_type": "code",
   "execution_count": 2,
   "id": "4538a5e637720ed6",
   "metadata": {
    "ExecuteTime": {
     "end_time": "2025-09-11T18:56:28.516632Z",
     "start_time": "2025-09-11T18:56:28.509270Z"
    }
   },
   "outputs": [
    {
     "data": {
      "text/html": [
       "<div>\n",
       "<style scoped>\n",
       "    .dataframe tbody tr th:only-of-type {\n",
       "        vertical-align: middle;\n",
       "    }\n",
       "\n",
       "    .dataframe tbody tr th {\n",
       "        vertical-align: top;\n",
       "    }\n",
       "\n",
       "    .dataframe thead th {\n",
       "        text-align: right;\n",
       "    }\n",
       "</style>\n",
       "<table border=\"1\" class=\"dataframe\">\n",
       "  <thead>\n",
       "    <tr style=\"text-align: right;\">\n",
       "      <th></th>\n",
       "      <th>id</th>\n",
       "      <th>class</th>\n",
       "      <th>url_audio</th>\n",
       "      <th>path</th>\n",
       "    </tr>\n",
       "  </thead>\n",
       "  <tbody>\n",
       "    <tr>\n",
       "      <th>0</th>\n",
       "      <td>c849b755-b74e-4f97-a5be-cf9d52f3dea7</td>\n",
       "      <td>LEAK</td>\n",
       "      <td>https://4fluid-samples-audio.s3.sa-east-1.amaz...</td>\n",
       "      <td>/home/stevan/Documentos/4fluid-ia/data/audios/...</td>\n",
       "    </tr>\n",
       "    <tr>\n",
       "      <th>1</th>\n",
       "      <td>1fa664d3-6051-46b8-9274-3e13a1ca9609</td>\n",
       "      <td>LEAK</td>\n",
       "      <td>https://4fluid-samples-audio.s3.sa-east-1.amaz...</td>\n",
       "      <td>/home/stevan/Documentos/4fluid-ia/data/audios/...</td>\n",
       "    </tr>\n",
       "    <tr>\n",
       "      <th>2</th>\n",
       "      <td>ac9dc0c3-f342-4095-97a7-43e6f0317edb</td>\n",
       "      <td>LEAK</td>\n",
       "      <td>https://4fluid-samples-audio.s3.sa-east-1.amaz...</td>\n",
       "      <td>/home/stevan/Documentos/4fluid-ia/data/audios/...</td>\n",
       "    </tr>\n",
       "    <tr>\n",
       "      <th>3</th>\n",
       "      <td>5d9c4c7f-a834-4290-ae66-69beeb492d42</td>\n",
       "      <td>LEAK</td>\n",
       "      <td>https://4fluid-samples-audio.s3.sa-east-1.amaz...</td>\n",
       "      <td>/home/stevan/Documentos/4fluid-ia/data/audios/...</td>\n",
       "    </tr>\n",
       "    <tr>\n",
       "      <th>4</th>\n",
       "      <td>5ff39295-1e1d-4328-9f37-25f40fc97c96</td>\n",
       "      <td>LEAK</td>\n",
       "      <td>https://4fluid-samples-audio.s3.sa-east-1.amaz...</td>\n",
       "      <td>/home/stevan/Documentos/4fluid-ia/data/audios/...</td>\n",
       "    </tr>\n",
       "    <tr>\n",
       "      <th>5</th>\n",
       "      <td>1790d393-122c-49c6-8cf7-7c2f6bf1efdb</td>\n",
       "      <td>LESS</td>\n",
       "      <td>https://4fluid-samples-audio.s3.sa-east-1.amaz...</td>\n",
       "      <td>/home/stevan/Documentos/4fluid-ia/data/audios/...</td>\n",
       "    </tr>\n",
       "    <tr>\n",
       "      <th>6</th>\n",
       "      <td>1c8d6db2-ba02-4fe6-a058-1bb88c6bb3a5</td>\n",
       "      <td>LESS</td>\n",
       "      <td>https://4fluid-samples-audio.s3.sa-east-1.amaz...</td>\n",
       "      <td>/home/stevan/Documentos/4fluid-ia/data/audios/...</td>\n",
       "    </tr>\n",
       "    <tr>\n",
       "      <th>7</th>\n",
       "      <td>550e74a2-0a99-4caa-8014-ca4cd3fbd565</td>\n",
       "      <td>LESS</td>\n",
       "      <td>https://4fluid-samples-audio.s3.sa-east-1.amaz...</td>\n",
       "      <td>/home/stevan/Documentos/4fluid-ia/data/audios/...</td>\n",
       "    </tr>\n",
       "    <tr>\n",
       "      <th>8</th>\n",
       "      <td>e94a8a69-d8e0-4c64-a9d6-7f836c6c5ab9</td>\n",
       "      <td>LESS</td>\n",
       "      <td>https://4fluid-samples-audio.s3.sa-east-1.amaz...</td>\n",
       "      <td>/home/stevan/Documentos/4fluid-ia/data/audios/...</td>\n",
       "    </tr>\n",
       "    <tr>\n",
       "      <th>9</th>\n",
       "      <td>245aa098-5c19-4352-8053-834e5834bc4b</td>\n",
       "      <td>LESS</td>\n",
       "      <td>https://4fluid-samples-audio.s3.sa-east-1.amaz...</td>\n",
       "      <td>/home/stevan/Documentos/4fluid-ia/data/audios/...</td>\n",
       "    </tr>\n",
       "  </tbody>\n",
       "</table>\n",
       "</div>"
      ],
      "text/plain": [
       "                                     id class  \\\n",
       "0  c849b755-b74e-4f97-a5be-cf9d52f3dea7  LEAK   \n",
       "1  1fa664d3-6051-46b8-9274-3e13a1ca9609  LEAK   \n",
       "2  ac9dc0c3-f342-4095-97a7-43e6f0317edb  LEAK   \n",
       "3  5d9c4c7f-a834-4290-ae66-69beeb492d42  LEAK   \n",
       "4  5ff39295-1e1d-4328-9f37-25f40fc97c96  LEAK   \n",
       "5  1790d393-122c-49c6-8cf7-7c2f6bf1efdb  LESS   \n",
       "6  1c8d6db2-ba02-4fe6-a058-1bb88c6bb3a5  LESS   \n",
       "7  550e74a2-0a99-4caa-8014-ca4cd3fbd565  LESS   \n",
       "8  e94a8a69-d8e0-4c64-a9d6-7f836c6c5ab9  LESS   \n",
       "9  245aa098-5c19-4352-8053-834e5834bc4b  LESS   \n",
       "\n",
       "                                           url_audio  \\\n",
       "0  https://4fluid-samples-audio.s3.sa-east-1.amaz...   \n",
       "1  https://4fluid-samples-audio.s3.sa-east-1.amaz...   \n",
       "2  https://4fluid-samples-audio.s3.sa-east-1.amaz...   \n",
       "3  https://4fluid-samples-audio.s3.sa-east-1.amaz...   \n",
       "4  https://4fluid-samples-audio.s3.sa-east-1.amaz...   \n",
       "5  https://4fluid-samples-audio.s3.sa-east-1.amaz...   \n",
       "6  https://4fluid-samples-audio.s3.sa-east-1.amaz...   \n",
       "7  https://4fluid-samples-audio.s3.sa-east-1.amaz...   \n",
       "8  https://4fluid-samples-audio.s3.sa-east-1.amaz...   \n",
       "9  https://4fluid-samples-audio.s3.sa-east-1.amaz...   \n",
       "\n",
       "                                                path  \n",
       "0  /home/stevan/Documentos/4fluid-ia/data/audios/...  \n",
       "1  /home/stevan/Documentos/4fluid-ia/data/audios/...  \n",
       "2  /home/stevan/Documentos/4fluid-ia/data/audios/...  \n",
       "3  /home/stevan/Documentos/4fluid-ia/data/audios/...  \n",
       "4  /home/stevan/Documentos/4fluid-ia/data/audios/...  \n",
       "5  /home/stevan/Documentos/4fluid-ia/data/audios/...  \n",
       "6  /home/stevan/Documentos/4fluid-ia/data/audios/...  \n",
       "7  /home/stevan/Documentos/4fluid-ia/data/audios/...  \n",
       "8  /home/stevan/Documentos/4fluid-ia/data/audios/...  \n",
       "9  /home/stevan/Documentos/4fluid-ia/data/audios/...  "
      ]
     },
     "execution_count": 2,
     "metadata": {},
     "output_type": "execute_result"
    }
   ],
   "source": [
    "import librosa\n",
    "import librosa.feature\n",
    "import numpy as np\n",
    "from matplotlib import pyplot as plt\n",
    "\n",
    "n_samples = 5\n",
    "\n",
    "examples = (\n",
    "    df_train.groupby(by=\"class\")[df_train.columns]\n",
    "      .apply(lambda x: x.sample(n=min(n_samples, len(x)), random_state=42))\n",
    "      .reset_index(drop=True)\n",
    ")\n",
    "\n",
    "examples"
   ]
  },
  {
   "cell_type": "code",
   "execution_count": 3,
   "id": "f35e79501ad6ebf8",
   "metadata": {
    "ExecuteTime": {
     "end_time": "2025-09-11T18:56:29.067819Z",
     "start_time": "2025-09-11T18:56:28.571382Z"
    }
   },
   "outputs": [
    {
     "data": {
      "text/plain": [
       "'Sample rate 16000Hz'"
      ]
     },
     "metadata": {},
     "output_type": "display_data"
    },
    {
     "data": {
      "text/plain": [
       "'Duration 10.0s'"
      ]
     },
     "metadata": {},
     "output_type": "display_data"
    }
   ],
   "source": [
    "filename = examples.iloc[0][\"path\"]\n",
    "y, sr = librosa.load(filename, sr=None, mono=True)\n",
    "duration = librosa.get_duration(y=y, sr=sr)\n",
    "\n",
    "display(f\"Sample rate {sr}Hz\")\n",
    "display(f\"Duration {duration}s\")"
   ]
  },
  {
   "cell_type": "code",
   "execution_count": 4,
   "id": "f6279bb2e6da9a99",
   "metadata": {
    "ExecuteTime": {
     "end_time": "2025-09-11T18:56:30.124711Z",
     "start_time": "2025-09-11T18:56:29.113748Z"
    }
   },
   "outputs": [
    {
     "name": "stderr",
     "output_type": "stream",
     "text": [
      "/tmp/ipykernel_7924/3822233404.py:22: UserWarning: FigureCanvasAgg is non-interactive, and thus cannot be shown\n",
      "  plt.show()\n"
     ]
    }
   ],
   "source": [
    "# Plot mel spectrograms\n",
    "fig, axes = plt.subplots(\n",
    "    nrows=n_samples, ncols=examples[\"class\"].nunique(),\n",
    "    figsize=(15, 2.5 * n_samples)\n",
    ")\n",
    "\n",
    "if axes.ndim == 1:\n",
    "    axes = axes[None, :]  # ensure 2D\n",
    "\n",
    "for col_idx, (cls, group) in enumerate(examples.groupby(\"class\")):\n",
    "    for row_idx, (_, row) in enumerate(group.iterrows()):\n",
    "        y, sr = librosa.load(row[\"path\"], sr=None, mono=True)\n",
    "        S = librosa.feature.melspectrogram(y=y, sr=sr, n_mels=64)\n",
    "        S_db = librosa.power_to_db(S, ref=np.max)\n",
    "\n",
    "        ax = axes[row_idx, col_idx]\n",
    "        img = librosa.display.specshow(S_db, sr=sr, x_axis=\"time\", y_axis=\"mel\", ax=ax)\n",
    "        ax.set_title(f\"Class: {cls}, id: {row['id']}\")\n",
    "        fig.colorbar(img, ax=ax, format=\"%+2.0f dB\")\n",
    "\n",
    "plt.tight_layout()\n",
    "plt.show()"
   ]
  },
  {
   "cell_type": "markdown",
   "id": "dc1211f72e20c148",
   "metadata": {},
   "source": [
    "# 3. Basic Feature Exploration\n",
    "\n",
    "To understand our dataset better, we extract simple audio features from each sample.\n",
    "We look at both **temporal** and **spectral** characteristics:\n",
    "\n",
    "- **RMS Energy**: overall signal energy.\n",
    "- **Zero Crossing Rate (ZCR)**: how often the signal changes sign, linked to noisiness.\n",
    "- **Spectral Centroid**: \"center of mass\" of the spectrum, perceived brightness.\n",
    "- **Spectral Bandwidth**: spread of the spectrum around the centroid.\n"
   ]
  },
  {
   "cell_type": "code",
   "execution_count": 5,
   "id": "f3d32148217c003c",
   "metadata": {
    "ExecuteTime": {
     "end_time": "2025-09-11T18:56:37.058211Z",
     "start_time": "2025-09-11T18:56:30.141710Z"
    }
   },
   "outputs": [
    {
     "data": {
      "text/html": [
       "<div>\n",
       "<style scoped>\n",
       "    .dataframe tbody tr th:only-of-type {\n",
       "        vertical-align: middle;\n",
       "    }\n",
       "\n",
       "    .dataframe tbody tr th {\n",
       "        vertical-align: top;\n",
       "    }\n",
       "\n",
       "    .dataframe thead th {\n",
       "        text-align: right;\n",
       "    }\n",
       "</style>\n",
       "<table border=\"1\" class=\"dataframe\">\n",
       "  <thead>\n",
       "    <tr style=\"text-align: right;\">\n",
       "      <th></th>\n",
       "      <th>rms</th>\n",
       "      <th>zcr</th>\n",
       "      <th>centroid</th>\n",
       "      <th>bandwidth</th>\n",
       "      <th>class</th>\n",
       "      <th>id</th>\n",
       "    </tr>\n",
       "  </thead>\n",
       "  <tbody>\n",
       "    <tr>\n",
       "      <th>0</th>\n",
       "      <td>0.002495</td>\n",
       "      <td>0.129271</td>\n",
       "      <td>1677.504967</td>\n",
       "      <td>1775.653236</td>\n",
       "      <td>LEAK</td>\n",
       "      <td>d6926f64-65e5-47c7-99c4-700d493d599a</td>\n",
       "    </tr>\n",
       "    <tr>\n",
       "      <th>1</th>\n",
       "      <td>0.004748</td>\n",
       "      <td>0.166485</td>\n",
       "      <td>1753.877128</td>\n",
       "      <td>1530.121579</td>\n",
       "      <td>LEAK</td>\n",
       "      <td>f2c7ef7e-ddd9-469d-859a-031948b08d6b</td>\n",
       "    </tr>\n",
       "    <tr>\n",
       "      <th>2</th>\n",
       "      <td>0.029198</td>\n",
       "      <td>0.145470</td>\n",
       "      <td>1527.576173</td>\n",
       "      <td>1526.895509</td>\n",
       "      <td>LEAK</td>\n",
       "      <td>c5e299e9-914f-426b-b5c0-da25ce47d9cb</td>\n",
       "    </tr>\n",
       "    <tr>\n",
       "      <th>3</th>\n",
       "      <td>0.003144</td>\n",
       "      <td>0.084942</td>\n",
       "      <td>1234.877993</td>\n",
       "      <td>1535.706186</td>\n",
       "      <td>LEAK</td>\n",
       "      <td>260b0c06-ab60-4657-bfc0-e6e6a066712a</td>\n",
       "    </tr>\n",
       "    <tr>\n",
       "      <th>4</th>\n",
       "      <td>0.004198</td>\n",
       "      <td>0.156521</td>\n",
       "      <td>1706.933305</td>\n",
       "      <td>1581.159489</td>\n",
       "      <td>LEAK</td>\n",
       "      <td>6731a2ff-5961-4f8c-8a25-e6d37aa2eef3</td>\n",
       "    </tr>\n",
       "  </tbody>\n",
       "</table>\n",
       "</div>"
      ],
      "text/plain": [
       "        rms       zcr     centroid    bandwidth class  \\\n",
       "0  0.002495  0.129271  1677.504967  1775.653236  LEAK   \n",
       "1  0.004748  0.166485  1753.877128  1530.121579  LEAK   \n",
       "2  0.029198  0.145470  1527.576173  1526.895509  LEAK   \n",
       "3  0.003144  0.084942  1234.877993  1535.706186  LEAK   \n",
       "4  0.004198  0.156521  1706.933305  1581.159489  LEAK   \n",
       "\n",
       "                                     id  \n",
       "0  d6926f64-65e5-47c7-99c4-700d493d599a  \n",
       "1  f2c7ef7e-ddd9-469d-859a-031948b08d6b  \n",
       "2  c5e299e9-914f-426b-b5c0-da25ce47d9cb  \n",
       "3  260b0c06-ab60-4657-bfc0-e6e6a066712a  \n",
       "4  6731a2ff-5961-4f8c-8a25-e6d37aa2eef3  "
      ]
     },
     "execution_count": 5,
     "metadata": {},
     "output_type": "execute_result"
    }
   ],
   "source": [
    "import pandas as pd\n",
    "import seaborn as sns\n",
    "\n",
    "def extract_features(audio_path):\n",
    "    y, sr = librosa.load(audio_path, sr=None, mono=True)\n",
    "\n",
    "    rms = np.mean(librosa.feature.rms(y=y))\n",
    "    zcr = np.mean(librosa.feature.zero_crossing_rate(y=y))\n",
    "    centroid = np.mean(librosa.feature.spectral_centroid(y=y, sr=sr))\n",
    "    bandwidth = np.mean(librosa.feature.spectral_bandwidth(y=y, sr=sr))\n",
    "\n",
    "    return {\n",
    "        \"rms\": rms,\n",
    "        \"zcr\": zcr,\n",
    "        \"centroid\": centroid,\n",
    "        \"bandwidth\": bandwidth,\n",
    "    }\n",
    "\n",
    "# Extract features for all dataset entries\n",
    "features = []\n",
    "for _, row in df_train.iterrows():\n",
    "    feats = extract_features(row[\"path\"])\n",
    "    feats[\"class\"] = row[\"class\"]\n",
    "    feats[\"id\"] = row[\"id\"]\n",
    "    features.append(feats)\n",
    "\n",
    "features_df = pd.DataFrame(features)\n",
    "features_df.head()"
   ]
  },
  {
   "cell_type": "markdown",
   "id": "ea5bec9554001c89",
   "metadata": {},
   "source": [
    "By plotting their distributions across classes, we can check if features differ and might be useful for classification.\n",
    "\n",
    "This helps identify whether combinations of features (e.g., spectral centroid vs. bandwidth) separate the classes better than a single feature alone.\n",
    "\n",
    "We’ll use **Seaborn’s `pairplot`** to generate scatter plots for each feature pair, color-coded by class."
   ]
  },
  {
   "cell_type": "code",
   "execution_count": 6,
   "id": "2d6ccb42ad5bde84",
   "metadata": {
    "ExecuteTime": {
     "end_time": "2025-09-11T18:56:37.809987Z",
     "start_time": "2025-09-11T18:56:37.084086Z"
    }
   },
   "outputs": [
    {
     "name": "stderr",
     "output_type": "stream",
     "text": [
      "/tmp/ipykernel_7924/1267499028.py:5: UserWarning: FigureCanvasAgg is non-interactive, and thus cannot be shown\n",
      "  plt.show()\n"
     ]
    }
   ],
   "source": [
    "pairplot_df = features_df[[\"rms\", \"zcr\", \"centroid\", \"bandwidth\", \"class\"]]\n",
    "\n",
    "sns.pairplot(pairplot_df, hue=\"class\", diag_kind=\"kde\", corner=True, plot_kws={\"alpha\":0.6})\n",
    "plt.suptitle(\"Pairwise Feature Distributions by Class\", y=1.02)\n",
    "plt.show()"
   ]
  },
  {
   "cell_type": "markdown",
   "id": "16b75741a8d4ed86",
   "metadata": {},
   "source": [
    "# 4. Preprocessing Techniques\n",
    "\n",
    "Before training models, raw audio typically goes through a series of **preprocessing steps**.\n",
    "These steps ensure consistency across the dataset, reduce noise, and highlight features relevant to the task.\n",
    "Below are common techniques:\n",
    "\n",
    "---\n",
    "\n",
    "### 1. Resampling\n",
    "- **What**: Convert all audio to a fixed sample rate (e.g., 16 kHz).\n",
    "- **Why**: Ensures uniformity; models cannot easily handle inputs with varying sampling rates.\n",
    "\n",
    "---\n",
    "\n",
    "### 2. Trimming / Silence Removal\n",
    "- **What**: Remove leading/trailing silence.\n",
    "- **Why**: Prevents silence from dominating features and wasting model capacity.\n",
    "\n",
    "---\n",
    "\n",
    "### 3. Normalization\n",
    "- **What**: Scale audio amplitude (e.g., peak or RMS normalization).\n",
    "- **Why**: Ensures that loudness does not bias the model.\n",
    "- **Approach**: Divide waveform by max amplitude or normalize RMS energy.\n",
    "\n",
    "---\n",
    "\n",
    "### 4. Framing & Windowing\n",
    "- **What**: Split the audio into overlapping short frames (e.g., 25 ms with 10 ms overlap).\n",
    "- **Why**: Captures temporal dynamics; most features (spectrograms, MFCCs) are computed per frame.\n",
    "\n",
    "---\n",
    "\n",
    "### 5. Feature Extraction\n",
    "Common feature representations:\n",
    "- **Spectrogram / Mel Spectrogram**: Time-frequency representation, perceptually relevant.\n",
    "- **MFCC (Mel-Frequency Cepstral Coefficients)**: Compressed mel representation, popular in speech/audio tasks.\n",
    "\n",
    "---\n",
    "\n",
    "### 6. Data Augmentation (optional)\n",
    "- **What**: Apply transformations to increase variability.\n",
    "- **Examples**:\n",
    "  - Pitch shifting\n",
    "  - Adding background noise\n",
    "- **Why**: Improves model robustness to real-world variations.\n",
    "\n",
    "---\n",
    "\n",
    "### 7. Padding / Cropping\n",
    "- **What**: Standardize clip lengths (fixed duration).\n",
    "- **Why**: Models often expect consistent input size.\n",
    "- **Approach**:\n",
    "  - Pad with zeros if shorter.\n",
    "  - Crop or segment if longer.\n",
    "\n",
    "---\n",
    "\n",
    "## Summary\n",
    "By combining these preprocessing techniques, we ensure that:\n",
    "- All samples have consistent format and quality.\n",
    "- Irrelevant parts (silence, noise) are reduced.\n",
    "- Relevant acoustic patterns are emphasized for classification.\n",
    "\n",
    "\n",
    "## 4.1 Filtering\n",
    "\n",
    "Below we show how to apply a simple filter to the audio and then split it into frames for feature extraction.\n",
    "- **High-pass filter**: Remove low-frequency noise such as hums (< 150 Hz).\n",
    "- **Median filter**: Suppress short bursts of noise (e.g., spectral median filtering)\n"
   ]
  },
  {
   "cell_type": "code",
   "execution_count": 7,
   "id": "7bef174e82faf9a",
   "metadata": {
    "ExecuteTime": {
     "end_time": "2025-09-11T18:56:39.201862Z",
     "start_time": "2025-09-11T18:56:37.856544Z"
    }
   },
   "outputs": [
    {
     "name": "stderr",
     "output_type": "stream",
     "text": [
      "/tmp/ipykernel_7924/3733113996.py:46: UserWarning: FigureCanvasAgg is non-interactive, and thus cannot be shown\n",
      "  plt.show()\n"
     ]
    }
   ],
   "source": [
    "from scipy.signal import butter, lfilter, medfilt\n",
    "\n",
    "# Define high-pass filter\n",
    "def butter_highpass(cutoff, fs, order=5):\n",
    "    nyquist = 0.5 * fs\n",
    "    high = cutoff / nyquist\n",
    "    b, a = butter(order, high, btype=\"high\")\n",
    "    return b, a\n",
    "\n",
    "def highpass_filter(data, cutoff, fs, order=5):\n",
    "    b, a = butter_highpass(cutoff, fs, order=order)\n",
    "    return lfilter(b, a, data)\n",
    "\n",
    "\n",
    "# Plot mel spectrograms\n",
    "fig, axes = plt.subplots(\n",
    "    nrows=n_samples, ncols=examples[\"class\"].nunique(),\n",
    "    figsize=(15, 2.5 * n_samples)\n",
    ")\n",
    "\n",
    "if axes.ndim == 1:\n",
    "    axes = axes[None, :]  # ensure 2D\n",
    "\n",
    "examples_leak = examples[examples[\"class\"] == \"LEAK\"]\n",
    "for row_idx, (_, row) in enumerate(examples_leak.iterrows()):\n",
    "    y, sr = librosa.load(row[\"path\"], sr=None, mono=True)\n",
    "    S = librosa.feature.melspectrogram(y=y, sr=sr, n_mels=64)\n",
    "    S_db = librosa.power_to_db(S, ref=np.max)\n",
    "\n",
    "    x_hp = highpass_filter(y, cutoff=150, fs=sr)\n",
    "    x_hp = medfilt(x_hp, kernel_size=5)\n",
    "    S_hp = librosa.feature.melspectrogram(y=x_hp, sr=sr, n_mels=64)\n",
    "    S_db_hp = librosa.power_to_db(S_hp, ref=np.max)\n",
    "\n",
    "    ax = axes[row_idx, 0]\n",
    "    img = librosa.display.specshow(S_db, sr=sr, x_axis=\"time\", y_axis=\"mel\", ax=ax)\n",
    "    ax.set_title(f\"Original, id: {row['id']}\")\n",
    "    fig.colorbar(img, ax=ax, format=\"%+2.0f dB\")\n",
    "\n",
    "    ax = axes[row_idx, 1]\n",
    "    img = librosa.display.specshow(S_db_hp, sr=sr, x_axis=\"time\", y_axis=\"mel\", ax=ax)\n",
    "    ax.set_title(f\"Filtered, id: {row['id']}\")\n",
    "    fig.colorbar(img, ax=ax, format=\"%+2.0f dB\")\n",
    "\n",
    "plt.tight_layout()\n",
    "plt.show()"
   ]
  },
  {
   "cell_type": "markdown",
   "id": "e875b1f00711b408",
   "metadata": {},
   "source": [
    "# 4.2 Framing and Feature Extraction\n",
    "\n",
    "### Why Framing?\n",
    "- Audio signals are **non-stationary**: their frequency content changes over time.\n",
    "- To capture this, we divide the signal into **short overlapping frames** (e.g., 25 ms with 10 ms hop).\n",
    "- On each frame we extract features, resulting in a time series of descriptors.\n",
    "\n",
    "![](assets/frames.png)\n",
    "\n",
    "### Common Frame-Based Features\n",
    "- **Energy / RMS**: how strong the signal is in the frame.\n",
    "- **Zero Crossing Rate (ZCR)**: noisiness of the frame.\n",
    "- **Spectral Centroid**: brightness (where the spectrum \"center of mass\" lies).\n",
    "- **MFCCs**: compact representation of the spectrum, widely used in speech/audio ML."
   ]
  },
  {
   "cell_type": "code",
   "execution_count": 8,
   "id": "63c66a709c264425",
   "metadata": {
    "ExecuteTime": {
     "end_time": "2025-09-11T18:56:39.443412Z",
     "start_time": "2025-09-11T18:56:39.222146Z"
    }
   },
   "outputs": [
    {
     "name": "stderr",
     "output_type": "stream",
     "text": [
      "/tmp/ipykernel_7924/1785002793.py:35: UserWarning: FigureCanvasAgg is non-interactive, and thus cannot be shown\n",
      "  plt.show()\n",
      "/tmp/ipykernel_7924/1785002793.py:42: UserWarning: FigureCanvasAgg is non-interactive, and thus cannot be shown\n",
      "  plt.show()\n"
     ]
    }
   ],
   "source": [
    "audio_filename = df_train.iloc[0][\"path\"]\n",
    "x, fs = librosa.load(audio_filename, sr=None, mono=True)\n",
    "\n",
    "# Parameters for framing\n",
    "frame_length = int(0.25 * fs)  # 250 ms\n",
    "hop_length = int(0.10 * fs)    # 100 ms\n",
    "\n",
    "# Compute frame-level features\n",
    "rms = librosa.feature.rms(y=x, frame_length=frame_length, hop_length=hop_length)[0]\n",
    "zcr = librosa.feature.zero_crossing_rate(y=x, frame_length=frame_length, hop_length=hop_length)[0]\n",
    "centroid = librosa.feature.spectral_centroid(y=x, sr=fs, n_fft=frame_length, hop_length=hop_length)[0]\n",
    "mfcc = librosa.feature.mfcc(y=x, sr=fs, n_mfcc=13, n_fft=frame_length, hop_length=hop_length)\n",
    "\n",
    "# Time axis for frames\n",
    "times = librosa.frames_to_time(np.arange(len(rms)), sr=fs, hop_length=hop_length)\n",
    "\n",
    "# Plot example: RMS, ZCR, Centroid\n",
    "fig, axes = plt.subplots(3, 1, figsize=(12, 8), sharex=True)\n",
    "\n",
    "axes[0].plot(times, rms, label=\"RMS Energy\")\n",
    "axes[0].set_ylabel(\"Energy\")\n",
    "axes[0].legend()\n",
    "\n",
    "axes[1].plot(times, zcr, label=\"Zero Crossing Rate\", color=\"orange\")\n",
    "axes[1].set_ylabel(\"ZCR\")\n",
    "axes[1].legend()\n",
    "\n",
    "axes[2].plot(times, centroid, label=\"Spectral Centroid\", color=\"green\")\n",
    "axes[2].set_ylabel(\"Hz\")\n",
    "axes[2].set_xlabel(\"Time (s)\")\n",
    "axes[2].legend()\n",
    "\n",
    "plt.suptitle(\"Frame-Based Feature Extraction\")\n",
    "plt.tight_layout()\n",
    "plt.show()\n",
    "\n",
    "# Optional: plot MFCCs as heatmap\n",
    "plt.figure(figsize=(10, 4))\n",
    "librosa.display.specshow(mfcc, sr=fs, hop_length=hop_length, x_axis=\"time\")\n",
    "plt.colorbar(label=\"MFCC Coefficients\")\n",
    "plt.title(\"MFCCs per Frame\")\n",
    "plt.show()"
   ]
  },
  {
   "cell_type": "markdown",
   "id": "ec0e13f1329c1e9a",
   "metadata": {},
   "source": [
    "# 5. 4Fluid Audio Features\n",
    "\n",
    "We provide a set of utilities in `fluid.sdk_audio.preprocessing` to handle common audio preprocessing tasks.\n",
    "Below are the basic methods used in the pipeline:\n",
    "\n",
    "1. `AudioUtil.readingFile(path)`\n",
    "- Loads the audio waveform and sampling rate.\n",
    "- Returns: `(waveform, sampling_rate)`.\n",
    "\n",
    "2. `CropUtil.crop(x, crop_start, crop_end, duration, fs)`\n",
    "- Crops the audio signal to a fixed segment.\n",
    "- Parameters:\n",
    "  - `crop_start`: crop first samples in seconds.\n",
    "  - `crop_end`: crop last samples in seconds.\n",
    "  - `duration`: length of the segment to keep (seconds). Currently, have no effect on the output.\n",
    "  - `fs`: sampling rate.\n",
    "- Useful to standardize input length or focus on a specific segment.\n",
    "\n",
    "3. `ResampleUtil.resample(x, fs, target_fs)`\n",
    "- Resamples the waveform to a new sampling rate (`target_fs`).\n",
    "- Ensures all audio samples have a consistent sampling rate for feature extraction.\n",
    "\n",
    "4. Mean removal and noise injection\n",
    "- `x = x - np.mean(x)`: removes the DC offset (centers the signal).\n",
    "- `x = x + 1e-10 * np.random.rand(x.size)`: adds tiny noise to avoid numerical issues (e.g., zero-only signals).\n",
    "\n",
    "---\n",
    "\n",
    "# Original vs. Processed Audio\n",
    "\n",
    "Below, we visualize the effect of preprocessing by plotting the waveform **before and after**."
   ]
  },
  {
   "cell_type": "code",
   "execution_count": 9,
   "id": "678e5f4294046def",
   "metadata": {
    "ExecuteTime": {
     "end_time": "2025-09-11T19:13:36.188727Z",
     "start_time": "2025-09-11T19:13:35.866097Z"
    }
   },
   "outputs": [
    {
     "name": "stderr",
     "output_type": "stream",
     "text": [
      "/tmp/ipykernel_7924/710861517.py:26: UserWarning: FigureCanvasAgg is non-interactive, and thus cannot be shown\n",
      "  plt.show()\n"
     ]
    }
   ],
   "source": [
    "from fluid.sdk_audio.preprocessing.audio import AudioUtil\n",
    "from fluid.sdk_audio.preprocessing.crop import CropUtil\n",
    "from fluid.sdk_audio.preprocessing.resample import ResampleUtil\n",
    "\n",
    "x_orig, fs_orig = AudioUtil.readingFile(\"assets/leakage_barks.wav\")\n",
    "x_proc = CropUtil.crop(x_orig, 1, 0, 10, fs_orig)\n",
    "\n",
    "fs_proc = 8000\n",
    "x_proc = ResampleUtil.resample(x_proc, fs_orig, fs_proc)\n",
    "x_proc = x_proc - np.mean(x_proc)\n",
    "x_proc = x_proc + 1e-10 * np.random.rand(x_proc.size)\n",
    "\n",
    "fig, axes = plt.subplots(1, 2, figsize=(12, 6), sharex=False)\n",
    "\n",
    "axes[0].plot(np.linspace(0, len(x_orig)/fs_orig, len(x_orig)), x_orig)\n",
    "axes[0].set_title(\"Original Audio\")\n",
    "axes[0].set_xlabel(\"Time (s)\")\n",
    "axes[0].set_ylabel(\"Amplitude\")\n",
    "\n",
    "axes[1].plot(np.linspace(0, len(x_proc)/fs_proc, len(x_proc)), x_proc)\n",
    "axes[1].set_title(\"Processed Audio\")\n",
    "axes[1].set_xlabel(\"Time (s)\")\n",
    "axes[1].set_ylabel(\"Amplitude\")\n",
    "\n",
    "plt.tight_layout()\n",
    "plt.show()"
   ]
  },
  {
   "cell_type": "markdown",
   "id": "180751ec9bfb0f2f",
   "metadata": {},
   "source": [
    "After the initial audio preparation stage, the best segments are extracted using the frames with the lowest energy and highest similarity as the selection criterion. That is, considering the stationary nature of leaks, selecting lower-energy frames tends to eliminate external noise interference. The similarity criterion, on the other hand, promotes the selection of frames with similar characteristics, even if they are not consecutive."
   ]
  },
  {
   "cell_type": "code",
   "execution_count": 10,
   "id": "d91c9b3145b48237",
   "metadata": {
    "ExecuteTime": {
     "end_time": "2025-09-11T19:36:07.509813Z",
     "start_time": "2025-09-11T19:36:07.114332Z"
    }
   },
   "outputs": [
    {
     "name": "stderr",
     "output_type": "stream",
     "text": [
      "/tmp/ipykernel_7924/3143549684.py:28: UserWarning: FigureCanvasAgg is non-interactive, and thus cannot be shown\n",
      "  plt.show()\n",
      "/tmp/ipykernel_7924/3143549684.py:46: UserWarning: FigureCanvasAgg is non-interactive, and thus cannot be shown\n",
      "  plt.show()\n"
     ]
    }
   ],
   "source": [
    "from fluid.sdk_audio.processing.prefilter import Prefilter, PrefilterConfig\n",
    "\n",
    "filter_config = PrefilterConfig(prefilterDict={\n",
    "    \"similarityFactor\" : 0.250000,\n",
    "    \"percOfMinimalFrames\" : 0.375000,\n",
    "    \"windowSegmInMSec\" : 100,\n",
    "    \"freqCut2D\" : 0.500000,\n",
    "    \"powFacEmph\" : 2.000000,\n",
    "    \"withOversmooth\" : 0\n",
    "})\n",
    "\n",
    "outputs = Prefilter.filter(filter_config, x_proc, fs_proc, return_dict=True)\n",
    "x_filtered = outputs[\"x_filtered\"]\n",
    "\n",
    "fig, axes = plt.subplots(1, 2, figsize=(12, 6), sharex=False)\n",
    "\n",
    "axes[0].plot(np.linspace(0, len(x_proc)/fs_proc, len(x_proc)), x_proc)\n",
    "axes[0].set_title(\"Processed Audio (Crop/ Mean Removal)\")\n",
    "axes[0].set_xlabel(\"Time (s)\")\n",
    "axes[0].set_ylabel(\"Amplitude\")\n",
    "\n",
    "axes[1].plot(np.linspace(0, len(x_filtered)/fs_proc, len(x_filtered)), x_filtered)\n",
    "axes[1].set_title(\"Processed Audio (Filtered)\")\n",
    "axes[1].set_xlabel(\"Time (s)\")\n",
    "axes[1].set_ylabel(\"Amplitude\")\n",
    "\n",
    "plt.tight_layout()\n",
    "plt.show()\n",
    "\n",
    "\n",
    "fig, axes = plt.subplots(1, 2, figsize=(12, 6), sharex=False)\n",
    "\n",
    "S_o = librosa.feature.melspectrogram(y=x_proc, sr=fs_proc, n_fft=1024, hop_length=256, n_mels=128)\n",
    "S_o = librosa.power_to_db(S_o, ref=np.max)\n",
    "img = librosa.display.specshow(S_o, sr=fs_proc, x_axis=\"time\", y_axis=\"mel\", ax=axes[0])\n",
    "axes[0].set_title(f\"Prefilter input\")\n",
    "fig.colorbar(img, ax=axes[0], format=\"%+2.0f dB\")\n",
    "\n",
    "S_f = librosa.feature.melspectrogram(y=x_filtered, sr=fs_proc, n_fft=1024, hop_length=256, n_mels=128)\n",
    "S_f = librosa.power_to_db(S_f, ref=np.max)\n",
    "img = librosa.display.specshow(S_f, sr=fs_proc, x_axis=\"time\", y_axis=\"mel\", ax=axes[1])\n",
    "axes[1].set_title(f\"Prefilter output\")\n",
    "fig.colorbar(img, ax=axes[1], format=\"%+2.0f dB\")\n",
    "\n",
    "plt.tight_layout()\n",
    "plt.show()"
   ]
  },
  {
   "cell_type": "code",
   "execution_count": 11,
   "id": "bcb21a62d10b26d3",
   "metadata": {
    "ExecuteTime": {
     "end_time": "2025-09-11T19:15:49.286317Z",
     "start_time": "2025-09-11T19:15:49.253574Z"
    }
   },
   "outputs": [
    {
     "name": "stderr",
     "output_type": "stream",
     "text": [
      "/tmp/ipykernel_7924/3577963946.py:5: UserWarning: FigureCanvasAgg is non-interactive, and thus cannot be shown\n",
      "  plt.show()\n"
     ]
    }
   ],
   "source": [
    "M = outputs[\"prefilter_correlation\"]\n",
    "fig = plt.figure(figsize=(8,8))\n",
    "plt.imshow(abs(M), vmin=np.min(M), vmax=np.max(M), cmap=\"gray\")\n",
    "plt.axis('off')\n",
    "plt.show()\n"
   ]
  },
  {
   "cell_type": "markdown",
   "id": "f24748fa2801a87c",
   "metadata": {},
   "source": [
    "Now that we have the processed audio and the filtered one, the next step is to use them for the feature extraction. The SDK uses a predefined setup where each input is used for a dedicated feature extraction (collections). The filtered audio is used to get the features by frame and to calculate the pitch. The other one is used to calculate 'pipe' features from the entire spectrogram."
   ]
  },
  {
   "cell_type": "code",
   "execution_count": 12,
   "id": "1cf42cfca10a50bb",
   "metadata": {
    "ExecuteTime": {
     "end_time": "2025-09-11T19:15:26.591700Z",
     "start_time": "2025-09-11T19:15:26.063471Z"
    }
   },
   "outputs": [
    {
     "data": {
      "text/html": [
       "<div>\n",
       "<style scoped>\n",
       "    .dataframe tbody tr th:only-of-type {\n",
       "        vertical-align: middle;\n",
       "    }\n",
       "\n",
       "    .dataframe tbody tr th {\n",
       "        vertical-align: top;\n",
       "    }\n",
       "\n",
       "    .dataframe thead th {\n",
       "        text-align: right;\n",
       "    }\n",
       "</style>\n",
       "<table border=\"1\" class=\"dataframe\">\n",
       "  <thead>\n",
       "    <tr style=\"text-align: right;\">\n",
       "      <th></th>\n",
       "      <th>lpc1</th>\n",
       "      <th>lpc2</th>\n",
       "      <th>lpc3</th>\n",
       "      <th>lpc4</th>\n",
       "      <th>lpc5</th>\n",
       "      <th>lpc6</th>\n",
       "      <th>lpc7</th>\n",
       "      <th>lpc8</th>\n",
       "      <th>lpc9</th>\n",
       "      <th>lpc10</th>\n",
       "      <th>...</th>\n",
       "      <th>Scwspec_bw</th>\n",
       "      <th>Gpeakness</th>\n",
       "      <th>Speakness</th>\n",
       "      <th>Gstdbandratio</th>\n",
       "      <th>Sstdbandratio</th>\n",
       "      <th>Gfd</th>\n",
       "      <th>Sfd</th>\n",
       "      <th>GPfd</th>\n",
       "      <th>Gfo</th>\n",
       "      <th>Sfo</th>\n",
       "    </tr>\n",
       "  </thead>\n",
       "  <tbody>\n",
       "    <tr>\n",
       "      <th>0</th>\n",
       "      <td>-3.553907</td>\n",
       "      <td>5.164565</td>\n",
       "      <td>-3.939156</td>\n",
       "      <td>1.639013</td>\n",
       "      <td>-0.532347</td>\n",
       "      <td>0.821705</td>\n",
       "      <td>-0.908842</td>\n",
       "      <td>0.270421</td>\n",
       "      <td>-0.262626</td>\n",
       "      <td>1.006698</td>\n",
       "      <td>...</td>\n",
       "      <td>5.031697</td>\n",
       "      <td>526.111111</td>\n",
       "      <td>25.002222</td>\n",
       "      <td>0.159244</td>\n",
       "      <td>0.002296</td>\n",
       "      <td>142.833333</td>\n",
       "      <td>79.842032</td>\n",
       "      <td>130.074857</td>\n",
       "      <td>368.438596</td>\n",
       "      <td>70.899329</td>\n",
       "    </tr>\n",
       "    <tr>\n",
       "      <th>1</th>\n",
       "      <td>-3.578645</td>\n",
       "      <td>5.281738</td>\n",
       "      <td>-4.173890</td>\n",
       "      <td>1.870772</td>\n",
       "      <td>-0.609614</td>\n",
       "      <td>0.741797</td>\n",
       "      <td>-0.776836</td>\n",
       "      <td>0.192061</td>\n",
       "      <td>-0.292193</td>\n",
       "      <td>1.130231</td>\n",
       "      <td>...</td>\n",
       "      <td>5.031697</td>\n",
       "      <td>526.111111</td>\n",
       "      <td>25.002222</td>\n",
       "      <td>0.159244</td>\n",
       "      <td>0.002296</td>\n",
       "      <td>142.833333</td>\n",
       "      <td>79.842032</td>\n",
       "      <td>130.074857</td>\n",
       "      <td>368.438596</td>\n",
       "      <td>70.899329</td>\n",
       "    </tr>\n",
       "    <tr>\n",
       "      <th>2</th>\n",
       "      <td>-3.520043</td>\n",
       "      <td>5.110490</td>\n",
       "      <td>-4.031212</td>\n",
       "      <td>1.901794</td>\n",
       "      <td>-0.767496</td>\n",
       "      <td>0.944948</td>\n",
       "      <td>-0.920349</td>\n",
       "      <td>0.214973</td>\n",
       "      <td>-0.264547</td>\n",
       "      <td>1.113155</td>\n",
       "      <td>...</td>\n",
       "      <td>5.031697</td>\n",
       "      <td>526.111111</td>\n",
       "      <td>25.002222</td>\n",
       "      <td>0.159244</td>\n",
       "      <td>0.002296</td>\n",
       "      <td>142.833333</td>\n",
       "      <td>79.842032</td>\n",
       "      <td>130.074857</td>\n",
       "      <td>368.438596</td>\n",
       "      <td>70.899329</td>\n",
       "    </tr>\n",
       "    <tr>\n",
       "      <th>3</th>\n",
       "      <td>-3.553417</td>\n",
       "      <td>5.252416</td>\n",
       "      <td>-4.232714</td>\n",
       "      <td>2.005471</td>\n",
       "      <td>-0.769134</td>\n",
       "      <td>0.927575</td>\n",
       "      <td>-0.841128</td>\n",
       "      <td>-0.056479</td>\n",
       "      <td>0.213285</td>\n",
       "      <td>0.625925</td>\n",
       "      <td>...</td>\n",
       "      <td>5.031697</td>\n",
       "      <td>526.111111</td>\n",
       "      <td>25.002222</td>\n",
       "      <td>0.159244</td>\n",
       "      <td>0.002296</td>\n",
       "      <td>142.833333</td>\n",
       "      <td>79.842032</td>\n",
       "      <td>130.074857</td>\n",
       "      <td>368.438596</td>\n",
       "      <td>70.899329</td>\n",
       "    </tr>\n",
       "    <tr>\n",
       "      <th>4</th>\n",
       "      <td>-3.624443</td>\n",
       "      <td>5.476550</td>\n",
       "      <td>-4.462384</td>\n",
       "      <td>2.035755</td>\n",
       "      <td>-0.585653</td>\n",
       "      <td>0.610662</td>\n",
       "      <td>-0.571568</td>\n",
       "      <td>-0.217819</td>\n",
       "      <td>0.431996</td>\n",
       "      <td>0.303681</td>\n",
       "      <td>...</td>\n",
       "      <td>5.031697</td>\n",
       "      <td>526.111111</td>\n",
       "      <td>25.002222</td>\n",
       "      <td>0.159244</td>\n",
       "      <td>0.002296</td>\n",
       "      <td>142.833333</td>\n",
       "      <td>79.842032</td>\n",
       "      <td>130.074857</td>\n",
       "      <td>368.438596</td>\n",
       "      <td>70.899329</td>\n",
       "    </tr>\n",
       "    <tr>\n",
       "      <th>5</th>\n",
       "      <td>-3.626502</td>\n",
       "      <td>5.475476</td>\n",
       "      <td>-4.485389</td>\n",
       "      <td>2.180558</td>\n",
       "      <td>-0.899338</td>\n",
       "      <td>0.986148</td>\n",
       "      <td>-0.951353</td>\n",
       "      <td>0.300567</td>\n",
       "      <td>-0.264862</td>\n",
       "      <td>1.020705</td>\n",
       "      <td>...</td>\n",
       "      <td>5.031697</td>\n",
       "      <td>526.111111</td>\n",
       "      <td>25.002222</td>\n",
       "      <td>0.159244</td>\n",
       "      <td>0.002296</td>\n",
       "      <td>142.833333</td>\n",
       "      <td>79.842032</td>\n",
       "      <td>130.074857</td>\n",
       "      <td>368.438596</td>\n",
       "      <td>70.899329</td>\n",
       "    </tr>\n",
       "    <tr>\n",
       "      <th>6</th>\n",
       "      <td>-3.641787</td>\n",
       "      <td>5.556204</td>\n",
       "      <td>-4.547866</td>\n",
       "      <td>2.004908</td>\n",
       "      <td>-0.532704</td>\n",
       "      <td>0.650427</td>\n",
       "      <td>-0.664866</td>\n",
       "      <td>0.010727</td>\n",
       "      <td>0.015210</td>\n",
       "      <td>0.797020</td>\n",
       "      <td>...</td>\n",
       "      <td>5.031697</td>\n",
       "      <td>526.111111</td>\n",
       "      <td>25.002222</td>\n",
       "      <td>0.159244</td>\n",
       "      <td>0.002296</td>\n",
       "      <td>142.833333</td>\n",
       "      <td>79.842032</td>\n",
       "      <td>130.074857</td>\n",
       "      <td>368.438596</td>\n",
       "      <td>70.899329</td>\n",
       "    </tr>\n",
       "    <tr>\n",
       "      <th>7</th>\n",
       "      <td>-3.678492</td>\n",
       "      <td>5.703144</td>\n",
       "      <td>-4.773610</td>\n",
       "      <td>2.144290</td>\n",
       "      <td>-0.489167</td>\n",
       "      <td>0.504839</td>\n",
       "      <td>-0.552700</td>\n",
       "      <td>-0.003911</td>\n",
       "      <td>-0.065560</td>\n",
       "      <td>0.907923</td>\n",
       "      <td>...</td>\n",
       "      <td>5.031697</td>\n",
       "      <td>526.111111</td>\n",
       "      <td>25.002222</td>\n",
       "      <td>0.159244</td>\n",
       "      <td>0.002296</td>\n",
       "      <td>142.833333</td>\n",
       "      <td>79.842032</td>\n",
       "      <td>130.074857</td>\n",
       "      <td>368.438596</td>\n",
       "      <td>70.899329</td>\n",
       "    </tr>\n",
       "    <tr>\n",
       "      <th>8</th>\n",
       "      <td>-3.691230</td>\n",
       "      <td>5.735599</td>\n",
       "      <td>-4.812457</td>\n",
       "      <td>2.186168</td>\n",
       "      <td>-0.559728</td>\n",
       "      <td>0.665217</td>\n",
       "      <td>-0.794455</td>\n",
       "      <td>0.216220</td>\n",
       "      <td>-0.239469</td>\n",
       "      <td>1.082648</td>\n",
       "      <td>...</td>\n",
       "      <td>5.031697</td>\n",
       "      <td>526.111111</td>\n",
       "      <td>25.002222</td>\n",
       "      <td>0.159244</td>\n",
       "      <td>0.002296</td>\n",
       "      <td>142.833333</td>\n",
       "      <td>79.842032</td>\n",
       "      <td>130.074857</td>\n",
       "      <td>368.438596</td>\n",
       "      <td>70.899329</td>\n",
       "    </tr>\n",
       "  </tbody>\n",
       "</table>\n",
       "<p>9 rows × 260 columns</p>\n",
       "</div>"
      ],
      "text/plain": [
       "       lpc1      lpc2      lpc3      lpc4      lpc5      lpc6      lpc7  \\\n",
       "0 -3.553907  5.164565 -3.939156  1.639013 -0.532347  0.821705 -0.908842   \n",
       "1 -3.578645  5.281738 -4.173890  1.870772 -0.609614  0.741797 -0.776836   \n",
       "2 -3.520043  5.110490 -4.031212  1.901794 -0.767496  0.944948 -0.920349   \n",
       "3 -3.553417  5.252416 -4.232714  2.005471 -0.769134  0.927575 -0.841128   \n",
       "4 -3.624443  5.476550 -4.462384  2.035755 -0.585653  0.610662 -0.571568   \n",
       "5 -3.626502  5.475476 -4.485389  2.180558 -0.899338  0.986148 -0.951353   \n",
       "6 -3.641787  5.556204 -4.547866  2.004908 -0.532704  0.650427 -0.664866   \n",
       "7 -3.678492  5.703144 -4.773610  2.144290 -0.489167  0.504839 -0.552700   \n",
       "8 -3.691230  5.735599 -4.812457  2.186168 -0.559728  0.665217 -0.794455   \n",
       "\n",
       "       lpc8      lpc9     lpc10  ...  Scwspec_bw   Gpeakness  Speakness  \\\n",
       "0  0.270421 -0.262626  1.006698  ...    5.031697  526.111111  25.002222   \n",
       "1  0.192061 -0.292193  1.130231  ...    5.031697  526.111111  25.002222   \n",
       "2  0.214973 -0.264547  1.113155  ...    5.031697  526.111111  25.002222   \n",
       "3 -0.056479  0.213285  0.625925  ...    5.031697  526.111111  25.002222   \n",
       "4 -0.217819  0.431996  0.303681  ...    5.031697  526.111111  25.002222   \n",
       "5  0.300567 -0.264862  1.020705  ...    5.031697  526.111111  25.002222   \n",
       "6  0.010727  0.015210  0.797020  ...    5.031697  526.111111  25.002222   \n",
       "7 -0.003911 -0.065560  0.907923  ...    5.031697  526.111111  25.002222   \n",
       "8  0.216220 -0.239469  1.082648  ...    5.031697  526.111111  25.002222   \n",
       "\n",
       "   Gstdbandratio  Sstdbandratio         Gfd        Sfd        GPfd  \\\n",
       "0       0.159244       0.002296  142.833333  79.842032  130.074857   \n",
       "1       0.159244       0.002296  142.833333  79.842032  130.074857   \n",
       "2       0.159244       0.002296  142.833333  79.842032  130.074857   \n",
       "3       0.159244       0.002296  142.833333  79.842032  130.074857   \n",
       "4       0.159244       0.002296  142.833333  79.842032  130.074857   \n",
       "5       0.159244       0.002296  142.833333  79.842032  130.074857   \n",
       "6       0.159244       0.002296  142.833333  79.842032  130.074857   \n",
       "7       0.159244       0.002296  142.833333  79.842032  130.074857   \n",
       "8       0.159244       0.002296  142.833333  79.842032  130.074857   \n",
       "\n",
       "          Gfo        Sfo  \n",
       "0  368.438596  70.899329  \n",
       "1  368.438596  70.899329  \n",
       "2  368.438596  70.899329  \n",
       "3  368.438596  70.899329  \n",
       "4  368.438596  70.899329  \n",
       "5  368.438596  70.899329  \n",
       "6  368.438596  70.899329  \n",
       "7  368.438596  70.899329  \n",
       "8  368.438596  70.899329  \n",
       "\n",
       "[9 rows x 260 columns]"
      ]
     },
     "execution_count": 12,
     "metadata": {},
     "output_type": "execute_result"
    }
   ],
   "source": [
    "from fluid.sdk_audio.features.recipe_features import RecipeFeatures\n",
    "\n",
    "feature_config = {\n",
    "    \"inputs\": {\n",
    "        \"frames\": \"frames\",\n",
    "        \"pipes\": \"frame_raw\",\n",
    "        \"pda\": \"frame_filtered\"\n",
    "    },\n",
    "    \"outputs\": {\n",
    "        \"frameFactor\": 9\n",
    "    },\n",
    "    \"collections\": {\n",
    "        \"frames\": {\n",
    "            \"audio\": {\n",
    "                \"audio_fs\": fs_proc,\n",
    "                \"audio_wms\": 1000,\n",
    "                \"audio_frameFactor\": 9,\n",
    "                \"audio_window\": \"hanning\"\n",
    "            },\n",
    "            \"features\": {\n",
    "                \"FeatureLPC\": {\"coefficients\": 16},\n",
    "                \"FeatureEnergy\": {},\n",
    "                \"FeatureZCR\": {},\n",
    "                \"FeatureSNR\": {},\n",
    "                \"FeatureClipness\": {},\n",
    "                \"FeatureCepstrum\": {\"coefficients\": 16},\n",
    "                \"FeaturePLP\": {\"coefficients\": 16},\n",
    "                \"FeatureMFCC\": {\"coefficients\": 16},\n",
    "                \"FeatureBassRatio\": {\"fc\": 1600},\n",
    "                \"FeatureBandWidth\": {\"pbw\": 0.2},\n",
    "                \"FeatureRollOff\": {\"factor\": 0.85},\n",
    "                \"FeatureSpectralStd\": {},\n",
    "                \"FeatureSpectralSpread\": {},\n",
    "                \"FeatureSpectralFlow\": {},\n",
    "                \"FeatureSpectralIrregularity\": {\"pbw\": 0.2},\n",
    "                \"FeatureSpectralFlatness\": {},\n",
    "                \"FeatureSpectralCentroid\": {},\n",
    "                \"FeaturePeakness\": {\"diffdb\": 3, \"fneigh\": 6},\n",
    "                \"FeatureBandRatio\": {\"coefficients\": 16},\n",
    "                \"FeaturePeaks\": {\"numpks\": 4, \"fneigh\": 6}\n",
    "            }\n",
    "        },\n",
    "        \"pipes\": {\n",
    "            \"audio\": {\n",
    "                \"audio_fs\": fs_proc\n",
    "            },\n",
    "            \"features\": {\n",
    "                \"FeaturePipe\": {\"wms\": 100, \"freqCut2D\": 0.75, \"openradius\": 10, \"rng\": 0.33, \"rpk\": 5}\n",
    "            }\n",
    "        },\n",
    "        \"pda\": {\n",
    "            \"audio\": {\n",
    "                \"audio_fs\": fs_proc\n",
    "            },\n",
    "            \"features\": {\n",
    "                \"FeaturePDA\": {\"w\": fs_proc, \"fmax\": 4000, \"fmin\": 80, \"wms\": 1000, \"frameFactor\": 9, \"fneigh\": 6}\n",
    "            }\n",
    "        }\n",
    "    }\n",
    "}\n",
    "\n",
    "\n",
    "r = RecipeFeatures(x_proc, x_filtered, feature_config, parallel=False)\n",
    "m, keys = r.extract()\n",
    "\n",
    "df_feature = pd.DataFrame(m, columns=keys)\n",
    "df_feature"
   ]
  },
  {
   "cell_type": "markdown",
   "id": "9d2757f04e31379",
   "metadata": {},
   "source": [
    "# 6. 4Fluid Audio Classification\n",
    "\n",
    "Now, let's build some helper functions to iterate over a provided dataset and extract the features. To save time, the features will be stored in a temporary folder and preloaded if they exist."
   ]
  },
  {
   "cell_type": "code",
   "execution_count": 13,
   "id": "751a3da341713a20",
   "metadata": {
    "ExecuteTime": {
     "end_time": "2025-09-11T19:38:55.567254Z",
     "start_time": "2025-09-11T19:36:28.612554Z"
    }
   },
   "outputs": [],
   "source": [
    "import os\n",
    "\n",
    "\n",
    "def extract_features(filename: str, pre_filter_config: dict, recipe_feature_config: dict) -> pd.DataFrame:\n",
    "    x_orig, fs_orig = AudioUtil.readingFile(filename)\n",
    "    x_proc = CropUtil.crop(x_orig, 1, 0, 10, fs_orig)\n",
    "\n",
    "    fs_proc = 8000\n",
    "    x_proc = ResampleUtil.resample(x_proc, fs_orig, fs_proc)\n",
    "    x_proc = x_proc - np.mean(x_proc)\n",
    "    x_proc = x_proc + 1e-10 * np.random.rand(x_proc.size)\n",
    "\n",
    "    x_filtered = Prefilter.filter(pre_filter_config, x_proc, fs_proc, return_dict=False)\n",
    "\n",
    "    r = RecipeFeatures(x_proc, x_filtered, recipe_feature_config, parallel=False)\n",
    "    m, keys = r.extract()\n",
    "    df_feature = pd.DataFrame(m, columns=keys)\n",
    "    return df_feature\n",
    "\n",
    "\n",
    "def extract_features_from_dataset(output_path: str, df: pd.DataFrame, pre_filter_config: dict, recipe_feature_config: dict) -> pd.DataFrame:\n",
    "    features = []\n",
    "    for idx, row in df.iterrows():\n",
    "        filename = os.path.join(output_path, f\"{row['id']}.parquet\")\n",
    "\n",
    "        if os.path.exists(filename):\n",
    "            df_feature = pd.read_parquet(filename)\n",
    "        else:\n",
    "            df_feature = extract_features(row[\"path\"], pre_filter_config, recipe_feature_config)\n",
    "            df_feature[\"id\"] = row[\"id\"]\n",
    "            df_feature[\"class\"] = row[\"class\"]\n",
    "            df_feature.to_parquet(filename)\n",
    "\n",
    "        features.append(df_feature)\n",
    "\n",
    "    df_dataset = pd.concat(features, ignore_index=True)\n",
    "    return df_dataset\n",
    "\n",
    "\n",
    "output_path = os.path.join(os.getcwd(), \"tmp\", \"audio_features\")\n",
    "os.makedirs(output_path, exist_ok=True)\n",
    "\n",
    "train_path = os.path.join(output_path, \"train\")\n",
    "os.makedirs(train_path, exist_ok=True)\n",
    "\n",
    "test_path = os.path.join(output_path, \"test\")\n",
    "os.makedirs(test_path, exist_ok=True)\n",
    "\n",
    "df_train_features = extract_features_from_dataset(train_path, df_train, filter_config, feature_config)\n",
    "df_train_features.to_parquet(os.path.join(output_path, \"train.parquet\"))\n",
    "\n",
    "df_test_features = extract_features_from_dataset(test_path, df_test, filter_config, feature_config)\n",
    "df_test_features.to_parquet(os.path.join(output_path, \"test.parquet\"))"
   ]
  },
  {
   "cell_type": "code",
   "execution_count": 14,
   "id": "1599634ce7922e3",
   "metadata": {
    "ExecuteTime": {
     "end_time": "2025-09-11T19:44:06.672022Z",
     "start_time": "2025-09-11T19:44:06.407395Z"
    }
   },
   "outputs": [
    {
     "data": {
      "application/vnd.plotly.v1+json": {
       "config": {
        "plotlyServerURL": "https://plot.ly"
       },
       "data": [
        {
         "error_y": {
          "array": {
           "bdata": "L7O+GI5M7T+s4qAHV7L2P5iV5qLjoPY/ODo9mUVp9j+I4X9MdlL2PyoThLMc4v8/h3ixbLjyAEBulxZ1ibgAQFYiN8kvRfU/dlQEt0cX6z+lwrDW6+PqP6uls9c6T/k/BaE/Lgk6+T/4hQV9I8f7P9rbWyrvSPM/G4f2oJnXAECo95gxFPUAQIe/vRauHPM/USKHryPa+z9GkcI19hf2PxH0w/o3oPk/Qtvyz31A+T9rVeks0TL5P09agUvNDvc/yfc35DzA+j+v2pOhlaH6P7ahqhDfzf0/pcBtRpkX/j+vux/8F/QAQIrk82tkQ/0/eVUcNEEx/T+euWKy3h72P7ftN59MXPw/CSZxzUz6/j/X+RFq6wH2P1NMg/5JyP4/sL1mtdbc/z/lWVojdzraP9CkGSX7KvY/sgsXGz7w0j8Jmy5dIP7jP9PJl0jL4Ns/0rbp8OEZ4z9DhCgC4vr/P0GzCZAA4f8/dFKgV//B9T8s97mFDwUCQIxwkt7H7AFAy96a4AjD/z82ulkUT4n/P4fFLk4BN/Q/BfuUuLqA/j/DEUe++VD9P5mjYcarbv4/HLVK/7g//T9j6BwXkRHyP5k8NDLwQP8//kHPm8bV/j8HolXXEL/oPzn7d5bTOf8/scPksDBoAkA9hHq9WpP+P8L261IaFN8/i4/+ZjFZAkCc47oQ0Jz+P1qXS7oFcf4/bPYl6GyN8T8ZztIsraH/Pxppokzld/8/YWZrLetD6z/FS6PjHafpP1pdqL2MS/8/uDh7X84X/z+P2B19OsjvPyartVAoEQBAR3I3g+Kt/z/eVIRbv4gAQD5ifJgsZQBA589fU1tp/z/mA/wSjyb7Pzxkv2V0D/s/L5dzL8sx1T9pAcJJih3uP0JQtgSYRABAJqSn2lgSAECIblVHu9D2P0BAumyxOAJAy1Z8SXMjAkCM2SEpHnb9P/hGBAukbO0/WaJA6zBc/T/9O0xJDi0BQH3z5zw+2f0/CVYckIyK/T8R2bYXn90AQKLS1h3pywBAHQOKqpPrAEDVi3PRkZHxP90J3USGgOg/wQMHSXRX7D9VrFX+XFbrP8D3GOzIIgJAGC6wb5i8AkDmRQUcrKj+P67TABi/sgJAluKStuYLAkDgWPQkH1L+P1DE7p+SxQFAkqsWlGw1A0CYlfLlbxkDQAkYjOKanwFAsEqa9veR5T+NSWBToW4AQCwkiofALABATe1kGb5q4z+kLwkrCdcDQFQlGxTR6O0/sW+QpI6n6D9j0KjQfcMDQKt8StVnjQFAd4jdiB98AUBWLprs/7HePy7lLgrUcuQ/Qp1ltNr+9j9NfMT2UwoCQDAxDBd5uAFAs5N8T4fcAkDsFH26tej2PzLHD95gxwJAvNVy5adsuj/K3zwqJcUEQBjb/z3Ww/A/mkst5vKpBEARJeBmBN0CQEKFPpkNfwRAaUWS5gPDAkCTIh69RCUCQJzUEpY6HAJAYSz9ch3f6T96/HD9J67uPzHyuuJJVfY/m7YEqqcv8z+Xh9MgiA/zP3DRY6A7bgNAs80LmdVcA0COZkMPeUbtP3YYQuhBEPA/srjIOX1X5j8eExAuJVboP9BJDA1N8O4/Tl0JalaiBEACIuOZ/n4EQIr0+g47QPc/4d5P7dEZBkB0zwUNkuYFQLayGFLuUAVAbi8MRVAsBUB55bJ1xGD5PwCZka4sP/k/kwvXYZxl8T9NgzEmhDfkP3E0zARJ9QRA3LsckT3G9z/osNTe08UEQHknZPjn+fY/5bJzW1TS9j+aSA+BfoL3P6bS0iUmp/A/AURELbwM7z+loRSPnQUBQONPG/4y7us/6+SOAgzrAEDyyQuinVHmP0XC8b2B3O4/VXX1MNy89j9/x3mhXoj2P+/YTBDtpOk/UIZlZPTh8D96FGRupfr5PxgAMzuB2vk/1htw4AKj5D9DMKPhXwz0P8xsSGmFVfw/5zY+vhkR9z/7X3+ZVDz8P8OJelPW9fY/N2f89cTnA0D/M2d6W9EDQKLv2+75SANA3JcEBx86A0DS4wwFRsMGQGDudtqMbdo/ujyIIwz/0z/zr17gQSLqP7lgNIcYfAZAI7lRK0HW6D9Z0VQTrXkFQIzzEisCWwVA0B6b6yw5BUCUsCAkjgkFQNhDtJlCq/U/BwChcEcm6T8T5bR85drxP1JzVzoMawVAZzVNKVxfBUCMY7yRAykCQHBKL7bDDQJAPd0SNDtX8T97u7qC4hvsPzq8flAKj+o/ZAhKmgso7z9QXet6SiD5P7/EmIGu0QFA4/GAI6j7AUDWFz1z4db4P9yCarynV+g/2htpzboV5j8cidgbIE3WP9D7/0RsY/Y/pAXoMIBA9j9K0kdK607xP6T8wIDY/AJA6RawlBDtAkAy2F1r+A/3PwByGUzjpfQ/rYzvV6mh5z+3qMcQsuXxP+6ZodXv7gZAkThVvTWnBkCN58BEfBMCQGc2Yi/v0gFAgL3dA4oX8T+wFrxEtX/xP9F0wZpWt/8/lo2vjpqc/z8YEORgmS3yP4w19D9oCgJAFEZsl7PtAUD9IyJ50ozqP9jF6+bIq/c/3jfI0kd09z8BACZPFygHQFaoi3qPv/M/dJ8ibCaq9T9mnV3x1tkGQCJ4K/IspvE/nsbdd7rm8j/LzvGYLAYEQOJmekeMgwVAIZg4uVgHBUDhkFfno34GQOoPq7RbbgZAW32CdZvM8D8ySVMWS5nxP36DRs4F3OA/AoSTJOMH4z/1qwZoD2EBQN+Cm/WiVAFAJ2DbQn8C1z+OI/eH4iHxPw==",
           "dtype": "f8"
          },
          "symmetric": true,
          "type": "data"
         },
         "hoverinfo": "text",
         "marker": {
          "color": "red"
         },
         "name": "LEAK",
         "text": [
          "pipe_3",
          "Gmfcc1",
          "mfcc1",
          "Gs",
          "s",
          "pipe_1",
          "pipe_2",
          "pipe_4",
          "Gpeakness",
          "Gaspec",
          "aspec",
          "Gceps1",
          "ceps1",
          "Gfspec",
          "Ge",
          "pipe_8",
          "pipe_9",
          "e",
          "fspec",
          "fd_power",
          "Gispec",
          "Glpc2",
          "lpc2",
          "Sispec",
          "Gsnrm",
          "snrm",
          "Gfo",
          "fo",
          "pipe_12",
          "Gcwspec_centroid",
          "cwspec_centroid",
          "Gstdbandratio",
          "ispec",
          "Gplp7",
          "stdbandratio",
          "plp7",
          "Sfo",
          "Scwspec_bw",
          "peakness",
          "Saspec",
          "Sstdbandratio",
          "Szcr",
          "pipe_11",
          "Gplp2",
          "plp2",
          "Slpc14",
          "Gmfcc7",
          "mfcc7",
          "Gplp5",
          "plp5",
          "Slpc13",
          "Glpc1",
          "Gceps2",
          "lpc1",
          "ceps2",
          "Sfspec",
          "GPfd",
          "Gplp10",
          "pipe_7",
          "Gfd",
          "Gmfcc5",
          "plp10",
          "Se",
          "mfcc5",
          "Gplp6",
          "plp6",
          "Slpc12",
          "Gplp4",
          "plp4",
          "pipe_6",
          "Gclipness",
          "Gplp8",
          "plp8",
          "Slpc11",
          "fd",
          "Gplp11",
          "Gplp9",
          "plp9",
          "plp11",
          "Glpc3",
          "lpc3",
          "Srolloff",
          "Slpc10",
          "Gplp13",
          "plp13",
          "Slpc15",
          "Gmfcc4",
          "mfcc4",
          "Gceps13",
          "clipness",
          "ceps13",
          "Gplp14",
          "Grolloff",
          "rolloff",
          "Gceps9",
          "ceps9",
          "plp14",
          "Smfcc15",
          "Slpc7",
          "Slpc9",
          "Slpc8",
          "Gceps14",
          "Gceps4",
          "Gplp12",
          "ceps4",
          "ceps14",
          "plp12",
          "Gceps16",
          "Gceps15",
          "ceps15",
          "ceps16",
          "Slpc6",
          "Gplp16",
          "plp16",
          "Slpc5",
          "Gbw",
          "pipe_5",
          "Smfcc16",
          "bw",
          "Gmfcc3",
          "mfcc3",
          "Splp1",
          "Slpc4",
          "Gsspec",
          "Gplp15",
          "plp15",
          "Gceps8",
          "sspec",
          "ceps8",
          "pipe_10",
          "Gmfcc6",
          "Sbassratio",
          "mfcc6",
          "Gceps10",
          "Sfd",
          "ceps10",
          "Gbassratio",
          "bassratio",
          "Slpc3",
          "Smfcc14",
          "Ssspec",
          "Smfcc12",
          "Splp16",
          "Gceps7",
          "ceps7",
          "Scwspec_centroid",
          "Smfcc13",
          "Splp2",
          "Smfcc10",
          "Smfcc11",
          "Gmfcc9",
          "mfcc9",
          "Splp15",
          "Gmfcc10",
          "mfcc10",
          "Gceps11",
          "ceps11",
          "Glpc4",
          "lpc4",
          "Smfcc8",
          "Sceps2",
          "Gmfcc11",
          "Glpc7",
          "mfcc11",
          "Glpc5",
          "lpc5",
          "lpc7",
          "Smfcc6",
          "Smfcc9",
          "Gceps12",
          "Sceps8",
          "ceps12",
          "Splp3",
          "Sclipness",
          "Glpc6",
          "lpc6",
          "Sceps6",
          "Sceps13",
          "Glpc12",
          "lpc12",
          "Slpc1",
          "Splp13",
          "Glpc13",
          "Glpc11",
          "lpc13",
          "lpc11",
          "Gmfcc2",
          "mfcc2",
          "Gceps5",
          "ceps5",
          "Gmfcc13",
          "Smfcc2",
          "Sceps1",
          "Splp4",
          "mfcc13",
          "Smfcc7",
          "Gmfcc8",
          "mfcc8",
          "Gmfcc12",
          "mfcc12",
          "Splp14",
          "Sceps9",
          "Splp12",
          "Gceps3",
          "ceps3",
          "Gplp3",
          "plp3",
          "Splp6",
          "Smfcc5",
          "Sceps4",
          "Sceps5",
          "Glpc8",
          "cwspec_bw",
          "Gcwspec_bw",
          "lpc8",
          "Splp5",
          "Sceps3",
          "Smfcc1",
          "Glpc10",
          "lpc10",
          "Sceps16",
          "Gceps6",
          "ceps6",
          "Splp11",
          "Splp10",
          "Sceps7",
          "Sceps10",
          "Gmfcc14",
          "mfcc14",
          "Glpc16",
          "lpc16",
          "Sceps12",
          "Sceps11",
          "Glpc14",
          "lpc14",
          "Ssnrm",
          "Glpc15",
          "lpc15",
          "Slpc2",
          "Glpc9",
          "lpc9",
          "Gmfcc15",
          "Splp7",
          "Slpc16",
          "mfcc15",
          "Splp9",
          "Sceps14",
          "Sbw",
          "Gmfcc16",
          "mfcc16",
          "Gplp1",
          "plp1",
          "Speakness",
          "Splp8",
          "Smfcc3",
          "Smfcc4",
          "Gzcr",
          "zcr",
          "Ss",
          "Sceps15"
         ],
         "type": "scatter",
         "y": {
          "bdata": "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",
          "dtype": "f8"
         }
        },
        {
         "error_y": {
          "array": {
           "bdata": "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",
           "dtype": "f8"
          },
          "symmetric": true,
          "type": "data"
         },
         "hoverinfo": "text",
         "marker": {
          "color": "blue"
         },
         "name": "LESS",
         "text": [
          "pipe_3",
          "Gmfcc1",
          "mfcc1",
          "Gs",
          "s",
          "pipe_1",
          "pipe_2",
          "pipe_4",
          "Gpeakness",
          "Gaspec",
          "aspec",
          "Gceps1",
          "ceps1",
          "Gfspec",
          "Ge",
          "pipe_8",
          "pipe_9",
          "e",
          "fspec",
          "fd_power",
          "Gispec",
          "Glpc2",
          "lpc2",
          "Sispec",
          "Gsnrm",
          "snrm",
          "Gfo",
          "fo",
          "pipe_12",
          "Gcwspec_centroid",
          "cwspec_centroid",
          "Gstdbandratio",
          "ispec",
          "Gplp7",
          "stdbandratio",
          "plp7",
          "Sfo",
          "Scwspec_bw",
          "peakness",
          "Saspec",
          "Sstdbandratio",
          "Szcr",
          "pipe_11",
          "Gplp2",
          "plp2",
          "Slpc14",
          "Gmfcc7",
          "mfcc7",
          "Gplp5",
          "plp5",
          "Slpc13",
          "Glpc1",
          "Gceps2",
          "lpc1",
          "ceps2",
          "Sfspec",
          "GPfd",
          "Gplp10",
          "pipe_7",
          "Gfd",
          "Gmfcc5",
          "plp10",
          "Se",
          "mfcc5",
          "Gplp6",
          "plp6",
          "Slpc12",
          "Gplp4",
          "plp4",
          "pipe_6",
          "Gclipness",
          "Gplp8",
          "plp8",
          "Slpc11",
          "fd",
          "Gplp11",
          "Gplp9",
          "plp9",
          "plp11",
          "Glpc3",
          "lpc3",
          "Srolloff",
          "Slpc10",
          "Gplp13",
          "plp13",
          "Slpc15",
          "Gmfcc4",
          "mfcc4",
          "Gceps13",
          "clipness",
          "ceps13",
          "Gplp14",
          "Grolloff",
          "rolloff",
          "Gceps9",
          "ceps9",
          "plp14",
          "Smfcc15",
          "Slpc7",
          "Slpc9",
          "Slpc8",
          "Gceps14",
          "Gceps4",
          "Gplp12",
          "ceps4",
          "ceps14",
          "plp12",
          "Gceps16",
          "Gceps15",
          "ceps15",
          "ceps16",
          "Slpc6",
          "Gplp16",
          "plp16",
          "Slpc5",
          "Gbw",
          "pipe_5",
          "Smfcc16",
          "bw",
          "Gmfcc3",
          "mfcc3",
          "Splp1",
          "Slpc4",
          "Gsspec",
          "Gplp15",
          "plp15",
          "Gceps8",
          "sspec",
          "ceps8",
          "pipe_10",
          "Gmfcc6",
          "Sbassratio",
          "mfcc6",
          "Gceps10",
          "Sfd",
          "ceps10",
          "Gbassratio",
          "bassratio",
          "Slpc3",
          "Smfcc14",
          "Ssspec",
          "Smfcc12",
          "Splp16",
          "Gceps7",
          "ceps7",
          "Scwspec_centroid",
          "Smfcc13",
          "Splp2",
          "Smfcc10",
          "Smfcc11",
          "Gmfcc9",
          "mfcc9",
          "Splp15",
          "Gmfcc10",
          "mfcc10",
          "Gceps11",
          "ceps11",
          "Glpc4",
          "lpc4",
          "Smfcc8",
          "Sceps2",
          "Gmfcc11",
          "Glpc7",
          "mfcc11",
          "Glpc5",
          "lpc5",
          "lpc7",
          "Smfcc6",
          "Smfcc9",
          "Gceps12",
          "Sceps8",
          "ceps12",
          "Splp3",
          "Sclipness",
          "Glpc6",
          "lpc6",
          "Sceps6",
          "Sceps13",
          "Glpc12",
          "lpc12",
          "Slpc1",
          "Splp13",
          "Glpc13",
          "Glpc11",
          "lpc13",
          "lpc11",
          "Gmfcc2",
          "mfcc2",
          "Gceps5",
          "ceps5",
          "Gmfcc13",
          "Smfcc2",
          "Sceps1",
          "Splp4",
          "mfcc13",
          "Smfcc7",
          "Gmfcc8",
          "mfcc8",
          "Gmfcc12",
          "mfcc12",
          "Splp14",
          "Sceps9",
          "Splp12",
          "Gceps3",
          "ceps3",
          "Gplp3",
          "plp3",
          "Splp6",
          "Smfcc5",
          "Sceps4",
          "Sceps5",
          "Glpc8",
          "cwspec_bw",
          "Gcwspec_bw",
          "lpc8",
          "Splp5",
          "Sceps3",
          "Smfcc1",
          "Glpc10",
          "lpc10",
          "Sceps16",
          "Gceps6",
          "ceps6",
          "Splp11",
          "Splp10",
          "Sceps7",
          "Sceps10",
          "Gmfcc14",
          "mfcc14",
          "Glpc16",
          "lpc16",
          "Sceps12",
          "Sceps11",
          "Glpc14",
          "lpc14",
          "Ssnrm",
          "Glpc15",
          "lpc15",
          "Slpc2",
          "Glpc9",
          "lpc9",
          "Gmfcc15",
          "Splp7",
          "Slpc16",
          "mfcc15",
          "Splp9",
          "Sceps14",
          "Sbw",
          "Gmfcc16",
          "mfcc16",
          "Gplp1",
          "plp1",
          "Speakness",
          "Splp8",
          "Smfcc3",
          "Smfcc4",
          "Gzcr",
          "zcr",
          "Ss",
          "Sceps15"
         ],
         "type": "scatter",
         "y": {
          "bdata": "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",
          "dtype": "f8"
         }
        }
       ],
       "layout": {
        "template": {
         "data": {
          "candlestick": [
           {
            "decreasing": {
             "line": {
              "color": "#000033"
             }
            },
            "increasing": {
             "line": {
              "color": "#000032"
             }
            },
            "type": "candlestick"
           }
          ],
          "contour": [
           {
            "colorscale": [
             [
              0,
              "#000011"
             ],
             [
              0.1111111111111111,
              "#000012"
             ],
             [
              0.2222222222222222,
              "#000013"
             ],
             [
              0.3333333333333333,
              "#000014"
             ],
             [
              0.4444444444444444,
              "#000015"
             ],
             [
              0.5555555555555556,
              "#000016"
             ],
             [
              0.6666666666666666,
              "#000017"
             ],
             [
              0.7777777777777778,
              "#000018"
             ],
             [
              0.8888888888888888,
              "#000019"
             ],
             [
              1,
              "#000020"
             ]
            ],
            "type": "contour"
           }
          ],
          "contourcarpet": [
           {
            "colorscale": [
             [
              0,
              "#000011"
             ],
             [
              0.1111111111111111,
              "#000012"
             ],
             [
              0.2222222222222222,
              "#000013"
             ],
             [
              0.3333333333333333,
              "#000014"
             ],
             [
              0.4444444444444444,
              "#000015"
             ],
             [
              0.5555555555555556,
              "#000016"
             ],
             [
              0.6666666666666666,
              "#000017"
             ],
             [
              0.7777777777777778,
              "#000018"
             ],
             [
              0.8888888888888888,
              "#000019"
             ],
             [
              1,
              "#000020"
             ]
            ],
            "type": "contourcarpet"
           }
          ],
          "heatmap": [
           {
            "colorscale": [
             [
              0,
              "#000011"
             ],
             [
              0.1111111111111111,
              "#000012"
             ],
             [
              0.2222222222222222,
              "#000013"
             ],
             [
              0.3333333333333333,
              "#000014"
             ],
             [
              0.4444444444444444,
              "#000015"
             ],
             [
              0.5555555555555556,
              "#000016"
             ],
             [
              0.6666666666666666,
              "#000017"
             ],
             [
              0.7777777777777778,
              "#000018"
             ],
             [
              0.8888888888888888,
              "#000019"
             ],
             [
              1,
              "#000020"
             ]
            ],
            "type": "heatmap"
           }
          ],
          "histogram2d": [
           {
            "colorscale": [
             [
              0,
              "#000011"
             ],
             [
              0.1111111111111111,
              "#000012"
             ],
             [
              0.2222222222222222,
              "#000013"
             ],
             [
              0.3333333333333333,
              "#000014"
             ],
             [
              0.4444444444444444,
              "#000015"
             ],
             [
              0.5555555555555556,
              "#000016"
             ],
             [
              0.6666666666666666,
              "#000017"
             ],
             [
              0.7777777777777778,
              "#000018"
             ],
             [
              0.8888888888888888,
              "#000019"
             ],
             [
              1,
              "#000020"
             ]
            ],
            "type": "histogram2d"
           }
          ],
          "icicle": [
           {
            "textfont": {
             "color": "white"
            },
            "type": "icicle"
           }
          ],
          "sankey": [
           {
            "textfont": {
             "color": "#000036"
            },
            "type": "sankey"
           }
          ],
          "scatter": [
           {
            "marker": {
             "line": {
              "width": 0
             }
            },
            "type": "scatter"
           }
          ],
          "table": [
           {
            "cells": {
             "fill": {
              "color": "#000038"
             },
             "font": {
              "color": "#000037"
             },
             "line": {
              "color": "#000039"
             }
            },
            "header": {
             "fill": {
              "color": "#000040"
             },
             "font": {
              "color": "#000036"
             },
             "line": {
              "color": "#000039"
             }
            },
            "type": "table"
           }
          ],
          "waterfall": [
           {
            "connector": {
             "line": {
              "color": "#000036",
              "width": 2
             }
            },
            "decreasing": {
             "marker": {
              "color": "#000033"
             }
            },
            "increasing": {
             "marker": {
              "color": "#000032"
             }
            },
            "totals": {
             "marker": {
              "color": "#000034"
             }
            },
            "type": "waterfall"
           }
          ]
         },
         "layout": {
          "coloraxis": {
           "colorscale": [
            [
             0,
             "#000011"
            ],
            [
             0.1111111111111111,
             "#000012"
            ],
            [
             0.2222222222222222,
             "#000013"
            ],
            [
             0.3333333333333333,
             "#000014"
            ],
            [
             0.4444444444444444,
             "#000015"
            ],
            [
             0.5555555555555556,
             "#000016"
            ],
            [
             0.6666666666666666,
             "#000017"
            ],
            [
             0.7777777777777778,
             "#000018"
            ],
            [
             0.8888888888888888,
             "#000019"
            ],
            [
             1,
             "#000020"
            ]
           ]
          },
          "colorscale": {
           "diverging": [
            [
             0,
             "#000021"
            ],
            [
             0.1,
             "#000022"
            ],
            [
             0.2,
             "#000023"
            ],
            [
             0.3,
             "#000024"
            ],
            [
             0.4,
             "#000025"
            ],
            [
             0.5,
             "#000026"
            ],
            [
             0.6,
             "#000027"
            ],
            [
             0.7,
             "#000028"
            ],
            [
             0.8,
             "#000029"
            ],
            [
             0.9,
             "#000030"
            ],
            [
             1,
             "#000031"
            ]
           ],
           "sequential": [
            [
             0,
             "#000011"
            ],
            [
             0.1111111111111111,
             "#000012"
            ],
            [
             0.2222222222222222,
             "#000013"
            ],
            [
             0.3333333333333333,
             "#000014"
            ],
            [
             0.4444444444444444,
             "#000015"
            ],
            [
             0.5555555555555556,
             "#000016"
            ],
            [
             0.6666666666666666,
             "#000017"
            ],
            [
             0.7777777777777778,
             "#000018"
            ],
            [
             0.8888888888888888,
             "#000019"
            ],
            [
             1,
             "#000020"
            ]
           ],
           "sequentialminus": [
            [
             0,
             "#000011"
            ],
            [
             0.1111111111111111,
             "#000012"
            ],
            [
             0.2222222222222222,
             "#000013"
            ],
            [
             0.3333333333333333,
             "#000014"
            ],
            [
             0.4444444444444444,
             "#000015"
            ],
            [
             0.5555555555555556,
             "#000016"
            ],
            [
             0.6666666666666666,
             "#000017"
            ],
            [
             0.7777777777777778,
             "#000018"
            ],
            [
             0.8888888888888888,
             "#000019"
            ],
            [
             1,
             "#000020"
            ]
           ]
          },
          "colorway": [
           "#000001",
           "#000002",
           "#000003",
           "#000004",
           "#000005",
           "#000006",
           "#000007",
           "#000008",
           "#000009",
           "#000010"
          ]
         }
        },
        "yaxis": {
         "range": [
          -7,
          7
         ]
        }
       }
      }
     },
     "metadata": {},
     "output_type": "display_data"
    }
   ],
   "source": [
    "from fluid.models.mixture.plot import plot_dispersion\n",
    "from fluid.models.mixture.mixture_model import MixtureModel\n",
    "\n",
    "params = {\n",
    "    \"Classifier\": {\n",
    "        \"factDenSTD\": 1.000000e-03,\n",
    "        \"distBase\": \"mahalanobis\",\n",
    "        \"scoreNormMethod\": \"gaussian\",\n",
    "        \"pound\": 1\n",
    "    }\n",
    "}\n",
    "\n",
    "mm = MixtureModel(params)\n",
    "\n",
    "X_train = df_train_features.drop(columns=[\"id\", \"class\"]).values\n",
    "y_train = df_train_features[\"class\"].values\n",
    "feature_names = df_train_features.drop(columns=[\"id\", \"class\"]).columns.tolist()\n",
    "\n",
    "mm.train(X_train, y_train, feature_names)\n",
    "\n",
    "fig = plot_dispersion(mm)\n",
    "fig.show()"
   ]
  },
  {
   "cell_type": "code",
   "execution_count": 15,
   "id": "eb2e8927c746167b",
   "metadata": {
    "ExecuteTime": {
     "end_time": "2025-09-11T19:57:09.044879Z",
     "start_time": "2025-09-11T19:57:08.099621Z"
    }
   },
   "outputs": [
    {
     "data": {
      "text/plain": [
       "{'score': np.float64(73.35921550240818),\n",
       " 'class': 'LEAK',\n",
       " 'fit': np.float64(1.7532296917322991)}"
      ]
     },
     "metadata": {},
     "output_type": "display_data"
    }
   ],
   "source": [
    "sample_id = df_test[\"id\"].iloc[0]\n",
    "df_features = df_test_features[df_test_features[\"id\"] == sample_id]\n",
    "\n",
    "X_test = df_features.drop(columns=[\"id\", \"class\"]).values\n",
    "output = mm.process(X_test)\n",
    "display(output)"
   ]
  },
  {
   "cell_type": "code",
   "execution_count": 16,
   "id": "6962034c52e9c372",
   "metadata": {
    "ExecuteTime": {
     "end_time": "2025-09-11T20:02:43.495122Z",
     "start_time": "2025-09-11T20:02:42.257255Z"
    }
   },
   "outputs": [
    {
     "data": {
      "application/vnd.plotly.v1+json": {
       "config": {
        "plotlyServerURL": "https://plot.ly"
       },
       "data": [
        {
         "error_y": {
          "array": {
           "bdata": "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",
           "dtype": "f8"
          },
          "symmetric": true,
          "type": "data"
         },
         "hoverinfo": "text",
         "marker": {
          "color": "red"
         },
         "name": "LEAK",
         "text": [
          "pipe_3",
          "Gmfcc1",
          "mfcc1",
          "Gs",
          "s",
          "pipe_1",
          "pipe_2",
          "pipe_4",
          "Gpeakness",
          "Gaspec",
          "aspec",
          "Gceps1",
          "ceps1",
          "Gfspec",
          "Ge",
          "pipe_8",
          "pipe_9",
          "e",
          "fspec",
          "fd_power",
          "Gispec",
          "Glpc2",
          "lpc2",
          "Sispec",
          "Gsnrm",
          "snrm",
          "Gfo",
          "fo",
          "pipe_12",
          "Gcwspec_centroid",
          "cwspec_centroid",
          "Gstdbandratio",
          "ispec",
          "Gplp7",
          "stdbandratio",
          "plp7",
          "Sfo",
          "Scwspec_bw",
          "peakness",
          "Saspec",
          "Sstdbandratio",
          "Szcr",
          "pipe_11",
          "Gplp2",
          "plp2",
          "Slpc14",
          "Gmfcc7",
          "mfcc7",
          "Gplp5",
          "plp5",
          "Slpc13",
          "Glpc1",
          "Gceps2",
          "lpc1",
          "ceps2",
          "Sfspec",
          "GPfd",
          "Gplp10",
          "pipe_7",
          "Gfd",
          "Gmfcc5",
          "plp10",
          "Se",
          "mfcc5",
          "Gplp6",
          "plp6",
          "Slpc12",
          "Gplp4",
          "plp4",
          "pipe_6",
          "Gclipness",
          "Gplp8",
          "plp8",
          "Slpc11",
          "fd",
          "Gplp11",
          "Gplp9",
          "plp9",
          "plp11",
          "Glpc3",
          "lpc3",
          "Srolloff",
          "Slpc10",
          "Gplp13",
          "plp13",
          "Slpc15",
          "Gmfcc4",
          "mfcc4",
          "Gceps13",
          "clipness",
          "ceps13",
          "Gplp14",
          "Grolloff",
          "rolloff",
          "Gceps9",
          "ceps9",
          "plp14",
          "Smfcc15",
          "Slpc7",
          "Slpc9",
          "Slpc8",
          "Gceps14",
          "Gceps4",
          "Gplp12",
          "ceps4",
          "ceps14",
          "plp12",
          "Gceps16",
          "Gceps15",
          "ceps15",
          "ceps16",
          "Slpc6",
          "Gplp16",
          "plp16",
          "Slpc5",
          "Gbw",
          "pipe_5",
          "Smfcc16",
          "bw",
          "Gmfcc3",
          "mfcc3",
          "Splp1",
          "Slpc4",
          "Gsspec",
          "Gplp15",
          "plp15",
          "Gceps8",
          "sspec",
          "ceps8",
          "pipe_10",
          "Gmfcc6",
          "Sbassratio",
          "mfcc6",
          "Gceps10",
          "Sfd",
          "ceps10",
          "Gbassratio",
          "bassratio",
          "Slpc3",
          "Smfcc14",
          "Ssspec",
          "Smfcc12",
          "Splp16",
          "Gceps7",
          "ceps7",
          "Scwspec_centroid",
          "Smfcc13",
          "Splp2",
          "Smfcc10",
          "Smfcc11",
          "Gmfcc9",
          "mfcc9",
          "Splp15",
          "Gmfcc10",
          "mfcc10",
          "Gceps11",
          "ceps11",
          "Glpc4",
          "lpc4",
          "Smfcc8",
          "Sceps2",
          "Gmfcc11",
          "Glpc7",
          "mfcc11",
          "Glpc5",
          "lpc5",
          "lpc7",
          "Smfcc6",
          "Smfcc9",
          "Gceps12",
          "Sceps8",
          "ceps12",
          "Splp3",
          "Sclipness",
          "Glpc6",
          "lpc6",
          "Sceps6",
          "Sceps13",
          "Glpc12",
          "lpc12",
          "Slpc1",
          "Splp13",
          "Glpc13",
          "Glpc11",
          "lpc13",
          "lpc11",
          "Gmfcc2",
          "mfcc2",
          "Gceps5",
          "ceps5",
          "Gmfcc13",
          "Smfcc2",
          "Sceps1",
          "Splp4",
          "mfcc13",
          "Smfcc7",
          "Gmfcc8",
          "mfcc8",
          "Gmfcc12",
          "mfcc12",
          "Splp14",
          "Sceps9",
          "Splp12",
          "Gceps3",
          "ceps3",
          "Gplp3",
          "plp3",
          "Splp6",
          "Smfcc5",
          "Sceps4",
          "Sceps5",
          "Glpc8",
          "cwspec_bw",
          "Gcwspec_bw",
          "lpc8",
          "Splp5",
          "Sceps3",
          "Smfcc1",
          "Glpc10",
          "lpc10",
          "Sceps16",
          "Gceps6",
          "ceps6",
          "Splp11",
          "Splp10",
          "Sceps7",
          "Sceps10",
          "Gmfcc14",
          "mfcc14",
          "Glpc16",
          "lpc16",
          "Sceps12",
          "Sceps11",
          "Glpc14",
          "lpc14",
          "Ssnrm",
          "Glpc15",
          "lpc15",
          "Slpc2",
          "Glpc9",
          "lpc9",
          "Gmfcc15",
          "Splp7",
          "Slpc16",
          "mfcc15",
          "Splp9",
          "Sceps14",
          "Sbw",
          "Gmfcc16",
          "mfcc16",
          "Gplp1",
          "plp1",
          "Speakness",
          "Splp8",
          "Smfcc3",
          "Smfcc4",
          "Gzcr",
          "zcr",
          "Ss",
          "Sceps15"
         ],
         "type": "scatter",
         "y": {
          "bdata": "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",
          "dtype": "f8"
         }
        },
        {
         "error_y": {
          "array": {
           "bdata": "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",
           "dtype": "f8"
          },
          "symmetric": true,
          "type": "data"
         },
         "hoverinfo": "text",
         "marker": {
          "color": "blue"
         },
         "name": "LESS",
         "text": [
          "pipe_3",
          "Gmfcc1",
          "mfcc1",
          "Gs",
          "s",
          "pipe_1",
          "pipe_2",
          "pipe_4",
          "Gpeakness",
          "Gaspec",
          "aspec",
          "Gceps1",
          "ceps1",
          "Gfspec",
          "Ge",
          "pipe_8",
          "pipe_9",
          "e",
          "fspec",
          "fd_power",
          "Gispec",
          "Glpc2",
          "lpc2",
          "Sispec",
          "Gsnrm",
          "snrm",
          "Gfo",
          "fo",
          "pipe_12",
          "Gcwspec_centroid",
          "cwspec_centroid",
          "Gstdbandratio",
          "ispec",
          "Gplp7",
          "stdbandratio",
          "plp7",
          "Sfo",
          "Scwspec_bw",
          "peakness",
          "Saspec",
          "Sstdbandratio",
          "Szcr",
          "pipe_11",
          "Gplp2",
          "plp2",
          "Slpc14",
          "Gmfcc7",
          "mfcc7",
          "Gplp5",
          "plp5",
          "Slpc13",
          "Glpc1",
          "Gceps2",
          "lpc1",
          "ceps2",
          "Sfspec",
          "GPfd",
          "Gplp10",
          "pipe_7",
          "Gfd",
          "Gmfcc5",
          "plp10",
          "Se",
          "mfcc5",
          "Gplp6",
          "plp6",
          "Slpc12",
          "Gplp4",
          "plp4",
          "pipe_6",
          "Gclipness",
          "Gplp8",
          "plp8",
          "Slpc11",
          "fd",
          "Gplp11",
          "Gplp9",
          "plp9",
          "plp11",
          "Glpc3",
          "lpc3",
          "Srolloff",
          "Slpc10",
          "Gplp13",
          "plp13",
          "Slpc15",
          "Gmfcc4",
          "mfcc4",
          "Gceps13",
          "clipness",
          "ceps13",
          "Gplp14",
          "Grolloff",
          "rolloff",
          "Gceps9",
          "ceps9",
          "plp14",
          "Smfcc15",
          "Slpc7",
          "Slpc9",
          "Slpc8",
          "Gceps14",
          "Gceps4",
          "Gplp12",
          "ceps4",
          "ceps14",
          "plp12",
          "Gceps16",
          "Gceps15",
          "ceps15",
          "ceps16",
          "Slpc6",
          "Gplp16",
          "plp16",
          "Slpc5",
          "Gbw",
          "pipe_5",
          "Smfcc16",
          "bw",
          "Gmfcc3",
          "mfcc3",
          "Splp1",
          "Slpc4",
          "Gsspec",
          "Gplp15",
          "plp15",
          "Gceps8",
          "sspec",
          "ceps8",
          "pipe_10",
          "Gmfcc6",
          "Sbassratio",
          "mfcc6",
          "Gceps10",
          "Sfd",
          "ceps10",
          "Gbassratio",
          "bassratio",
          "Slpc3",
          "Smfcc14",
          "Ssspec",
          "Smfcc12",
          "Splp16",
          "Gceps7",
          "ceps7",
          "Scwspec_centroid",
          "Smfcc13",
          "Splp2",
          "Smfcc10",
          "Smfcc11",
          "Gmfcc9",
          "mfcc9",
          "Splp15",
          "Gmfcc10",
          "mfcc10",
          "Gceps11",
          "ceps11",
          "Glpc4",
          "lpc4",
          "Smfcc8",
          "Sceps2",
          "Gmfcc11",
          "Glpc7",
          "mfcc11",
          "Glpc5",
          "lpc5",
          "lpc7",
          "Smfcc6",
          "Smfcc9",
          "Gceps12",
          "Sceps8",
          "ceps12",
          "Splp3",
          "Sclipness",
          "Glpc6",
          "lpc6",
          "Sceps6",
          "Sceps13",
          "Glpc12",
          "lpc12",
          "Slpc1",
          "Splp13",
          "Glpc13",
          "Glpc11",
          "lpc13",
          "lpc11",
          "Gmfcc2",
          "mfcc2",
          "Gceps5",
          "ceps5",
          "Gmfcc13",
          "Smfcc2",
          "Sceps1",
          "Splp4",
          "mfcc13",
          "Smfcc7",
          "Gmfcc8",
          "mfcc8",
          "Gmfcc12",
          "mfcc12",
          "Splp14",
          "Sceps9",
          "Splp12",
          "Gceps3",
          "ceps3",
          "Gplp3",
          "plp3",
          "Splp6",
          "Smfcc5",
          "Sceps4",
          "Sceps5",
          "Glpc8",
          "cwspec_bw",
          "Gcwspec_bw",
          "lpc8",
          "Splp5",
          "Sceps3",
          "Smfcc1",
          "Glpc10",
          "lpc10",
          "Sceps16",
          "Gceps6",
          "ceps6",
          "Splp11",
          "Splp10",
          "Sceps7",
          "Sceps10",
          "Gmfcc14",
          "mfcc14",
          "Glpc16",
          "lpc16",
          "Sceps12",
          "Sceps11",
          "Glpc14",
          "lpc14",
          "Ssnrm",
          "Glpc15",
          "lpc15",
          "Slpc2",
          "Glpc9",
          "lpc9",
          "Gmfcc15",
          "Splp7",
          "Slpc16",
          "mfcc15",
          "Splp9",
          "Sceps14",
          "Sbw",
          "Gmfcc16",
          "mfcc16",
          "Gplp1",
          "plp1",
          "Speakness",
          "Splp8",
          "Smfcc3",
          "Smfcc4",
          "Gzcr",
          "zcr",
          "Ss",
          "Sceps15"
         ],
         "type": "scatter",
         "y": {
          "bdata": "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",
          "dtype": "f8"
         }
        },
        {
         "hoverinfo": "text",
         "marker": {
          "color": "black"
         },
         "name": "Frame 1",
         "type": "scatter",
         "y": {
          "bdata": "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",
          "dtype": "f8"
         }
        },
        {
         "hoverinfo": "text",
         "marker": {
          "color": "black"
         },
         "name": "Frame 2",
         "type": "scatter",
         "y": {
          "bdata": "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",
          "dtype": "f8"
         }
        },
        {
         "hoverinfo": "text",
         "marker": {
          "color": "black"
         },
         "name": "Frame 3",
         "type": "scatter",
         "y": {
          "bdata": "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",
          "dtype": "f8"
         }
        },
        {
         "hoverinfo": "text",
         "marker": {
          "color": "black"
         },
         "name": "Frame 4",
         "type": "scatter",
         "y": {
          "bdata": "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",
          "dtype": "f8"
         }
        },
        {
         "hoverinfo": "text",
         "marker": {
          "color": "black"
         },
         "name": "Frame 5",
         "type": "scatter",
         "y": {
          "bdata": "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",
          "dtype": "f8"
         }
        },
        {
         "hoverinfo": "text",
         "marker": {
          "color": "black"
         },
         "name": "Frame 6",
         "type": "scatter",
         "y": {
          "bdata": "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",
          "dtype": "f8"
         }
        },
        {
         "hoverinfo": "text",
         "marker": {
          "color": "black"
         },
         "name": "Frame 7",
         "type": "scatter",
         "y": {
          "bdata": "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",
          "dtype": "f8"
         }
        },
        {
         "hoverinfo": "text",
         "marker": {
          "color": "black"
         },
         "name": "Frame 8",
         "type": "scatter",
         "y": {
          "bdata": "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",
          "dtype": "f8"
         }
        },
        {
         "hoverinfo": "text",
         "marker": {
          "color": "black"
         },
         "name": "Frame 9",
         "type": "scatter",
         "y": {
          "bdata": "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",
          "dtype": "f8"
         }
        }
       ],
       "layout": {
        "template": {
         "data": {
          "candlestick": [
           {
            "decreasing": {
             "line": {
              "color": "#000033"
             }
            },
            "increasing": {
             "line": {
              "color": "#000032"
             }
            },
            "type": "candlestick"
           }
          ],
          "contour": [
           {
            "colorscale": [
             [
              0,
              "#000011"
             ],
             [
              0.1111111111111111,
              "#000012"
             ],
             [
              0.2222222222222222,
              "#000013"
             ],
             [
              0.3333333333333333,
              "#000014"
             ],
             [
              0.4444444444444444,
              "#000015"
             ],
             [
              0.5555555555555556,
              "#000016"
             ],
             [
              0.6666666666666666,
              "#000017"
             ],
             [
              0.7777777777777778,
              "#000018"
             ],
             [
              0.8888888888888888,
              "#000019"
             ],
             [
              1,
              "#000020"
             ]
            ],
            "type": "contour"
           }
          ],
          "contourcarpet": [
           {
            "colorscale": [
             [
              0,
              "#000011"
             ],
             [
              0.1111111111111111,
              "#000012"
             ],
             [
              0.2222222222222222,
              "#000013"
             ],
             [
              0.3333333333333333,
              "#000014"
             ],
             [
              0.4444444444444444,
              "#000015"
             ],
             [
              0.5555555555555556,
              "#000016"
             ],
             [
              0.6666666666666666,
              "#000017"
             ],
             [
              0.7777777777777778,
              "#000018"
             ],
             [
              0.8888888888888888,
              "#000019"
             ],
             [
              1,
              "#000020"
             ]
            ],
            "type": "contourcarpet"
           }
          ],
          "heatmap": [
           {
            "colorscale": [
             [
              0,
              "#000011"
             ],
             [
              0.1111111111111111,
              "#000012"
             ],
             [
              0.2222222222222222,
              "#000013"
             ],
             [
              0.3333333333333333,
              "#000014"
             ],
             [
              0.4444444444444444,
              "#000015"
             ],
             [
              0.5555555555555556,
              "#000016"
             ],
             [
              0.6666666666666666,
              "#000017"
             ],
             [
              0.7777777777777778,
              "#000018"
             ],
             [
              0.8888888888888888,
              "#000019"
             ],
             [
              1,
              "#000020"
             ]
            ],
            "type": "heatmap"
           }
          ],
          "histogram2d": [
           {
            "colorscale": [
             [
              0,
              "#000011"
             ],
             [
              0.1111111111111111,
              "#000012"
             ],
             [
              0.2222222222222222,
              "#000013"
             ],
             [
              0.3333333333333333,
              "#000014"
             ],
             [
              0.4444444444444444,
              "#000015"
             ],
             [
              0.5555555555555556,
              "#000016"
             ],
             [
              0.6666666666666666,
              "#000017"
             ],
             [
              0.7777777777777778,
              "#000018"
             ],
             [
              0.8888888888888888,
              "#000019"
             ],
             [
              1,
              "#000020"
             ]
            ],
            "type": "histogram2d"
           }
          ],
          "icicle": [
           {
            "textfont": {
             "color": "white"
            },
            "type": "icicle"
           }
          ],
          "sankey": [
           {
            "textfont": {
             "color": "#000036"
            },
            "type": "sankey"
           }
          ],
          "scatter": [
           {
            "marker": {
             "line": {
              "width": 0
             }
            },
            "type": "scatter"
           }
          ],
          "table": [
           {
            "cells": {
             "fill": {
              "color": "#000038"
             },
             "font": {
              "color": "#000037"
             },
             "line": {
              "color": "#000039"
             }
            },
            "header": {
             "fill": {
              "color": "#000040"
             },
             "font": {
              "color": "#000036"
             },
             "line": {
              "color": "#000039"
             }
            },
            "type": "table"
           }
          ],
          "waterfall": [
           {
            "connector": {
             "line": {
              "color": "#000036",
              "width": 2
             }
            },
            "decreasing": {
             "marker": {
              "color": "#000033"
             }
            },
            "increasing": {
             "marker": {
              "color": "#000032"
             }
            },
            "totals": {
             "marker": {
              "color": "#000034"
             }
            },
            "type": "waterfall"
           }
          ]
         },
         "layout": {
          "coloraxis": {
           "colorscale": [
            [
             0,
             "#000011"
            ],
            [
             0.1111111111111111,
             "#000012"
            ],
            [
             0.2222222222222222,
             "#000013"
            ],
            [
             0.3333333333333333,
             "#000014"
            ],
            [
             0.4444444444444444,
             "#000015"
            ],
            [
             0.5555555555555556,
             "#000016"
            ],
            [
             0.6666666666666666,
             "#000017"
            ],
            [
             0.7777777777777778,
             "#000018"
            ],
            [
             0.8888888888888888,
             "#000019"
            ],
            [
             1,
             "#000020"
            ]
           ]
          },
          "colorscale": {
           "diverging": [
            [
             0,
             "#000021"
            ],
            [
             0.1,
             "#000022"
            ],
            [
             0.2,
             "#000023"
            ],
            [
             0.3,
             "#000024"
            ],
            [
             0.4,
             "#000025"
            ],
            [
             0.5,
             "#000026"
            ],
            [
             0.6,
             "#000027"
            ],
            [
             0.7,
             "#000028"
            ],
            [
             0.8,
             "#000029"
            ],
            [
             0.9,
             "#000030"
            ],
            [
             1,
             "#000031"
            ]
           ],
           "sequential": [
            [
             0,
             "#000011"
            ],
            [
             0.1111111111111111,
             "#000012"
            ],
            [
             0.2222222222222222,
             "#000013"
            ],
            [
             0.3333333333333333,
             "#000014"
            ],
            [
             0.4444444444444444,
             "#000015"
            ],
            [
             0.5555555555555556,
             "#000016"
            ],
            [
             0.6666666666666666,
             "#000017"
            ],
            [
             0.7777777777777778,
             "#000018"
            ],
            [
             0.8888888888888888,
             "#000019"
            ],
            [
             1,
             "#000020"
            ]
           ],
           "sequentialminus": [
            [
             0,
             "#000011"
            ],
            [
             0.1111111111111111,
             "#000012"
            ],
            [
             0.2222222222222222,
             "#000013"
            ],
            [
             0.3333333333333333,
             "#000014"
            ],
            [
             0.4444444444444444,
             "#000015"
            ],
            [
             0.5555555555555556,
             "#000016"
            ],
            [
             0.6666666666666666,
             "#000017"
            ],
            [
             0.7777777777777778,
             "#000018"
            ],
            [
             0.8888888888888888,
             "#000019"
            ],
            [
             1,
             "#000020"
            ]
           ]
          },
          "colorway": [
           "#000001",
           "#000002",
           "#000003",
           "#000004",
           "#000005",
           "#000006",
           "#000007",
           "#000008",
           "#000009",
           "#000010"
          ]
         }
        },
        "yaxis": {
         "range": [
          -7,
          7
         ]
        }
       }
      }
     },
     "metadata": {},
     "output_type": "display_data"
    }
   ],
   "source": [
    "import plotly.graph_objects as go\n",
    "\n",
    "output = mm.process(X_test, return_features=True)\n",
    "normalized_features = output[\"normalized_features\"]\n",
    "\n",
    "for frame in range(normalized_features.shape[0]):\n",
    "    fig.add_trace(go.Scatter(\n",
    "        name=f\"Frame {frame+1}\",\n",
    "        marker=dict(color=\"black\"),\n",
    "        y=normalized_features[frame, :],\n",
    "        hoverinfo='text'\n",
    "    ))\n",
    "\n",
    "fig.show()"
   ]
  },
  {
   "cell_type": "code",
   "execution_count": 17,
   "id": "f47dc428e3fe1ce7",
   "metadata": {
    "ExecuteTime": {
     "end_time": "2025-09-11T20:04:02.653029Z",
     "start_time": "2025-09-11T20:04:01.548891Z"
    }
   },
   "outputs": [
    {
     "data": {
      "application/vnd.plotly.v1+json": {
       "config": {
        "plotlyServerURL": "https://plot.ly"
       },
       "data": [
        {
         "hoverinfo": "text",
         "marker": {
          "color": "red"
         },
         "name": "Dist LEAK",
         "type": "scatter",
         "y": [
          0.736196004801993,
          0.7374146979012615,
          0.7368143845427145,
          0.737817743027999,
          0.7333478518404248,
          0.7221696900463642,
          0.7278505300905618,
          0.7344427143271278,
          0.7362757786382896
         ]
        },
        {
         "hoverinfo": "text",
         "marker": {
          "color": "blue"
         },
         "name": "Dist LESS",
         "type": "scatter",
         "y": [
          0.2638039951980071,
          0.2625853020987386,
          0.26318561545728547,
          0.26218225697200104,
          0.26665214815957516,
          0.27783030995363583,
          0.2721494699094382,
          0.2655572856728721,
          0.26372422136171036
         ]
        }
       ],
       "layout": {
        "template": {
         "data": {
          "candlestick": [
           {
            "decreasing": {
             "line": {
              "color": "#000033"
             }
            },
            "increasing": {
             "line": {
              "color": "#000032"
             }
            },
            "type": "candlestick"
           }
          ],
          "contour": [
           {
            "colorscale": [
             [
              0,
              "#000011"
             ],
             [
              0.1111111111111111,
              "#000012"
             ],
             [
              0.2222222222222222,
              "#000013"
             ],
             [
              0.3333333333333333,
              "#000014"
             ],
             [
              0.4444444444444444,
              "#000015"
             ],
             [
              0.5555555555555556,
              "#000016"
             ],
             [
              0.6666666666666666,
              "#000017"
             ],
             [
              0.7777777777777778,
              "#000018"
             ],
             [
              0.8888888888888888,
              "#000019"
             ],
             [
              1,
              "#000020"
             ]
            ],
            "type": "contour"
           }
          ],
          "contourcarpet": [
           {
            "colorscale": [
             [
              0,
              "#000011"
             ],
             [
              0.1111111111111111,
              "#000012"
             ],
             [
              0.2222222222222222,
              "#000013"
             ],
             [
              0.3333333333333333,
              "#000014"
             ],
             [
              0.4444444444444444,
              "#000015"
             ],
             [
              0.5555555555555556,
              "#000016"
             ],
             [
              0.6666666666666666,
              "#000017"
             ],
             [
              0.7777777777777778,
              "#000018"
             ],
             [
              0.8888888888888888,
              "#000019"
             ],
             [
              1,
              "#000020"
             ]
            ],
            "type": "contourcarpet"
           }
          ],
          "heatmap": [
           {
            "colorscale": [
             [
              0,
              "#000011"
             ],
             [
              0.1111111111111111,
              "#000012"
             ],
             [
              0.2222222222222222,
              "#000013"
             ],
             [
              0.3333333333333333,
              "#000014"
             ],
             [
              0.4444444444444444,
              "#000015"
             ],
             [
              0.5555555555555556,
              "#000016"
             ],
             [
              0.6666666666666666,
              "#000017"
             ],
             [
              0.7777777777777778,
              "#000018"
             ],
             [
              0.8888888888888888,
              "#000019"
             ],
             [
              1,
              "#000020"
             ]
            ],
            "type": "heatmap"
           }
          ],
          "histogram2d": [
           {
            "colorscale": [
             [
              0,
              "#000011"
             ],
             [
              0.1111111111111111,
              "#000012"
             ],
             [
              0.2222222222222222,
              "#000013"
             ],
             [
              0.3333333333333333,
              "#000014"
             ],
             [
              0.4444444444444444,
              "#000015"
             ],
             [
              0.5555555555555556,
              "#000016"
             ],
             [
              0.6666666666666666,
              "#000017"
             ],
             [
              0.7777777777777778,
              "#000018"
             ],
             [
              0.8888888888888888,
              "#000019"
             ],
             [
              1,
              "#000020"
             ]
            ],
            "type": "histogram2d"
           }
          ],
          "icicle": [
           {
            "textfont": {
             "color": "white"
            },
            "type": "icicle"
           }
          ],
          "sankey": [
           {
            "textfont": {
             "color": "#000036"
            },
            "type": "sankey"
           }
          ],
          "scatter": [
           {
            "marker": {
             "line": {
              "width": 0
             }
            },
            "type": "scatter"
           }
          ],
          "table": [
           {
            "cells": {
             "fill": {
              "color": "#000038"
             },
             "font": {
              "color": "#000037"
             },
             "line": {
              "color": "#000039"
             }
            },
            "header": {
             "fill": {
              "color": "#000040"
             },
             "font": {
              "color": "#000036"
             },
             "line": {
              "color": "#000039"
             }
            },
            "type": "table"
           }
          ],
          "waterfall": [
           {
            "connector": {
             "line": {
              "color": "#000036",
              "width": 2
             }
            },
            "decreasing": {
             "marker": {
              "color": "#000033"
             }
            },
            "increasing": {
             "marker": {
              "color": "#000032"
             }
            },
            "totals": {
             "marker": {
              "color": "#000034"
             }
            },
            "type": "waterfall"
           }
          ]
         },
         "layout": {
          "coloraxis": {
           "colorscale": [
            [
             0,
             "#000011"
            ],
            [
             0.1111111111111111,
             "#000012"
            ],
            [
             0.2222222222222222,
             "#000013"
            ],
            [
             0.3333333333333333,
             "#000014"
            ],
            [
             0.4444444444444444,
             "#000015"
            ],
            [
             0.5555555555555556,
             "#000016"
            ],
            [
             0.6666666666666666,
             "#000017"
            ],
            [
             0.7777777777777778,
             "#000018"
            ],
            [
             0.8888888888888888,
             "#000019"
            ],
            [
             1,
             "#000020"
            ]
           ]
          },
          "colorscale": {
           "diverging": [
            [
             0,
             "#000021"
            ],
            [
             0.1,
             "#000022"
            ],
            [
             0.2,
             "#000023"
            ],
            [
             0.3,
             "#000024"
            ],
            [
             0.4,
             "#000025"
            ],
            [
             0.5,
             "#000026"
            ],
            [
             0.6,
             "#000027"
            ],
            [
             0.7,
             "#000028"
            ],
            [
             0.8,
             "#000029"
            ],
            [
             0.9,
             "#000030"
            ],
            [
             1,
             "#000031"
            ]
           ],
           "sequential": [
            [
             0,
             "#000011"
            ],
            [
             0.1111111111111111,
             "#000012"
            ],
            [
             0.2222222222222222,
             "#000013"
            ],
            [
             0.3333333333333333,
             "#000014"
            ],
            [
             0.4444444444444444,
             "#000015"
            ],
            [
             0.5555555555555556,
             "#000016"
            ],
            [
             0.6666666666666666,
             "#000017"
            ],
            [
             0.7777777777777778,
             "#000018"
            ],
            [
             0.8888888888888888,
             "#000019"
            ],
            [
             1,
             "#000020"
            ]
           ],
           "sequentialminus": [
            [
             0,
             "#000011"
            ],
            [
             0.1111111111111111,
             "#000012"
            ],
            [
             0.2222222222222222,
             "#000013"
            ],
            [
             0.3333333333333333,
             "#000014"
            ],
            [
             0.4444444444444444,
             "#000015"
            ],
            [
             0.5555555555555556,
             "#000016"
            ],
            [
             0.6666666666666666,
             "#000017"
            ],
            [
             0.7777777777777778,
             "#000018"
            ],
            [
             0.8888888888888888,
             "#000019"
            ],
            [
             1,
             "#000020"
            ]
           ]
          },
          "colorway": [
           "#000001",
           "#000002",
           "#000003",
           "#000004",
           "#000005",
           "#000006",
           "#000007",
           "#000008",
           "#000009",
           "#000010"
          ]
         }
        }
       }
      }
     },
     "metadata": {},
     "output_type": "display_data"
    }
   ],
   "source": [
    "output = mm.process(X_test, return_dists=True)\n",
    "\n",
    "fig = go.Figure()\n",
    "\n",
    "fig.add_trace(go.Scatter(\n",
    "    name=f\"Dist LEAK\",\n",
    "    marker=dict(color=\"red\"),\n",
    "    y=output[\"distCV\"],\n",
    "    hoverinfo='text'\n",
    "))\n",
    "\n",
    "fig.add_trace(go.Scatter(\n",
    "    name=f\"Dist LESS\",\n",
    "    marker=dict(color=\"blue\"),\n",
    "    y=output[\"distSV\"],\n",
    "    hoverinfo='text'\n",
    "))\n",
    "\n",
    "fig.show()"
   ]
  },
  {
   "cell_type": "code",
   "execution_count": 18,
   "id": "560d4d7f4c94e452",
   "metadata": {
    "ExecuteTime": {
     "end_time": "2025-09-11T20:06:49.438648Z",
     "start_time": "2025-09-11T20:04:39.183763Z"
    }
   },
   "outputs": [
    {
     "name": "stdout",
     "output_type": "stream",
     "text": [
      "Predict 01407475-4a35-4ed0-8f67-b759f9e18e72: class LESS score: 55.69586717507045, expected: LESS\n",
      "Predict 022374f1-cd32-4a40-935f-f0ea168a5f71: class LEAK score: 64.68747610912285, expected: LEAK\n",
      "Predict 057bdff0-b0b3-495d-914e-aced5d8f64c7: class LESS score: 57.1820989038919, expected: LESS\n",
      "Predict 058b3360-4181-473a-8783-f0a27aa5ce08: class LEAK score: 56.85648556330576, expected: LEAK\n",
      "Predict 067fb1bd-0491-4d2d-8c01-4e16e5ff4cbd: class LESS score: 57.43984198200739, expected: LESS\n",
      "Predict 075f2ee2-6235-4edb-a866-4b7e93e012f2: class LESS score: 52.86195955651729, expected: LESS\n",
      "Predict 09753cbd-2201-4e21-bd83-eadba3e14130: class LEAK score: 73.35921550240818, expected: LEAK\n",
      "Predict 0b44b12a-1ec7-4377-aa0b-7156942c346f: class LEAK score: 56.468853675994325, expected: LEAK\n",
      "Predict 0fcc33a0-9d6a-4ac6-abdf-ff0a558160d6: class LEAK score: 50.05835009618455, expected: LESS\n",
      "Predict 1115a1ac-212d-44d4-9ff5-81ad5133ad6a: class LESS score: 53.102606849371504, expected: LESS\n",
      "Predict 16a4a49c-7a0d-4c21-b981-876d96201bf1: class LEAK score: 51.42318502278934, expected: LESS\n",
      "Predict 172ee0ea-bfbf-4ed8-b267-e99822e1ac9e: class LEAK score: 53.957210026228864, expected: LEAK\n",
      "Predict 1c149046-ca57-4ad9-8c56-86875fe74ac3: class LESS score: 62.083299077257045, expected: LESS\n",
      "Predict 1d837bb7-36c7-4cf6-a2fa-1cafa24dd31b: class LESS score: 54.07196520122982, expected: LESS\n",
      "Predict 1d9fc2a7-b7f7-4ee5-9d7a-0b90906c196c: class LEAK score: 62.70705904598446, expected: LEAK\n",
      "Predict 1e93e705-6283-4df7-9b29-4582f528de05: class LESS score: 52.819220537379195, expected: LESS\n",
      "Predict 1ef4fdfa-e4a3-496e-9c60-0a25344889cb: class LESS score: 51.72103519455066, expected: LESS\n",
      "Predict 1f64e5b4-7ad1-4b20-bb11-f23ac4b6a32a: class LEAK score: 50.26982923797091, expected: LEAK\n",
      "Predict 1fb49375-27b1-4d1e-a475-b5bad8eaf936: class LESS score: 53.43230151397207, expected: LESS\n",
      "Predict 22a245e7-67d8-40f8-8446-ab05ec262737: class LEAK score: 55.190735755366624, expected: LEAK\n",
      "Predict 233a71ab-2c3c-41ab-8505-2fd723637590: class LESS score: 50.06428333891117, expected: LEAK\n",
      "Predict 23978f73-3b88-46fe-983d-c7ed1d923fcf: class LEAK score: 57.26711051490436, expected: LEAK\n",
      "Predict 244e2f24-33c2-47c4-829e-6b395e80041f: class LEAK score: 55.48876809925317, expected: LEAK\n",
      "Predict 265b1d24-c7bb-4135-a4f3-0ef67ef78fbd: class LEAK score: 60.65892983361141, expected: LEAK\n",
      "Predict 267dabdb-e25a-455e-9b5c-7bf9e6111b2b: class LEAK score: 56.03368228190075, expected: LEAK\n",
      "Predict 2cd0b928-a401-4884-b04c-d88273c3d8ec: class LESS score: 54.41363169452698, expected: LESS\n",
      "Predict 30979085-99c6-44f3-8d34-ec74ce0a8412: class LEAK score: 51.13492432682379, expected: LESS\n",
      "Predict 30e3b5a0-5df1-4383-82f1-f33b94ceca88: class LEAK score: 54.705653643309795, expected: LEAK\n",
      "Predict 31308d3c-9804-4a5b-9683-5ef7479da6e8: class LESS score: 52.13334583764298, expected: LESS\n",
      "Predict 3130ddb6-cfc2-465b-857f-db8c853da988: class LEAK score: 53.549037727519355, expected: LESS\n",
      "Predict 31c13852-efad-4fc9-8d37-1465fbd53571: class LESS score: 55.59688239407864, expected: LESS\n",
      "Predict 32dbba3e-2269-4829-b0e6-9844c211a14a: class LEAK score: 62.076104400669784, expected: LEAK\n",
      "Predict 3332dfd1-6ae8-4f09-a9a8-7414d3e5f3c9: class LEAK score: 52.5251774377693, expected: LEAK\n",
      "Predict 33d9e7da-961f-4c47-9f8a-54c4b038e641: class LESS score: 53.576479298402234, expected: LESS\n",
      "Predict 34dbe9e5-25dc-41c1-be7a-9b4237bc496e: class LESS score: 53.30990146686686, expected: LESS\n",
      "Predict 3511da08-6463-401a-989c-ebaa2a581f21: class LESS score: 55.27306039642069, expected: LESS\n",
      "Predict 363d123b-677e-403a-aaf9-eb576e0153cd: class LEAK score: 52.4141326995285, expected: LEAK\n",
      "Predict 39862d76-bf3f-4c21-9ea0-34f80a7828c7: class LESS score: 80.10909618374761, expected: LESS\n",
      "Predict 3c01d54d-c2d5-4a0f-9171-d06389a83f31: class LESS score: 55.55810574262827, expected: LESS\n",
      "Predict 3d84ac9e-7396-4cda-932e-869ae750b66f: class LESS score: 57.41122583684465, expected: LESS\n",
      "Predict 3e6d4f02-fbbd-4b0f-b37d-6b6cde89d256: class LEAK score: 54.592869384738876, expected: LEAK\n",
      "Predict 3f0037b8-7822-4db8-ad3e-165fe3d323ea: class LESS score: 60.11671352397019, expected: LESS\n",
      "Predict 40895fa8-3325-4cdf-9fcd-026eca4f4747: class LESS score: 52.87111615691285, expected: LESS\n",
      "Predict 40f77164-d86b-47ac-b868-0d69c89f592a: class LEAK score: 63.88581429801295, expected: LEAK\n",
      "Predict 41b3e6e3-e47f-4f33-8df5-ca921e8b6c6d: class LEAK score: 50.14694883403572, expected: LEAK\n",
      "Predict 41bc0891-4492-4e71-9ff0-d6c2752d3332: class LEAK score: 59.66814419203421, expected: LEAK\n",
      "Predict 41c74c09-2eb0-4153-81fb-f76aee8399b1: class LESS score: 51.38171620634937, expected: LESS\n",
      "Predict 42bb0022-b55b-4ed3-9cb7-d78fad4a5fe2: class LEAK score: 51.94818160323169, expected: LESS\n",
      "Predict 42e65da6-49e2-48df-b126-21747c5ce1af: class LESS score: 63.1213804396312, expected: LESS\n",
      "Predict 45703f27-b0a5-4aa0-aae9-7b8c85f517cd: class LESS score: 59.30895945034332, expected: LESS\n",
      "Predict 4820d610-e8ad-4ff9-b4cc-aebbdfdb2bc5: class LEAK score: 54.36156631660387, expected: LEAK\n",
      "Predict 48983bc4-d28d-4288-9155-20282d853ab7: class LESS score: 54.961103348079774, expected: LESS\n",
      "Predict 4a1c332c-fb6d-4e71-b66a-6b05816bd30b: class LESS score: 54.2696450992022, expected: LESS\n",
      "Predict 4a5c043a-c625-47bf-873f-52dfd84cf8fc: class LESS score: 53.58675485583434, expected: LESS\n",
      "Predict 4d034f2a-53c7-4498-baa6-4207eaa7ecae: class LEAK score: 55.18999651234044, expected: LEAK\n",
      "Predict 4dc5b6d7-8ea3-4d40-ac8b-0aa182582299: class LESS score: 54.688480824790595, expected: LESS\n",
      "Predict 4e3b145d-2566-4110-a796-566b496bc9ef: class LEAK score: 54.10201839448573, expected: LEAK\n",
      "Predict 4f7f704d-68ec-4e37-af3d-fb53804e1341: class LEAK score: 51.68755281133335, expected: LEAK\n",
      "Predict 4fc41ed8-e18b-4a75-be61-5bcf3998ccdd: class LEAK score: 65.64241695892152, expected: LEAK\n",
      "Predict 51f49063-67e9-4ff4-8f83-3ffe40931208: class LESS score: 60.99967091187144, expected: LESS\n",
      "Predict 55444805-d82c-459f-a44d-0a89e126d128: class LESS score: 54.00492931724409, expected: LEAK\n",
      "Predict 59590a79-d7e7-4189-a072-e3ff50727a8a: class LEAK score: 61.48840388763506, expected: LEAK\n",
      "Predict 5c0ac378-936a-48e1-8099-7d636d134754: class LEAK score: 59.22636694996384, expected: LEAK\n",
      "Predict 5ca5a510-9b95-449e-9f90-de1d8b0ec9b5: class LESS score: 53.57800515506719, expected: LESS\n",
      "Predict 6327537f-25e2-4f60-8e34-d1857ccc881a: class LESS score: 55.10679056917554, expected: LESS\n",
      "Predict 63a36bff-203b-41ab-b652-5efd51be7b2a: class LEAK score: 56.12732564057708, expected: LEAK\n",
      "Predict 688fc5c2-aea2-4e4e-af85-19426924aaa2: class LEAK score: 59.201985522489494, expected: LEAK\n",
      "Predict 6996e047-b9d8-4754-a1c2-f6d28e7968e3: class LEAK score: 61.13096653670546, expected: LEAK\n",
      "Predict 6be9934d-3391-4f2a-b54f-35a56635c497: class LEAK score: 60.13793726774836, expected: LEAK\n",
      "Predict 6d224654-963d-4d21-948b-6c95220b5382: class LEAK score: 52.069934973882994, expected: LEAK\n",
      "Predict 6e10fd0d-19bf-4417-868e-3e05512af561: class LESS score: 55.2429872741263, expected: LESS\n",
      "Predict 6e1da2ae-efb9-4a5b-9464-9b2867026fa5: class LESS score: 58.55288230774271, expected: LESS\n",
      "Predict 7373d90a-0d0d-4bce-abe0-fa083588b8c1: class LEAK score: 55.662912101958725, expected: LEAK\n",
      "Predict 744726fd-f3ce-417b-b8a7-cbc122c1cdcc: class LEAK score: 55.9187556181134, expected: LEAK\n",
      "Predict 749e368b-c1c7-4e5d-b8c6-b20fee5d9b33: class LESS score: 51.87330503498252, expected: LESS\n",
      "Predict 74df10c0-0ff6-4ccb-ba9c-2f4826c55313: class LEAK score: 52.77009923657613, expected: LEAK\n",
      "Predict 756a4b73-c72b-4e0b-bb52-3bc3ea22c7d3: class LEAK score: 51.91475741284, expected: LEAK\n",
      "Predict 75de7af3-64d7-44c9-8cca-5d1747acce88: class LEAK score: 55.69479249843684, expected: LEAK\n",
      "Predict 763a2731-35c0-42c8-8408-7ceaa4503b55: class LEAK score: 63.03037281843484, expected: LEAK\n",
      "Predict 78f1828b-6320-4c63-a6d2-acb5a0ed3900: class LEAK score: 53.58317887726272, expected: LEAK\n",
      "Predict 7985911b-fb14-4306-a6d5-642d8c03c8a9: class LESS score: 50.91848543688528, expected: LESS\n",
      "Predict 79e68a73-bbcd-4b04-9e73-525ad6fa4853: class LESS score: 52.254515042098994, expected: LESS\n",
      "Predict 7a78a363-5b28-4e08-a2fc-e3e0757b7f66: class LEAK score: 59.18263170399094, expected: LEAK\n",
      "Predict 7af284a6-0844-48ff-b9d2-0793c520fa8e: class LESS score: 54.05252930693947, expected: LESS\n",
      "Predict 7c2fde65-f920-44a3-8b5d-17cfe521a939: class LEAK score: 57.648526424159144, expected: LESS\n",
      "Predict 7c6ead0e-fb73-46b4-92a7-4d63bbc6d9ae: class LEAK score: 53.25550553077687, expected: LEAK\n",
      "Predict 7d738e2e-1cb6-4d65-8ae1-a66faa219ba0: class LESS score: 53.29536471812189, expected: LESS\n",
      "Predict 7eaa82ed-8e02-4572-83a6-ec2ff1596c76: class LESS score: 50.93942198457129, expected: LESS\n",
      "Predict 7fed0b5b-7886-474e-b3ca-02b2cd728b9f: class LESS score: 54.27621204123619, expected: LESS\n",
      "Predict 80a50139-57a1-40bc-8caa-d1c2d245fe1a: class LESS score: 50.953062851085804, expected: LESS\n",
      "Predict 8245cf42-f0e3-462d-8ea3-98ac4ca92b87: class LEAK score: 51.5994868046214, expected: LESS\n",
      "Predict 83511449-270d-42b6-b329-c64023143bf6: class LEAK score: 60.08123746501837, expected: LEAK\n",
      "Predict 850f55d4-7451-4401-b263-1f6de73f5422: class LEAK score: 53.93354760897338, expected: LEAK\n",
      "Predict 86643ba8-05ce-4dfd-8a06-c2f6006525f8: class LESS score: 54.43243099203292, expected: LESS\n",
      "Predict 8793122e-7192-4e00-84a8-b696ab2afffd: class LEAK score: 57.84906573100531, expected: LEAK\n",
      "Predict 8863c036-a99e-4250-95aa-8eed22c40648: class LEAK score: 62.187539941474434, expected: LEAK\n",
      "Predict 89acf5be-dae1-444d-b572-bf37d4a918d8: class LESS score: 51.704720181289545, expected: LESS\n",
      "Predict 8abc7866-b271-40a4-9a93-38ef436b58d0: class LESS score: 59.58501153112261, expected: LESS\n",
      "Predict 8ac29881-20d2-453d-a8a0-8bf72ce9e8a8: class LESS score: 51.54137114846664, expected: LESS\n",
      "Predict 8e4e94b7-85a7-4413-a8f6-bcf0fc30bfc4: class LEAK score: 56.91458319704583, expected: LESS\n",
      "Predict 8f27eced-2786-44c5-953f-bbee052936fc: class LEAK score: 51.556349102126276, expected: LESS\n",
      "Predict 8ffa1b10-af1c-498f-a138-00a2a19b31f9: class LESS score: 71.54092572123227, expected: LESS\n",
      "Predict 90384762-8761-4752-bc8a-60361b19449d: class LEAK score: 58.50140635559126, expected: LEAK\n",
      "Predict 905e70f5-8d9f-492e-9103-4a9cd672ceae: class LEAK score: 60.73542844548495, expected: LEAK\n",
      "Predict 907442a5-c572-49f0-84b2-ec49c53c3774: class LESS score: 53.08416713664644, expected: LESS\n",
      "Predict 910a7958-f3af-4fa8-9bb8-21883a0ccb44: class LESS score: 51.33679113015772, expected: LESS\n",
      "Predict 91f706be-8a1c-44ba-baf5-f5c38aff9981: class LESS score: 53.96665103557318, expected: LEAK\n",
      "Predict 929b2741-82d0-4f73-9587-a688c2e5c7d3: class LESS score: 53.26295714422952, expected: LESS\n",
      "Predict 93a6a363-9477-44c6-ab28-098ba88c3511: class LEAK score: 55.61805076083491, expected: LEAK\n",
      "Predict 93c27eb0-04df-48fd-a6ec-5ecc6a7bd554: class LEAK score: 52.30759257592168, expected: LEAK\n",
      "Predict 94a7b0e4-8aed-45ff-9c14-b4b79c0f4454: class LEAK score: 65.2365421655507, expected: LEAK\n",
      "Predict 97064970-ca59-4982-9a9b-7cb87167c026: class LEAK score: 51.22107186948111, expected: LEAK\n",
      "Predict 9ac7a156-b7a9-4469-8269-94e66d581457: class LESS score: 51.86470711209936, expected: LESS\n",
      "Predict 9b31436a-b856-421d-a422-50c2b5b05747: class LEAK score: 51.87839680017099, expected: LEAK\n",
      "Predict 9b5b719a-423d-4354-ba87-bd07bc78d1fd: class LEAK score: 50.51512132231461, expected: LEAK\n",
      "Predict 9d066acb-4022-4c7f-b61a-466a15f4da0a: class LEAK score: 60.63862090442566, expected: LEAK\n",
      "Predict 9fc59a05-35d4-4856-9398-817f01739909: class LEAK score: 54.16926924435768, expected: LEAK\n",
      "Predict a00c34a3-8556-4bf6-be2d-aec8f2285a84: class LESS score: 54.2542231994938, expected: LESS\n",
      "Predict a566bcd7-fee3-43d1-bd0e-4853c410d77f: class LEAK score: 52.07413836734482, expected: LESS\n",
      "Predict a711cdcd-0ba0-4f25-bdc9-62a2ccca7c19: class LESS score: 95.42925781024952, expected: LESS\n",
      "Predict a8968534-f2ec-465c-b0d8-ae7c35b61f97: class LEAK score: 60.51097282703869, expected: LEAK\n",
      "Predict aadcdde0-9ced-4195-906d-f54b4d441263: class LESS score: 50.30503953725398, expected: LEAK\n",
      "Predict ac427411-b29b-42ee-b2b6-b49643b71894: class LESS score: 54.44288583439618, expected: LESS\n",
      "Predict ac9960c3-82d5-4f96-8d05-d39ab83714d9: class LESS score: 58.247924690233766, expected: LESS\n",
      "Predict ad205e1a-466a-49c0-adbd-c568e74a72d3: class LESS score: 50.0099172929605, expected: LESS\n",
      "Predict af091334-0bb3-4100-b8b9-36f565a0347d: class LEAK score: 54.59000848581823, expected: LEAK\n",
      "Predict b12ea13b-2b36-4646-92ca-b27a4228eb0f: class LEAK score: 59.622075448006754, expected: LEAK\n",
      "Predict b154ccca-77ee-4778-be3a-f207bf2a4054: class LEAK score: 54.94381618833619, expected: LEAK\n",
      "Predict b26d7e5d-a8db-4d64-8655-1070ced0f73a: class LESS score: 51.47740849270146, expected: LESS\n",
      "Predict b322a522-073d-430d-ad52-35814dc06db1: class LESS score: 51.42261180941071, expected: LESS\n",
      "Predict b3fc5226-6e77-41bd-9b0e-933f82c8384a: class LEAK score: 52.279994807153074, expected: LEAK\n",
      "Predict b6c79394-cb92-4770-8b04-3863b8f02fcb: class LEAK score: 61.090682822602396, expected: LEAK\n",
      "Predict b8515cd2-f2e3-445f-86d8-f9688a317b8a: class LESS score: 56.5615819474215, expected: LESS\n",
      "Predict b8a25c93-33df-4771-9d5f-e63a00d21bf7: class LESS score: 50.915989585222206, expected: LESS\n",
      "Predict b936e7c9-284e-49e4-a91b-13766124727d: class LESS score: 54.36104851421679, expected: LESS\n",
      "Predict b97daf7e-721f-4161-abaa-a032c79ffcdc: class LESS score: 52.84014350135264, expected: LESS\n",
      "Predict bac52ee0-b918-4cc3-98d3-45af42884e9d: class LESS score: 52.36626768613577, expected: LESS\n",
      "Predict badf5333-5d16-4338-b3e6-84987a590070: class LEAK score: 50.979583206549364, expected: LESS\n",
      "Predict bb416b83-0fdb-45be-9041-a8dc1b147ba4: class LESS score: 54.787149903800646, expected: LESS\n",
      "Predict bc36fb8c-2cb4-416a-97e4-687f2e1239a1: class LESS score: 53.073914670345566, expected: LESS\n",
      "Predict bc4c615d-2264-403b-8bad-dc09ecab68cd: class LESS score: 51.65944348178017, expected: LESS\n",
      "Predict bc8c359a-0ea2-4413-b738-4bbfcdfdeba4: class LESS score: 51.16865482648385, expected: LESS\n",
      "Predict bd4d958e-ba78-401a-a67c-8fe4484c510e: class LESS score: 52.988041864979465, expected: LESS\n",
      "Predict bda4a609-a668-4057-a87e-222ed8f240e8: class LEAK score: 56.01243458212958, expected: LEAK\n",
      "Predict c021a586-a128-4604-a99c-e99b1c51bcc9: class LEAK score: 63.553689640860746, expected: LEAK\n",
      "Predict c054b049-8eba-4319-be2e-e4ad12b20749: class LEAK score: 54.44868850282509, expected: LEAK\n",
      "Predict c327316f-e5d8-4bf6-81af-73e3d10222d9: class LEAK score: 52.18358684147597, expected: LEAK\n",
      "Predict c3ffae47-295d-45d6-b749-c32dd4b51099: class LEAK score: 60.626770189768884, expected: LEAK\n",
      "Predict c5eb8ec7-815a-43a0-8193-8cbea31e1774: class LESS score: 56.16032265506118, expected: LESS\n",
      "Predict c6d62a6f-88bb-4915-9968-61491b2488ef: class LEAK score: 52.219094130738554, expected: LEAK\n",
      "Predict cddf4402-f751-473f-80bf-9758ab4f460c: class LEAK score: 53.510544068077046, expected: LEAK\n",
      "Predict ce843401-dc57-4023-8085-65bb7e37f987: class LEAK score: 58.1923266728388, expected: LEAK\n",
      "Predict d18369f1-9da5-4e71-8409-519722cfe750: class LEAK score: 58.135478631211576, expected: LEAK\n",
      "Predict d1c8eff8-7efe-4d6c-b85e-efeecf90c003: class LEAK score: 54.59000565382792, expected: LEAK\n",
      "Predict d1fe3875-6c89-4de5-bc01-b9a252efc7b3: class LESS score: 55.43107088278365, expected: LESS\n",
      "Predict d2d2afe5-96db-4271-b25d-1001204222c4: class LEAK score: 56.68582924931814, expected: LEAK\n",
      "Predict d34d8beb-f27a-4517-a8f7-c5441f864c13: class LESS score: 50.93173579699476, expected: LESS\n",
      "Predict d4a5b2e2-c995-4450-8e30-ba78f9e5ff20: class LEAK score: 54.13954175439187, expected: LEAK\n",
      "Predict d5a65da5-a182-43a4-a8c2-64970cd5ea82: class LEAK score: 54.3699620766526, expected: LEAK\n",
      "Predict d87f16e1-46a0-47d4-a2af-d646cab40390: class LEAK score: 60.05078222194267, expected: LEAK\n",
      "Predict d9635645-2963-4b7f-9efd-eb4946436364: class LESS score: 56.140049662511515, expected: LESS\n",
      "Predict d9da72ef-d14d-48b3-892c-f37d9fa845f4: class LEAK score: 55.224319351432726, expected: LEAK\n",
      "Predict dc26258b-2e06-4725-9dc7-040ca67b9cbd: class LEAK score: 56.88123349262175, expected: LEAK\n",
      "Predict dc3c38ab-64ac-4442-bda6-ad00debbdcee: class LEAK score: 51.440792706338115, expected: LESS\n",
      "Predict dcda81f1-bce0-414b-874b-a6e8bdd347fb: class LESS score: 54.73064306892478, expected: LESS\n",
      "Predict dd507ee4-7d44-4bdb-9ef8-684430078a28: class LEAK score: 52.54814241435742, expected: LEAK\n",
      "Predict df51f1c7-8c76-4dcb-8481-7b632c96e60f: class LEAK score: 52.76418872583126, expected: LESS\n",
      "Predict e0d48707-dc47-4479-949b-b521e6aa057e: class LESS score: 55.29789180428671, expected: LESS\n",
      "Predict e1317837-39cb-4067-b437-ac605c4ce59a: class LESS score: 55.67133048350629, expected: LESS\n",
      "Predict e634b8d8-17aa-47b7-bc4d-9880a09fcebc: class LESS score: 58.143048937694594, expected: LESS\n",
      "Predict e7d3d440-a1b9-49ae-8666-0499df3a3f1c: class LEAK score: 60.58351761469834, expected: LEAK\n",
      "Predict e7de6200-a7f2-44a1-a18b-f92be703a4dd: class LEAK score: 54.75501600738157, expected: LEAK\n",
      "Predict e942abf2-16e2-49b2-bd64-e1b3c51ebf1a: class LEAK score: 57.98622215808867, expected: LEAK\n",
      "Predict ecd785ba-8860-4434-aa3c-07ae615b733d: class LEAK score: 57.569176988521775, expected: LEAK\n",
      "Predict ed14ebc1-f9c3-4101-af92-7ad7d4bfb8d4: class LESS score: 54.97180129083098, expected: LESS\n",
      "Predict ed519a36-85d9-41c2-b7b3-a4922238a815: class LEAK score: 50.26780940705362, expected: LEAK\n",
      "Predict ee913c56-eb9a-45e1-ae1e-fb805c953316: class LESS score: 52.41061599854846, expected: LESS\n",
      "Predict eea67cc0-154d-4a3c-bc5a-335eab49afd1: class LESS score: 57.439717088086454, expected: LESS\n",
      "Predict f0d9ab11-f736-4cdf-9c41-17d65abc2f6b: class LESS score: 55.59991815185167, expected: LESS\n",
      "Predict f3243594-f0df-4078-8bc3-0a1032dad802: class LEAK score: 50.35677647138252, expected: LESS\n",
      "Predict f3320c0a-24f7-456d-b273-a1ea0bb30511: class LEAK score: 68.32972965047716, expected: LEAK\n",
      "Predict f41b8b67-993e-4047-aa38-09d6cf28a027: class LEAK score: 62.846859344932106, expected: LEAK\n",
      "Predict f665685f-5c16-4a33-ace9-4fe82ac7426e: class LESS score: 56.847894589165904, expected: LESS\n",
      "Predict f753ab3d-a144-4c89-89ad-0f48701fa7ee: class LEAK score: 56.58161572829076, expected: LEAK\n",
      "Predict f91bcc39-413d-4698-b468-aa66ec94946f: class LEAK score: 61.181326245070146, expected: LEAK\n",
      "Predict fa4e36cc-ab73-4e1b-ba7c-11cdc2ed2f87: class LEAK score: 63.755800703710555, expected: LEAK\n",
      "Predict fbc80285-1cb2-4083-9a9f-728a2860d6f1: class LEAK score: 60.01191534027228, expected: LEAK\n",
      "Predict fdb3a66a-81fd-401b-a19a-2fb4586e7e5a: class LEAK score: 56.17208214731878, expected: LEAK\n",
      "Predict fdcbed72-47c8-4bc3-80c1-b8d5b03aa5d5: class LEAK score: 50.184807104024976, expected: LESS\n",
      "Predict fe37b01d-7ce1-413d-b8ee-e61d376fa6a2: class LEAK score: 58.73370952677065, expected: LEAK\n",
      "Predict fe4a9742-595c-46fa-8e8d-f23b2718a98c: class LESS score: 51.166607972008116, expected: LESS\n",
      "Predict ffa06da4-7811-46c6-ae80-75ae8ddcff2b: class LEAK score: 50.453013410913336, expected: LEAK\n",
      "Confusion matrix: \n",
      "TN: 81, FP: 15, FN: 4, TP: 92\n"
     ]
    }
   ],
   "source": [
    "from sklearn.metrics import confusion_matrix\n",
    "\n",
    "y_true = []\n",
    "y_pred = []\n",
    "\n",
    "for sample_id, df_features in df_test_features.groupby(\"id\"):\n",
    "    X_test = df_features.drop(columns=[\"id\", \"class\"]).values\n",
    "    output = mm.process(X_test)\n",
    "\n",
    "    expected_output = df_features[\"class\"].values[0]\n",
    "    print(f\"Predict {sample_id}: class {output['class']} score: {output['score']}, expected: {expected_output}\")\n",
    "\n",
    "    y_true.append(1 if expected_output == \"LEAK\" else 0)\n",
    "    y_pred.append(1 if output[\"class\"] == \"LEAK\" else 0)\n",
    "\n",
    "tn, fp, fn, tp = confusion_matrix(y_true, y_pred, labels=[0, 1]).ravel().tolist()\n",
    "\n",
    "print(f\"Confusion matrix: \\nTN: {tn}, FP: {fp}, FN: {fn}, TP: {tp}\")"
   ]
  },
  {
   "cell_type": "markdown",
   "id": "eaece767",
   "metadata": {},
   "source": [
    "# Stevan - Extrator de features básico"
   ]
  },
  {
   "cell_type": "code",
   "execution_count": 19,
   "id": "9da01a54f59c4da4",
   "metadata": {},
   "outputs": [
    {
     "name": "stdout",
     "output_type": "stream",
     "text": [
      "Vetor de features: (32,)\n",
      "Primeiras 10 dims: [ 7.8000000e-04  1.3600000e-03  1.8110999e-01  6.8719998e-02\n",
      "  1.3192579e+03  5.5941486e+02 -6.3025739e+02  4.5285141e+01\n",
      " -5.1715321e+01  6.9185001e-01]\n"
     ]
    }
   ],
   "source": [
    "# Extrator de features de áudio (32D) + exemplo \n",
    "import numpy as np\n",
    "import librosa\n",
    "\n",
    "def extract_basic_audio_features(\n",
    "    path: str,\n",
    "    sr: int = 16000,\n",
    "    n_fft: int = 1024,\n",
    "    hop_length: int = 256,\n",
    "    n_mfcc: int = 13,\n",
    ") -> np.ndarray:\n",
    "    \"\"\"\n",
    "    Vetor de 32 dimensões:\n",
    "      [ RMS_mean, RMS_std, -> Média e Desvio\n",
    "        ZCR_mean, ZCR_std, -> Média e Desvio\n",
    "        Centroid_mean, Centroid_std, -> Média e Desvio\n",
    "        MFCC0_mean..MFCC12_mean (13), -> Média x13\n",
    "        MFCC0_std..MFCC12_std   (13) ]\n",
    "    \"\"\"\n",
    "    # 1) Carrega o dado\n",
    "    y, sr_loaded = librosa.load(path, sr=sr, mono=True)\n",
    "\n",
    "    # 2) Magnitude para RMS, potência para centroid\n",
    "    S_mag = np.abs(librosa.stft(y, n_fft=n_fft, hop_length=hop_length))\n",
    "    S_pow = S_mag**2\n",
    "\n",
    "    # 3) Features básicas por frame\n",
    "    rms = librosa.feature.rms(S=S_mag, frame_length=n_fft, hop_length=hop_length)[0]\n",
    "    zcr = librosa.feature.zero_crossing_rate(y, frame_length=n_fft, hop_length=hop_length)[0]\n",
    "    centroid = librosa.feature.spectral_centroid(S=S_pow, sr=sr_loaded)[0]\n",
    "    mfcc = librosa.feature.mfcc(y=y, sr=sr_loaded, n_mfcc=n_mfcc,\n",
    "                                n_fft=n_fft, hop_length=hop_length)\n",
    "\n",
    "    # 4) Função + Vetor (mean/std)\n",
    "    def stats(x: np.ndarray) -> np.ndarray:\n",
    "        return np.array([np.mean(x), np.std(x)], dtype=np.float32)\n",
    "\n",
    "    vec = np.concatenate([\n",
    "        stats(rms),                  # 2\n",
    "        stats(zcr),                  # 2\n",
    "        stats(centroid),             # 2\n",
    "        np.mean(mfcc, axis=1),       # 13\n",
    "        np.std(mfcc, axis=1),        # 13\n",
    "    ]).astype(np.float32)            # total = 32\n",
    "\n",
    "    return vec\n",
    "\n",
    "# Exemplo direto com arquivo \n",
    "audio_path = \"/home/stevan/Documentos/4fluid-ia/data/audios/2025_db1/3026c4d9-78ff-4dde-8034-fb2c18d5100f.wav\"\n",
    "\n",
    "feat_vec = extract_basic_audio_features(audio_path)\n",
    "print(\"Vetor de features:\", feat_vec.shape)   # esperado: (32,)\n",
    "print(\"Primeiras 10 dims:\", np.round(feat_vec[:10], 5))"
   ]
  },
  {
   "cell_type": "markdown",
   "id": "b88ba9e9",
   "metadata": {},
   "source": [
    "# Pipeline 2 - Extração de Features"
   ]
  },
  {
   "cell_type": "code",
   "execution_count": 20,
   "id": "b4508ac8",
   "metadata": {},
   "outputs": [
    {
     "name": "stdout",
     "output_type": "stream",
     "text": [
      "Pipeline pronto: use `extract_audio_features_advanced(path_or_wave, cfg)`\n"
     ]
    }
   ],
   "source": [
    "# Pipeline 2 de extração de features de áudio \n",
    "from __future__ import annotations\n",
    "from dataclasses import dataclass\n",
    "from typing import Dict, Tuple, List, Union, Optional\n",
    "from pathlib import Path\n",
    "import numpy as np\n",
    "import librosa\n",
    "\n",
    "\n",
    "# -----------------------------\n",
    "# Configuração\n",
    "# -----------------------------\n",
    "@dataclass\n",
    "class FeatureConfig:\n",
    "    # pré-processamento\n",
    "    sr: int = 16000\n",
    "    mono: bool = True\n",
    "    offset: float = 0.0\n",
    "    duration: Optional[float] = None\n",
    "    trim_silence: bool = True\n",
    "    trim_top_db: float = 30.0\n",
    "    normalize_peak: bool = True\n",
    "    pre_emphasis: bool = True\n",
    "    pre_emph_coef: float = 0.97\n",
    "\n",
    "    # STFT\n",
    "    n_fft: int = 1024\n",
    "    hop_length: int = 256\n",
    "    win_length: Optional[int] = None\n",
    "    window: str = \"hann\"\n",
    "\n",
    "    # Mel / MFCC\n",
    "    n_mels: int = 64\n",
    "    fmin: float = 20.0\n",
    "    fmax: Optional[float] = None\n",
    "    n_mfcc: int = 13\n",
    "    mfcc_use_deltas: bool = True    \n",
    "\n",
    "    # Seleção de features\n",
    "    use_logmel: bool = True\n",
    "    use_mfcc: bool = True\n",
    "    use_chroma: bool = True\n",
    "    use_contrast: bool = True\n",
    "    use_tonnetz: bool = False        # útil para sinais tonais (musicais)\n",
    "    use_rms: bool = True\n",
    "    use_zcr: bool = True\n",
    "    use_centroid_bw_rolloff: bool = True\n",
    "    use_flatness: bool = True\n",
    "    use_tempo: bool = True\n",
    "\n",
    "    # Agregação\n",
    "    aggregate: bool = True\n",
    "    aggregate_stats: Tuple[str, ...] = (\"mean\", \"std\", \"median\", \"iqr\", \"min\", \"max\")\n",
    "\n",
    "    # Segurança numérica\n",
    "    eps: float = 1e-10\n",
    "\n",
    "\n",
    "# -----------------------------\n",
    "# Funções utilitárias\n",
    "# -----------------------------\n",
    "def _pre_emphasis(y: np.ndarray, coef: float = 0.97) -> np.ndarray:\n",
    "    if y.size < 2:\n",
    "        return y\n",
    "    y_out = np.empty_like(y)\n",
    "    y_out[0] = y[0]\n",
    "    y_out[1:] = y[1:] - coef * y[:-1]\n",
    "    return y_out\n",
    "\n",
    "def _iqr(x: np.ndarray, axis: int = -1) -> np.ndarray:\n",
    "    q75 = np.nanpercentile(x, 75, axis=axis)\n",
    "    q25 = np.nanpercentile(x, 25, axis=axis)\n",
    "    return q75 - q25\n",
    "\n",
    "def _aggregate_matrix(F: np.ndarray, name: str, stats: Tuple[str, ...]) -> Tuple[np.ndarray, List[str]]:\n",
    "    \"\"\"Aggrega (D, T) -> concat de stats por eixo 1 (tempo).\"\"\"\n",
    "    F = np.atleast_2d(F)\n",
    "    vec_parts, names = [], []\n",
    "    for stat in stats:\n",
    "        if stat == \"mean\":\n",
    "            vals = np.nanmean(F, axis=1)\n",
    "        elif stat == \"std\":\n",
    "            vals = np.nanstd(F, axis=1)\n",
    "        elif stat == \"median\":\n",
    "            vals = np.nanmedian(F, axis=1)\n",
    "        elif stat == \"iqr\":\n",
    "            vals = _iqr(F, axis=1)\n",
    "        elif stat == \"min\":\n",
    "            vals = np.nanmin(F, axis=1)\n",
    "        elif stat == \"max\":\n",
    "            vals = np.nanmax(F, axis=1)\n",
    "        else:\n",
    "            raise ValueError(f\"Estatística '{stat}' não suportada.\")\n",
    "        vec_parts.append(vals)\n",
    "        names.extend([f\"{name}_{i}_{stat}\" for i in range(F.shape[0])])\n",
    "    return np.concatenate(vec_parts, axis=0).astype(np.float32), names\n",
    "\n",
    "\n",
    "# -----------------------------\n",
    "# Extrator principal\n",
    "# -----------------------------\n",
    "def extract_audio_features_advanced(\n",
    "    y_or_path: Union[str, np.ndarray],\n",
    "    cfg: FeatureConfig = FeatureConfig(),\n",
    "    return_maps: bool = True,\n",
    ") -> Tuple[Dict[str, np.ndarray], np.ndarray, List[str]]:\n",
    "    \"\"\"\n",
    "    Retorna:\n",
    "      - features_dict: mapas 2D (n_feats x T) por chave\n",
    "      - feature_vector: vetor 1D com agregações\n",
    "      - feature_names: nomes alinhados ao vetor\n",
    "    \"\"\"\n",
    "    # 1) Carregar o áudio\n",
    "    if isinstance(y_or_path, str):\n",
    "        y, sr_loaded = librosa.load(\n",
    "            y_or_path, sr=cfg.sr, mono=cfg.mono, offset=cfg.offset, duration=cfg.duration\n",
    "        )\n",
    "    else:\n",
    "        y = np.asarray(y_or_path, dtype=np.float32)\n",
    "        sr_loaded = cfg.sr if cfg.sr is not None else 22050\n",
    "        if cfg.mono and y.ndim > 1:\n",
    "            y = librosa.to_mono(y)\n",
    "\n",
    "    # 2) Trim e normalização\n",
    "    if cfg.trim_silence:\n",
    "        y, _ = librosa.effects.trim(y, top_db=cfg.trim_top_db)\n",
    "    if cfg.normalize_peak and np.max(np.abs(y)) > 0:\n",
    "        y = y / (np.max(np.abs(y)) + cfg.eps)\n",
    "    if cfg.pre_emphasis:\n",
    "        y = _pre_emphasis(y, coef=cfg.pre_emph_coef)\n",
    "\n",
    "    # 3) STFT\n",
    "    win_length = cfg.win_length or cfg.n_fft\n",
    "    S_complex = librosa.stft(\n",
    "        y, n_fft=cfg.n_fft, hop_length=cfg.hop_length, win_length=win_length, window=cfg.window\n",
    "    )\n",
    "    S_mag = np.abs(S_complex)\n",
    "    S_pow = (S_mag ** 2)\n",
    "    features_dict: Dict[str, np.ndarray] = {}\n",
    "\n",
    "    # 4) Log-Mel\n",
    "    if cfg.use_logmel:\n",
    "        mel = librosa.feature.melspectrogram(\n",
    "            S=S_pow, sr=sr_loaded, n_mels=cfg.n_mels, fmin=cfg.fmin, fmax=cfg.fmax\n",
    "        )\n",
    "        logmel = np.log(mel + cfg.eps)\n",
    "        features_dict[\"logmel\"] = logmel\n",
    "\n",
    "    # 5) MFCC \n",
    "    if cfg.use_mfcc:\n",
    "        mfcc = librosa.feature.mfcc(\n",
    "            y=y, sr=sr_loaded, n_mfcc=cfg.n_mfcc, n_fft=cfg.n_fft, hop_length=cfg.hop_length\n",
    "        )\n",
    "        if cfg.mfcc_use_deltas:\n",
    "            d1 = librosa.feature.delta(mfcc, order=1)\n",
    "            d2 = librosa.feature.delta(mfcc, order=2)\n",
    "            mfcc = np.vstack([mfcc, d1, d2])  # shape: (n_mfcc*3, T)\n",
    "        features_dict[\"mfcc\"] = mfcc\n",
    "\n",
    "    # 6) Chroma / Contrast / Tonnetz (Outras opções do librosa porém com foco Musical)\n",
    "    if cfg.use_chroma:\n",
    "        features_dict[\"chroma\"] = librosa.feature.chroma_stft(S=S_pow, sr=sr_loaded, hop_length=cfg.hop_length)\n",
    "    if cfg.use_contrast:\n",
    "        features_dict[\"contrast\"] = librosa.feature.spectral_contrast(S=S_pow, sr=sr_loaded, fmin=cfg.fmin)\n",
    "    if cfg.use_tonnetz:\n",
    "        y_h = librosa.effects.harmonic(y)\n",
    "        features_dict[\"tonnetz\"] = librosa.feature.tonnetz(y=y_h, sr=sr_loaded)\n",
    "\n",
    "    # 7) Outras features\n",
    "    if cfg.use_rms:\n",
    "        features_dict[\"rms\"] = librosa.feature.rms(S=S_mag, frame_length=cfg.n_fft, hop_length=cfg.hop_length)\n",
    "    if cfg.use_zcr:\n",
    "        features_dict[\"zcr\"] = librosa.feature.zero_crossing_rate(y, frame_length=win_length, hop_length=cfg.hop_length)\n",
    "    if cfg.use_centroid_bw_rolloff:\n",
    "        features_dict[\"centroid\"]  = librosa.feature.spectral_centroid(S=S_pow, sr=sr_loaded)\n",
    "        features_dict[\"bandwidth\"] = librosa.feature.spectral_bandwidth(S=S_pow, sr=sr_loaded)\n",
    "        features_dict[\"rolloff\"]   = librosa.feature.spectral_rolloff(S=S_pow, sr=sr_loaded)\n",
    "    if cfg.use_flatness:\n",
    "        features_dict[\"flatness\"] = librosa.feature.spectral_flatness(S=S_pow)\n",
    "\n",
    "    # 8) Tempo (BPM)\n",
    "    if cfg.use_tempo:\n",
    "        try:\n",
    "            tempo, _ = librosa.beat.beat_track(y=y, sr=sr_loaded, hop_length=cfg.hop_length)\n",
    "            tempo = float(tempo)\n",
    "        except Exception:\n",
    "            tempo = np.nan\n",
    "        T = next(iter(features_dict.values())).shape[1] if features_dict else S_mag.shape[1]\n",
    "        features_dict[\"tempo\"] = np.full((1, T), tempo, dtype=np.float32)\n",
    "\n",
    "    # 9) Agregação -> vetor fixo\n",
    "    feat_vec_list, feat_names = [], []\n",
    "    if cfg.aggregate and features_dict:\n",
    "        for k, v in features_dict.items():\n",
    "            vec_k, names_k = _aggregate_matrix(v, k, cfg.aggregate_stats)\n",
    "            feat_vec_list.append(vec_k)\n",
    "            feat_names.extend(names_k)\n",
    "        feature_vector = np.concatenate(feat_vec_list, axis=0).astype(np.float32)\n",
    "    else:\n",
    "        feature_vector = np.array([], dtype=np.float32)\n",
    "        feat_names = []\n",
    "\n",
    "    # 10) Retorno\n",
    "    if not return_maps:\n",
    "        # Se não quiser mapas, só retorna dict vazio + vetor\n",
    "        return {}, feature_vector, feat_names\n",
    "    return features_dict, feature_vector, feat_names\n",
    "\n",
    "\n",
    "# -----------------------------\n",
    "# Transformar em DataFrame + padronização \n",
    "# -----------------------------\n",
    "def features_to_dataframe(feature_vector: np.ndarray, feature_names: List[str], tag: str = \"sample_0\"):\n",
    "    if pd is None:\n",
    "        raise ImportError(\"pandas não disponível. Instale `pandas` para usar este helper.\")\n",
    "    df = pd.DataFrame([feature_vector], index=[tag], columns=feature_names)\n",
    "    return df\n",
    "\n",
    "def standardize_features(X: np.ndarray) -> Tuple[np.ndarray, Optional[StandardScaler]]:\n",
    "    if StandardScaler is None:\n",
    "        print(\"⚠️ sklearn não disponível. Retornando X sem padronizar.\")\n",
    "        return X, None\n",
    "    scaler = StandardScaler()\n",
    "    Xs = scaler.fit_transform(X)\n",
    "    return Xs, scaler\n",
    "\n",
    "print(\"Pipeline pronto: use `extract_audio_features_advanced(path_or_wave, cfg)`\")\n"
   ]
  },
  {
   "cell_type": "code",
   "execution_count": 21,
   "id": "ee076d8b",
   "metadata": {},
   "outputs": [
    {
     "name": "stdout",
     "output_type": "stream",
     "text": [
      "✅ vetor agregado: (774,) dimensões\n",
      "alguns nomes: ['logmel_0_mean', 'logmel_1_mean', 'logmel_2_mean', 'logmel_3_mean', 'logmel_4_mean', 'logmel_5_mean', 'logmel_6_mean', 'logmel_7_mean', 'logmel_8_mean', 'logmel_9_mean']\n",
      "mapas disponíveis: {'logmel': (64, 622), 'mfcc': (39, 622), 'chroma': (12, 622), 'contrast': (7, 622), 'rms': (1, 622), 'zcr': (1, 622), 'centroid': (1, 622), 'bandwidth': (1, 622), 'rolloff': (1, 622), 'flatness': (1, 622), 'tempo': (1, 622)}\n"
     ]
    },
    {
     "name": "stderr",
     "output_type": "stream",
     "text": [
      "/tmp/ipykernel_7924/2901479956.py:185: DeprecationWarning:\n",
      "\n",
      "Conversion of an array with ndim > 0 to a scalar is deprecated, and will error in future. Ensure you extract a single element from your array before performing this operation. (Deprecated NumPy 1.25.)\n",
      "\n"
     ]
    },
    {
     "data": {
      "text/html": [
       "\n",
       "                <audio  controls=\"controls\" >\n",
       "                    <source src=\"data:audio/x-wav;base64,UklGRiTiBABXQVZFZm10IBAAAAABAAEAgD4AAAB9AAACABAAZGF0YQDiBAAAAAAAAAAAAAAAAAAAAAAAAAAAAAAAAAAAAAAAAAAAAAAAAAAAAAAAAAAAAAAAAAAAAAAAAAAAAAAAAAAAAAAAAAAAAAAAAAAAAAAAAAAAAAAAAAAAAAAAAAAAAAAAAAAAAAAAAAAAAAAAAAAAAAAAAAAAAAAAAAAAAAAAAAAAAAAAAAAAAAAAAAAAAAAAAAAAAAAAAAAAAAAAAAAAAAAAAAAAAAAAAAAAAAAAAAAAAAAAAAAAAAAAAAAAAAAAAAAAAAAAAAAAAAAAAAAAAAAAAAAAAAAAAAAAAAAAAAAAAAAAAAAAAAAAAAAAAAAAAAAAAAAAAAAAAAAAAAAAAAAAAAAAAAAAAAAAAAAAAAAAAAAAAAAAAAAAAAAAAAAAAAAAAAAAAAAAAAAAAAAAAAAAAAAAAAAAAAAAAAAAAAAAAAAAAAAAAAAAAAAAAAAAAAAAAAAAAAAAAAAAAAAAAAAAAAAAAAAAAAAAAAAAAAAAAAAAAAAAAAAAAAAAAAAAAAAAAAAAAAAAAAAAAAAAAAAAAAAAAAAAAAAAAAAAAAAAAAAAAAAAAAAAAAAAAAAAAAAAAAAAAAAAAAAAAAAAAAAAAAAAAAAAAAAAAAAAAAAAAAAAAAAAAAAAAAAAAAAAAAAAAAAAAAAAAAAAAAAAAAAAAAAAAAAAAAAAAAAAAAAAAAAAAAAAAAAAAAAAAAAAAAAAAAAAAAAAAAAAAAAAAAAAAAAAAAAAAAAAAAAAAAAAAAAAAAAAAAAAAAAAAAAAAAAAAAAAAAAAAAAAAAAAAAAAAAAAAAAAAAAAAAAAAAAAAAAAAAAAAAAAAAAAAAAAAAAAAAAAAAAAAAAAAAAAAAAAAAAAAAAAAAAAAAAAAAAAAAAAAAAAAAAAAAAAAAAAAAAAAAAAAAAAAAAAAAAAAAAAAAAAAAAAAAAAAAAAAAAAAAAAAAAAAAAAAAAAAAAAAAAAAAAAAAAAAAAAAAAAAAAAAAAAAAAAAAAAAAAAAAAAAAAAAAAAAAAAAAAAAAAAAAAAAAAAAAAAAAAAAAAAAAAAAAAAAAAAAAAAAAAAAAAAAAAAAAAAAAAAAAAAAAAAAAAAAAAAAAAAAAAAAAAAAAAAAAAAAAAAAAAAAAAAAAAAAAAAAAAAAAAAAAAAAAAAAAAAAAAAAAAAAAAAAAAAAAAAAAAAAAAAAAAAAAAAAAAAAAAAAAAAAAAAAAAAAAAAAAAAAAAAAAAAAAAAAAAAAAAAAAAAAAAAAAAAAAAAAAAAAAAAAAAAAAAAAAAAAAAAAAAAAAAAAAAAAAAAAAAAAAAAAAAAAAAAAAAAAAAAAAAAAAAAAAAAAAAAAAAAAAAAAAAAAAAAAAAAAAAAAAAAAAAAAAAAAAAAAAAAAAAAAAAAAAAAAAAAAAAAAAAAAAAAAAAAAAAAAAAAAAAAAAAAAAAAAAAAAAAAAAAAAAAAAAAAAAAAAAAAAAAAAAAAAAAAAAAAAAAAAAAAAAAAAAAAAAAAAAAAAAAAAAAAAAAAAAAAAAAAAAAAAAAAAAAAAAAAAAAAAAAAAAAAAAAAAAAAAAAAAAAAAAAAAAAAAAAAAAAAAAAAAAAAAAAAAAAAAAAAAAAAAAAAAAAAAAAAAAAAAAAAAAAAAAAAAAAAAAAAAAAAAAAAAAAAAAAAAAAAAAAAAAAAAAAAAAAAAAAAAAAAAAAAAAAAAAAAAAAAAAAAAAAAAAAAAAAAAAAAAAAAAAAAAAAAAAAAAAAAAAAAAAAAAAAAAAAAAAAAAAAAAAAAAAAAAAAAAAAAAAAAAAAAAAAAAAAAAAAAAAAAAAAAAAAAAAAAAAAAAAAAAAAAAAAAAAAAAAAAAAAAAAAAAAAAAAAAAAAAAAAAAAAAAAAAAAAAAAAAAAAAAAAAAAAAAAAAAAAAAAAAAAAAAAAAAAAAAAAAAAAAAAAAAAAAAAAAAAAAAAAAAAAAAAAAAAAAAAAAAAAAAAAAAAAAAAAAAAAAAAAAAAAAAAAAAAAAAAAAAAAAAAAAAAAAAAAAAAAAAAAAAAAAAAAAAAAAAAAAAAAAAAAAAAAAAAAAAAAAAAAAAAAAAAAAAAAAAAAAAAAAAAAAAAAAAAAAAAAAAAAAAAAAAAAAAAAAAAAAAAAAAAAAAAAAAAAAAAAAAAAAAAAAAAAAAAAAAAAAAAAAAAAAAAAAAAAAAAAAAAAAAAAAAAAAAAAAAAAAAAAAAAAAAAAAAAAAAAAAAAAAAAAAAAAAAAAAAAAAAAAAAAAAAAAAAAAAAAAAAAAAAAAAAAAAAAAAAAAAAAAAAAAAAAAAAAAAAAAAAAAAAAAAAAAAAAAAAAAAAAAAAAAAAAAAAAAAAAAAAAAAAAAAAAAAAAAAAAAAAAAAAAAAAAAAAAAAAAAAAAAAAAAAAAAAAAAAAAAAAAAAAAAAAAAAAAAAAAAAAAAAAAAAAAAAAAAAAAAAAAAAAAAAAAAAAAAAAAAAAAAAAAAAAAAAAAAAAAAAAAAAAAAAAAAAAAAAAAAAAAAAAAAAAAAAAAAAAAAAAAAAAAAAAAAAAAAAAAAAAAAAAAAAAAAAAAAAAAAAAAAAAAAAAAAAAAAAAAAAAAAAAAAAAAAAAAAAAAAAAAAAAAAAAAAAAAAAAAAAAAAAAAAAAAAAAAAAAAAAAAAAAAAAAAAAAAAAAAAAAAAAAAAAAAAAAAAAAAAAAAAAAAAAAAAAAAAAAAAAAAAAAAAAAAAAAAAAAAAAAAAAAAAAAAAAAAAAAAAAAAAAAAAAAAAAAAAAAAAAAAAAAAAAAAAAAAAAAAAAAAAAAAAAAAAAAAAAAAAAAAAAAAAAAAAAAAAAAAAAAAAAAAAAAAAAAAAAAAAAAAAAAAAAAAAAAAAAAAAAAAAAAAAAAAAAAAAAAAAAAAAAAAAAAAAAAAAAAAAAAAAAAAAAAAAAAAAAAAAAAAAAAAAAAAAAAAAAAAAAAAAAAAAAAAAAAAAAAAAAAAAAAAAAAAAAAAAAAAAAAAAAAAAAAAAAAAAAAAAAAAAAAAAAAAAAAAAAAAAAAAAAAAAAAAAAAAAAAAAAAAAAAAAAAAAAAAAAAAAAAAAAAAAAAAAAAAAAAAAAAAAAAAAAAAAAAAAAAAAAAAAAAAAAAAAAAAAAAAAAAAAAAAAAAAAAAAAAAAAAAAAAAAAAAAAAAAAAAAAAAAAAAAAAAAAAAAAAAAAAAAAAAAAAAAAAAAAAAAAAAAAAAAAAAAAAAAAAAAAAAAAAAAAAAAAAAAAAAAAAAAAAAAAAAAAAAAAAAAAAAAAAAAAAAAAAAAAAAAAAAAAAAAAAAAAAAAAAAAAAAAAAAAAAAAAAAAAAAAAAAAAAAAAAAAAAAAAAAAAAAAAAAAAAAAAAAAAAAAAAAAAAAAAAAAAAAAAAAAAAAAAAAAAAAAAAAAAAAAAAAAAAAAAAAAAAAAAAAAAAAAAAAAAAAAAAAAAAAAAAAAAAAAAAAAAAAAAAAAAAAAAAAAAAAAAAAAAAAAAAAAAAAAAAAAAAAAAAAAAAAAAAAAAAAAAAAAAAAAAAAAAAAAAAAAAAAAAAAAAAAAAAAAAAAAAAAAAAAAAAAAAAAAAAAAAAAAAAAAAAAAAAAAAAAAAAAAAAAAAAAAAAAAAAAAAAAAAAAAAAAAAAAAAAAAAAAAAAAAAAAAAAAAAAAAAAAAAAAAAAAAAAAAAAAAAAAAAAAAAAAAAAAAAAAAAAAAAAAAAAAAAAAAAAAAAAAAAAAAAAAAAAAAAAAAAAAAAAAAAAAAAAAAAAAAAAAAAAAAAAAAAAAAAAAAAAAAAAAAAAAAAAAAAAAAAAAAAAAAAAAAAAAAAAAAAAAAAAAAAAAAAAAAAAAAAAAAAAAAAAAAAAAAAAAAAAAAAAAAAAAAAAAAAAAAAAAAAAAAAAAAAAAAAAAAAAAAAAAAAAAAAAAAAAAAAAAAAAAAAAAAAAAAAAAAAAAAAAAAAAAAAAAAAAAAAAAAAAAAAAAAAAAAAAAAAAAAAAAAAAAAAAAAAAAAAAAAAAAAAAAAAAAAAAAAAAAAAAAAAAAAAAAAAAAAAAAAAAAAAAAAAAAAAAAAAAAAAAAAAAAAAAAAAAAAAAAAAAAAAAAAAAAAAAAAAAAAAAAAAAAAAAAAAAAAAAAAAAAAAAAAAAAAAAAAAAAAAAAAAAAAAAAAAAAAAAAAAAAAAAAAAAAAAAAAAAAAAAAAAAAAAAAAAAAAAAAAAAAAAAAAAAAAAAAAAAAAAAAAAAAAAAAAAAAAAAAAAAAAAAAAAAAAAAAAAAAAAAAAAAAAAAAAAAAAAAAAAAAAAAAAAAAAAAAAAAAAAAAAAAAAAAAAAAAAAAAAAAAAAAAAAAAAAAAAAAAAAAAAAAAAAAAAAAAAAAAAAAAAAAAAAAAAAAAAAAAAAAAAAAAAAAAAAAAAAAAAAAAAAAAAAAAAAAAAAAAAAAAAAAAAAAAAAAAAAAAAAAAAAAAAAAAAAAAAAAAAAAAAAAAAAAAAAAAAAAAAAAAAAAAAAAAAAAAAAAAAAAAAAAAAAAAAAAAAAAAAAAAAAAAAAAAAAAAAAAAAAAAAAAAAAAAAAAAAAAAAAAAAAAAAAAAAAAAAAAAAAAAAAAAAAAAAAAAAAAAAAAAAAAAAAAAAAAAAAAAAAAAAAAAAAAAAAAAAAAAAAAAAAAAAAAAAAAAAAAAAAAAAAAAAAAAAAAAAAAAAAAAAAAAAAAAAAAAAAAAAAAAAAAAAAAAAAAAAAAAAAAAAAAAAAAAAAAAAAAAAAAAAAAAAAAAAAAAAAAAAAAAAAAAAAAAAAAAAAAAAAAAAAAAAAAAAAAAAAAAAAAAAAAAAAAAAAAAAAAAAAAAAAAAAAAAAAAAAAAAAAAAAAAAAAAAAAAAAAAAAAAAAAAAAAAAAAAAAAAAAAAAAAAAAAAAAAAAAAAAAAAAAAAAAAAAAAAAAAAAAAAAAAAAAAAAAAAAAAAAAAAAAAAAAAAAAAAAAAAAAAAAAAAAAAAAAAAAAAAAAAAAAAAAAAAAAAAAAAAAAAAAAAAAAAAAAAAAAAAAAAAAAAAAAAAAAAAAAAAAAAAAAAAAAAAAAAAAAAAAAAAAAAAAAAAAAAAAAAAAAAAAAAAAAAAAAAAAAAAAAAAAAAAAAAAAAAAAAAAAAAAAJ39rv2w/ar9j/19/Wr9df2c/ar9sP2y/Yf9eP2D/Yr9sf2w/aX9lP15/Xf9hf2W/bD9rf2k/Zv9kv2V/Zf9m/2U/Y39hP2K/aL9sv2t/an9mf2R/YX9h/2b/aL9ov2b/ZD9jv2U/aP9vv27/af9nf19/X39iP2e/bj9u/26/bP9oP2V/Yr9i/2a/Zz9qP2p/bP9vP25/bL9nv2Q/X/9gv2d/bH9xf3I/cD9q/2K/Yv9mP2f/av9sf24/b39v/27/bn9qv2f/Zb9kf2W/ab9r/26/b39tf2q/aL9o/2r/bD9qf2f/aH9pv3V/d394f3O/az9m/1//YD9oP2y/cj9y/3C/cb9xP3A/bX9qf2d/aD9qv25/dH90v3P/cb9qv2b/Z39nf2l/bX9x/3A/bP9qv2g/aj9tv26/cT9yv23/bP9pf2l/aD9qf27/cj92P3b/dT9wv2W/YX9i/2Z/b391/3r/ef9vP2o/Z39nP2x/a79r/2x/bz9vf3L/dL9y/28/aH9nP2Z/Z/9rf24/br9u/23/a/9sv28/cz9zf21/ar9kP2W/b391v0B/v391f20/Y39gv2P/aL9x/3X/dH9xv27/bn9qv2n/af9of2k/a/90v3c/d391P3B/bH9s/24/dX91P3F/br9oP2k/bj9w/3K/dD9zP2+/bH9pf2h/ab9uf3E/cz9zv3S/dT9y/2+/a79q/2u/b/92/3u/ev95f25/av9ov2k/av9sf24/cP9yP3T/cj9xP23/av9pv2t/dP95/37/e/9zP2y/Zb9mf23/c390/3H/av9nP2c/bP9zf3U/cL9uv2v/bb92/3y/fz96v3B/a79rf29/fX9/v3v/df9nP2H/YP9j/21/dT95/3h/cL9uv2y/b/92f3k/d/90/3E/c395v3t/ez94f24/an9qP20/c790v3D/bf9ov2q/cj91f3e/dP9uf2v/bz9w/3o/fT99f3p/dH9zf29/cf9yP3K/cL9uv2+/cb9xf3O/dX93v3l/eD9w/25/bf9vf3S/dv94/3j/dH9y/3F/cL9xP3A/b39tP2z/bv9y/3b/eX96/3b/cv9uv2+/cX9zf3g/ev97P3q/dj9yv2+/b39v/3C/c39x/3O/dj96v3t/dX9xP2u/bD9yf3V/ez97P3i/dr9xv3H/cv9z/3Y/dT9yP3I/cn9zf3G/cL9xv3O/c79zP3Q/cX92f3a/eX96P3Q/cf9tv25/cL90f3W/dn90/3U/dH91/3V/dn9x/3C/cH9x/3g/er95/3k/cn9xf28/b79yv3T/dn92v3g/d79zv2//a/9sP24/cb95v3v/fL98f3r/ej90f3V/cn90f3U/dj95/3l/eT92P3I/b79r/2x/cj92f3x/fb96f3V/bn9rP20/cv9+f0K/hT+Cf7Y/cf9xf3D/c791P3a/dn92/3T/dj90P3R/cv92v3m/fP98v3n/dz9x/26/dD91/3r/er97P3e/c39xf3I/c795/3s/fH99P3V/cv9vf2+/cX9yP3P/dr92v3i/e/9+f3z/ej90v3M/b39w/3J/db95v3k/dv90/3P/cn90v3X/dH9yf3D/cv93f3d/e397P3f/dv90v3S/c/91v3u/QT+D/4K/uX90P2i/Zz9rf3A/eL97f3u/d390P3J/d/97P33/fr93f3U/cv9xf3Q/dz95/3q/fP9+v38/ff92/3Q/cL9wP3Q/dn97v3v/er94/3U/dP91f3e/dj91f3W/dv99f37/QL+CP7r/d79yf3H/df93f3t/fb99v3u/e/99v3y/eb9zP28/a79r/3a/e/9Ef4N/gH+7f3X/db95v3v/fX95f3M/cn92/3n/fv9+P3k/d/90/3a/dz93P3Z/dv94P3t/fj9//33/er9xP25/cD91P3+/RH+E/4D/tn9xf24/cP93/3r/fv98/3Z/cv9zv3W/ev99v3//fz94/3b/dz94f3f/eX9+P37/f/9BP78/fL91/3N/cr9z/3m/fH9+P3v/dn9z/3Z/eL97f3x/fb9+v3+/fv98v3k/cX9wv3U/eT99/3+/ff96/3S/dj98/0B/hT+EP72/ev90v3N/dr96f37/fz9+f39/fb99v3x/e794f3f/ej97f39/Q/+Iv4d/vv96v3f/eD9+/0D/gj+Bv73/e395P3h/en97f3y/fD98f3m/fP9/v0R/hz+F/4S/vb97v3v/e/98f3z/fH97v3m/eb97P3x/fr9+v3y/eX92P3d/fT9Av4N/hX+AP72/fP99/0G/gr+Af71/df91/3k/ff9Ef4Z/hX+AP7q/eb96v3w/QD+DP4P/gr+CP4H/hf+Df70/d79zP3V/QP+Jf48/jz+Fv7v/dH9zP3n/fD9Dv4V/hj+F/4G/v799v3s/fn9/P0J/gz+F/4U/gn+Af7t/ev98/38/RD+F/4V/g/+BP4H/gn+F/4d/hb+9v3n/er97v0S/hH+Ff4O/vn9/P0F/gn+B/4A/vb99/0S/hr+Gf4b/hb+C/72/ff9Bv4P/hr+Hv4N/v/96v3r/fL9+P0N/hj+F/4V/gT++f38/Qj+Gf4c/hT+D/4A/v/9/v0B/vv9+P32/f39Av4E/gH+A/4I/gf+A/4E/hn+F/4T/gj++P32/f79Cf4X/hn+Ef4O/gL+9/3i/e39+P0C/hr+H/4c/hz+HP4V/gX+9/3x/e/9Cf4V/iX+If4C/vn95/3v/Qz+GP4p/iX+EP4B/gf+D/4i/if+Hv4O/gb+BP4S/hr+Ff4L/gr+DP4Q/hH+Ev4J/vb99v36/Qn+Jv40/jn+Mv4K/vb98/37/R/+Lf4h/hL+9P3q/fr9Bv4j/iv+Dv7y/eH94v0K/ij+PP40/hP+Cv4E/gv+HP4b/gH+9v37/Q3+L/47/jr+Jf7t/dj90f3d/Q7+I/44/jX+J/4n/iX+IP4X/gj+8v3z/QT+Ev4j/ib+Ff4P/gb+Dv4V/iP+IP4f/gL+//0K/hj+Nf4+/jv+J/4H/vj98/32/Q7+Gv4u/i/+Hf4W/gz+Df4P/g7+Bv4D/gv+Ff4y/jf+Of47/i/+I/4M/gf+/v0I/hv+IP4i/ij+Kf4z/jX+Jv4J/vz9/v0P/if+M/5B/kD+MP4h/hP+C/4F/g7+Hv4f/i3+Lv42/jn+KP4b/vf96/3v/QH+Kf49/k7+Rf4o/hb+/f32/Q/+GP4f/hf+Df4P/ir+Of5E/jv+Ff4G/vb99/0R/iH+Nv45/jf+J/4I/gr+EP4b/gv+BP4E/gj+If4y/j7+Nv4h/hH+Av4J/h/+L/4//kr+N/4r/h7+Gv4i/hf+Dv4C/gv+GP4x/jX+KP4j/g/+FP4o/jr+Sv5H/i/+GP4E/gH+F/4k/jD+MP4h/hn+H/4l/iX+Hf4L/gb+G/4k/kP+S/5E/j/+Kv4d/hb+HP4z/kD+PP4w/iD+Fv4c/iX+Jv4e/gH++P0B/g7+M/5C/lb+Vf4+/iX+Df4F/h3+Jf5C/kP+MP4s/jf+O/49/jH+Fv4N/gr+Gf4x/j/+QP4+/i7+H/4T/hX+Kf4t/jb+Nf4t/in+PP5G/kz+Sf40/ir+If4R/hT+G/44/k3+X/5c/kj+M/4N/gP+A/4K/i3+P/5J/kX+Mv4p/hz+Hv4p/jD+NP40/i/+Kv4l/i3+Nv5B/jH+I/4M/gf+I/46/lT+UP4n/hH+/f0J/iv+Ov40/ir+Fv4T/iX+Pf5V/lf+Qf4k/vz99P0U/jD+Wf5Z/jb+I/71/ff9C/4l/k/+UP49/i/+FP4T/ib+Mv4k/hr+Df4X/jj+R/5m/l7+Nf4Y/vv9//0a/jL+Vf5S/iz+Gf4A/gL+Lf5F/kr+Rv4m/hr+Jf40/lb+Tv4t/hn+//3+/Rb+J/5S/lb+Rf4y/h/+EP4Q/hn+LP4z/ib+Lv41/jj+Pf45/h/+Df4F/gn+Mf5A/lj+Tv4t/hv+Cv4H/ib+Of5T/ln+Uv5F/ij+GP4X/h/+Kv4z/jf+Mf4k/iH+H/4c/ib+Nv5J/kr+Q/4+/ib+Hf4Z/iD+Kv4z/jz+Pv4w/jD+G/4V/hX+Gv4z/j7+V/5Y/kD+NP4h/h/+Hf4l/lD+Xf5Y/lH+Nf4p/hv+Gv43/kb+VP5S/jL+Jv4Q/h/+NP5D/ln+UP4p/h7+FP4Z/jv+Sv5N/kL+Mv4r/jP+Nv48/j7+Q/42/j3+Qf45/iv+FP4C/v/9B/4z/kn+af5j/kX+Kv4M/gL+C/4p/lf+Yv5i/lz+Nf4j/gn+Cv4e/if+Pf5I/kz+Q/4s/hv+Fv4a/jH+QP5C/j/+Lf4v/jz+Rf5W/lL+P/4u/hP+E/4l/jH+Pf5H/j7+P/44/jn+Pf46/hr+FP4i/i3+S/5f/mL+Tf4e/gz+C/4a/kb+ZP5x/mn+PP4j/hn+IP4t/jX+Ov4p/hz+Iv5A/lL+af5m/kr+Pf4c/h7+Lf49/lD+Wf5M/kD+Lf4p/iT+Jf4p/jH+P/5E/kj+Sv5F/jv+NP44/kH+SP5I/kv+TP5J/j/+Of4n/h3+HP4j/jH+Pv5H/kX+MP4o/hz+I/5H/l7+fv54/ln+Pv4R/gn+Jv49/lj+Wf5E/jv+Jf4e/iX+Kf4q/if+OP48/kz+T/5S/kz+Of4w/i/+OP5C/kj+Qv5C/iz+Iv4o/jD+OP49/iz+KP4n/i/+TP5Y/mD+WP43/iT+EP4X/jT+N/4//jz+KP4p/jX+O/5F/lD+Qf43/iT+I/4k/i7+P/5E/j7+P/5B/jv+M/4y/jv+P/5G/kf+Ov4r/hb+GP4f/jT+R/5J/kb+Nf40/i/+PP5G/k/+R/45/jT+Mv46/kn+T/46/in+D/4J/iH+PP5u/nn+U/4z/gD+9v0Y/jn+cP53/lL+O/4c/in+W/5x/nj+af4w/g7++/0L/jr+U/5O/kT+JP4b/jv+Vf5q/mL+PP4h/hj+Kv5h/nP+fv5n/jL+H/4k/jj+av55/mz+Vf4M/gD+Fv4y/mb+e/5y/lH+F/4P/ir+Qf5l/nH+Vv5D/jH+Mv5M/lr+TP4//iv+L/5G/mD+fv5y/kH+Lf4e/ij+SP5f/nP+af5E/jT+KP4t/kj+X/5v/mv+VP5I/kT+P/40/kH+Q/5H/kj+RP5X/lv+YP5g/lH+SP4s/jD+Qv5D/k3+Uf5e/l3+XP5Y/kX+P/44/j7+Tf5S/mD+Wv5E/jj+Mf45/kj+T/5e/lf+SP5G/kj+UP5o/m/+Vf5J/jn+L/4//kz+Yv5b/lb+Tf46/jj+TP5f/m7+Zf5J/jr+Lv4z/lL+Vv5m/mb+Xv5T/kT+P/5K/lL+U/5G/jH+Kf5B/l/+i/6R/nD+Vf40/jP+SP5T/nH+d/5s/mf+Vv5S/kj+QP49/kD+R/5N/m7+ef5+/nj+YP5U/j/+Qf5V/lr+df55/l3+Xf5U/lX+b/51/mr+Uv4w/iD+M/5M/oH+jv6B/m3+Pv40/jn+Uf50/oD+bv5k/kj+Tf5l/nD+bf5m/lv+Wf5c/ln+ZP5l/mf+av5q/mT+TP5L/kv+Tv5Q/lf+X/5q/oP+if55/mj+Vf5Q/lX+XP5k/l7+V/5e/mb+aP5v/mb+UP5C/kX+Wv5q/nr+gf54/mL+Xv5a/mP+df55/mv+ZP5n/mr+b/5x/mn+YP5H/kH+WP5n/oH+g/5x/mH+VP5a/nL+e/6L/of+dv5t/m/+a/5o/mT+a/5u/nL+dv6H/ob+d/5q/lL+R/5E/lP+gf6Z/rT+p/58/mX+Qv4//lL+aP6J/pT+lP6J/nD+Zf5f/mD+av5n/nz+hv6E/n7+ev52/nb+fP6O/on+d/5p/mX+av6G/pH+kv6O/nj+b/5f/mb+Yv5m/m7+fP6E/or+jP6A/m7+Zf51/oD+lP6a/pT+i/55/nb+aP5i/mr+c/6H/pH+kf6F/mb+Wv5a/mP+hv6P/pv+nf6U/oX+av5a/lv+bv6Q/p/+q/6h/nL+Xf4//kH+ZP5+/qP+q/6j/pX+fP5y/nn+hP6D/nz+ff6F/pT+lv6Q/of+ZP5U/lv+bP6N/pz+iv55/mf+af6G/pz+t/6x/oP+a/5T/lv+g/6a/q7+qP6C/nP+Yf5e/mz+af5u/mn+cv58/pf+oP6l/pz+g/52/nH+ev6A/or+jf6K/oD+fv6I/o3+kP6F/nH+X/5h/mn+fv6H/pb+jP51/nL+hf6K/pL+jf6H/nz+b/54/oP+jf6W/pP+gf52/nX+cP55/oH+f/6G/o7+mP6X/pD+g/51/mr+a/59/n7+lf6S/pX+kP6C/oD+g/59/n/+ff5y/nT+gv6N/qL+pf6T/on+cP5u/nX+g/6e/pz+hf54/mH+YP51/o3+n/6a/n3+af5m/nP+l/6g/p7+lP59/nP+cv5x/n7+gf6J/oD+f/6G/oz+kv6I/n/+a/5n/m/+dP6N/pX+j/6I/or+hv6X/p3+nv6a/oL+eP5s/nX+d/59/on+hf6G/oT+gP6A/oj+h/6P/pH+j/6V/p/+pP6X/o3+eP5z/oH+if6P/ov+iv6I/oT+jP6G/oP+ef5y/nT+gf6Y/qH+i/6C/n3+g/6Z/p/+of6e/on+fv5q/mv+hf6U/qD+pP6W/on+gP59/oD+ev58/n3+i/6S/p7+o/6a/pX+hP6A/o3+kf6k/q/+tP6z/q3+pf6D/nr+bv5w/nX+hP6P/pj+p/6r/qj+ov6N/nv+bv56/pP+n/6q/q/+rf6r/qT+pP6L/oH+a/5y/ov+m/6s/rT+ov6Y/of+gf58/oX+kv6h/qz+sf60/q/+mP6O/n3+ff5+/oH+fv59/on+lP6v/rP+rf6m/pD+kf6F/oL+f/6C/pX+lv6p/rD+r/6q/pH+gf5p/mv+c/6D/p7+n/6d/pX+iP6K/pT+kf5+/nv+hf6W/rj+xv61/qH+i/6A/nT+cf56/oP+mP6f/qX+nf6b/pX+j/6R/oj+jv6S/pj+qv6j/p/+mf6E/oH+cP55/on+nP6l/p/+l/6L/nv+d/6A/ov+n/61/sb+y/6x/qP+f/50/nD+cf6N/p3+n/6c/o7+gP5w/nP+ff58/oT+iP6d/qj+uv64/qb+nv6F/ob+h/6K/o7+j/6T/pT+i/6D/oX+ev5u/mj+X/5r/of+mf62/sD+vP64/qn+n/6W/pf+oP6r/q7+pv6H/n/+cv50/nz+e/52/m3+dv6H/qD+qP6u/q7+lP6V/pr+pv6w/rT+pP6W/oD+ef6N/pn+o/6c/nn+av5W/lj+eP6O/qX+pv6e/pv+ff6F/qX+sP65/q7+m/6Q/ov+jv6e/pv+kv6P/oL+fP59/oX+lf6e/pz+kv6S/pT+nv6f/pb+lf6J/or+i/6G/oX+kf6g/qj+pv6c/oT+gf6H/pD+qP6n/qf+pP6f/pb+mP6W/pH+i/6H/ob+if6T/qz+q/6d/oz+c/51/n3+iP6l/q/+s/64/rP+pP6Q/of+hP6N/o7+lv6M/o3+kv6R/pn+kP6G/of+k/6U/pL+k/6T/pL+pv6l/qn+rP6p/qf+j/6N/nv+e/6S/qT+uv62/qD+lf5+/nv+ev6D/pf+qP64/rf+pf6h/pD+k/6c/qD+n/6n/p3+nv6Z/pT+kf6N/nn+hP6U/pj+mf6W/pX+kv6b/qD+sf6u/q/+qP6e/pr+iP6I/oD+iP6o/rP+uP6w/o/+gv53/nn+jv6Z/pv+of6n/pr+lf6Z/p7+n/6e/pj+g/6B/pb+m/6s/qr+qP6q/qf+mv6U/pP+hf6B/ob+kv6g/qj+wf6//rL+lP56/nD+cP57/qL+sv6y/rP+q/6n/p/+nf6V/pb+jP6K/o3+i/6m/rf+vf63/pz+j/6D/of+kv6T/pD+lv6b/qn+xP7Q/rv+rv59/mv+WP5s/pj+rv7I/tL+uv6u/or+gf50/nj+hv6R/qj+rf67/rn+xP69/qH+jP50/n/+j/6b/qb+r/6x/q/+tP6r/o7+gf5x/nL+k/6n/sX+z/7A/rL+lv6P/or+jf6T/pH+kf6Q/qL+rf7G/sr+tv6o/oj+hP6N/pn+pf6l/qz+sf6v/rD+sP6s/pn+i/6E/ov+qP7A/sv+yf61/p/+iv6K/oT+if6Q/p7+r/6z/rH+sP6t/q7+pv6m/pD+kP6b/qr+tv62/q/+qP6h/p7+m/6d/oz+iP6A/oP+k/6f/rr+yv6//rD+mP6T/pj+pv65/sX+vP60/qn+p/6h/qX+sP6z/rP+q/6Q/o7+jf6V/rH+uP7J/sL+rP6f/pb+mv6t/rr+s/6s/qr+qP63/r3+u/6x/p7+kv6U/pr+rf6x/sD+v/66/rb+pP6e/qn+r/6z/rL+qv6n/rX+u/69/r3+rf6o/qj+rP6z/r3+uP6u/qb+nv6n/rP+zf7T/sb+vf6n/qL+ov6n/sH+yf7A/rr+o/6U/o/+mP65/sP+xf6//rX+uP66/rr+qP6h/o7+lf61/sX+4P7g/sT+sf6R/oP+jP6c/sz+1P7V/sz+oP6M/pP+mf6v/rr+vP63/q/+q/67/sf+0f7V/sD+rv6f/qH+mf6a/qT+sf7N/t7+1/7M/rD+n/6R/pT+rP61/tD+1f7Y/s3+sv6u/q/+sf7H/s3+0P7H/rr+sv6g/pv+qv6y/sb+yf7O/sL+rf6p/qL+pf6m/qr+wf7N/tn+1P6x/qv+nv6b/qH+sf7N/tn+1f7R/sf+vv6z/qn+nP6b/pj+p/7A/tX+2v7W/sT+vv6y/rT+rv6u/qz+tP7D/sr+zv7V/tH+xv6f/pP+hv6K/qj+wP7Z/tj+yf67/qP+lf6h/rL+0P7V/tP+yv64/rP+vP64/q3+ov6R/ov+pP6r/rf+u/7B/sD+vv66/rf+t/6x/rf+sv6s/rj+wv7G/sX+wv69/qv+o/6W/pn+pv6v/rj+vv6y/rL+q/6x/r7+uv6s/qr+qf6y/sj+0f7Y/tb+uf6q/pT+j/6g/rb+1/7b/sr+wP62/rP+wP7E/rD+p/6b/qb+vv7L/tr+2P7C/rX+nf6b/rT+yf7a/s/+tP6g/pD+nv7L/tf+3f7W/rj+qf6V/pn+u/7R/uv+6v7F/rL+lv6W/qL+ov6r/q7+w/7N/uT+3v7M/rv+mP6M/pb+pP7N/t/+3v7Q/qb+nP6g/q3+u/7B/rX+qv6f/qb+tv6//sT+wv6z/rH+r/61/sj+y/7D/rL+p/6j/rb+vf6//rP+nf6Z/qT+sf7C/tD+0f7U/sb+vP6q/qr+vv7F/sb+tv66/r3+yv7D/rv+tf61/rj+wP7D/qb+o/6f/qv+v/7N/tL+2P7V/tD+yP7G/sD+vv7B/r/+sv6w/sP+y/7A/rH+mv6Z/qn+sv7S/t3+5v7j/tj+yf6q/qX+qf6y/sH+x/7Z/tr+6P7g/rL+pv6f/p7+p/62/rv+tv7M/tf+4/7Z/sn+xP7A/r3+sf6z/sL+zv7g/uD+y/68/p/+p/6y/rz+zf7W/uD+3f7Q/sf+vf6y/rL+uv6x/rH+yP7Y/ur+5v7N/r3+qf6t/rz+wP7O/tL+xP7A/rj+tv69/sj+3P7b/tD+zf69/rz+vv7A/sL+uf6+/rv+tf6y/r7+w/7J/sr+y/7O/s3+0P69/rL+tf68/tL+2/7S/sT+qv6t/sf+1P7e/tv+yP67/qb+lP6T/p/+x/7W/tr+1f7C/sb+zP7O/sv+u/6s/qz+wP7R/tf+z/60/qf+oP6d/rL+xP7b/tn+vf60/qf+tP7S/uT+1P7G/qv+rv6x/sH+2/7f/uD+1/66/qv+sP6x/rT+r/6r/q3+zf7h/vb+8v7M/rf+nv6h/rr+yf7f/uD+zf67/qj+rf7E/tT+5/7a/rH+nP6f/rD+0f7Y/tL+x/6z/qb+pf6j/rj+wf7a/tz+0P7L/sb+wv60/q3+m/6a/qz+uP7Z/uL+2f7T/rz+q/6h/qD+tP67/r7+tf6i/pr+tf6+/sv+zf7G/sD+vv7A/rz+uv6+/r/+vP68/sH+vP6+/r7+uf6y/qz+sP6+/sX+0f7Q/sP+vf6z/rX+sv6y/rr+u/60/r3+yf7R/tv+2v7C/rH+oP6g/qb+sP7E/tH+3/7h/tT+zv64/qr+pf6a/p/+rP6+/sz+4v7m/sj+uP6s/q/+s/62/sH+xf7K/s/+yf7B/rL+o/6Z/pX+m/6k/rz+y/7d/tj+x/7C/rf+t/7E/sT+r/6r/q/+vP7V/uP+1/7M/qT+lf6O/o7+ov6w/sb+zP7O/sj+vv69/rD+tv6v/rn+wv7G/s3+0v7D/sn+uv6w/qb+pP6q/q/+uf67/sH+w/7B/sP+vv61/qH+nP6o/rD+vv7O/tj+3f7Y/s/+uf6r/p/+mv6m/qz+xv7J/tb+1/7J/r3+q/6n/qj+tP7U/t/+4v7d/sn+uf63/rT+rP6q/rf+wP7G/sr+xP7I/r7+wf7F/sj+xf7B/r7+wP7H/s7+2P7Z/tT+0f66/rL+of6j/qn+tv7E/sP+y/7Q/s3+v/65/rb+rf6v/sn+zv7P/tD+wv68/rD+rv69/sP+wP7D/sz+xf67/rT+v/6//sf+z/7M/sT+s/6w/r/+wP7X/tT+y/7N/r/+uf6p/qf+q/6x/rf+v/6//r7+zv7T/tP+0f69/rL+sf61/sb+0P7R/sj+tP6p/pz+qf7D/s7+0f7L/rX+r/62/r/+y/7G/sb+vv7F/sv+yv7G/s7+xf67/rP+qv60/r3+xP7J/sH+ov6f/qT+p/66/sv+2/7g/tD+0P66/rb+vP7C/r7+vv64/rz+1v7l/t/+0f61/qr+tP7D/tn+2v7C/rP+pP6n/sT+1P7n/tz+vP6r/qb+p/7K/tj+4P7b/s/+xv7J/sv+xf7D/sT+zf7g/uL+2P7U/r7+r/6s/q3+yP7J/tj+0/7D/sH+t/7C/tn+3/7p/un+1P7L/sH+wf7G/s/+1v7W/tj+2P7S/tv+z/7J/r3+uv7A/sr+yP7L/sP+yP7U/ub+Av8G//H+4P6u/qL+tf7G/vP+Af///uz+0f7F/rT+t/7C/sH+v/7T/ub+9P72/uz+0/7E/rv+uf6+/sn+4f7y/uv+6/7M/sj+wv7B/r3+v/67/r3+yf7O/u/+//4F//j+2/7F/rD+tv7O/t3+4/7n/t3+2P7T/tT+zv7I/sv+yP7O/sz+yf7L/tX+3P7d/tv+yP7I/rv+vv7F/s3+3P7i/ub+3P7a/tr+x/66/rz+uv7R/t/+9v71/uP+0f6x/q/+v/7Q/tr+1f7E/rz+tP69/tT+3f7r/uv+5f7k/tj+0P7K/sv+yv7T/tv+3f7H/rn+sP61/sr+2f7o/vD+3v7L/rj+tP7A/tH+6/76/vX+5v7L/sL+vP7C/uH+4v7W/s/+tP6v/q/+t/7a/t/+5/7k/ub+7P7g/tX+s/6v/rr+yv7u/vn+9/7j/rT+o/6e/qT+x/7a/u7+7/7f/tj+zf7D/sH+wv68/rr+zf7d/vP+7f7y/un+2v7T/sH+wf7E/sT+u/65/sL+yP7h/uz+9P7p/sT+uf6p/rn+1v7t/v3++f7h/tb+yv7F/tT+3v7l/t/+z/7J/tP+0v7T/tH+1v7W/s7+z/7E/sH+vf7M/ur++v4M/w3/8v7T/qH+nf6q/sD+4f7y/vn+8v7u/uT+4P7U/sr+xv7E/tL+6P71/v7++P7k/tj+t/6w/rL+yf7x/gD//f7y/uX+4P7k/t7+2/7M/sL+xP7f/vH+A/8D/+j+1/7B/r/+z/7X/uj+6f7X/tT+2P7d/un+6v7h/tz+3P7c/tn+1/7O/sz+zf7V/uX+7f70/u/+2/7N/rr+wv7m/vj+Af/9/t3+1f7M/s7+2f7d/t3+3f7T/tH+0P7X/u/+8f7q/tb+s/62/tD+5/4I/wv/8/7p/tL+zv7X/tz+3P7T/sj+0v7q/vX+Af8A/+b+1P7F/sX+3/7v/gz/CP/y/uD+0/7N/tj+1v7g/tr+2f7Z/tz+6/4F/wz///7t/tX+z/7P/tf+5/7j/tD+0f7f/ur+Bf8D/+/+1v6s/pz+sv7J/hT/MP8u/yD/2f7M/sz+z/7b/tz+4f7f/uf+7v4C///+6/7a/rr+qv6y/sD+7f74/gP//P7e/t3+5f7v/gT/Av/w/uf+3/7e/u3+/P7+/vr+3f7K/sb+zv7T/tb+2P7X/tT+4f4C///+6v7c/sz+wv7k/vT+Cf8O//T+6P7L/s7+4f71/gj/Af/e/sv+wP7K/tf+2P7d/tv+6P71/gf/BP/0/uv+2/7Z/tj+4/78/gj///70/tr+zf7O/tn+6/7t/uD+3P7k/vH+Av8A/+n+3P7H/sP+0P7o/gv/Ev8I//r+1/7I/t7+7v77/vz+6f7g/tv+5f75/gX/Cv8C/+L+0f7L/tb+9P4A/wL/6/7Z/s/+3v7k/vH+9P75/vr+AP8I//H+7/77/gD/Af8B/+7+2f7O/sv+2/7r/gf/B/8A//b+5/7b/t7+5v4A/wj/Af///vb++v71/vL+7P7g/tT+0/7c/uH+Bv8M/w3/+v7S/sb+3f7w/gb/Ef8I//z+9P74/vv+9/7g/tv+1P7X/uv+8P4H/wr/7f7g/tb+2/76/gz/Fv8A/+b+3v7r/vX+Bv8B//H+6f7b/tv+5P7t/vv+9/7V/sX+u/7N/gL/GP8p/xn/6f7U/s3+0P7z/gP/Ef8P/wD/7v7a/tn+5f7n/ub+4f7m/vD+B/8E/+j+3P7e/vT+D/8j/xT/Df/7/vX+5v7v/vT+8f4D/wb/Cv8C/+n+2v7E/sH+1v7q/iT/M/80/x//9f7c/sz+1P7t/vf+FP8b/xP/CP/m/tb+yv7T/uv+8f73/gD/Cf8O/wb//P7o/ub+7P7r/vn+/P4J/w3/D/8Q//r+7P7a/tf+0/7V/vD+Af8S/w7/Ev8B/+j+5f7n/uf+5/7u/gL/Cv8X/xn/Bv/8/uT+2/7E/sT+4v7v/hD/Gv8G//3++f4D//T+6P7U/tb+4f7u/gv/E/8M/wr/A//2/tz+1P7P/tH+4/7t/gH/DP8g/yT/G/8N/9v+xP6y/sX++/4S/y3/LP8F/+j+yP7F/tf+5f7w/vT+8/75/gH/B/8M/w//B//3/vH+4v7f/u3+9P75/vv+8/7r/u3+5/7s/uD+1v7Y/uH+/P4F/wv/BP8M/wf/BP/+/vH+7P7i/uL+8P75/gb/Df8C/wL/6v7b/tX+0v7g/uf+9f4A/wn/CP8K///++v7u/uP+2f7a/ub+Df8c/w//A//f/tP+1f7d/uv+7v76/v3+Bv8E//7++/7d/t/+2f7e/uj++/4J/wb/9/7n/ub+8v4R/xb/Bf/w/sX+tv7K/ub+If8v/zn/Jv/v/s3+vv7M/u3+/v4I/wT/9v79/gH/AP/n/uD+zv7P/vL+B/8w/y//I/8O/+T+z/7Z/uj++v76/vz++v7z/vT+Bf8J/wX/Af/o/uD+0/7g/vH+//4a/x3/DP8F//z+9P7x/uz+5v7l/vH++/71/vT+7/7u/u3+7/7u/uv++/4H/xD/C//5/v/+CP8L//7+9/7g/tf+6P7l/u/+9P74/u/++v76/vL+6P7d/t3+5/7v/gn/G/8n/yP/Af/3/t3+3P73/vf++v7+/vj+9v7p/ub+5v71/vn+8P7d/tn+5/7y/h3/Jf8Y/wH/2v7O/tb+4P4A/wr/Cv/9/vb+/v4C/wf/C/8D/+P+2/7Y/u3+Ev8V/wj/+v7t/u/++/4B/xL/Ef/s/tr+xf7G/vX+Ev84/zD/C//5/t7+2P7k/vL+Av8H/xL/F/8O/wn/9/7y/u7+6/7i/uT+Af8N/xT/Ev/3/uf+4P7r/vv++v7x/vP+Af8E/w//Ev8d/xT/Cv8F//P+7P7v/uf+8/7//hD/Gv8j/xn//f7q/ub+8f4J/yL/MP8j/wD/7/7o/vH+Bf8V/xr/Ef/3/uz+Af8F/xT/Df/2/uz+8/4D/x3/I/8U/wf/6v7v/gL/Ef8u/zT/Gf/3/tD+y/7m/gX/RP9T/zL/GP/0/u3+7/7z/v7+BP8B/wv/Iv8r/zH/JP8C//H+0f7S/gf/Iv9B/0T/JP8X/+/+7f7v/v3+AP8H/x7/Jf8a/xX/GP8S/wX/A/8P/xD/Dv8K///+//4G/w//HP8n/xf/B//3/vT++/75/g7/EP8Z/w//CP8G/wr/Cv8T/xL//v78/hH/Gv8p/yL/Bv/3/un+7/4Z/yj/H/8P//3+9v7y/v3+If8q/y7/G//o/tv+7/4B/y//Ov8o/wz/8v71/gb/Ev8b/xv/Bv/1/uf+9P4Z/y3/Nf8q/+7+1v7O/uL+F/8l/yX/Gv/1/uX+3/7s/hP/IP8f/xr/+f7y/gj/HP8t/yv/Dv8A/+7+8P4A/wn/Dv8J//v+AP/4/vz+Ef8X/xb/C//t/uP+8v4C/x7/MP8y/y3/Dv/9/vD+8P4E/xX/Hv8T//n+6f7n/u3+Bf8S/xH/DP8B//7+B/8J/xP/Ef8K//v+8f72/hL/Hv8r/xf/+f7q/uL+6v4L/xX/JP8Z/wX/+f7Z/t7++P4E/xf/Gv8g/x//Gf8X/wv//P7r/uj+Av8J/xj/G/8d/xj/7f7Z/sX+0/73/g//OP82/xb/D/8E//3+9/77/g7/GP8i/x7/EP8C//z+BP8V/xX/Af/w/tj+1P7x/v/+Ff8g/yf/JP8Q/wj/AP/5/vT+9P79/gX/Mf8+/zf/JP/5/uf+0f7U/vb+C/8n/yX/Gf/9/tT+1v74/gv/Hf8U//X+6v7j/vb+Hv80/zj/Mv8R//r+0P7R/vP+Dv8x/zf/Jv8Y///+8f7m/uH+4f7s/v7+CP8b/xr/Hf8b/wH/7/7n/vD+Cv8Y/zP/MP8c/wn/7f7w/gP/Cv8T/xb//v72/uv+8f4E/xj/IP8b//r+7f7k/uX+BP8V/zD/PP8z/yf/Dv8D//v+/P4G/wv/Df8L/wv/Ff8E//v+9v72/gP/Av8T/xr/Ff8R/wn/CP8O/xX/Kf8u/xj/Bv/2/vv+EP8X/yX/IP8C//n+7/7t/u3+8/4Q/x//Kf8p/xn/Fv8R/w//Ev8Y/xf/F/8i/yD/Gv8I//j+8/7v/vH+Av8H/yX/Iv8Q//z+4f7d/vn+C/8g/yT/I/8X/w3/Bv///gj/Dv8P/xP/GP8a/xX/Bv8F//f+9f4D/w3/Bv/3/uv+7/4T/yH/Nf8v/xD//f7r/uv++/4N/yv/Lf8g/w7/7v7t/gL/Df8S/xD/+f7v/vn+A/8X/w3/+P7u/uT+8v4P/yr/OP85/wn/8P7f/uf+G/8t/zD/Hv/2/un+8v4E/xv/Hv8J//b+5P7z/hX/Kf80/yr/AP/x/vr+Cv8y/zr/I/8L//f+AP8e/yf/JP8N/+j+3f7q/vj+Lf88/zz/Kf/y/uT+8P4M/zr/Sf9B/zL/C/8B//r+AP8M/xD/FP8T/xL/Ev8W/xX/CP8E/+j+6v4K/yb/Sv8+/wj/9/73/gv/Kv8z/yT/DP/6/vr+Gf8j/zb/Lf8b/w///f4A/xv/J/83/y//Hf8Q/wP/A/8J/xL/GP8g/y3/LP8t/yz/NP8w/xP/DP8C/wz/Pv9P/1b/S/8c/wn/Av8H/x7/KP84/zX/Iv8W/xL/E/8b/yL/Ef8O/w//G/9C/0v/PP8v/w7/C/8W/yX/P/9K/z3/MP8W/wf/D/8j/0H/Qv8x/xj/AP/8/hv/J/81/zD/KP8d/xD/E/8p/z3/TP9G/y3/GP8J/xD/Kf8s/yL/H/8f/yn/Ov86/y3/Jf8d/yH/L/82/0P/P/8v/yL/Fv8P/yr/Pf9S/07/Kv8d/w//Gf8m/y//P/9C/0L/Q/89/z//QP9H/0v/Tv9K/0f/W/9V/1H/Rv80/zH/L/8x/zb/Pf9J/03/Uv9N/zr/Nf82/z7/Rv9K/zT/NP86/0L/Rf9F/0n/Rv9N/0X/Mv8s/zD/Ov9K/1H/TP8//zP/Lv8q/y//Rv9P/1j/UP86/yn/HP8f/yr/M/9E/0n/RP9D/z7/Pf89/zf/Pf9B/0v/Tv9U/1P/WP9I/z7/N/9B/0b/VP9a/2L/Xv9V/0v/L/8t/zX/Sv9g/2P/Yf9W/0L/QP9N/1T/Y/9j/2b/Zf9c/1z/U/9J/0X/SP9T/1n/bP9t/1r/VP9P/07/Rv9J/0r/Uf9f/2D/Y/9i/1P/Uv9Z/2P/Z/9m/1L/TP9I/0v/UP9R/0//Vv9L/0v/TP9M/1f/YP9m/2H/Sf9H/0v/S/9b/17/Vv9N/0z/Sf9B/z//Rv9O/2T/Yf9G/zL/Gf8Z/zP/P/9b/2D/Tf9I/0D/Q/9X/1//Yf9W/zf/L/9D/1P/Yf9g/0T/Mf8o/yz/PP9B/0v/R/9A/0D/N/82/z//RP9E/z3/L/8p/zz/Tf9s/2//Sf87/x3/H/8i/zD/SP9Q/0r/Rv8+/zX/L/8x/zj/NP8u/zn/Tf9V/1z/Uv88/yr/Fv8Y/zP/Qv9Y/1f/Uv9C/y3/Lf8x/zD/Mf85/0P/Rf8+/zv/Lv8r/y//Pf89/zT/If8l/zf/Pv9G/0b/Pf80/zv/RP9M/0n/Uv9J/0D/Pv8v/zD/M/8u/y//Mv8z/zT/O/8+/z//Qf89/z//Ov83/yz/O/9L/1H/Rf8//y7/K/8v/zT/P/9D/zv/PP8+/zH/Mv8o/z3/Rf9D/zn/Nf84/0n/Uv9m/1v/O/8v/yz/LP89/0z/XP9T/zP/Hv8a/yH/QP9V/1//Vf8+/zT/MP81/0j/S/9F/z//NP8y/z7/Rf9N/03/PP8p/xv/Hf82/0P/Rv9C/y3/KP8o/zL/Uf9f/1n/S/8z/yz/L/89/1r/Yf9U/0z/Pf8y/zD/KP8y/zj/Qv9C/zz/OP9C/0L/T/9G/0H/OP88/0n/X/9a/2X/ZP9M/0T/QP81/zL/L/9D/0r/T/9P/0b/QP8w/y3/NP81/0r/SP9R/0z/Rv9L/0r/Tv9E/z//Q/9H/1H/T/9X/1P/Pf8x/yj/Jv86/0f/YP9e/zz/Lf8g/yf/Vf9k/3b/Zv9G/yz/Hf8o/1b/ZP9p/2T/Qf80/zH/Pv9O/03/S/9G/zH/L/9I/1L/Uv9S/0v/Q/8+/0j/Xf9k/2n/WP83/zP/Of8//0//VP9N/z//K/8u/zz/Rv9U/1T/Sf88/zv/O/9H/0//WP9W/07/SP9G/0T/Qf9E/0j/TP9R/1f/Qv87/0T/PP8t/y3/M/8z/0j/Tf9V/03/Qv84/yr/Lf8+/07/ZP9g/0r/Of8q/y7/Sv9V/1//Vv8s/xj/Dv8h/z3/Tv9g/1b/Lf8m/yX/Kf9L/1z/ZP9R/y7/Jv82/0P/X/9d/07/Qf8m/x//K/8w/0L/R/9K/07/R/9G/0X/Q/82/zD/J/8m/0H/Tv9d/1z/S/8+/y7/M/8w/zT/QP9B/03/TP9I/0T/PP8z/yb/I/8r/0D/WP9Y/0n/Ov8m/yr/Pf9E/1T/Sf8s/xn/Ev8e/z7/T/9n/2T/RP8u/yn/K/8//0T/T/9S/03/Tf88/zj/MP8y/0L/Qv8//0D/S/9J/0D/Mf8n/yH/Mv9J/3L/ef9h/0z/Kf8j/yb/OP9f/2f/ZP9a/y//Kv8m/zL/Sf9U/0n/PP85/0T/X/9t/27/Yv9J/0P/RP9R/2X/aP9b/0n/K/8i/0j/Yf9+/4D/YP9I/xj/Cv82/1b/l/+k/5P/dP86/yf/M/9J/3j/gv98/3D/Vv9O/1b/Yf9s/3H/cv9q/1//aP9+/4P/i/+I/2v/aP98/4r/pf+b/4X/cP9o/2z/gP+I/57/nf+G/33/bP9x/4D/lv+i/57/jv+I/4//mv+0/7X/sf+r/5v/mv+S/4r/nf+j/6L/of+f/6P/oP+b/5f/jf+U/5r/r/+0/7H/q/+p/6T/p/+j/6b/r/+q/6P/j/+H/4D/j/+n/7D/qv+j/4//g/98/3j/k/+e/7z/xf/A/6b/d/9p/1j/Y/+Q/6T/vP+z/5H/dv9d/13/df+G/6D/pf+a/5X/hP+E/3v/f/+G/4v/hv+C/3//e/+N/4v/i/+C/3f/cf90/3P/df9q/3L/dP92/3v/gv+G/3T/av9V/1X/Z/9w/43/lv+Y/43/dP9s/1//Xf9b/1//ff9//4z/g/9p/1j/QP9G/1f/av98/4b/fP93/2H/Y/9f/2j/bP9l/2L/Xf9q/23/cP9k/1n/V/9V/2D/bf9u/2P/XP9O/0L/Sf9c/4D/iv+B/27/QP9A/0z/X/97/33/cP9r/1n/WP9b/2L/af9f/0T/O/9E/1T/fP+E/3X/WP8r/x//Ov9S/4b/lP+E/3T/WP9N/1L/Y/97/3r/a/9i/0b/Pv9L/1n/Xv9d/1D/TP9U/13/cf95/3X/af9N/0X/Uf9j/4P/jv9//3D/R/86/0f/TP9P/1f/UP9Q/1v/ZP9p/27/Y/9a/0z/P/9G/07/bf9y/4P/fP9y/2T/S/9D/0v/Sv9P/0z/X/9t/3X/gP93/2L/Pf8x/zD/Q/9w/4H/i/+C/1r/T/81/zn/W/9p/27/bf9l/13/T/9X/2X/ZP9Y/1H/Wf9e/2j/af9b/1L/Uf9X/13/ZP9l/2T/WP9V/0r/UP9n/23/Z/9Z/0n/QP9R/1//fP91/2b/Xf9L/0D/Sv9b/2P/bf9k/2j/WP9V/1//X/9U/1D/Tv9Q/1X/Xf9l/2v/Uv9O/1T/Wv9f/2X/Xf9V/0j/SP9X/2L/cf9u/1f/Sv9A/0f/YP9r/3P/cv9P/0L/PP89/17/bP94/3v/ZP9U/zj/Nf8z/zj/Qf9I/1v/X/9s/3H/Yf9Q/zT/NP88/0T/cf+A/4P/e/9d/0n/O/8+/0D/RP9M/0j/Sf9I/0z/Rv9F/0n/S/9N/1L/VP9I/z//Ov9I/1z/a/92/3H/Wv9G/z3/N/9C/0n/U/9Q/0j/Sf9P/1f/Xv9l/1b/Rf80/y//Mv9B/1r/Zf9q/1r/Sf88/0L/RP9I/0r/TP9T/2n/bP9n/1z/Pv8y/yv/Nf9W/2P/bP9t/1H/Rf81/zr/R/9M/1H/Vf9U/07/QP9C/z//QP9L/03/TP9L/0z/V/9U/1T/P/87/yn/M/9O/13/Xv9e/0T/P/88/z7/Uv9X/1j/Uf84/zL/MP85/0z/Wv9h/13/U/9K/0P/QP9C/0f/Sv9B/zP/Mv8v/zD/Qv9M/03/T/9P/0//Tf9H/0//Tf9M/0z/Tf9C/0H/QP8+/zz/OP83/0b/P/9J/0P/Pv85/z3/Qf9I/0r/SP9H/07/Uv9S/1H/TP9G/0f/R/9T/0z/Rv9A/yP/H/8q/zb/TP9U/1P/Tv9G/0n/VP9S/07/Rv9N/1X/ZP9o/17/Wv9F/z7/Jv8j/zn/Qv9R/1n/Vf9R/0b/Qv9G/0//P/9J/1b/Xv9v/3n/ev9y/1n/S/8v/yb/OP9E/0//TP9F/0f/SP9Y/2b/Y/9X/0j/O/88/1P/YP9z/3n/cv9n/07/Sf9G/0b/Q/9G/0f/S/9e/2X/af9l/03/Rf8u/zH/R/9U/27/ev94/2b/Uf9S/0X/Rv9R/1f/UP9T/1X/VP9K/0f/Uf9N/1X/Vf9R/0z/Rv9C/zv/Rv9b/2b/df90/1z/R/87/z3/Rv9I/1v/Yf9h/1r/WP9S/zn/OP9C/0v/V/9f/3L/eP9m/2D/R/9D/1b/XP9s/2X/WP9b/1//XP9a/1P/Tv9N/1D/UP9P/1n/Vf9S/1b/Vf9W/1z/bP9q/1z/Wf9F/z3/Mv88/03/VP9f/2H/WP9P/0L/Qv9N/1j/Wv9c/2r/b/9y/3D/Zv9T/z7/OP89/0f/Wf9j/3f/dP9d/07/PP8u/y3/Mv9I/1D/bP9v/3D/Zv9Q/0b/Rv9G/zr/O/9Q/2X/d/92/2P/U/8r/yD/Mv9B/1L/Yv9z/3H/XP9P/0v/Sv9N/1f/Vf9S/0r/TP9S/1v/Zf9j/1z/Vf9D/zj/M/88/0f/Tf9T/1r/X/9f/2D/X/9K/0L/Uv9a/2r/b/9n/1H/Pv80/0P/Uf93/3b/X/9N/y3/LP9P/2H/cP9o/1H/S/9G/0j/Uf9Y/1b/Vv9j/2f/X/9X/2P/Yv9Z/1H/U/9U/2X/bv9s/2H/Rv8//0L/Uv9v/3r/fP9w/1j/Qv9C/0z/a/9w/3T/aP9P/0X/Vf9g/13/Wv9P/1P/XP9i/2n/Y/9b/1b/Wv9d/3f/hv+B/3T/SP84/y3/Q/9r/3L/bf9i/0X/Pf9A/0z/YP9i/27/c/9n/1v/ZP9q/3L/dP9g/1D/S/9T/3D/dP9u/1v/Sf9D/zr/Q/9V/1z/Zv9d/2v/df+A/3//d/9u/0//Sv9j/3P/hf+C/23/WP9D/0D/Qv9J/03/UP9n/3H/fP99/3j/bP9V/1D/U/9l/4L/kP+F/3z/cv9i/1n/UP9I/0z/Wf9b/1j/W/9o/2j/df98/3L/bf9o/2f/cf92/2//bv9t/23/cv95/3L/d/9n/2f/Yv9f/1n/X/9h/17/Zv9k/3v/gv+E/3r/Yv9c/17/Zf+A/4P/hP+H/3//ev9k/2P/S/9D/1X/Zf94/3z/hP99/3D/ZP9d/1//a/9r/3P/d/94/3r/eP9y/1//WP9b/2P/ef+C/3j/cP9a/1L/TP9V/2z/ev+J/4z/hf9//3H/av9Y/17/U/9W/1z/Y/9m/2L/Zf9m/27/cP9e/1v/X/9o/4X/k/+L/3z/ZP9b/2D/a/9n/2b/Xv9W/2L/a/91/3T/cv9o/2D/WP9Y/1n/a/91/4P/hv9//3z/Yf9h/2X/Zv9l/2n/X/9h/2H/Y/90/3f/c/9r/17/XP9g/2z/a/91/37/fv9w/2v/Yf9d/17/Wf9u/3X/ev96/3L/Yf9K/0X/Uf9V/2z/af9q/2X/Zf9k/2v/c/9w/2r/Yf9d/2L/aP97/3r/cf9j/1L/Rf9O/1n/cP9w/3L/Y/9W/0r/Tf9R/2D/YP9b/1z/Yv9o/3//g/9t/1b/M/8z/13/c/+S/47/dP9b/z3/OP9N/1v/av9t/2v/af9i/2b/ZP9h/0//R/9H/1X/df+E/4z/fv9Q/zz/OP9D/2z/ef9v/2D/Qv9D/1n/af+N/4v/b/9Y/z3/Pv9m/3//pf+h/3b/Uv8f/xT/Pf9d/4//mf+K/3//VP9K/0X/QP9M/1P/df+B/5D/jf98/2v/TP9G/0r/Uf9q/3X/dv94/2f/Z/9Z/1b/V/9e/2X/bf9x/3r/ef94/3r/gf95/3P/af9g/1r/V/9d/2T/dv98/4P/f/9i/1f/VP9X/1r/Yf9r/3P/gP9+/3z/ef9n/2L/Wf9U/1n/ZP+A/4f/e/9z/07/TP9T/2H/b/9y/1//Vv9p/3D/h/+N/4D/cP9O/0b/Tf9d/4T/hv+I/37/Z/9U/0b/S/9j/3z/hv+M/3z/bP9U/1f/cf+D/33/ev9r/2D/Xf9j/3D/cP9z/3f/a/9q/2D/Yv97/3v/ff93/2b/Yf9g/2X/c/95/4v/jP97/3D/YP9h/2r/cP9x/3T/cP9x/3n/eP9u/2P/Uv9M/1r/av+E/47/lP+I/3D/Yv9c/1v/cv9//4j/hf95/3X/bP9k/2T/Z/9w/3T/df90/2r/cP98/4D/if+D/2//aP9l/3T/d/98/3j/df9x/3T/ef93/2j/Xv9L/0b/Yv94/47/lv+J/37/Wv9S/0z/Vf9v/4T/j/+O/3D/Yf9a/17/cf92/2r/Zf9l/2v/hP+J/4L/b/9Q/0z/Uv9g/3j/hf+C/3L/Rv9A/0v/X/+B/4z/cf9n/2H/af9+/4//kv+A/1r/S/9D/1j/dP97/33/cP9Z/1H/V/9k/2T/a/9f/1n/X/9q/4j/i/+K/3r/V/9U/1L/aP+C/4r/e/9x/1f/Vf9i/2//d/90/13/Uv9U/1//g/+T/4//ef9X/0z/W/9p/4//iP9z/1n/QP9E/17/cv+C/4X/cv9r/2b/Z/9n/2z/Zf9o/2P/aP98/4H/kv+F/23/Wv9I/1D/av90/3v/d/9g/1r/Xf9l/2z/bf9k/1//Uf9R/2X/df9+/3j/bv9j/2D/bv+H/4r/eP9t/07/Tf9o/3r/lf+U/3z/Zf9D/0X/Tf9X/4L/g/98/23/Y/9Z/1D/XP9q/3T/d/94/2P/YP9e/2f/bv95/3f/e/9t/2z/Zf9l/2T/Z/9o/3D/dP96/3b/dv9t/2v/Yv9c/2j/av93/3v/ev+A/2//aP9c/1n/Yv9l/4H/hP+C/27/V/9R/1r/Yf+B/5H/iv91/1v/Tv9Q/2X/j/+f/5v/iv9x/2f/XP9i/3z/ev90/3b/eP94/3L/b/9c/1T/XP9o/5H/m/+h/5z/bf9X/03/Vv+H/5v/tv+x/47/df9N/1D/T/9e/3r/gv9//33/f/94/2T/WP9P/1X/af90/5T/ov+d/5P/ef9t/2L/bv91/4L/i/+K/3D/Zv9n/2v/ev+A/3//df9b/1b/YP9l/4P/jf+T/4j/df9q/2H/Yf9x/3n/gv+A/4n/jf96/3H/YP9X/1P/Xf93/4r/mP+Q/3b/bP9h/17/bP96/5D/m/+m/6H/hv98/17/Xv9c/1j/af93/4r/kP+L/4T/V/9O/1v/Zf95/4P/g/+B/4b/jP+O/4H/b/9u/3f/cf97/3f/bv9p/2j/af9r/23/cv9x/2//aP9n/27/fP+K/5r/lv+H/3j/Y/9j/3v/hP+c/5r/e/9l/1n/W/9x/3j/f/+C/3P/bP9o/2z/d/+A/5L/jf97/3v/jP+W/5n/l/9x/2H/VP9b/3D/hP+Y/5T/gf9u/03/Uf9c/3r/k/+U/4b/df9M/1P/d/+H/47/if9x/2j/bv92/4L/g/96/3D/bP9k/2z/bv9s/3X/dv9//4f/if+G/37/a/9q/2T/Z/94/4D/hP+B/3P/Z/9f/1z/ef+D/5P/j/+A/3H/X/9k/2r/dv+I/4f/dv9w/2D/W/9V/2b/g/+R/5H/iv+B/3f/Zv9d/2X/Z/9x/4X/of+m/5f/iP9u/2f/X/9e/2f/av99/47/mP+T/3X/cf9m/3D/fP+H/5H/jf9//3b/dP91/4b/hP97/2v/Wf9b/2n/dv+M/5L/if+A/2n/Y/9m/2j/dP+A/4f/kv+K/4n/h/99/3P/c/9y/3T/c/91/3P/d/96/3j/e/9y/3X/dv+H/4X/lP+J/4H/hv+P/5L/jP+G/3r/dv95/3z/gv+F/43/k/+M/4T/af9f/2L/b/+T/6D/o/+W/3//bv9s/3r/jv+R/4v/gP90/3v/kf+h/6n/o/93/2r/Y/9v/5X/nf+f/5X/c/9s/37/h/+S/5X/e/9t/2X/d/+b/67/s/+p/4D/bv9X/1f/dv+N/6r/q/+k/6H/lv+R/4n/iP9y/2z/cf98/4v/k/+V/4v/ff98/3j/eP9u/27/f/+I/5z/of+f/5v/hv98/23/cv+I/5j/pv+b/4L/fP+J/5P/jf+L/27/Yf9h/2n/k/+d/57/mv+P/4r/hv+H/4T/hP94/2//Z/9x/5P/of+e/4z/Wv9O/1j/b/+f/6z/tP+c/27/X/9j/3P/k/+Y/5D/gP9j/2b/fP+J/5H/kP92/27/bv90/37/gf99/2//aP9t/5P/n/+w/6X/cf9Y/03/Wf+C/5P/pf+e/4v/ev9p/2n/eP94/4L/if+E/4P/d/9//3r/ev9y/3b/hf+J/5H/i/93/2r/cf94/4b/jP+Q/4X/ef9x/3P/dv96/4f/jP+L/37/d/9u/3H/cf9h/2L/Z/+C/4P/jP+P/4n/fP94/3r/df93/4T/gP90/2n/dv9+/5X/k/+P/3r/Zv9k/2v/d/+T/5H/fv95/17/Vv9g/3f/lP+b/5L/jP9x/2j/dP9//5H/hv97/3j/d/91/4T/gv99/33/fv98/4L/hf97/3r/dP9u/3b/ff+E/4L/eP90/3v/gf+a/6r/qv+a/4f/dv9i/2D/df+C/5j/of+Z/4v/ef9r/2P/Yv9s/3v/kv+Y/5r/jf95/3j/dP93/4j/j/+i/6X/qv+g/4n/ff9s/2f/bP9t/3L/ef+B/4j/jP+R/4r/gv9//3T/jf+Q/5X/mv+b/5n/k/+Z/5L/hP9p/2L/ev+I/6H/of+O/4D/af9o/3j/gf+P/4n/kv+R/5P/mv+u/6z/p/+W/43/gP9n/2j/c/99/4z/mv+a/5r/h/+C/3T/bf92/3b/jf+V/6H/pP+l/6X/of+W/4D/dP9t/3L/if+W/5z/mf+R/47/hP+C/4P/dv9w/3H/ff+J/6r/t/+//7j/mv+E/17/Uv9b/3X/p//C/87/vv+U/3v/Xv9d/3T/gP+S/5v/qP+t/6b/o/+n/6T/mP+U/4n/f/9x/3X/g/+J/5r/oP+i/5//kv+F/2v/bf+A/53/xv/Y/8T/rv96/2j/Y/9t/4n/lf+d/5//m/+X/5r/lf+Z/4r/ef94/4v/k/+o/7P/sf+p/5D/jv+N/5L/lP+Q/3n/df92/3z/ov+s/6n/nP+E/3v/ev+L/5//nP+f/6D/o/+j/43/hv98/3v/d/+D/5b/mv+W/5T/hv+E/4z/jv+X/5T/iP99/3r/g/+S/6j/xP/E/6X/kf9u/2r/cf9//5j/lP+J/4f/gv96/4T/jv+E/4f/ff9//4z/kP+N/4z/gf94/33/hf+P/5r/k/+J/3j/dP98/4//rP+q/5f/hP9n/2X/av95/6j/rv+w/6z/nP+T/3z/ev+C/4v/kv+V/5n/mv+E/4P/gv+D/4n/iv+U/5v/jf+K/3//fv+L/5b/sP+1/6z/p/+Z/5f/iP+F/37/ff9+/4L/jf+Q/4P/e/9s/2//c/+E/6T/t/+x/6j/l/+W/5P/mP+q/6r/nv+X/4z/jv+P/5P/j/+H/33/gP+D/3//fv90/3L/cv+E/5P/tP+6/6z/n/+D/4T/jv+X/6z/tv+f/5T/fP96/3j/fv+U/53/iv+A/3L/cf98/3//k/+M/3r/gf+g/6z/w/+y/5X/jP+C/4//tf+4/5z/gP9i/2L/bP93/4z/jP+F/4f/nP+u/7j/s/+Z/4f/ef99/6L/tP++/7T/gf9x/2D/af+W/6b/mf+H/3H/cv+Q/6X/uv+z/4//c/+A/4n/r/+//8D/sf+M/4H/if+U/6H/mv+K/37/cf92/5v/sf/I/8D/nv+O/3D/cP+T/6b/q/+e/4r/h/+e/6j/pv+b/3b/bv95/5X/vP+9/6r/mv9//3r/kv+f/6r/qf+Y/4z/if+N/5z/o/+i/5n/jP+C/4b/kP+Y/5z/nP+Q/5j/oP+s/7L/tv+q/4T/dv95/4P/qf+x/7X/r/+d/5L/jv+J/4X/iP+K/4z/oP+p/63/sP+e/4v/df9z/4z/of+1/7D/kf+B/3j/hf+k/6//sP+j/4//jP+W/57/rv+s/5f/i/+I/4//nf+l/5b/hv9u/23/iP+e/8f/zP+z/6D/ev9w/3b/gf+o/7f/vv+4/6H/lf+P/47/g/+C/4z/kv+a/5//m/+R/4n/hP+X/5z/pP+f/5D/iv+N/5b/r/+y/6H/mf93/27/dv96/5P/lv+X/5f/lv+d/6D/nf+U/5D/gP+K/6H/rf+0/7T/n/+U/3f/fv+Y/6H/qP+Y/37/cf9x/3X/l/+e/6X/qP+p/67/qP+e/5T/kf+O/47/ov+s/7//w/+n/5P/YP9P/1//dv+x/8j/yv+7/4f/df9e/2n/fv+K/5//qv+1/7z/vP+0/5T/gf9q/3L/jf+U/6P/n/+N/4//mP+b/5b/j/+A/3v/gP+P/5r/of+b/5T/jv+U/6T/pP+g/57/i/+F/4r/lP+y/73/uP+r/4r/ff9w/3L/d/98/5r/q/+0/7P/qP+j/5T/j/+P/5b/of+m/7X/r/+f/5z/mP+Z/5f/mf+I/3//fP9+/4j/l/+e/5n/mf+T/5H/kP+e/6n/vf/C/7T/rP+a/5z/mP+b/53/mP+I/4X/h/+L/5r/oP+f/5n/fP+A/4D/jP+m/7L/tf+o/5T/kv+c/6X/tv/A/7P/pv+O/4j/iv+M/5L/iv+F/4f/lv+X/47/h/98/33/kP+k/8L/xv/I/7//k/+D/3n/gP+c/6z/v/+0/6b/oP+M/4//hP97/3b/ff+c/6//0v/R/7z/qv+G/3r/hP+X/73/xv+2/6T/fv9v/2z/hP+p/7f/sf+m/4f/eP9//43/p/+y/8L/v/+x/6n/mv+T/4T/fv+E/4z/pP+x/7H/rf+S/4L/cP92/5L/of+3/7v/tf+m/5j/lf+Q/5L/nv+e/53/n/+h/5z/h/+L/5j/of+w/7b/uv+w/57/lv+N/4z/o/+w/8L/uP+Z/4L/Z/9k/4P/kP+x/77/tP+o/5L/jP+T/53/rv+w/7L/rP+t/6v/of+Y/5f/kf+W/53/ov+b/4f/h/9+/4P/mf+p/7H/tP+l/5L/f/+A/5H/o/+9/8b/wP+4/6f/nv+U/4z/i/+O/5T/mf+n/6v/of+e/4b/e/92/4X/sv/E/9P/w/+X/4r/h/+M/7j/zv/Z/8r/k/96/2n/c/+a/67/wP+9/6X/mP+D/33/jv+X/6z/r/+6/7T/rP+r/63/sP+1/6r/i/+M/5T/of+4/77/p/+Z/4j/hf+Z/6T/t/+8/63/pP+U/5j/nP+j/5r/mv+d/6b/s/+6/7z/sf+W/4f/e/96/5f/rP/T/9f/xP+n/3X/a/94/4v/oP+2/8X/v/+q/6D/i/+J/43/l/+j/6j/sf+7/7r/tv+g/5X/if+L/5z/ov+h/6P/n/+h/6v/rf+j/5f/oP+e/5//pf+h/5//pv+o/67/r/+g/5r/gv98/4z/pv/E/8j/sf+Y/3P/d/+Q/6T/y//R/83/t/+W/4r/g/+I/5v/pv+h/5z/oP+o/7j/u/+u/57/h/+G/5z/qP/B/8r/tf+m/4j/ff+S/6D/wv/G/7D/nP+B/4P/mP+o/8L/wP+t/6D/k/+Y/63/tP+u/6j/lf+O/6L/tP/D/8P/t/+o/5H/if+N/5H/q/+y/8D/uv+r/6D/pP+l/6b/oP+R/4X/gP+J/5z/pf+7/7z/vv+z/53/kv9+/4H/nf+o/8r/1P/L/7z/n/+O/3z/df+C/4r/o/+y/8T/yv/G/7j/h/9y/23/e/+w/8j/4P/W/6v/k/+D/4f/qv+6/7r/pv+I/4j/lf+l/73/wf+u/6L/kP+W/6v/sf+7/7D/nv+T/5j/qP+6/8H/qf+Y/3n/d/+d/6//zP/D/6b/kf91/3z/k/+r/8n/y/+z/6H/if+K/5z/q/+4/7T/oP+S/33/cf+C/4//sP+5/8b/u/+S/4z/if+L/5n/qP+4/7n/vf/C/7X/sf+b/4X/WP9V/3D/j//J/9X/wP+o/4r/f/+Q/53/sP+1/6r/qf+o/6j/rP+v/73/tf+S/4T/dP96/5X/pf+u/6X/pv+j/6L/of+r/6r/pP+j/5r/lP+m/7P/xv/D/73/p/+O/4T/hP+J/5X/nv+n/67/rP+m/57/nP+q/6z/ov+b/57/nv+t/7P/uf+y/6z/pf+N/4X/hv+R/6//tv+y/6f/nf+U/6L/rP+r/6v/mv+U/5f/ov+t/7j/xP+9/6D/k/+P/47/nf+t/6//oP+l/6b/n/+b/5//pf+h/53/nv+e/7H/vP/K/8X/rP+j/4j/jf+b/57/mf+h/7X/w//R/8//uv+m/43/gP+L/5X/sv/J/9D/zv/C/7P/of+i/6L/m/+Y/6j/v//F/8f/wf+i/5n/mv+g/6z/rf+u/7L/rf+u/7H/sf+u/7P/oP+Y/5f/nP+r/7f/uf+3/7T/tv+7/7n/sf+n/5z/jf+X/6P/tP+9/8j/uP+L/4T/mf+p/8z/zP+6/6X/k/+U/6//v//D/7//lv+R/5D/o//G/9T/2v/J/6L/kf+N/5f/qf+k/6L/o/+3/7v/u/+7/6X/nf+T/5f/rv+w/7v/tv+m/5//of+n/73/wf+4/6r/n/+a/6T/qv+k/57/nf+e/7X/wf/M/8P/sP+f/33/hP+s/8X/2f/Y/7T/nv+I/4v/mf+d/6L/pf+z/7r/vv+9/7P/ov+J/4L/j/+g/7b/vf/F/8H/o/+W/53/qf+6/77/uP+o/5n/jP+X/6H/vf/J/8z/vP+R/4P/hP+V/7//y//N/8T/o/+R/47/kv+j/6b/uP/D/7X/q/+h/6b/pf+b/5r/mv+l/63/tP+x/6P/oP+d/53/q/+4/8f/wf+W/4D/a/9w/43/of/K/8//wP+w/5D/jf+S/5X/q/+4/8b/yP/D/7L/lv+L/3//hv+e/7b/zv/R/7P/qf+a/53/nv+e/5j/kf+X/6H/vv/F/8r/wP+t/53/nf+n/6//qv+f/5v/k/+W/6r/r/+0/6f/i/+F/5D/pf/F/9L/zv+8/5P/f/+G/53/w//b/9T/wf+a/5H/lP+h/7z/v/+p/5j/h/+I/6P/tP/N/87/t/+l/4z/jv+m/7z/zP/N/6v/mP+Q/5X/sP+y/6f/nP+P/5P/tv/S/+D/y/+O/3j/c/+C/7T/zf/W/9D/rf+m/5r/pv+6/8T/vP+t/6H/lf+n/7H/uf+t/5j/iP+L/5//yf/V/9D/vP+e/5r/j/+c/7j/xv/P/8v/v/+s/57/mP+R/5r/qP+q/67/q/+m/6H/nf+h/6D/nf+d/6b/qf+s/7n/u/+0/7T/qv+l/43/kv+n/7T/wf+8/7H/p/+q/6b/p/+k/6D/mP+L/4r/l/+n/7z/wP+x/6X/jv+S/5b/qf/G/87/x/+6/5j/jf+I/5r/rv+8/73/uP+g/5n/lv+Z/6T/nv+b/5//qP+x/7X/rf+h/6D/mv+e/67/u/++/8L/sv+j/4P/gf+b/6X/u//A/7H/nP9//3//jP+b/77/xP+4/6P/jP+I/6D/u//L/8b/rP+i/5j/mf+x/67/qP+m/5//nf+m/6P/of+c/4X/hv+i/7P/yP/P/73/s/+O/4H/gv+M/6n/tf/E/8b/t/+j/5P/iv+S/5D/pf+q/5v/l/+Y/5b/nP+l/63/rP+p/5z/k/+T/6D/pP+r/63/pf+m/6z/rf+j/5r/if+N/5f/mP+w/7n/t/+2/6D/m/+F/4b/lP+f/63/rf+p/6r/tP+3/63/qP+U/4b/d/+C/6H/t//E/8b/rP+V/4L/hf+V/5z/q/+p/63/qv+r/7D/qP+g/5T/lv+X/5z/qf+t/7D/rf+X/6H/mv+k/6T/o/+l/6z/rv+5/8D/v/+r/6X/nP+X/6r/tP+6/7L/q/+j/5f/mf+e/6L/mv+b/6P/pv+s/7H/rP+n/6L/pf+s/6j/tv+2/7z/vP+x/6L/l/+d/7v/vP+0/67/nv+Z/6P/qv+v/6b/of+a/5j/ov+l/6P/rf+n/7L/s/+5/7n/r/+n/6P/qP+x/7f/wv+3/6j/n/+W/5P/lP+a/6P/ov+9/7z/rP+e/5j/k/+X/6D/vP+//8f/xv+x/6f/nf+d/53/n/+o/6T/q/+q/7D/r/+w/63/qf+h/5j/m/+m/67/sP+s/6r/q/+z/63/r/+0/6j/qv+t/7P/rf+p/6r/q/+p/6b/of+b/5X/mv+k/6T/rP+q/6//tP+2/7X/rP+n/6j/o/+m/6f/t/+9/8T/xP+v/6P/jf+L/5//rP+//8H/tP+0/6j/q/+1/7T/uP+y/6v/r/+3/8H/xv/D/7H/rP+g/5n/lP+R/6D/o/+z/7f/qv+o/5//of+b/6L/qf+r/67/rv+0/7j/wv/F/8v/wP+k/5T/hv+M/53/pf+3/7T/q/+j/5f/lv+i/6f/sf+0/7f/tv/M/9P/1P/H/6z/mv+H/4X/pv+2/83/yP+w/6P/jP+N/6j/tP/B/7X/oP+g/77/zP/h/87/qf+Y/5f/pv+9/7//r/+o/5f/kP+U/53/qv+q/7n/t/+2/7X/xP/J/8X/uf+l/5//p/+z/8X/zf++/6v/lv+N/5D/lf+q/67/rf+x/7X/v/++/7n/jf+M/47/ov/M/+H/5//a/6z/lv+K/4z/p/+y/7T/r/+h/6v/tf/C/7r/tf+Q/4z/of+x/83/zv+8/63/m/+i/7H/uP+u/6D/lf+U/6b/tP/J/9L/wv+r/5X/kP+e/7D/yv/R/8P/wf+x/7b/sf+z/7D/rP+X/4n/kP+g/8T/z//H/7j/m/+R/5r/qf+9/7z/uP+3/7n/tv+y/7n/s/+w/6r/qP+o/6z/tv+5/6z/o/+n/6P/rf+t/6//sP+3/7X/r/+s/6v/p/+q/7n/vP+0/6L/mP+W/6H/sf+9/8P/xP+3/7j/r/+t/6//r/+3/7P/r/+o/6X/of+f/6D/sv+z/7D/q/+e/5v/of+u/7f/s/+2/7X/wP/G/8//y/+t/5//i/+O/6j/vP/V/9D/s/+g/4v/jP+q/7f/v/+8/7X/t/+s/6//s/+n/5//ov+t/6r/rf+t/7H/q/+u/6r/sv+0/8L/wP+9/6//ov+l/6X/qf+9/8H/vf+6/6b/nf+W/53/s/+6/83/xf+t/6T/mv+d/6D/rv/F/8z/0f/N/8D/tP+b/5f/jv+Y/7X/wf/M/8v/uP+x/6z/rf+6/77/t/+y/6f/pP+5/8X/x//L/8X/u/+u/6r/qf+u/7P/s/+2/7r/wP/G/8L/t/+g/5r/mP+n/8j/zv/V/9D/u/+0/67/qf+5/7r/tP+m/6L/oP+7/8T/y/+//7H/qP+f/6j/sv+1/7D/rf+f/6D/s//C/93/3//J/6//hv9//5X/qf/K/83/yP++/6j/o/+b/6H/tf++/8f/y//D/73/tP+3/6b/m/+O/5H/pv+5/83/z//A/7v/pv+g/6X/o/+w/7n/wf/C/7f/sP+q/6r/q/+n/6f/rP+0/7X/uv+5/6//r/+q/6n/pP+n/7L/uv/D/8L/v/+9/7r/wP/H/8P/pv+b/5b/n/+k/7P/uf++/7X/s/+u/7L/tv+x/6v/qP+z/7z/z//P/8n/w//C/7z/uP+s/5//oP+t/7P/w//G/7j/tP+x/7X/nf+X/6H/pf+2/73/xf/K/8n/z//L/8L/sf+f/5H/lv+t/7f/zf/R/8P/uP+Z/4r/jf+T/6D/q//D/83/2//Y/8f/s/+u/67/vf+1/63/qf+v/7j/vP+5/7D/qv+2/7f/vf+6/63/rv+s/6b/nP+c/7D/uf/M/8v/u/+q/5b/lP+u/7j/wf/E/8H/uv+t/6//sv+2/7T/rv+c/5j/pP+3/8n/y/+8/7X/pv+o/6X/s/+4/7X/sv+t/7r/wf/W/97/xv+4/5D/jf+b/6X/uv+7/7j/vf+7/7r/u/++/7L/sP+j/6D/uP/C/9j/2f+2/6T/kf+Q/6n/tP+7/7v/vf/C/8L/w/+9/7X/rP+r/6v/sP+y/7n/x//J/8X/vf+y/7T/tv+1/7b/rP/C/8n/0//K/7j/sv+k/6z/vP+7/7n/tP+o/6j/tv/A/87/2f/G/7b/n/+a/63/wf/f/+X/0P/E/7D/rv+z/7P/xf/G/8f/v//B/7v/x//G/8n/tf+f/5r/t/++/83/y//B/7f/rP+x/7v/w//H/8L/vf+5/7b/xf/Z/9f/yf+7/6r/q//I/9r/6//i/8D/qv+e/6L/vP/H/9L/zv+//7v/wv/K/9P/0P/F/7n/sP+8/9H/5f/i/9v/vf+s/6f/rv/F/8r/zP/M/8T/xP/S/9n/1P/B/5n/kP+k/7r/3//s/9f/z/+4/7v/vf/F/7j/uf/A/8L/0f/a/97/2v+6/6P/if+R/77/2v/y//T/y/+3/6j/qf/A/8n/zf/J/7P/q/+7/8j/2P/i/9P/xf+a/5b/q/+7/9D/2f/T/9L/wP/A/8j/xf+7/6//pP+k/8b/2////wMA0/+y/5X/l/+n/7P/wv/E/8X/xf/O/9H/xv++/6//oP+Z/6n/wP/T/+T/4v/L/7j/tP+0/7v/x//A/7n/tv++/8z/zP/N/8r/qv+c/6D/qf+t/7z/xv/H/73/xv/i/+f/3P/T/7X/q/+u/7j/0P/X/9T/zf+8/7b/s/+x/8L/w/+t/6j/t/+7/8r/zf/R/8z/uv/C/83/zv/E/77/sv+0/67/wP/O/9b/0//V/7T/qf+k/6b/rf+8/8T/wf/I/8r/yf/N/7z/tf+t/6j/wf/U/+r/5v/k/9P/sv+r/7f/wv/F/8T/uP+0/7n/xP/a/9//zf++/6X/oP/A/8v/3P/k/9//1f+//8f/xf/H/8P/vv+w/7v/0f/i/9//0v+1/6n/qv+x/8j/0P/d/9T/vP+z/8H/yP/O/87/w/+x/6X/qv/K/9r/2//l/9b/0f/A/8L/u/+6/73/w//K/8v/3f/j/+7/6/++/6f/kv+X/73/1v8CAAUA4f/R/7D/qv+r/77/zf/V/9P/3P/k/+r/4//W/7r/sP+2/7//1f/c/9n/1//j/+X/1P/S/8n/zP/H/8X/zf/Z/+P/4f/H/6//m/+i/9T/7f8DAPn/1f/K/73/xf/S/9v/3f/j/9j/1P/K/8L/y//K/8f/v/+8/77/1P/a/+T/2//H/7v/wv/O/+j/7v/t/+H/yv/P/9b/4f/o/+T/uf+q/5j/pf/N/+P/5//b/7r/tv+z/7z/0f/e/+7/5f/L/8D/wv/S/+3/7f/U/8f/u//B/8z/yv+8/7T/sf+1/8X/0P/Z/9b/y//D/57/kf+p/8b//P8RABUAAQC3/57/hf+I/63/zP///w0A9f/l/63/n/+X/6H/sf+8/87/1f/U/+D/5v/l/9H/w/+b/5b/pP+8/+f/8P/q/93/uv+1/7D/r/+m/6r/t//E/9j/6v/e/9//w/+y/4n/h/+d/7D/3f/i/9T/yP+8/73/yP/K/8z/xf+4/7r/uP/B/8X/z//O/8v/sf+p/6r/tf/J/87/yP/E/8X/xv/J/8b/wf+//77/wv+7/7n/w//I/8v/0//I/8n/u//A/7z/wf/D/8D/uv+v/7D/tv/S/+L/6v/g/7X/pP+Q/5X/sP/C/+b/7f/g/8v/mP+U/6T/uP/U/9T/y//A/7z/wv/I/9D/zv/F/7b/rP+e/6T/uP/M/+L/3f/B/7H/rv+2/8X/w/+//7X/tf/I/+H/6//s/9//rP+Z/43/kv+y/8v/4v/b/8T/uf+s/6n/tv+8/8D/v/+8/7r/xP/P/+P/5//Z/9P/u/+2/8f/zf+9/7L/p/+l/67/tv/I/8P/tv+n/5z/nP+z/8X/6//0/+P/1P/E/8j/yf/T/9X/zv+z/6//rf+y/77/yf/N/8X/sv+g/5X/k/+h/7r/4v/t/+7/6P/S/8L/uP+9/8n/zf/E/8T/tP+2/8b/zf+6/67/mP+X/5//sv/E/9L/2P/P/8b/xP/J/8z/zf/H/7j/tf+2/73/1f/U/9D/xf+x/6T/pv+u/7H/tv+3/7n/yf/R/9T/0//C/7T/nf+g/7T/yv/g/9//yP+7/7T/t//S/9X/yP+6/5v/lv+o/7n/1//f/9D/vP+d/53/qv+4/7//tv+8/8L/0P/d/+L/0/+v/53/m/+p/8D/zP/O/83/vf+5/7b/s/+//7H/lv+E/5j/pv/S/+X/6//h/8v/vv+s/6n/qf+o/7D/vP/T/97/6//o/77/rf9//3X/g/+Y/8z/7f8BAP3/zP+3/47/jf+X/6L/v//L/9j/4f/g/9P/qv+Z/5H/n/+0/8D/v/+4/6f/qv+6/8X/0v/O/7n/tP+s/67/uf/H/8n/wv++/6//q/+p/7L/t//B/7z/sv+u/63/qf/C/8X/w/+9/7D/qv+1/7n/yP/J/7//tP+2/8L/0//b/9f/yf+n/6P/of+u/8z/z//G/7z/qv+c/63/uf/L/8j/uP+q/6b/qv/E/8z/yf/A/5//mf+V/5j/tf++/9L/1f/K/8f/vP+z/6b/of+n/6L/sv+6/87/3f/Y/8//of+O/4n/mv+//9f/6P/g/8r/vf+v/6v/qf+y/8D/wP/B/7f/rv+w/8n/0//e/9r/uv+g/4H/h/+q/8P/7v/7/+7/3v+3/5//kv+M/5n/qf/P/97/5v/l/8r/uf+o/6H/o/+l/7//0v/m/+T/1f/J/7P/rP+w/7f/uv/A/6//rv+x/77/yv/X/9r/1/+u/6b/l/+c/7X/wf/V/9f/1//e/+D/3P/J/73/p/+e/6X/sf/L/9n/3P/V/73/sf+y/6//u//C/8H/uf+v/7j/xv/P/+L/4f/U/8X/qP+b/5v/qf/J/9H/zv/K/7//vv+0/7j/vf/E/7z/vv+2/7f/wf/D/9b/3f/L/8L/pP+d/5n/of/K/9P/2P/a/8j/v/+8/73/vf+7/7v/vv/E/8f/0f/Q/8v/vP+z/6j/pf+t/8P/yf/O/9P/0P/F/8P/xP++/7f/qP+s/7H/xP/a/+f/3P/S/7f/sv+p/67/u//D/9P/1f/Q/83/z//B/6b/mv+U/57/vP/R/+D/4f/V/8f/tf+u/7b/vP/P/83/w/+z/6r/sP/L/8z/y//C/6f/o/+n/67/rv+v/7T/uf/T/9X/1v/L/73/sf+d/5v/rv+8/9f/3//Q/8L/pv+i/6H/rP+0/7v/xv/P/+H/4f/J/7j/qP+j/6r/tP/J/9X/0//M/6n/of+i/6v/x//K/83/x/+0/67/t/+3/8z/0v/Q/8b/vP+7/8H/yv/O/8n/t/+0/7z/xP/C/7n/rP+s/7r/wv/M/8j/w//C/8D/w//B/7//zf/T/+H/3f/J/8L/sf+v/6j/rf++/8//7P/t/9P/uP+Y/5P/mf+w/9j/5P/k/9z/w/+7/73/uf/D/8P/sf+x/7j/uf/G/8f/xv/K/8j/y//D/7v/tf+7/8//2//a/9n/0//U/8P/sv+f/5z/rP+9/9X/2P/K/8L/xP+//7P/t/+u/7D/vP/I/9H/2f/d/9z/xf++/6f/pf+0/8n/2v/b/8n/yP+7/8T/zf/O/73/uf++/8D/yf/O/9L/1P/K/8j/xP/C/7n/t/+5/8D/2f/p/+v/4//G/7j/s/+z/8D/wP/I/9T/2f/Y/9T/zv/G/8X/y//E/7b/sv+9/8f/3v/i/9j/0v+9/7L/sf+5/8P/yP/b/9z/0v/S/8f/yP+//8X/x//T/83/yf++/7j/tv/B/9X/2f/W/9H/vP+5/7X/vP/I/9D/3//f/9r/yf+7/7r/tP/B/7j/t//E/87/3P/c/9T/w/+x/6z/u//K/+X/7//q/+P/tv+i/6X/tf/f/+z/5v/X/63/rP+n/7b/zf/Z/+X/6v/X/9P/vf+9/6X/of+w/8T/8/8BAP3/5v+b/4z/i/+l/9n/8v8PABQABgD7/8D/sv+c/6f/u//O/9f/2v/d/9//0//F/7T/sv+2/7P/xv/T/+D/5v/v/+z/1f/S/8X/wf+8/8D/wP/J/+f/6//s/9j/v/++/8X/x/+8/7z/y//a/+v/8P/R/7z/ov+i/7n/y/8AAAgA7//g/63/nf+v/77/6v/w/+n/4P/K/73/vf+7/7z/v//C/8r/3v/p//T/6v/F/63/lP+Y/8//5/8DAPn/zv+2/6f/qf/B/8v/4P/Z/87/xv/J/9H/4//n/9H/v/+t/7L/1f/p//P/5f+8/6r/u//H/8r/xv+6/7H/xv/V/+T/5//S/8X/qf+r/8L/0f/p/+f/2P/Q/7z/s/+1/7P/tf/E/9z/1//Y/9H/yP/N/8v/xP+0/7f/u//B/9P/0//A/73/x//S/9T/y/+4/7D/pv+y/9X/2P/X/9j/yf/A/7r/xf/j/+//6//l/8X/vf+9/8n/1//N/8H/tv+8/8X/zv/K/7n/sv+u/7X/2v/n//X/8P/N/7z/qP+y/8//3P/h/97/1P/R/9L/0f/I/8L/wf/F/7r/tf+3/7b/zv/Y/+D/2P/R/9r/1f/N/8j/xP/D/9T/8P/1/9//1v+6/67/pP+n/8H/yP/j/+f/5P/c/9T/0//H/7j/rv+w/8//4f8NAAQA2v/G/6r/rf/L/9f/6//i/7//uP/D/9L/6//n/9H/wf+Z/5r/vf/X/+j/5//b/9f/xv/G/9X/1//X/9f/yf++/7//0f/4//z/5v/Y/6n/p/+r/7//0P/Y/9r/2P/W/9j/2f/c/+7/7//f/93/zv/G/8n/yP/P/9T/2v/l/+3/4f/H/7//uv/C/9r/8f8DAAcAAgD7/+L/1//H/8v/w//J/9j/4f/s/+z/1/+9/6v/sP/B/8//6P/n/9n/2f/X/9f/3P/p//D/9//w/+n/1P/O/8v/0//U/9b/1v/X/9X/1f/D/7b/rP+o/7f/yf/w/wMADAAEANP/v/+Y/53/zP/t/wgAEwD5/+T/tv+o/7n/wv/h/+X/z//I/8P/xf/c/+L/2//W/8T/yf/a/+D/7f/s/87/w/+8/8L/3P/q//D/5//A/6n/ov+v/+7/AAADAPL/yf/A/7T/u//I/87/y//F/87/yv/Z/+L/4//V/73/u//C/8b/4v/j/+X/4f/Z/9H/zv/E/8j/xP/C/8T/xv/K/9T/2v/i/+P/4v/Y/8b/v/+3/7b/2f/s/wUAAQDt/9r/vv+2/7f/uP/J/9D/zf/N/8j/x//J/9H/3f/R/7b/sf/D/9H//f8LAOv/1P+2/7T/xf/O/+T/3v/L/7z/sf+1/9X/6f/z/+7/v/+r/6H/q//U/+v/6v/g/9D/x/+8/7v/yf/K/8j/xP/D/77/3f/s//f/9P/G/6v/j/+O/8r/5/8CAP3/1P/A/6T/qP/C/8//2P/Z/9P/0P/W/93/3P/Y/8r/wv+//7//x//R/+H/6P/c/9b/xP+3/7j/xP/I/8j/v//A/9L/4//2//n/4//J/6j/m/+s/77/4f/2//f/7//I/8T/wP/F/9D/yv/D/8X/4P/u//X/9//V/8v/uf+8/7n/wv/Y/+H/7//y/+n/3v/E/7j/tP+0/8X/2f/8//v/4P/N/6j/p//F/9X/5//i/8X/vf/G/9D/4f/i/9n/zv+1/67/vf/L/+T/6//W/8X/q/+2/9r/7/8AAPn/vv+n/5//sf/X/+v/6f/e/7//tv+8/8X/2P/d/9H/zP/K/9L/6P/y/+7/3P/C/7z/vf/H/9r/5v/m/9T/tP+s/7T/v//b/+T/1f/J/8H/wf/R/9T/4v/b/9P/0v/T/9j/4P/l/+7/6//M/8P/tf+4/9X/3v/n/+r/2f/I/7b/rf+1/7j/2f/m/+n/6f/f/9b/0P/U/9P/1P/V/9D/0P/a/+P/8v/u/+j/z/++/6r/sP/K/8v/2f/M/8X/w//R/9j/2//X/9X/2P/X/9P/1//g/+z/7f/o/9//wP/C/8f/yv/R/8//yP/B/7f/uP/L/9n/8P/3/9r/yP+q/6j/wf/R/+f/6f/h/+T/2f/R/8j/zP/B/77/t//E/87/2v/e/9n/z//A/6b/ov+u/8P/3P/l/97/0v/A/7z/xv/Z/+v/6v/M/7H/p/+t/87/3f/k/+H/vv+1/67/rv/L/9L/xP+4/7L/s//J/9n/7P/h/83/vP+o/67/y//W/+f/5//h/9b/v/+4/8H/yv/a/9T/v/+6/8X/2//x/+3/xP+q/5X/nv/N/+D/8f/t/9n/0f/C/8H/2v/g/+L/4v/k/+L/3f/j/9f/zv+z/7P/u//M/9L/zv/G/8X/1//Z/+P/2//K/8v/0f/b/+D/5//d/9n/0P/W/9P/0P/D/8n/xf/I/83/0v/U/9H/2f/d/9L/yf+//77/2v/t/xsAFwDu/9T/pv+t/8r/2P/t/+z/4P/a/83/0//T/9P/xf++/6z/sf/W/+3/BgAHAOP/y/+2/7b/1f/m//L/9P/g/9X/zf/X/+L/5f/f/9f/tP+r/7T/x//l/+7/7P/k/83/zf/W/9n/6f/o/9X/xv/E/8//+v8SAB0AAwDE/67/mf+k/87/3f/t/+f/6v/s/+b/2//R/8P/v//D/9f/6f8CAA8AAgD0/9D/xf+v/7L/y//X/+j/9P/5//D/4v/f/8v/w//D/8L/zf/U/+r/7//u/+//3P/V/83/z//F/8n/1f/Y/9//7//w/+v/1//N/8b/vP/K/9T/5//w/+j/5//L/8f/1v/g/93/3P/S/8v/y//O/9f/zf/R/9j/5v/u//P/7v/J/8X/sf+9/9v/8v8LAAkA7//f/73/sv+w/7v/1f/k//r/7P/h/9P/yv/J/8v/0P/O/9X/4v/q//H/7P/Q/8D/r/+//+D/7f/u/+v/0v/C/7b/t//P/+f/8f/p/8//vP+t/7n/1f/h/+n/5//T/87/wv/F/83/1P/e/+f/5//j/8f/wf/A/8f/0f/Z/93/5v/W/9P/0v/O/8L/zP/Q/9j/3P/j/+T/1v/L/8f/0P/R/9j/2//W/9f/2v/c/8T/vf/J/9n/BQAPAPn/4v+x/6X/r//D//T/AADu/9z/uf+o/67/wf/n//f/9P/k/8v/y//W/9n/4f/b/9T/1v/h/+P/2//R/8L/xf/N/9H/7f/y/+3/3f+//7P/qv+z/+X/7P/7//T/3f/T/8L/vf/M/9f/5//j/9L/y//H/8j/0f/Q/8b/w//Q/9f/0P/F/8L/0P/t//X/7f/h/73/uf/F/8//2P/e/+f/5f/e/9f/zf/I/8f/zP/H/8L/zv/T/+n/4v/D/7T/x//W//H/+//5/+//xv+4/7P/tP/V/+j/AwABAOT/0v+7/8H/yP/K/87/0v/X/97/6v/m/+D/3v/V/8//wv+4/7r/zP/j/+v/6P/m/+T/5P/U/8f/tP+y/8j/2P/7//z/9v/r/9X/wf+o/53/uf/P//r/CAAJAPn/x/+6/6b/sP/a//T/DQD+/83/v//C/8j/6P/q/9D/w//F/8r/2v/k/9v/2//T/9D/0P/b/+P/6f/d/9P/xP/E/87/4v/9//n/3v/R/7H/qP+0/8H/3//s//X/7f/S/8r/1f/i/+H/2f/G/8z/1//n/+n/5//U/9D/xf/H/8L/wv/O/97/6v/t/+f/3//R/8//y//O/97/6P/z//z/4f/U/87/0P/k/+T/3P/S/8r/y//M/9r/5f/g/9P/zv/F/8L/zv/e//T/+v/v//H/5v/n/9b/0f/O/9f/4P/e/9r/2f/q//D/5v/O/7T/qv/B/9D/8f/v/9H/xP/F/8b/5v/p//H/9P/q/9n/yf/F/9T/4f/r//H/+P/5//P/7f/L/73/r/+8/+X//v8LAP//6v/d/8X/sv+t/7L/1//2/xAAEADz/93/wP+9/9H/3v/4/wIA8f/Z/8H/uv/Q/9r/6//q/9P/zf/U/9f/2//e/9n/1v/V/9P/3P/i/+T/5P/Q/8v/wf/J/+n/8//0/+b/zv/B/9H/3f/v//P/6P/o/8f/uP+6/8z/9/8CAP//9f/L/8D/wP/F/9r/4P/o/+//7P/k/9v/1P/N/8f/yf/N/93/5v/y/+//3v/V/8X/w//N/9H/yv/M/9v/4f/g/9//2f/c/9n/3v/Q/8b/1//h/+b/5v/e/9v/zf/S/8b/w//A/8T/2P/q/+P/3f/Q/9X/zP/N/9D/0//l/+7/6//g/8X/wP/R/9z/7v/i/9H/zf/K/8z/4v/d/8z/w//F/8j/2f/n//D/7f/S/8j/xv/R/+L/5f/d/9H/zv/M/97/6P/r/+T/zf+8/7T/tP/O/97/8//2/9f/zP/B/8D/0P/S/9P/zv/W/9n/7v/r/97/1P/M/8f/wv/C/9T/3P/j/+b/3P/b/9X/2v/T/9T/2P/Z/+P/5v/d/9z/z//Q/+f/6P/o/93/1v/Y/8f/y//V/9z/6P/n/9L/yP+8/8X/5//t//j/7//X/8v/xv/I/9v/5f/f/9f/0f/K/9H/3v/h/+P/2f/P/87/2P/T/9X/3v/g/+H/5//k/9X/0P/Q/9n/3P/e/93/3//f/9j/3f/G/8v/wP/G/9X/3f/h/+b/6v/r/+L/4f/i/+L/5v/m/9b/zP+8/7z/zf/S/9b/2f/R/8r/xv/N/97/5v/j/+D/z//R/9j/4P/q//H/5//Y/8//zP/B/8T/0P/T/9H/zP/V/9D/zv/X/+r/5//a/9b/yv/D/9H/4v/3//v/+P/o/8D/rv+s/7n/2v/i/+z/7//w/+v/2f/M/7n/s/+4/8L/7//3//L/8//l/97/zP/N/8z/yf/F/8r/3f/p//n/+f/e/8r/sv+x/8//3//1//D/7v/f/8n/x//O/9T/6v/p/+n/5v/R/9D/2f/a/9n/2P/X/9f/y//I/8H/wf/V/+T/8f/4/+f/2v/O/8n/xv/N/+L/7f/l/9z/vv+x/6r/u//t//r/+f/z/9v/1P/P/9H/2P/W/9b/2//g/+P/5f/k/9z/z/+7/7f/uv/K/9v/6v/x/+v/yf+5/7H/vf/Y/+f/8//q/8v/y//a/+T/5v/p/9b/x/+u/7X/xv/T/+f/6P/K/8H/s/+3/77/zv/Z/9D/1v/U/+f/8P/o/+L/yP/D/8b/z//q/+3/5f/c/7//tf+z/7r/1P/e/+z/5f/Y/8b/xP/M/+P/5//p/+P/0P/N/8P/zv/a/9z/3//g/8f/vf+3/7n/z//V/+r/6f/m/9n/u/+4/87/3/8DAAgA9P/k/8H/uP+4/7//1//h/+X/6P/k/9//z//K/7r/uf/B/87/9f/9/+7/4f/B/7z/vP/F/9T/4v/x//v/AwD8/9z/0v/M/8n/0//V/9r/0//V/9n/5P/t/+7/+f/v/+//2f/S/9L/1v/d/+L/7P/s/+X/3P/O/8z/z//R/9f/2//P/9j/4P/g/+f/6v/c/9z/3v/h//b/+f/2/+b/5f/b/9X/1P/g/+D/4f/T/8v/yP/Q/9f/6P/q/+f/4//h/+b/7//t/+j/8P/f/93/3f/j//n//v/8//H/3f/Q/9b/1f/W/9r/2v/e/+H/5v/5//f/9//z/9//1//K/83/4P/2/wgACAD9/+z/3f/X/9L/2P/r/+r/8P/s//L/6//l/93/zP/C/73/xP/b/+j/AAADAPf/7f/i/9n/z//M/9j/2P/a/9//6f/s/+j/6v/X/9D/yv/K/87/0v/U/97/8v/+//j/8f/O/8X/vv/E//L/AgAGAAoAAADv/9//zP++/7P/uP/F/+L/8v8FAAQA8f/n/9r/z//H/8j/2P/f//v/AAD2//H/3v/k/+P/5f/a/87/1P/S/+f/9P/z/+D/yP++/7//x//m//L//f/7/+H/2v/W/97/4P/o/+r/6P/r/+7/9//y/9n/0v/P/8n/3//m/+z/6//f/9X/vf+7/8H/wv/x//z/DwAEAPz/6//W/8n/w//R/+X/9/8EAAAA7f/j/9f/1v/Y/9n/0P/U/9v/4f/i/+H/0f/L/8r/zv/R/9z/9//+/woA+P/t/+H/wf/F/8//3P/q//P/9//w/9b/0P/L/83/wf/K/9v/4//o//f/9//w/+L/3P/C/8v/3//x/wgACgDx/9n/vf+4/8//3v/p/+j/2P/S/9X/1P/i/+3/9//0/+n/6P/b/9z/2P/X/9X/2f/e/93/4v/n//f/9P/b/9H/zv/N/93/5v/5//7/8v/p/9j/3f/i/+n/6P/v//T////5//H/4f/V/9L/0v/d/+P/9v/8/wMA/P/Y/9L/1v/k/wgACwD4/+3/2v/U/+L/7f/1//P/9P/x/+r/5f/c/9z/4v/j/+L/5v/m/+v/+f/z//T/7v/c/9L/2v/m//z/+//z/+v/1v/R/+D/8//6//X/6v/d/9D/0v/f/+X/9//+//7/8//c/87/v//E/+D/7P8IAAYAAAD3/+b/3P/S/8T/0v/Y//H/+/8FAPr/4v/d/9D/1//w//X/4f/S/8r/yv/p//n/CAALAO7/4P/S/87/3v/n//L/8P/x/+3/+P8DAPv/8//S/8D/t//E/+b//P8EAAEA5//b/8v/xv/L/9r/7v8AAAwAAgDv/+r/5P/q/+n/8P/n/+L/0v/Z/9v/4P/r/+3/6f/k/+j/6P/V/9b/0P/Y/+X/+/8fABoA9v/m/8r/xP/P/93/6f/0/wQABgDw/93/v/+u/7j/xf/d/+n//P////b/9P/l/+D/1P/W/9r/5//5/wcADgAKAO3/0v+8/7T/w//P/+H/5//a/9f/z//Q/97/4//t/+7/5//g/+H/4P/m/+b/7f/s/+L/3P/R/8//0v/e/9//2P/E/8X/1v/j/+//6f/U/8P/x//T//X/+//y/+3/8P/q/+H/2v/b/9L/z//R/9//5f/0//L/5//c/8j/yv/V/97/8f/y/+7/4//W/9T/zf/Q/9X/3P/y//L/7//v/+j/3v/U/9T/4v/k//T/+v/p/+b/zP/N/9b/2v/o/+3/5f/t/9v/3v/X/+D/4v/k/+L/4P/o/+3/8//1/+P/2f/R/9j/4v/c/9r/0P/P/87/6//p//f//v/k/9b/wf/E/97/7v8FAAsA9P/k/9v/zv/M/9b/6P/n//L/7//T/9L/2P/g/+P/4v/W/9L/2v/o//3/9//o/9r/2v/W/+v/7//7//P/2P/R/7v/v//X/+n/AwAJAPD/4f/L/8T/y//K/+X/6v/7//7/8//v/+r/6f/m/9//2P/h/+v/7////wQA9f/x/9n/yv+6/77/4P/t/woADAD8/+//5//l/+X/3v/e/+T//P8KABMADgDs/+L/zv/N/8//1f/k/+T/5P/j/+L/4//s//L/+f/7//z/8P/k/+H/8v/4/wwADwD7/+b/vf+5/8f/1v/m//H/+P/5//L/6v/T/8n/0P/e//v/BgD9//j/6v/s//3/+f/j/9n/1P/c//L/+//u/+f/yf+7/8D/1P/4/wMA/f/y/+H/1v/h/+f/4//k/+j/6//y//j////4/+7/3/+//7//0v/g//z/BADy/+L/0P/Q/97/3f/d/9v/4P/j/+7/8f/7//7/8//u/9H/xf+6/8T/3P/h/+v/6//0//n/9//p/8//wv/R/+D/BwAQABAA/f/i/97/4P/i/+3/6P/e/+H/4//w/+//6//Z/87/0//k/wIAAQDw/+L/wP/J/+T//f8ZACAABQDu/8v/wf/W/9//BwAIAPr/6P/Y/8f/z//d/+z/6v/k/+j/5f/k//L/+f////D/4P/V/9f/3//6//v/8f/q/+T/3v/k/+f/4v/k/+j/7//w//D/8f/v/+n/6v/h/9r/4P/m//j//f/3/+7/zP/E/8//3v8BAAoABwD1/9f/yv/F/87/7//+/wAA+//g/9f/0v/U/+H/4f/t//P/BQAFAPv/8f/Y/8r/wP/U//f/BgAAAPz/0v/G/9P/4f/r//H/6//f/9T/0v/l//D/9v/3/+f/3f/c/93/7f/x//j/6//u/+7/7//y/+n/4//N/8v/3f/n//z///8DAPb/2f/U/8v/0v/t//T//v/7//f/9P/z/+7/8v/t/9//4v/p/+z/7//m/9z/2P/a/93/5v/l/+f/4//j/+r/8v/1/////v/0/+//6v/j/9j/2f/q//P/+f/y/97/1v/b/+D/7P/s/+v/5P/t//L/AgD///D/6P/m/+n/7v/w//L/8//y//P/5//i/9T/0v/Z/9n/2P/T/9n/4P/z//f/8//w/+H/4f/o//H/+v/3//j/+P/5//z/5//a/8f/y//g/+7/9//u/9f/2v/X/+T//v8DAAYA///8//T/6v/m/+z/8f/3//v/AgADAPn/9//z//P/5P/a/87/2P/q//f/AgD+//3//f/4//n/6//o/+b/7f/+/wQA/P/6//v/+//7//v/4f/W/8v/1//7/wwAHgAZAAEA9P/d/9b/3//f//L/+f8MAAQA/v/8//f/9f/t/+7/5v/k//P/+v/5//L/3f/Z//D///8QABEA+P/g/7v/vf/i/wIAGAAgABkABQDo/93/4P/c//L/AQAIAAIA8f/j/9v/3v/m/+//9v/1//P/9P/t/+b/2//Z//X/BQAUABMABQD5/9r/1f/U/9v/+f8NAB4AFgD//+r/z//I/9H/3//7/wEABwACAO7/6P/e/9v/5f/u///////7//X/2v/U/9z/6f8HAAkAAwD3/9r/2f/h/9//7v/2//H/6//u/+P/2//n/+r/9f/8/wYADQATAP7/5v/E/67/u//Q/wIAFgAdABIA5f/h/9X/2//h//H//v8BAPj/8f/t/+f/4f/Z/9D/x//W/+X//P8IAAUA+//g/9n/0//g//7//P/r/97/1P/X/+D/8////wIAAAD8/+3/4f/S/9H/2//i//j/+P/z//H//P/+//v/7v/M/8T/4//z/w0ACgD5/+z/3P/f/+T/6//r//L/7f/t/+//7/8EAAwADwAGAOz/4v/h/+b/+v8FAA8AEAAJAAAA4v/b/+D/6v//////AwAHAAwACQAKAAgA9v/0//P/8f/x//f///8EAA8AEQADAAEA8f/z/wMACgAWABUABQD7/+n/7P/x//z/BgACAPL/8v/3/wMAEwAOAPH/6v/l/+3/AgAUACQAIgDy/9n/x//N/w0AMgBNAEQAAADh/8D/yP/u/wcAJwAjABAAAwD2/+//7f/r//H/8v/8//7/HAAgAAAA7f/J/8b/5P/+/zMANgAbAP//3f/X/93/5f8HAAwA/P/z/+b/4v/p/+7/BwAMABwAGgANAPr/3//P/9v/6v8CABYAHgAeAPv/5v/J/8j/2v/t/wwADgAKAAQA+f/x//H/5v/s//D/BAARABcACADq/97/4P/r/w0ADwAKAPj/zv/C/8j/3f8FABEAFwAGAOr/4v/p/+r/7v/z//z//P8BAAcABgD//+//7f/b/9n/2//r/wIABADu/9b/2v/j/wEADwAVAAkA6P/i/9f/2f/n//X///8FAAQAAQDw/+z/3f/Y/9H/1P/o//j/BwAOAAkA+f/m/9r/3//a/+3/9/8GAAwA//8AAOv/4P/O/9H/2//u/wwADgD+//T/6v/k//P/8P/3//L////+//3/+P/s/+P/5P/x/+7/6P/r/+7/8v/3/+3/3v/N/9H/9f8BAA8ACgDz/+H/2v/f//j/BQAKAA8A/P/s/83/w//M/9H/6v/t/wEAAQDt/+X/4f/k/+T/6v/x//f///8HAAoAAwDw//D/9f/3/wIAAgDp/9f/xv/C/9P/2//+/wUAHAAWAPP/1/+u/7H/1v/4/y4AOwAvABoA5f/R/7b/xv/n//j/HQAcAP7/7P/Q/8L/z//R/+v/+//+//7/AQD8/+//8v/y//v/EwAcABcACwDi/87/v//N//v/EAAeACMABwDw/8H/t//E/9v/DwAiAC8AJQASAAMA5P/c/9j/3/8EABMAKgAkAAoA/P/b/8//0P/h//r/BgACAPr/8P/0/wcADAAPAAgA8v/r/97/4v/n//z/DAAfACsAIwAIAP7/4f/h/97/5v/9/w4AEwAPAAoAAgDv/+n/5f/o//L/+f8EAAkAGAAbAAcA9//Q/8v/0//i/wwAGAAWAAsA7f/n/+T/8//5//r/8f/s/+X/7P8HAAsAGAAYABEA+v/e/9r/4f/q//b//f/u/+z/9v8AAAcAAwDo/9r/1v/h/wIAGgAwADUAIgAMANz/z//J/9b/CwAeADQAMAAYAP3/1//G/8f/0//z/wcAHwAaAAsAAgDs/+f/6v/4/woADQASAAUA6v/k/9n/3f/v//v/EgAaAAoA/v/j/9//2//o//n/BAASABEA/P/x/9v/2f/d/+f/BQANAA8ACgD7//n/5v/b/9v/2//l//f/DAAHAPv/9//e/9r/8v8BAAwAAADh/8v/wv/J//f/DwAtAC8ADAD1/9r/1v/b/+z/AQD///P/8P/0//f/7//k/9//2v/0////GgAVAAQA7//V/83/4P/u/w4AGgAQAAEA1f/P/9D/5P8DAA4ADgADAPH/4f/Q/8j/yf/M/+r/BwAyADwAKQAFAM7/vP+6/9H/BwAbAB8AFQDt/9z/xv/Q/+X/8v/1//T/6v/k/9r/1v/h/93/6f/0/wQABQALAAgA+v/u/+L/4//7/wcACgAEAOv/0/+4/7n/zP/b//r/BgAQAAgA9//1//T/6P/i/9v/4v/m/+3/+f8FAP7/8v/v/97/2P/c/+X/9P/3//r///////r/8f/o/+v/8P/7/wAA/v/0/+7/8P/r/+7/5v/n/+X/5P/6/wEA9P/t/+n/7v/2//j/+P/4/+L/4f/X/93/4v/t////AQDs/+H/1v/Q/9X/4f/+/wgACAD8/+D/1f/c/9//8f/5//v//f/3//b/4f/U/9b/3/8GABAACgD2/9H/zv/U/9//7v/1//j/9//5//n/5P/a/8T/vv/S/+X/EQAmAB0AFgDa/7//qv/A/+T/9/8PAAcA6v/h/9L/1//h/+//+v/5//L/7P/m/97/3f/f/97/3//v//H/+f/4/+v/2//M/83/3v/s/wYADQD1/97/xP/A/+D/7P8CAA4A9//0/+L/2P/F/8f/1//m//v//P/o/+T/0//R/9H/1P/e/+L/5//u//r/8v/d/9H/wP+8/93/7f8GAA0A/f/i/73/tf+7/87/9f/9//7/8f/M/8D/rv+7/+f/9v/4/+j/2P/K/9z/4f/n/93/1f/T/+H/6v/+//f/3//X/73/vv/S/+H/5v/h/8//yv/F/9L/8P/6//r/8P/T/8n/vv/B/9T/3//j/+f/5//j/9b/x/+9/7T/wv/M//X//f8AAPb/1v/M/8L/wv/B/8r/yf/b/+r/8v/q/+L/1f/K/7D/p/+x/8D/7P/7/wQA9//Q/8X/xP/G/93/3v/c/9r/y//J/9D/zf/S/9r/4v/k/9X/1P/G/8f/w//H/9b/4f/o/+r/2v/I/6L/n/+w/73/6f///xAADwDi/83/vP+w/7z/wv/T/9b/5P/m/+L/0f+2/7b/v//B/7//xf/L/9P/3P/j/9H/xP+x/7L/w//U/+//7//X/8b/oP+p/83/2v/t/+v/xf+6/67/tf/F/8//z//F/7//xv/R/9v/zP/I/7P/sf+y/7v/0//T/+H/5//o/+b/y/+z/6T/rP/G/9T/3f/Q/8H/xP/L/9b/4v/e/8T/t/+r/7X/yf/X//L/9f/w/93/xP+z/6D/pP+8/9L/7P/x/+j/1/+x/6X/q/+y/7v/yP/e/+v/5P/b/8L/uP+1/7v/1P/V/9X/z/+6/7X/uf/E/8n/zP/R/9L/wv+8/7P/t/++/8T/zP/S/8//yf+1/7L/oP+o/8H/zv/r//b/7f/d/7T/o/+h/7P/zv/Z/+//7v/m/93/uP+t/5f/mf+3/8r/6P/u/9b/w/+u/63/sv+6/9P/2f/p/+P/0f/E/7z/yP/P/9T/yv/D/7v/u//J/8j/xv/G/7j/tv+//8n/1//W/9D/y/+w/63/u//H/+D/5f/h/9f/u/+z/8b/z//f/9v/xv+2/6H/rP/E/9r/8f/z/9b/x/+t/6T/qf+x/8P/0v/m/+v/4P/d/8H/sv+c/5z/qP+//9j/6f/2/+3/xv+3/6P/rP+w/8H/1v/i/+z/6v/W/8H/sP+p/8D/zP/W/9D/uf+n/5j/oP/E/9H/4P/b/8v/wf+s/7j/xf/S/+H/4//k/+P/4f/X/8T/wf+1/67/sP+0/7//y//M/9L/tP+z/7j/wP/Z/+L/5v/d/8n/xf/V/9z/8f/u/8P/rf+U/5n/qP+3/9X/1//J/7//s/+y/8P/yv/O/8z/x//M/9n/4//l/97/v/+0/6z/rP/B/8n/1v/R/8H/tP+d/6L/vv/N/9//5v/M/77/rP+t/7z/w//b/93/yP+7/7X/tf+3/7b/v//C/8n/yv/O/9T/w/+8/7D/qf+p/7X/v//H/8j/zf/N/8//z//B/6j/ov+p/6n/xv/Q/9n/1P/P/8v/zP/C/6z/qP+Z/6T/yP/V/9//2P+1/63/of+i/7D/r/+1/7L/vP/E/8v/yP/N/8v/xv+8/7D/r//H/83/3v/h/8n/uP+c/5T/nP+s/8L/zv+z/6X/mP+h/7n/zP/m/+f/1v/O/7b/uf/H/9H/zP/H/8D/tP+o/6L/tP+3/7z/tv+n/5r/ov+m/7X/xf/P/8//x//F/8f/xP/I/8j/yf/G/8L/vP+c/6f/nv+o/5//m/+a/6D/sv/C/9X/z//C/8D/uf+1/8f/w//N/8j/u/++/8D/u/+x/67/pP+f/5b/nP+0/8T/zv/N/7//rf+a/6H/xP/b/+H/3//K/7v/vP/F/83/zP+9/7f/rv+o/6D/nf+v/7//0P/T/8z/w/+2/7r/z//M/73/s/+t/7P/0v/p//n/8f/V/7n/mv+M/5T/pv/L/9//4v/S/8T/vP+7/8H/wf+//8P/wv/O/9n/9f/7/+T/1v+u/6D/ov+t/77/zf/g/+T/5f/j/8r/v/+j/6b/vf/J/9//5v/l/+j/2f/W/9X/yv/L/8z/xv/F/73/vf/F/8z/1v/g/+f/5//Z/8//xf/H/9r/3v/j/+f/3//Y/8z/wv+x/7T/yP/W//T/+P/d/87/xP/C/9D/1//u//D/4P/a/83/1v/c/+r/8f/x/+T/5P/l/+n/4//c/8D/v/+9/8v/5v/z//n/+f/g/9n/2f/k/wEACgD//+//1v/I/8z/2f/t//T/7//o/8//zP/L/9v/4P/n/+f/7P/v/+z/9P/p/9//2//p//P/CgANAPj/6P/N/83/1//Z/97/4//p/+v/7P/f/8//zv/V/+H/AAAGAAUA+f/q/97/2P/U/9D/zv/l/+b/AQAHAPD/4P+//7r/wf/S/+///f8KAAMA9v/w/9n/1f/P/9D/1f/d//P/AgALAAgA8f/f/7//t//P/9v/9f/5//n/7v/l/9v/2v/X/83/0P/f/+3/CgAZABUACwDg/8z/sf+7/+X///8RAAoA4f/V/9v/4f/t//L/8P/k/9//5/8GABAADwD//9L/wP/L/+D/FAAgABAA/P/Q/8H/1f/d//T/8v/k/9//5//0/wYADwADAPX/1//R/+v/+v8JAAQA8P/o/+T/5v/v/+z/6f/j/+H/6////wcADQAHAPz/+P/y//T/7f/v//D/7v/y//r/EAAXABAABgDn/9//2//n//b//f/7//j/9//4/w4ADgALAPX/zv/C/9j/7P8fAC4AGgABAN//1f/h/+v///8AAP3////9/wYADwAQAO//5//O/9b/9P8HABoAGAAGAPz/8P/q/+v/7v/z//r/AwD7/+n/7f/4/wQADgAQAP3/9f/1//v/CAAKAAgAAADz//D/7P/v//X/AQAHAAEA8v/l/+D/3v/z//z/DwANAAAA+P/o/+//BgAWABEABwDk/+P/4//y/wwACwD0/93/z//Q//D/AwASAA0A+f/v//P/+P8KAAkA8//k/8j/0//1/wkAJgA0ABkA/f/X/8v/yP/Z//r/BQAUABMACQABAOb/0f/E/8r/6P8EACYAMQAfAAcA3v/W/8r/1v/p//L//v8JABcADAD9/+//4//a/+D/5//4/wAA///8//n/+v8LAA8ADQACAOP/1v/Y/+j/AgAPABMACQD3/+v/4v/e/+//8v8EAAIADQAJAAYAAwDq/+L/4P/a/+b/9v8PABIABQD3/+f/6f8AAAYACgD+/+3/4f/i/+n//f/7/wAAAQD9//H/5f/S/8//0f/x////FAAYAA4AAQDp/97/3v/i//D/8v8BAPj//P8BAPf/7//U/8v/xf/d/wEADwAaAA4A5f/c/+//+//6/wAA9v/l/83/zv/r//3/FQAdABkABgDm/93/3P/l/+j/7f/2//X/+v/8//P/7P/n/+P/4v/m/+7/7f/6//n/8P/n/9r/4v/i/+3/9f/1//b/8P/3//L/7//p/+D/4P/h/+H/8P/o/97/5P/0//z//P/+/wIA+P/l/+P/5v/r//3/BAABAPX/1P/N/9X/6P8HAAkAAAD2/+b/5f/z//j/8f/n/9//1P/i/+//DwATAAsA+P/i/+b/6f/w//X/7//U/87/2f/n/wMADgAQAAIA2f/N/9X/3v/s//P/+P/5//b/9P/4//3//P/8/+j/3//c/+H/8f/5//n/7//s/+z/7v/w//7/+v/s/+f/6f/o//H//v8IAA0A+v/y/97/0P/R/93/5v/x/wEAAwAEAPb/2P/W/9v/3P/x//X/7f/l//3/AwASAAsA7P/Y/8v/yv/r//r/BgAAAOb/3//R/9L/7P/1//j/+P/0/+z/5v/k//r/+//1//D/7v/t//r/AgD7//X/4//e/+j/6v/y/+7/4P/Y/9r/5//1//n/9v/y/+r/8P/9//z//v/z/+r/6f/0//L/5//q/+f/6v/3/wMACgACAPb/7//S/8T/zv/e//v//v8AAO//3v/l//7/DgALAPv/5f/X/+T/7f/6//v/6P/Y/83/2f/3/wMA/v/w/9H/wf/L/97/CQAZAB4AEADg/8L/u//L//b/CQAlACAAAQDt/9j/0v/J/8n/y//P/+D/6f/y//f/6v/k/83/0v/a/+H/8//0//r/7P/f/+D/4//q/+3/8f/r/+P/1v/e/+j/7v/x//L/4P/f/9H/1//Q/97/7//7/xYAFAD1/9r/t/+s/7f/zf/0//v/CgAEAO//4v/W/9D/xv/F/9j/3//v//P//f8EAOH/1f/A/8D/x//W//T/+v/8//L/3v/a/+X/5//f/9j/y//H/9X/4v8DAAwA///w/9T/zv/Q/9T/1P/W/9n/2P/a/+L/6P/0//n/8v/e/83/vf/B/9z/5P/+//b/6f/d/9T/1f/S/9z/4f/h/+f/7f/l/+X/2//U/8z/0v/d/+X/5f/j/9v/3//j/+T/5//q/+L/5v/q/+r/3//U/7z/u//O/+b/BwAEAOz/0/+y/7H/0f/c/+n/5f/d/9v/z//X/+v/8v/1//X/6f/n/9z/3f/Z/9j/1P/S/8j/zP/g/+z/6f/j/87/yv/P/9z/+v8BAPr/7v/Z/9H/3P/k/+X/6//w/+7/5f/h/9j/1f/P/9b/2//h/+f/5//o/+H/5f/o/+v/6v/k/+D/5P/o/+P/5P/f/97/1v/a/+D/4//v//P/7P/h/8z/zP/c/+T/9v/2/+j/2P/H/8//3//v//j/+P/o/+H/3P/Z/97/4v/b/9P/yf/K/+b/+P8QABAA8//Z/8D/v//X/+n/+P/2/+//5f/J/8D/u/++/8b/0//s//T/9//6//f/8f/Y/9P/1P/T/+T/4f/r/+j/6v/k/9P/zf/I/8X/0f/P/8z/1//Y/9//6f/u//r/+//z/+T/0v/X/+T/7f/3//D/0v/I/7b/uv/J/9D/zf/H/9P/1f/h/+T/6//k/9f/1f/S/9n/7v/6//z/7f/I/7r/tf/L/+b/8//0/+7/2P/M/8H/v/+9/8H/3P/k/+H/4//u//H/4P/U/8z/y//R/+X/+v/3//f/7//V/87/yf/K/9P/2v/h/+L/2P/P/9b/1v/i/+L/4//h/+f/8f/8//j/6f/n/+H/5//u/+7/4P/W/8P/xP/R/9f/6//p/+z/7f/i/9z/3f/b/8n/yf/N/8v/3v/k/+z/6//V/9H/1P/X/+H/6P/v/+P/zf/O/9f/3v/j/+f/3f/e/87/yf/D/73/x//W//X/+//1/+z/2P/I/8L/v//Z/+P/7//y//H/7f/b/9z/0//N/7v/u/+//8X/4f/w//X/5//V/9L/xP/I/9r/4//j/9v/1v/X/+H/4P/b/83/u/+8/8n/2f/m/+n/2v/N/8//0P/f/+L/5P/d/9f/3P/o/+b/4P/Z/8//yP+//8n/4//x//j/8v/N/77/wP/E/9j/3//r/+v/7f/1/+j/3f/R/8T/wf/F/9//5//p/+b/6P/i/9D/zv/O/9D/1//e/9//3//U/9T/1f/Z/9j/2f/Q/9D/zv/V/9//5P/q/+f/1//Q/8f/yv/n//D/8P/r/9D/yP+9/8T/1f/g/+D/4P/Y/9X/zv/N/9L/0P/I/87/0P/a/+j/6v/s/+P/xv/C/7z/zP/o/+3/7f/g/8r/yf/H/9H/2f/b/9b/1P/J/83/y//E/83/1P/m/+r/6v/h/8D/tf+v/7r/0v/i//v/CADx/9z/r/+o/7P/yv/s//H/6//i/87/zf/P/8z/zf/O/9j/1v/c/9P/zv/H/8j/1P/i/+r/1f/J/7r/vP/P/9j/6P/y//D/7f/i/9X/vP+s/7H/vf/f/+n/8f/p/9D/wv/A/8D/zv/Q/9n/5f/p/+v/2P/W/87/0//b/9n/2//b/9X/1f/N/8f/yv/I/9//3//h/9v/wf+4/7P/uP/R/9//5v/o/+D/5P/V/9//3f/a/8X/vv/B/8D/1f/Z/+D/3//V/9f/zv/B/7j/vv/G/83/3P/l/+//+P/0//D/zv/A/6z/rv/L/+D/+f/6//f/5P/I/7D/m/+Z/7b/yP/i/+b/5f/s/+7/8f/n/9v/w/+z/7n/xP/o//z/BgAEAN//y/+o/6X/r/+5/9f/3P/e/9z/3f/e/9n/1P+9/7n/u/+//93/5//u/+7/3f/W/8f/yP/S/9T/zv/H/7n/uP/I/9v/5//n/87/wv+s/67/tv/G/97/7P/i/9v/1v/T/9j/2f/T/8n/yv/N/9T/2v/R/8z/yf/M/9f/2P/d/9j/wf+5/6//rv++/8//5v/y/+r/2v/D/7r/u/+9/8v/z//O/9f/4f/l/+T/2v/H/8L/t/+4/7v/x//j/+3/8f/z/+f/3f/H/8b/v/+0/8P/x//j/+v/+//p/87/wP+4/7P/wv/A/8v/zf/c/97/5//n/9n/yv+4/7b/w//M/9T/0//Z/9z/7//1/+H/2P/F/8L/zP/M/9f/1P/R/9X/2f/d/9P/0v/F/77/xP/M/9X/3//k/+z/4v/a/7z/tP+//87/3//f/+n/4f/M/8z/zP/N/9L/0f/W/9j/1v/a/9X/yf/G/8n/xv/K/93/4P/k/9n/zP/G/7//xv/Z/9v/2//h/+T/4v/h/97/zv/H/9P/0//k/+3/7//j/9D/wv+4/7X/vf/J/9//6v/f/+L/0v/Q/8v/1f/T/9T/y//N/+T/6f/8//L/4P/U/8X/x//e/+j/8f/r/+z/4f/d/9j/0P/Q/8//zv/W/9z/4P/p/+3/5//W/8v/xf/J/+P/7//8//b/3//R/87/yP/M/9j/4P/h/9z/4P/h/+L/1//b/9b/1v/g/+P/6P/o/+H/3v/b/9//1P/W/9r/3v/m/9//0v/V/+X/7v/u/+b/zP/I/9P/4f/3//v/7//j/9z/2//b/97/6v/w//r/8f/Z/8//zf/N/+H/6P/0/+//2//W/8X/zf/c/+r/9//9//r/7//e/9f/1f/e/+f/8v/+/wQABQD8/9//zf/D/8T/zf/U/+T/6v/w/+3/2v/N/73/vf/F/9b/7//3//3/BAAAAOf/wv+8/73/y//z//v/DAAOAAIA8f/T/8T/wv+//9P/2f/h/9//5v/m/+T/6v/e/9j/vv+9/8X/z//w/wAABQD4/+L/z//K/8n/0P/U/9v/4f/3//n/7v/g/9r/2v/Y/9n/1P/M/9L/2f/f/+D/4f/c/+T/5P/d/9T/z//J/93/4v/r/+//3P/a/9P/3v/n/+//5v/k/9L/x//R/87/2v/Y/9X/3P/k/+f/3P/Y/9P/1P/Y/9H/zP/Q/+D/8f////j/2//S/8v/zv/h/+j/6P/q/+r/5//d/9j/yv/O/+D/6v/q/+D/yf/H/8D/z//p//j//P/1/9T/yv+z/7T/zf/e//H/+//0/+r/0v/O/8f/vf/D/87/1f/Y/+D/3//f/+b/5P/Z/9P/1f/n/+z/8v/r/9z/0f/L/8v/2//Z/+H/3v/S/8v/yP/N/9//4//a/9L/zf/N/9z/3f/i/+b/3f/h/+f/7f/q/+r/0P/J/8j/y//b/+b/7P/g/83/xv/J/9f/7f/6//n/7P/O/8r/wv/R/+n/8v/1/+n/2v/R/83/2//m/+z/6P/i/9H/0f/Z/+D/7P/v/+v/3/++/7b/zP/Y//P//f/z/+f/zf/H/6X/pf/E/93/BAAJAP7/8P/L/7z/wv/K/9j/4P/3//f/7//w/9n/1//F/8T/yf/a/+7/8v/1/+j/1v/P/9P/2P/d/9f/1//T/9D/zv/i/+j/+P/2/+L/0v+s/63/y//d/wUAAwDn/9T/x//I/9r/4v/r/+j/5//j/+f/4v/s/+7/5//e/8n/xv/R/97/7v/u/+L/0v/S/9f/7f/x//L/6//W/8j/w//G/+7/8/8IAAUA9//n/8P/u/+3/7z/5//x/xQAFwAAAOX/xP+//8z/2f/q//P//f/2/+f/3v/b/9//3//j/8v/yf/N/9z/8P/6/+f/3//K/8j/1f/d//T/9//2/+v/3v/Y/9r/5P/n/+X/4P/r/+v/9//r/+T/z//E/8T/yv/s//T//P/y/97/z//F/8f/4//z//T/9f/i/+D/7P/1//b/7f/Z/87/u/++/83/1v/0//3/+P/s/8X/uv/C/8//7P/1/+z/1f/J/8r/1//f/93/3v/K/8r/z//d/+D/3v/a/87/zv/S/+f/7v/0/+7/1P/W/9X/0f/j/+f/7//v/9n/z//V/9P/0v/Y/9n/1f/L/9D/1//k/+T/6P/f/+H/5v/q/+//6v/Q/8j/zf/O/9T/4f/x//j/6v/h/9T/zP+9/8H/1v/m/wgAEgACAOv/vf+2/7f/yf/v//X/9v/0/9r/0P/I/9D/4P/o/+z/5f/d/9n/6P/y//H/7P/Z/9X/1f/d/+X/6v/k/+D/4P/e/9D/0//K/9P/6P/t//P/+f/v/+P/1//P/8f/zv/v//n/BwAHAPn/5v/T/9H/yP/I/8f/zv/a/+n/7//v/+j/3P/V/8v/2P/g/+P/5v/l/+T/3f/d/+j/7P/k/+T/3P/Y/9T/1f/l/+b/6//k/9j/0P/W/9f/3v/h/9f/2P/h/+D/3//h/+z/7v/s/+3/1//W/8r/1//g/+X/2v/V/+n/8f/9//L/0//G/7f/wP/l/+7/AwACAO7/4f/T/9D/z//Z/+P/7v/4//r/9P/m/9b/0v/H/8H/zP/V/+f/+P8BAPL/2v/P/8L/z//k/+z/+P/4//D/7f/n/+T/3P/c/+H/7P/w/+r/2v/Q/8D/x//e/+j/6f/n/+D/1//E/8P/3v/o////AgD9//b/3//a/9H/1v/X/9b/8//9/wgACADn/9n/sv+t/7b/xP/k//H/AAD//+//4v/Z/9r/6P/7/wkABgDq/9T/yf/S/+3/9v/4//P/4f/W/87/0//Y/9b/3P/o//r///8CAAAA2v/L/77/x//q//7/HAASAPj/4v/G/8b/0//Z/+n/7v/h/9b/0//e//D/9//4//f/7f/l/+n/7f/i/97/4//t////AgDw/9//uv+4/8n/3/8NABEADQD//9X/w/+v/7v/1v/r////BwADAP///P/0/9L/wf+9/8v/9P8RAC4ALQD7/9r/tf+u/8//3v8FAAAA4//f/+j/+v/8//T/xP+w/6z/uv/s/wMAIwAdAAcA9//S/8r/1P/Y/+j/7P/t//P/9v/8//T/4f+6/67/sP/A//P/BQAGAAAA7f/g/8n/0v/l//H//v8BAAAA9P/2/+7/7//n/+v/6//f/97/5//m/+T/6P/r/+7/6//r/+L/3f/a/+D/7//2/wkACADu/+T/1P/c/+r/8f/2/+//7f/s/+v/6v/m/+f/0v/P/9L/3v/3/wsAFgAKAOT/1v/E/9H/+v8HAAsA/f/i/+H/5f/s/+7/5v/Q/8T/yv/W//v/CQAGAPb/6P/e/+H/6v/9//z/8//m/9P/2v/t//3/DgAEAOf/zv+0/7v/5v/6/w4ADAD0/+j/4P/c/9//4v/n/+j/+P8BAAsABADv/+T/2P/e/+j/8P/6//H/5v/h/9j/2P/o//P/+P/2/+f/3//V/9X/7P/y/wMA+//w/+z/2//d/93/3f/h/+X/6v/u//j/9P/k/+H/3f/j/+v/9f////b/5v/e/+H/6f8IABEABAD4/87/xv/L/9v/+P8FAAYABQD4//P/9P/p/9T/0v/U/97//v8LAB0ADwD5/+j/zv/O/93/5f/n//L/7f/3//H/8v/n/+D/6//s//P/8f/1//r/BAAAAAEA+v/u/+7/7v/u/+z/6//2/wUACAANAOX/3P/Y/97/+f8JABMADgD9//b/6f/n//P/+P8BAP3/CAAHAPn/7P/U/8//1P/l/wQADgAZABEA+f/o/97/1//h//j/FgAYAAYA9v/N/8P/1f/p/wAAAgD+//z/9P/t//X/9v/5//T/8//0/wAAEQARABwAFQD+/9//1v/W/9r/8P/+//7//P/o/+P/0P/R/9z/5v/s//r/BwAOAAwADAABAPf/5f/a/93/4v/+/wwACwALAPD/3v/Y/9X/5v/i/+L/5//0//j//P/1/+v/6//n/+r/8//v//H/8P/x/+v/5//p//3/AQAHAAIA8f/h/93/6f/5/wEAAQAAAPf////y//f/7P/m/+n/8f/3//z/9v/v/+v/5v/m/+7/6f/w/+n/6P/u//H/EQASAAwA/P/l/+D/5//v//P/9P/j/9n/2P/d/+z/9/8DAAMA/P/1/+7/8/8DAAEA+P/s/+L/4//z//7/BgACAPf/6//b/9b/2//X/+X/4v/u//X/BwAGAAIA+//l/9n/2P/f//v/DAALAAkA9f/o/9L/0//R/9H/0//S/9b/4P8FABgAGgAFAN7/0f/U/93/AgAMAA0AAwDw/+7/9P/z/+j/3//Q/9D/1P/e//r/BQALAAMA6P/X/9H/1v/r//3/GAASAAsAAwDz/+n/1v/T/9b/3P/1/wEAEgANAPj/5//L/8X/zv/e//T/AQAPABEA+P/0/+X/4//o//H/7f/w//j/+f8EAAMA8P/h/+T/8P8HABEACAD0/9r/1v/d/+z/CAATAAcA+P/d/9X/3v/m/wQAAQD6/+//8f/t//r/8f/l/9z/2v/m//T//P/9//T/4P/Z/+b/+f8XAB8ADAD5/9D/xf/b//D/EQAUAAgAAwAAAP7//P/2/+j/3v/i/+P//f8LABMAEAD7//L/3P/i//j/BwAQABAA8P/l/+r//f8UAB4AHQAUAP3/9v/n/+b/9P/3//n/9P/q/+P/7P/v//T/9v/o//L/9////xEAFQAQAAAA7P/t//7/DgASAA0A9v/m/+T/7/8HAA0ABwD7/+z/6f/n/+f/9v/1//7/AgAAAP//AwAFAAkACAD5////AgAEAAQAAwD1//D/4P/h/+v/9/8GAAkADQAJAPL/6P/o//L/BQASABwAHAAWABAAAAD2/+z/6f/2//b/8//1//3//P8AAP7//P/4//P/9v/+/wcADAANABIADgAFAAMABQAJAAAA+//o/+P/8P/6/wUADwD+//b/+v/8////DAAAAPb/6P/s//f/BQAfACgAHAAVAPD/5//a/9//8/8AAAMADQAHAAUA/f/8//b//f/y//D/8P/1/wkADgAPAAUA7v/o//z/CQAgACEACAD2/+X/5f/+/wcAFAASAPX/8P/f/93/8v/6/xUAHwAVAA0A9//2/+7/8v/z//n/BAACAAoADQAKAAUA9f/1//z///8AAAIA+f/0/+r/5P/s//b/CgATABQACgD1//D/5P/i//r/AAASABcAFAAOAPb/8P/n/+z/AQAHAA8AEwACAPz/9f/w//b/8f/Z/9v/2//m/wQADAASAA0AAgD+//X//v/4/+3/4P/Z//T/BAAgACMAFAAHAOD/0P/Q/9j/9f8CABUAFgAEAPj/6v/v//b/+//+/////f8BAPr//f/0/+z/3v/l//P//P8IAAcAAAD0/+v/6//7/wUAFwAcAAIA9f/s/+z/7f/y//L/9P/6/wEACwAGAAAA+v/s/+7/7v/2//z/CAAGAAUAAAADAAsABQD9//D/6f/l//3/DgAeABEA6P/Z/9//5/8JABkAEAAMAPf/7//u//3/CAAMAP7/9v/j/+j///8JAA4ADQD2/+T/3v/p//z/BgAFAPz/8P/u//7/CwAfACAADAD5/97/5/8DABkAJwAlAAkA+f/v/+j/6v/p/+7/9/8GAAwAFAAKAPb/6v/Z/9f/6f/+/xoAJQAkABsA+//0//j/+P8LABMAEAAHAOf/5P/b/93//P8KABMAFwAHAPn/3P/Z/9//6v/9/wUAEAAMAAoADAAPAAQA8v/y//L//v8cACUALAAaAP3/5v/R/9T/5P/7/xUAGwARAAYA/P/3//j/AgAHAAMABAD/////+/8JAA8AEwAYABIACQD3/+v/1P/a/+7//P8XABsACQABAPH/8v/7//3/CAAPABcAFgAZABUAAADx/9//3v/m/+j//P8BAAIA+/8DAAMAAAAFAAMACwD9//z/6v/v//X/AAATABIAEgAOAAAAAgD5/+z/4f/g/+b/8P8QACMALAAfAPb/5P/W/9j/5//3/xMAHwAcABYA9v/r/+n/7v/1//D/6f/s/xQAIAArACIA/P/v/+b/8P/+/wMA+v/5//////8KAAoAAAD5/+f/5//n//D/BAALAAsABQD+//3/FQAcAB8AFgD5/+X/9f8AACsAMQAXAAAA0v/L/+r/CAAuACkAAgDs/9r/3/8FABsAIAAVAPD/9P/q//b/EQAYAA8ABgABAP3/DAAPAAsA/P/h/9r/6v/+/ywANwAsABkA8v/h/8//1v/3/wEAFgAUABEADwABAPz/6v/a/9n/5/8JAB0AOQAzAAgA8P/O/8f/4v/1/xYAIAAdAAsA/f/u/+r/8P/t/+3/8f8CAAsAEgD8/+n/2f/l/wIAGAAdABYA9v/p/+P/4f/m/+r/5P/k//v/+f8KAA0ACAAAAOX/2v/k//f/GgAhABcABQDQ/8j/0//w/wsAEwD//+7/zv/K//D/BgARAAgA9v/o/+X/7/8TABsAHwATAAYA+P/n/+X/8f/0//7/9//2//n//P/+/wIA+v/o/+X///8MACYAJQAZAAgA9v/z/+z/7v/3//n/AQD/////+f8BAAYABAD3//P/9P/u//D//f8AAA4ADgAYABcADQAIAPj/8v/m/93/3P/o//z/AAAJAAEA/P/3/+3/7v/y//T/AQAKABoAFwADAAQABQAKAAAABAD4//b/+P/5////9//2//D/AgD8/+//8v/3//v/AQAGAAIAAgD3//3/CwAUABMAFQD5/+//2P/V/9//5/8IABMAHQAbAAAA9f/k/9j/1f/f//3/BwAHAAcACAANAAsABwDy/+f/4f/u//P//f8GAAcABgABAO3/4P/k/+D/8v/z//j/+P/8/wEADQANAP3//v/w/+z/6f/r//j/BgAUACEAEgAFAOj/4//r/+7/8v/4/woACAAGAAUAAwD///f/8f/a/9n/4P/2/yEAKwALAPn/5v/j/+//+//2//P/7f/u/wMADgAbABgA/P/r/8f/yP/l/wEAIwAkAA8ABADm/+f/8//6//b/9//v//T//f8LAB8AHAAHAO7/1//T//D/AAAUAA0A7//h/+j/9/8TACAAHAAMAOr/3P/f/+7/BwAUABEADAD+//L///////X/8v/m/+r/CAAPABMADADv//L/7P/t//D/9v/3//r/+P/8/wUACgAZABUABAD3/+r/4//w//X/AQAKAAoACQD2/+//7P/w//v/AQAFAAIABgAIAAsABwD8//n/+v/5/wQABQAGAAsACQAPAAAA/v/z//H/AgADAAMAAAD+//7//P8OAAgACQABAPf/5v/l/+7//P8dACQAGQAKAPn/9v/w//P/9f/3//f/+/8MAAYABgAJAAoABwDz/+7/4v/n//H/8/8DAA4AGAAhABEABQDn/9L/2//i/xAAIQAzAC4ABgDr/93/4//8/wwAEQAQAPn/5//i/+//AwAIAA4ABAD2//r/+f/3/+r/4f/e/+//GAAmADQAKgD//+X/0v/O/+b/7f8EAAYA+//0//H/9P/9//3/9f/q/+H/4P/7/wcAFAASAPr/8P/w//T//P/3//T/7v/k//H/DwAQABAABgDr/+L/2v/i//r/CAAQAAkAAADy/+j/7f/2//X/9//8//f/7v/s/+7/+P/8/wIAAAD5//H/6f/q//L/+v8PABQAFAAMAPD/4//V/93/+/8MACUAIAAAAOf/1P/W//f/AAAMAAEA4//k/+H/7/8FAAwACgD8//T/6f/s//D/+//7/wMAAgAVABAADwD7/9b/x//M/9v/BwASABoACwDq/+T/4f/q/wQADwADAPr/5f/g/+X/7v8LAA8A///6/+r/6P/x//b//P/x/+3/5/8AABMAJwAmAAEA4/+2/7j/0//w/zAAOwAkABcA5P/T/83/z//s//z/DgAWAAwAAQDt/+P/3v/i//D/9/8OAA8AAgD7/+//8v/3/wQA///5/+z/5f/u//z/CwALAAUA/P8BAAUAFgAbAAQA+f/d/9b/6P/6/x0AKAAbAA4A6f/i/+H/8/8YAB4ACwD6/+n/7P8ZACsAPAAwAAkA9v/h/+L/9/8DABoAGwAGAP3/9v/t/+n/6P/q/+3/9/8MACwANgAtACYAAAD7//H/9/8IAAQAAwAIAA4ADwAWABIA/v/v/93/1v/h//L/DgAeAC0AKgAWAAcA6//g/97/8f8RACMALAAmAA8AAgDw/+z/7v/x//b/9//6/wAA+//6/wUABAANAAQA8//t/+3//P8NABQAGAAXABQADQACAAMA7//q/9r/5f/p//X/DAAZABAABADk/9v/3v/u/w8AIgAhABsABgD8//j//f8FAAEA9P/s/+D/6f8IABAABwD4/+v/6P/y////DAALAPz/9v8AAAQAFgAZABkACgDZ/8T/wP/S/woAIAA6AC4A+v/q/9r/3f/r//X/CAAOABgADwARAA4A///0/+z/8v/6/wQAFwAVAA8AEAAHAAcABAAAAPX/+P/x//L/+f/+/wYABAAJAP7/BwADAAAA+f/p/+b/7v/4/xQAJAAvACgAAQDs/9f/0P/n//b/GQAfABYAEAD2//b/BgACAAYAAADk/9z/8P/8/xAAEwACAPb/6f/q/wUADQAeAB8AHAARAP//AQAHAAsADAAMAPf/8//q//D//P8IABAADgAFAAAAAQAKABcAGAAEAP//+v8DABkAIAAaAA8A/f/5//3/CwAVABcACAD4/+X/4f/5/wkAIAAmABUADAD6//X/+f8EAAkAFwAbACIAGAANAPz/7v/i/+f/AgAOABsAEQAHAAEA+f/0//z//v8FAAYACQAMAA8AEAAUAA8ADgAKAAwABQAOAAwACQAQAAAAAgD9////CAAKAAMA9v/o/+7/AgARACAAHAAUAAgABAAFAAcADgAQABMAEQAPABAABQAAAPb/5v/n/+r/9v8PABsAHgAiAAkAAwD6//r/AAAGAAUADAARABUAGQATAAAA9v/w//7/EgAaABwAFQAKAAIA/v/4/+n/7v8KABMAIQAZAA8ACgAFAAMABgD9/wIABgAdAB8AFQD9/+z/7/8OABgAHgAVAAEA//8EAAwACwAPAA0ADgD6//H/9//7/wYAEQAiABsAEQAQAAYA+//k/97/3//t/wkAHAA0ADYAFgAFAOf/3//p/wAAHQAhAAkABADs/+z/8P/z//3///8EAAkAEAAOAAkADgATAAoA/P/v/+3/7f/6//3/BgAIAAsADwACAPX/4//j//r/CwAWABsAFwAUAAwACAAEAAgABAD8//v//v8CAAcAEwAIAPH/3v/W/9r/+v8MACcAMAAeAAsAAAD7//7/9/8LAAYA/v/3/wEADAATAA0A8//o/9b/1v/s/wQAFgAZAAwABgDj/9f/8f8DACoALQAaAAUA8f/l/+//9v/k/97/6v/6/xIAFQALAAAA6//p//r/BgAVABYAEAAOAPr/7//z/wAAEAASABcAEAD+//L/4//l//X/CQAdACAA/v/s/9T/4f8FAB8AKwAgAAEA+P/0//7/BgAEAPT/8v/q/+3/CAARAAYA+f/j/9j/5//3/xQAGwAIAPj/5//f/+7/AAAdACQAHAALAN3/z//T/+D/BAATABsAFwACAAEA8P/4/wYAGQAzADUALgAjAAgA+v/f/+D/4//s/wwAFQAMAAAA6P/m//3/CwAbABIADQAEAA0AEgAWABcAAwACAAQABgARABcACQABAOj/4f/w//v/DgANAAgAAgD0//L/BAARABsAIAAJAAAA/f/9/woAGgAOAAsA9f/0//L/+P8PABgAFQAQAAYA+////wMAEAALAPj/7f/5/wAAKwA0ACYADgDU/8b/3f/1/ykANQAcAAcA4P/g//P/BgAeACAAHQAQAAIABQAdACIAIwASAOv/2v/Q/93/AgAVACIAIwAIAP3/7v/s/+X/6f/z//X/DQAbADQAOAAiABEA6//h/+T/+v8fACYAGQAWAPT/7v/o//H/8//v/wIAAgAUABQAEQAFAPT/9f8JABMAFwARAPr/8v/0//b/AgAQABEADQAAAPX/7P/w//T/AgAJAA0ABwALABAAGAAcABAA8f/k/93/5P/6/wYAHAAaAAoA/P/q/+n/+f8CAAIA/P/j/+T/9v8IAB4AHgAGAPn/4//p//3/BQALAAwA/v/4/+n/6f/2//j/+//z//P/8f/1//v/DAAVAA8ADQD4//b/8//z//v/AQD9//j/9P/6/xMAIAAoABsA9v/g/9D/z//p//j/DAATABYAEwADAP7/8//n/9z/3f/z/wwANQA4ABkABwDi/8v/0//a//v/EgAzADYAIAAIAOf/3//f/+b/9P/1//b/AAD9/wkADwAQAAoADAAAAPT/8P/w//v/BQAMAA4A+//2////BgAZABgACwD//+//8P8FABkAMQAtAA4A+//W/9H/6v/9/xcAGAABAPL/5v/k//X/BAAMAAIA+//4//z/BAAcAB0ACQD9/wIAAQAPABUADAAIAPb/9/8EAA4AFwASAAkA///p/+n//f8NABYAFAACAP7/CgAPAB4AGgANAP7/AgAGABUAHwAcABwA/v/2/+3/7/8IABUAIQAYAA0AAQAGAAgAEwAVAAAA+P/s//H/AwAVACcAJgAYAA8A///4/xAAEAABAPD/4P/n/woAJABBAEEAFAAAAOT/4f/7/woAHAAZABcAEAAPAAwA///4/+D/3v/r/wIALQBFAD4AIgDv/9j/z//o/x8AOQBAADEAEQAFAAQADgAiACcAGgASAAEAAwAOAA8ADgAKABEAEAARABMAFwASAAsAAgD3//j//P8LACQAIwAEAPT/5P/u/xYALwBBADgAGQAEAPL/7v/u/wIAFgAbACIAIwAbABAA///6/wMABgAMABkADwATAAQA/P/7//z/CQAKAA8AEAAGAAkAGAAQABgAEAD+//T/9f/9/wgAEAATAA8ACAAHAAgABQD+//n/+/8BAAoAEwAfABUACAD9/+z/7f/4/wYAKwA5ACoAGgD8/+7/5P/m//X/AQAXACAANwA2ACAADgDw/+f/7f/2/w8AEQAWABIA+P/5/+//7v/5/wMADQAPABMABgD3//H/8f/5/wwAEgAMAA8AEgAWABMADAD4/+r/8P/3/xIAGQAXAA8A///+//3/AwACAAAAAQAEABMAFQATAAwA+f/u/+7/+f8OABsAIQAgABgADQADAAMACAARAAIABQACAAkAGAAiABgACgD0/+n/+P///w4AEwAKAAMA8f/y//j/+P8GAAcABAAFAAgADgAdAB8AEAACAOv/5P/0////FAAUAP3/+v/1//3/GgAgAA0A/f/i/+L/9P8KACMAIgAFAPD/4//u/wQAFAArACYACwD9/+n/6f8AAP7/CAACAPf/+P8NABMAGwAYAAsACQAMAAwADgAKAPz/8v/s//X/DgAhACgAGQDs/+P/2v/h/wcAEAAUAA8ACQACAA4AEQAIAP3/6f/q/w8AKABCAEAAGAD9/9n/0//l//b/BgAGABEAFAAaACAAFgAIAO//6//3//7/FQAgAB4AEwAFAAIADwAUABYAFAD3/+3/4v/t/w8AIgAjABcA+f/z/+P/6/8IAA0AIQAgABoAFQABAAAA+P/4//D/8v8GAAwAIAAfAA0AAwD3//T/+//+/xQAFAAKAAgADAAMABMAEgAZABAADAAJAAQAAgARAAgA9//2//z/AAAHAA0ABwAHAPb/+v/4/wMAFQAgACMAFgD///j/8P/5/xUAHQAZABMA9//s//n/BgAUABIAAgD1/+z/+f8YACAADwD+//D/7f8BABgAKwAqAAsACQD3//P/AAAIAAgABgD+/////v8HABgAGAAIAP3/4v/r/w4AHgAlACEA/v/z//n/BAAiAB8AEgAOAPj/9P/8/wsAHQAXAAkA/v/w//v/EwAdABEACAD4//j/EAAbABsAEADx/+r/5P/u/xUAIAAnAB8ABADw/9r/5/8AAAEABgALAAkACwAMAAoA/v/y/+r/6v8FAA0AFwAWAAQA9v/x//f/CwARAAoAAADn/+D/9v8JACIAIAABAPP/6f/x//3/CwAdAB8AEwAIAAIA//8OAAwA9//r/+z/8/8HABsAGgAKAOv/6f/u/wEAEAATAA0ACwAGAAQACAAIAAsABAAAAP3/BAAFABkAHwAKAPv/3v/Z/+b/6P/3/wQACwAPAAEAAQD0//H/9//+/woAEQAaAB4AGwAYAAkAAgD+//7/AQAAAPn//v/7/wMA///5/+//6f/p//L/AQAMABYAHQAgABEAAgACAPL/+P8BAAUABgAJABkAGgAEAPn/5v/k//P/AgARABUAFgATAAoABwABAP3/AQAFAAAAAAAEAA4ADgAQAAUA///t//P/9//1/+3/7v/+/wEADwATABkAFQD+//L/7v/o/wAAEQArACMACQD9//T/AgAKABIACQABAPn/BAAVACAAFgALAO//5v/g/+f/EgAhAC8AJAAPAP//8P/2//3////x/+3/9/8EABwAHgAWAAcA5v/k//v/DQAdACkAHQAVAAEA+//9//r/9P/u//n/BAAbAB0AEQADAOn/5f/t//j/DAAUABwAGAD///n/+/8FABYAFQAEAPr/4v/l//j/+/8HAAYAAAAEAAEAAwAFAAwABQABAAEABgAaACQAHgABAND/yf/V/+z/HgAqABIAAADi/+L/6v/4/wwAEgADAPv/7//y/w4AGQAiABAA+f/x//H/9P8BAAQAAgACAAAA/f/+/wAA///9//n/9f/4/wUAJAAmABgA///b/9r/8f8DABwAGgAMAAcA+f/4//b/+P/9//3/8//0//f/AAAdAB8AEgD//9//3f/2/wYAGgAfABkADgDv/+3/9//6//3/AQD5//H/+P8AAAoACgAHAP3/7f/u/wQAEgAYABcAAwD9/+//9P8LABEAHwAXAAAA+f/y//j/+v8EAAwACwAOAAwAEwADAPT/8//4//f///8CAA8ACwAEAPz/9f/3/xYAJwAoAB8A8P/j/+///v8XACEAIwANAPD/7v/y//v/DQASABMAEgAIAAoABAABAPL/8P/z//L///8MAB0AIQAWAA0A9P/x/+n/8f8JABEAHgAcABcACAD///z/9P/0////CQAVABcAFwASAAIA9//p/+//+/8DABYAHAAXAA4AAAD7//j/+f/7//v/CAADABMAEAAFAP//CQAOABMAEQAVABAABQAFAAoAAwAJAAUADwASABYAEQAGAAQABwAIAA8AFwAMAP3/7//u/wQADgAsADEAHAAHAOr/5//z/wMAKAAxADYAJgAEAPf/6P/r/+3/9P8JABYAKgA1AB0ABgDn/+X/7P/+/xsAJwAlABsACwADAAcABQAVABYAFQARAPr/9f/2////CAALAAwADgAGABMAIQAlAB0AEQD4//T/DAAiADQAKgASAPv/7P/1/w0AFgAYAAkA+P/5/wUADwAUAAsAAAD3/+f/7P8EABYAMQA7ABkABgDq/+v/+f8HACAAJAAdAA4A+v/v/+r/7f/7//3/CAALAA4AGAAXABIA///0/+f/7f8KAB0AHQATAAAA+f/1/wIAFAAdABcACwDv/+f/8v/7/yMAKAAnACAADwAFAPv/+v/5//v/BAANAA0ADgAVABQAAgD3/+3/6/8BABIAGQAZAP3/8//5/w8ALwA9ACMABQDg/9X/5v/6/x8ALAAaABEA/P/t/+n/7//8/wYADwAVAB8AIAAqACAADwADAPH/7////wYADwARAAgAAADx//j/CwAXAA8ACQD1//X/AQAMACQAJgAaABQAAQAFABcAHQAUAA4ACwD///v//v8HAAIA7v/p/+T/7v8LAB4AKgAhABIAAwAAAAcAHwAhABwAEAD1//D/BQAQAB4AIQAKAP//7v/t/wMABwAQABMAEgAJAAsAEwAUABEAEgATAA8AGQAoAC4AIAANAOn/4P/h//H/EwAcABwAFgD+//f/8P/2/wwAEAAmACoAHQAgABsAFAAIAAkABQAIABcAIQAeAB0A9f/j/9f/3f/6/xAAJgAnABMABQD9/wYAFgAhACUAIAD9//D/8P/9/w0AEAAPAAYA+v/9/w0AEQANAAcA7f/p//7/GAA8AEYAIwAMANv/1v/u/wYAMQA+ABwACADu/+7/8v/5//7/9P/p/+r/CgAeAC8AMgASAAIA6//n//v/BgALAAQACAAJAAsACQAGAAcA8f/y//b//v8OABoAJAAZAP//7//m//X/HAAjAB8ACwDt/+j/8f/2/wcACAACAPv/+P8CAA4AFgATAA8ACAADAA0AEgAiACYAGAAHAOT/3//l/+//CwAWABwAFwAGAPr/+////xUAFwAOAAgABQAJAA8ADQAXABUACQAJAAQAAwADAPr/7v/s/+3/8/8NABEAFAAPAPH/8//8/w0AIgAkABcA/v/m/+D/9f8IABcAHwATAAIA7P/m//j/AwAaABsACAD2/+b/4//2/wQAFgAaABsAEgACAAEAAwAHAAIA/f/q/+T/8//4/wcA/f/z/+b/7f/4/xMAHwApACEADAAFAPH/8P/x//L/+f/8//v//P/7//3/+P/z//H/6//w//z/DwARAAQA/f/4//X/BgAXAB8AIQADAPP/3P/g//7/CgAOAAUA8P/p//j///8PAAoA///6/+7/8f8UACEAJwAkAAQA6v/O/9j/+/8GACIAGwAPAAQA//////n/8v/t//D/7//+/xYAGwAcABgA+v/x//7/CwAHAAUA9v/n/+T/8/8WACQAHAARAPH/5//k//P/EQAdACQAIgAPAAIA+v/6//n/9f/t/+//BQAUAB0AHQAFAPn/5//n/+3///8MAAsACAAMAP3///8IAAgAAQABAPn/7f/y//T/+P/6//z//f8YAB8AGgASAPH/3f/T/9f/9v8DABgAFwD9//H/5f/u//r///8DAPn//f8GACoAKwAmAAsA2P/H/9P/4f8RACgAKQAbAN//0P/M/+H/CAAUABcACQD3//P/BQAQAAgABQD/////BQAJAAgA///k/9T/0//e//3/DwAmABYA8v/i/9z/5//9/wsAHAAWAAwADAANAAUA+f/1/+n/6f/p//j/EwAdABMAAgDi/93/6f/6/wAA/v/v//D//f8OACQAJwAUAAgA5v/c/+D/5/8FABMAHQAXAP//+P/5//b/7//t//z/BQAHAAUACwALAA4ACgD6//j/+f/9/woADgAGAPv/8P/0/wIACwAJAAcA9v/r////DgAfACgAKgAiAAQA8f/m/+r/AwANAPv/7//c/93/9f8CAA8ACAD9//H/9P/9/xQAHgAZAAUA+f/4/woAGwArACYA9v/p/9X/3f/v//b/AwD9/+3/7P/y/wkAHgAiAAcA+//8/wcAMQA/ADwAJgDo/8n/q/+8/+H/9f8LABQAEQASAPr/9P/r/+f/4v/g/wUADQApADMAJwAVAPX/4//q//D//f/+/wAAAgADAAMABQALAAYA+f/l/+f/4f/p//X/CAAbACAAIgAZAPb/5f/H/83/4//y/xAAGwAbABMA/v/3/+f/6P/n/+v//v8DAA4ADQABAPj/8f/y//P//P8FAAkA+v/0/9v/2//v//j/FgATAAQA+//w//H/9f8BABEADAABAP3/+f/6//3//P/s/+j/3//n/wQACQAJAAAA8f/j/+T/7/8BAA0AEAAGAAEA+f8MABQAFwANAOv/2//X/9z/+v/8/wEA///y//L/8P/2//v/AgAMAA4ADwAMABEABgD0/+//2//h//D/+P8GAP//9P/0//D//v8JAAAA9f/p/9r/3v/0/woAHgAdABkADQDw/+z/9/8CAPX/7f/i/+b/9/8FABgAGgAHAAAA7f/s//j/AAALAAsABgABAAQADAAYABQAAwDs/9b/3P/t//7/FQAQAAsAEAAHAAkAAgDy/9j/1//s/wAAMQBDAEYAMQD1/93/y//b//T/AwAMAAkACwANAAwADQAIAAkA/v/3/+j/5//t//H/DAATABUAFwAVABMA/P/r/9n/z//k////IwAvADMAMQAKAPb/2//a/+H/6v8FABUAKQAvACQAGgDx/9r/xf/I/+L/7/8QAB4AHQAYAAsABQD5//z/AgAIAAEA+v/0//n//v8HABUAGwAbABcABQD7/+T/4P/z/wEAHgAgAAwAAADy/+7/8//7//3/AwAEAAoABAD3//T/9f/8/wEABQADAAEAAwAEAAgADwAUAAwAEAANAAcA/v/6/+f/6P/t//j/DAAQABcAFQANAAAA7v/s//j/9/8HAAkAGwAWAA4ACQDz//H/8P/2/wwAHQApACEACgAAAOb/6f/0/wAAFQAYABkADwAFAAMA+v/9//P/9f/s//X/BwAYACcAIAAUAAQA7//w/wEAEAAoACkADQD+/+n/5v/0//n/DQASABMACwAEAPv/7f/o/+f/8v8HABgAIQAdAAMA9P/i/+b/9f8CABcAGQAPAAUA+P/3//v///8OABAACgADAAQAAQD9//3/BAARABkAFwAIAPn/1//W/93/5//+/xEANgA2ACYAEADn/+D/4f/p/w4AGgAcAB4AFwAYAAwABQADAPz//v8FAAIABwAFAAgACQAPABYAGQADAAAA6P/s/wQAEQAlACkAHwAPAOv/5f/g/+v//v8CAA0AEQAhACcALQAmABAAAADs//P///8SACAAKQAfAA8A9P/n/+j/7/8LABQAEQAJAPv/8//6/wIABgAKAA0AEAAoADEAJgApAA8A///w//D//v8HAAcABAD5//j/+P8BAAUAAQD7//P/+f/+/woAEgAcABoACwD+//b/+v8HAA0AHQAdABYADAATAA4A/f/1/+7/6P/w//z/BwARABIAFAATABQAAgD5//X/8f8AAAQAFgARABAAAgD7//j/8f/s/wkADgAWABYACgAKAPf//f/7/wQA/v/6/xIAFwAYABwAEgATAP3/+f8FAAMAAwD9/+//8P/4/wEAGAAiAB0AEAAAAPj/7f/u/wEADAATABoAFwANAP//+P/2////9P/y/wQAEgAnACoAEwD//+X/3//r//v/FwAgACcAKAAXAAcA/v/6//j/+//s/+r/8//9/x8ALQAoAB4A+v/1//T/7P8BAAYAFwAYABoAHQAJAAIA7//x//v/BwAZABoAGgARAAkABgDz/+r/6v/q/wIADgAmACMAGQASAAkABQAFAPz/AgAAAAsABQAFAAMADQAGAP//BgD///n/BwAVAB4AGgAMAAYA9////xYAHAAdABAABAD8//v//P8SABAABgAFAPT/8P8CAAYABgALABIACAAOABAAHgAfAB4AGQAHAAIA/v8GABMAEgARAA8ABwAFAPz/9//w//L/+f8JAB4AJgAhABAA+P/t//3/CgAvADkAOAAqAA8A+f/s//P/AAAJAAwABQADAAcAFQAaAB0ADwD0/+r/9/8FACgAOAAvABgA8f/r//r/FgAbABcAAQDy/+b/7P8LABwAGwATAPr/+P/4/wAAFwAjACAAGQAQAAoACwAHAPn/7//Y/9j/9P8TADIAMgANAO//vv/B/+3/EABDAEYAFQD5/9v/2//v//7/GQAYABAACwAEAAIA/P/3/+v/5//p//P//f8FABIAEQALAAsAFAAYABgAFAACAPr/8f/3//3/AgADAAAAAwAJAAQA/v/v//L/7f/8/xEAGgAYABcABwD5/wMAAwAQABUAEwAMAP//+f8FAAwAEAALAPz/9v/o/+n//f8DABEAEQAMAAgAEgAaACkAKQAJAO7/yP/E/+z/DwAzADQABgDy/9z/5v/4/wYAEgAUAAQAAQAEAA8AIAAjABAAAwDn/9r/5//5/xwAIQAaAAQA4P/Q/9//9f8UACQAHgAXAP7/+P8CAAsAGAAXABMAEwACAPv/7v/p//j/+/8HAAcABQD///r/+v/k/+n/6P/2/xsAKQA/ADYAFwAAAOv/4v/m//T/DgAZABcAFgADAPD/3//e/+f/8f/8/wkAIgAoACwAJAASAAIA4//f/+z//P8ZACQAFgAOAAIA+f/0//v/8//0//T/9/8LABcAGwAbABoAEQAKAAcA///8/wUABgABAAYABgAOABQAHgARAAsA8f/s/+z///8nADQAOwA0AAUA8P/k/+//CAAYACEAGQAJAAcAAgAFAAQACAAOABEAGQAbABoAFQAEAAAACwAOACMALAAmABcA/f/u/9//6P8FABoAMAAuAAwAAwDu/+r/9v8AABgAJAAqACgAFAAKAPz/+/8CAAQAEwAdAC8AJwAKAPf/3v/q/xIAJAA7ADIABwD1/+z/7v8RACQAMQArABkADQAKAA4AFQANAPD/7P/9/xYAPwBGADUAGgDk/9T/5P/8/ygAPQA/ADUAEgD+/wQAEgAjACQADgAAAOv/+P8VACIAMAAfAP7/+P/0/wIAEQAWABUAEwAPABUAIgAjABwADgD4/+3/7//6/w4AGAAoACQAGwAYAA4ABgD6//H/5f/p/wcAGgBAAEQANgAWAO//3f/9/wwAJAAaAAcA+v/4/wAAFwAkABgAEADu/+P/6f///xoAJQAqACQADAD+/wQACwARAAoA+P/5/wEADQAmAC0AHwAPAPT/7v/1//j/EwASAAkAAwAGAA8AIAAoACYAFQD+//z/AAAFAA8ADwALAAkAFgAhACMAGwAUAAUA8//r/+3/9/8TABoAHAAXAAgAAQDz//f/AAAKABEADgAQAA8AEAAQABMADAD5//L/AQAFAAwAGgAgAB4AEAAKAPL/6v/g/+n/BQAUACgAKAAaABYAAwD9/wIACAAbACkALgAlABMACQD4//b///8DAA4ADwAXABwAJwAmAA8ACAD0//P//P/6/wkACwAWAB8AMgA4ADkALgADAOv/0v/T/+3/AgA2ADoAOwAlAPr/6P/x//z/FgAgAC4ANQAkABkAGQAYAAMAAgD4//r/DQAbACsALgAhABAA9v/1//7/EAAkACMACAD8//f/CAAtAEAATABAABoAAgD8/wEADwAUABMACwACAPv/BQAJAAcABAARAAwABQAIAAoABgAGAAgAFQAWACAAHgAdAB4ABQD9//7/AAASABcAFgAXAAgA/v8AAPv/8v/y//r/AAAZACEAJAAbAAcA/v/8//v/AgAFAAsABgATABkAHgAfABgAEAD1//P/6v/l//H/+/8IAAEADAAGAPj/9v/5////CQASABwAIAAUAAoA/f/6/wwAGwAUAAsA7//j/9v/5v8TAB0AEAAKAPH/7f/3/wMAEgANAA4AGAAcAB4AFwAQAO//6f/w//f/CgATABoAGQAQAAIA+P/x/wEAEAAcABsACwD6/9//6P/3/wAAFQAdABIAEgAEAAcACAAGAP/////+/wYAEgAVABMADQDz/+b/+f8DACwALwAgAAcA5f/c/+v/+P8WABoADwD//+b/6f/5/w8AIQAmABwAEQAPAAYA/f/z/+r/8f8HABgAMQA1ACEAEADz/+n/5v/1/xIAIAAhABIA9f/v//r/AgAcABoADAAFAAIADQAQABUABQD9/+//6v8DABAAGAAXABQAEQAXABsAKwAkAAkA+P/o//D/DQAjACwAHQABAO3/3//j//T/AwAUABMAFgAXABUAEAAGAP7/6v/q//f/BwAvAEEAMQAkAP//8f/u//P//v///wUACAAEAAUAEQAbACIAHgAOAAAA4v/r/wAADQAdAB4AFQAMAAwADQAWAAoACgAFAPn/9//7/wAAEQAbACEAFwAMAAYA6//m/+//+/8HABIAIQAjABQACwD///f/8f/2//7/AQAcACwANAAwAP//7P/R/9b/8f8DACAAJwAeABEACAACAP//+/8MAAwAEAALAA0ADgAJAAMAAAACAPP//v8HABIAFQAPAAMA+P/5//L/6//x/wQABgATABsAIAAdAB0AGAD///b/6//t/wEAEgAlACEA9P/s/+T/4//z//j/CgAOACIAJQAYAA8A+f/t/+z/6//9/wMAGAAkACQAHADz//D/6P/l/+f/7v/7/woAHwAeAAoA/f/w//r/CwAWABwAFgAHAPn/7f/p/+L/4v/o/+//AwAPABgAFQAJAAAA9////woACgADAAEAAQAGAAgACAACAP//BgAFAAEA+P/v/+3/8////wAABwAPABsAHAAZAA0A///2//7/GwAhAB0AGQD+/+//3v/c/+r/+f8TABsAHgASAP//+f8DAA0AIQAdAA8AAwD6//n//P///wMADQAVABQADQACAO3/5f/a/+T/+v8EAB4AIwAnAB4ADwALAPz/+f8AAA0AEwAWAA8AAQD0//H/7v/v//b//f8GAAoAGQAWAAYAAAD9/wAAAwAJABMAFgAKAAUA/v8EABEAFgAbABMA9v/k/+L/7/8OABUAEQAPAPj//P8CAAoAEgATABQACwABAPf///8CABMAHgAPAAgA8P/y//3/BAAQABIADQACAPL/7v/y//z/BgAQAAkABwAJAAYADAAKABMAEgABAPr/5f/g/+3/9P8OABQADwAFAAEA/P///wAA+P/y/wMABAADAP//AQD8/wAABgATABcAFwAaABIACAD3//L/9//9/wcADAAAAPz/+v8CABQADwAEAAAA9//5//n/BQAiACYAIgAWAPn/8//3////EgAYABgAHQAJAAIA8P/k/9n/4f/y//n/GQAgADUALAAVAAcA6//7/wsAGAAUAA4A7//o//D/9/8LABAAHwAbABEACQD+//z/8P/3/wMACQASABkAEgANAPf/9v8BAAUAGQAjACAAGwACAO3/5v/m/wUADgAsACkAIgAVAAoADgAUABwAFAAVAA4ADQAAAPv/+v///xMAEwAXABsAGQAbABoACQABAPv//v8JABcAGgAcABgADAAOABIAEwASAAgABgAAAAsAEQAXABIAAgD2//T//P8cACYAJgAZABIACwAFAAMA//8AAP3/+/8BAAAABwAKABkAHQAdABEABgAAAAYAAwAPABIADgAMABIACQASABkAIgAdABEADQABAAAADAAOAAsAAQAFAAgADwAVABkAHgAkAB0AGQAQAAIAAgD8//7/CgAMAA8ADgALAAcABwAIABIAEgAIAAcA/P/4/wkAFgAgABwAIAAeAB4AEgD///3/AgALACYALAAjABgA/f/z//D/+v8EAAYAEwAXACMAIwApACMAEQAFAOj/6f8FABgALQAuACMAHwAPAAoA/v/9//7/AgAIAAsAEQAXABwAGwAeABsAFQAXABoAFgAQABQAEgAXABUAFwAKAAAA/P/+/wEACQAPAA8AEgAWAAUA/v/5/wIAFwAcABsAEgAFAAoAJwAqACcAIAARAAcAAwASABwAHwAbAAwA7P/n//H/BQArAD0ANgAjAP3//P/2//n/9//x/wAADAAlAC0AKAAhABEAAwAAAAQAAgAMAB4AFgAQABUAHQAgABkADQD9/+//8f/4/x0AKwA0ACkABADu/97/5v8LAB8ANAA2ACQAHgAXAB0AEwAIAPr/+f8EAA4AFwAVABQAEgATAAoADAAUABIACwAEAPz/AAAOACYAKAAbAA0A/f/4/wMAFAAuAC8ALAArAAsABAD8//j//f/+//7/AAASABUAJAAdAAcA/v/8/wMAGAAjAB4AGwAOAAcADwAUACMAKAAkACEABQD4/97/4P/0/wAAGgAlAC4AKAAfABcA+f/x//j/BwAmADQAOwAqAAgAAQDt/+n/7//1//r/AwASACIALAAvABkADQDw/+f/6P/u/wAADQAkACwAMwAnABQAEAD///f/9f/5/xEAGwArACkADAD9//j/AAAKAAsAEgAVAA8ADwAYAB0AHQAYABUAEgAEAAwAGQAjACYAJQAMAAYA+v8BAA4AFAAPAAsA/P8AAAgACwApADAANgAzACEAGQAGAPr/+f/3/wMACAAhACgAJQAgAAsABwD9////+/8EABwAKQAqACkAIAAcAAsABAD5//P///8ZADsAPgAiABUA9v/w/wsAEQAhABsADgAGAAgAEAAiACoAOQAyABcABADx//b/CAAWACoAKQAkAB8AJgAaABQABQD2/+//9f8JACUAKAAYAAgA9P/z/wMAFAAeAB0AEwAGAAkAEwAdACMAHQATAPn/8f/2////DwARABcADwABAAQAGQAdABcADQD2//n/AgAKABoAIQAfABgAGwAbAAoABAACAAQA+P/z////DAAZACIAIQAYAAYAAQAMAA4ABQD9/wYADAAmACcAIgASAOn/3P/l/+v/FAAqAC4AKAAIAPv/9P/w//b/+f8HAAwAGAAmACAAIAAQAAIA+v/4//r//v8SABcAHAAZABEADAAFAAEA//8DAPT/7P/+/wsAIQAqACcAGwD8//T/9////w4AGgAfAB0AFQAOAAYABAAAAPP/+P/+/woACwARABIADQALAA8AEQAGAAEACQADAPn/9v/3/wMAEgAbACMAHQAIAAgABgAHAP//+v8CAP7/DwAOABcAGwAaABgACQAEAO//6P/r//b/CgAOABQAFQASABIADgAIAP///f8FAAsAFwAaABwAHwAMAAUA8//n/9v/2//7/w0AKwArAAwACAD3//P/+f/5//D/9P/7/wsAEgAXABkAGgAOAAcACAAKAAcAAwAIAP7/BAAEAAgADwAVABAA///0//H/+P8TABsAJQAdAA4ADQAKAP3/AgAHAAcABgALAA8AFgAUABMABQD2/+b/4//l//z/BgAdABcAEQANAP//CQAdACYAFwAUAPb/9//8/w8AHgAWAAcABgD5//n//f/+/wYABgAEAAYABQAJAA0AEAD4/+3/7v/0/wsAFwAeABsAFQAXABgAGwAUAAgA/f/1//j//v8UAB0ANQAuABUAAADr/+X/7f/z////AQAPABYAHgAXAAkA/f/1//T//f///wQACgAQABUAEQAEAAAAAQAJAAoACAAJAAUAEAAZABgADwAAAPX/8//q/+f/6P/u//b/BgAeACgAJwAcAP3/+//2//n/DAAOABAACgAPABEAEQANAP3/9P/0//b/AAAJAAUA/v8MABQAEgAWABkAFQAFAP//9v/5/xEAIgArACQA+//q/9r/4v8DABEACgAHAAIAAAAPAB4AIwAiAAMA+f/x//P/CQAgACoAJAAJAPz///8EAA8AAwDu/+P/4v/r/wgAEgAbABcAAwDv/+v/7v8UACUAOgA4ABUADAD6//v/AgAAAAgA+f/z/+3/7P/v/w4AHgAjABEA8P/j/+X/8/8QABgAGQAWACEAJQATAAUA5//c/9//4P/9/wkADwAKAAEA8v/f/+P/AQASAC4AKgAfAAwA+f/v//D/9f8LABEAEwAGAO3/4v/w/wAAEQAWABEACAD5//X//f///wkACgAPABMADwAWACMAIwAHAPP/2v/o/wcAFAAgAAsA3P/P/9z/7f8fADUAPAAsAAYA6v/W/+L/BwAWACIAGAD///b/AAD8//n/9v/x//H/9v/9/xAAFAAZAA0A9P/m/+j///8gACIAHAAKAPv/BwAkACsADgD9/+H/1P/g/+//DwAbACcAJQAQAAAA9f/0/wIAAAAEAAUAHAAoACoAIQD5/+b/zP/U/+//AAAcACIAIQAdAPn/7f/z//b/7f/3//n/+f8cAC8AKgAiAAYA8f/g/+H/7P/x//v////8/wQADAAYABMAEwD3/+n/0//X/wsAHQAwADcAIwAPAAEA/f8KAAgABQAGAP//+f8IABkAMAAnAP//4P/S/+T/EAAmADEAIwDy/+7/CAAXACIAJgAbAA0A7v/o//b/AgAWABcADgAGAP//BgAUABUACAD3/9j/1//r//z/JQA1ADYAIwD+//T/5v/1/wwACgD0/+z///8KABYAFwATAAMA7//y//7//P8PABYAIQAeAA0AAADv//P///8CAP//BgAKAAEABAD4/+v/5P/y//v/9/8BAA0AEQALAAsACQAJAAsAEwAgACAAHgAdAAoA9//l/+L/7f/6/xkAGQALAAEA9P/y//3/AQD9//r/+v/4//3/CAARABIAAgDw/+z/7P/+/xEAIQAdAAQA7f/R/9f/8v8BABcAHgAXAAoA7//v//P/9v8HAAIA7//v/wEACAANAAYA/f/y/+7/8f/7/wQACgAOAAUA/v8AAAsAFgAZAA0AAADz//X/CgAbACUAJAAJAAQA+//9//v/9//y//f/AwAFAA4AGAAYAAsA8//l/9j/4P8IABAAFQAPAPX/8f8CAA8AJwAlAAsA8v/a/9H/5P/x/yUAKgAUAAQA4//j/+n/7v/3//D/7v/1/wEABQALAAQA6P/i/9X/4f8GACAAKAAaAO//4P/e/+z/EQAXAPv/6P/N/8//9f8PACYAJwALAPv/3//V/+b/9f///wEA7v/o/+j/8f8GAAYAAAD0//b/7v/6/wAAGQANAPX/7f/4/wEAGQAiABcABADe/9f/5v/5/w0AEQD9//D/2v/Y/9j/2//s//T/CwAVABgAFwAOAAcA7//w//T/9f8EAAUAAQD1/+n/8v/7/wEAAgD7//D/7P/m/+P/8//8/wAAAQD6//j/+f8DABMAEwAIAAIA+v/1//T/9v/9//z/+f/5//T//P/o/+//4f/n/wQACwAOAAkA8v/h/9T/0P/p//z/FwAmACUAEwD7/+7/4f/e/+f/5//m/+3///8HABwAHgAGAPL/3P/Y//H/AQAZABoADwAFAPj/7v/g/+j/9f/1/wQABAD9//n/BAACAO3/5//g/9v/7P/0/wAA/v8JAAIACQAOABEAEQAFAPv/6v/r//L//P////z/8P/x//3/CQAOAAYA8f/j/+L/5//9/wUADAAEAOv/5P/v//z/FgAeAA8AAQDq/9//7/8CAA0ACQD3/+v/6v/v//T/+v/7//r//f/9/xAADQAJAAcA8P/r//H//v8MABUAAgD5//H/7//5////AQD9//X/6f/m/+r/+v///xMAEAD9////AAAEAAoABADv/+3/7v/6/wwADwAAAPz/6P/k//T/+f8KAA8ADAAFAPH/6f/o//P/BAALAPz/8//p/+n/7v/z//v//v/x/+r/6f/f/+X/7f/9//v/AwD+/wYAAgACAAAA8//y//H/7v/u//L/7//1//7//v/z//j/5//0//X/9f/1/+///P/3//v/8v/f/+L/7v/0/wQABQAJAAIAAAD7/+z/5P/Z/+H/AQAIABMACQABAOz/8f/w//n/AgAFAP//7v/s//D/9P/x//H/6f/0//z/BwASAAUAAAAEAPj/8v/p/+f/+f8FABUADQDv/+j/6P/w/wQACQD9//n/8P/y//T/9v/3//X//P/7//f//f8GAAwAFAARAPr/7P/U/8r/1f/s/xAAIQAkACAA9v/d/8X/w//o//7/HAArAB0ABwDe/8v/yv/S/+f/8v/9/wgACwAWAA8ACADh/83/vf/C/9r/6v8XACMAJQAaAPn/6v/Y/9///f8HAAkAAAD2//T/+f/9//f/8f/u//f/9v/6//X/7//l/+7/8/8AAAgADQD8//H/1//X//P/AwAeACEAAwD5/+X/5f8BAAkAFAACAOL/0v/T/+L/DQAiACsAIADx/+H/x//I/9r/7f8KABEAEAAHAP7/+f8EAAMAAwD6/+X/3//j/+X/+v8FABQAFgD8/+3/3P/Z/+P/7v///wUABgAFAAAA/P/1/+//4P/s//T/+//7//3/BwAFAPr/9f/k/9z/2P/f//j/BAANABIACwD7/+j/4v/r/+//+v/1/+7/5v/t/+//8//5//j/8P/3//f/+f////v/+f/x/+3/5v/v//j/AQD2//D/6v/x/wkAEwD+//H/2//T/+j//P8ZABkADQABAOP/3//p//j/HwAcAAgA9P/c/9v/7P/5/wEA+P/x/+z/8P/2//v//P/2//L/7f/x//j/AwAIAPr/5f/e/+X/9P8SABgAAQD4/9v/1f/Z/+j//P////r/+f/3/+3/9//7//b/7v/V/9r/9v8JABcADwDp/9z/0v/b//T/9/8BAAIADwAYABsAEQDv/+T/0//V/+f//P8UACIAFgAGANz/2P/Q/9H/7v/6/xAAFQAHAPT/3f/f/93/6v/5/wQAFwAcACkAHADm/9P/wf/K//z/EwAZABoA/f/w/9n/0//V/+b/BAAVACEAGgAEAPH/3v/W/9H/3v/7/w4AIQAgABAA/v/p/+f/6v/0//P/7f/h/+X/8////wkACgD3//D/3f/e/+7/8v/5//f/AgD+/wcAAAD4/+T/1f/b//D/AQAJAAkA9v/2/9//3f/c/+z/+/8HAAgAAQDx/+f/7v/w//v///8QABMAAgAAAPL/6f/g/+j/9P/9/xUAGAATAAUA6P/d/9X/4P8AAA4AEQAZABYAFQD9//D/4v/i//H//P8JABIAGQATAPr/6f/P/83/5//5/xsAHAAEAPD/5//r//r/CAACAP7/AgAGAAYACgARAAoAAgACAPj/9v/9/wcADgAOAAQA/v/s/+v/7//4/wUABgAMAP//9f/y/wAABgAHAAEA8P/z/wsAHgAgABIA7v/j/+7/AAAhACcAIAAQAOT/1P/U/+H/BAATACIAHgAEAP//AgAHAP3/8v/i/93/5f/z/xkAJAAjABYA7f/d/9L/1f/r//b/+f/9/wUACgAWAB4AFQALAOf/4P/v/wIAHQArADAAHQD4/+3/2v/X/+P/6//8/wcAGwAjACsAHAD0/+L/1P/V/wAAEwAjACIACQD2/+b/6//8/wYAHQAbAAYA9v/e/+P/6f/4/wQAAAD8//r/CQAHAAYA8P/k/97/5f/1/w8AEwABAPD/1//X//X/AQAaABgAAgD4//L/9v8JAA4ADAAAANn/y//M/9X/9P8AAAsAAQDt/+b/5//q/+3/5f/e/9r/7f8AABsAJgAZAAEA2P/P/8X/0v/7/wwAEAD+/9f/yf/J/9L/5//t//D/8P8EAA8AFAAMAO3/4P/a/+D//P8JABcAEgD8/+3/4f/i//f/AQAJAAYA6P/l/+H/5f/w//L/8P/z/wUACgALAP7/5//e/9X/1f/o//D/BwALAAsAAQDy/+v/7f/z/wAABAADAAIA+/8CAPb/9f/j/+D/2P/f//X/+/8IAAwA///2/+7/7v/4//n/7//x//T/8v/y//r/CwANAP7/+//x//L/8v8AAP//+v/p/+D/5//u/wYAEAAbABIA+f/r/97/3f/v//b/DQAIAPH/7v/t/+//BgALAAEA+//t//D/BQAJAB4AHQAWAAkA8v/t/+T/7f/4//n/AwAEAAQACQATAAsA5v/U/9L/2v/7/xIAKQAnAAIA8//r/+//+/8KABkAFAAIAAEA8f/u//P/8//u//H/8f/0/wEABADw//D/9//3/wAABAAHAAIA9v/1//v/BQAWABwAAwDz/9n/3P/m/+//BgAHAP3/CgABAP7/+/8BAPT/8//z//n/DAARABAADQDs/9z/zv/T/+7/AwASAAgA8P/l/+P/6/8DAAoADwALAPv/8//4//3/BgAFAAkACwAEAAoABAD0/97/zP/A/8j/4//9/yAAKAAaAAkA6v/b/9P/2f/t//f/CAASABwAHgADAPL/1//T/93/6/8BAAkA+v/7//T/+v/6//3/AQABAPv//P8KAAoACwAIAAIA9v/n/9z/5P/r/+//8P/s/+f/7//x/wkAEQAPAAYA7v/n//D/8//7/wIACgAIAA0ABwAGAPz/9P/0/93/4f/4//7/DQARAAEA9f/l/+T/7P/7/woACAD3//L/8f/1/wMABgD0/+f/2P/Y/9//9v8YABwAGgAKAPn/9f/0//j/8f/w/+j/6//y//X/AAD9//j/+//r/+v/7v/3/wQABgANAAsADQAKAAIAAAD7//z//P/+//z/9v/o/+P/4//q//H/8P/2//T/8P/y//P/7v/7/wUAFgAaABIACwD9//X/5v/v/+3/7//n/+7/9f/6////BgD///P/4v/c/9z/6f8BAAQAHAAcABQACgD4/+7/6v/v//3//f/0/+n/7v/1/wcAEQAPAPr/5v/f/+P/7f8JABQAHgAcAAQA8v/g/+T/8P/7/w0AEAAJAAAA+v/z/97/1f/Z/+L/AQANAB8AGQAJAPz/6//m/+v/9/8aACIAIQAbAPn/7P/b/97/4v/v//r////9/wAA/f//////+f/o/+j/9P8EABQAGgAVAAkA+P/z/wUADgAaAA0A9//m/9b/zv/W/+r/BAAGAAQA///o/+n/8//7/xAAFQASABIA+//3//b/+/8NAAsABAD6//j//v8BAAAA+v/3/+D/4//u//3/GwAiABAAAwDg/9b/5f/u/wUAEQAFAAEAAwAEAAgA+//s/+b/5v/1/xEAIAAkACAAAwD0/9//2P/k//n/FQAdAA4AAADu/+7/AwAUABoAEwDx/+n/5f/j//D/AwAXABMADwAJAPf/6f/j/+7///8OAAkAAwDr/+T/4//s//v/AwAKAAYAFAARAAkA/f/6//D/9P/9/wgADgAUABQABAD4/+D/4v/y/wIAFQAdAAMA9//e/9f/5v/x/xEAHAApACMAGAAMAAoABAD//wMA+P/1//v/BQAFAAEA9v/x//T/8f/7//r/9////woAEAAaABcADgAEAPL/8v/6//7/DgAPAAUAAQAKAA0AAQD3/9f/xP+//9X/EQAmAD0AOwAQAPf/1//Z//L/CQAcABkABwADAAEABQAKAAcA7//a/9v/5v8HABMALgAtAAMA+f/i/+L/+v8IABsAFgALAAcADQARABcABADn/9r/2v/h/wMAFAAmAB8AEQAQAP7/+v/+////+//z//z/BgAeAB8AJQAXAPL/4P/h//L/IQAtADEAJgD4/+j/2v/n/wMAAQACAAUA+v/9/wwAEgD5/+3/7f/z/wIACQAQAAQA9f/y/wAACgAiACMAIAAUAAAA9P/v/+7/8P/y/+z/8v8EAAgADwATAAUA+P/x/+7/+P8DABYAHAAVAAgA6v/b/+L/6/8JABAADgAJAAEAAQAFAAQA8//u/97/4P/9/wcAHQAeABAABwDz//L///8JABcAEQADAPX/7P/q//P/+/8LABEAEAALAAAA+v/w//P/9f/1//n/+v8RABIADwAIAP3/8P/m/+//AAAJABcAFAD6/+v/5//s//3/AQD7//r/6v/r/wIAEAAdABoADgD5/+b/3P/e/+n//v8FAAsADwAQABAAAgD0//D/6//x//f/BwAIAP///f/8//j/DQAWABQADgD3/+3/3//s/wUAEQAgABkA8v/n//D/+f8VABsABQD8/+P/5/8DABsAJwAnAPT/3f+//9L/+P8UADQAMgAUAAAA4//p//H/+v////v//v/9/wsAFAANAAMA5f/W/9z/5f8VACgAJgATAOv/3//c/+7/GQAoACgAFwDz/+P/4v/l//L/+v8AAAIA/v8FAAQABQD//wEA7//w/wEADQAaABoABADz/+3/6P/v//f/AwAAAAMAAgD3//f/+//5//H/7v/1//L/8P/x/wcACwAOAAcAAQD8//j/+P/4//P/7//v//H/9f8DAAsAAwD6/+H/2v/o//X/CwAVAB4AFQAHAPf/2//U/9f/3v/3/wQAEQAPAAwACQD3/+r/0//Q/+D/9/8cABkAEAAEAPD/6v/r/+b/+//+/wAA9v/t//D//P8FAAgAAgDi/9n/7v/4/wMA///4//P//P8OACUAJQALAO7/zP/D/9n/8f8eACcAIgAKANT/xP/F/8r/9v8DABsAFQAIAP3/6//t//r/BQANABQACAD///L/8f/r/+b/6P/p//r/AAD///3/7f/k/9b/2P/o//z/IAAnABQA///j/9n/7f/8/wYABQABAAEA+f/w/+X/3//s//D/9P/0/+3/6v8AAP//9P/w/+3/7//9//7/9f/s/9v/5P/u//3/DwAQAAsA/v/j/9z/0f/e/+7/8//+/wUAEQAWABMA/P/T/8D/yP/b/wsAHQAaABsA+P/1/+L/5P/f/93/4//n/wIAEwAwADUAFwD1/7b/sv/P/+X/EgAZAAwA+v/p/+b/8v/6//D/7f/U/9L/3v/t/xwAJwAbAAkA0P/I/9D/5/8AAAQA9f/r/+H/5P/y//X/CQABAOj/2//f/+X/AwASABMAEQD6//X/7v/r//D/9f/1//r/9P/8/+X/6P/v//r/BAAAAOr/2//a/9j/5f/q/woADgAVABYADgACAPT/7f/x/+3/+P/9/wUABQAPAAYA+P/v/9P/z//V/97//v8IABIAFQD8//z//f/8//7////5////BgAMAAQABgD9/wEAAAD+//D/8f/f/9//6v/v/wgAEwAlAB4ADwD6/9X/1v/r//r/FgAiACAAEgD5/+X/0P/U/+b/8/8AAPj/9P/3/wAACQAFAAQA///5//j/8v/4//7//P/9/wcACAD7//b/6f/q/+X/7v8AAAsAEQARAAMA+f/+/wgA/P/y/8z/yf/d/+7/HwAyADcAJwDq/8v/vP+9/+n/CAAaAB4AEQAFAAUACQABAPz/2v/W/9n/5/8SAB4AEwAAANz/z//J/9r/AQANABQACADx//P/BQATABkAFwD7/+f/2//f/+n/8P/v/+v/7v/1/xAAGQADAOv/vv+5/8z/3/8KABQAEAAEAPj/+//+/wIA/P/7//r//f8GAAgAEAATAAYA+v/2//H/6//s/+T/3v/e/+v/DwAfABUABgDb/8X/uP/I/+7/BAAjACsAIQAZAPH/4v/g/+f/9v/+//z/+/8FAA4ABgAAAOz/1//O/9H/5//6/w0ABwDz/+z/4v/h//P/BwAVAA8A+v/v/+D/2f/0/wgADgAUAAIA9v/a/9H/1//j//j//v8MAA8AEAAKAP3/8//b/9f/3//w/w0AFwAaAA0A/P/0/+7/7v/v/+b/2v/l/+v/+P8gACcADwAAAOD/2v/1//v/CAAGAP3/8f/x//r/CgAPAAQA+f/Z/9L/2f/d/wcAGgAmABsA9f/Y/8r/zP/h/+7/BwAQABAAEQAKAAgA/f/3/+7/6//6/wUADgASAP7/+f/x//j/AQACAPr/6P/a/9n/4f/w/wMADQAGAAAA9v/2//L/8v/v/+f/3v/i////FwA4ADUABwDo/7r/sf/K/+f/HAA0ACUAFwDp/93/1v/e/+v/8//8//f/8//6/wEAAQDw/+7/5//r//f/AQACAPz/8v/u/+z/8f8LABIAEAAEAOf/4f/h/+b/5f/o//r/AgAXAB0AFAAEAOL/2v/P/9j/8//+/w0AEAAEAPf/7//j/+T/6v/5//7/AgD9//P/7v/4//j/9v/y/+j/7f/x//P/7v/q/+n/6v8JABkAIgAbAPT/4//T/9n/+P8LABMACwABAPn/8f/t/+n/5//h/+f/8f/2/wYADwATAAsA9f/q//D/8/8EAAgAEAAGAP7/AwAHAA4ABgADAOz/3f/V/9j/9v8CABgAGgANAP7/5P/Y/8r/xP/N/+H/HwAzAEAANgAAAOT/y//T/+X///8fACgAJAAYAPb/6P/P/9P/y//N/+L/7v8DAA0AFAANAPz/+f/2////BwATABcADwD4/+3/3//l/wUADgACAPX/2v/T/9P/3f/w//T//f/9/wYABwANAAAA6v/l/93/2P/w/wAAEwANAPv/8f/c/93/6//0//j/9v/w//L//P8CAA8AFQAIAAAA5P/a//D/8v8PAA8ABwAAAOv/6//o/+f/4//k/+j/7v/6////BQD+//v/9v/s/+j/6//y/wgACwAHAAoABgACAPX/8//o/+r/+P/+/wgACgD0/+//3//U/+D/7/8HAAYABQDx/9r/2P/p//b/EgAHAPb/9v/7//3/+v/x/9z/4f/w/wMAKAAzAB8AEADU/8T/yP/U//n/BAAPAAsA/f/5/+7/7P/i/9r/3f/o/wAACQAZACAAGgALAOv/2v/e/+T/+v8KAAUA/f/8//b/8v/x//X/9v/6//3/5//l/9z/6f8MAB0ALQAmAP3/5v/U/9f/4P/t/w4AIQA2ACsADwD8/9n/0v/Y/+X/AwAWACgALQAHAPP/2//X/+P/6P///wUADQAHAAQADgAPABgAFAALAO//4v/j//D/EQAOAA8ABwAFAAQADgALAOn/2v/R/9r/7/8AADYAPwA6AB8A4//M/9T/5/8OABgADgAIAP////8JAAIA8f/p/97/2//r//H/AwAMACcALAAnACYAGwANAOX/1v/K/9T/FAA0AEkAOgABAOT/wf+7/9b/6v8RABgAGAAPAAkADwAWABcA+f/w/+X/5/8IABYAFwANAPj/9v/8/wIACAAAAPP/5//l/+f//P8JACIAJgAbAAwA+P/w//H/7f/i/+T/8P/7/yIALQAaAAsA5f/S/8D/xv/4/xMANwA8ACUAFQAAAPn/8//u/+z/7/8HABEAFwAUAAMA+v/l/9z/3v/h////BgARAAoA+P8AABgAIQAbAAsA8P/h//T/AQAVABoACAABAOz/5f/w//n/9P/0/+X/5f/0/woAMQA5ACkADQDd/9b/8f/8/xIAEgANAAcA8v/0//X/9//7//n/9P/2//T//P8LAAoA+f/w//f/+v8UABoAFwAMAPX/7v/z//H/+f8KABMAEQD7/+7/1P/T/9b/1P/q//T/EwAbABoAFAD0/+n/8P/3//n/+P/8/////v8FAAMA/P/3//L/5P/e/+H/6f8HABMAGwAOAPn/8//t/+X/5//o//T/9v8QABIAEgADAO//4//T/9b/8P8BABYAEwDu//H/9P/8/w4AFgADAP3/+f8BABMAFAAGAAAA8f/m/+P/4//v//n/CwAGAPX/7v/u//3/CgAHAPf/8P/m/+X/AwASACAAHAANAP//8f/p/+7/+P/2//T/9v8AAAwACgABAP//9//3//v/AAD+//j/AwATAB8AIgAXAAsA+//3/9r/1f/c/+7/HgAtAB8ACgDY/9T/6P8AABsAHwAPAP//5v/k/+z/9/8hADAAMAAnAAUA8f/Z/97/6v/6/x0ALQA7ADAACwAAANn/zv/Q/9///v8OACUAJQAQAP//7f/n//P/+f8HAAcACgALAAYADAANABQAEQAMAPH/6v/d/+P/5v/s////DAAgACAAGgACANL/xv/U//D/GgAlACgAJwAGAP3/8P/k/97/5v/7/wUADwAQAAMA8//i/93/4f/u//r/AQAKAA4ACwAIAAAA/P8CAAYAFwAaAAIA+v/z//f/AgAHAA4ACgD7/+3/6P/p/+H/4v/5/wAAEgASAAkABAACAPf/8f/0/wMACAAQAAYA8f/v//L/+f/4//f/5v/o//z/BgARABcABQD7//n/+f/t/+//9P/8/wEAAQD9/wMA///+//3////3//L//f8JAAAA+//s/+n/5//o//j//f8NAAYA+f/0/+z/6f/z//X/AQD//xIAFQALAAIA8v/w/+v/8v/4//X/BAAGAAgACADq/9v/1P/Y//H/8/8FAAYAGwAeABkAEwD5//D/7P/1//7//f8DAAUAFQAaABIACwDq/9X/zP/V/+f/9f8hACkAHgAaAPv/5//U/9H/5v/4/xQAHwApACMAAgDy/+D/2f/p/+7//v8FAP3/8//o/+z/+P8CABQAEgD8/+z/5v/j/+//8/8MABQAJgAcAA0A+v/c/9b/2v/l//z/AwAEAAcA9//r/+P/6f/u/+3/7v/v//L/+f8NABQAGwAWAA0ABQD5//T/3P/b/+H/7v8BAAYADgAHAOv/3v/C/8L/0f/f/woAFgAiABsADAALAPT/7P/r/+z/+f8DAAkABAD3//3/BgAGAPv/5v/M/8T/0P/c/wYAGgA7ADsAIwAJAOb/2v/h/+r/CgATAB4AHAARAAYA8//s/+f/5P/j/93/6//1/wwADwAEAP3/AQAEABAADgD9/+3/5v/p/wwAHwAyAC0AGAAAANn/xv/C/9H/AwALABUADgDz//D/6f/w//H/8P/z////GAAgAB4AFQACAPj/7f/z//b/AAAPABIAAgD3//T/+f/6//r/7v/k/+L/4/8DAAYAGQAXAAgA9v/l/+T/8v/9/woADQALAA0ACgAGAPH/7v/l/+j/AAANAA0ADAAEAP7/7//w/+7/9P/3//z////0/+f/6v/0//v/CwAHAAIAAgD6/wAA9v/x//H/8P/+/wgADAAPAAYAAQDd/83/1P/i/woAFgATAP//2//a/wAAEQAoACkACADw/9r/3v/1/wMAFQAOAP3/9P/5/wAAAAD+/+X/2f/d/+v/EAAoADMAKQAHAPP/4P/i//r/AgAUAA8ABwAGAAIABQAEAAIA5P/k/+T/6P/6/wMADgAOAAYA///7//j/9//3//L/6f/j/+f/BQARACcAHwD1/+L/1//T/+n/+/8PAA0ACwAGAPP/7v/n/+L/3//h//H/9v/+/wQAAwDy/+D/2//e/+T/7//5/wYACwAFAPP/4f/d/97/4//1//X//P////X/6P/V/9T/4f/u//v/BwD+//D/3v/f/9z/3v/6/wcAGgASAPv/7v/d/93///8HAA4ADwD1//H/6f/m/+T/6//w//b/9//2//z/+v/3//X/8v/t//L/8//3/wAA7//z/+7/7//4/wAA/f/6/+v/5v/g/+f/9/8BAAQAAgD7//X//v/6//b/8P/v//b/9f8CAAUA+f/d/9f/0//T/+3/8/8AAAUACwD+/+T/1v/T/93/8//3//v//P8CAAIA8f/n/+H/6v/x//3/AgAGAAUAAADs/+j/4//i/93/3f/Z/+T/+/8NABgAFQDw/9z/0f/Z/wMAFAAfAB8A+v/w/83/y//l//3/FQAfAAUA+P/i/9//1f/V/+H/7/8FAA4AAgDy/+X/4f/n/+j//P/9//j/+f/4//b/8f/q/+z/7//w//P/7P/0//P/9//+//z/8P/s/+//9f/w/+3/6P/g/9v/5P/4////AwD//+//4//c/9//9v8AAAEA+P/2//f/6f/p/+n/7f/1/wEAAwABAPX/6//h/+D/3v/g//n//f8CAP//4v/Z/9n/5P/4//X/8f/u/+3/5v/k/+L/4f/j/+3/7//r/+n/6v/l//f//P/3//D/8P/v/+7/7//v//H/8P/y/+P/3//g/+L/8f/4/+j/2v/B/8v/5v/2/wsADgD1/97/zP/C/9f/6v8PAA8ADQAAAOD/1f/F/8L/zf/X/+//9//2//H/6P/k/9//4//l/9n/3v/m//L/8//4/+3/3//U/9v/4f/0//z/+v/4/+T/5P/e/+r/+P/3//D/6//g/+b/2//e/9H/1//h/+3/AQD+/+z/5//d/9n/2f/b/+//9/8DAP//6//f/9j/2//o/+3/3v/Z/9f/1v/f//D/+P/2/+3/6//o/+z/+f/7//P/7f/f/+H/8f/y/+T/2//N/8n/2P/g/+3/8//v/+n/4//g/+H/3f/5//j/BAD7//b/8P/h/+H/yv/J/8T/0P/t//T/9f/s/9f/1P/Q/9v/7P/3//f/+P/3//P/9v/2//z/8f/o/+H/1//b/+b/6P/z//D/3//Y/9j/3f/f/+H/6f/o/+T/5f/e/93/4v/n//v/BAAAAPj/3v/c/83/0P/k/+v/AAACABAABwDg/8//xP/D/9j/5P/1//T/9//2/+v/3//H/7//x//X//f/BAAHAP3/1v/F/8P/yf/s//f/BgD5/9z/zP/a/+v/BgANAPn/6//K/8X/1f/h/+7/7v/l/+f/4P/e/+H/4v/c/9v/5f/h//T/8//+/wAA4v/T/7z/uv/R/+H/BwALAAMA9P/U/83/0//W/97/5v/m/+n/9P/8/+3/4//M/83/0//f/+b/5v/r/93/3P/b/83/0P/g/93/2P/R/8L/w//P/9r/4f/o/+X/3//T/9H/zv/I/9L/3//0//P/8v/p/9n/1f/U/9D/yv/F/7P/pf+c/9D/GQDw/4f/zv9+AFUA5v///0MA6f+E/67/DQD+//7/2/9VAM4AiACvAGoAPQDx/2sAggDOALMAaQAKAIn/AQDN/z8Ayv/d/+z/KQA/AE8AvQBuAH4ADgA8AOr/TgDo/778EgFC/VsBJwFYAvD8EQLF/REBGwHMA98BewBAAjYBEALUATcDQgDYABf/6P/h/8AAjAD3/8X/RP9MAEYAMgITAW8B/QBLAFr/PQGvAYcAZQB9//r/UP98AFkAQgGMAF4AOgBZAMsA1QArAnkB/QAzABwACgCkAMv/uf/X/7z+tf6Z/1EA9P+kAOf/6f8eAD8AaADbACsBigA0AFAA9P/Z/7oAWQDm/27/jv+u/xAAAgD2/0EAv/+s/7r/4v9uAFIAAgAbACsAHwBmAMEAqABYAG0APABQAH8AkwCXAIkAbAAKAGUAbQD2/zAANwDp/7n/of+N/9H/7v+K/3T/vf+o/6z/+P8iABoA9/8aAP7/FAAQADMAOwAcAPX/EQCv/5T/w/++/7//t/+A/3v/QwA2AMP/uf/e/9j/EgBWAEsAbwBjAGQANQBEAAUAHABNADoA+/8hACYADQAkAP3/4v/A/8L/zv8PAAgAtv+d/8D/6v/h/77/DQAlACUAPwBZAGIAOwB7AGgAKAAhAB0A7P/u/9//pf+q/77/iP9w/8v/r/+q/6D/y//Q/7z/yP/A/+z/AgDh/+r//v/6/wIAGgAOAMv/4//p/+H/sv+4/+D/0v/V/+b/4//u/wUAy//M/93/9//V/woAHwDh/+T/9v/y/83/+P8AAAUAPQBXADkAPQDm/7r/oP+K/0//Ov9K/1z/Xv9Z/3v/hf+j/6j/p/+5//T/9//v//b/5f/X/9X/9P/s/+v/8//5/7z/0f/z/+D/5f/V/8L/r/+x/53/jP+h/8z/vP/O/+T/AwALABEA///d/+j/1P/S/9L/0P8BABUAOgAvABYAJwAdAB4ALwAmAO7/y//M/8L/xv/F/7n/sf/o//L/4//n/0sAVQBWAF0AGwADAAcAEADt/+b/4v/a/9z/4//W/9T/1P/N/7f/x//W/8n/x//Q/8z/zf/h//f/KABCAGAASgA5AD4AJwAcACQAHwAJAB4AKgAXABcAMwA6AC8AFgABANv/5f/4//z/DAALAL7/qf+y/7L/wf/h/xQAIwBYAGcAVgBPADIAFADV/8n/tf+9/+j/9P/J/9D/4f/p/93/3P/T/8D/yf/W/+b/8f8aAA8ABwATABgAEQAyAC4A9v/m/9r/zv/f//b//f/w/+P/1v/L/9n/3f/p/xIAKQAKAOz/2v/I/77/yv/a/9j/6f8CADIASgBzAH0AYwBaAEMAMAAmACUA7f/X/8z/v/+n/7T/yv/I/7r/wP+z/73/5f/h/9n/2//U/8//CAAjADoARgA7ACQA6//z/wsAEQAMAPf/u/+1/8X/xf/Q/9r/z//V/yIARQBVAFUAQAAcANb/y//Y/+n/JwA7ACoAHgAUABIAOwBTAEEAFwDX/8f/vP/U/+7/5v/D/7P/jv+M/8f/5f8XACwAHwAGAAYAFQAxADMAIAAFAMz/1P8EABAAKgAoAPP/0/+z/6f/mP+p/7H/of+V/47/k/+z/xEAJwAYAA0A5v/Y/+j/6v/m/9v/3//U/+L/8v/4//n/BgAAAPX//v8kACMAHQATANj/vv+r/6z/sf++/9b/2f/w/wMADQAFABYAGAAEAPf/6f/h/+//8v/w/+f/5P/k/9b/1P/R/7j/n/+i/6X/q//N/87/xf/L/9z/6P8XADkATwBYAEgANQAFAPr/9v/m/+H/5v/T/9f/6P/v//3/AwACAPn/+P/7/+z/4//d/83/uP/E/9r/5/8aACgAIgAkABkAFwAVACEANwA4ADQALQDx/+D/6P/q/wQAFAAYAAkA+P/p/8f/vf++/8L/1v/v/wsADAAVAAoA7//y/w0AGQA5AEIAGwD3/7f/o/+d/6z/zP/P/+H/6P/1////BwAAAOD/2v/f/97/9f8GABgAFAAOAAcA/v8ZAEEASABLAEAAFgACAPr/9//w/+3/5v/e/9D/yP/C/8P/1P/U/9//3//Y/9z/5P/j/8n/xv/3/wsASABcAE0ANQAOAAcA7P/1//r/7//g/9X/qv+b/7r/0P8AABAAIQAOAAIACgAVABgAEwAIAPj/+f/0/+//9v8BAAUAAwAKAA4AAQAIABQACQD+/wIA8//q/+r/8//x////HgAfACcAIwACAAAACAAKAAIACwAbACgAPABDADgANwAyACwAKAAhAAYA7v/e/9r/yP/G/8H/vP+7/8z/9P///yEAJAAhABYADAAAAPn/AAAOAAwAEQARABIAEgAUABAAEAAUABcACAAHAAIA4//i/+b/6P/4/wMA+f/s/+3/7/8DAA0AHwAVAAgABADv//H/+f/5/+r/6v8AAAgAJAArAAwA9P/B/6z/k/+c/7j/yf/t/wMA/f/5//3/BAAPABgAKwAlAB4AFQAJAAYA+P/p/8v/xP/M/87/6P/r/+f/2P/K/8D/xf/P/9n/3P/n/+b/6v/t/wcABwASAB4AFQALABAACwD///f/9v/2/wUADwAcAB8AHgAWAPL/5//h/97/4f/n/9z/1f/R/9L/3f/q/w0AEAAiACIAJAAkACAAGwAFAPn/6v/c/93/6P/o/+f/6v/m/9//5//4//3/BAACAOX/4v///wwAEwAfABcAEwAYABkAGwAlABwAGQD+//L/4v/j/+7//f/8//r/6f/n////BgATAA0A6P/U/7T/uP/g//T/DAAVAAsABAANABgAJgArADQAIgAMAAcA/v/3/+//5f+//7j/yP/X//b/BwABAPn/7v/k/9v/5P/x//H/AAAHAPv/+v8BAAQA/P/7//H/6f/w//T//P/o/9n/0P/M/9T/7v/7/woAEgAXABIAFwASAAQAAwABAPv/BAAKABQAFwAaABQADwATABoAFgAMAAQA6f/j/+f/4P/b/9z/zv/M/9n/6/8GABkALgAtAAQA+//m/+r/DAAiAB8AEgD///n/EwAgADEAHwAGAPL/3P/f/+3/9f///wcA+v/w//D/7P/1/wQAAwABAPv/BQAJABAADgACAOX/1//d/+T/CgAjAD0APQAjAAsA3P/U/9//6//+/wUA/f/t/+b/4f/b/+H/9////xQAHwArACEACAD4/+P/5P/t//L/DwAaABEABADh/9r/zf/R/8z/zP/R/8n/xf/N/83/1P/l//n/FQAeACQAFwD4//b/+P///wAABwALAAcACwAJAPn/9f/0//D/8f/y/+T/3P/P/9L/2v/k/+z/5v/b/9v/6f/u/woADwAsAC4AIAAPAAYAAQDv/+7/8f/l/+L/9P8EAAMA8v/j/8n/xv/i/+3//P/8//D/7f/2/wAAIgAuAD0ALwAYAAgA7P/n/9n/1//W/+H/8//2/+v/7P/a/9//6P/n//H/AAAOABIAAgD6/9//3//8/xgAMgAyABIABwD//wcAGQAdABwAFQD+//X/6f/Z/9H/2//w//b//P/5//D/8f/m/+b/3//f/9f/3P8CABQAIwAmABgABwDn/+r/9f/1//3/7//W/8v/zf/S/+7/AAD6//j/7v/m/+X/7/8GAA8AGAAeABIABwD4/+r/0//Q/+H/9/8kADIAKAAbAPf/5//Y/9X/yf/J/9f/4f/i/+X/4v/i/+3/+/////P/5//m//r/DAAmACgAHQAUAAcAEgAaACEABQD1/8v/t//D/9P/8P/2/+3/1/+//8X/4f/3/x4AJgAeAA8A/f/v/+f/6//4//v//f////r//P/6//f/8P/q/+v/7/8KABgAFgARAPn/5v/m/+7/CQAQABQACgD4//H/AwAIAA4ADwAOAAEAAQD5//n/+P8FAAwABQAQAAgABQD3//H/1P/L/8P/xP/W/+b/BAALAA0AEAAQABMAEwAJAAIABQACAAQACgAOABgAHQAdAA0A6//V/7T/uP/K/9///v8OABQACgDq/9j/wv/E/+X//f8ZACcAKQAhAAwAAgDr/+j/9v/7//7/AwAHAAEA/f/3/+T/2//h/+X/7P/x/+3/6f/k/+X/7//0/xsAHAAjACUADQACAPD/7//g/9n/4f/m/+b/5f/e/9f/yv/S/9//8f/n/+T/0v/U//X/BgAtACwAGAAJAPf/9P/6/wYAEgAPABUACwAFAPn/4v/X/9H/3P/1/wUAKAAlAAgA+//c/8z/xP/H/9H/3v/7/wMA+//8/wUADAARABwAFAAOAA0ABwAAAAUACAAFAAgAAwDz/+r/0//V/8//1v/s//v/HgAiABcABwDn/93/4v/u/xAAIwAtACQADwARAAUAAADp/9//v/+7/8z/2f/+/wkAAQD5/+j/4//0//f/AAD3/9//4//0//z/EQAVAAIA7P/n/+3/AAAOABsAEgD3/+3/3//d/+H/4P/X/9P/1P/Z/+D/7f/x//P/6//o/+j/6//+/wAA+v/u/+z/7f8NABkAGAAOAPH/5//h/+L/5//n//D/6//j/+T/6P/z//v/+//s/+j/7f/+/yEAJwABAOf/wf/D/+b/+/8WABYA/P/0//j/AQANABAA/v/r/9v/0f/Y/+P/BwACAAIA+//v//L/CQARABoAEgD///j/AAACABQAGwATAAoA9//1////BwD8//T/1P/P/9j/6f8IAAsA9v/q/93/2//w////IAAlAB8AFQD+//7/BAALAAYA9P/g/9b/3//3/ywAOAAwAB8A6P/X/8L/yf/f//H/AgAKAAkADQAWAA8A7v/m/+P/5f/+/xIALgAsABQAAADd/9D/3v/n/+v/6P/q/+L/5v/w/wMA///s/9z/zf/T/+n/+f8VACEAHQAVAAYA///6//f/AAD6//L/7//u//P/8//0/+X/3f/R/9n/9P/+/wUA+//V/7//u//I//r/CQAYABgA8//w/+z/9P/7//v//v/6/wcACgANAAkA+v/1/+H/0f/F/8b/2//s/wIABQD+//n/8v/x/+D/1//c/+P/CgAbAD4AOgAjABMA1P+9/7P/vP/X//H/FgAXAA0A/f/S/8P/zP/T//j/BgAiACQAEwADAOj/3P/X/+j/BwATACAAGgAJAP7/AAABAAYA+//s/+X/7f/5/w0ADAD3//D/2//b/+//8//h/+H/4P/p//P/BgAeACEAFwAMAO//6P/0/wUAGgATABAA+f/V/87/0//b/+j/7v/z//T/+v/6/wQAAAAHAAUA9//1//f//f/7//3/BAAHAAcABgAFAPj/6v/l/9T/0v/n//P/CgANAAEA+//e/+P/9f///xMAGgAhABkAEAAEAO//7////wYAFgAdABUACgDr/9//1P/W/+3/+v8AAPf/7P/t/+3/6f/8/wUABAAAAP7/+P/0//v/EgANAP3/7v/a/9r/9f8JAB4AJAAeABUACAADAAYACQD1//L/5v/i//j/CwAUABEA/P/v/+L/5v/9/wgABAAGAAwAEAASABMACAAFAAYAAgAEAAQACgAMAAoA///u/+T/4f/o/+r/7f/w/+//+v8JABsAIgAeAB8ADAADAPb/5v/y//z/GQAXAAsAAADm/9v/6f/s//H/9v/8//n/7P/l/9r/4//s//L//f8BAA4ADQAGAAoAAAD6//3/+f/r/+L/6f/6/yUAMAAgAAYA1P/F/9z/6/8TABQACwD7/9z/0P/P/9j/+f8CABIADQANAAgACwAPAAkABgD1//H/5v/r//P//f8DAAIA9//u/+L/6P/0//D/+P/4/wUADAAWAA8ADQAQABMAGQAQAAkACwAMAA4AFQD+//X/8v/t/+//7//l/+f/7P/7/xEAFgAaAAkA6//p/+v/9v8NABcAKQAqACUAIwAQAAwA+f/9/+//7f///wgAGgAbAAwA/f/c/9T/3P/r/xQAHwApAB4AEwANAAwACQD8/+7/5v/p/wEACQAZABIAFwANAPj/5//a/93/8f/4////BAAFAAsADwAPAP3/6//c/+j//v8VABoAGwAAAPb/4//k/+n/+/8cACAAGwAQAPf/7f/k/+b/9f/3/wIABwD8/+z/1v/V//D/9/8CAP//9//6//j//P8IAAoABgALAAsACAABAAEA8v/0//P/9P/7//3/CQD9/93/zv/O/9v/BAAWACwAJgATAAEA7f/r//z/BwAaABUAAADz/+//8/8HAA0ACQAIAAIAAQADAAMA8v/w//L/8P8BAAsAGQAZABkAFQD///r///8GABIAEAALAAsACwARAAsAAQDy/+b/8f/7/xUAFQAPAP//5f/h/+3/+v8PABUABQD//wIABQAbACUAJgAXAPv/8//x//n/FAAcABIABADm/+P/9P8EAB8AIgAMAPn/5P/l////BQAMAAMA+v/6/wcACQANAAkACgAMABEAFgAUABYA8f/h/8z/0f/7/xgAQwA9ABUA9f/T/9D/4P/y/xUAHQAIAP3/5v/p//X/BgAfACgAFAAMAPr/+f/0//P//f8CAAsACQADAP3/7f/o/+f/6f/l/+///f8NABMADgABAP//7P/n//b//P8PAB8AKgAnABkAFwANAAoACAD9//X/8v/y//T///8NABkAGAAWAAgA6//b/9b/6P8JABUAHQAXAAwAAAD8//P/AwAJAAQABAD8//b//f8GABMAGAD//+z/5f/m/wIAEQAMAAsA/v///w0ADAAHAP7/8f/w////BgAbAB8ADwAAAOv/7v/6/wAACgAJAP3//P/0//r/+v/9/wEA/v/s/+f/6f/o//X//v8FAAMAAwAAAP7//v8HAAUAAwADABEAFAAPAAkA9f/o/9z/4P/g/+X/9P/9/wEABAALAAsA///1//j/9P/5//3/BQAIAA0AFAAVAAYA+f/x/+3/8//5//r/8P/t//j/+P////3/8P/t//r/AwAUAB0AJAAcABcAEwAFAAEA8P/t//L//f8JAAsAEgAGAAUABAAEAPv/6P/i/+H/3v/n//X/DQAPAP7//v/6//n/AAALABAAEgAeAB8AAQD1/97/1f/t//7/IwAnABcABADn/9z/4//t/wIADQASABIA/v/6/9//3f/c/+v/CQAhADMAMQAfAAgA4v/S/9L/3/8KACIAOAAzAAoA9v/r//D/AwALAAIA///w/+z/+v8MAA0ADgAJAAYAAQAAAAEA/f/4//P/8P/0/wgADwAeABIA4v/S/9b/5f8QACMAHgAQAPL/6P/1//3/AgADAPn/9f/7/wIACAAOABUAGAAfACQADgACAOv/6f/f/+n/AwAMAB8AHQASAAYA7v/t//D/9//4//r/+v/9/wwAEgAYABAA9P/r/+j/6//4/wUAEQAMAAwABwAAAAEA+f/2//j/AgAKAAoACQAKAA4ADwAJAAMA7//r/+n/7/8EABEAFQAXABYAFwAcABkADwAKAPn/9v/w//T/DAAbACEAJQAYAAwA8v/t//X/9/8IAAsAFAAMAPz/+f/y//j/CQANAAMACAAGAAkAGgAiAAsABwDu/+7/6f/2/wAAAQD3//b//f8AABAACwADAPf/6P/d/+///v8ZABwAFgASAP3/+/8CABQAEQAMAP7/7f/R/87/3P/m//P//P8DAAoAAQABAAoABwAFAAEA+v/2//v/BAAZABIA+P/w/+L/6f8KABoAGAATAP7/9//1//X/8P/r/+P/5v/9/wgAHgAmACgAKgAQAAEA4v/d//T/AgATABQAEQAHAPX/8f/q/+z/9v///xkAGwAXABgAAwD2/+b/6P/v/+3/AQAPABMAFwAYABIADAAEAPT/7P/d/+P/9f8BAA4AFgARAA0AAgAAAAgABgAJAAQA/P/6/wsAEgASAAgA7//p/+L/7f8PAB4AKwAfAAIA+f/5//j//f8AAP7/+f/1/+z/+P8KABsAHgARAAoA+f/0/+7/8//y//T/+v8GAB4AKAApABUA+f/m/9//4P8BAA8AMQAxAB0AFADq/+f/5v/w//7/BgAQABMAGQAaABwAHAACAO//0P/W/+z/CwAoAC0AHAAPAAMA/f8GAAIA/P/w/+n/6f8JABsAMwA3ACIADADl/9v/7v/3/w8AEQALAAYABQAOABEADQD6/+r/3v/m/xEAIAA4ADEAAQDp/9n/1//w/wkAIQAhAAkA/P/3//X/+//8//D/6v/4////EQAbAA8A/f/p/+f/+v8SADIAPAAqABUA7f/e/+H/5f/v//P/8/8AAAwAFwAkAB4A9P/l/8j/0f/3/xQAKwAmAA0ABgD8//r//v/7//n/8v8IABkALAA7ACsAGQDS/8D/wf/Q/w8AJAAyACEADQABAPj///8GAAgA8//2/wAAFgAtADQAHwAGANj/z//a/+r/EAAeABsAEAD9//r/+v/1/+7/7P/k/+n/FQAuAEIAPAAMAPL/0//K/+X/+f8HABAA/v8FAAgADgD+//P/1v/S/+L/9v8aABUA9v/p/93/6f8DABoAIQAUAOr/4v/f/+X/DgAgACQAEwD0/+b/3P/n//j/9//o/+f/5f/p/wUAEQAHAAIA7P/d/+r/8P8TABQADwAAAO7/7//4//v//P/5//r/AAAHAAMAAAD1/9z/1f/w////EAAWAPX/5//U/9z/8/8FABwAFgD+/+X/5P/p/w4AFAAjABkAAgD0//D/9f8DAAEA/P/8/wcAGAAbAA8A+v/t/97/3v///wwAIQAfAAYA9v/t//P/EQAhAAsA///j/93/9v8MACoAKAAHAPP/3f/e/wIACQAXAA8A9f/s//n/CwATABoABADw/9r/4f/1//3/EAAeABIAAwD3/+7/4//n//X/+P/9/wAACgALAAwABgD2/+//7f/2/wsAHAAoACAAAgD5/+f/4v/o/+7/CgARABAADQADAPf/1P/R/9r/6f8NAB8AIwAeAP7/6//p//j/DQAVACYAJgAXAAYA6//i/+L/6f8NABYAFwAPAPf/5//Z/93/AAAUADQALgAXAAEA7f/t//j/BQAOAA8ADgAVABUAFwD+//L/2f/b/+//BAAVABcAGQAKAPn/8v/w//T/AAAIABUAEQAMAAUA+//+/woAAwD4//r/8f/u//j/AQAOABEACgABAAkACwAIAA4A/f/1//n//P8KABEACwD7/97/1//d/+r/CgAMAAkAAAD5/+//9f/7/w0ACwAFAAUA9//z/+7/9f8GAAoABgD7//X/+P8MABoAIAAVAPz/7P/w//f/BgAKAAAA7//b/9f/8/8EABMADADy/+L/5P/r//7/BgABAP//+f/7/woAEwAHAAAA5f/e/+z/+f8VAB8AHgAMAOL/z//S/+L/9/8CAAkAAAD5//j///8EAPz//P/4//X//v8FABMADgACAP3/8P/z//z/BQADAPn/7P/i/+T/7f8CAAAA7v/p/+X/9f8UAB8AFAD//9X/xv/k//z/KQAqAA0A+P/e/9j/8P/+/wEA///s/+j/9f8EABcAFgAFAPT/4//f/+3/AQAmABkAAQDm/9r/5v8PABgACAD0/9T/0f/i//r/GQAYAPL/5P/O/8z/7v8LACUALwAcAAoA6//q//L/+P8GAAQACAADAP///P/k/9z/zf/O/93/6/8fACgAGAAIAN3/yP/P/+D/BQASACMAIgAHAPz/4f/U/9n/6P8TACUAKgAaAAAA8f/j/+X/8/8BAAsADAD//+//4f/p//v/DwAUAAwA6//a/9L/3P/4/w8AFgAPAP3/9P/o/+H/5v/y/wAABQABAAUA/P/3/+3/6P/i/+X/7P/z//v//f/+//n/5//f/+v/9/8LAA0AAwD7/+D/4P/s//b/DwAaAAwA/v/k/87/0//X/wAACQAFAPz/2//Q/9f/5v8BAAkAFwAXAAkA///w/+v/5//i//D/+P8JAAoABwACAPX/5//d/9//9v///xEAFAAEAPj/6//t//z/AwACAAIA7v/w/+7//P8KAAQACgD+//X/7//h/+j/8P/3/xMAEwAIAAQA9f/u/9//3//1//7/DgAIAPX/5f/e/+D/+/8EABQAEgD7////BAAMABMAGAAAAPP/4//r////DgARAAUA1v/J/8v/5/8eACoAKQAYAO//3//d/+7/GwAkABoACAD6//n/AAAIAAQAAgDr/+n/BAAWAC4ALwAYAAAA2f/U/+L/9P8RABQAEwAMAAAA/P8CAP3/5v/i/9//6P8MABoAJwApACMADgD9//j/+f8AAAcACgAUABIAEgARAAEA8v/d/9n/2//r/woAFwARAA0ABwAUABUAEwAMAAgA+//8/wQADAAZABkAFAD+//L/6P/v/+n/8P/t//H/8/8PABwAFAANAPn/6v/m//f/GgAiACgAHQDx/+P/3//k/wQAEgAeABMA9v/t//D/9v8EAAoADQAHAPD/7//w//v/CQATAAgABQADAP7/BQAAAAUAAwD5//T/6//v//v/AAABAAAA7//w//D/AAAbACgAFgAQAPX/6//q//T/AQAKAAcABQDu/+b/9P/+/wkADwDz/+7/4f/p//H///8SABkACAAFAO7/5//k/+7/CQANAAYAAwD7//P/4//o/+D/6P/8/w0AHAAiABoAEAD2/+7/4v/g/+r/8/8DAAIABgD+/+z/5//q/+3/AwAGABkAEgANAAoAAgD3/+7/8P/8/wYADQAMAPb/7//y//L/BgADAPf/5P/l/+D//v8PACkAKAAJAPr/3f/Z/+r/+v8SABcA/v/1/+f/6P/6//r//v/+//X//f8IAAsABgAAAOn/3//g//L/EwAbAAoA/f/a/9f/5P/6/ykAMwAhAAMAz//F/9H/6/8cACMADQD7/+P/3//4/wUADwAKAPD/7P/y//j/CQANAP//9f/q/+n//f8HABMAEADy/97/2f/f//7/DAAQAAYA9P/0//j/BQATABQADwANAAkAAAD2//D/6f/0/wkAEAAZABEA9v/n/+L/6f8HABgALAAnAA4A/v/g/97/7v/4/wwADgATABgAHwAXAAIA9v/k/+b//P8MABIADQAAAPn/7v/6/xwAJgAoACAA/v/z/+j/6P8HABAAEQAIAPv/+P/4//3/DAAMAAEAAQD2//7/DQAPAAMA/f/s//L/CgAXACEAIgANAAQA9//9/wYAFQAVAA0A+P/4//T//P8GAAwABwACAAQABwALAAoAEgAEAPb/+v8AAAkAHAAYAAkA+v/u/+z/BQATABUACADq/9//2v/x/x4AKAAgABUA///x/+3/8//4//b/+v/6/wMABwAPAA8ABgABAPj/8P/9/w4ALQAvAB4ACwDu/+z/8v///w4ADQAEAP///v8CAAwADgADAPr/8v/4/wAABAARABIAAwD4//b///8VAB4AIgAbAPn/7P/X/9z/8//+/wsAFgAUABMABAD/////9v/0//z/AwAAAPb/+v/9/wQAGQAdABMA+//q/+j/+P8FABEAGgAeAAsA3//P/8v/zv/u/wAAHQAkABUAIQAoAB8AEQAIAOP/2P/m//X/EgAgAC0AJQD9/+b/0f/S//b/AwAZABIAAAD4//b/AAD8//7/7v/s/+z/9P8OACIALQApABIACADr/9//4f/m//L/+f8bACQAHAASAO3/4v/n//H/CwAWABIADAD4//L/6f/p/wkAEgAaABMA+v/t/+j/7P/x//n/BQAJABkAFgALAAAA9P/2/wYADwANAAgA9f/0//T/+f8AAAMABwAGAPj/8P/u//b/BwAKAAgAAAD7//r/+f/y/+v/5//t//v/BgAVAAwACwD3/+j/5v/i//H/9v///wcAEAAPAP7/+f/d/9f/6v///yQAKQAKAPX/zf/E/+H/7/8ZABwAHwASAPX/4v/Y/+b/AQAHAAEAAADv//H/+v8KAA4ADgD8//T/6//m/+j/8v///wMA+v/s/9r/1f/p//T/+f/9/wUADQAoACwAGwAKAOv/5P/k//P/EQAfACAADwDw/+X/8P/6/woAAQDm/9r/4//v/wcAEwAMAAwAAAAEAA8AFQAbABsAFwAMAPb/8P/y//n/+v/8//D/7////w8AFQAOAPb/7f/j//L/CAAMAA4ACQABAPf/+f/5//r/+/8JAAYADAATABEADQD6/+z/1v/V/+7/AAAaABUABAD3/+7/7//+/wUADAAQAPr/6P/h/+f/6//s/wAA/f8KABcAIAATAO//5v/k/+//AwAHAAQA/f/v//b/AQAHAAkACAD4//H/5v/m////CgANAAkA9//q//H/8v/3//n/+//1//H/9//8/wMAEQAMAO3/3//a/+P/8//7//z//f/9/wQABAAAAPH/6f/c/9///P8HABcAFgASAAUA9P/q/+P/5f/y//j//P/7/+3/8v/k/+X/7f/v//j//P8GAAIA9//t/+z/8v/3//v/AwAKAAcA/f/r/+j/8v/w//L/7f/3//3/CQAQAP3/7P/V/9z/7f/7/xYAGQAOAAQA4f/e/93/7f//////9//f/93/5/8DAAwAEQACAP7/9f/x/+3/6//k/+f/6f/5//n////8//n/6P/b/+H//P8DAAMAAgDp/+n/8v/8/wEA9//j/+T/6P/r//v/BwAOAAcA+f/w/+T/5f/y//j/7v/n//H///8PABIA9P/f/8H/wv/f//f/CwAQAAgA/f/k/97/4//s//z/AgD8//f/+v/9//7/+P/Y/8j/vv/L//H//v8SAA8A+P/p/9z/4P/y//v/+//t/87/wv/b//n/HAAgAAMA7f/U/9T/3f/j//H/+f/6//r/8//r/+j/6P/q/+T/0v/R//T/AQASABIA+f/o/9n/3f/z//b/AgAEAPb/+P/4//v/CAAGAO3/4f/P/9z/+/8BAPL/3//J/8z/+f8IABYACgD+//L/7v/p/+//9f/4//X/8P/m/+7//v8CAPj/5P/Y/8r/3P/6/wgACgADAPT/7//6//j/7f/t//D/6//p/+3///8GAAkA/v/d/9H/1v/k//7/CQAXABAAAgD7/+j/6P/0/wAABgACAOz/4P/u//v/EwANAPP/5//j/+3//v8NAA0AEADz//H/3f/o/wMAHAAcAA0A3f/P/9H/2P8DAAgABgABAPL/7v/f/+D/7//7/xEAEwATABkAGgAWAPL/4P/J/8//9/8KABwAFgAFAP//8//q/9j/2f/e/+z/BgAVABoAGwANAAAA4v/a/+///P8VABgA/P/w/+n/8P8FAAgA+P/v/9b/0v/P/+D/AwASABsAHAALAAEA8//5//D/5f/Z/97//v8TACgAHwDw/97/zv/R/9n/5P/y//b/+P/0/+7/8f8DAAsAEgANAPH/7v/w//f///8HAAYAAwD9//P/5//g/+X/9f/3//X/+P/+/wYABQAHAP7/9P/y//X/9f/s/+3/9v/8////+//4//b//f8BAPj/7P/a/9j/6v/6/wYACgAOAAUAAwDx/9v/zv/A/8b/5v/7/xUAIQASAAIA2f/T/97/6f/5//j/BgAHAAwACwACAPP/z//I/8r/0P/r/+3/AgATABcADwDz/+D/4f/h/9//2v/e/+X/EAAiACYAGwDx/+P/z//O/9T/1//s//3/HQAYAAMA7v/a/9b/3//k/+j/4f/s//L/DgATAA4ABQDs/+v/6f/s/+7/8v/k/+v/9f/9/wEA/f/u/9//0v/b/+v/7P/3//j/DAAVABwAFADu/97/2v/f//P/AAACAAoAAQABAPz///8HAAMA+f/n/87/2f/m//f/EAAXAA4ABwD8/+7/4v/j/+7/8v8DAAEAAQACAAkA///n/9r/yf/V//P/BgAYABYAFwAPAPz/8v/h/9n/7f/x//b/9f/2//v/DwAXABUAAADi/9D/y//U//H/AwARABcAFgATAP3/9v/r/+T/4f/r//f/BQAEAP3/9P/3//P/7v/b/8//z//X/wsAGwAxADAAEgAEAO//5//W/9H/5v/s//r//f/+/woADwAJAO//2P+1/7j/4f/7/yQAJwAWAAUA9//v//L/8//6//n/6v/j//T/BQANAA4A+//o/9b/0v/f/+j/9P/3//z//f8GAAYAEgAQAAAA9//b/9T/z//V//H///8XAB8AIAAJANv/xP+y/8H/9/8QACMAGgAQAAIAAwAKAPf/8v/U/9j/4f/z/w8ADwAGAPb/5P/e/+H/7P/5//n/8//v//3/BAAWABUA///w/+P/3v/o//P/AAAAAPT/8v/i/93/5f/z/wEA9//b/9L/0f/W//X/+/8HAAMA+P/w/9j/0f/R/9T/7v/y//v/+//8//X/6P/j/9n/3v/2/wQADgAMAPj/7f/h/+D/5v/f/9j/1v/t//3/FwATAOz/1f+6/8H/7P8KAC0AKQD2/+D/xv/O//P/DgAbABIA6//X/8j/1P/0/wAADwAOAOv/3v/X/93/8P/4/wAAAwAQABgAEAABANX/zv/Q/9r/7v/2//7/BQD///r/5f/b/9v/4f8HAAwAEwAKAPP/7//w//j///8EAAsABgDz/+z/5//r//H/+P/x//H/9f/4//b/8//0//j/AgAFAPv//f/6//3////9/wgAAQAFAP//8//s/97/4v/s//T/+f/+//j/+P/4//b/6//q/+T/4v/w//3/FQAWAAUA/P/e/9T/2P/u/wwAEQAIAPn/5f/m//n/AQABAPX/0//M/8v/2v/0/wMAEAAMAPD/2//h/+j/+f/4//n/9v/q/+7/+f///wMA/v/9//j/9P/1//D/8f/x//D/9P/3//v/9P/z/+f/0//T/9v/6v/4/wQADAAQAAsA+P/e/9f/zv/R////EgANAAAA5f/l/+v/9//9//X/4P/U/9D/2P/0////BgAFAO//6//i/+r///8BAAcAAQDu/+z/AQAAAAcA/P/z/+n/2//d/+H/5//x//T/+//9//n/9v/X/87/zf/U//D///8QAAoA9f/0//r//v////z/5P/W/9D/2v/7/wMA/v/7/9v/0v/L/9b/7f/2//r/+//u/+v/8v/8/wQAAgDi/9r/z//X/+j/+v8AAAIA4v/a/9T/zv/d/97/4v/e/+X/8f8MABIACwAFAOz/3v/e/+H/9P/4//n/+P/l/9j/zv/b//b/9//t/9v/yf+//+P/8v8SAA4AAgDz/+P/4v/f/+L/9//4/wIABQDy/+7/5v/q/+r/6v/V/9H/3P/i//v//v/6//H/4P/l//P/AgAIAAIA6v/b/9T/2P/y/wIADAAOAAsAAADZ/8r/wv/N/+//CAAuAC0AEwD7/87/uf/H/9n/AgATABoADwD2/+r/2f/d/+b/6v/t/+f/9/8GAAsADwAIAPv/5//i/+f/6P/5/wUA///9/+X/3//Q/9P/7//4//T/8f/5//v/DgAOAAIA7v/d/9z/9/8AABQACwDy/+n/1//b/9z/6P/6//r/+/8BAPz/8v/g/9//3P/q/wgAEAAGAPz/6//l/+H/5v/r//D/9//8/wgABwD8//r/3//d/9X/2//t//7/DQAIAO3/2f/P/9r/AgAHAAEA8v/O/9D/2f/v/xgAHgAMAPf/z//I/9f/6////wYACQAAAPD/7f/u/+3/7v/2/wUACAAAAPj/6v/m/+H/4//n//P/DwALAPn/5//P/8H/4P/1/xIAFwAQAAAA5v/f/9n/3v/o//T/DwARAAgA/v/2/+r/5f/k/+L/8v8IABIABwABAO//6P/o/+z/8//6//3//f/2//X/7P/z//v/8//s/+//6v/x/wIA///y/+v/6P/j//L/9f/5/wAABgAJAAIA///y//P/9f/2/+n/6P/7/wcACwD//+H/0P/K/9r/BAAMAA4ACQDv/+n/3f/i/+T/5v/6/wAAAQD6/+3/4P/e/+D/6P/z/wwAEgDy/+L/1P/T/+n///8WABsACgD3/9//zf/R/9z/BAAJAAQAAQDp/+f/4v/o/+3/+P/+/wkADgAQAP//9v/s/+//6//u////BQAAAPP/7f/j/+b/8f8RABEABQACAPn/9v/6//j/+////wcACwD///z/3//f/+T/8f8AAAYAEQAYAAsA+f/v/+3//v8EABcAHgAdABwADwADAPH/7//4/woAEwATABMABwD///v/7f/p//z/BQASAAoACQD//wgAFQAjABwADAD8////CgAhACMAGQAJAPP/+f/y//j//v8HAAkAEAAEAAQA9P/u/9//5/8EABcANgA8AB0ABADk/+b/+v8HAAYA///y//D/AAAKAAIA+f/1//r/+P/6//7/AAAIAAEA+//x/+7/8P8HAAwACwD6/8z/xv/Y//L/LQA6ACUADgDj/93/7f///wUABQDw/+H/+P8QADUAMwAEAOf/x//L/+j/+/8YABUAAgD0//D/9/8UACYAFAAFANv/2f/y/wUAKQAoABkAAwDl/93/4v/u/wkAEQAXABMABgAIAAwACQD5/+7/8v/6/xwALQA3ACYACQD8//T/+f8BAAsAFQAWAAwABwD+//v/9P/w//L/9v8JABgANQAyABgABAD1//X/9f/5/w4ADwAQABMAFwARAAsACAAHAP//5v/n//r/BwAcABkADgAHAAAABAAUABMACgAEAAkABgAFABQAHgAeABoAEAD9//f//P/9/xkAGwAXABUACgAEAPj/AQAWACIAJQAfAAoAAwD9/wEADgARABIAFAALAA0ADAAKAAkABgAEAAoAHAApADAAMAAkABAA9//y/wwAGgAhAB8ABQAIAAUADAATABsAGAAUAAwAAwD8//3/DwAVACIAHQAXAA8AFQAQABsAHAATAA8AHAAnACwAKAANAP//8v/y/wYAGAAqACMAIQAdABYAFgAaABIABgD//xEAHgAWABIADQAMAAYAEwAjACcAFgALAPj/9/8AAA0AGwAkACUAGQAXABgAGAAVABAACQAFAA4AJwAvACMAHAAMAP7/+f/7/w0AFgAhACIAGgAVABkAGgAVAAsA+//z//D/BwAgACsAKQAnABUAHAAZABQAAgD8//n//v8WACEAMAAqABQABAD6//7/DQAQABAADgAIAAgAFQAdACoAIQARAAgA9//7/xUAJgAvADAADwD9//f/AAAQABUAEAAHAPz/AQANAA8AFAASAAcACAAAAAQAFQAYAC0AKwAYABEABQARAB4AGwATABIAAQAOABQAGwASABAA//8BAPn/9/8BAAcAIgApACgAIgAQAPv/7f/s//f/BQAmACsAKwAiAAkAAAAAAP//AgAGABYAIQAgABkACQAAAP7/AgASABUAGAAcABgAEgAOAAwAEQARABEAGQAWABUAEgAWAAwADAARABQAEwASAAgABQAMABUAKAAkABcAEAD7//3/DwAVAB8AHgAkACsAHAAUAAUA/v/y//z/BwAZAC0AOQAoAB8ABQD9//L/9f8CAAcACAALABcAGAAjABkAEwALAA0AAwD4/wMAFQAhACkAJQAUAAkA/f///w4ACQAGAAgAEgAVABgAFQASAAQA/P/7/wIACwAgACMAJwAlABsAFAAJAAIA9v/4/wMADwAWACMAMAAvACIAFQAAAPn/CwAUACIAIwAUAAQA/P8AABAAIQAhACEADwAJAP3/BAAZACoAQQA+ACMAFAD7//D/+f/9/wgACwAiACcAHwAXAAIA+//2//7/CQAPABkAJQAiAB0AGQAZABQAGgAgACMAFwAKAOv/4//r//P/HAAnACoAHQD+//b/+v8EAAQAFAAkAC4ALQApAA4A/v8BAAAABQD//wQAAAAJABAAIAAkABMABgD0//r/+v///wIABAAGAAgAGQAfACgAIwASAP//6//u/wUAEQAmACMAFAAUAA4ABAD5/+3/8v/0/wEACgAQAA4ABQAGAAMAAwAIAA0AFAAQAP3/+v/4/wUAHAAjABEA///v/+v/AQAMAA8AEwAGAPr/8v/z/wUABQAHAAAA8P/q/+n/8//7/wIABQAIAAoABgABAPf/8P/u/wEADQAgACMAFwACAOP/1P/U/9//BwAUABEABQDq/+D/4P/n//3//f8WAB8AJwAkAP7/6v/i/+X//v8FAA8ADwADAPv/6f/l/+7//v8YACUAEwACAPX/+P/y//X/8P/l/+L/6f8SABwAGAAPAOz/2P/d//P/HQArACQABwDe/9j/5//8/xwAGQD4/+T/0//Z//H/9f8FAAYA+P/j/+T/7v8IAAsAFwAIAO7/8P/w//3/DwATAAEA///0/+7/7v/j/9T/y//j//T/GQAmAB4ACwDa/8P/xv/Z/wcAGQAeAA8ABQACAPT/7//m/+D/3P/v/wQADAAEAP3/3f/S/9X/3/8BAAgAEwAFAPX/5f/w//X/+//4/+r/4P/n/+n/+//8//v/9v/d/9P/3f/q/wIADwAOAAIA8v/u//b/9v8AAAcA/v/x//L/7f/q/+X/7//t/+n/6//t//b/BwAQABkADAD0/+r/6f/v//z/AwAPAA0A+f/m/8n/wf/P/+P/AwAOABIABwD1//P/8v/t/+v/7f/2//f/EwAgABwAFgDp/9L/rf+4/+H//P8dABYA+v/i/9L/0v/v//n/AgD1//L/9f8GABEAEwAPAOr/4v/k//H/DQAOAAkA///m/9//5//t//n/AAD7//f/5v/f/9z/3//z/wEAEAAVAAwAAgDu/+7/6f/u//r/AAD9//n/8//s//H/8f8MABAACwD3/9n/zP/X/+b/BwARABgACgD0/+r/4v/e/9z/5P/2/wEAEwAbABIA///Z/8j/w//L//X/DwAlACQA/f/r/9X/0v/b/+n/8//5//7//v/6//r/+P/4//n/+v/9//v/8f/v//v//P8GAPr/9P/r/+H/2v/p/+7/+//7//D/6//p/+3//P8FABAACADx/+X/2f/g/wEAEgAhABoA9v/h/9z/5v/u//L/5v/d/9v/5v8FAA4ADgAEAOr/4//d/+n/8//9/wIA+//g/+H/9/8DAAcAAADl/9n/yv/U//L//f8RAAcA8//i/9//4v/u//X/7f/o/+X/6//y//r/9//y/+r/5//j/+H/3v/i//b/BgAMAAEA5//b/9X/4P/v//j/8v/t/+n/6//x//r/AAD7//P/7P/f/9v/8v/9/wMA/f/h/9D/xP/L/+z/9v8LAAgA9f/r/+X/8f///wUA///y//D/8P/2//P/8//w//f/8v/r/+j/3P/j//D/+v/9//7//v/8//f/8//x//P/9/8BABcACwD3/+X/3v/e//v/CAADAAQABAAAAPT/7P/b/9T/2v/t/w4AIwAvACYA/P/n/9L/zf/x/wIAJAAtABcADgD0/+v/7f/3//v//f8BAAkACAAIAPf/7v/k/9z/9v8FABgAGwADAPb/6v/w/wgAEwAhABkABQD7//T//////wAA+//6//j/9P/5//3/CAAMAAEA//8HAAkA/v/v/9n/2v/q/wAAIwAoABUACADq/+L/9f8AAAYABAD6//3/CAASABMACgDn/9r/0//g/w8AIgAlAB0AAADu//T/+v8HAA4ADQALAAcABAARABsAIgAWAAEA8//c/+L///8MAA0ABgD3//L/9v/+/wcACQAUABcAIAAiABsACQDw/+r/9v8EABQAFgD///n/5v/j//v/DQASABQA/f/4//D//f8UAB0AHQAWAAgABAAHAAIABwD+/+3/6//8/wQAFgAkAB0AFAD0//D/9f8DAA0AEwATAA0A/v8EAPX/+P/4//z//P/5/wAA/f8SABEACQAFAP//+////wUAAQD+//f/9v8EAAwADAALAPv/9P/s//P/9v/5//b/+P8JAA4ADgAGAP3///8EAAUADAATAA4ABQD4//P/+v/+/xEAFAD7//X/4//d/+b/8f8MABEAEQAUAAEAAgD7/wMA+v8DABAAFwAnACcAHwAXAOz/4//M/8//5v/z/wIAFAAeABsADgD+/+r/5v/s//f/EgAWABwAJAAhABkA/P/y/97/2//0//7/FwAXACEAFQAIAAAA7//q//v//P8PABsAHgAWAAoACwACAAwADQAKAAgAAwD3//T/AwD5/wsACQAOABQACAAHAOT/5f/x/wAAAQAaABAADQADAAIA8P/s////AgAMAAkAEQAHABgAEgAIAP7/8P/o/+//9v/y//v/9//6//7/CAAJAAwAFQAOAAcA9f/t/+L/BgANACEAHQAaAAUA8v/0//b/+P/s//L/9f8UADMARwApABcA1P+6/8b/1P8LAB0ALAAhABkAEwALAAYA///4/+r/5//7/wcAHgAtACUAGgACAPb/9v/5/woAAwAKAAcACAADABsAGQAUABEA+v/u/+P/7P8JABwAKwAyADAAGAD+//n/7P/u//v//v8PABkAHAAUABUAEAAHAP//AAAFAAYACQAFAAMA+v/6/xAADwAOAAMA+P/5//j/+/8DAAoADwALAA4ACwD///7/9//6//j/AwAJABUAHgAUAAoABQD5//X/BAD7//L/8v8CAAEAAAD9/wIABQAHABAAFQARAA4AGwAZABUABgAAAPz/CgAZABQAEwAGAOT/4f/v//j/CwAPAA8AGgAQABIABwD+//D/8P8BABQAJgAzACUAEgDm/9f/4f/n//r/BAAbABwALAAkAA0A+P/q/9z/6P/7/xkAJwAcABcA+//u//n/CAAXAA8A+//v/+X/9P8UACMANAAsABYA/v/m/9b/6//4/xoAIQAaABQACQD9/+j/3//e/+P//v8YADEAJgAIAPf/8//0/wYAEgAKAA0AAAD6//3//P///wEAAgD8//b//v8TABgABAD2/+r/6P8IABkAJgARAOD/2f/j/+7/DQAVAA0ABADx/+z//f/7/wcABQD+//z/AwAMABMAEgD3/+j/4v/e/+3/BAAcABwAAQDy//H/9f8LABkADwD//+X/5f/2/wAA/f/+/9//1P/Z/+r/9P/3//b/8f/q/+P/+f/+/woADwALAAkAAgABAO3/7f/m/+D/6v/2/xQADwD9/+3/xv/B/9f/6f8UABgA+//w/+D/6v8GABMADwAEAOL/4P/v//v/+//9//b/8v/8/wUAEQAQAPX/3v/H/7//zf/l/xIAEgAOAAUA9f/v//L/AgAEAP3/8P/y//j//v/8//z/+P/w/+v/5//i/9z/1P/b/wIAHAA6AEIAJwALANH/y//Z//H/EwAUAAYA9//n/+f/5f/o/9v/3v/m/+3/EQAeACkAHgAKAP3//P/+//7/CwAFAP7/7f/v/wEABwD6//H/1//P/9r/7f8cACUAGgAOAP/////w//P/+P/3//z/AQAOAAsA+v/y/+r/9P8DAAkAAgD2/9n/4P/8/wgAHgAgABgAEAD6/+//4v/h//D/AQATABkADAAFAPn/+//q/9//1v/V//n/EwBDAEAAGgD8/8//xv/S/+j/GAAcABUADwD///z//v8EAAQADQAEAAEAAQD+//n//P8NAAwA9//z//j/AgAQABMABQD+/+j/5//4/wEA/f/4//n///8TABEAEgANAP//+f/w//H/+f8CABkAIAAcABMA8//j/9L/0f/q/wAAGwAiABkADAD7//v/7v/x/+P/3P/n//T/HQAoADMAIgD//+T/vP+q/7r/1P8QACMAIQAVAO//6f/w//b/+f/2//P/7v/s//n/FgAeAB8AFADd/8T/vv/L/+L/9/8JAA4AGAAcABAAAQDg/9X/3v/u/wkAHAAjABkADAD8//H/5P/W/9D/y//Q/+3/CAAnAC0ADgD3/8z/xv/n//f/CgAKAPj/9//6//n///////D/7P/o/+z/+/8JAB8AFwDz/+P/3//l//3/+v/m/9P/yP/X/wMAFAAjAB8A+v/o/9L/0P/l//z/JgAqABIA+P/c/9T/7v/x/wUABQANAAkAAgD0/+L/4//p//D/9//z//T/+P/7/wAA///0/+f/5P/v/+7//v8GABEADwD9//H/4P/h//r/AgAYABEABAD3/9v/0P/X/9//+f/6//L/8v/+/wgAGwAeAPz/5v/d/+b/DAAfACkAIAD9/+v/2v/Z/+n/9f8JAAcAAADz//j/BAAKAAYA/f/4//H/9P8EAAYADgAJAAwADwABAP//+f/8////9P/h/9b/6P///yYALgAbAAMA4//i//L/+f/6/wMABAAMABEAEgANAAUAAQD4//b/+v8AAAMA+v///wsAFQApACkAAQDs/9//4f/9/xAAFgAdABQACgANAA0ACAAHAPr/+f/z//P/BgAUACUAIQAIAPn/2f/h//v/BQAHAAYA+P/8/wQAFQAyADEALwAdAN//yP/F/9j/CgAgACQAHQAFAPz/7P/n/+3/8P/4/wQAGwAgABwAGgAJAPb/3P/b/+D/5/8JABQAKgAxACoAFADr/9T/z//d/wYAGQAmACAAHgAdAA4A/P/Q/8r/5P///ycAKAACAPb/7f/w//z///8BAPf/9f/0//X/9P/2//D/+P8EABIAFwARAAgA8v/k/8//2f/2/w4AKQAyABsACgDk/9L/zf/T//H///8JABQAGgAaABQABgDv/+L/5v/2/wYACgD///X/6v/u/wIACgARABEA8f/i/9j/2f/x/woANwA8ACEADQDf/9r/7f/w//7///8BAAQACAACAPP/6P/f/+T/9v/+/woABAD7//X/8v/1//v/BQAIAAEA+v/y/+f/5v/r//b/AQADAP7//f/4//z/8v/w/+b/7/8CAAwAFgALAOj/3P/e/+3/CQASAAQA+P/g/9//6P/w//3//P/+/wEA9//y/+3/9f/z//n/9P/3//r/AAD+/wIA9v/w/+z/8f/8/////v/6//v/9v/2/+n/2//Z/+v//f8MAA4AAQD5//z/9/8AAP/////2/+7/9P8RABgAIAAPAO//2P/J/83/5v/7/xkAIAANAAgA9P/y//v/BgAEAP3/7f/s/wUAEQAhABUA8P/i/+H/4f/6/wUACgAGAPb/+P8EAA4AHQAcAP7/5v/H/8b/5f/z/xwAJQAcABUAAQD7//P/5v/j/97/+v8LACoALQAYAAQA1//X//H//f8MAAsA9//z/+7/9/8OABIAFAAPAPv/+P/u/+r/9v8EAB4AJAArACMAAQD0/+3/5f/p/+7/BAAQACwANQAZAAIA5v/m/wAADwAdABYA/v/5/wcAFgAuACIABwD9//r/AQAcACgAHwAWAPz/5//t//b/FQAfABkACQDl/+T/AwAbADQAMwAaAAgA/P8CABUAHQAdABcA/P/t/+7/8f/8//z/BwALAAsADQACAPf/8//3/wIAEgAcAB8AFgANAAAA+P/m/+//DgAYABkAEQD8//b/9v/7/wAA+P/7//f/+P8AAAkABwD3//b/+P/6//v///8CAP//BwAKABEADwAJAP3/8f/r//j/AgANABMADgAEAOb/4P/c/9//7//1//b//P/8//r/BwAJAAMA9//u/+///f///xIABADq/97/5P/r//L/9//8//r/5v/k/97/2f/z/wwALQAwACAACwDg/9X/0//Y/+3/AAAdABkACwAAAOz/4P/d/+X/4P/p//r/AQADAAoAAgADAPL/9v/6//b/+//5/+7/6P/v//D//v///wYABQADAPz/8v/l/+D/5P/2/wQAFQAWAPn/7f/W/9j/2v/j//X//v8WABYABgDz/+3/9P/7/wMABwD3/+z/7//6//r/+P/0/+r/6/8AAAMAAgD7//D/7P///wgAEQAPAPz/9P/l/+b/+f8JABsAEQD9//D/6//r/wEAAwABAPH/8f/m//f/AAAJAAQA8P/n/+H/4f///wwAHAAZAAoACAD9//7/+//9//j/9v/7//j/8//v/+7/7P/1/wMABAADAPn/8f/l/+z/+v8LADIAMgAbAAQA4v/b/+X/+P8NAA4ABwAEAAEAAwAKAA0A7f/m/97/6f8KABoALgAfAPX/5P/V/9z/AwAVACQAGgAHAPn/8//3/w8AEQARABUADgAHAAcA/P/z/+7/8////wgAEQAUAAsA8v/x/+3/7/8CAAsAFwATAAkABAD1/+7/9P/5//b/+P/8//z/CwAQAAUA/f8EAAEABQAGAAEA//8AAAIABQAGAAEA/v/u/+7/9P/1//X/7//4//P/AQAHAB0AGgAKAP7/5P/f//D/CQAiACQAIQAZAPT/8f/8/woABgADAOz/6f/8/wkAGAAXAPb/6//c/+H/BQAPAA4ABAD//wMACgAVAA4ACQACAP//+f8CAAAABQD7//v///8BAA0ACAAFAPb/3//c//L/AgAkAC4AHwANAO3/5P/t//f/FgAZAB8AFAACAP//+v/7//T/9f/y//r/BQAMAAsADAAMAP//+v/3//H//P8OACAAIAAdAPz/+P/q/+b/9/8FABoAGQAWABEA+//w//H/+/8LAAUA/P/2//H/7v8GAA4ADAAJAAUAEAAbACAAGgANAO3/4P/k//T/EwAcABEAAgD0/+//7v/u/+f/5v/t//3/GQAXAAEAAAAFAAYACwAHAO//6P/4/wUAFgAYABIACQD5//b/8v/v/+7/6//g/+3/+v8LACYAKgAbAAAA2v/S/+b/9v8UABgAEgARAP7//v/z//D/9P/v//r///8CAAQA9v/1//L//P8KABIAFgANAPb/7//r//D/+////wQACQAKAAUA8P/z/+P/5////wwADQAYAAYA/f/r/+H/6f/u/wYABwAMAAUABAD1/+r/5P/s//D/AAANAB0AFgAIAPz/8P/g/9v/2P/e/+3/GAAjAB8AEQDt/9r/1v/i/wAAEAAYABwADwAJAP3/7//w/+v/8v/t//D/7//p/+n/+v/+//7/+f/x//L/CwAWABwADgD8/+7/3v/j//z/CAAWABAA///r/9j/3/8BAA8AIwAfAPn/5//X/+X/AAAMABYAFAAEAPj/4//m/+T/5/8HABEAHgAXAPr/5//e/93/+v8EABgAGwAKAAAA/v/7//T/9f/y//b/DAAWACwAGQDw/9r/1f/e/wAAEQAPAAEA6//g/9v/3//1/wMAEQAZABUADQD7//b/9//6/wAABwD9/wAA/f/z/+f/6f/p/+X/8//6/wwACwAMAAgA/f/7/+3/4v/r//z/FQAeABMACgD6/+///P8AAAUABAADAAYADgAMABMAEwACAPz/5//e/+3///8dACgAIgAKAOb/1//g/+7/IQAgACQAGAAQAAUAAAD///7/9v/4/wIACgAHAP3//P/v//X/DQAbABYACgDo/+D/6P/3/x4AKwArACEA/f/3/+3/7//7/wUADQAQAA0ADwAYAAoA8v/s/+X/7f/9/wkA+P/6//T/9/8QABsAKQAnAA8A+v/f/+H/6P/t/yAAIwArACIACgD4/+H/2//a/+f/BQALABUAFwAMAAcACgAJAPr/9P/w//L/CAASACAAIAANAPj/7//z/wEACgAKAAYA+v/8//n//v8GAAgA/v/4/wAABwAHAAkACAADAPv/+v8AAAUAIAAsACgAFgDq/87/u//L//X/CgASAA4AAwAAAAEA///4/+3/9P/w/wIADQAmACEAAQDx/9//5P/w//7/AAAGAPf/+f/1//j//f8AAPz/+f/5//r/7v/0/wkAFAAUAA0A/f/2//b/+P8CAP//DAANAAIA+//x/+//5P/m//b/BAAUABoAFQALAO7/3//f/+T/AQAEABUADgALAAYA/P/6/+z/4P/f/+H/8v/+/xAAFwAJAAcA+f/1//P/8v/5//z/AQD9/+//8P/l/+v/8v8CAAQAAwDe/+D/4f/5/wgADgD2//T/7v/4//3/9f/k/+T/4//n//D/6//i/+n//P/2//j/9P/z//H/7v/y//H//f8MABsAEQAKAAUAAQDv/+v/5f/p//H/9/8FAAIAAQDz//H/8f/2//D/8f/y//L/8f8GAAoADgAFAOT/4v/t/wMAKgAwAA8A7//O/87/6//7/w0ACwDy//D/7f/u/+X/5f/z/wkAIAAfAAgA/P/n/+b/9f/9/wkADwASAAwA/v8BAP7///8FAPr/9//0/+j/6v/5/wAADgATAA4ACAD7//T/9P/9/wIACQD9/wIA/P/7//3/+P/2//H/8//z/+//+f8QABoAHgAXAAYA/P/q/+n/7P/x//3/DAAfABoABgD4//L/8//x/+z/1f/U/+b/+f8aACcAGwAIAOz/6v/1//f/AAD9/wMABgAWACYAIwATANz/zf/B/8z/AAAXACQAFQDx/+r/8v8AAAkABADu/+X/7v/3/xAAFwATABUABAAAAOv/7v/6//b/5v/l/+7/+f8OABkAHAARAAAA+f/j/9//6P/x/wIACwAGAAUA/P8AAPf/9P/U/9T/3//1/xEAEwD///v/9v/+/wMABgD2/+//7f/0/xYAFgAPAAIA5P/e/9T/2v/0//7/CgAKAPn/8f/m/+3/6P/o//j/AgAPABMAEwAFAOv/2v/S/9X/5P/x/wwADgD+//b/5v/g/+X/5P/k//H/CgAOAAsA/P/s/+n/6//0//D/9f/k/+r/6P/o/+z/7P///wkAGQAQAPX/5//d/+X/CQAWACEAIwANAAMA4P/X/9L/3v/p/+///v/8//X/6//Q/8v/1v/t/xwAIgAaAAcA9v/v//T////+/wEA8f/w/+f/4//s//f/9f/2/+n/2//J/9P/+v8CABkADwAJAAAA9f/r/9P/yf/W/+n/AQAUAA8ACgDp/9//3P/Z/93/6f8HAAUADQAUABYACwDz/+X/1v/X/+j/8/8FAAgABwABAPD/6//g/+f/+v////r/8P/z/wAABwARAAgA+//i/+T/6v/o/+3/6v/r//P/CQANAAYA+//n/+D/3P/h//P///8OABAA9//1//D/8P/4//z/AADw/+X/5P/u//L//v/y/+v/5//n/+7/8f/0//j/+P/9/wMADAAIAOv/4v/b/+X/CgAUABAAAADj/+T/6v/7/wgABQD2//P/8P/w//b/+/8CAAQA8v/m//T/DgAlACoADQDu/8b/z//+/xcALAAeAPj/5v/i/+v//v/6/+n/5f/5/wgAJwApAAwA9v/b/97/8P/+/wUADAADAAYA+v8IAPz/+f/2//n/8f/y/+7/8f8EABAAEAAGAO//5P/6/wEAFAAMAO7/5//s//b/+//7/+L/5P/z/wQAFAARAAUA/v/w/+z/8//2//z/AwAJAP7/7v/u/+L/3v/m//H/DQAXAB0AFAAFAPz/7//r/+f/7v/3/wMAFgASAPn/8v/r/+z/9v/8/wMAAwAHAAsACwABAPn/9f/x//f/7f/1//L/9/8CAAcABgABAOf/5//2//3/BwAMAAcACwANABEAEAAIAPL/8f/x//v/CgALAAgA/v/4//j/AQACAPn/9P/t/+3/9f8EAA8AFwAOAAAA7P/k/+T/7P8HABEADQAIAPz///8HAAMA8v/m/9f/2v/z/wcAHQAkACMAHADw/93/yP/X/+7/AgAbACIAHAAWAAsABADt/+P/1P/a//r/DwApAB0ACwDy/+X/6v8AAAcABQAAAP////8VACEAGgAOAPL/7f8CAAkAHAAXAPz/7P/q/+7/AwAQABUAEAAIAPf/6f/r/+//7//9/wUAHgAlACMAIwAQAAQA7P/q/+P/6v/6/woADgAHAAAA//8LAAkADAAGAPP/7f/z////DAARAAoAAgD5//X/9v/2//X/8P/y//r/AwAHABQAFgASAAkAAQD3/+//7f/z//P/AgADAA0AEwAPAA4A8P/h/9v/3P/y//z/EwAPABQAFQAYABQAAwABAOH/3f/w/wIAHAAmACIAEwDs/+H/1v/i//7/DgAXAA8A8//u//P//P8JAAcAAgD7//T//P8DAAgAFQASAAMA///8//f/8//1//P/8f/x//f/DQANAA8ACAD6//L//f/6//r/+P8BAAYABgAPAA0ACgD7/+//6v/q//f//P8QABQAFwAQAPr/8//1//T/8//s/+P/5v8CABYALgAqABwACQDv/+///f8IAAUABgAEAAcAFQAWAAIA9//s/+r/9P/8//z///8DAAYAGQAZACAAFQAGAPn/7//s/+D/7/8JABUAJwAnABYABADr/+r/8//3/wAACgAIAAYABgAFAPX/9P/3/wIAAgADAAAA/P8EAAUADQAGAAIAAQAAAPr/8P/z//P/9P8HAAoAEAAYABAADQAEAAcA7//u/+f/7f8PABsAIwAfAP//+P/u/+7/9f/9//r/+f/z//H/AQAGAAsAAQDz/+//8v/5/wYADAAZABoAEwAJAPf/5v/d/+P//f8EABYAFAAGAP3/7f/z////BQACAPf/8//1////DQAXABoA+f/1/wIABwAZABsADwD8/+P/4v/7/w0AJwAjAAMA6//A/7v/4/8FADQAQQAsABwA8f/k/+P/7v/7/wAADQATABcAFwANAAUA7v/l/+D/5f/u//X/FAAOAAQABwAKABEAFgASAAUA9v/l/+z/AwAaACsAKwALAPj/1v/U/+D/5v/2/wAADgAXAA8ABgADAP7/8v/2/wIABgARABQAEAAPAAsACAANABIAGAAVAAQA+v/n/+f//v8HABMAHAAHAAkA9//0/+r/8f/x//f/FwAhACQAGgAMAPn/4P/e/+n/8f8NABYAHwAYAAYA9//p/+f/7v/x//f/+P/2//b/BwASAA8ABAD1/+v/6f/z/wYABAAEAAYADgAHAPf/8f/s/+3/8f/0/wMAAAD+//v/9//6//b/+f/w//j/+P/9//7/+P/t/+7/8P/3/wkAFwAQAA4A+v/n/9//2P/h//T/DAAYABIACAD4//H/7f/x//j//P8AAP7///8IAAsADgD7//H/2v/Q/8P/0f/z/wgAHAAcAAQABQD9//v/5//i/9L/3//9/wwAGAASAAoA/v/h/9z/0//a/+f/8v8OABQAFAARAPj/7//p/+n/+P8BAAsACAD2/+7/7f/1/wYACgD2/+3/2f/V/9//7P8RABgADgALAPz/9f/n/+b/4//i//H/+f8FABIAGgAWAPr/7P/T/9v/7////xMAEwABAOn/1v/Y/+///v////n/8f/p//L//f8SABIADAAFAPL/7//u//H//P/7//b/8v////3/FgAUAPv/5//O/8v/7P/+/xIAGwAVABAACAD///n/9f/q/+r///8MABEAEgAIAPf/4//n//L//v8UAA4ABAD///v//f8BAAwAAgD///T/8v/w//n/GwAfABoADADz/+X/9f8DABsAFADw/9r/z//f/wQAFQAZAA0A8//w//X//v////7/9P/v//3/AwAUABYACwD9/+3/7f/1////FQAQAA0A///s/+j/8//+/w0ACgDw/+j/7f/9/w8ADwACAPz/8v/4//r/AADv/+z///8DABUAEAADAPf//P8CABEADgAGAPj/5//q////CAABAPf/4P/i/+f/9P8IABMABgACAPP/8//8/wMAGQAXAAcA+//o/+b/6//7/wcABQDu/9v/3P/c/+7/6//3//r/AAAMABUAEQD1/+v/5f/k//f/AgD///7/+P/w/+b/4P/i/+P/8//6/w4ABwDu/+P/2P/Y//D/+f8OAAoABQD1/+T/4v/r//D/9P/5/wQABgAAAAEA8P/o/+f/5f/t/+//AwAJAAYA/P/l/9n/2//k//P/+f8AAAYA+//6//b/6//j/+b/+P///wUAAQDt/+P/4P/o/wcADgD9//b/4P/c/+P/7v8BAAIABwD+/+b/5v/h/+f/8v/7//D/9/8CAAwACQADAPX/6f/p/+T/6//u//v/9f/y/+v/7f/v/xIAFQACAAkA+//5//7/BQDx/+3/+f///wcA/f/8//H/3//V/9L/zv/S/9//8f/+/w8AFwD8//r/7f/f/+L/8f8BABMAKwAnABgACwD2/+7/+//3//b/9f///wYA/P8FAP//9v/o/+7/7v/w//D/7//t/+3/BAAPACEAKQAcABQA8//b/9L/2v/8/wUAKgAuABcADQDw/+z/2f/a/9r/4f8AAA8AGwASAP//9f/s/+7/9//w//z/BAAQABUABQD9/+X/4P/j/+3/6v/n/+L/5//7/wkAGQAXAB0AGgAJAAsADgAQABMADQADAPj/7//r//z/BQAHAAQA7P/l/93/4P/9/wEADgAUABIADwAKAAkACQAOABkAHAAdAB8ACgD7//r//P/2//7/CAAHAPr/+f/j/93/7v///y8ANwAzABwA5P/R/8b/3P8JACIAOQArABgACADk/93/3f/p/wAADAAjACkAHwAKAOr/4P/g/+z/EgAaABIADQD8/+//9v8BAAwACAD5/+3/4//q/wAADQAXABQADAAGAAMACwAKAAoA/f/8//n/CAAaABMA///t/+P/2P/j//f/CgATAA8ABgD4//j/+//9//r/+P/7/wkAGAAbAAkA/P/b/9T/6f/3/xYAHgAKAAYAAgAAAAMAAAD5//D/9P/9/xkAGQAUAAcA9P/r/+X/8P/0//v//f8DAA0ADQDt/+H/1P/R/+T/9P8dACQAFQASAPL/5//j/+3/AgAMAA4ACAAFAPn/+f/2//P/6//e/9z/5//y//j///8GAAAABwD///H/6P/P/8n/3v/y/xQAIwAvACEA/v/n/8//yf/G/9b/9/8HACEAJgAOAPj/zf++/8D/xv/p/wEAIQAoABAA/v/P/8z/0//k//7/CQD///3/6v/p/+P/3v/a/97/9f/7//z/+f/n/+D/2P/X/+X/8v8KABEACwD//+n/5P/l/+v/+v/9//r/8f/+/wUADwD//9//0//A/9H/7/8HABcAEAD8//b/8P/s//P/9P/s//P/9//5//r/AAARABoABwD7/9v/0v/d/+3/CQARAP3/7f/u//b/DAAHAPL/4//b/93/BQAYAB4AFwANAAIA8f/o/+z/9P/6/wMABwAPAA8AEAAEAPz/3P/S/9v/5P/+/wYADgAIAPb/4//Z/+T/+f8FABoAHgARAAQA9//v/+7/7v/4/wAACQAIAP3/9//+/wUADAAHAPv/+v/0//P/+f/6/wYADQAPAAYA9P/n/+f/9f8UACEAGwASAOv/3v/s//X/AgAEAAAA+P/6/wkAFgAYAAQA/P/l/+H/9P8FABAAGAATAAIA+v/6//X/9P/3//T/9f/5/xsAHQAJAPz/6P/e/93/5/8HAA0ABAADAPn/9/8NAAYA/v/1/+f/4P/o//L/EwAYAB0AEADz/+n/8v/r//L/6v/q//D///8QACUAHwD5/+b/1f/V/9v/7/8JAA8ACwAMAP///f/3//H/6v/h/+L/5v8OACMAMgAsAPv/4v/B/8P/6v8AAAsADAD4//T///8CABQAAwDf/87/zP/f/w0AIgAkABEA4//S/9D/2f/8/wkAFgAOAP//8//4//3/CAADAPf/+P/l/+f//v8AAAAA///x/+7/6P/0//v/+//y//j/+f/7/wQADwAPAAIA6f/j/+z//v8bAB4AFQADANr/0P/X/+f/BgANABIACgDr/+D/2//b/+v/9/8OABQAGwAXAAoA9f/m/+X/6v/u//n//v8BAAYABQD9//H/7//n/+r/7f/2//j///8HAAUA/v8CAPz/9//2//H/6f/e/+j/7/8PABIADgARAPb/6f/d/9f/3//o//7/CQAPABUABAD7//f/+f/z//L/BwAJAAUABwAEAPv/8v/2/wMAAQD///z/7P/v//H//v8LAA0AAAD3/+X/3//s/+7/9v/5//z/+/8IAAcA9//8/w0ACAACAAAAAQD+//z/BAAGAP//8f/1//r/+f/x//j/9P/u//L/7v/m/+T/+v8IACYAJwAKAPf/3//f//D/+P8PABQACgAGAPT/6f/s/+3/9f/z/wMABAD+//v/8f/3//L/9P/8//v//f8HAAkACAAFAAAA+f///xUAGQAGAPv/8P/v//f//v////3/+v8CAPv//P/y/+//9//6/wUAAwD3//T/7P/w//b/8f/r/+v/8P/7/wkABgAEAAAA6f/q/+b/6P/1//7/AwD8////+P/6//j//v/3/9j/zf/N/9z/BQAcACMAGQDy/97/wP/I/+f/9P8JAA0ABAD9/+j/4P/U/9j/2f/j//X//v8DAP7/9//x/+j/6/8AAAsACAD+/+j/1v/T/9b/8/8CABQAFgADAPb/0v/K/8j/0P/2/wMAHQAgAAgA+P/n/97/4P/k//D/8P/2//r/7f/q//X/6v/m/+D/6f/m/+//8//s/+j/8//1//3//v/y/+//3v/Y/9v/2v/v/wEAFQARAAsA+//j/+P/7//0//X/+/////v/7f/k/+P/3P/q//P/AAD6//n/8P/c/9f/6//z/wUACQANAAsABgD6//P/5//d/+P/+v/9/wQA/v/v/+j/6f/q/+T/7f/p/+z/+f8DAP7//v/8//j/8//t//v/9//w/+//8f/s/+//7//v/+T/5f/p//L/+P/8//j/5f/g/+3/+f8MABMAGQAHAOv/4f/f/9//8P/2/+7/7P/0//n/8v/2//D/5f/Y/9v/8P8DAB0AFgAKAPf/2P/W/9r/6/8AAAgABQAHAPz/+v/v/+r/0v/N/9P/4f8LABgAEAAAAN//1v/n//r/BQD//+X/2v/E/8//AwAWACkAGQDs/9b/wf/E/+r/9f8KAAoAAAAAAP//AQD+//H/zf/G/9P/6P8MABoAFAD6/9f/0P/b/+b/+P/t/9L/y//V/+f/GgArACMAEADk/9H/yf/U/+L/7f/z//X/9//7/wEA/P/X/7//t/+//+v/BwAbABQA8f/b/83/zP/e/+L/6f/v//P/9v/9/wAA9v/q/9j/0v/Y/+L///8NAA8ACAD6//L/5P/h/+H/5P/h/+X/9P/8/woABwD9/+H/xf/D/+f/+/8YABgA+P/v/+P/8f/5////AQD4/+v/5P/j/+X/7P/s/wEAAQD5//P/4P/d/8//zf/Y/+n/CwAlACQAFADg/83/yf/S//D/+v/+//3/8//k/+L/2v/f/+D/5//t/wgADgD///L/1f/I/8D/3/8MACEAHAARANz/x/+z/8L/6/8DAB8AHAAFAPH/2f/Y/9T/1f/X/+L/+f8FABMADAD5/+v/2f/f/+T/7v/l/+X/6f/s//L/8/8AAAEA8v/s/9P/zf/W/+b/9v////3/+f/r/+T/2P/Z/9b/2P/Y/+D/9P/5//j/+f/g/+H/1v/W/+H/5v/q/+3/8f/0//v/+v/s/+T/1f/a/+r/6f/h/+H/2v/Z/+T/8f8CAPz/3P/G/7z/xf/h//T/DgAAAOH/1f/X/93/4//l/9v/2v/c/+f//f/+//f/7P/d/9L/4v/q/wcABwDw/93/0f/S/+r/8v/0/+r/0v/M/+X/8f/+//n/8//m/+T/4f/n/+r/8v/4/+7/4f/U/9D/1//Y/+n/6f/u//L/8//x/9z/1f/I/8j/4P/z/xIAHQAOAP7/0//J/9j/4v/0//b/7v/g/8r/xv/c/+T/6v/j/9r/1v/j/+z/+P/2//H/9P/y//T/8v/s/9v/0v+//8b/4v/z////AwD3//T/4P/U/8P/vf/V/+f/GQAhABYADADW/8f/uf/C/+7/AAAUABIA+f/p/9D/0f/Y/+D/4f/n/+z/7//8//n/+f/u/+n/4f/c/9//5//2//7//v/3/+v/6f/x//j/9//n/+H/2f/d//H//v/+//z/6v/i/9r/4P/4/wUABQACAPb/7f/k/+P/7v/v//H/9f8IAAsABQD6//D/7f/q/+f/8//5//n/9//3//L/5f/k/+L/6P/t//D//f////3//v8BAP//8v/x/+b/5//w//n/BgAPAPr/8P/h/97/2v/a/9//7P/4/wAAEgAOAPH/5f/e/+D/7P/z//X/9//8//j/7P/p/9r/3P/i/+7/9P/1//H//P8BAPT/7//z/+T/4P/d/9z/6//s//n/+f/x/+f/2P/U/9X/2v/m/+z/+P/z//j/+f8DAAIA6v/i/9f/3P/1/w8AIAAaAPD/3P+3/7T/zP/e/wEACgAPAAgA5f/e/9z/5P8IAA4ADAABAO3/5//s/+j/7P/o/+f/7f///wEA6v/q/9//3P/l//T/CAARABEADQD1/+j/2f/b/9z/4//7/wEA/P/4/+H/6P/h/9//4//m/wQACwALAAwA/f/x/+v/8f/x/+n/3v/a/+P/5v/1//X/7P/n/+//+f/9//X/7//o/+b/7P8LAAwAHQASAPT/6f/f/93/7P/0//z/+f/t/+X/4//s//T/+/8GAPv/+f///wEABAARAAcA8v/m/97/3v8AAA0AGgAMAOv/0//E/8v/6f8CABoAGwD1/97/xf/K/+//AgAfACIAHQATAPP/8f/f/+f/8P/6/xcAGgAIAAEA3P/J/7z/yv/6/wwAIQAeABQAAwD2/+3/+f/v//L//P8bACgAJQAaAOr/0v+4/8P/6v/+/xUAHwATAP3/5P/m//v/BAATABIAFAALAAkADAAPAAkA7P/m/+X/5f/t//r///8AAPb/9/8BAAYAAQD+/+z/7v/5/wYAHQAiABAAEQAJAAIA9//3/+j/5f/3//v/CwALAP7/AwAOAA8A9//x//P/+P8NAB8AKgAiAAEA9//o/9z/5v/z/wYAEgAaABkABwAAAPT/+v8MABYAFQAVAAMA+v/3//f/AwD9//z/+P/8/wQA/f/5/+r/6P/y//3/EwAgABAADQD+//f/+P8FAAoAGQAlACAAEQAEAO7/6v/2//n/AgD9/wMABwAHAAYADwASAP3/9v/6//j/AwAEABEAEgAIAA8AGQAZAAYA///u/+b/+v/9/wQACQD4//j/+//7/wMACQAOAAQA+v/1//v///8MABQAHwAXAAEA+P/u//L/9f/+//3////v/+3/+f8BAAQADAAUAA8A/v/3/wMABgAQABYAIAApACMAGADr/9v/w//I/+j///8VABgAFAAFAPP/9P/1//X/9v/4/woAGgAuADAADwD7/9j/0v/e/+7/9v8BAAgADwAPAAwA/v/1/+j/6//4/wUAFQATABEACwD7//b//P/9/wIAAQD7//T/7P/x/wEAAwAMAAoABgAGAP//9//0//f/CgAQABQACAABAAYAEwAWAAwABADy/+7/7v/w//f/9f/6//v/AAAGAA4ADwADAPr/8//4/xIAGwAgABYAAQDt/+f/6v/4//r/BQAGAPj//P/+/wIAEQAQAAUA+v/0//b/BwAVABYAEgD9//X//P/3//r//v8HAAQA8f/p/+v/8v8DAAcAEgASAAYAAAAAAAAACgAHABcAEgAIAP//7//r/+j/6P/5/wYAFwAXAA0ABADv/+H/6v/1/wQACAAAAP//FAAdACYAHQABAPb/5v/p//n/+/8EAAcAEwAaAB4AFgDs/93/yP/T/wEAHgAxADAAGAAHAPv/+/8EAAEAAgD4//f/9f8WAB0AIgAdAAYA9P/e/9v/6P/3/wcAFAAhADAAKAAaABMABgDw/+//8f/y//z//v8CAAoACgADAPX/8v/t//P/AgAGAPr/8v/y/wEAEwAXAB4AHQACAPX/4P/d/9z/5f8OAB8AKAAmAP3/6f/N/8j/3f/3/xkAKgAwACgAEwAPAAAA/P/g/9v/2v/p//7/DgAZABQA/P/z//3/+//2/+//8P/w////CAAEAAAABQAJAAwACgD8/+f/5P/t//b/AwABAAgA+//0//P/8f/y//H/8//4////AQALAAoAEAAVAA8ABwDx/+f/2v/j/////f8HAAYABwABAPL/8v/y/+n/4P/g/+v/8v8MAB0ALgAwAAwA+P/T/9P/5v/8/w8AFQD///v/9P/y/+3/6v/k/+P/8f/6/yoAMQApABwA6//b/8r/1P/u//T/CAAPAAwAAADq/+f/4f/g/+7/8P/s/+b/8v8AAA0AEwD9//H/4v/g/+z/7/8IAAIA9P/q/+z/4//o/+j/6P/o/+r/9v8BAAoAFAAVAA4A/P/o/+r/4v/m/+X/5//o/+f/9P/6//v/8P/j/9v/4P/k//f/AgAJAAQABgADAP//8f/W/9P/5//v/xYAHwAZAAEA2P/H/7z/wP/T/+v/FAAbABMABgDp/+T/5v/p/+3/9P/0//3/CgALAP//+f/v/+z/AQAHAA8AAwDs/97/3P/i/wsAHAATAAcA5P/Y/+D/8f8FABQACgAGAOz/5f/d/9z/5v/x/wgADAAMAAkA+f/y//D/7f/w//j/BwASAP//8v/a/9f/4v/y//n/8//z//j/AAAPAA0AAADe/9H/1v/u/xcAJgAhAAYA1//L/+D/+f8RABIA+f/k/8X/yP/r//T/9f/y//H/8P8AAAkADQAKAO7/2f/O/9f/+f8PABoAGQD0/+b/3f/b/+T/4P/o/+7/DgAZAB0AFgDz/9z/xf/G/+3/AgAwADcAIAAVAPH/5P/c/+D/7v/2//n/8P/x/+//8f/3/wQA/v/u/+7/7f/2//j/+v/y//X//P8GAB0AGwD4/+j/5f/x/xMAFwANAPf/y//K/+D/+f8aABgABQDw/9j/2v/0////EAAIAPz/+P8FABQAEQADANz/0v/J/9z/GQAtAEAAMQD5/9z/yP/E/+H/9P8PABgAHAAVAAMA+v/k/93/2//p/woAGAAmABsA9v/g/9n/3P/8/wYAHAAPAPj/8v/9/wEADgAIAPH/7f/o//D/DQAYAAoA+//Z/9v/6v/7/xsAIgAOAPH/tv+2/8//7P8eACoAGwAKAPb/8v/6//7/BAACAO//8v/6/wgACQAJAPj/4//S/9P/4P/t//P/8P/p/+v/8v/1/wIA///q/+T/3//s/wMAEAAdABgAAAD2/+P/5v/q//P/4v/f/9f/3v/s//r/EAAUAAsABwDx/+7/4v/c/+D/6P8BAAgAEAAOAAcA+//u/+z/5//f/9j/2v/2/wYAIQAlABkABQDU/9L/3P/s/wEADwAeACEAGQAPAPr/+f/y/+7/4f/g/+X/9/8PAB0AGQANAO//4//W/9n/7//0/xEAFgAbABcAAwD4//r/+P/7////AQACAP3/+P/v/+3/5//t//7/CgALAP//7v/m/9z/5f///wgAFwASABMABADr/9v/7f/+/w8AIAArACAA9v/l/8z/zf/r//v/DQAUAAsACQAAAPr/8f/u//T/+v/4//f/6//r//f///8GABQAEwATAAMA+//s/+j/8v/3/wcABwADAAoA9v/3//T/7f/v//j/DAAPABoAIwAqACAA/P/0/+D/3P/o/+3//f8EAA4AFgAVAAsA+//x/wAAAAADAAcAGAAWABMAEAACAP7/AAAOABoAFgD5//X/+v/6/w4AEAD7/+7//f8BABsAGQAYABYADwAQAAcAAgD+/////P8BAAIADAAPABkADgABAPD/6//3/wIAGwAlACUAIAARAAsA6v/h/9//6f8VACQALwAkABYAAgDp/9//5f/y/wkAFgAgABoABAAAAPb/9//z/wAADQAVABcAGwAZABIAAgD1/+v/5v/9/w0AJAAfAAUAAgDw//D/9f/6//X/7v/v//X/FAAiAC4AKAATAPr/2f/b//r/EQApACkAFAAJABMAHAARAP3/4//W/97/6v8OABQADQANAAMA//8BAAAA///+//r/+v8EABQANgBIADoAKADt/9L/wf/R/wAAGwA0ADAACwD0/+n/7v8IAAoADAD///v/+/8HAA0ACAAJABIAHwApACYAAgDy/+P/4v/s//v/GAAiAC0AIwAEAPH/6//r/+//+P8GABEAGgAmACcAHgDw/+T/0f/Z//b/AwATABEADgANAAUACgAQAAUA5//d/9X/3f/9/w8AKwAjACQAHAD9//P/3//k//D/8//6/wMACAAQAA8ABQDl/+H/2f/e/w0AGwAZABIA+//6/wgAFgAoACMA+P/r/8j/x//k//v/HAAbAA4A/v/q/+T/5f/r//f/+v8LABAAJgAsABkAEgDu/+H/2P/m/wcADAAQAA8ABgABAP3/+P8CAPj/9P/7//n//P8NABEAFAAHAO3/7f/9/wQAHAAZAAAA7//l/+3/EQAdABsAEgACAPL/7P/w//f//v8DAAQACQAMABQADgAEAP7/8v/y//f/+f8HAAkAAwD9/wEAAAD8//n/7P/q/+X/8P8JAB4AJQAfAP3/5//Y/9//+f8NABQAEADy/+3/4f/p//v/AAD8//b/9v/8/xIAGAAbABMABAD9/wIABQAMABAAAgDu/+X/5//t//r/CAAGAPD/5f/r/+r//f8EAAoADgAHAA8ACQAFAP7//f/4//7/+v/6/+3/7P/2/wUAFwATAP3/5//Z/9X/7v/5/xgAHwAYABEA///3//D/8//4////AAAPABgAGwALAAIA6//h/+P/4P/v////DwAQAAsABwD+/+7/6P/o/+//+v8KABUAGAASAAoABQD8/wIACgAJAAAA+v/1/+7/+P/5/wgACQAHAPn/5P/g/+r/9v8PAB8AIgAZAP//+P/Y/9j/5f/2/wYAEAAaABYABQAAAP//9v/2//n/+//2/+//9f/8/wgAGwAXAAAA5//Z/9z/7/8AABIAEwACAP7/+f/z//T//v8GABIACwD+/+r/6P/1/wIAFAAUAAEA+v/k/93/2P/d//X//v8EAAcAEwAOAAQA+//p/+D/8P/+/xIAGwAXABoABQD///D/6//l//D/BQAHAAkA/P/p/+L/7P/z/woADwAkAB4ACwADAPD/7f/w////GwAZABAACgD4/+v/6v/v//r/AQAJABAADwAPAAsABAD6//X/7v/x/wAA//8DAAgAHAAaABcADgD1/+r/2//l//b/+P8LAA8AEgAQAAAA8//r/+3//v8OABAADwAKAAwACQAFAPj/8P/3/wIADQALAAYABgD+//z/8v/u/+v/8//0//X///8GABQAFAABAO//4v/l//7/EAAZABMAAwABABEADgAHAPn/4//e/+D/8P8RABkAIQAWAPX/4P/T/+H/AwAVACYAJQAHAPj/5v/n/wEABwAWABEA/f/y/+n/7P8EABMAFAARAAkA/f/1/+7/5f/q//f/AwALABEACwAJAAcAAAD3//7/FAAhADMAJwD//+b/2//Z//3/EAAfABwAFgALAPj/7//k/+b/7//v//n/CQAbACoAJwAYAOj/2f/f//H/FQAaAB0AFgD6//L/8f/2/w0ACQALAAAA8//w/wgAGAAqACMAGQAKAPL/7f/k/+L/7f/v/wgAEQAbACMAHgAOAPz/6//v//T/FgAgABwAGQAGAP7/BQAMAAkAAAAEAAAADwASAAYA+f/l/9r/2f/g/wEAEQAnACUACAD6/+3/8P8IABIAGwAZAAgACAAOABEABAD+/+r/5P/r//P/CgAFAAQA9P/j/+H/9v8EABgAIQARAAkA/f8IAA0AHAAgACIAAQD4//r/9v8EAAcAAgD0/+v/7f/7/wgAGQAUAPP/6//y//7/AAAAAAcADAATABkAGgAXAA8ADwAEAP7/6//m//T/BAAcAB4AAgD3/9//4f/t//r/CgAUAAwADAD+//3////4/+b/7f/t//H/CgASABYAEgAHAPv/7//t/+j/7/8CAAMAAAADAPv/AAD9//r/6f/i//D/9v8OAAwAAwD+/+P/4v////z/AAADAP3/+//7////CwAEAPT/9P/p/+7/8//6//z/9f/m/+T/8v8DACgALwAuABoA7f/e//b/AgApACcAFQD8/9//4P/2/wcAAQD4/+L/4////xcAKwAlAAoA8v/h/+7/FwArAD4AMAADAOf/5P/u/xQAIAANAPz/4f/e//3/DAAZABcA9f/4/wAADQAZACUAEgD//+7/9f///wwAGQASAPz/7//e/+D/+/8LABkAFgANABAAFQAOABAADwD5//r/CwAXAB4AGAD3/9//0P/U//X/AwAgACEA/P/u/+T/6P8HABIAJQAlAAoACQAVABMAEwAOAP//9P8GAAwAHwAaAAUA+P/f/93/5//3/xEAEAD8//b/8f/6/xkALAAtACYA///v//D/+v8TAB4AIQAeAAoAAQDw/+//5v/h//b///8OABsAHAANAPj/8f/q/+r/+f/6/xoAJgAsAC4AJgATAOn/3v/c/+r/DQAhACsAIwAFAOn/1P/S//T/AwAYABcACgD+//z/AwD+//j//P/w//r/AwAiACIAGwARAPT/7f/w//z/DgAPAAEA+//x/+//7v/q/+//+f8HABEAHwASAO//2P/O/9n/9f8IACQAHgAGAPz/6v/o//f//f/8//z/9f/1/wUACgACAPf/0P/I/8j/1v///wkAAgD5//b/9/8MABsAHgAUANz/wf/D/9v/FwA1AEQANgD0/9L/sv+4/+b/BAAVABAA/v/4/wMAEQAIAP//2P/N/9b/8v8kAC0AHgAGAOD/2//b/+r/AgAMAAwAEAANAAkA/v/2/+P/5f/u//z/EAAUAP//+P/Y/97/7v/8/xEAGQAOAAYA+v/w//D/8P8DAAEAAwD4//f/9/8QABMABwD5/9//3v/6/xEAJgAlAP3/6//h/+3/DwAaABIABQDi/9//7//8/xQAHgAHAPn/5P/o//z/AwD5//H/5v/r/wAAFQAkABcA5f/N/7//zv8EACMAMgAkAPP/4v/a/+D/9////wMAAwABAP//+//2//r/8f/t/+r/9P/7/wsADQAEAPz/5v/g//H//v8UABUA/v/5/+L/5P/v//j///8AAPr/+v8IAAcA+//y/93/1//y/wUAIwAhAAYA8//c/+H/AAASACMAHwD3/+T/1P/c/wIADgAXAAgA8P/g/+T/8/8DAAYA/P/z//r///8VABYACgD+/+L/3//q//T/BwAFAAMA/v/4//j/AwAEAPz/AAD8//z/BAAIAPn/8P/n/+r/9f/7/wYACgD6//H/4//c/+X/+f8MAAsA///4/+//8P8JAAgA9P/u//j/BAAeACMACADy/8P/x//X/+3/IQApAAUA5f+5/7f/x//i/woAEwAUAA4ABQADAPv/9v/s/+v/+f8AAA8AFgAMAPn/2P/N/7//w//u/wMADgAIAO//4P/X/+D//f8FABYAIAAWAAQA8f/q/9z/4//4//b/9P/z//X/8//g/+L/6f/l//T/9f/3//D/+P8FABQADgABAPX/5P/h/+r/8f8GAAsAAwD5/+L/3P/m/+n/9//0/+L/4f/s//b/EQAPAAIA7//e/9b/4//q/wgAEQANAP7/1//S/9T/5f8EAAQAAAD5/+3/6f/q/+z/3P/k/+//9P/z//X/8//1/+n/8P/g/9r/4f/r//3/AAALAAYA+f/2//P/9v8BAAYABAACAPT/7v/d/97/4//u//T/8//p/97/1P/T/+T/8f/6//j/9P/z/wkAFwAVAAgA3//R/9L/3f/9/wgAGQATAPj/5v/K/77/uP/L/+f/9P/3//3/AAD9/+z/4v/V/9z/7P/7/w0ADwAOAAMA/P/w/9r/2//e/+3/9f/1/+n/5f/e/97/8f/0//P/8P/p/97/4v/l/wQACAACAPf/4//f/+v/9v8FAAMAAAD9//H/6f/h/9z/7P/6/wIABQD4//H/6P/q/+P/3//c/97/9/8FABQAEQD9/+f/wP+1/8X/2/8LACMAJQAXAPX/7f/a/93/4//l//D/+P8GAAYA+v/u/9b/zf/T/9r/5//l//T/8P8DAAsAEwAMAPH/3f/J/9T/+P8MABkAEQDx/+L/1//W/+b/7v/w//D/3P/c/87/3v/7/w8AFwAQAPL/6v/w//7/EQAJAOf/z//B/83/5f/1/wgABADq/9r/1f/V//P/AwAaABAA+//3//X/+f/5//f/7f/g/+b/7f/x//L/+//6////+v/m/+T/4//e/9v/3P/m//P/CAARABEACwD6/+//3P/U/9//7f8FAAsABwD6/+P/2f/f/+T/8v/3//X/+v/7//n/8P/1//n/AgD+//v/4//e/9//6P8EAAoABQD7/+j/5v/w//H/+P/z/+z/7v/6/xAAFwAYAAQA8P/V/9P/8P8BAAoACQD1//D/6v/h/9j/0P/e/+z/CgATAB8AHgD//+//0f/R/+3/AAAfACIACgD+/+f/6v/r//T/8//4//j/AAABAAAA/f/+/wEA/v/y//X/+P/3//L/7P/h/+j/+f8EABMADQDy/+D/1P/k/xAAKQA7ADwACQD1/9D/zv/r//j/CgAKAA4AEwAOAAYA7f/Y/63/rP/K/+7/NABJAEgAMAD1/9v/x//T/w8AKQBBADQAEQD7/97/1//e/+X/8//0//3/+v8DAAgADwAQAAIAAQD+//3/CwATABcAFQAGAPj/9f/0/wQACAD///P/5//l//P/AAAgAB4AEgD///v/9/8SABoAHwAdABoAEwANAAMA7//n/+f/7//7/wYAGAAQAAQA+f/0//T/+f/7/wIAAwAMABIAHwAkABYADAD9//j/+/8HABgAGgAbABUAEQAIAPv/+f/6/wEACAANAA0ACgAAAAkABwAJAAgADgAJAA8ACwASABMADgANAAkAEAATAB4AGQAEAPn/9P/y/wIABAD7//b/7P/x////BgAaACQAJwAgAAUA8//h/93/+f8NACwAPwA1ACcA/v/r/9//4P/p//f/DAAXACQAIgATAAcA5//b/+H/7v8OABgAMgAtAB8ADQD3/+3/5v/p//n/AQAOABIAFQAVABYAFwASAA0AAwD8//r//P8DAAoAHgAcACEAGQAHAP7/9//y//f/AAAIAAYAFAAYAB8AFADz/+//3f/l//3/DAAVABIAFwAXABoAGQAOAP7/5f/h//7/DgAqADAAHgAMAOb/5f/q//T/AwAEABQADwACAP//DgAYACMALwAlABoA+P/4//7/BgAHAAsAAgAEABcAHAAcAA8A8//p/+3/AAAwADgAOgAqAPb/6P/U/9v/+P8DAAwAEAALAA8AEQARAAIA+//z//j/DQAdACEAIAAUAA4ACAANAB0AJgAUAA8ABQD4//r//P8UAB4ALQAnAB0ADgAIAAwADgATAB8AIQAZABYAFgAOAP3/7//l/+n/AAASACQAKgANAAYAAgAJABcAIQAfABYAAwD9/w4AEwAbABgADAAHAAIAAQAEAP//9P/y/wMADgAYACAADgD+/+z/6v/s//z/IQAxADMALAAJAPn/+P8CAB0AJAAeAA8AAAD2//r///8OAAcA/v/6//z//v///wEA//8GAAsAFAAeABsAIwAeABQADQD5/+7/7//u/wMAEgAWABEA+P/v/9//3//o//r//v8CABMAFgAIAAgABQAMABcAFgARAAgA///+/wUA//8JAAgA+P/z//f/8f/s//n/BwAKABoAGQASAAkA+//4//f/+f8OABEADAAMAAcAAAAKABAACgAFAAcAAwD2//3/AgAGAP7/BAD//wMAAgAIAAUA+f/s/+j//f8EABkAFwD8/+T/1P/T//f/CQAlABwADQALAP7/AQADAAIA8v/k/+L/5P/3/wYAGAAQAPb/7P/i/+P/+f8NABMADQD+//L/BAANACkAKgAQAPj/2P/Z//r/EAAoACEACQD3/9//3//t/+//9v/0//z/DAAYABwAIAAgAAkAAgD9//z/9//4//f//f/v//P/AQAHABcAEQAHAP3/5f/n//P/+/8DAA8AHQAgAB4AFQACAPP/4v/e/+//+/8UAA4ABwD9//D/8P/6/wUA+P/0/+T/5v/+/xQAOwA+ACUACwDh/9j/6//+/xsAIQAOAPn/8P/2/wsAGAAUAAEA4P/Y/9v/8P8WACoANAAtAA4AAQDy//X/DAAJAPj/5P/Y/93/BAAVABQAAwDl/9//4//4/yIAKQAnAB0ABQD7/wAADwAcAB0ADwD6/+b/4P/z//j/AQAFAA4AAwD9////9f/r/+b/6//6/xsAQQBIAC8AFQDc/8v/3v/4/yQAKgAaAAYA7//l/+f/6v/p/+3/+P/9/xEAGAAQAAoA7P/j//X/AQASABYACQD4/+P/7P8BABQAKwAhAAcA8f/Y/9L/4v/3/xEAFgAKAPn/7v/r//D/8P/s/+b/7P/1/xkAJgAjABQA6f/i/+L/7P8OABcAFwAGAN3/0P/m//X/GwAuABEA+f/X/83/2P/u/xMAFQANAAUA7v/u/+v/7//z//D/7P/n//X/AwAWABUA+P/y/97/3v/h/+z/+f/9//3/9P/v//T//f8FAPv/8f/c/+D/8f///w8ADAD7//T/9P/4////+//v/+3/8f/1//f/+//u/+j/3P/a/+T/6//5//j/9//v//X/9f8CAAgA+//2/9v/1//m//T/AwALAAIA9P/a/9v/6P/y/wUABQDm/+H/4f/r//z/AwD+//v/8//1//n/+P8AAAgADgAQAAwABwD7//H/+//6/+//6f/l/+3//P8GAAMABAD1/+z/8P/o//3/AQD9////AwAEAAMACQADAPz/AAAEAAMA9v/y//L/9P/y/woAAADw/+n/7//7/w4AEwAGAAIA8P/s/+X/6/8AAAsAHgAYAAQA8//e/+L/7f/0//j/AwARABYAEwAHAOj/1//V/9j/8v/9/xgAHAAaABUA5v/e/93/4P/+/wgAEwAOAAkABwD5//r/8v/x//T/9v/v/+//AwAJAB4AIwAcABMA/v/4//j/9P/3/wAAFgAcABQACwD+//T/3f/g/+T/8/8QAB0AMgArAAoA/P/j/+b/6v/z/xYAJAAqACUACgD4/+X/5P/3/wYADQAQAB4AGAD+//n/BQAKABIAFAD///f/9P/4/xEAGgANAP//7f/o//f/BAAeACIAGwAJAO7/8P/4/w0AJwAlABcABwABAAIABgABAAgAAgD+//n/AAAEAAkAEAAPAAgA7P/x////CwAMAAkAAwAGAAIACQAZABAA///5/+j/5//1/wwALgA4ACMADADi/9r/4P/t/w0AEQAUABgACQAKAPb/6//i/+b//v8KAB4AIAAZABMA9P/y/+v/7P/9/wUAFQARAAsABwD9//7/AwAJABcAHAAXAA0A/f/2//b//v8RABQAJAAhAAYA6//D/8b/3v/7/y0ANAAeAAcA6f/h/+L/9P8JABoAFwARAAkADAAWABIAAwDx/93/3//1/woAIAAZAAAA9v/t//j/EAAOABMABwDu/+//+/8GACMAJwAOAAUA6f/k//L//f8CAPn//f/9/wAAAQD8//3/+//9/wAA/v8FAA0AEwAPAAUA+P/s/+v//v8BAAQAAQD7/wQACQAJAAAA///x/+P/8v/0/wQAEAAhAB0ABwD3//r//P8CAAkABwAIAAcADQAUAA4A9P/t/+b/6//+/wwADwAMAO7/4v/X/+P/DAAbABcACgDo/+T/+P8IACAAKgAlAB8ADwAIAPv/8//0/+z/6f/n//T/AwANAAwA/v/4/+b/6//z/wQADgAPAAMAAgAKABUAIQAgAA8AAwDv/+7/BwAOAA8ABwD0/+n/6//6/wsABADx/+r/6P/5/yEAKwA0ACsAAADv/+b/5v8QABQADwAHAP//BgAKABYABwD8/+f/4//9/wwAFAAQAPT/6v/l/+r/CgAVABwADQDv/+f/7f/9/yUAMwALAPX/3P/g/xQAJgA1ACIA9f/p//X/BwAiADQAGQD9/8z/wv/U/+z/GQAoABwAEQAKAAYAEgANAP///v8DAAkAHwAeABUABgDu/9//5//u/wAACAAEAPT/7P/s/woAGAApACcA///y//H//P8WACAAHwAYAAYA/v8BAAUABAADAO7/4f/o//P/FgAbABUABgDu//H/BgAOAB0AGAAHAAMA/f/7/wUACwAKAAsABQADAAYACwD///b/5f/e//H/CQAjACUADQAGAPj/8v/6//r/AgABAAsABgD///X/7v/z//f/+f8CAAQA/v/+//3/+v/3//r/BAATABUAEgAMAAUAAgABAAEAAADx/+v/8P/1//7/9v/0/+n/2v/d//H/BQAmACsAFgD//+L/5v/4/wYACAAIAPn/9//q/+r/8P/y//z//v/+//z/+v/7/wEA+f/W/9H/4P/x/xsAHgAKAPb/0v/R/+///f8VABgAAwDv/+P/6v/6/wcA+//1/+j/6/8AAAgABAD9/+j/0v/L/9T/8P/4/wkACgD3/+v/3//o//n////7//v/9f///wsAAwDw/9//1P/R//H/9v/5//n/9f/w/+v/7f/z//b/8v/q/9P/2f/v/wEAGwAcAPr/3//G/8z/6//+/xUADQDn/93/3v/o/wkAEQAKAPn/1//P/+H/5//6/wgACQD8/+v/6f/e/+H/8v/7/wcAAADk/9//7v/z/wYAAQDq/9r/0v/e//v//f/6//b/7f/t//T/+//1/+r/4P/d/+v/7v8EAAwAHwAQAPT/3f/M/9D/7f8DABUADQD3/+//6P/p/+L/5//q/+3//P8HABgAGAADAPL/3v/Q/9z/9P8UAB0AJAAcAPb/6f/M/9X/8v8BAAQAAQDs/+b/6//z//z/8//q/+7/BwAUABcAEAAAAOv/7P/4/wcACgAAAPX/7P/q//T/8f/0//H/6f/t//H/7v/0//n/BQAJAAAA9//u//D/BQAPABYADgACAP3/9//7//X/6v/m/+T/9/8KACEAGwABAPf/2//W/9n/4f8JABYAHQAXAPf/7f/j/+3/CAAFAPb/7//y//r/CQARAAoA/f/m/+H/6//0/wUABwAQABEABAABAPb/7f/s/+3/7//2//P/+P8AAAQABgAHAPv/9P/x/+7/+f/8/wgACwALAAMA8P/m/+H/4//z//v/AAD9//X/9P/0//T/7//t//D/7/8EAAwADAALAPH/7v/x/+z/7v/p/+r/5v/e/9//7P/2//3/CQAGAPr/4//i/+r/9v8YABkADAAGAOz/4f/q/+j/9f/u/+D/4P/h/+v/9v/3//b/8P/z//X/+v/z/+//8v/9/wQAFQAYAAEA/v/y//f/+v////D/7//k/+f/+//7/wUAAQD9//n/5v/d/+T/7f/8////AwD8//b/8//+/wQACAADAPj/9P/w//D/9//2//T/9f/x/+v/7//7//n//P/3/+7/7f/z/wYACQAOAA4ACAACAPH/5f/g/9j/6P/y/wcADQANAAcA7f/b/8v/yv/d//L/EgAeACQAFAD6/+r/7//0/wYACwAEAPr/8//w/wYADAAMAAAA7v/f/+3/9/8PABAACAD9//f/9P/6/wMA+P/y/+b/5v/0/wEAHQAcAPz/7P/b/+T/CQAXABUACwD2/+b/5v/x//z/AQAEAAMA9P/2/+7/7//s/+j/4P/g/wcAGwA1ADEACwDy/9T/1/8EABMAJgAeAAgAAADo/+L/4f/n/+//8v8IAAsADgARAAgABQD0//L/8v///wIABQD9//n/+f8IAB8AJQAWAAsA1//S/93/8f8RABwABgD6/+b/6P8DAA8ACwAAAPj/+P8WAB4AHwAYAAAA8P/i/+T///8FAAQA/P/z/+3/9//8/w8AEAD///b/7f/v/wAADgAYACAAJQAjACAAFQAIAPr/7P/o//D/+P8VAB4AGwAOAPL/6P/d/+7/EgAhADEANwAhABIACAD9/wUAAQACAP7/+//7/xAAFwAWAAQA8v/m//D//v8YABgABgADAOv/7/8GABkAMgA3ADEAFQD3//H/+/8CAAwAEAANAAwAEgAXAAsABQDp/9v/2v/s/yIAOQBHADQAAwDn/9X/3v8DAA4AIAAUAAQA//8EAAgAEAASAA0AAAD2//r/BAATACYAHwAFAAUABQARAA4ABQDw/+b/5P/y/yAAKgAqACMAFgAEAPn/7v/v//H/DAAXACcALAAUABQA9//0//P/8v///wUADwAUABkAEwAXABMABAD2/+v/8P/7//3/AwAPAB0AIAAaABIA+//y//H/8f/t//H///8LAB8AJgApACUACQD3/9v/2v/j//P/IgAvADEAJgAMAAgA5//l/+T/7f/1//z/CAATABMAGAAbABUA8//p/+b/6f8NAB8AKQArACoAIwAUAAgA8//u/9v/2v/k//n/GQAyAEIAOgADAPT/1//b//3/EgAcAB0AIgAiABwAFwABAPP/5f/o/wcAEgAkADAAJgAaAPj/6v/j/+f/CgAOAAcABQAFAAsAGQAiABgADwAFAP//8//w/wMADgAWABEAEQAIAAMAAwAGAAIA/P8EAAIAAAD+/wUAEAAWACUAGwD1/+T/5//l//v/FgAlACoAHwASAO3/3v/h/+r/AgAIABUAFwAOABAAEwALAPj/8v/y/+j/+P8EAAcACAANABAACgADAAIA///6//r/9/8BAAwACwAGAAsADQAPAAsAAwDy/+3/5P/q//T/+/8TAB8AMAAqAAkA+P/b/93/8P8CAAsADwAMAAoADAAJAPL/5v/S/9n/9f8CAB0AGgAYABMABQACAPv//P8FAAcACQACAAYA/f8KAA8AEAAHAPf/7P/m/+j/9P/0//P/+f8JABYAMAAuABYABADf/+H/7//8/xgAIQAjACAABgD6/97/4//5/wUADwAKAAEAAQAdACUAGQAFANv/2v/j//r/IAAdAAIA9v/q//D/+////wQAAAD4//H/7v/t//r/AgAJAAgA+v/t/9n/4v/3/wEADAALAP7/9v/6//j/+v/9/wEAAgAAAAUABQAAAPb/9f/6//n/AADz/+//7f/3//D//f/9//v//f8HAAkACAD//9z/2f/Y/+f/BgAUACEAIQAKAPf/3v/V/9z/5/8AABYAJQAiAAwA9v/X/9j/4//u//f/+/8QABYAHgAdAAQA9P/s/+f/6//x//3/AQAOAA4AAQD3/+z/7//0//b/7P/n/97/4//4/wAADgASABUACwD2/+f/1//J/9f/6f8LABkAEgAFANz/0//e/+v/9/////b/7//y//j/DAALAAQA///o/9r/0//P/9H/3//4/wgAEAAJAPv/7//c/9r/0P/L/+7///8QAAoA9v/q/+j/8/8KAA4A9v/g/9D/1v/3//3/FwAPAPL/5v/Q/8z/xv/M/9T/2P/r//j/DwAbABEABwDp/9r/0f/V/+b/7/8LABgAIAAXAPT/4//L/8f/xv/L//D//P8TABAA7f/f/97/6v8AAAUA5v/f/97/7v8UACMAIgAVAPT/5//c/9P/1P/X/+7/9P8DAAMA/f/+/wIA/f/W/8//1v/p/w8AHAATAAsA5f/d/+j/8P/q/+v/3//h/+3/+P8IAAQA8f/b/8j/0v/x/wMAEgAPAPH/6f/n/+z//P8CAP///P/u/+H/4//n//D/8//m/+P/6f/1/wEACADw/+T/5P/y/wAACAD+//P/4v/l//T/+v8EAAUA8f/q/9v/3v/z/wgAGgAUAPj/6f/Y/9X/4//s//n/9f/x//X/6P/p//D/+//v//D/4v/d/+3///8aABMA/f/v/9z/2v/i/+j/7//w/////f/7/wAA8f/m/9n/2//n//D/AAAGAPf/7f/m/+3/+P8AAAAA9v/w/+n/6f/r//b/AAAPAA4A9//p/9f/0v/i/+n/7v/7/wwADwACAAAA8//r//H/9P/3//X/8P/0/wkAEAAIAAAA5//a/9//3//1/wMADwAHAPP/4v/N/9H/5f/0/wYACAD+////9v/4/+n/4//o//D/BAAIAAkAAgDt/+D/2P/f//D/AgAOAAoA9//2/+b/5///////9v/1//b/AwAPAAwA+//s/9T/0v/g/+7/AgAEAP7/9//o//L//f8AAP7/9v/c/97/5v/u/wMADQAFAAEA/v/7//D/5//c/97/2//j//3/AQAAAP3/7//o/9b/3P/d/+H///8KABgAGQAHAPj/zf/H/9j/3//s//L/9P/2/w4AEgAQAP7/zf/H/87/2v8KABYAGQARAPj/6f/d/+P/7f/v/+7/8v/8////GgAaAAAA7f/M/8L/yv/g/xUAJAAnABsA9//r/+f/+P/1//b/5v/n//3/CwAiABUA6P/U/8b/zf/3/wcAGAAaAAoAAgDw/+3/+P/3////AAACAPr/BAAMAP///P/Z/9T/2P/q/wAABQADAPn/6f/p//b/CAAXABYADAADAPb/9P/1//T/8P/s//T/8v/r/+X/6v/t//X/+v8CAAIA/f/4//P/8P/9/wgAGAAWAAsA/f/1/+3/7//w/+7/7P/y//b///8DAPz///8FAAEA/f/+//r/9f/v//L//f8DAAcACQADAPz/4f/f/+f/7v8FAA8AIQAoABQABADj/9P/yv/Y//v/CgAbACEAHwATAPz/7f/d/9b/6f///xcAHwASAAwA+//3//L/7//x//f/BAAQABQAEAD9//j/8//2/wMAAwD4/+z/7v/0/wEAEQAbABYABAAAAO//7P/s/+r/6f/v/w8AGgAVABEAAAD5//H/6//l/97/5f/p/wsAHwAfABsABwD3/+H/4//j//P/EQAdAB4AHgAcAA8A7v/g/8f/wf/c//T/GwApACwAKAANAPj/7P/e/9f/2//9/woANAA7ACsAGgDc/8j/yP/X//j/BQAKAAYA///7/wAA9v/r/+v/+/8MACAAHQARAAcA7f/k/+D/4f/2/wUADgAEAO7/6P/k//P/DwAeAA4ABAD6/wIADwAQAAUA9//g/9z/6P/2/xQAGQAMAPj/1//Q/+r/+/8YABoABgD6/9//2//z//v/GQAgAA8A/v/k/+H/3v/h//L/8P/2//z/CAADAAMA+v/0//T/9v/1/+3/7P/1/wEABAD///L/8P/v//n/AQAFAP7////9//j/7f/m/+v/9P8LABIABAD6/+r/8f/0//v/CAAAAP//AAAOABMAEgAQAPL/3f/c/+f/CQAPAAMA+f/2/wAAGQAbAAMA+f/g/97/9v///xAAHAAkACEABgDy/9n/z//a/+X/9f/3/wEADQAaABgACADv/+L/5v/4/wAACgAKABUAFQANAAgA8//p//L/9f/2/wIABwAFAPL/7v/5//b/9//2//f/9v/2//n/CAAHAAsADAAEAAYA+//1/+P/7P/2//X/AQD///f/9v/2//T/6P/u////AAD5//P/6//r/wgAEQAfABsACAD9//z/9f/s/+f/6f/0//X/+P/2//H/7P/y//X/5f/k//D/CQAXACQAKAALAAYACAD9/+f/4//j/+X//f8EAA0AEADz/+n/3v/a//D/+P8CAAgAJAAlACEAHwACAPX/6v/1/wUAFgASAAsA9//z/+3/7f/4/wEAAQD///X/9f/0//v/EQAaAA4ACwAJAAcAAgABAPT/8P/7/woAMwA5ACEADADa/9j/2//n/wIADQAWABUACAAAAOT/5P/3/wEACwASABAADAACAAIA+//9//r/9P/+/wsAFQAVAA0A/f/z//L/BwANAAEA9f/3//n/DwAXABQAAQDu/+n//f8BAPr/+//y//v/BgAFAAsAAQD+//3/+v8AAAsAEAAUABkADAD8/+T/5P/m//H/9P/+/wQACAAcACAADAD6/+3/6//+/wYAEgANAPj/9v/p//D/9//z//D/7f/o/+z/BwAUAB0AIAAIAPj/1v/Y/+T/8f8MABcAHAATAAEA+P/j/9b/zf/V/+//AQAeACQAGAACAOP/1//l/+3/CwAVABUAEgD/////+//7//D/7//k/+n/AQAQABoAFgD9//H/7//6//7/BAD8//P/9f/1//7////x/+//+P8AAPv//P/7//X/9//5//j/9f/u/+n/7f/6/wQADgAUAAsAAAD4//v/+/8FAP3//f/1//r/BAADAPj/9f/x/+b/6//v//z/BQABAO7/6//p/+z/BgAMAPz/7//q//H/BAALAAEA/f/t//H/+v8AAPb/8//f/9//8f/4/xIAEAAKAP7/5P/d/+T/6v8GABMAFgAMAPH/4//a/+X/9f///wEAAQDz/wIADwATAAoA7v/I/8b/6//8/yUAJwAQAA0AAAD8/+P/3//Z/+f/DgAaACwAKQAJAPz/6P/c/+L/5v/0/wUAGwAdABYACgD6//b/9f///wUABQD0//T/7v/x/w0AGgAmAB4AAwDy/9P/yv/V/+v/HgAwADUAMwAaABIAAQD9/+j/5f/p/wUAJwAsACAADwDi/+H/7//7/wYAAgAEAPz/7//0/wMABAAYABoAEQAHAO//5v/c/+j/BQASACoAKwAbAAAA7v/n/+D/5//6/wsAIAAkABUAAwDc/9X/2P/s/wYACgAJAP//8f/q/+j/8P8HAAoAHwAZAP7/5v/k/+T/8v/4////CQAMAAsA8v/h/9v/3/8CABcAHQATAP7/+P/q/+H/5//u/wIABgATAA0AAgD8/wEABAAJAAUA+f/2/+v/5f/y//r//v8EAAcAAQD4//7/AQD9//v/+P///wwAGQATAAUA+v/8//3/+P/v/9//2//p/wEAEwAUAA4AAwD4//f/9P/w//T/+P8FABEAFAAdACoAJAD7/+v/0v/P/93/8P8WACcALQAfAPL/2//H/9L/BAAcABYACwDu/+b/9/8BABkAGQATAAsAAwD7//D/9f8AAAkACgAJAPv//v/q/+L/zP/N/+f/+P8hACYAFgACAN3/3//u//3/GwAiAA4A///w/+3/+/8BABEADQD6//b/6//v//T/6v/v//X/BQAJAAIA+//1//b/8f/1//f//f8ZAB4AHwAVAOr/3f/S/9f/7P/1/wwAFwAnAB0A///p/8v/0f/k//X/CQASABwAIQAVABMABAD+/wAAAwD3/+7/6v/x/wkAFQAXABEABgD6/+v/5v/q//P/EgAcACwAHwAXABIACAAFAPf/9v/i/+X/9v8BABMAIAAdABcA+f/x//b/+/8SAA4AAgAAABoAIAAhABUA/f/m/97/6P8HAAsADAAGAPn//f8DAAwADQAMAPf/6//p/+v/BwAZACUAFgAFAP//+//7//3///8LAAgADgATABMADAD7//D/5v/h/+v/9v8UACQAIQAiABsAGgAIAAMA7f/o//z/CAAUABAACAAHAPj/+f/2//f/9f/1/wIAAQADAAgADQAWABgAFgAKAAgAAwAHAPj//P8AAAAADwANAAUA/P/q/+n/8P/z//f/AAAEAAAABwACAA4AFgAiACgAEQD8/+D/4//v//v/AQACAAsACwAZABYADgD7/9r/z//H/83/CwAiAD0AOQARAAAA7P/p/+v/6v/w//z/EQAWABQADwADAPf/6f/i/+H/6f8CAA0AIAAjACAAFwAGAAMA8v/h/83/0//p//n/DwAcAAsABAD0/+L/6//o//v/BAAgABsAHAAXAAQA+//s/+H/7v/x//P/9f/2//n///8GAPr/7//n/+D/5v/u//P/9/8MABMAHwAZAPj/5v/c/+D/9/8DAAcAAQD8/wEA9P/z//L/6v/r/+3/9/8EABAAEgANAAkA8//q/+v/7P/4/wMABgAEAPH/7f/u//L/AQAKAAAA9f/h/+L///8VACoAJAAVAAMA7//j//D/+P8PABUADQAFAPX/6v/n/+f/8P/2/wkAEgASABYACAD+/wIACAAlACkAHwAUAPv/8//z//r/9v/2//z/+v/6/wIAAQABAAIAAAABAP7/FQAXABkAFAD9//r/BQAJAA8AEAD5/+//6f/o//n/AAAQABoADwAGAO//7f/9/wgACgAFAPj//f8OACIAKgAlAP3/8P/l/+n//f8NABYADAAEAP3/8f/z/wIAAAD0//T//f8LAB0AIAAjABcACAAGAP7/AgAHAAkAAAD//wAA+f8EABIAFAAKAPj/7f/5/wEAFQAXABIAFAAcACUAGAAQAPf/7//o//H/AwAHABwAGgAPAP//8f/v//P//P8JAA0AFAAfACcAJQANAPn/3f/T/+f/+f8bACEAIAAUAOD/1//q//r/GwAmAA4ABQDw//n/AQABAP3/+v8EAA4AEQAGAOT/3P/m//f/FAAaABYADwABAP3/6v/w//j/+v8JAAQABQAFAAMAAgDw/+T/2v/e//f/EAApACwACwD0/+L/4v/+/wsAGwAVAPD/4v/k//X/GwAdABAA+//p/+3//v8AAAAA9v/w//n/BAAJAA8ADADq/93/3P/o/woAIAAxAC4AFwAEAPv/9f/s/+j/7P/p/woAHQAZAA8A7v/h/+H/8P8BAAcACQALAAgADAAZABkAAAD0/+P/3//x//n/FQAYABYABADu/+v/7v/t//L/8f/4////DQAQAA8ABQD2/+z/6v/y/wgAGAARAAsA8v/2/wcAEAAbABAA6f/a/+H/6f8GABIAFAAJAPP/8P/x//b//f/4//r//P8FAAgAFgAUAAIA+f/t/+7/AgAKAAEA/P/y/+z/8/8AACEAJQAUAAAA5//n//D/AQAPABMADgAMAA4ADgAJAPz/4v/c/+f/9/8gAC4AJQAOAO3/1f/a/+P/DAAbACQAGQAKAAUA/P/1//v//P8SABQAHwAdAAgA/v/z/+r/+f///wkACwADAA8ACgAOAAIA+//4////CwAWABUADgD///r/9f/2/wUADwAjABsACwABAPj/8f/6/wYAIQAgABwAFgALAAoACgAOAAIA/v/3////DAAYACYAKgATAA0A9v/3//v/AwAPABAADwAHAAAABwAXABsAEwAHAOn/4P/6/wcAMAA5AC0AHwAOAAQA+f/1/+//9P8GAA8AIAAfABAABwDt/+f/6v/3/xEAFwAnACUAEAAIAOr/6v///wsAEgASAA8ACgAQAA4ACAD5//r/9f8AAAYABwADAAUABQAOAAsA8f/u//P//f8TAB4AHgARAAgACAAFAAUA/v/3//z/AgAMAA0A9f/w/+f/8P8GABMAHAATAAMAAQD2//j/+v/6//f/BgAbACsAMwAmAAUA7P/S/9T/6v/8/x0ALgAqABsA+P/q/9n/2v/0/wMAEQAUABIADQAOAAsAGAAaABAABwDx/+j/4v/x/xIAJgAwACMAAQD1/93/4//q/+//AQAMACUALQAhABcA+//s//D//P8PABIAFQANAAcABgD4//b//P/7//b/9v/r/+T/9f/7/xUAIwAfABkACQD9/wIAAQAHAAwAFAATABMACwD2/+T/2//c/+n/9v8IAA8ACAAHAAAABgADAAUA///+/wYAFQAmACMABwDw/9n/2v/0/wkAHgAXAAYA/P/p/+L/5f/v//n//P8JAA0AFgAXABYACgDx/+n/4f/v/xEAJwAnABsA+//y/+T/7P/9/wMACgAGABAAFwAYABUA+v/v/+T/7P/4/woAIwAjAA8ACQD1//P/9v8JACAAJAAPAP3/5P/p/wUADQALAAIA/f8HABcAJAAjABAA9v/0//r/BQAZAB4ADAAGAPb/8v/5//r/FwAaABIACgAIAAgADgANAAkABQAFAA8AGQAWAAUA+//v//H/BgANABsAHQAMAAUACQAPACUAKAAjABQA+//z////BwAKABQAFQAPAAEA/f/7//v/CAAMAAcABQAQABAAJAAnABcADQD3//D/8P/3/wwAHAAlACgAFQALAOz/7v/8/wcADwARAA8AEAAaABwAHAARAAcA+f/w//n/AwACAAYACAAGAAQACQAMABgAFAAEAAEAAgAFACQAMgA9ADAA+f/i/8v/zf/z/wsAKAAqAAMA9P///wYAFQATAPf/8v/v//r/GQArADEAKgAHAPf/6P/x/wIADgAWABsAEwAPAAIA7f/k/+b/9/8CABcAHwAUAA8AAwAEAAcADgAcAB0AGwAVAP3/9f/3//D///8BAAoABAANAA4ACgD//+r/4f/h//L/IgA2ADkAJwAAAP3///8EACIAIgAUAAUA7P/p//P//f8HAAcA/P/4/wYACwD8//P/5v/n//v/DgA+AEsANwAcAPj/7f/w//r/FgATAAQA///8//7/BAD6/+r/5v/u/wYAIAAiAAcAAAD//wMAHAAjABoAEADw/+r/8v8FAB0AHAAYAAgA8P/w//z/BgAVABYAAgACAAQABgAKAAwADgAHAAgADAASABgAFwAaAAAA9f/p/+3/AAAQACcAIAAgABQAAQD9//D/8/8DABEAHAAdAAkACAD+////CQACAPT/8v/t//L/AwAMAB8AIgAKAPX/4v/n/wEAEAAgABsAGQAbABcAIAAYAAsA9//2/wIACQAPABMA/f/y//P//P8RABsAJgAYAAEA9P/r//P/CAAQABIAEwANAAsABgAHAAUAAwD7/wIAFQAVABQAEQABAPP/7v/3/xMAIQAoACMABQD9//T//P8JAAoAFgAYABEAFgAMAAUA///0/+r/6P/0//z/JQAoABYABgDu/+v/9/8MACEAJwAdABMACQANAB0AHQAPAAAA6f/k/+P/5/8MABAAJQAiABIA///t/+j/8v/+/yQALgAnACAABgD8//L/9v8KABUAIgAmABcADwD///X/7v/x//r//v8cAB0AIwAcAA0A///w/+v//v8GABYAFgAQAA8ACAAGAAcA//8AAPT/+//3/wcABgAMAA8AEwATAAcAAwD8/wIACgATABwAEQABAAAACAARAB8AHQACAOv/zf/U//n/EwA4ADcAHwAQAPz/+P/5//3/DAAGABUAGQAmACUAFwAFAOX/5f/s//v/IAApAB4AEQD3//P/8//7/xYAGQASABIAGgAXABAACwASABAAEQASAAwAAwD7//n/CAAOAA4ADwANAA8ADAAMAAsABwAFAAMABwAMAAwADgAKAAcA/f8CABAAFgAbACIAGAAKAP7/+//1/wAAEQAZACAAFQAMAAEA9//2/wYACQAPAAcA9//y//3/+/8NABQAHQAdABYAFAARAAYACgAOAAwACQD+//7//f/+/wAAAQAGAAwAEAANAAUA+f/9/wgAKgAqACcAEgDv/9v/2P/r/xcAKQA1ACsACAD5/+3/9P/9//7/+v/6/wAACQAUABQAEgACAOr/8v8DAAsAIwAgAAgA/P/g/+j/CAAXACAAHgAEAO7/2//q/wYAGgAwAC4AGwACAOz/6f/m/+3/DQASACcALwAbAA4A8f/j/+f/9P8ZACgAIAATAPX/5v/s//b/HwAqADUALQAOAPv/8P/3/wMAAQAGAAsAGgAjABoAEAD2/+f/8P8EACUAKgAlAB8ACwAIAPz/BQAIAAUADAAVACEAHQAJAAEA9//+/xsAIgApACQAHAAWAAYA/f/0//b//v8NACwAMgAhABIA7//n/+//+P8LABkAIQAfABQACAD5//n/BAAIAA4ADQAFAAQACQATABoAHAAKAAYAAQD+/xIAFQAPAAQA///7/wAACAAUABwAIAAZAAMA+v/y//b/GAAnACwAGwD0/+b/5P/1/yMAOQA8AC0AIwAaAAgAAADv//L/8v/7/xMAHgAiACUAGQAHAP3/8v/7/wQAJwAyADQAKwASABIACgAKAAkABwAKABUAGgAdAB4AIgAYAAsABwAAAPT/9v/0//j/AAALABMAGAAgAC4ALgAwAB8AEgD1/+n/+f8EACIAMAAvAB0ABgD///H/8P/2//v/FQAjAC8ALAAZABYACAD+/xEAGgAaABYAFAAZACkAJAAdAA8A/f/6/wMADAAXAB4ACQD+//L/BAAnADkAQgA6AAYA8f/d/+v/FAA0AEUAPgAYAAYA8//z/wsAEQAcACYAGwAWAA8ACwAFAAMABQAGABMAEAAcACUAKQAjABkAFgAXABsAKgAnABIACAD9//z/GAAqAD4AOQAWAP3/2v/Q/+f/9f8iAC4AMwAnAA4ABAAHAAoACQALABUAHgAxAD0ANAAqAAwA/f/5//z/DQAKAAcA/v8EAAsAGQAXAAUA9//4/wAAFQAjAC0AKAATABcAHwAgACgAJAAFAPf/5//s//7/EgAhABoA+P/0//X/AgAiACsAFAD+/+7/7v8TACcAQwA0AA0A9//5//3/CgARABQAEgABAP3/+f/0//X/8P/u//z/FAAlAC4AIwAXAA8A8//3/woAHwA2AC8AAwDy/+X/6//3//z/AwADAAoADwAOAAwAAwAFABAAFwAxADYAKQAeAAkAAAD8/wUAHAAZAA8AAgDq/97//v8PAB8AIwALAAAA+f8GACoAPgA6AC0ABAD4//L/BQAYABoACQD4/+v/+P8gADMANAAoAO//3f/f//T/JgAwADIAJwD3/+z/8//+/xEAFgASAA8AEgAaABsAFAD4//P/9f8BABcAIwApACYAEwACAO//8f8LABcAHgAeAAcA9v/x/+///P8CAA4AFAAeACEAJwAeABAADgACAP3/9/8DABQAGwAoACYAGAAPAAQA/v/r/+v/9v/6/xkAIQAjABgABAD8//X/+v8PABQAJAAkABYADwAVACoAJgAdAPj/6P/m//j/FQAjACEAGAAcAB8AFAAQAA0ACAAQABYAIAAeABsAGgAhAB8AFAAFAPf/7v8BAAsAEQAYAB8AHwAeAB8ABwD+//r/9v/9/xEAOQA+ADQAIwARAAQACgANAAgABQAJAAkAGgAhACcAIwAYABMAAQAAAPv/AwAiAC0ALwAuACAAIAAhABcA/f/4//7/BgAiACYAIwAcABIAEwAWABQAEAAcAA8ADwAJAA4AFwAbADUAOAAxACMABQD8/+//8f8GABIAMAA5ADIAJwAPAAYA9v/x//n//f8XACcAOwA3ACcAJgAKAAAAAAAFABAAEwAfACMAIQAcACAAHgAXABAABwAJABcAGwAaAAwABwAFABkAHwAhABQA///8////BgAhACUALAAxABUADgATAAwAFAAWACAAHwARABcACwALAP//BwAcACEAHAAQAPj/9v8EAA8AJwAxAC4ALAAPAAIA6v/o/w0AIQBCADoAFgAGAPL/8v8AAP7/DAAMABIAGwAvAC4ALQAkAP3/6//n/+z/CAAlAEIAQwAlABYABwAAAAAABAD///7/EQAYACoALAAiABkA/v/9//j//v8SABwAEQAOAB4AKAArACAACgABAPL/9f8AAAcACQALAA4ACAACAAEAGwAdACUAHwD4/+b/5P/y/xkAJQAxADQAJgAaAAAA9f/l/+f/8P8EABwAJQApACQAEQAHAOX/4P/r//v/EgAZABkAHgANAA0ACAAAAPr/9P/4//n/DwAZACoAJgAJAPr/8//7/xAAFAAGAAQADQARABUAEgADAAAACAAPAA4AFwAXAB0AHgAdABIABQDz//P/CwASABYAHAAXABUA+f/x/+T/5P/9/xAAKAAlAB4AFwANAAkACwAKAB0AIgAbACIAFAAXAAMA/v/v/+n/8P8BACQAKgAgABYA7v/o//H/AQAkACsAMwAtAA4AAgDv//b/FAAkABoADQACAAQADQASABEAEgAIAAkACwAOAP7/9//2//j/DwApADcAPQAjAAoA5v/b/+3/AQAmADAALQAnACMAGgACAO//1v/W//X/FQA6AEIALAAdAPL/4v/i/+7/FgAgAC8AJQANAAkACAANAAwABQD8//3/DAAUABcAEQADAPv/+/8FABMAFgAaABQA9v/v//r/BwAiACEAFQADAPv/BQAiACcAIgAXAPv/8//4/wgAIAAqACkAHgAFAPz/7P/0/wIABgALABQAGgAdABoADQD6//f/9f/5/wcAEwAkACoALAAiAAoAAgD4//X/6//r/wAAFAAtADAAGwAGAOr/5f/7/wsAGAAXAAsAAgACAP//CgANAAoABQACAP7/AQAFAA8AEAD7/+3/8P/1/wkAEgAeABsA///5/+v/6f8AAAwAIgAmABUADADx/+r/7P/0//r/+/8MABAABgACAAMACAANAAsA8P/n/+3/AAAcACUAGgAKAPr//P8EAA0ACQAFAPn/8v/s/+7//P/8/w0ADwAEAAAAAgAIAAcAAgDx//H//P8KACgAKgAaAAYA4f/R/83/4P8OAB4AHwASAPb/7f/2//z/BAAHAPb//f8KAA8AEQAEAOn/4//o//T/CwAUAA4ABgDu/+L/5P/z/xwAJgAlABIA8v/u//T/+f8IAAsA/f/4//n/+v/5//3/8v/1////CQAcACMADgD8/93/1//v/wsANwA9ACMACADz/+v/8P/7/xcAFwAOAAEA6//p//3/CAAdABcAEQAGAPr//v8JABAAAAD+/wQACAAMAAgADAAKAAIA/f/t/+3/AwALAB4AFgACAP7/8v/9/wEABgADAAEA/f/7/wgAEAAlABwAIAAVAAMA8//n/+r/8//9/xEAIAAiABQA+v/p/+j/8P8JABQAEQAMAAcA/v///wEADwAVABEABwDx/+j/8f/9/xYAHwAWABMACwAJAPn/9f/v//P/EQApADUALwAPAP//5f/j//T///8jADAANAAjAAEA9f/0//7/CwAbABgAHAANAAYA//8CAAMACAANAAcAAgD5/wAABwAGAAkADwAUACMAIAAVAAwA/P/+/wkAFAAaABcAHwAjABUACgDu/+b/9P8AABUAJQAZABUADAAJAPz/9v8WACMAOQAxABIAAQDz//T/DwATAB4AGgAMAAQAAAD7//r/+v8NABAAEAATABQADAAFAAAA/v8BABIAHAAlABQABQABAP//+v8KAA4ACAAIAAcAAQABABAAGAAcAAoAAQDo//n/GwAkABUABwD2/+//AQAKACEAGAANAAMA8P/r//P/+v8PABkAEAAIAAIABQAAAAAA+v/y//3/BAAYABoAEgACAO7/6f/s/+v/9//4//H/8v/9/wUAFwAaAAYA9//j/+r/9v8JABoAGQD8//f//f///wMABQD8/+j/1P/U/9r/8f8nADMAHgAGAO7/6v/3/wMAEgANAAIABAALABQAEwAFAOf/2//V/93/AQAMAA4ABgDu/+j/8//8/xIADgDy/+b/5//v/wkACQARAA0A+//6////BgAAAP3/4v/P/8z/2f8IACEANgAnAO7/3v/b/+b/BAASADAANgAlABgA4v/Q/8z/2P/1/wQADAAAAP3/9//7//3/+/8AAAgADgANAAgAAwAGAAwADQAdAB8AGgAQAPL/4v/Y/9v/8v/8////CgAMAAwAAgDy/9z/zf/d/+7/HAArADAAJAAQAAMA6//p/+v/8P/3/wQADAARABIADwATAAYA6//k/+v/+P8BAAAA/f/+/wgADQAVABUABgD7//f/9v/y//j/EwAiADMALwASAPv/3//Z/+P/9/8ZACsAIwAPAOz/3P/p//7/HgAhABIABAD1//L//v8DAAwAEgAZABkAAAABAP7/CAAKAAcACAD7/wAADgAiAC0AHwAQAOj/2v/Z/+3/IAAzAD0ALQAGAP7/9//6//z/9v/0//f/FwAoACsAJAAFAPv/5f/v////CwAcACQAIAAZAA4ACwD///X/4v/h/+v//v8rAC4AIAATAP7/+v/1////BAACAAwACQD+/wEAAAAFAAsADgAFAP//7//z/wMADQARAA4ABAAEAPn/+v/y//r/CwARABYAGAASAAcA9v/t/+v/6v8OABoAKQAaAPH/6P/c/+T/DgAWABcAEwD///z/BQAGAAgADAADAPb/8P/z/xIAFwATABQACAD+/+X/3f/o//P/EgAcABgAAwDk/+T/8/8JAB4AGgD8//H//P8HAB4AEQDx/+H/5f/r//r/BQAIAP//7//p/+v/6f/7/wIABgAFAPT/6v/m/+r/8f/5/wgADwAEAPz/7P/i/9f/3f/0//n/AgAGAAIA/f/0//L/+P/1/+v/5f/c/+L/9P8EAA4ACwDw/+v/3v/a/9n/2v/m//P/CQAMAAYAAgDz//H/2f/O/7n/u//a//H/BgC2/0b/ywBjAMz/Tv/t/9UBfADE/+j+tQCk/4P+TP/X/4oAc//n/3QArAC//z8AiQBNAOP+sAA6AKH/9gCqACz/R/5UAJH/dv9d/1b/AgAfAC0Abf/UAIUAUgCg/4MAnv/o/+wA5wAUAJz/kgDg/53/a/8P/73+jf+I/+P+2f88AGv/eADKATwA5/9fAHwAh//2/9f/QP+a/8H/dv8s/z0A8P8PAG8AogDf/6cA9ACIAP3/AgAjADT/d/+n/5z/WP91/zb/gP8+AYQAMABXAJkAEAC4AMoAxP+W/4AASACd/xYADQCh/wEA6f+4/hL/OQCG/6j/7/9BAMz/XQDRABYAGwBYAG8A3/8vAMb/Vv/p//b/rf+S//j/nP+z/yUAPACi/2AA3wD6/zgARwAOAPP/fgAg//L+w//L/7H/MgCeADQARAC+AEgAzf+JAHkA2/8iAGAAFwAMAGAAsP+V/7f/vf8E/4j//f+r/2r/MQD//xAApgBDAPv/RwDHAFEAUQA5AJ//rP83AAYAGf+O/2X/+f5t/+n/Zv/M/7QAfQBnAJkAVgDd/zMAGABx/1v/GQDr/6X/CwDX/6D/TACCAO7/qv8CAOP/IwBcAFAA6f9JAHIAtf/C/wAAh/+T//n/u/+N/xsAEADi//7/LwDG/+n/IwBYADAAwACdAB4AVABNALb/MP9g/0f/Tv+h/6b/Kv97/1UAUgBnAJMAFADM/8b/ff8//2T/jP9c/wr/Gv9W/4L/hgDFAIYA0QD9APIAUAFzAZ4AeQCtAH0A/P8rANL/i/+9//3/iP+D/0AAVAAvAGYAaQA5AHQAuABwAG4ApACfAGcAkgBlACIAEwAgAKX/m//u/+r/GAB0AIgAaAC1AL0AtQDmAPMAlwARACAAv/+P/6//vv90/5L/zP+q/9j/NQBrAFQAbABnAEgAZQC5AHMAGQAXAOP/tf8tAEsAKAAqAGwAUgBiAHMAPAAgAD4AOwDW/97/HQAnAIoAsgBXACsAZwBRADoAQABTADgAcAB0ADoANACCAIoAgACwALQAfwB0AJoAewByAIAAcQAnADMAIgDn/7r/0P/d/+r/NgAdABQAOgA9APr/yv/W/9L/8P8IAAEA8v8fAC4AMAApACwA2v/g/wgAAwALAB4AEwD8/ycAPQAjADYAZgBlAC4AKQDv/+z/KQA6APj/8/8bABMA9/8SABAADwA7AFwALgAuADcAMQARAA4A5//T//H/8/8aAEIAjwB6AFsAUAARAPL/6v8DABgAJAAmAA8AFgA4AEoAOwBRAE0AQABWAGgAVwBMAGIANgAMAP7/9/8CABEAOAAnADQANAARAAYALQAwAAYA/v/0/9r/2v/u/w4AIQBtAGcAKAAOABEABwAiABkA+f/6/x8AGAD5/wYAGwAgADEARQBIAEwAWAA7AOz/0v+d/43/uP/k//3//f/6/+L/vv/a//f/9P/+/xMAAwDz/9T/xP+9/83/xf+0/7//4P/q/wMACAAFAOn/6f/b/8X/vv+6/6//tf/T/9f/3f/u//L/8f/o/9f/kf+J/7P/vv+1/7T/rP+w/9D/2v/J/9D/7f/r/+j/7//c/8D/tf+o/4T/hP+w/7L/x//Z/+r/4//t//f/AQALAAYA8P/U/9//zP/D/93/5v/x//X/AgDt/+z/6f/h/8z/0//T/9T/1v/g/9j/6/8DAAYA+P/5/+//1P/d/woACgANAAAA1v/B/9b/2v/h//n/IAAcADQANwAaABEA+f/f/7L/vf/X/+b//v8QAAoADgAdABUABwANABwAFAAaABgA9v/o/9T/z//L/9r/6//t//z/EAD7//H/8P/m/+j/BwAXABUAIAAfAAoA+//w/+n/8/8FAPv/8f/z//b/4P/X/9D/xP/K/9z/AAAKACUAHQADAPr/+f/x/9v/2f/A/7v/xP/L/9X/5P8HAAAA+/8DAAcACwADAPP/z//P/+T/4//z/wQA9f/m/+b/4f/e/+f//v/6//3/AgDv/+r/9v/+/wgACAAHAPn/BQAJAA8ABgAHAPv/4P/X/9n/0v/p//v/9f/z/xcAFAAaACQAGwAKAAUA/f/q/+L/8f/q/+n/+f8TABQAJQApAB4AFQAWAAkABQAVABoADQDx/+P/2P/g//n///8DAAwAFQAeADEANAALAPr/2//W/+z/DAApACgAIAAbAO7/7/8AAA0AHwAdAAYA6v/a/+L/8v8FACQAIQATABAACgAFAAIACQDq/+P/5v/m/+H/4f/L/8n/2P/r//v/DwAkACQAGAAOAO//4//s//H//P/0/+z/3//Q/9P/2v/d//v/+//x/+7/7v/h/9b/2f/b/9j/6P/t/+////8GAAMA8//w/+L/3P/T/83/t//D/9X/1v/b/9z/2//d//L/AQD9//j/1f/H/8j/0v/i//H//P/5/+D/1f/B/8T/4//1/+7/6v/v/+r/4P/e/8r/vP+6/8X/4f/w/xUAIAAWABIA8P/a/7v/uP/D/9P/DAAUABcADwDv/9z/2f/Z/9r/4f/2//P/7//x/+v/5//u//X/9v8AAAsAEAAYAB4AHwAdABgADADk/9r/xv/G/97/7////wIABQAHAPv/BwADAPT/4f/f/83/1f/v//7/AAAEAPn/9P/1/wAAAgAKAAQA+v/X/9T/2f/i//v//v/1/+//4v/d/9X/2v/q/+z/2f/Y/8r/zf/h/+v/5//m/8j/v//e//b/GwAZABwAAgDW/8L/tf+w/7X/v/++/8//8f8GAA4AEADz/9v/wv/C/9T/2//6//3/+v/z/+X/4P/Q/8P/0f/c//X/+//2/+//2v/O/+z//P/z//H/4P/S/9P/5/8DABEAHAAfAPX/5P/T/8v/1//l//D/9f8KABQAFAAPAAwAAADp/+T/2//c/+j/9v/6/wMACQAEAAMABgAHABMAGQAYAAEA9v/l/+T//f8IAAgAAQDq/9D/v//O//n/CwAgAC0AFQADAPb/8P/g/+n/AwALAAwACwAAAAIACQAOAP//8v/F/7r/0f/n/wkAFQAiAB8ADQAJAAsAAgD3/+3/1f/Y/+X/8P8CAAsA8//W/8j/xf+9/8v//v8RACsALgAYAAEA5//j/9T/2f/k/+b/5f/x//r/+f8HAAkA9//p/8X/u/+5/8j/+f8IAA0ADgD6//7/AQD+//L/7v/W/9b/2P/c/+3/+/8PAAkA6//g/8v/xP/W/+D/6//4//f/6v/o/+n/5v/j//D/7P/d/97/+f8JACYAJwAXAAUA6P/g/9P/y//J/8j/1v/h//D/AQACAPz/8P/q/9n/1//p//L/9f/1//T/6P/u//3/+v/s/+X/5f/s/+3/7P/i/9T/3P/0/wIAGgAZAPf/8//q/+7/+P8PACkAIwACAOn/uv+0/8T/1v/j/93/4P/j////DgAaABYA+f/m/8n/z//j//L/AQABANn/yP/D/87/9f8CAPX/3f/J/8v/2P/3/yIAKAASAPr/wv+t/7P/wv/v/wgADgALAPT/4f+//7b/rf+0/9L/6f8KAA0ACQD+/9v/yf+//8T/2P/f/+L/3f/U/9r/5f/t//X/4v/C/77/3f/u/wIAAgDg/8//w//J/+L/7P/t/9j/vf+3/8j/5f8JABAA/f/n/8D/u//T/+L/9f8CAO7/4//T/9z/9/8FAAwA+/+//6//sf/J/wAAEwAMAP//6//o/+7/9P/2/+v/3P/b/+P/6/8IAAsA/P/s/9T/0v/h//r/EQAVAPb/6//j/+b/+P/5//f/8P/V/8z/2P/l/wkAFwApABoA9//z/+z/7f/y//X/8P/4/wkACAAMAAQA/f/x//X/9//3//D//P/3//H/8//s/+7///8NAAsABQAEAPr/9f/3/+D/2P/h/+j///8NABYADwDz/+f/2f/d////CgAXABYA+v/m/+L/5P/n/+v/6P/e/9n/5v/9/xIAHAAaABQACQD6//D/8v/0//v/8f/2////DAANAAcA9v/V/9P/0f/a/+f/7//w//7/HgAoACEACQDi/9T/2//y/yIAKwAkABQA7P/d/+P/5f/8/wMA/v/6/wcADwAaABwADgACAOH/1f/T/9n/+v8AAAgAAQDx//D/BQARABoAGAD8/+7/6f/x/w0ABwATAAgA9P/q//X/+v/9//3/9f/0/+3/8/8QABoAGQAMAOj/4P/0/wIAFwAPAAEA/f/4//D/9f/v/+T/4//p//D/AAACAPr/7f/n/+P/+v8FAB4AGwDv/9X/wP+6/93/8v8TABgAFQAHAPX/8v/v/+3/7f/r/+n/8P8EABEACgD8/8z/vf+2/8z//f8bAC4AJgD2/97/tP+w/8r/2/8DAA0ADAD7/+n/3//h/9//4f/n/9//5//p/+3/6f/i/9v/2v/k/+z/9v/u/+H/2P/W/9f/6//w//b/8//n/+j/5//o/+D/5P/r//X/9v/4//b/9//Y/8j/wP/A/8z/1//2//7/6v/l/+T/6P/r//n/CQABAPj/8//t/+3/9P/7//b/8//t/+3/5P/Z/8b/wf+//9L//P8NAB0AEgDp/8//xv/N//n/EQAyADIADgD4/93/3//i/+3/6f/j/97/6P8CAAMAEAAKAO//4//W/9v/9P/9/xEADAADAPr/9//+//X/AAAHAP//9/8AAPf/9f/6//v/+P/1/+r/5P/a/+b/8v/4/wAAAAABAPj/9f/0/+f/8v8IABMAAQD7/+X/2//h//H/BgALAAEA9P/f/9j/1f/k//z/AgD+//n//P8EABMADwD7/+j/yf/O/+T//v8OAAwA+v/p/9n/3v/l/+b/5f/c/93/5f8EABAADQAHAPf/7//k/+b/6f/u//T//P8EAAwACgAHAP3/+P/v/+X/1f/e//L/BgAiACIADgAFAPj/5//Q/9L/3//q/wcAEQAeABgABAD+//D/5v/x//j//P/6//H/7//q//n/HQAkAAsA9P/X/9D/4f/4/x4AKAAkAA4A8f/o//P//v8DAPr/4//h//X/BAAUAAsA6//V/8T/0f/7/w4AFwALAPP/8f/s//3/GQAfABUABgDa/9D/4P/v/wYA/f/t/+b/4//y//L/7f/k/9r/1P/c/wEAEgAVAAsA6P/S/7r/wP/w/wYAJQAdAPn/6f/V/9j/4f/k/+D/2v/e/9z/2//k/+7/8P/Z/9f/6f/1/wYA+v/i/9D/z//g/xEAGgAHAPT/zv/G/9v/4f/x/+r/1//M/9f/6P////3/7v/g/77/uv/V/+n/CAACAP//9f/y/+n/8f/o/9v/zf/V/9H/6P/x////AADp/9v/wf/F/9b/4//u//j/7f/w//j/+P/4/+z/2f/P/9f/3//9/wkAAADx/8//xP/J/9r/+f8DAPT/5//a/+H/7v/z/+7/5//Z/9//+/8FAAoA/v/e/9P/1f/Y/+///P8NAAgA+P/u/+j/4v/a/+L/7//4/w8AEQAEAOz/3//U/9L/yf/U/+D/BAAUABkADADt/+b/3P/k//L/7f/a/+X/9f8AAAAA/f/j/9z/3f/d/+n/8//7/wUA9f/1//T/+f/4//H/6f/i/9b/2P/u//f/+P/0//H/7f/h/+b/4f/o//T/AAD7//j/4//j/+z/9P/+//j/AwD6/+T/3//T/9T/3//q/wEADAAQAAgA7f/g/8L/wf/l//r/FwAYAAMA9v/r/+T/5f/l/+f/6f8GAAkAAwD5//f/8//n/+D/1f/W/97/8f8DAAcABQAEAAAAAgD3//T/8//y//3/BgAPABIACAD+//L/6P/d/+P/9f8BAPT/8f/t//H/BQAIAA0ACQD4//j//v/8//3/8v/3/+//+v/9/wYA/f/u/9n/w//E/+P//v8oACYAEAD+/+P/4//m/+z//f8FAAwADAARAAYA9//r/9j/1v/v//7/FwAVAPz/5f/E/8v/8P8GABsAGQD2/+j/3v/l/+3/7v/6//j/8//x/+7/9P/7//v/9P/p/+X/7f8BAAYA+//y/9v/2//u//f/BQD8/+v/4//n//D//f8CAAcAAgDw/+X/5v/e/+//8P8AAPv//f/6//j/9v/w//b/7P/r/+v/+f8OABcA///n/8n/yv/h//f/BwAEAO//5v/h/9r/4f/i//f/BQAaABQABgAAAOD/5//2//r//P8CABQAFwD8/+n/w/+9/8T/0v/6/w0AIAAkAA4AAQDl/97/4f/n//j/AgAcABoAHQAQAPT/3v/T/9f/9P8CAAsABwD//+//5v/g//P/+P/3//D/6P/n//L/CAAPABMA8//t/+n/9f/+//7/9f/z/wMACAAOAAQA7P/l/+D/4P/s//L/8//1//f/9v/4//3/+//+/wIACQAJABEACgAIAPP/6v/x//X//v/5/+//4v/Y/9T/2v/g//P///8BAAQAAwAEAO7/8P/y//X///8HABoAHAASAAkA8f/r/+n/7f/p/+X/5P/t//z//v/+//r/7P/p/+X/5P/0////EgANAA8AAQD5//r/BAAHAPr/8//z//n/AQD5/+v/4//l//L/AgAHAAgABwD+//X/2//b/+3//f8XAB8AJQAhABcACgD5/+r/0P/M/+L/9/8YACIADQABANj/0v/a/+T//v8QABYAGwAWAAkAAAD6//v/8//v/+//6v/q//n/CwAXABYAEwAIAOr/6//r//j/+v///w4ADgAIAAAAAwD6/+r/7P/u/+//8f/2/wAAAwD///3/+f/+//z/+P/r/+n/7f/3/xEAFQAGAPn/7//z//z/+v/y/+f/3f/Z//n/BAAdAB8AFwAIAN7/2f/m//f/GwAXAAcA9//2//v/AAATABcAEwD9//v/+//8/wIAAwD+//H/4v/k/+j/6/8CAAsACgAIAPz/+f/1//b/+/8BABYAGQATABAABAD1/+n/8P8AAAoAGAAYAAMA9//o/+r/6P/l/+z/7/8HABgAIgAgAAkA9v/e/+T/AAAJACYAJQAYAAIA4P/R/+3//f8PABEAAQDz//b/AwAPAAwA7f/h/9L/4f8VACwAMgAiAAcA+/8EAAoADwACAOP/1v/e/+z/GAAlACMAGgDq/9L/uv/D/+v/AgAlAC8AGQAGAPf/8v/u/+7/6v/q/wAACgAiACIADAAGAPH/7P/6//n/6f/f/+X/6v8LABoAHwARAPX/8//u//H/9f8BAAoACAAGAAYAAgAAAA0ADwD0/+P/0v/Z//n/BQASAA0A/f/3//3/BAAQAAkA/P/2//j/BgAWAB8AGwAUAPj/8v/i/+b/8v/4/wkADQAOABQAFAAWAAwAAADm/+D/6f/x/w8AEgALAAQA//8BAAYAAAD1//X//P/6/wMABAD5//3/BwARAAsADwDz/+f/3//m/wQADwAbABIAAwD4/+7/8v8CAAcAFwAWAAIA/f/1////CQARAP//7//a/9f/5v/y/wsACAADAAAAAAAAABUADwACAAAAAwABAAAA//8HAAMAAgD+//f/8//7//r/CAAMAAAA/f/5//n/9f/1////AQAYABsAFgATAOz/5f/g/+T/+v8AAAoACQAEAP7/9v/y/+7/7P/3//n/DgAXABgAGgABAPv/4P/i/+z/+v8RABYABwD3//j/9v/y/+f/4f/R/9L/5v8TACAAKwAdAAMA7P/P/83/3v/y/x0ALgAyACYA9//o/83/0P/W/9//9v8BABMADQADAPn/6//h/9//5v/y//v/BAAFAAYACAAHAP///P/5//7/+//y/+3/1f/d/+//BgAeACUAFAAIAO3/4//q/+j/6//n//H/+/8KAAsAAAD4/+b/4//g/+b/+/8FABYAHQAXAA8A+//8//T/8f/e/+D/5//0/xYAGAAYABMA8v/i/9n/6f/5//7//f/6/wMACwAjAB8ABADy/+D/3//3/wUACgADAPT/8P8EAA0AFAANAPz/7v/j/+j/CgAaACUAHQANAPn/4f/i/+f/8f8FAAwACgAGAA0ADAAMAAYA9v/v/+T/5v/9/wUAHwAZAAkA/P/u/+P/9P/1//j/8P/y//X/AQD//wkACgD2//b/4v/q////CAAOAA8ACAAEAAEA9//x/+r/9f/2//j/9//q/+D/3P/f//T/AAAEAPz/6P/n//T/+/8RABkAGwAYAAkADQAMAA0AAQDs/8r/xf/J/9v/8P/7/wgACwAEAPr/3v/g//D/+v8NAAsABQAEAAIACgATAAoA9v/s/9T/0P/k//T/BAD//+//5v/n/+j/8v/3//L/6f/o//D/AQAPABcAGwAQAAoA+P/s/93/2P/g//D/DwAaABsAHAAFAPL/0//Q/93/4f/7/w0AEQASABMAFgAGAPb/4f/g/+3/AQAZACIAGQAFAPP/6f/r//T/BQAHAAYAAQACAAcAFAASAAAA9//o/+z/8P/8/wkACgD+//v/+v/y/wAABQAJAAgAAgD8//n/+/8HAAYADAAIAAIABQAGAAsA+P/2/+z/6f/s//P/9P/t//P/+v8DAAEA/f/0/+P/4//5/wQAGAAgABsADwD///f/9f/v/+T/4v/p/+//CAASABgAEwD5/+f/0v/M/+r/9f8YACgAKAAfAAoAAQD2/+n/3//c/9v/6f8JABQAHAAZAAkA+f/v/+f/5f/v/xEAGAAeAB8ADQAHAPD/5//e/9z/8v/9/xMAFwAeABQAAAD1/+r/5//m/+r/9f8HABMAGgAYABIA7//k/+X/5v/+/wkACwALAPv//P8BAAgACgAGAPj/8//0//n/CQARAAQA/f/t/+7/9P/8/xEAFQAIAP//8v/w//L/9//6//j/+f/x/9//4f/u//T///8AAAYAAAAGAAMACAALAA4AEAABAPn/9f/x//P/+f/x/+//5f/g//n/CAAbABkA+P/m/9r/1//m//f/BQAOAAoAEQAJAAAA/P/1//H/9v/0//v/BwAKAAMA+v/n/9//2//g/wAACgASABIACgAGAP//+v8FAAQA+v/3//T/+/8VACIAGwALAOP/2v/d/+n/BAALABAADgAFAAMADQASAAcABgD+//r/+v8BABEAFgAXAAYA7v/l/+v/8v8FAAYABgAIABQAEgAIAAcA/f/2/+r/6//7/wwAJwAsABMA+v/c/9r/9P8DAA0AEAAAAAAABAAOABcAEwACAPT/+v8CABQAIQAWAAgA8P/t//n///8KAAwAAQD4//v/BwAfACYAJQAfAPz/+f/5//7/CQANAAMA///+/wYADQAQAAsA/f/s/+3//v8CAAUA///8//T/+v/5/wEABgAVABcABgD7/+//9P8UABwAFwAIAO//7f8GABMAFQAGAOb/2f/p//r/HwAwAB4ACgDq/+T/7P/y/woADQAHAAIACQAOAA8AFwAPAAYA7v/m/+z///8ZABgADgD///T/+f8WACAAHAD9/93/zf/n//j/GQAeAAkA///6/wEAFQAcABYADgD9//P/FAAoADcAMAAGAO//zv/Y/wAAFwAxACAA6//Y/9z/7v8dACEADQD+/+v/8P8OABkALQAnAP//8v/9/wgAHAASAO7/0P/F/87/DgArAEYAMAD6/+j/4f/s/xAAGgAVAA4ABQAIABUAGAAEAP//6f/s//b/AAAPABAACQABAPn/9P/o/+j/7P/k//P/AwAcACUAIgAgAAUA+P/r//L///8EAAIABAABAAkAFgAYAP7/6//A/8D/5v8DACMALgAhAAoA8f/s//7/EAAKAAAA6v/v/xUAKgAzAB4A6f/L/8j/2v/7/wsACwABAAIACwAgAB4ACwAHAPD/7f8EABEAJwAsAA0ABQDx/+3/+/8CABIABwD+//j/9v8GABMAFwAQAAQAAgAGAAwACgABAP7/9v/7/xEAEQAVAA4A9f/y//f///8DAAwAHAAiACIAHAAAAO7/2P/Z//H/BQAbACQAIwAWAPD/5v/k/+3/BwASABcAEgAGAP7/9//0/+//8v/3////EgAbABcAEADv/+T/6v/1/woAFwAOAAgAAAAAAAwADwASAAgACwALAP//+/8GAAUADwAFAP7/AgAJAAUADgAPAP//+P/2//3/EQAcABEACQDs/+j/8f/7/xUAIQAnAB4ACwABAPL/8P///wwAJAAfAAcA+f/v//D/9f8EABYAGgAcABwAEwAOAPb/7f/i/+z///8KACAAGwAMAAIA8//6//f///8IABEACwAUABYAFQAPAA0ADQAQABgAGwAIAPn/7P/u//D/9f8KAAcA///9//v//P/9/wAA9//4/xQAJAAzADYAHgAIANj/0f/h//D/BQAJABQAFAAQABYAFQAIAPP/5v/j/+T//f8NACcAKwATAAIA+f/6//7/BQATAAgA/v8GABQAGgAHAP3/6f/q/wUADAAiAB0ADQD7//T/7v8NACQAMQAwAAwA+//g/+r/EgAjADYAMgAbAAUA9//3/wcACwAFAAUA//8LACUALAAnACAADAD//wIADAAgABoACwD///T/+/8SACAAIQAfAAcABAD5/wMAHgAnAC0AJAAZABEA/v/9//v/AQADAAkAGAASABkAFgALAAIAAQAJABQAFwAfAB4AFwAYACAAGAABAP7/9v8AAB4AMgA1ACAA6v/Y/9b/5/8TACkALAAkAAMA8//t//v/CgAZABsAGgABAAAACwAMABMAGwAfABgAGQAhACAAFwDu/+L/6f/3/yUAOAAoABYA+v/x/+n/8/8GAA8AFQAdACwAKwAVAAoA7v/i/+j/8P8BABQAMQAzAB0ADgDz/+////8GAA4ADQAJAAYAAgAIAAsADwD//wIAAgAEAAkABgD4/+//5//3/xcAIQAmABYA+//v//3/BgAQAA4AAwD8//n///8EAAcACAAAAOn/3f/s//b/EQAeAB8AEgD0/+v/6v/0/wcADwAZABkABQD3/9n/2v/n//X/FwAgABcABgDq/9//6P/u/wsAFQAUAAcAAgADAAQAAwD2//L/4v/s/wYADgAZABMA/P/4//H/9v/1//X/AQADAAEABwABAAYACQAFAPb/7f/o//H/DQANABYACQDx//L/9//z/+z/8//x//f/DAASAA0ADQAGAAIA/P/8//r/9v8DAAoADQAGAAMA/v/0//n/AAAIABAADQAKAAsADAAFAAQABgAFAA8AHAAhABoABADw/+b/8P8BACAAKgAnAB8A///4//b/8v/x//7/CgATAB8ALAA0AC0AEwAGAO3/7v8AABkAPwBDACcAEQDs/9//+v8KAB4AFwD7/+//5//x/xUAHwAtACQADwAJAAkACwARAAsABwAEAAoADgAwAC8AIwASAPD/5v/m//X/JQAsADAAHwAEAPr/BgAIAAoACAAFAAsAHgArACYAFAD9//L//P8EABIAFgARAAgA+f/8/w4ADwAbABsAFgALAAsADAAhACUAIgAfAAsACAARABoAFwAXAAwACAAPABMAHwAVAAUA9P/o//L/DQAUABsAIgAYABMACgAQAAUACgAGAAgACgAWAC4AOgAxAB4A+P/l/+n/9/8WACUAHQATAP3/+f8AAAkA/P/7//7/BAAfACkALgAWAPn/9v8GAA0AJwAxABMACAD2//r/BwAQAA4ABgDw/+j/BAAaAD4AQQAgAAEA3f/h/wUAGwAxACkAAwAAAAsADAAXABkADQD6/+P/7/8FAA0AHAAhABQACgADAAQAAwD9//7/9P/3/wEAHwAmACQAGADw/+b/5//2/w4AEwAFAP//8//2/xAAEAAGAP3/7v/l/wEABQAMAAoACwANAA4ADgATAAkA9//x//L//f8VACMAMgAnABIAAgDt//r/BwANAAgAAwAGAAkAHAAdABIAAgDm/+D/7v/8/ygAMQAoAB4A+P/y//z/EgAgABwAGAAZAA0ADQATAA8AAwADABEADwAPAA0ADgAIAAoACgALAAcAFQATAB4AGwAXABMAEAAUAAcAAgD9/wwAGQAoAC0AKQAMAAAA+f/0/wYAEwAvADUAKwAjAA0AAQD3/wQACQAJAB8AHAAUAA0ADwAJAAMABAAGAAMA+v/+//3/BgAWACUAKwAsABoAFgD9//D/9f/5/wYAFgAyADEAGQAGAN7/yf/Z//X/IQAqADkAMQAlAB8AGAAJAAEAAgABAAYAHQAjABoAFQAHAAEA6//q//T/BQAMAAYAAwADAAUAFQAyADUAKAAdAAYABgABAAkAFQAdACYAJgAYAA0A/P/2/+//8//9/wQAHAAiACMAGQAQABAABQADAAwAFgAXABUAGwAYAA0AEQAXABwABQD6//b//f8UABkAHAASAAYABwAcAB8AJQAmABQADAAKAAYAEgAaABYAAwD5//v/DgAWABEADAD8//L//v8IACMAKgAhABEA/P/0//z/BAAbACMAHAAQAP3/AwAaACMAFAAMAPP/+f/5/wQABQAMAAUACQAZAB4AJAAcAAQA+//z//z/FwAhACYAIQASABQABQAHAAAA+/8HAAgAHQAmAC0AHgAFAPb/9P/4/woAGwAZABkABgD5//P//f8cACgAJQAaAPb/7f/z/wMAFwAgABsAGQAQABIAEQADAPP/7f///w0AKgA3ACAADgDs/+X/7v8CABYAHwAbABwA/P/3//z///8GAAcACgAQABQAGAAgAB8ACgD+/+z/5////xQAKAAqAAcA9v/c/+P/AQATABsAGQAXABEADQAJAP7/+//9//v/DAAPACIAJQAeABkABwD3/9j/3v/2/woAJwAvACcAHAD9//X/8v/3/wQADQAeACkAKgAlAA4A/v/t/+b/8v/2/wcAAgAQABcAHAAjAB8AIAAQAA8A+//w/+v/9f8JAA8AGAAOABUAEwANAAYA+v/s////AAAVACAAHQAdAA4ABwDm/+L/5P/r/wcAGgArADUAGwAOAPn/+v/5//z/GwAbABMACAD///3/EAAlADYAMQAOAPn/4f/X/+X//f8kADUAQgA9ABsACADX/87/1v/0/y4ASwBSAEIACwDw/93/4v/8/woAFwAZABQAEwATABMADwAIAPv/+//w//z/CgAQABAAFgAaAB4AKwAqAB8AGwAGAAEA//8AAP//AwARAB0AKQAhAAcA8f/V/9P/9P8PADwAPwAwABwA7//u//7/FQA6ADkAIAAEAOT/2//r//z/EQARAAkACAAJAAcABwAHAAUABgAUACEAMwAxACgADAD3//P/CQAZABsADgDw/+D/6//5/xsAJgAjABoA7//m//P/+P8RACIANgAyAB0AHQATABIAEgARAAIA/P/8//z/DQAcABwAGgAMAAQA+v///wkAGAASAB4AHwApABcADwD///T/8P/9/xsAIgAnACUADwACAPb/+v///wMADwANABMAHwAvACwAFgABAOj/4f8CAA8AIwApAB8AFAD4//b//v8GABMAEQAGAAIACAAOABsAHAAZABEABwD8/wsADQAGAAQA8v/3/w8AJQA6ADQAEQD3/93/1v/v/wgAJAAjABUABAAAAAUAGQAaAAoAAQDy//f/CQAUACcAGwAPAAQA//8FABsAGAAMAAAA9f/9/xYAJwAnABEA6//a/+b/8/8ZAB4AHAAQAP3/AgARABkACwD+/+z/7f/4/wgAHgAkAA4ABgD5//n/CgAeAB8AHQD9//f/AgAKABwAGgAJAAEA/P/8/wsAEAAPAAUA9//x/wgAFQApACcAGAAMAPf/8v8GABMAHwAiABQADgAMAAwABgABAP3//v/+/wAAGgAjABoAEQDp/+X/7P/+/xoAGQABAPn/9//8/xUAHQAkAB0ADgALAAYABQAOAA4ACwAPABgAFAALAAYA9v/z//T//P8VACMAJAAcAAkAAgD4//3/DwAVABQAEAAPAA0ABwALAAAAAQAIABIAEQAXABoAFAAAAPr/AQANAB4AHQAcABYACQAGAAUAAAD+/wQADQAYABwAHwAdABMADQAIAAcAAwALAAoAHQAiACAAGgAEAAIABwAIAA4AEAARABIAJQAnABoABwD6/+3/+v8JACUAIwArAB4AFwARAAkADgAQABAAFQAWABsAHgAlACQAHAAVAAwACgARAB4AIwAfABsAFAANABQAKgAoAA4AAwD5/wMALwA6ADsAMAANAPr/+f8AABkAIQAYABYABgD+/wkADQAlADAAJgAXAAcABgAXACAAHgARAPz/9P8CAA8ALwAxABkAEQAEAAYACgAPAAUA//8LABIAKgAzACsAGQD8/+7/+P8BABkAIAAhACwAJAAcABQACAD9//b/+f8AAB4ALQA6ADkALwAgAAAA/f8PABAACgAIAP7/AwAVACQALwAvACkAIAAQAAYA//8AAAoAGAAxADkAPwA3ABQA+v/c/9z/7P8GAEMAWwBQADoA9f/k/8z/2v8GACMAPAA2AC0AJwAbABcACgAEAAEACwAtADwAQwA6AA4A+f8EAAwALAAxABgA///Y/97/AAASADEALwAXAAoA/f8KAB0AJAAxACAABgAAABQAHgAsACsAFAD8/+r/8v8PACIAKwAhAAoABwAIAA8AHAAeABUAFQAkACIAFQAOAAUACgAaACQALwAoAAQA+f/z//j/BAAJACMAKQAaABUA+//3//7/BgAUABIAAAABAA4AHgA2ACoAFQABAPr///8fACYAIQAVAAEA/f8LAA0AIQAaAAAA9/8HAAwAIwApAC8AKwAWABUADwAOABkAEQAFAPv//P8FADYARQBKADkADgD5//z/BgAlAC4AJwAnACYAJgAcABQAAAD3//f/BAAaACcALAAtAC4AJwASAA0ACwARACoAMQAkACIAHAAgACEAHwAWAAgA/P/8/wkAFgAnACgAIAAdACMALgAyADgAIgAaAPr//f8RABQAIwAiACMAIwAoACYAJQAgAAYABgAPABcAJgAoACYAHgAQABEAIQAqADEAKAAMAAIA+v8MADAAQwA8AC4AIQAWAAgA/f/5//X/BgAXAEQAWABTAEIAEAD1/97/5f/6/wwALQA4AD4AOwA6ACwADwACAPD/7v8CABIAPABIAFMASQAYAPz/7//4/xcAJAAsACUAEAAVACYAMQA1ACUA9//p/+r//f8jAD8AUQBRACMAEAAIAAsAFAAXAAwABwD//wsAIQAlABwADQD+/wMAEAAYACYAIQAdABYAHAAdABkAEgARABcAGwAdABcAFAAOABQAFQAWAB8AHwARABcAGwAaAB8AHgAlABoAIAAhABcADgANAA0AFwAXABoAEQACAAEAEAAiAC4AKwAWAAkA8f///x8AJwAxACIAAADx//D/AAAdACQAIQAYAAkACQAPAAoA/P/x//D/+f8jADkARgA2AA4A+//l/9z/9v8JADcAQwA/ADMACAD///H/9f/4//3/AQAGABcAGgATAAkAAQD6/wAACgAfACEAFgALAPv/AgAaACMALAAlAAwA+P/x/+7//P/9/wAAAgAKABYAGAATAPf/6//z//b/FgAiACQAFgAAAPH/7f///xMAJQAXAA0A5P/e/+b/9f8VACMAHgASAP7/9v/6/wUAIwAqAC4AIAAUAAoABAD///j//f8LABgAHAAYAA8ADQD8//f/8//2/wEAFAA2ADsAIAATAP7//P///xAAHAAeAB0AHwAiABkAGgAUAAcA/v/p/+j/9/8KABgAHQAgABoABwAFAA8AEwAJAPv/8//y/wkAJwA+ADwADAD2/9j/2P8BABYALQArABkAFQAQABQADgAGAAQACQALAA4AEwAOABMAEwARABMABgAEAAEABgAAAAIABwAPABsAIwAhAB8ACQAFAAQADQATABYACgAGAPf/8/8IABoAMgAsAA4A9P/c/+H/BgAWACwALwAcABUAGwAbAAoAAADq/93/2P/w/xwAMQBHAEsAIgAGAOv/6P/z//7/GgAdACgAJQAiABcACAAIAPX/9P/3/wIAFgAYACMAIQAkACEAGgAZAAUA///1//n/AwAGAA4ADwAMABUAHQAaABMABAD4//D/6P/r/wAAEAAsADMALAAgAAkA/f/x/+j/7f/5/w0AFwAkACIAGgASAPr/6v/l/+b/BQATACMAIQAaABEAEAAKAAcA+//w/+v/+P8CACAAIwAoACQAGgASAP3/9f/1//v/CQAOAA4ACwAJABMAFAAWAAwABADw//D//v8EABMAHQAgABgADAAFAP//+v8KAAMA8//x/wUAEgAkACkAHQD//+f/3f/W/9//AQASABsAHwAgAB0ADgADAOj/4P/f/+7/EwAaACEAGQAIAPv/8f/w//D/9f8JABwAGwAZAA0ABgD5//b/7v/1//v/BAAMAA0A///z//L/+P8UACAAHgAUAAMA9P/p/+r/+f8HABYAHQAOAAAA8v/+/wkADgD9//3/8f/3/wcAEgAeAB4AHgAXAPr/9P/7//3/BQD///L/8/8JABwAOAA0ABsABgDn/97/5P/w/w8AHwAxADAAFwACANf/zv/S/+P/GAAtAEMAPgAgAAsAAAAAABMAGwAOAAkA6//k/+///P8YAB0AGwASAO//4v/x//f/EQAaAB8AHgAkACgAOQApAP3/6//N/9j/AwAbADQAMQAPAPn/1f/T/+b/8v8IABEAEQANABQAFwASAAAA8//y//v/CwAnACkAGAAPAPz/7P/x//T/AAAOAAcA+//s/+3/+v8IACEAKgAdABAA9v/t//L/AAAsADkAOwAsAAwA+P/g/+H/7P/0//3/AgADAPz/+v/3/wAABAAMAAQA9//1/wgAFwA1AEEANAAlAAEA8v/d/9n/8P8BAAUAAwD7//j//f8EABIACwD5//H/9/8IABcAGQAXABMACwAOAAMAAAAKAAcAAQD7//D/8P8DABAAEgAMAAAA9//u/+//4P/j//3/BwAZAB8ACQAEAAAABgANAA4ABQD//woACAAGAAQAAgAEABkAGwAJAPr/3//Y/+X/7P8GAAwAHwAgABIADwD///b/7v/p//D/+f8gADsAQQA0APz/4P/B/8X/6v/7/xcAFAAOAAMA9v/4//v////8//X/6P/n//7/DgAiAB8ACwD+/+//6//8//v/BgACAPb/9P/3/wEABQD///X/8//R/9L/AgAdADEAKQARAPv/8v/1/wcACwD9//j/9f/3/wsAFQAdAAoA6//V/8X/2P8DABYADgAHAPz//P8MABYADAD4/9f/1P/t/wgANwA7ACUACwDc/9P/6f/8/x0AGwD9//D/8P8CACYAKwADAOj/zv/Y//r/EgA0ADEACgD0/+b/5v8QACYALQAZAOX/1//i//7/IAAiAAMA7P/c/+X///8KABgAEgD//+z/4f/p/xQAJgAqACQABgD9//3/CAAOAAMA+P/y/wUAFAAhACMAEQAKAPj/8//p/+r/8P/+/xEAGQAjACYAEAAIAPT/7/8BAAwAIgAmABYAEAABAAcAFAARAA4ACwD3/+z/5P/l//j/CgAaAB8AEgAOAPj/9P/3//7/CgAUABkAGwASABMAFwAQAAAA8P/c/93/9v8JACcAJAASAAUA/v/8/wEAAAAcACMALgArAA4A/v/w//r/EgAXABIABQDy//H/+/8CABEADgAJAAYA+/8CAA0AFQAZAAwA+//5/w4AFgAqACQACgD5//b//v8AAAEABgAHAAsACQAEAAsA+f/z//X/7f/y/wMAFgAaAAwA/f/h/+H/5//w//z/AwAHAAoACQAKAAgABQANAAwABQD5/+v/7P/p/+f/7P/x////BgALAA0A+f/u/9j/3P/l//L/CAANAAkABwAIAAcAAQDz/9v/z//S/+L/DAAhACsAGQDp/9r/0P/X/+3/+f8AAPv/7v/v//T///8ZABsAAwDy/9f/0//v//n/GwAaAAsAAgDs/+f/2//S/8//3f/x/wAAAgAJAA8ABwAMAAgA9v/3//v//P/9//v//v/5//f/8//v/+7/7v/w/+X/3//u//X//v/+//v/9f/+/w0AHAAXAPj/6f/i//H/GwAqACsAEgDw/9//1//T/+n/8P/y//P/9v/+/xAAFwATAAUA/f/z/+//8v8FAAYABAAJAA0ADQACAP3/9P/s/97/4v/1//b/EQAWABEABwD2//b/6f/v/+n/9P8FABMAGAAcABEADAD7//j/6//e/8H/yP/z/wEAHgAgABAABADu/9//4P/m/wAAEAAgACEAEwAKAPb/9//w//X/9/8AAAYA/P/3//v//f8FAAMA/f/y//X/AgAEABIAEgAIAP//+v/8//z/AQAHAAUA/v/6//D/9//5/w8ABAABAPb/9P8AAAEAAwAAAPn/8//2////CAAEAPb/9//v//L/8f/8//P/8/////n/AQAEAAkAAwD6//P/+/8AAAYAAwD1//T/9//5//b/9//1//T/6v/n/9z/3f/9/w0AEgARAPr/6//a/+L/+v/7/+r/6f/1/wAAHgAlABAA/f/M/8P/yf/a/wUAFQAOAAAA8P/s/wEADAAIAPn/3f/W/93/8P8QABwAEwAKAOv/4P/W/9D/3v/d//D/7/8CAAkAHgAWAPz/5f/M/8//2//p//n/BwASAB0AFAAGAOv/3f/W/9L/2//h//H/8//9/wEA9//2//n/9f/y/+3/3//c/9z/5//2/wEAEgANAPD/3v/D/8H/0//r/wYACAD+//b/7v/x//T/9f/q/+f/3v/d/+P/7P/3//r///////H/6//i/9//2f/Z/+f/4//t//X/BwANAAgAAQDn/9T/wP/F/+j/8/8FAAYA/f/4//r/8//t/+b/4v/o/+///P/9////9v/u/+T/4v/i/+b/7P/o/+7/7P/8/wYACwAIAO//5//h/+H/7v/2//f///8BAAYA///2/+D/4f/f/97/5v/v//v/+f/t/+7/8/8BABQAFwAXAAYA+v/1//H/8v/5//T/+f/1/+f/3f/e/+L/7f/4//H/7P/x//j/DQASAAAA6v/Q/8//4v/5/xwAIwANAAMA5v/i/+H/4//q/+//6P/u//X/9f/s/+z/8v/r//b//f8CAPn/9f/4//j/+P8FAAMA9f/y/+j/5P/h//f/CQANAAIA+//q/+X/7f/z//b/9v/4//P/+//4////AwAQABEACQABAOn/4f/l/+H/5v/p/+v/9f8EAAIA/f/8//z/9f8FAAYACQAFAAcABwAHAAAAAAD9/+H/2//Y/9P/5f/3/wcAEQAWABgABwD9/+b/4f/h//P/GgAhACUAHAAFAPT/8P/4/+3/6f/a/9//8v/9/zEANwAmAAsA1//G/8//5v8UACoAKAAZAPD/5f/j/+3///8IAAEA9P/l/+D/+v8FAAwACgDz/+X/5v/1//f//P/7/wYADwAZABQABADy/+//+v/5/wUABADy/+j/7P/z//7/BQAKAAsA9//t/+n/7v/v//z/CAAGAAUACQABAP3/8//4/+//9P8AAAEABQAFAAoABAD5//D//v/5/wEABgAAAPz//f8GAAYABAD4/+z/4f/o/wAABgANAAYABAD8//n/+v8BAPz/+v/w/+v/6P8CAAgABAAHAPr/+P/1//v/AgAEAAgABwABAP3/8f/p/+X/7f8OABUAEAAHAPz/7v/f/+D//f8SAC4ALgALAPT/1f/Q/+n/AAAUABkAEgAPAPv//P/7//7///8CAAYA/P/6//7/DQAUAAMA/P/2//z/CQAMABAADgD9//7//f8BAAYACwAJAAsADgASABcAGgAKAP//9v/z/+v/7v8BAP3/AgD7//r/+P/9/wUAEgAQAAkA/P/4/wMAIwAqACUAEwDi/9T/5P/5/w0ADQAAAPv/7P/1/wIAEAATAAsA/f/x//f///8aAB4AHwAXAAYA//8HAAkA9v/0/+3/6//z////GAAXAAQA+v/r/+b/AwATACUAIgARAAgA/P8GABcAIgATAAgA+f/y//7//v8PABAA/v/2/+b/2f8GABQAHwAVAPr/7//0/wcAIgAtABkACQD3//7/DgAcACAAFwAFAP7/9//1//n/9v/7//X/9//8/xYAHwAnACAABgACAPP/9P8OABsAHQAiACIAEQDz//n/+f/2//j/9//w//b/FAAhACMAHQADAO//6P/s/////v8NAA0ACgATABIADQALAAEA6//z/wkAEAAdACAABgACAPv/+f/8//3/BgAFAAYADwAHAAMABAAHAAMA/v/9//n/AwADAAoABgD7/wAAAwALAAcABgDw//D/5v/u/wQABAAKAAcACAADABUAFQALAAkAAQD4//P//f8EABEADQAJAPj/8f/v//P//f///wIA+P/3//n/BgARAA4ABwDw/+f/5//v/wUACgD4//D/9f/4/xMAGwAJAO//zv/E/8//6v8SABgAKgAfAPz/8//f/9T/1f/m//3/EQAWABsACAD7/+z/5//q/+f/6f/1//3/+f////3/AAADAAcAAADr/97/4v/m//n/CQANAAgACQAAAPf/7f/l/+L/6P/u//r//P8IAA4ADQAGAPP/7P/k//H/BAALAAEA8v/w//T/+v8HAAcACAADAPz/9v/1/+L/3P/Z/+D/AAALABYADwDv/+D/3P/s//r////x//T/9//8/xoAGQAKAPv/3P/S/9f/5/8BAAoAEAAJAPH/6//q/+z/2f/c/+L/9f8KABwAKQAcAPX/5P/Y/9j/8v8KAA8ACgD0/+T/1//c//j////w/+n/2v/i/wgAGwAnACAA/P/g/9H/3v8IABwAIwAdAPb/5v/Z/+D/6v/l/+H/0//g/+j/FwAaABMA+//W/9H/6P8CABMAHQD8//D/2f/f//n/AgAGAP//7//l/9P/2P/o/+7/8f/u/+3/7/8KABAACAD6/9j/0f/T/+r/GQAeACEAHQD2/+z/4f/f/9H/zv/g//D/DwAOAAcAAwDo/+H/3f/f/+3/9/8NAAoABAD///j/+/8CAP3/5//f/9j/0v/x//7//f/2/+7/7v///wkAHwAcAPf/7P/R/9P/7f8AABkAIAAMAPn/3P/V/9T/1P/n/+z/+v8BABIAEAAIAP//4//V/9b/2//7/wkADgAEAP3/+P/v/+v/6f/i/9v/3P/j/+3/+P8CAAAA+////wYA7v/m/9r/2//X/+H/9v/1//v/8v/i/9f/5P/m/+b/5f/z//H/8f/y/wAAAAD+//b/6P/Z/87/1v/m//3/EQAMAPH/3v/V/9H/3f/i/+f/5f/s//f/AwAEAAgAAwD0/+r/6//t//3/AgAFAP7/6v/o/+b/7//s/+n/2f/Z/9v/6v/u//H/8f/s/+r/8f8AAAgAAAACAPb/8//r/+//8//u/9j/1//Y/9r/8v/1/+X/2v/P/9D/4v/7/x0AGwALAP7/6f/h/+T/6//r//T/9//8//v/+//7//z/1//T/8//0v/m//v//f/1/+P/3P/c/+b/EgAfABIAAADg/9r/2P/j/+//9P/8//z/+v/w/9//1v/N/8v/3//o//b//P8GAAUA7//n/87/0f/b/+7//P8FAAQABQD1//L/4P/U/8P/xv/Q/+X/9P/0//b/7v/c/9P/1//b/+3/9P/1//j/6//m/93/2v/d/97/6v/0//7////5/+z/0v/E/8z/1v/8/wIA+P/o/8b/xP/O/9v///8BAAEA/P/h/9z/7v/2//f/9f/f/9n/0//Z//n//f/3/+r/5f/k/+T/7//z/+j/2f/S/87/0//s//r/CwAMAPb/7f/f/9j/zP/P/+T/9P8NAAoA+v/n/8v/wP/S/93/+v8DAAAA+f/a/9b/1v/c//P/9v/r/+L/yv/E/9n/8v8SABUABgD8/+P/3v/j/+f/1v/Z/+D/4//3/wMAEQAFAOr/1v/F/8z/4P/s//n//P8GAAYA/f/x/+f/5v/k/+z/3v/X/93/5f/9/woAAQDv/8n/vv/F/9P/8P/+/wkACwAGAAEA8f/x/9//3//Z/9z/3v/h//D/8P/w//P/4//o/+T/4//Q/9L/2P/a//H/+P8KABAADwAEAOj/2//I/8X/2v/p/wQAEAANAAAA0P/B/7f/wv/e//D/BAAHAAsADgAMAAwA+f/u/9v/1f/M/8//4P/r/wgAEwABAOz/0P/M/87/1f/i/+j/8v/9/xIAEwAPAAMA6//i/9//3//+/w4AGwAcAPf/7f/V/87/1P/a/+P/4f/s//P/AAAJAAQA/v/v/+H/1//j//L/9f/u/+n/5//z//7/AADn/9n/v//J//T/BgAUAA4A8//p/+X/8P/1//P/5v/d/8//2P/o//j/DQAKAPn/5v/G/8f/3//s/wEA/P/6////CQARAA0AAADo/9j/1P/c//v/AwD8//L/3f/T/9P/3f/u/+//5//j/9L/1P/t//z/FwAZAAgAAAD5//r/9v/v/9n/1//j//j/IAArAA4A8v/C/7r/z//e/+j/5//o/+j/BQAMABMACgDv/9z/zv/R/+f/+P8LAAoA9v/t/9//5P/q/+7/7v/p/9j/3f/5/wcAGwATAPX/4P/I/8v/4P/v//r//f/x/+v/5v/n/+3/6//p/+P/4f/e/+z/9P8BAAIA9P/w/9r/1//a/+T/7v/2//n/9//6//H/5v/d/9z/5//x//b/9//1/+b/5P/s/+n/6v/x/+z/5//V/9D/0v/Z//z/DAANAAEA5f/c/+D/5v8CAAMA/v/6/+z/8f8DAAYAAwD0/8//wf/B/8n/9f/7/wUA/f/v/+z/9P/z//7/9P/m/+T/6P/z/w0AFgALAAIA4//U/83/0P/p/+b/6P/q/+z/+f8TABYAAwD4/93/2P/W/+P/+f8IAAoABgAIAPz//f/5/+r/2P/F/8b/4v/u/w4AEAD+//b/5//t/+H/6P/0/wEABgAIAAAA9v/v//P/7v/o/97/7P/6//3//f/3//L/8/8DAAgAAwD//+7/5f/o//P//v8CAA0ABAD5/+3/4//n//v/AAD2/+7/7P/+/xwAIAAUAAsA+P/s//v/AQARABMAGQATAAEA8v/d/9b/5P/x/wUACgAZABwADAADAO//8f///wwAGAAaABIABwAHAPz/8//x/+z/9f///wsAHAAVAAgA/f/u/+n/AwASADQAPAA3ACUADAD8//T/+f8AAP//AwAGAAIAAAADAAQAFQAQABMAEQASABgAKwAuACIAHQAbABsAIAAVAAAA9//4/wEAHQAsADYAMAAWAAYA7//p//v/FAA8ADcAJQAbAAgACAAiACcAGwAeABIADAD//wUADwAbAB4AGwAJAAUAFwAlADIALAAZABAACAAXACEAJwAiABoAEwARAAsABwALABkAJgAjABMADwADAAsADQAKAP7//f8GAAkAHgAnADUALwAtAB0ADQACAPf/8//+//z/BAAIABQAEwAAAAQA+/8KABoAIAAXABMAEwAbACEAFgAJAAAA+v/5/wAA+v8CAAYAEwAQAAkABwAGAAgACAD//+3/9P8LABcAJAAbAAQA9f/x//n/BAABAOv/5v/i/9z/6P/s//v/CQAVAA8A9P/q/8//yP/B/6v/bP9L/yP/Hf9I/3D/wP/w/0AAVACJALQA7QAHARIBBwHYAMMAkQBuADMAEgDp/9v/w//D/7T/r//S//P/MgBFAGUAcQCIAJcAiAB7AFoASgAnABwAAwD8//L//v8bACsALgAyAEQAUwCAAJUAvADEALkApgBkAEYACgDu/9L/uv+M/3T/d/+H/9b/+/8iADAANQAyABYACgADAPn/8v/t/+P/5//2/wcAHgAkAB0AGwAcACQARwBRAEwARAATAPv/3P/U/9P/0P/P/83/xf/X/wUAJABNAEwAPAApAAgAAAD5//3/BwAUAAgA9P/q/9H/0v/H/8D/rf+b/6H/u//U//X/9f/u//L/5f/k/9r/1f/K/8D/rv+q/6T/n/+e/5r/hv+D/5f/sv/k//X/BQAEAAoACgAJAPn/2//F/6v/pv+9/8H/tv+t/6n/o/+0/8j/8/8HAA8ADwACAP//BwANABkADwDw/9v/vP+1/6f/ov+K/4n/mf+g/73/zP/r/+7//v8GAAoACwACAPn/8f/o/9//z/+2/5//hP92/3z/i//A/9T/9P/6/wsADAD4//v/+P/2/+b/2f+x/5n/mv+o/8z/zf/B/6//m/+c/7D/xf/W/9v/3v/g/+f/9P/8//n/5//T/53/jf+S/5//r/+5/7H/qv+n/7X/zv/U/9f/3v/k//D/BwAQAAoA7v/B/6H/XP9C/z7/O/9M/1r/cf+E/67/xv/C/77/l/+E/4v/of/H/9L/x/+7/4v/df9a/2H/bv9x/3P/c/9+/4v/rP+w/6T/lP+E/3n/kf+a/6X/ov+G/3j/dv93/4L/gP9n/1r/Rv9A/2b/h//F/9P/v/+v/5X/mv+6/8b/zP+1/4j/Z/9A/0H/Xf9x/4b/kv+F/4n/m/+1/+P//P8FAPn/yP+y/6z/qP+w/7P/p/+c/4z/kv+U/6L/rv+k/4//hv+f/73/8v8CAPr/4f+2/6v/pP+w/7z/y//J/8j/w/+4/6n/ov+l/6L/vP/S//j/BQD///b/2P/S/8L/vf+h/4//ev90/3v/i/+u/7b/r/+q/7f/s//M/+f/AAD//+L/0f+8/7X/q/+p/4//f/+B/4b/of+v/8L/w/+t/6b/q/+6/9j/7P/0/+3/zP+x/5v/of+y/7r/rP+i/4b/gP+G/43/qP+3/8n/0v/R/9P/1//c/8j/uP+m/57/l/+b/5j/kf+E/4T/oP+2/8T/xP/F/8H/3//r/xcAFwD0/+P/vv+0/7v/uv+1/6r/h/99/5f/q//h//H/3P/K/63/sf/V/+r////7/+H/0v/Q/97/8P/x/9L/vv+N/3v/kP+t/+n/AgD+//P/3P/b//H/CgAWABEA7v/a/73/v//U/9f/1//Q/6z/p/+7/8v/7v/2//3/+v/2//j/9P/k/9D/y//F/8T/vv/E/7X/vP/H/9f/5P/p/+X/3v/F/8D/z//o/x4AKwAiAAsA7f/Z/9T/0//f/9D/u/+x/7P/xP/l//L/8//n/7v/tP+8/9X/CQAXAAcA8f/B/7D/n/+l/7D/r/+q/6j/wP/N/+n/+P/8//D/1P/L/73/wP/G/8H/tP+p/6T/r//K/9T/4//k/9L/yv+8/7L/s/+7/+L/7v/3//D/y//I/7f/sv+h/5//lf+X/6v/tP/C/8T/yf/I/7T/s/+w/7r/1//m/wYACAD8/+7/xP+u/5T/mf+5/8f/yP/H/7v/vv/T/+H/8f/4/+j/2v/S/9H/2//f/9P/y/+q/6r/vv/V//j/+P/Y/8n/wf/O/+b/7P/r/+r/2v/h//P/8//y/+7/6P/j/93/3P/b/93/6v/l/93/3v/l/+z//P/6////AwAEAAMA8f/Y/7f/tf/D/83/7//s/9j/yf+w/6//yf/d/xIAGgD3/+H/y//Q/+3/+v/w/9b/n/+S/6T/u//1/wQABADy/8r/u/+2/7z/1P/d/9f/0v/U/93/6v/p/9X/xf+s/6//t/+2/8X/y/+2/7D/p/+n/8f/3////wQA5v/W/7z/uP+//8P/tv+5/8z/1P/n/+L/zf/C/7b/vP/Y//L/EQAQAAMA7v/L/8P/wP/A/8P/t/+5/7n/4f/4/woACADs/+H/0P/S/9//5P/p/+j/8P/2/wAABgD9/+7/vv+s/7H/xv/3/xIAGAAMAOb/5f/z/wQAIgAoACIAGQABAPb/8f/2//z/AgDv/9j/wP+8/9H/3P8CAA8AJAAeABkADgD0/+r/8//u/+7/9f/v//r/+P/6/wcABwD9//b/6//s/+7//P8LAAsA9v/s/+z/7v8AAAMAAAD0//L/9P/4//f/9f/2//v////p/9n/zv/c//T/AAAPAAUA7v/p/+j/3//W/9L/0P/W/+X/7//u/+b/6P/p//P/AAASABUAEAD//9v/0P/O/+D//f8DAAUA/f/m/+L/7P/o/+r/7//k/+3/8//6//T/8P/a/9P/yf/O//r/CQATAAkA6//h/+D/5f/w//P/8f/u/+3/7////wEABAAEAOv/3P/d/+X/AQALAPr/7f/T/9P/+f8TACUAFwDz/+D/4P/o/wUADQAIAPP/2P/R/+D/7v/6//L/1v/O/9T/5/8VACMAFgAFAN//1v/X/+P/+f8JABUAHwAdABQA///5//n/8f/u/+z/9P/0//b//P/3/+z/9P/2/wAA///+//3/7v/i/+3/9v8DAAsABwD3/+r/6v/+/wEACQD+/+v/5v///wsAEQACAOD/zv/H/9D/7//2/xMAGwAcAA4A9f/p/+D/4v/x//T/+/8EAP7/+f/v/+r/3v/h/+n/9//1//T/6P/h/9r/1P/Q/9H/3P/q/wUAAwDz/+n/6P/q/+v/5f/g/9z/3//u//v/+//j/9b/yv/P//D/CgAaABsA+v/l/9z/3//v//b/7P/e/83/1P/h//D/AQACAAUA///t/+b/4P/j/+3/8//8/wYAGQAeABsAEgD1/+P/2P/l//v/BgABAPn/+P/4//7//f/v/+v//f8GABgAGAAUABMADAADAPn/+P8DAAkACAABANr/1v/h//v/LwA1ACIACwDM/8H/2f/z/xwAJwAsAB0ADAAKABEAEQAJAAQA9//2/xoAKAArABgA7f/j/+T/8/8XABwAFAAHAAMA+f8AAAkACgD+/+T/2P/f//X/LQBFADkAIQDr/97/3f/y/w4AGAAQAAcA/P/8/wgACAD9//X/8v/y/wEAFQAiACMACgADAPf//v8GABIAGAAWAAcADAATABQABAD+//H/6v/h/+r/CQAYAB4ADQDj/9T/3P/y/y4APgA7ADMAGwAQAPf/+P/z/+r/4//q/wYAFwA6AEIAPwAnAOb/yP+9/9P/DAAiADoANgAiABQAAAD///z/+P8GAAoAAgAGABAAGQAdAB0ABQDz/9r/0//m//P/IAAtADQAJwAOAAMA8f/p/+v/7f8CABcALgAvACkAHAD///j/+v/7//r//v8FAAMABAAEAAQA9P/u//z/EAAaACYAJgAYAAsABgD6//H/8//2//T/6P/m//f/BgAbACEACQD//wMAEAAZABYADQADAPj/+P8IABQAFQASAPL/5P/Y/+b/+/8QAB4AFQDw/+n/1f/i/wEAEgAaABkAEQAHAP7/+P/5//r/7v/l/+f/6f/5//T/8f/r/+r/8P8BAAsABgADAAIABwASABkADwAPAPn/8//g/9z/8//9/yMAIQAKAPb/5//n/+z/9f/w/+X/2P/c/wQAGAA8ADkACQDr/8b/xP/v/xAAKgAkAP7/8v/u//r/EgAXAAwABwABAAMAFAAZACMAHAACAPX/3P/g//D/+P8BAAAA+/8BABgAIwAzACcA/f/w/+3/9v8QACEAGAAXAAMAAQAIAA4AFAARAAIA9v/6/wMACAAOAA0ACgAEAA4AJQAoAC8AIgADAAAA+f8GAB0ALgAyACUABQD+/xEAGAAOAA0A6f/i//v/FwArADEAHQAGAOP/4//w//r/DwAVAB4AGwAYABQAFgAbABsAGQD7/+3/5//2/xUAIwAsABoA8P/m/+P/5v8AAA8AGwATABcAFAAOAA4AFgAVABQAEgAJAP3/7P/s//T/AAAXABwAFAAFAPX/9P8EAAoAJAAnABkAGAAJAAEAAQAIACAAHwAcABMA9P/s/wMAEAAwADIANgAxABwADwADAPr/9v/8/xwAIgAmADAAIwAjABAAEADs/+r/5f/2/x8ANQBJAEIAIgATAAYABgAZAB4AIQAWAAwADwAVABkAHwAZAP7//f/7/wEAFQAkADgAPAA2ADQAGQAKAPT/3//T/93//f8VADMAMwASAPT/4v/g/wEAGAA9ADkAHgALAOj/4v/1/wcAJAAiAAcA9f/S/9f/6v8BAB0AFwAHAPr/7v/x/wUAEQAOAAsAAQD1//7///////T/7P/q//X//f8DAPz/5//m/+X/7f8JABAAFAANAP//9v/o/+b/7P/p/+//8//6//v/CQASABgAEAD0/+f/7v/7/x0AJgAUAPr/0//L/97/+P8dABoA+//h/9H/zv/o/wAAGwAhABIADQDu/+//BQARABAAEQD///7//f/9//X/6P/Z/9n/9/8JABgAFgAAAPL/7//6/xEAHgAhABQA+f/t/+n/8P///wMA/P/4//j/+P8LABAAGAAMAP3/+f/1////DAAIAO7/5f/f/+b/AwANABkAGwAEAAEA+f/3/wEACQAGAAkAGwAmACIAFwD2/+j/4f/g//X//P8KAAwABgABAAYABQADAP3/DAAKABIAFwAUABsAFQAKAPb/6f/k/97/7f/9/x0AJgAgACEABgD5/+f/4//1/wMAJAAsABsACwDg/9f/3//j//7/CAAXABsAGgAaAAsABADz//b/BQAEAAgACgARAA4ADwAJAPD/4f/n//X/DQASABUABwAAAAAACQAKABQAFQAhACAAEwAIAP7/+P8AAAUAAwACAPb/9P/t//X/EQAeAD0AOwAjAA4A8//0/wAADAALAAwACAAKAA8AGAAPAAcA+//r/+r/7P8EAA8AOQBAAC4AHQAGAPz/9P/7/w4AFAAgACoAJQAfAAUAAgAGAAEA8v/r/+T/7f8bADAAQQA9ACcAEADs/+n/7v/7/wsAFwAaABcACAAAAPP/7v/p/+3/AAAQACEAHwAEAAEAAAD+//7/AQAGAAkAEQAMAP//+f/2//v/BgAEAAcACQAMABIABAD5/+H/4f/r//P/CAASAAwAFAAUAA4A9P/h/9r/3f/v//3/EwAWACEAFgD7/+f/zP/O/+3//f8OABQABgD///H/7//u//n/AAADAPr/+P/+/wAADgATAPT/4//b//D/DgAWAAcA9f/N/83/4f/3/xcAHAALAAYA9//r/+X/4//7/wQAFAAVABsAEgAAAPL/1//L/8z/2f/8/wcACQAJAAcAAwAGAAQA+v/s/+X/6P/o//P/HQAiABMAAADS/8T/z//h//r/AAANAAoADwAPABkACgDx/+L/1//W/9v/6/8SABcABAD1/+H/3P/y//r/BgAAAO7/6v/4/wsAGQAYAPz/+v/u/+z/8f/5//P/8v/t/+b/2//e//z/CQASAA0A+P/s/+3/8/8DABEAFwATAP3/8f/m/+b/7P/q/+3/7P/4/wkAFgAXAAEA9f/2////BwAJAAUA9P/w//P/BwD+//P/8P/u/+v/8f/1/woAEwAPAAQA6f/f/+P/6/8IABQA/v/2//f//P8DAAIA/v/7//H/9v/+/wgABwAFAPn/9//8//3/AgAIAO//5P/V/+H///8YAB4AGgD///D/4v/t//b//v8GAAoA//8BAPT/9P/p/9z/zv/M/+T/+/8gACUACwD8/+j/5//+/xEAGAAWAAIAAgABAAMABgD5/+H/1v/G/87/9v8NAB8AFwDx/+P/1//m/xYAKAAfABAA+f/4/wIAEAAOAAsA7v/d/9H/0P/z/wEAFAAGAPH/8P/x/wAAIAAeAAwA/f/q/+b/4P/v/wIABwAIAAQABQD4//b/9v/x/+7/DQAcACYAHgD6/+j/0//e/wcAEgAOAAkA6v/j/+b/6P/4/wQAAwAHAAYABwAKABAABgD0/+L/2P/v/wUAKAAuAAwA+P/P/8T/zv/j//v/DAAZABEA+//v//T//f8ZACAA///x/+T/7//+/wwACgD///P/8f////3//f/v/93/0//e//P/DQAcAC0AGQD1/+T/3v/t/wMACgAIAAMA9//1/wcADgAHAP//9P/q/+D/4f/m/+j/+f8BAAsADgAJAPz/2v/V/9f/4P8UACQAKAAbAAkA9P/l/+D/6P/u//b/9P/w/+X/5P/x/wYADQDz/+D/xv/M//P/BAAbABQA///s/+T/7/8EAAUA/f/r/8j/w//Z//b/IgAnAP7/5v++/73/5v/6/xkAGwDz/+r/4f/l/wYAEQALAPf/3//X/+L/9P////7/6//j/+z/+/8NABIA9f/m/+f/9P/1/wMABgAAAO7/4f/q/+//BwALABcACADx/+v/8P/y////AgD9//v/8//3//X/8f/t/+f/4f/h//T/AgAYACEAGAAGAPv/+v///wQA/f/0//b/+v8MAA4ACQD8/+H/1v/e/+X///8HABEADgAIAAQA+/8DAAkACAD7//L/8P/w//v//f/5/////P8DAAgABQD4//X/8P/5/wIABgAKAAkAEwANAAsACQAEAP7/7v/o//f/CQAkACQADQDv/9L/y//b//X/FgAlAB0ACwDy/+X/8f/+/xgAJAAOAAsA9f/y//j/AwAAAAMA+//1//3/AgABAP7/9//2/+3/6f/0/wIADwAZABQAHAAOAAkABQADAAUAAwD9//P/9f/4//3//v///wQA+P/y//H/8P8CAAcACAADAAUAAgAQAAgA8//p//L//f8PABQAEgASAAkABQD6//f/8//t//L//v8FAAcACgAGAPX/7v/w//H/+/8KACcAKwAVAAUA5v/a/+H/8v8WACAAHgAbAAIA+P/h/9j/1//a//n/DwApACIABQD0/+T/5f/+/xAAIAAfABUAFAD+//3//f8EAAIAAQD6//f//P8DAAkABwANAAMA6f/l/+D/2//q//3/GwAoACoAJQDx/9//2P/o/w8AIgAzACwAEQD9/9v/1P/n//3/FwAXAAUA/P/g/+D/9f8BAAoACwD7//T/8f/6/wwAFAARAAQA/v/4/wEACQAVABAA8//o/+v/8v8OABEAAADt/9X/1v/z/wAAHgAYABAAAADp/+L/2f/f//X/AwAjACUAEAABAN7/1f/Z/+L///8RAB0AGwAMAPn/5f/e/+P/6v8DAAkA/v8BAAAABAAOAAUA9f/r/+7/9/8GAAYA+//2/wIAEwAhABQA4//P/7v/wv/d//v/HQAnACYAIAD6/+b/1//k/wYAFQAqACUAAwD3//r/AgADAPv/7//j/+n/9/8OABEAHAAUAP/////5//f/9P8BAA0AGAAbAB8AEgAOAAIACAADAAkACQAIAPv//f/x//L/+/8JACYAKwAYAAcA6P/j/wEAEwAVABQA/P/8////BgAVAAsA+//w//b/+/8XACUALQAmAA8AAQDx//T/DAAdACwAHAAFAPf/8P/0//7/BQAGAAMAAQD///j//P/1//L/9P8AABkALgA9ADgAFQAEAOj/6f/3/wEAGgAaAAwABgDz//H/8f/v/+//6v/q/+//DQAjACsAIwADAPn/9f8AAAwAEgALABEAEQAVAAQA///v/+f/4//x/wkAFQAeABUACgABAAUADQAeACEADwAHAPb/+P/+/wwAFwAbAAkA///t/+n//v8FABIADQAFAAAABwARABkADwD///f//P8DAB4AKAAfAA0A+v/x/9v/4v/2/wAABwAFAAQA//8BAAgABAD+//j///8VABsAEwAJAO3/6v/m//T/EQAWAAwAAADn/+P/8/8FAB0AIgASAAQA6P/k////EwAoACcACwD+//X/+P8KAA0ACgABAOb/3P/b/+n/AAAFAAUAAAD4/wAAFAAOAA4ACAD//wAABAAGAAoADQALAAQA/P/7//b/+v/6//n/5//k/wIACgAHAAEA6//l/9j/4//1/wkAHAAsACYAFwD9/+//5f/n/+//+f/+/wIACAAGAAkA/v/p/+X/9/8EAAMA+v/4//f/+P8AAAoABgD1//j/7P/s/+3/9/8JABIAGgAcABcAGQAIAPj/2v/T/9//7/8TAB4AJwAcAAMA9//P/8z/4//2/w4AFQARAAcA+P/w/wQABwADAAMA9//s//P/+v8AAPn/+//7//f/AQAHAAYABAAHAP///P8KAAsADgD+//P/6P/s//T/DAAKAPf/7v/r/+7/AgAPABkAEwD7//r/9v8AABYAGwANAAAA8//3/wsAFwASAAgA+v/4//3/AgAQABIAAwD4/+f/5v/6/xUAOAA2AB8AAwDf/9z/8/8BABMAFgAFAAEA/v///wkAEAAEAPn/6f/x//v/CgAPAAoA//8DAAkAGgA8ADcAHQANAPX/8P/y//r/EwAVACIAGAD///H/4P/o//7/BgAMAAQA9//8/wAACgARABUAGQAbABIACgD7//D/8f/1/w0AHAAzADEAHAAGAN3/zf/J/9f/8v8FAB8AKAAmACQAEAAEAO3/5f/j/+n/BQAYADAALQAiABAA+//6//D/6//j/+7/+v8IABUAEQD3//L/5P/p/+7/9f8EAAYADQAVABoAEQAIAAgA///v/+j/3//x//3/FwAXABcADgD3/+b/xv/K/+z/+/8UAB4ADQAIAAIABAAIAAgACAAGAPX/9P/2//z/CgAUAA8AAwDg/9X/0//k/wcAFQAQAAUA+v/+/wcAEQAMAAIA6v/h/+j/9v8NACAAIQAiAA0ABgDs/+H/3P/g/+j/9P///wkAEQADAPj/8//w//P/AAAFAAkACwD3//T//P8OACMAJAD//+//2P/f//T/AgAUABcAAAD2/+b/4//z//z/CwAKAPf/7//1/wMAHwAcAAMA9//s//P/CAAMAPv/6P/R/9f/7f8FACMAJQAKAPf/7f/s/wAACQAPAAQA2//R/+P/9f8XAB4ABgD2/+z/7/8FABcAGwATAPD/4P/g/+v/FgApACgADgDl/9f/4//y/xMADQD5/+z/2v/i/wIADAAeABsADgACAO7/6f/6//f/AAD9/xMAFwAbABkA5v/P/8f/1P8BABYAJgAlAA0ABAD0//r/AgADAPr/6f/j/+H/9f///w8AEgD+////9v/2//v//v/6/+//9P/7/w0AIAAxACYAAwDo/8n/zv/y/wcAJgApABYAFQAKAA0ADgADAPn/7//y//r/DwAeACMAIgD9//D/4//t//X/AAAOAAsACwASABQAHQAXAA8AAAD5/wcAAwAYABkACgD//+3/6//2//7/HAAiABIABgDy//X/7//5/wgAEQAbABsAHwAXAAwAAwDm/+L/5v/1/xsAMQAzACUACQD6//7/BwAJAAcA8//x/wAADwAlACsAFQD8/9P/xv/F/+D/EgAtADwALAAOAAkABwAQABEABQDy/+v/AAATADkAPQAjAAYA1f/J/9n/8P8XACcAHAATAAQABwAIAAgAGAAQAAoACwAIAAkAFAAfABkAEQD8//j//f8DAA0AEwABAPT/+/8HABoAIQATAP3/6//m//H//P8HAA4AIQAZABoACwD///7/AgAHAP3/+v8HABAAEwAVAP3/+P/t//D/+f8CAAkABwAAAAAACQAOABQAFQAOAAEA7f/p/+7/+P8KABIAEgARAPD/5f/c/+f/BQARAA4AAQDs/+//CAASABEABwDs/+X/8P/1////+v/u/+z/+P8GABIAGAANAAUA8f/r/+v/8v8QABYAFAAKAPn/8//w/+z/8P/2//n/+f8CAAkA/f/9/wAACAAKAA8AEAAEAPX/9P/+/wUAFwAdACUAGwD6/+n/yv/B/9T/5f8QACAAJAAdAAsABAD4//f/9/8EABAAGwAmACIAAwDz/+P/5f/1//P/EAANAAsACgADAPf/8f/1/wsAEgAaAA0A7//p//X/+/8HAAUACAACAPj//P/5//3/AAAGAAAA/P/6////CQANABUAEwABAPn/7v/y//j/+P/1//L/7v/0/wcAEQAgABYA9f/p/+n/+P8RACAAKAApAAYA8//Y/9D/5v/9/ycALQAiABcA9P/s//T///8KAAsACwAFAAIA+v/6//z/DQAVABcADgAIAAEAEQAbAB0AEwADAPz///8AAPb/+f8JAAYABQAIAAwAFAAHAAEA5//n/wIAFAAoACoAFwAEAPP/+v8PABgADgALAAEA/v/8//3/+//+/wIACQAZAB0AHQAMAOv/3f/t/wYANgBDACoAEwDh/9n/4//u/xIAGgAYABEAEwAaACoAMQAbAP7/yv+9/9P/8f8vAEgAPwArABEACAABAP7/+//0//X/9v8MAB8APQBCAC8AFwDi/9P/0//k/wUAHAAuADMALAAjAAcA+//d/9f/7v8CACUALwAyAC0AIQAZABEACAADAAIA7f/q/+z/AgAnADYAPQAzAAwA+f/u/+//8f///xcAHQAiACEAFgAMAAAA+f/3//b/BgAaADQAMgATAPv/4P/p/xMAKgA6ADMAEAD7/+3/9f8NABkALAAlAAAA8//w//P//f8DAP7/+v/4/wQAJAArABsAFgD8//b/+f8AABcAFQAPAAgA7f/p/+j/6/8DAAkACAARAAIA/v/y//L/+f8AABoAHgAbABQA/P/4/xUAHQApACAAAwDz/+D/6f/8/wwADQAHAPz/9P/6/wUAGAAdAAoABAABAAAA/v8DAAcABQADAAQA+v/+/wwAEgAOAP//2v/P/+D/8/8kAC8ALAAaAAIA/f/r/+T/7//7/xsALAApACIABwD+/+r/6P/o/+X/+/8IAB0AHwAVAAkAEAAXAA4ABgD6//b/7P/2/wwAEAAWABEABAD///j/+P8EAAUA///6/wIAAwAIAAQA/P/9/w4AEAAdACMADwABAOT/6f/y//3/GAAhABkACwDm/9j/2P/i/wkAFAALAAYADAARACkAJAADAPH/2//p/wUAGQAcAB4ADAAHAPv//v8QABEAEQALAPD/8v/7/wAAFwAXAA4ACwD7//r/9f/v/wYAEAAmACMAJgAbAA4ABQDu/+3/+v8LAD4ASQAyABIA6f/Z/+f/+P8TABcAAgDw/+z/7f8HABYAJAAlAAwAAgACAAUACgAUABkAHgAdABgAFQADAO//5//m//D/BwARACMAHgAeAA0A7v/s//v/CwAhACEAFAAIAAUABwAVABcAFgAKAAIA/f/w/+//CAAUACAAGQATABcAEwAOAPr/7v/f//L/IwA7AEEAOAALAPL/9v/8/wQABgARAA0AFgAYAAwABQABAP7/BQAIAAYACwAHAAYACQARABAADgD//wIABAAOABoAGgADAAAABAARAC8ALQAbAAYA7f/l/+7/AQAUABkADQAOAP//+//3/wcAGAAgACEAFgD6//P/AQALABAAFgAoACQAGAANAPf/7//4//7/DgAQAA0ADQD9//7/9f/t//H/+/8YAB4AIgAgABQADAAOABEAEQAKAAUA///x//P///8IABcAEQAHAAQA//8AAPz//f/w//D///8MABwAHgAZABUAEwARAAIA+//2//b/CwAbADAAMQAKAPX/0//G/+H/+/80AD8ALwAiAAYA//8GAA0ACwABAOv/4v/x//b/IQAtAC0AGwDu/+L/3//o/wIACAARABgAJgAsAC4AGwDu/+H/1f/i////DgAuACcAEAAMAPX/6v/w/+3/7//p//r/CwAlADoALwAeAOz/3P/g/+X//v8LABoAGwAaABEAAgD0/+7/7f/w//3/DgAVABsAFwD6/+b/4v/p/wcADQAGAPz///8DAAYADgAEAPn/8P/w//3/CAAYABYAAgD0//X/9f8IABcAEAAQAP//9v/3//T/9f/0/+7//f8LAA4ABAABAPb/7P/t//X/EgAQABUABwD2//f/CwAXABYABgDv/+j/8f8FACEAIwAVAAIA4P/d//j/BwAKAAYACQAHABMAEgAWAAMA8P/l/+r/8f///wYAAAABAO//8P8DAA0AFQATAAYAAwDv//L/8f8AABYAHwAaAA8A/P/4/wMAEQAUAA4A8//n/+L/4v/2/wUAFQAWAA8ABQD1//L//v8IAA4ADAAWABYAEwAIAPP/4//W/9v///8KACcAIwAcABAA/P/5//3/AwAJABgAFgAOAAcABQAEAAAAAQD9/wQACAAQAAkA9v/x//L/+v8IABMAGAAUAA8ACQD2//r/BAATABgAEQD0/+v/+f8KAB8AGQD4/+L/4P/s/yUANgA7ADEAAQDy//n//P8CAAAA+f/1/wgAHABBAEgAJgADANj/1f/y/wgAJwApABMACAAFAP3/BQAOABIADAANAAgAFwAeACUAIAAUAAEA7v/x/wYACwAWAA4ADwALAAIACgAZABwAGQAUAAgAAAABAP7/GAAeABcAGAAOABEAEQAVAA4ABQD6//H/7f/w/wMAFAAuAC4AKgAlABMADAAJAAgA/v8FABMAHwAbAAwA8P/w//z/DAARAA8ACgANAB4AHQAcAAwA8//u/wQACQATABYADAAGAPz/BAARABAAEQAOAPj/8P/k//D/BgAPABoAFAASAAgABQADAAUAAwDy//f/+v8AAA8AFwAYAAsA8P/s/+3/AAAUABkAEQAOABEAFQAVAA8A8P/d/8z/2v8HABkAPQA9ACcADQDt/+D/2v/t/wgAEAAUABIAFAAdABcAEgD5//H/5f/t/wgAEgAjABoA/f/2/+j/6f8MABUAEgAIAAYABwAHAAwACgALAPz/+v/9//z/+v/7/wwAEwAjAB8AFQAUAAUAAQD+//7/9////wMACQAVABYAHAAXAAwAAAABAAEACwATABAAEAAAAAgAEQAcAA0ACAARAAoAEgAOABMACgAIAAcADQAUAA8ADAAGAAUA/P8FAA4AGQAjAB8AGAAVAAIA/v8BAAMA/f8GABQAGwARABAAEQAUACYAJAAdAAsA9f/4/wgADAABAP7/CgAOACMAKQAVAAkA8P/v/wcADwAgAB8AFgAQABAAEAAXABsADgAHAA4AEQAWABsAIQAZAAEAAQD4//P/8//1/wEACgAiACoAKwAvACQAGwARAAYA/////wgAHQAuACwAHAAQAPb/6f/w//n/FAAcABoAFwABAAQAFwAdAB8AFAADAAEAEwAgAC4AMAAiABoA///7//n/9v/6//7/GQAaACwALgAyACgADgD5/+D/5P8JABwAOgA9ACwAHwAKAAAA+/8DABQAFAAWABQAEAAOAAcA///1/+f/+f8BACgAMwAwACQA+f/w/wAAEAA6AD8AKQASAOP/2f/3/xAAPQBAACYACQDu//D/BwASAAoABgAAAAcAIAAoADQALgASAAAA+v///xoAKgA0ADIACwD1/+D/4v8EABkALAApABYADQD//wcAGgAbABQADwD5//7/BgAVABsAHQAHAAEA/P8BABoAIgAdABQAAAD8////DgAoACgACgD+/+3/AAAoAEQANwAnAPf/7P/r//n/EAAZABoAFwAXABYAJAAnAC0AIAABAPH/9P/9/yoAMQAkABYA9f/r//X/BwAiACoAHAAXAAoABQAUABkAEAAEAAQA/f8HABkAKwApABMAAQD7/wAAFgATAA0ABQD8//r/BQAMABAACwADAAIAGAAZAB4AHAANAAIAAwAIABIAGQATABAAFQAcABoAGgAGAPz/8P/7/xwAKgAxACgADgD9/+//9f8IABUAHgAcABkADAAJAAgA/v/y/+P/4v8EABsAOgBAACQAFAD4//j/BwAYACgALwAbAAgA7v/v/wgAFgAiAA0A6f/a/+7/CAA0ADYAEQAEAOr/9f8VACUAFQD9/+f/7/8aADAAUABDABUA7P/S/9P/+v8RACcAIAASAAYAAAAHABgAFwAMAAgABAAKABgAHQAMAAQA7//x/wcADwAdABsA/P/s/+r//v8mADQALAAcAAAA8P/n//P/DQAYABgAHAAHAAgADgAYABQACgDw/+z/+/8MACoAMgAjABQABQAGABgAHQATABkABgAIAAwAEgAOAAwAAwAJAAsADwAUABAABgACAAwAFwApACMAGAAAAPj//P8CABEAEQAIAPX/8P8BAAcAEwAeABsAEAACAP7/CwASABkAFgAJAAoACQAQABMAEwACAAQACQAHAA0ABwADAP3/8v/1/xQAGAAdABQADgABAPj/AAAOABQAHgAdABoAEgANAAoADAANABIAEwAMAA4AEAAUABkADADw/+f/9v8EABwAJwAqACMADQAEAPX/9/8AAAgAHgAhABgAFAAAAPz/+f/6/wsADgAaAB8AIgATAAYABwAYACEAKQAZAAUA9//z//z/HQAnABkADgAAAPj/AQALABgAEgAQAAkADQAXACoAIwASAAAA/f/5/wgADwAMAAsADwATAA4ADwD9//X/6//t//3/DAAaABwAEgADAPb/7//+/wgAFAASAAkAAgAAAAAACAAQABAACgD8//z/9v/1/w4AFwASABMAAwABAPD//v8IAA8ABwAFAAUABQD8//n/8//+/xYAFwAcABYAAwD6//j/+v8KABMAFwAaABMAEQAUABMAEQAOAAMAAQD+/wMADQAQABEAEgAKAAIA/v/1//v//P8DAAwAFgAhACcALAASAP//1//L/+H/9f8nADIAMQAmABIABAABAAEAAwAJABUAFAAcABsAGQAVAAkABwD3//v/DQAVAAsABgD5//b/BQAaADQAMgAQAP//4f/n//7/FAApACsAGQAVAA0AGwAgABUA9P/n/+7/AAAxADcAJQARAPr/9P/9/w0AFwAUAPz/7//o/+3/FgArAEIAMgAFAPT/6v/5/ygAMwArACEADAANAA8AFAANAPz/6//u////CwA0AC8AGAABAOn/6v8CABYAJwAqABIABgDw/+7/AgANACgAMwAiAB4AAgD7//D/7P/5/wAAGgAlADUAJgABAOr/1P/d/wsAJgBCAD8AIAAZABMAEgD2/+3/8P8EAC0AQQBAADQA+//t/+b/7P8AABMAGAAWABwAFAASABMAEgANAAcACAAMABEAEQAcABEAEwANAA8ACQAEAAcAAQD///v/DgAUABgAEwANAAcA///+/w4AEQAVABUAFgATAAgAAQD3//z/CgAbABwAIQASAAcA8v/t/93/2P/4/xAALwA1AB0AAwDk/9z/AwASAB8AHgAUABoAFAAXAAoA/f/u/+P/7//5/wsAEQANAP3/8v/1/wsAEwAaABAADwAUABQAGwAaABYABAD1//n/AQD+//7/+P8AAAkAEgAPAAQA/f/2//T//v8LABIAFwAaABUACAD7/wEACQAUABwAGgAFAPj/8v/+/xEAEgAlAB8ACQD7/+//8/8CABMAJwAwACYAGgACAPn/9f/1//v//f8QACIAOAA8ACgAEwDz/+v/8P/8/xIAHAApACcAHQAOAPb/4//s//P/DAAZACwANAAmABgABgADAAUAEAATABgAAQD9/wAAFwAhAB0ACAD9//n/+/8QAA0ACwAIABQAGQAnACAAHAAaABQAFwAYACAAHgAXAP3/BQAOAAwAEQAWABEADwACAAkAAQD9/w8AFwAqACwAIwAZABUAEgAiAC4ALwAuABgAFgAHAAEABwASABwAJQAZABAA9f/q/+H/5v8XACsAWgBYAEEAJAD7//z/DgAjADMANgAoABoACwANABEAEwAJAAgA//8EAAwAEgAcACEAJwApACsAJgAoACQAFwAVAAgABgARABYAGAAlACYAGwABAPT/5f/j/wEAGAAuACwAKwAvADEALAAlABkAAgD3/w0AEgAgAB8AFwATAAUABAAFAAQADQANAPz//P8EAA4AMQA+AD8ALAABAO//6v/2/x8AMwA4ACwAIgAbABAACADy/+f/3P/p/xQANQBXAE4AHgAHAOv/6v/3/wAAFgAaABIAEQASABEACgAMAPf/6f/f/+f/CAAgADQALAAEAPv/9/8JACEALgAZAA8AAAABABUAHgArAB0A8f/j/+T/8P8UABwAGwANAAYADAAiACcAKAAaAP7/+v8MABwALQAkAAcA+f/s//D/CwAZACQAHAD///v//P8DABsAEwALAAEADAAZADUANwAiAAwA7f/n//L/AQAeACEAGQAMAPj/9P/2//r/AgD+/wEABgARABYAGgAVAAwABgANABQAFwAZABQADAAGAAAAAAAKACAAHwARAP//4v/h/+///P8VABcAHQAfACkAKAAZABUA+f/v//D/+/8bACYAIQAYAPH/6P/k//H//v8NABoAHwAuADkALQAgAPj/7f/t//f/HQAvADgALgAVAAgA8f/w/wgACgASAAsADAAQABYAIgAmABcAAQD8//r/AAAVACQAJgAmABUACQDx//b/+/8IAB4AJAAjAB0AEQAMAAcABwAJAA8ADgAZACcAMAAjABoABgABAPj/AQAQABgAHAAhABsAGQARABAA/v/8/wkADwAhACcAKQAhABQAEAAEAAUAFAAYABIAEwASABAADwAZABYAFAABAAIACQAIAB0AIwAlACIAFQAMAP7//P8DAA0AGAAfACYAIQAPAAoAAQD2//7/BwAMAAsAEAARABAADgAVABIAFAAZAB4AGwACAP3//v/8/xEAFAAfAB0AEgATAAQA///4//T/AgAUACkAJgAbABMABwD+//z//P8TABUAHgAgABoAGwAUABMABAABAP3/AwAEAAsADgAOAAkADAAXACAALQAeAAoA+//5////EgAhACQAKgAiACAABgD5/+3/8P8KABQAIwAiAAMA/P/8/wMADgASAAQA8//u//v/IgAuADcAIgD5/+v/9P/6/wwAEQAJAAMA/P8DAAgADQAFAAwABwAJABIAEwASABAACQAMAAwADAABAAQAAQD5/9r/3v/r//3/IQAoABUABwDm/9//AgAZACkALQARAAYAAwAKABAACQD3/+v/4v/r/wgAFgAlACkABADt/9P/1v/2/wsAKwApAAoA/P/3//v/DAADAAsAAwAGABEAEAAMAO7/7f/z//b/CgARABkAEQD///v/+P/+/xMADgAQAAkA8f/p/+v/7v/+/wkABAADAPv/+//1//f/BAANACEAHwAMAP//8f/t//j/AwARABkAFgAOAAQAAQDy//X/7f/r/+r/8f8FABIAHgAjABgACQDx/+r/9/8CABsAHwAbAAsA+//4//r/+/8HAAEA/f/8//T//P8KAB0ALwAqABMA///g/9z//P8GAA0ADwD8//n/AAAOAAsAAwD0/+3/+P8FAAgABQANABAAGgAiABcADQDz/+z/8//4//z/BAAdACEAIQATAPf/4//e//D/EQAjACsAJAALAAkACAAHAAAA+//w//X//f8JABoAIQAcABUA+f/u/+z/8v8JABIAJgAlABwAFAAVABIAFgARAPv/8f/s//7/HQAkAAgA/f/x/+///P8HABAABgAGAAwAIwAtAB8AEAD5//L//v8BAB4AGgAJAPj/6P/f/+v//P8bACIAHQAPAPf/6//q//r/FgAkACEAHAAbABAADQAQAP//+//5//3/DAASABIACQD4//P/9P/9/wkAEQAUABoAHQARAAIA+P/z//j/AwAOABYAGQAIAAQA8//w//7/BQAOAAcA9P/0/wAACAAkACEAEwD//+f/6//5/wUAFAAWABEAEAAEAP7/8f/p/8//0//w/wkAMAAvABIA9v/X/9r/BgAbACYAIQD3/+z/3v/m//n/AQAJAAMA/f/+/+v/6/8OABEAEwAPAAwAAQD8//r/9P/4//3/BAALAAMA6v/d/87/0v/8/xgALwAvABYABQDn/+P/7//0/wAAAgAEAAkAJgApAAkA9P/K/7n/xP/e/xwANQA7ADMAEwD+/+n/5f/x/+//BgAIABUAEwAOAAQA8//p/+P/6P/x//r/+P/6////DgAUABoAHgAOAOz/4P/n/+j/AAARAC4AKgATAAMA6P/j/+v/8P/9/wUAEAARAAMA+//k/+n/7f/4/wwABwD///v/5v/q//P/+f8UACIAKQAkAO7/4P/t//P/DwARAAcA/f/5/wMABQD9//b/9f/t//P///8CABAADQAPAAkACgAFAAEA/P8JAA4ADwAOAAYA+//x//f/BgANAA8ADQAGAP//9v/1/wIADAAiACUAEQAIAO7/7P/3/wUAFQAXABMACwAEAAgAEQAWABMAGQAWABcACAD///D/9v8IAAwAGwAYAAkA/v/1//f/AwAJABgAGwAPAAIA9//v/+b/5v/2////EgASABoAIgAdABUADQAGAPf/9P///w0AJQAqABUACQDt/9//3//d/+f/9f8RACcALwAnAAIA9//0//D/CwAOACYAKAAoACMAFgANAAIA+//j/9b/1//d//T/AgAlACcAEgANAAAAAwASABkAJAAnABwAGgAUAA4ADgAGAAEA/P/7//r/9f/+//3/AAAEAAsACwAEAPr/9f8DAA8AFQAZAAkABAAGAAsAGQAaAA4AAgD4//X//v8AAAEAAwD8//7///////3////w//X/AwADAAgACgABAAQAAAACAAsAFgAkACgAEAD7/+T/6////xAAIgAgAAQA+v/x//r/AQADAO//6f/y/wEAJwAwACYAFgDx/+P/5P/q/wsAJwAwADIAIAANAOT/5P/f/+T/7f/x/wcAGAAkACYAEgABAPH/7//y//j/9v/7//r/AgAGAAwAAgD+//b/7//v//f/FQAYABQAEgD1/+//8f/0/wgA//8BAPr/5v/g//H/AgAfACUAGQARAOj/2f/a/97/7v/0//v/BQAQABQAHAAbAAYA9//h/9//7f/6/w0ADgD9//P/6P/m//v/AAD8//n/7//z/wgAEAAOAAkA///3/+3/9P/2////BwALAAAABgAJAAgABwD//+L/2f/j/+3/DQAKAAEA/f/r/+r//P8BAAwAEgAYABYABgD3/+7/7v/w//j/BgAQABMAFgD7//n/7P/n/+3/7/8BAAAABAAEAAkAAAAJAA0ADAAFAP//BwAeACgAKAAjAPv/7P/h/+////8HAAUA/v///wkAAQD5/+z/4f/2/wYAHgAaABMAEAAKAAkAAQANAAYA///2//f/+P/8/xIAFQAPAPr/8P/j//H//f8IAA0AFAAQABkAHgAYABYABgD9//P/7P/2//z/DQARABUAEQAKAAQA9v/z//X/7//u/+3/BQAHACkAMAAxACoAFQABAOb/3f/m//f/DwAbACcAKwAcAA8A8f/d/9j/4/8MABsANAA1ABQABwD///n/+f/6/wAAAAAHABgAHwAgABMADwAQABcADAAQAPX/8v/o//j/EAAbACMAIgAZABMABADu/+X/7P8MABYAHAAWAAYABgADAAQA/f/9//P/+/8PAB8ALQApAAcA+//z//P/AAAKAA0ACAD+//X/9P/6/wUAAwDy/+7/6//w/wQAEAAaABcACwAPAAkAEgAOAA4A/P/w/+b/5v/v//n/+//8//7/BgAWABYABADz/+D/5f8DABUAIwAnABcACQDm/9z/0P/Q/9j/4//3/wcAJQAuABkAAwDi/9T/3P/t/woAFgAfAB0AEQAJAP///v/4//D/3//U/8//0v/2/w4AKAAoAAsA9v/h/93/5f/j/+7/8f8DAA8AIAAiAA8A///s/+P/2//j//P/BAAGAAUABAADAP3/AQD7//D/2P/W/+P/8f8aABwAHAASAP7/9//t//L/+P/y/9z/2//l//b/FgAfACIAHQAKAAUA6f/a/8T/yf/t/wYAJQAnABUAEgD5//X/1//I/8//4v8OACIAJgAWAAQA+v/7//b/3P/b/9H/4f8WACwAMwAjAP7/5f/a/+D/6P/k/93/2f/z/wgALwA6ACYABwDO/8T/xv/Z//7/EAAcACAAFQAMAPD/3v/e/+P/7//4/wQAEAAPAAwA/v/y//r//f/9//v/7f/4/wQAEwAZABQABAD///T/9P/1/+z/5//k//L/7v8QABcAMgAxAB4ACwDi/9b/3f/m//n/AgD7//b/9f/+/wMABwABAAQACwAJAAcABQAQABUAFgALAPv//P/8//3/4v/d/9H/2//0/wgAHAAeABkAFgABAPH/4f/e//D//P8iACgALQAiAAgA+v/f/9H/0v/c//D///8SABQAGQAWAP7/7f/m/+X//v8QABwAHAAZABoAEAASAAcA/P/0/+v/4v/w/wcADwAeACQA/f/x/+D/3f/7/////////xQAEgAPAAgABAD6//v/AQANAAcA/v/0//v/AgAPABcACwD9/+b/3v/a/+P/BQAYAB0AGwAEAPf/+/8BAAMACwAFAP7/+//5/woADQASAAMA7P/Z/87/2f/4/wIA+//2//P//v8TACAAGQAYAAAA9v/T/9L/1f/q/xwAMgAuABUA4P/M/8D/xf/p/+//CgASABsAFgAAAPX/7f/5/+v/7//z//v/CQANAP7/7v/h/+X/7v/0//D/6f/h/9r/4f/k//n/BwAVABQACAD+/+r/5P/c/9n/3f/q/wsAIAAYAAsA6f/X/8T/z//o/+j/6//o//L/7f/3/wMAEAAFAPL/4//O/8z/4f/x/w8ADwANAAMA6v/m/9T/1f/T/9f/3P/i//b/AwAOAAUA9//n/9b/4f/+/wkABgD8/+r/6//3//n////9/+7/5v/Q/87/3f/u/woAEwANAPz/5v/p/+X/5//s/+j//v8IABAADQDw/9v/1f/X/9r/6P8CAAgADQANAP//9//r/+T/8f/z//P/8v/z//b//v8BAAgABgAAAPH/zf/N/8D/yP/r/wcAIwAvACgAIADo/9X/v//C/93/8P/7/wMACgARAP7/7f/D/7n/v//h/w8AHQAVABAAAgABAAMAAQD9/+z/2f/Q/9j/3f/x//n/BgAHAAQA/v8AAP3/9//s/9j/3P/9/xIAJgAdAPH/3//f/+j/AAANAAYA9P/W/9L/4//3/xoAIQAGAO//3//e//f/+//8//j/+P/y/wAAAAAKAA4AAQD1/+L/3f/o//b/GwAVAP3/6f/a/+H/AwAKAAoA+v/m/+X/+P8AAAkABAD+//H/9//5//j/+f/r/+r/5P/o//b/AwD//wAA8//2//3/AwD+//D/3f/d//f/CAAaABkAAgD1/+D/3v/t//T/BgABAPH/6v/k/+3/CgANAPn/6f/Q/9H/8v8CABYADwD9/+n/1f/R/9n/4/8GAAoABwAAAOb/3f/c/9v/5P/m/+7/8v8CAAMA+f/v//H/5v/v/+7/9v/2/wIABgD8//n/5P/b/9z/3v/v/+7//v////D/6f/t//L/6v/o/+X/6f8CAA8AEwAJAOn/4P/b/+H/6//s/+P/4//x//3//f/3/+v/3f/U/9f/7f/1/xIAHAAkABgA5P/P/7z/xP/k//b/AAAAAPz/8//m/+X/3f/i/+f/5P/r//T/AAAFAPr/7//n/+L/4P/m//P/7v/i/+L/7//1//j/9//l/+D/yv/I/9D/2//1//v/9f/s/+v/7//y//L/5//h/+z/8f/5//L/3P/U/+b/7f/4//n/7P/j/+j/5f/s//X//P/9//3/8v/U/8n/yP/T/+z//v8GAAQA9P/0/97/1v/M/8//4P/t/xAAFwAVAAMA4f/O/8D/zf/9/w8ADgAEANH/xP+8/8v/+f8NABEACADf/9T/1P/c//L//f8EAAQADAASAAoA/f/a/8v/z//h////CgD2/+L/2//a/+3/9P/w/+3/7P/x//v/AAAGAAcAEQAQAAoABAD3//D/4v/Z/9P/5P/9/woACAALAPb/9P/1//L/6P/l//z///8EAPv/+P/w/wQAEgAJAPr/3f/W/83/4v8FABMAFAATAA8ADgAEAPn/5//a/93/6v8CAAwAEQALANv/0//V/9b/+P/1//T/8v8FAAwAEQALAPX/6P/z//r/EQATAPf/6P/Y/9H/4f/6/xEAEgD8/+r/zv/R/+//AAAJAPr/5P/h//L/AwAfACUADQD+/9z/0P/Y/+v/BAAMAAcA+v/o/+f/4f/j/9z/3//x//7/HgAcAPn/4f/J/9L/3v/q/w4AFgAoACcABwDt/8r/yv/V/+L//v8JAAkACgD8/+v/zf/M/+T/+P8cABoAAADx/+z/+v8VABMAAwDy/9r/2f/v//b/CwAIAPH/4P/c/+z/DQAVAAgA/P/d/9r/7v/+////CAD/////AAAHAAAA+//i/9T/0P/L/9n/7P8SAB4AFwANAPj/8//e/9H/y//W//3/GgA6ADsAAQDo/73/uv/V/+r/FAAhABYACwDq/+D/2v/p/+7/9f/w/+b/5v/u//T/9v8DAAcA///4//L/6f/q/+L/1P/U/+n/7v8KABIABgD0/9f/zv/b//H/+f/+/wMAAwD6//T/7v/0/wkAFgAJAPz/y//G/97/7/8VABcACwD//+f/3v/b/9z/8v/7/woACAAAAPv/AgAKAP3/6v/F/8f/5f/z/xYAGQANAP3/7v/i/9z/4//7/wYABAD6/+f/6/8LABcAIQAVAPP/6//j/+b/8v/4/wsAGwAeABsAAADq/8n/yf/U/+f/CwAYAB0ACgD2/+f/3//q//b/+f/0//P/AwAMABsAJAAdABMA+P/p/9L/zf/p//b/BwACAPH/7//u//T/8//o/+H/6/8NAB4AHgAQAPj/9f/6//3//P/6//f/9v/z/+3/8f/y//T/BQAOABUACwAJAPP/6f/W/9r/9v8IADEAOgAkABAA4P/P/8n/0//1/wcAGAAXAA0ABgABAP3/+P/1//D/6/8BAA4AEgAOAO7/5v/n//P/AwAMABAABQDs/+n/+v8OAC8AOAAhAAoA2//a//b/AgAOAA8A/f/u/+3/9/8AAA4ADgAQAP//8v/i/+X/+v8LABsAIAAWABEAAgD2/+X/1//b/+v/EwAmACkAJQD+//D/2//k//3/CAAVABMAEgAPAA4ADQD4/+f/z//X//X/DQAoACYACAD9//D/7f8IABEAFAAPAPT/5P/X/+L/AAAQABQADQACAPr//P//////9//7/wIAEAAfABkAEwAIAAQAAgD4/+n/5f/t//L/DQAPAA0AEQAOAAsA+//x/+v/7v8GABUAJQAkABMACAD9//T/4f/Y/9r/3v8BAB8AQQBBABkA9//U/9r/AQARABwAEgD1/+j/BAAPABwAFAD6//T/7f/x/wQACAAAAPj/+f/6/xEAIQAqAB0A6f/M/8X/2/8bAC0ALgAjAPT/7v/s/+n/2v/T/+b/+P8kADAALwAfAAEA5//V/9v/8/8DABQAEgD9//f/CwASABsAEADv/9//4v/o/woAHQAeABUA7//i/+D/5f8LABEACwD//+v/9P8aACoAJQAYAOz/2v/d//b/DAAGAPH/4P/m/+n/EQAhACYAHADz/+b/3f/h//b/+v8JAAkAGAAkABwABADL/7r/uP/S/wwAJwAiABEA9P/w//7/CwASAAgA6//d/+H/8f8oADAAHwAGAM7/x//a/+j////9/+3/8/8KABYALwArABMAAQDd/93/5f/s/x0ALwA2ACkA+P/l/9r/3P/0//D//P/+/wAABAAPAAwA/P/5//z/+/8FAA0AHgAYAAYAAgD6//3/BwABAPz/9P/0//X/CwAHAAAA9v/7/wUAEQAbABQADADx/+7//f8FABgAIgAPAAMA4//m/wUAFQAqAB8A8f/h/93/4v8CAAAAFQASABUAEwD+//b/6v/y//7//v8BAPn/AgAJAA4ABADt/+D/6f/0/wkAFwAhABkABwADAPL/7//v//b/DQATAAwACQAPABAADwALAAcA/f/x//H/8//4/wAADAAjACYABQD9/+f/3//o//n/EQAWABUAEgASABcAFwAQAPn/5//N/9L/BwAgADMAJwAJAPP/2v/c/+X/7v/9/wgAHAATAAsAAgD6/wQAFwAWAAIA9f/d/93/8v8BABcAHwASAPz/0P/I/87/4/8VABgACwADAPj/AAALAA8ABQD0/+v/5//2//7/CQAKAAEA9P/d/97/7f/7/w8ADgAFAPP/5v/o/+v/8f8UABsAEwABAOL/2f/Q/9j/7P/0//X/+f8EAAQACgABAO3/5f/n/+r/5v/m//D/+f8IAAkABQD1/9n/0f/W/93/+P8DAAkACAD5//j/+P/4//D/5v/Y/9X/5v/0/xYAFgACAPT/2f/U/9T/3//6/wYADAAFAPb/8v/3////CgD//9//0f/S/+P/DgAfACIAGQD///b/6P/i/+T/3f/g/+T//P8DABIADADq/9X/vP/B/+3/CAAlACkAHwALAAgA/v/q/+b/3f/d//P/AQARAB4AFQAKAOf/2v/b/9z/8P/t/+7/7P/7/w0AIAAiAAoA+v/a/9X/4f/m//r///8GAAMAAgD9/wIAAQD2/+b/zP/L//D/FAA9AD4AHwACAMj/vP/M/9z/AQARABkADAD5//f/+v///xEACgD8//L/7//s//v/AAANABQAEwARAOz/5f/n//b/BgAUAAsABgABAPv/+v/6//D/6//y//P/+f8CAB4AIAAUAAgA6f/g/+L/7v8HAA0AAwAFAAwACwD3//T/+v///w4ADAACAPf/9v/9/wAA9//w/+r/+/8NABoAFAD9//H/3//o/wAACwAOAAwABAD6//X//f8JAAYA/f/v//j/AgAeACEAEwABANX/1v/g/+n/9P/4/wAABQATAA0A9P/q/9H/0v/k//P/GQApADQAIwDt/+L/6v/1/wgACgD9/+n/1v/f/+v/9f8PABgACgAEAOn/6v/w//v/CAAFAPb/9v8JABIADAAAAOL/0//d/+n//f8BAAIA+//7//z/AAACAAkADAD8/+v/1f/X/+f/9P/4////9v8FAAoAAwDz/+T/yP/L/+j/9v8cACcAIgAVAPn/6//i/+L/8v/4//L/8f/l//H/7P/t/+v/7//9/wMABwD2/+D/3v/g//D/CwAYABUADwDu/+H/0v/W/+n/9v/8/wQADAARAA0AAwDe/8z/wf/I/9z/7v8HAAUAEAAPABkAFADw/+P/4P/c//T/AAAMAA4ADQABANf/xv/O/9r/6v/v//f/7//7//f/AgAAAO//6v/t/+r//P8IABoAGQD+/+v/yv/H/+T/9//9//n/4//Z/+L/8P8EAAgA/////+v/5//7//3//P/7//z/9f/q/+j//P/0/+X/2v/e/+j/DQAgABAACgDk/+D/5P/r//3/AQAKAAsAAgD5/+//8f/z//L/+f/2/+7/8f8DAPv/AAAFAAYABAD9//b/7f/r//f//P/4//X/9P/6/wsAEgAMAPr/4//i/+f/8f8TACUAKwApAAUA8P/T/9L/5//6/xIAGQAJAAEA/P8AAP7/9//z//D/4//n/wMADQAXABUAAwD9//X//P8GAAgA/f/0//P/9P8DAP//8//u//D/8v/w//z/CAAKAAYA/f/v/+7/AwANAAoA///q/+T/9v8HAC0AKAAGAPj/3//b/+P/6v/3/wQAFAAQAAAA+f/2//f/BgAGAAIA/f8GAAkADwAJAPn/7//n/+z/+f////v//f8CAAQACgASAA4AAQD1//j/AAAWABkAFwAJAAEAAAAEAAgABwD///f/8//6/wAA/f8EAAMA7P/r//H/8P8KABQAGwATAP////8DAAcA+//z/+P/6f8SACAAKgATAPT/4f/i/+v/+v/9//3//P/6//n/EQAWABcADgD5/+r/4f/u/xUAIQAcAA8A8//k/+T/7v/7/wEA9//u/9n/3f/1/w4AHQAeAP7/6f/Y/+H/8v/1////AQALABMAEgADAOP/3v/n//P/8//5/+3/5P/g/+L/+v8AAAoAEQAEAPP/3//a/+r/9/8EAAQAAQACAAIACgAIAAQA6P/b/9n/3f/y/wgAFwAVAPv/5//M/8P/xf/S//f/CgAnAC0AKwAiAP3/7f/P/8//4f/n/wgAFwASAAoA/P/6//f/+v/y/+7/4//q/wwAHwAuABoA7v/P/7//yf/3/wsAFQATAAMA/f/z//f/+f/2/+b/6f/1/wMAGAATAAcA+v/m/+j///8JAA0ACADy/97/2f/f//7/CwAWABQA9//v//b/CQAZABcA+//m/+D/7v8bACkAJgAPANP/xP/I/97/AwAXACMAGwAIAPv/AQD9//3/+P/s/+z/DgAjADQANwAdABMA7f/r//L/8P/4//j//P/6/wYACAAFAPf/3v/c/+L/+v8bAB8AEAAHAAAAAAAUABkAEQAKAPf/8v8CAAEA///4//b//P8QABMAFwAQAPj/6P/c/+b/AAARACgAKgAmACMABQD3/9D/y//b/+z/HgAsAD0ALwAHAOz/4//b//T//f8YAB0AJAAdAAgABAD4//X/+f8BAAYAAAAMAAoA+f/7//7/AgD7//3/AgAHABIAGwAmAB4AEwALAAcABAAHAP7/+v/4/wQAAwD+//v/9P/4/wkAEwAZAB4ACwADAPj//P8RABEACgD9/+v/8f8EAAsADQACAPH/5//l//D/CAANAAkABgAGAPX/+P/6/wQADgATABYAAwABAPL/8f/q/+//6v/n/+v/6v/1//7/EwAXAAYABAD///3/DQALAAkAAwD3//b/AgAKAAYAAADw/+P/2//l//n/AgD3//H/7//y//b/+//6//3/6//k//L/+v8EAAwAGQAZAAgAAADk/9z/3f/m//L/9v/4//X//f8FAAwADAD5//D/2//a//D/BgAuADIAHAAFAOL/2//h/+//AgAAAAAA9P/i/+T/5f/t//D/9f/8//3/CAANAAMAAQD+//7/+P/1//j/8f/z//b/8//u/+b/6v/q/+v/7P/x//n/+/8HAAgAAwD8//v//f/x/wAADgAJAAgAAwDm/+f/9P/4/wYA/f/x/+f/5f/p//3/+v/6//P/5//r//3/DgAYAA4A6//d/9v/7////w4ACAAHAP//AgABAPn/7P/l/+z/8P/8/wAACAAFAAQAAQDy/+r/5//p//f/AwAOABIACgD8//z/+f/1//D/7//t/+//8P8EAA0AHwAlABAA/P/S/8P/4f/9/yIALAAXAP//0//O/+T/+v8NABEAAgD1/+j/7P/6/wAADgAGABEAEQATAAsA/f/0/+7/9f/u//T/AAADABEAEAD6//H/4//k//j/AAAgABwAEQAEAPz///8AAAAA/P/6//b/+P/8//j//f/6/wQABwAWABQAAQD///f/9f/5/wEADgAYACYAIwARAAgA7P/k/9v/3v/1//7/DQANABUAEQD6//P/4//m//z/DwAYABIA+//2//X/AQAQABUABgD2/+H/1v/x/woAKgAsAAUA8f/b/9//9P8HAA4ACwAGAAIA//8CAPj/9f/x//D//v8JABgAIQAOAAIA7v/s/+f/6//4//j/CgAUACMAJAAEAPH/yP/G/+r/AwAvADIAFwAAAPX/9/8QABMAAgD2/9v/4P/6//3/DwAJAAQAAQD0//T/7//1//v/DQAaAB8AGQATAAAA+f/y////+//+//X/7f/g/97/8//+/xoAIAAYAAwA/f/5//b/+P/3//b/AwAPACAAJAAYAAsA5P/V/93/6f8GAAkAEwATAP3//f8FAAkABAD3/+H/0//k//j/GwArADAAEgDb/8v/1P/i/xQAGwADAPr/7P/q//n//v8VAA8A/f/w/+D/3//1//z/BAALAAMA+P/1//r/9P/z/+X/5f/d/+b/+v8DABAABgD///H/6P/m/+j/7f8BAAYAFAAWAA4AAgDX/8b/zf/n/wsAGwAiAAsA5P/a/9n/7P8OACIAHAARAPD/5//i/+n/AgABAPX/6v/j//b/CgALAPX/3f/I/8//CgAoAEEANwADAOz/1f/e//3/CgAQAAoA+P/0/wUAEQAOAAMA4f/W/9H/4v8QAB4AKQAXAPr/8//1//X/8//q/+H/6v8JABcAHgAmAPz/7v/S/87/6P/+/xkAIAAiABQA8//p/9r/zv/S/9//AgAYAC8ALwAJAPT/0f/O/+//BAApADUAJgAOAO7/5//r//b/DAAAAPP/5P/t/wIAGgAkAAYA7v/W/9z/+P8JABYABADt/+X/9v8EACIAHwAEAPj/7v/5/wsACAD2/+v/8f/7/xEAFQADAO7/2//a/+r/9f8IAA4ACQABAAAACQAdACMAEgAAAOL/3//z/wcAKwAjAPf/5v/b/+H/BQASABkAFAD8/+//+P/+/xsAJwAtACcABwD9//j/AwD8//P/4f/l//f/EQAvADAAEAD0/9P/0v/x/wYAIAAdABoAGQAaABUADAABAOD/0f/S/+f/FAAlAB8AEQDp/+L/7f8CAAsAEAD8//D/8v/9/xUAIAAaAAsA8P/n/+v/+P8EAAgAAQD1//P/AQAPABoACgAFAO3/7//y//r/BQANAAAA+f/s/+7/AwAJAAMA8f/b/9f/7/8AACsALAAMAPP/2P/X/+r/+P8RABQABAD2//L/8v8AAAUA/P/6//r/+v8FAPv/8v/u//T//P8VABwACAD1/9z/0v/l/+3/CQAPAAcAAwD5//7//P/6/+7/4v/f/9//AAASACYAHwD1/+3/5v/k//v/BwAZABIA+P/m/9r/3P/8/w0AHQAaAAwA/f/a/9D/2//r/wwAIAAqAB0A/f/u/9z/4P/m//H//P8OACoALgAeAAgA3f/O/9j/5v8CAA0AGwAgABQADwD0/+3/4f/g/+L/6P8AAA4AEwAXAA8A///r/+r/8f/v//3/CgASABQAEQAHAAgA/v/0/+v/2v/U/9v/7v8DABQAGgAcABcABgDp/+P/3//o/wgADgAZABIABgAAAPf/7v/k/+n/9v/6/wYABgAAAPf//f///w4ACwD8//n/8//u//H//P8HAAkABgABAPL/9//u/+r/6v/r//n//v/+/wAABAAQABkAGwACAPP/4P/h//r/DwAXABMA/P/1//b/AQABAAgABAACAPb/7f/4//j/EwAXAAoA8//d/93/9/8HABsAFgAFAPn/9v/6/w0ADwAKAAQA6f/o/+//+/8QABQAAADz/+j/5P/y//L///8HAAwAFwAWABEA/f/1//T/+f8IAAwAAgD8/wMABgAFAPr/9f/w/+r/6f/z//n/GAAjAB0AHQAQAAwABQABAPv/+v8AAP//DgANAA0ACwAEAAAA6P/e/+D/6P8FAAoACAACAPv//P8XAB4AEAAFAP///f8PABsAEwALAP7//P/u/+3/9f/9/wYAAgDs/+L/6//u////CQAUAAkABQAIAA8ABgANAAcA+f/4//n/AwAYABsAIQAfAAsA/v/r/+X/3v/c//T/DAA1ADcAHgAEANn/z//R/+H/CwApAFAATAAdAPr/0f/P/+3/AgAZABQA+//5//r/BwAPAAsA+v/4//j/BgAbAB8AHQAHAOT/2//2/woAKQApAAQA7f/V/9j//v8LAA4ABgDt/+3/BQAUACcAJgAFAPL/4v/k/wAADAAZABMA7v/m//P//v8HAAkAAQD7/+3/7f8OABsAGwAVAP3/7f/p//L/AwAEAAMA9v/z/+7/+v8BABUAEQD8//P/5//i/+f/7f/7/wsA/v/+/wMA/P/2/+z/4P/b/+v///8cABoA9P/g/97/7f8LABYAAQDq/9X/0v/u//n/GAAUAPv/7v/f/9//8f/5///////v/+//+v8EAAoAAgDs/9v/y//M/+v/AAAdACMACADx/9P/zP/o//T/FgAZAA4AAwAFAPv/6v/e/9r/3v/s//D/+f8EAP3//f/8////AAD+////+f/1//j/AgAMACYAJwASAP//z//J/8//4f/4//3/BQD9/wgAFAATAAsA8P/l//T/BAAiACgADwD5/93/4f8GABUAGAAEANj/zP/f/+n/BgAOAB4AGgAKAAEA7v/k/+b/8f///wYAEAAQAAoABQABAPf/4v/c/+j/8f8IAAwADgADAO//7f/1//b/AwADAPP/8v8BAAIA/v/6/+3/6v/3/wgAFgAcABEA/v/r/9z/7P/8/xMAFQAFAPb/4P/o/wQACwAFAPH/0v/O//L/DgAkACYAAADs/87/1P/t//f/CQAXABYACgAIAAsA/v/7/+b/3v/W/+z/IgA3AC8AGwDd/87/z//f/woAEwAGAPz/5v/n/+P/9P8CAAcABwD8//D/7f/+/wAAEQAaAA8ABgDz//D/9v/x//b/8P/j/+L/+v8GAA8ACgD6/+j/3//e/9//6P/8/wsAGwAiABAAAQDv/+r/9P/9/w8AFAAEAAIA9v/w/+v/6//9/wgA+f/s/9//6P/3/wgAJAAaAAoA9v/t/+z/9P8AAAUACgAJAAwAAwADAP3/+f/v/+7/4P/i//b/EQAmACAAEgAHAOz/5//q/+v/7v/t//n/8/8BAAMACAAEAPn/8//j/9v/3f/j//L//P8dACAAFwAKAOr/4P/X/+D/6v/t//r/DAAVABcAEAAIAOH/1f/A/8D/y//a/xQAJwAuABsA7f/j/+f/8f/1//j/8P/l/+3/+/8WABoAEwANAOf/2P/K/8//6f/v//7/AAAAAAEACwAUAAcA/f/m/+H/5f/s/wUAFQAjABsACQD4/93/zv/N/87/1v/g/wMADQAUABUADQAHAPP/4v/h/97/9f/5/wEA/v/0//P/9//1//L/7P/i/+L/8v/6//r/+P/q/+z/AQAKABAABwDn/9T/0P/Y//X/BwAVABQACwD4/93/z//Y/9n/8/8FABkAIwAsABwA/v/n/9P/1P/R/9r/5f/w/wMACwAGAP3/5//b/9X/4P/x//3/DgAMAAcAEgANAAcA6v/a/8b/yv/b/+v/EQAWABQACwD5/+j/2f/b/+X/6//1//3/CQAGAPf/9P/v//j/BwAHAAAA+f/q/+T/5P/m//r/CAAaABgAAwD2/9T/x//M/9T/+/8YADIAQAAoABAA1//L/8j/2v///w0AJAAeABMA/v/k/93/2P/W/+H/5//j/9//8P///yEAKQAsABUA5f/T/9L/1////xAAGgAQAPn/7v/3//z/+//3/+n/6f/2/wIABQAIAAQA///+//n/+P/1//f/9v/h/9f/3v/u/xoAJwAuABcA7P/Q/8f/z//2/woALAAzADkAKwADAO7/w/++/9H/7P8hADMANAAqAPX/3P/U/+T/+v8DAAgAAwD5//z/CQADAPP/7//s/+7/7f/1/+z/6//1//z/CwASABQABQD0/+T/0v/a/wAADgAaABUA+P/q/9r/5f/9/wAA8f/z/+P/6//3//7/BAADAP3/9P/6//v////3/+3/6P8AABYAJwAgAP3/4f/G/87/5//4/w4ADAD0/+z/4//m//v/AAAAAPX/9f/5/xMAGQAQAAAA3//S/97/8v8ZABwA/v/p/83/yf/g//H/HwAtACwAHwDk/9n/yf/R/+T/9//7//7/CQAQABEABQDm/9T/xP/J/+P/9P8NABMAGQAUAPz/6//i/+H/5v/t//3/BAAPABEADQAHAOz/5P/R/9X/4P/r/wkAGQAkAB8ACAD1/+D/3v/p//P/+f/3//r/+v/+/wEABAAKAAAA/v/7//z//f/z/+j/4v/v/wQAFAAWAPj/6P/U/97///8LABAADgD7//P/7v/w/+n/6P/o/+j/6P/0/wkAGQAgABMA6//V/9L/4/8MABoAGAAAAN3/1f/X/+T/CgAdABoAFAD8/+3/5P/o/+7/+/8LABgAEwAWAAAA9//u//L/6v/s//T/AgAhAB8AEQD7/9L/w//W/+3/GAAiABwAFwAKAAMAAQD+/+v/4v/P/87/4f/0/xsAKgAkABAA5f/U/9r/2//9/wkAEwAMAAsADAAKAAEA9f/u/93/1f/f//T/FAAfACcAIwAKAAEA8//z//b/9//0//n//f8EAAoADQASAAUA9f/2/wAA9v/s/+X/4f/q/xsALQA4ACoA9v/i/9f/4f///wsACQD///v/CgAcAB0ACQD6/9T/yP+//83/8/8MAC0ANAAcAAgA4v/e/9//5P/6/wQADQAOABcAIQAcABEA6v/i/93/5v8DABAAEgAJAAIABQAJAA0ADQD6/+P/3f/k/+7/AgAOAB0AJgAiAA8A3//Q/83/0//w//7/DwARABcAEgANAAQA7//l/93/4P/1/wUAGgAYAAwABQD2/+r/3v/h//D//P8FAAgAEgAMAAMACAAIAAEA9f/4/+3/7f/t//H/BgATACUAIgAQAPv/3//f/wAAEgAbABQA+v/q/+L/8f8UABsAFAAJAOX/1f/d//D/DAAbABMADwACAP3//f8BAPz/9f/n/+7/CQAVACYAIQAEAPL/4P/n//H/8//o/+n//f8JACwAMAAWAP3/2v/Y//P/AgAZABsABQD5//n/AQARABEA+//l/9r/3v8AABQAKgAiAP3/7f/m/+j/8v8GABgAGgANAA8ABgAFAAAAAAD4//L/AAALACEAGwD9/+j/1v/b/wMAHgAtAB8A9v/l/+7/8v8DAAUABgD7//P//v8HAAsA+v/5//b/9P/9/wQACQATABQAEwAUAAoACgADAP//+v8EAAcADwAOAAAA/f/5//v/AQAIAAwAAgD4//j/CgAOABYAFQADAPn//P/+/xIAFwAVABcAFwASAAYA/v/x//P/DQAbAC0AKAAJAPb/8f/+/x4AKAAlABkAAQDu/+b/8/8LABwAKQAiAP7/9v/u//P/CAAVABEADgACAAsAGwAeAB0ADAD6/+3/6v/r/xAAHwAgABoADwAFAP7/AwAHAAEA7f/6/wgAEgAgAB8A/f/u/+T/7/8RAB4AFQALAPH/8v8GAA8AFgAHAOT/2v/f//n/GAAlABUABwDk/+//CgAPABgAFQD1/+//8P/6/xoAHwARAAUA9P/1/wIACwAOAPj/4P/X//T/DQAmACUA+//o/93/7v8UACgAOQArAAEA9//0/wEAJAAnAAsA+P/l/+P/9P8BABAADgAAAP3/AwAGAAYABQD9//T/9f/9/yIAKQAaAAsA7f/n//H/+f8OAAwA/P/6//j/AAANAAwAAQDx/9r/4/8NACAALAAaAPP/4v/i//P/IAAqACgAEQDn/9X/4P/0/xEAGQAJAPn/5f/m//j/+/8FAAIA6v/r/+z/AwARABUAFQAHAOn/4v/r//H/CwAOAAoAAAD4//H/8v/4//b/+f/2//7//v/8/+b/4v/r//H/FAATAAUA+P/p//f/DAATABUADgD+//f/+v8AAP3/AAD/////+v/9/wEA///2//j/9f/t/+//8v8HAA8AFQAKAPX/7P/1/wEAGgAaAAcAAAD5//3///8FABQAFAAHAAoABAAGAAIA/f/v/+X/7v/v//3/AwAdACEAGgAFAOP/z//e//j/LgBCAEMAOAD+/+3/4P/f/+z/9v8FAAcACAAFAAAA9P/6/wMACgAKAAkABgACAAYADQAQABYAFQASAAgAAgD8//n/+f8GAAIA+v/6//7/AgAaACQAGgARAO7/4P/i/+j/DQAWABsAFgAYABIACQAEAOv/6P/p//f/CAASABsAGQATAAwABAD6/9z/1f/k/+//CwAXACEAHQAUABAACwADAO7/5P/k/+3/GwAnACgAGQDp/9T/4f/0/xUAGQAWAA0A9f/0//r/AAAQABgAGwAXAAIA+//r/+j/4f/j//H/AwAiACkALQAWAOD/z//L/97/CwAcACYAJwAYABEAAwD6/+7/4v/c/97/8f/9/w8AEwASAAkA+f/0//D/8v8EAAIADAAFAPr/+v8DAAkACQAAAOD/1v/d//D/HgAhABQACQDp/+j/AgAGAAUA///x//D/6P/s/+b/5//6/wMAAgD9//T/7v/5/wAACQAEAPv/8v/s//H/DgAMAP7/8//e/97/8/8CAAsABgD6/+3/2f/b//X/BgAjACAAAgDu/8//y//f//P/DQARAAUAAwD7//r/8//3//H/+f8BAAQA/f/4//P/+P/u//H/+v/8/w0ADgAEAP3/8f/x//f/AgAJAAQA9f/y//3/+v/2//f/6//m//D/9v8BAP7/AAD8//j/AQAUABcADAD7/9r/1f/l//T/HAAgABQACgDh/97/2v/d/+n/8v8AAAcAEwAVABIADAD///L/4//k//v/AQAIAAYABAADAP3//P/x//P/+/8IAB4AHQAJAPf/1//Z////BwAJAPv/4//b/+7/AQAsADIAHQALAN7/2//5/xAAHwAaAP///v/4/wcADgANAPz/+//w//P/BwAOABYAEQD6/+z/3//o//v//v8RABAACQAMABMAFQAIAAAA9f/y/wgAEAAeABgADwAGAO//7//w//L/BAAEAAMAAQAGAAkABgABAOn/4f/3/w8AOgBKACsAAgDU/8D/1P/w/xwAKgAgAAsA8P/o//D/+P8FAAIA+P/1/wMAFQAoACYAFQAKAOX/4P/w////IwAkAA8ABADv/+z/+v8KAAYAAgD2/+7/6v/9/xkAKAA5ADoAIQAGAOP/3P/e/+j/DgASABQAEQARAAcA9P/p/+X/7P/9/wsAEQAMAAQABgD+//v//P8BAAYACwANAAUA+f/4/wEACQAOAAoA+f/v//P/8v/4//f/AQD7//7/CwAjACYACwD//+7/8//3////+f/1//H/+f8QABkADAD8/+X/4f/o//X/CAAOABIAFAAFAPv/5f/u/w4AFAAQAPz/3//Z//P/AgARAAQA7v/j/+v/8P8AAAYAEAAWAA8ADAAAAO7/8//2/wwACQD9//D/4//g/+f/+P8KABQABQD3/+f/5f/4/w0AIgAdAPv/7//c/+L/+/8GABEAEAD3/+L/0//X//j/AAAQAAMA7//p//z/EAASAAMA7P/k/+r/9/8PAAEA7f/k/+D/5P/y//T/AAD///r/+f///wkAAgABAOz/5//l/+//8v/5//7/AAAQABEA///w/+f/5f/m/+r/6P/p//P//P8KAAMA5//V/+T/8v8HAAsA///+//X/AAALABUA/P/8/+v/6f/s//L/BQAPAA8ACgDt/+P/8f/+/w4ADQD0/+r/8f8BABIAHgAhABwA+v/u/+n/6P/0//3//f8AAA0AEQAVABIAAQDy/+r/6v/9/wAABAAPAAsAEQD+//b/3//e//f/CQAbAB0AHgAhAAgA/f/3/+r/8/8IABsAGAACAPn/+//8//X/9f/s//H/BAAOABoAGAABAAAA9f/y/+z/+P8bACgALAAgAPz/8f/h/+n/AgAEAAIAAwAHAAIA//8DABYAJgAoABoA///t/+v/6//2//7/BQD//wIABAALAAsADAAIAOn/0//Z/+7/FAAlADEAHgD5/+v/8P/y//T/AwANABgADQAFAPH/5v/4//H/8f/p/+P/6/8DABQAKQAsACMAIQD7/+3/4v/u/wsAGwAxACcA+//j/+H/6f/3//3/9v/0/wsADgAcABYABgD3/9f/zv/l//3/MABBAB8AAADU/8//7f/7/xEADgD8/+//5//l//b/AQAkADIAEgD9/+v/8P8KABkAAgDy/+X/6v8QABoAFgANAPP/8v/v//T//v8FAA0ABwAAAAQACAAIAP7/8//i/9//6//7/xgAFgAAAAQADAAUAAsA+v/d/8r/3f/t/xYAKwArACAA5f/T/9P/4f8GAA4AEgD7/+j/5//x//3/DQAQAAcABAD1//L/6P/w/wUADgANAAsACwAFAAkABwD0/+b/1//m//z/AgD0//L/9P/y/wEAAwAJAAcABQAEAPj/9f/z//b///8EAAAA/f/3//b/5v/X/+D/7f8XACcAGQABANf/1f/p//P/BAD9/+7/5P/2/woAFgAbABMACQDq/+f/9f/6/wcAAQD0/+H/5//+/yUAKgARAPn/0v/P/+j/9/8RABsAGwAaAP//+v/6////DAAKAAAABgALABMAEgAKAO3/5P/d/+L/9v/3/wkAEwAXABYADgAIAAQA/v/6//L/7f/0/xYAKwAnAA0A5//d/+3/9v8NAAwA7v/t//z/DQAPABAA9//s/+D/5P8HABwAMwA2ABwACwD9//X/AgAJAPz/8v/y//j/BwAJAAoABQAKAAUA9v/u/+n/8v/+/wYABAAMABIAFQAgABwABwAAAAQABQAUABQACgAEAPP/6f/q/+z/+v8CAAUABgADAAwAIAAmABgABQDm/+D/8v8KACUAKgAQAA4ADQASABUAFgAGAPn/9P/2/wUADQAcABgAGQAUAAEAAgAAAAUAHQAlAC8ALgAbAAUA7v/h/+n/9v8EABAAGAAeABMADQAEAAEACgAFAPz////9/wAA/v8BAAEA/f8CAAoALwA7ACMADgDf/9X/1v/l/wgACAAJAAMAAAD8//7//P8DAAIABAAIABIAFwAHAAcA8f/w/+3/9f8bACYAKAAcAAIA8v/e/+f/9P/+/wYAAAABAPj/+f/z/+b/4P/q//X/IAAzAC4AGgDy/+z/6f/5/wkAAwDw/+///v8OACMAJAARAO3/u/+y/8n/5/8gACwAIwAJAOP/4P8AABsAFAANAO7/6P/e/+f/DQAWAB0AFgDz/97/2f/j/wYAHQAfABQACgAEAAAABQDu/9z/yP/V/wMAIQA3ACsAEAD//+r/7v/9/wQA///+//n/8//1//v/CAANAAQA+//9/wcA/P///+3/7v/t//n/EAAPAPr/8P/c/+D/9P8GAB4AGgAJAPr/7f/w//3////r/97/2//s/xgAIgAZAAwA/P/2/+H/5v/s//H/9//8//f/9P/u//b/EwAdABMACADz/+z/+v8AAPz/7//p/+P/7P/0//T/8f/9/wUADwARAAIA/f/v//j/EQAiACMAGwDv/9T/xP/X/woAIQA1ACoA///o/9D/zf/p//f/AAADAAQADgAfAC0ALgAiAPX/3//q/wIAKQA4ACMABgDZ/9j/9/8GACIAHwAJAAQA+//3//v/BAAcACcAJQAXAAUA/P/9/wcAEAAPAA0AEwAiACEAIQASAO3/4f/g/+P/+P8DACEAIAAeAB8AFgAMAPH/6//y//z/HAAmACsAJAAVABUAGwAaAAUA+f/w/+z//f8BABMAFQAUAA8AAQDv/+v/7/8EABYALQAnAAkAAgALABcAKAAkAP7/4P/H/83/9P8JADsARgA3ACwA+//g/8P/vv/d//v/JAAxADUAKgASABAAAwD6/+f/6v/0/wMAFgAcAB8AGwANAP3/6P/f/9//5v8HABMAEwAaABQAEQAOAAgA6//g/9b/6v8dADoARAA6AAsA+P/i/9n/3//y/wgACwAIAAIA5v/l//f/CAAbACEAHwAUAP////8IABAAEAANAAAA//8EAAYACwABAOb/2//c/+T/CQAQAA8ADAD8//b//v8JAAcADQANABUACgAGAAMA/f/8//P/6f/p//v//P8NAAMA9//1/wcADQAXABAA9P/p/+j/7f8FAAoADAD//+3/6f/5/wgAKAAkAAAA5P/Y/+H/DAAeACUAFQDy/+D/4v/u/wMACgD8//T/7f/6/xIAIwATAPr/0P/P/93/9P8xAEYAMQAeAPT/6f/n/+7/9v/0//f/9//+/wUABgAKAAEACQAQAAsAGAALAPf/6P/t/wIALQA0ABkA///X/8r/5v8DABoAGgAXABEA/P8CAAIAAgD9//H/7P/v/wMAEAAqACoABgDx/9L/0v/3/wsAKAAkAAQA7f/h//X/GAAhACMAFwD7/+7/+f8BABEACgAMAAEA9f/y/wQAAwAOAAwADQAKAAUAAgDs/+3/7//2/xMAIQAkABgA7//d/9j/4f8PACYALwAlABMACAD///H/2P/O/8T/yf8DACUAUwBKACIAAADN/8L/6/8LAC8AOQAqABoAGQAUAAcA///b/9H/3P/w/xIAHgAYAAwA9P/x//n/AgAWABUACQD7//v///8eACoANAAqAAMA8//m/+X/7f/r/+v/8v8OABoALwAiAAkA9v/u//L/+v/9//r/9v8NAB0AOwBFACkACQDQ/8D/vv/R/wcAJQA1ADAABwDv/9j/2//q//P/CQAJAAwADgAgACYAJQAXANf/yv/K/93/CgAeACgAHwASAA4ADwARAAEAAADu//P/AwAPAB4AGQD8//L/6f/s/wAABwD+//b/5//v/xQAIAAjAA0A7v/g/+r//f8iAB4AAwDz/+P/4P/3/wUAEAAIAOn/3v/e/+j//v8JABEADAAEAAUABQAFAPX/7v/r/+r/+f/+/w8ACwD6//L/7f/x//v//v/7//L/8f/9/wQAAgD9//v/8f/x//b/+P/5//r///8JABUAHQATAAcA+//u/9r/0P/k//T/FQAfABcAAwDq/+v/9P/3//L/8f/6/wYAHgArABsACgDs/+X/6P/s//v//P/x/+3/7f/u/wYAFQArACsAEgD4/9f/1f/w/wcAHAAbAAcABADx//H/6f/v/+z/7/8CAP7///8FABkAGgAnACEAFQAHAO//7v/u/+7/7P/u//z/CAAbAB0ABwDv/8T/uv/H/+D/EwArAEAAOwAeABAA/v/x/+D/4P/k//H/AgAOABsAEwDt/+D/4//s/wcADQD+//D/4P/r/xMAKgAxACcA4//U/8//3P8FABUAGwAZAB0AHQAiABYA8v/a/8r/0//7/xUAKQAoAAsAAwDp/+f/+/8FAAoACQD+//z/8//0/wsADgAUAAsA///9////BAALAAoADQAMABMADQAIAPb/5f/j/+//7v8FAA4ADAAJAAUACgAJAAMA+//0/+r/5//2/wEAGgAgAB8AFQAGAP7/BgABAPf/9v/6//3/CwAOAAkAAgDs/+3/+v8JAAkABgD9//f/+v8GACkAJwAYAAcA6P/g/+L/8P8FABIADAAFAAAA//8DAAUABwAFAOn/3f/f//b/KwA1AB0ADQDl/+n//P8LABUAAwDg/9H/2f/s/ycAMAAbAP//y//E/9D/6v8IABMAIAAiACAAIwARAAIA0P/H/87/5P8hAD0ARQAnAO7/1P+9/8P/+/8QABkADwAIAAcABgATABIAEwD9//H/6P/t//b/AAAAAPz/8f/0//j/BQAeABEA3v/E/8D/0/8hAEUARwAqAOz/2P/b/+r/DQAUAAkA+f/x/wAAGQAcABgAAADh/9T/2f/n/wAACAD+//j/BAAJABQAEwD//+n/0v/b/wUAIQBEAEQAFgDw/8r/yv/x/wQAEwAIAOz/5v/1/wIABQD4/+P/3//0/wwAIQAiAAUA8P/f/+b/BQAPABQADADy/+X/3v/r/wQABwD+//P/7v/y/wQADQAFAPf/4P/d/wAAGAAtAC4A+v/b/7v/yv8HACMANAApAPr/4//k//L/EAAOAPH/4//n//T/GgAkAB0ACADt/+P/6v/4/xEAHQARAA4A/v/8/wgACgD0//H/6f/z/wgAFwAdAA0A3v/E/9H/5P8cADUANQAgAOT/2f/U/+D/AgALAAwACQAOABoAGQAIANn/yP/Q/+H/FAAiAC0AIQAAAPL/8P/r/+z/8f/3//T/7P/2/wkAHAAsACIA9f/g/8T/x//w/wwANAAuABwAEQABAP7////v/9T/yv/m//j/IwAyACwAEQDh/9b/3f/u/wkADAAOAAgADAAUAB0AHQAKAPj/4P/W/9j/5v8CAAMAAgAFABAAEQAJAP3/4P/Y/9X/5P8XACIAOwA0ABUA///l/+b/9v/6/wQABAAFAAUACAAIAPT/4//Y/93/AwAQAAwA/f/k/+T/6v/8/yAAKQAdABUAAgD4//P/8/8HAA8ABgD//wUAAwACAPv/7f/a/8f/z//u/wIAIgApABUAFwAKAAwABQD8/+P/3v/2/xEAMAAwAA8A+//V/9D/4//t/+7/9P8BABQAJAAnAAwA9P/G/8H/0f/j/wYAFAAmACMADgAIAPz/+f/5//H/5P/l/+n//f8YACMADgD+/9z/z//E/8n/5//1//z/+v8HAA0AGAAaAAYA///i/+P/8P/6/wUACAAYABAABQD7/9v/0f/H/9r/9/8AAAAA/P/5//3/BgAGABQAFwAFAAQA8f/r/9z/3P/2/wMADAAPAPb/7P/j/+n/8v/u/+L/3v/p/wEANABDACoADADd/8b/1v/e////BwAUABIAAQD7//f/8//n/+X/7P/v/wEADQAVAA4A/P/u/+j/8P8JAAsA9//t/9//3v/6/wAACAD8/wMACQAUABQABwD6/97/3P/s//r/BwAIAP7/+f/5//7/CgAFAPz/6P/t//X/DAAPAA0AAQDw//H/+f/+////+P/k/97/3f/p//r/CwAVABwAEAAIAO7/7v/9/wIACwD///T/8f/5/wUAAAD3/+j/3//p//L/AQAEAPf//f8EAAcACAAMAPr/9f/7/wYACQAOAPv/9//o//X/BQAMABMADQD3//X/+f///wkADAAFAP7/9//0//r/AgD+//v/7v/q//H/AAAZABgAAQDz/+3/+/8mAC8AHAAMAPb/8f8DAAoADAAKAPv/+f/5//3/BAD+//H/+v/0//r/BgAWABYAEAD//wAADgAXACUAJQACAOf/zv/U/wAAFQAbABEA/P/r/+H/6P/4//j/9//0/wQABwATABoAHgASAPr/+P/2//z/DgASAA0ACQD+//j/AgADAPP/7P/m/+b/5v/v//L/9v/r/+//BwAUAB8AHgAXAAgA8//r/+r/8v8EABMAGgAVAPb/7P/f/+X/6v/q/+7/8v8GAA8ACwAGAPn/9P/3/wEADgARAAsA/v/3//D/8P/v//z/+f/0/+//9f/4//z//f8IAPz/+//+//z/CQAXABgAAADx/+T/3v/t//r/DQARAPf/7//o/+n/+v8DAP//+P/s/+X/6P/x/xAAFgADAPv/7f/0/w0ADAD9/+//4v/q/wYAFQAZAAcA2v/N/+L/8v8jACoAGQAEAOv/6f/2/wQACQD+/9z/zf/e/+//FgAbAAcA+P/l/+n/CwAZABgADADo/+H/6v/6/w0ADQDy/97/yP/M//r/EAAnACAA9f/h/9z/5P8KABQADwAEAPb/9v8GAAcAAwACAPT/8//1//P/AgD///P/6//h/+H/+v8DABYADgD2/+v/4v/k/+7/+P/z//b/BQAKAAgABgD4/+r/1//b//b/BgASAAQA7P/d/+T/9v8JAP//4P/X/9n/8P8oADkALgAiAPP/2f/M/9v/8v8CABMABgDy//X/CAALAPr/6v/K/8b/8P8QAEEAQQAfAAYA3//i/+T/9f///wUABQD+//X/7v/o/+r/6f/o/+3/+f8EAAEABgAEAAIA/v8OABIAIQAXAP7/7//U/9P/6P/2/wMACwD+//n//P/8/wUA/P/S/8T/1//w/y4AOAAlAAMAzv+//97/9P8YAB0AAgD6/+H/4f/t//r////8/+//8f///wcAEwAPAAUA9//n/+r/9v/v//v/AQAAAP//8v/v//P////2//H/4v/h//D///8QABcAEwAOAO7/2P/X/9r//v8VAC4AKgAVAAMA4f/b/9X/3P/y//3/CQAJAAAA/P8BAAUAAQD7/+n/3//p/+7/AQAEAPT/9/8EAAoAEgAGAOn/5P/n/+v/9//2//X/9P8JAAwACgABAOn/6//w//b/DwATAAMA9v/r/+X/6f/6/wsACgDz/+3/3//g//H/+f8KAAcAAwABAPz/AAAOAAwA9//e/7r/tf/W//X/KgAzACAADwDs/+T/4f/X/8v/0f/x//7/FgAfABIAAQDu/+b/6f/u//D/8v/k/+H/9v8LACQAHADu/9H/x//Y/xEAHQALAPL/yP/I//r/FQAuABwA3f+3/5v/p//z/xEAKQAjAAMA+P/x//r/+v/v/+D/4f/m//X/CQANAAEA+P/t/+v/3P/c/+v/7f/3//n/BgAMAA8ABwDq/9L/vv/K//P/DwAeABgA9f/w/+X/5f/r/+7/8//8/w4AEAAPAAsA8P/b/8H/v//j//v/HgAcAPn/6f/l//X/GAAhAAkA8v/T/9b//v8NAB0AGADd/8v/zP/f/wMADgAGAPL/2f/Z//L/AwAaABYABwD3/+f/6v/q//b/DwAQAAAA7//O/8z/5v8FACsAKwAHAPP/zf/H/+f/+f8cAC4ANAAnAPH/3P/C/8f/5P/2/w4AEgANAAEA7v/r//X/+v8JAAsA/v/y//r///8CAP3/7f/s/+7/+P8QAB0AFwASAPj/4f/S/9L/8P/9/x0ADwD9//H/+f8BAA8ADQD9//f//f8HAAcA/v/2//r/+v/z//P/7//m/+L/9f8EAA8ADQADAPr/8f/w/wcACwALAAcA///9/w0AFQAcABoAFgAIAPz/9v/u/+f/5f/v/wQABQAOAA8ADAAAAPH/5f/q//f/HwAuACEADgDy/+j/7f/y/////f8DAAcABQAGAPn/8//q//L/AwAHAAgACAAEAAEA+P8AAP//BgAbABwA///x/+P/7P8AAAsAEQAIAPD/7f/3//v/CQAMAAcABAD+/wMABQAHAAwAAwDl/+f/8v/7/wwACAAEAPb/+P/4/wgADQANABAA9P/v/+3/9P8JABMADAAGAOz/+v/8/wEA/v/6//L/+f8QABIABAD5/+b/3v/t////BQAFAAwABQAJAAQAAQD9/+P/1v/W/9//DgAiACcAFgDs/93/3//t/wMA///w/+b/9f8AABcAGwAIAPv/6//l/+z/7v/x//X/AAAJAAkABADy/+b/7v/1/w4AEAAMAPX/1v/N/+z/AwAqACUA/v/q/97/5P/s/+3/8v/2/wgACQAEAAYABwALAAgABQDy/+z/5//s//3/BwAeABoAEAD8/+H/0P/R/9//7f/z//j//v8LABEAFgAMAPf/6//X/+L/+v8HACYAJgAcAA0A5//k/+j/9v8EAAEA8v/s/+b/7f8IABYAFAALAPv/8//2//3/FgAOAAQA9f/2//7/DgAZAAoA/P/c/9//7//8/wIA///1/wAAHAApADQAJQD7/+P/z//Z/wMAGQAgABkA+v/5/w0AFgAgABUA4//X/9//BwA/AFEAKAABALr/t//p/wcALgApAA0A9v/n/wEAGwAdABgABQDn/+b///8UACcAKAAVAA0A///6/wEA/f/2/+3/7f/+/xcAHgAeABQA9v/t/+7/AQARABUAIgAeABoAEAAFAAEA6//w//r/CQARABIACwAFAP7/AADw//D/AAACAAwAAAD2/+v/BAAXACwAIQADAPX/9/8FACMAMAARAPv/2f/a//z/DQAoAB0A6f/c/+v//v8yADkAFwD6/9f/2P/4/wwAIAATAPj/8f/6////EgAZABIACAD8/wIACwAUABsAEwDs/+P/8//+/w0ABQD0/93/6P/4/xYAGQAQAAQA5//t////DwAOAAsAAgD6//n/BwAXABwAEAABAOz/4P/2/wgAEgAFAPr/6v/l/+n/FQAcACAAFQDl/9r/4//w/wsAFwAKAAcABwAeADkAOAATAPf/yP/D/+n/BwAkACMACgD+/+3/6v/0//r//v/8//X/9/8MACEAKwAoABMACADs/+P/yP/D/8j/3f8KABwAKAAkABAAAADm/+X/8P///yEALgAgAAsA5f/l/wIADgATAAQA4P/S/9r/5P8KAA4ABwAGAAUACAAOAA0A8f/f/8//0f/8/xYAPgA7ABcA///e/8//0P/Y/wUACwAyAC8AFwAHAO//4v/o/+z/BAAGAAwAEAAAAPz/+f8EAB4AIwASAPn/4P/i//j/DAAYABIA9v/z//T//P8DAAQAAAD7//j//f8MABkAGwAUAP3/7P/o//L/HgAgABAA8v/Y/87/6P/8/yUAIwAJAPn/5f/s/woAHgAfAB0ABgD//wEABwAJAPz/4//f//f/AwAWABEA+v/1//D/7P/1//7/DAAUABUAFgAIAAgAAwAKAAYAAgDp/+n/9//+/xEABgD7//v//f/8//3/+//0//n/8/////z/+f8LABEAAQD9/+7/6//q//P/BgAGAP3/AwAEAAUADgAQAAIA/v/4//r/8f/1//j//P/3//r/+v/8//T/7//n/+//AgAPAA0ADgANABMAGgAQAPb/4v/N/8//+P8QACEAGgD5/+r/3P/m/wAACQAZAA0A9//y/wkAHQA2ADQACwDv/9L/2v/+/wwAGQAOAAAA/f8CAPz/9//v/+7/6//8/wQAFAAVABIACwD6//j/BwAMABUADAAAAAAA+/8FAAQACQD7////+P/2/+3/6v/z//f///8DABYAHgAuACUACgD4/+X/4//0/wIAEgAOAAAA7f/j/+n/+P8AAAMABgABAAEABwALABAADAD0/+z/9v8JACEAJQD4/9z/xP/I//n/EQAbABsACQACAOT/5//p/+z/AgAbADAALAAWAAwA7v/q//T/+P/6/+3/2//W/+3/AwAzAEIAKAAPAMz/vf/L/9//EgArADQAKgD8/+z/4f/j/+3/+/8XABUAHAAcABUAAgD+//P/7f/w//L/9v8AAA4AEAAPAAMAAAAEAAsAGwAbAAEA9P/x/+//8P/5/wcAAwAIAA4ABQD5/+3/8P/y/+//9/8AAAsAFgAjACUAEQALAPj/8v/v//P/AAAFABAABgD6/+z/+P/5/wYA/f/1//D//v8JABsAFQADAAAA9//w//T/AQD///v/AQAEAAIAAQADAAMA/f8AAP7/+P/0//D/5v/g//v/EQAsADYAJAAEANL/x//f//P/DwAXABgADwD9/+z/6//e/+j/9f8KABUAHwAaAA0ACADw/+b/2P/d//H/8v8MABEAFAASAAwACQAGAP3/9//x/+//9v8HAP7/AwAEAAsAGQApAB4A9//g/87/2/8DABoAFwAQAOn/6P/0/wEAHAAbAAcA+//2//n/GAAtAEIAOAAEAOf/w//H/9j/9/8JAAwABwAPABoAGwADAOr/y//R/+P/+f8rADYAMAAnABAACQAIAAEA/f/z/93/4v/8/w4AIgAlAA8A+P/S/8z/2//0/xMAIwAkAB0AEgARABAACwDp/9b/0v/V////GABAADcADwDv/9T/2P/y//7/CQAHAAEACwAiACgAHgAOAPj/8v/5/wQAGAARAPr/8P/t/+z/+/8FAAsABQDy/+7/9v///yIAKQAmABIA6//g/wAAEgApAB0ACgD+/+z/+f8OAA0AAgD+//T//v8GAAYAAgD5/+X/5/8DABMAJwAjABkADAD9//3/BQAGAPr/8P/m//H/AwALACAAIQALAAEA8f/v//n/AgAQABAAAwAAAA4AFQASAAwA9v/z//b/BQAfABwAFwAEAOz/5//h/+P//v8QACkAMAAkABsABAAGAAAABAD5//r/AAAFAAcABQAPAA0AAQD9/wsAFwATAAsA9f/u//n/AAAWABQABQD//wAAAQANAA0ACAANABAAEwATABEAAAD3/+v/7v/w//n///8HAAIAAQAGAAwADQASABAAEAAEAAIA+f/3/wQADQAdACEAFwASAPX/7//q/+7/+v8BABkAIAAUABcABgADAAMAEgAaABwABwD4//T//P8JAAcA9//y//H/8//7////GAAaACwAKQAZAA8ACQAFAAIA/v/l/9//5v/3/ykAMwA7ACwA/v/v/+b/4v/y//r/BAANAB8AIAAXAA0ABQD+//////8NAAsABAAAABAAFwAYAAkA7f/e/9X/3f8BABAAMAA2AC0AJQAPAAYA/P/5/+7/7v/z/wEAIQAwAD8AMgAKAPP/3//q/wcAEQAWAAcA+//6/w4AHQAvAC8AGgAHAPX/7v8PABYAJwAfAAQA/v8JAAwABwD//+n/5v/4/wsAKwA0ACsAGwD1/+X/7v8CACcANQA1AC0AFAANABIAFAANAAsA/v/+/wAABAAPAAcA7P/p//L/9/8ZACoANgAwABQADgAGAAkAGAARAAEAAQARABsALAArABAA///5//b/CgAaACcAIwAIAAEA+f8EABYAGAAAAPH/7f8BACYALgAtABsA+v/o//v/AgARABUAEgANAB8AIwAfABYAAQD3//r/BQAQABcABwD+//j//P8gADMANgAnAPf/5//d/+j/EgAYACAAHgANAAUA/P/x//r/+v/+//r/DgAXADIAQAApABIA2f/L/9L/6v8NABoAIwAaAB8AJgAnAB0A/P/o/9X/2v8BABsAOgA5ABgABgDz//f/GAAeABMACQD1//T/DAAcACUAIAAMAP3/8f/z/w4AHwArACkAGQATAAkAFAAWAAsA9f/n/+H/8/8RACgANwA0ABcAAQDq/+n/BQAWABwAEwD5/+r///8TADEALgAOAPn/5f/y/w0AFgACAP//9P8CABQAHwAWAA8A6f/c/9j/4/8NABsAKwAlAA8A+//t/+X/+v8CABEAFQAfACMAJQAhAAoA///v/+//AgACAAYAAgD2//H/AQAUAC4ALQASAPn/3v/a/+v/8f/+/wYACgAbACYAKQAbAA0A8//u//n/CgAbABsADQABAPf/+v8DAAIA///9//D/6v8CABMAKgAsABMA+v/n/+j//v8NAB0AFwARAA0AHAAZAA4A/P/f/9P/7f8BACMAIQD0/+T/5P/n/xwAIgAvABsADgANAA0ADAAHAAAAAwAAAAAABAAHAAYA9f/x//b//f8XAC8AOgAiAOX/xP+3/9H/EQAzAEkAPQANAPv/9P/x/wYABwD9//T/8v///xsAHQAYAAsA+P/x//z/CAATABAACgACAPv//P///xEAKQAlAAMA8f/g/+n/BwAYAB8AFgAAAAUADAATAPv/9P/o/+7/CAASACUAIAAZABMADAAKAAUAAQDu/+f/7P/5/wcAFQAzADIAHQARAPv/+//w/+3/+/8IABwAIwAdABMACAAEABEADAAPAAIA+P/1/wIACwAUABkAGAAVAAkADQAKAP7/+v/8/wIAEQArADEAIgATAOz/5v/j/+7/+/8AAAgABgAaABkAEgARABcAGAABAPD/2v/d/wgAGABBAEQANAAaAPn/6f/l/+L/8P/7/xQAJAAmACAADgD9/+3/5//u/wUAKAA4AC0AIwD3/+n/5v/t/+z/8v/+/wcAGQAlABsADgD0/+X/7P/0/xgAJwAoABoA+P/o/9//7P8PAB8AKwAdAAwAAgDq//T/7P/y/wQAEgAcACEAEwAOAPD/5v/d/+b/BAATACQAHgANAAIA/f/6//f/8P/o//L/FwAmAC4AIwD8/+j/1f/e/+v/+P8PABgAEgAMAAMAAQACAAAA+//6/+z/7P/n/+T/8v/5/w0AEQAiABsAEQAGAPf/7//t//L/CgATABkAFAD6/+3/5//t/+z/6v/s//D/CgAcAC4ALQABAPP/2f/Y/+j/9v8IABUAJgAnABQAEgAEAP3/6//h/9n/1//3/wIAGAAOAPj/8v/v//v/FAAaAAoA/P/u//H/DQAfAC8AIwDy/+X/2v/h//f/+v8AAPz/BAAQABcACwD4/+f/3P/s/xkAKgA4ADcAEgABAOf/5v/x//r/CAADAPL/4f/w/+7/AAAAAAkABgALABQAGAAYABUAFQD4//L/AAAMACkAMQAYAP//0f/T/9n/5v8LABAACQAEAPv/+f///wUABgANAAcACwANABsAGQAWAAQA/f/7/wgAEgALAPj/7f/m//b/EgAfABkACgDs/+L/4v/x//3/BQAdACQAIwAhAAYABAD//wcACgAOAAkACQAJAAoABQD8//L/9P8CAAcACQADAAMABQARABYAEwAPAPr/8P/j/+X/9P8FAA0AEwAWABYACgABAO7/7P/6/wgAGgAZAA4ACQAIAAUAAwABAAAA/v8AAPz/8P/n/+7///8MABIABAD9//3/BQAGAAQAAwD7/wkAFAAiABkA///w/9D/yf/q//z/IQAiABQABwDj/+H/8v/9/w0ACwARABAAFQAQAPX/5v/f/+n/GAAuADoALgD6/9z/tv+1/9///f8nAC0AHAAIAOj/5P/0//r/BAALAAcABgAHAAIAAAD6//3//f8FAAwADgAEAPH/5//d/+X/BgAdACgAIQD6/+//5//r//b/AwAEAAMACwAOABgAGgAJAP7/2P/P/9z/7P8TABYAEgANAAcADQAPABEA/f/v/83/0//o//z/IgArACMAFwD+/+n/2//e/+f/8/8RABcAJgAnAA0A/P/g/+P/8f/5/w4AEAAKAAUA+v/1//H//f8VABoAGwANAOX/3P/l/+//FwAYACIAGgAPAAkA+P/4/+f/5P/0//3/EgAaABAADgD9//H/8v/v////BAADAPr/7P/p//7/CgApACgACgDy/9b/1f/b/+3/AAAGAP//BAAGAAkA/f/1/+f/7v8GABMAHAAXAAQA+P/r/+v//v/5/xAAFQAcABUABQD5/+n/8v/4/wAAAgAIAAoABwD5//X/8P/z/woAEwAVAA8ABgACAO3/5P/g/+j/AwAUABoAEwD3/+v/4v/0/xQAKgAyACwABwDz/93/4v/q//H/AAADAAkACAAaABoADgD9/+z/4P/t//3/FQAfABkAFAD8//T/+f8AABUAGAAVAAkA+f/8//7//P/2//X/9f8AABcAIAADAPH/4f/i/wAAFgA2ADwAJAAWAOn/3f/m//L/CwAKAA4ACwARABcAGwAbAAcA/P/u/+b/8f/y//j/8f/7/wQAGgAfABQABgDo/9X/2v/l/xEAJQAwAC0AEgAEAPj/+P/8//3//v/9/wUAAQANAAsAAADz/+X/3v/0/wEAIwAqACAAFAAMAAoADAASAAwAAgD5//D/9v/v/wEABAAOAA8ACwACAP3/AgD9/wEA+v/9/xMAGAApACMADQD8//H/9P8GAAoADwAJAPr/+P/5//b/+P/5//j//v8GAAIACgAMAAAA/f8LAA4AFAANAAEA9//v//X/AQAJABMADwANAA4AAQD+//j/9P/x//L//P8GAAQADwARABEACgAJAAAA/f/7/wEA//8GABYAGQAQAAIA7v/r/+b/6//6//7/BAAFAA4ADwAQAAcA8P/p/+D/6P/y/wEAFwAZAAgA/v/y/+v/9P/2/wwAFQAVAAsA7//l/+T/7/8SACAAHwAVAPv/8P/c/9H/0f/Y////CwAkAB8ACAD8/+L/4f/r//j/FQAaACcAIgAHAPL/0f/P/9r/7f8QABkAFwAPAPD/6//k//H/7//3/wEABgAbABgABgDy/+T/5/8AAAsADwAGAPr/6v/n/+7/+v8CAAIAAADz/+n/7P/y/wkAFAAXAAsA+f/s/+3/8/8AAPj/7//m//L/+v8YAB0ACwD7/+L/3v/5////DgAHAPr/8f/5/wIAAwAHAP3/+f/+/wcADgAXABEADQD7//j/9v/2//b/9//l/9//2P/b//D//P8ZAA4ACQACAAEAAwAJAAYA8v/x//L///8NABAAAwD7//D/6f/2/wAABwAEAPb/7v/u//n/DwATABMADQDx//D/+P/9//n/8P/o/+P/8P/+/xkAFwAIAP//9v/1/wUADAAKAAoACgAIAAgAEQAJAPj/4P/a/+n/8/8IAAoAAAD8//n/9//3//j/AgD///j//P8NAAkABwAEAAgAAwADAAMAAwAJAAsACQD4//L/9//5/xQAFAAUAAkAAAD///7///8CAAcA+f8EAB8AJAAfABUA9f/h/9v/6v8PABgAIwAZAAAA8f/2//b/BQAQABUAEgAEAAYACwARAA0ABgD5//z/BgAMAA4ABQD0/+j/5//p/wcADAAeABsAAADs//T/+v8YACIAJQAYAAEA9v8BAAMABQAFAPX/+f8BAA4AFwASAAYA+//0/+//DQATAAsADQAKAAYADwAWABEADgD///H/6P/s/wAACwAZABsADwALAAEA//8EAP7/8P/r//D/9/8QABwAEAADAOj/3//f/+f/8/8BABMAGAAQAA0A9P/p/+r/7f/4/wIAEgATABUADwABAPv//P///wQABAADAAAA+v///wkACwAEAPr/6f/m/+T/7P8CAAcAAQD+//f/7v/+/wQAEAALAAEA7//g/+X//P8PACQAJQAQAP7/1P/Q/+X/8v8FABAADwAQAA0AAgDu/+X/7//w/wMA+//7//v/BQALAA0ACQDv//D/8f/q//n/BgANAA0ACAD+/+n/5P/j/+7/BwARAA0ACQD//wAA/v/9/wIAAQDx/+v/8f/4/wAABwAKAAcA/P/3//T/9P/2//7/CwAHABAADAAUABAA/P/v/9f/4f8BABIALAAwABAABADl/+L/4f/v/wIAEAAZABkADAAIAAcA/v/9//3////9/w8AEgAbABQA/P/t/+P/6v8JABcAFAATAAgABAD2//X/8v/7//z/CAAUAAwABwADAPX/+/8RABUADAAGAO3/5//t//f/FgAUAAoAAQD+//X//P8IAAcABQAJAAsACwAOABAAEQD9/+7/6f/n//D/+/8SABgAGAATAAYAAgACAPv/+P/2//7///8NAA8AHQAbABMAEwD///z//f8BAP7/+f/o/+z/CQARACAAGQD2/+z/8f/4/xQAEwAOAAsACQALABQAFgAMAAUA7f/r//b/AQARABAABgD9//3/CQATABMACQD9/93/2f///xgANAA/ABkA/v/j/+X/9/8BAA8ADQD4//X//f8HAA0ADAASAAsAEQAOABMAEAAUAA0A+f/y/+v/7/8BABEABAAAAPH/9v8LABcADwAKAPb/+f8kADQALgAeAPP/4v/t//7/IQAeAAQA8//u//T/CQAaAA8A/v/m/+T/AwASACYAJQAVAAoADgATAC4AMAAYAP//4f/X/97/7f8LAA8A+//4//n/AwAYACAACQD9/9n/3P8CABYANgAwABAAAQDw//X/AgAFAAcAAgABAAEADQAIAPz/9v/h/9n/4f/2/ycAMAAmABIA8P/v//z/DQAgAB8ABQD7////AwAPAAoA7f/g/9b/4v8HAB4AHQARAP//9v/z/wEAJQApACAAEQD+////AQAHAA0ACQD4//H/8//6//j/+v/s/+j/+f///x4AJQAmABoA+v/v//X///8IAAgAAQAHABQAIAAiABkA8v/j/8//3P8CABkALwAqAA8A/P/z//v/BgALAAAA8//v//r/HAAsACMAFgDu/93/0f/i/xAAHwAsACcABwD3/+T/6P/6/wEAAgD3//v/+P8EAA0ADQD+/+v/6//1//v/FwAbAAMA9P/S/9b/7f/7/xQAFQASAAkA+f/3/+//8f/r//P/AQAIABUAFwAFAPX/2f/Z/+v///8jACwAHgANAPP/6v/y//L/+v8CAPv//v8EAA4AHwAfAAMA9//t/+j/7f/2/wYACgAQAAoACwAFAAMA/f8AAPT/+f/6/wwAFwAoACMABADz/9f/1P/e/+7//v8EAAcADAAOAA8ACAD9/+z/6P/u//z/GAAfAB4AGgAEAP3/9P/u//H/8P/9//v//v/3/+7/7v/x//n/BgANABkAGQAbABkAAwD9/wQABQANAAYABQAMAAoADQAKAPv/4v/T/9//8v8PABkACgD1/+L/3v/1//3/DAAHAAIABQAKAAgACAAFAPn/+P/1//r/9//3/+3/6//w//j/BQAGAA4AEAAKAAcAAQD6//j/9P/4//n/BQAGAAwAFQAJAP3/5v/a/+v/9/8ZABwABQD3/+b/6v/3/wAABQACAPX/9////wgAFAAbAA4ABgDr/+f/5v/i/+v/9f8DAAsAFQAKAAAA9//v/+b/6v/v//z/CQAVABYAAAD7//r/+/8BAAQA8//n//D/BAAbAB0AEAD6/9//3f/f/+n/8f/5/wgADgAaABAA9//x/+D/1P/W/+b/CQAVAB4AHAD4/+v/7//y//z//f/4/+7/5v/t//z/DAALAP//7v/k/+D/6P/0//j/9//x/+//9f8EAAwADQAGAOj/5f/m//H/BgAQABYAEAD7/+f/2//g//f/CwAQAAIA8P/w//P/8f/4//L/9////xUAEAD6/+7/4P/d//X/AwAfAB8AAAD3/83/w//c/+//DgARAAIA+f/2//z/AQD6//f/9f/6//r/FQAUABIACgD//+3/2P/T/+D/8P/8/wEA+P/z//L/AgAMABEACQD+/+z/5//s//n/GgAoACkAGwD8//X/9f/q/+r/4P/k//T/DwAVAAsA/v/t/97/3v/p//r/AQASABwADwAMABEAEAACAPT/6//d/+P/+P8WABsABQD0/+D/2P/w//r/9//3//T/+P/2/wcAEQANAAMA9//n/+H//P8IABEAAgDi/9v/4//x/xUAHAAZABAA9v/m/9n/2P/i/+v/BAALAAAAAgD5//H/4//e/+T/7P8EABAAGQATAPn/8//c/9z/3P/o//v//f8JAAkA+//7/wUA+f/h/9n/3f/t/w8AFwAXAAoA///7//3//P/5//L/5P/l//f/AQAUABgADgD9/9T/yP/B/9L/9/8FAAsAEAANAAoA8//p/9f/z//o//L/CQAUACAAFgDx/9//1P/V//H/BQAOAAMA1P/R/+L/8/8NAA4A/f/t/+X/6v8EAA4ADgAAAOv/4f/z/wEAGgANAOD/z//A/9H/+f8IABEAFAAFAPX/8v/v/+v/7P/v/+r/8f/s/wUAEAAJAPz/3P/Q/9n/4v/5//r/3f/a/+P/8v8EAA4ADwAIAO3/3f/L/83/4f/z/xIAGAATAA0A6f/h/83/0//Z/+r//v8HAAYAAgD1//P/8f/o/9v/2P/o//n/CgALAPz/9P/l/+f/6v/w//n//v8GAP3/9P/t//T///8PAAwA+f/t/+j/5//w//X/+f8BAPz///8DAAEA+f/x/9n/yv/K/97/EAAlACQAEADi/9D/zP/c//j/CQAhACcAFAAEAPP/6v/m/+n/3P/U/9r/8f8cACcAGAAGAOv/5v/o/+f/4//l//3/FQAsAC8ADgDz/8D/vv/I/93/BwAWACYAFgDu/+H/2f/q/wgACgD0/+v/8P/0/wcADQAIAPr/7v/s//D/8f/6//b/8v/0//L/8f8BAAsAFgAQAPv/8//4//z/CQALAAEA9//0//P/9v/4/wEAAAACAPb/4f/j//T///8FAAwAFQAdAA8ABADf/9r/5//4/w8AEgD+/+3/4//m//f/9f/5//j/+P/0/+7/6f/+/woAFgATAPv/7v/4//z/EgAIAPj/7//w//X/CQAXABUABgDw/+H/0P/X//z/DQAjACQABwD9/+b/7f/y//H/7f/0//D/8f/8//7/BAAGAPv/8P/j/+T/7P/3//n//P/4//3/CAAHAAMA+v/x/+z/6//u//f/+v8DAAMABwD5//D/7v/1//L/7v/q//H/9/8JAA0ACQALAA4AEQD9/+//zv/G/+D/9P8YACMAEgABAN//1f/Q/9n/5f/t/wIABwAHAA0ACAACAPf/7f/q/+z////7//r/7//n/+r/8//9//b/9f/q/+r/4P/f/+b/7P/+/wUACgAGAPf/7P/i/9z/5v/r/wcADQAWABQAAwD7/+H/2v/L/9H/4//4/w0AFQABAPD/5P/q/+b/3//j//H/EQAjACkAHwDl/9j/y//a//T///8TAAwABwD6//T/8P/x/+3/6f/r//T/+P8JAAsAAwAAAPv/9v/8//D/7f/s//b/+v/7//b/2//X/+H/9P8OABYADQAAAOf/4f/h/+H/9P8AAA4ACQD7//b/5P/k/9r/2v/n//D/CwANABEACQD3/+v/3//Z/9z/5P/o//L/AAAOABMAFwAEAPr/3//a/9z/4//1//j/AgABAAwACwAFAP3/6//h/97/3//u//v/EwAbABAAAgDl/9b/4f/0//z/+v/k/+L/7P/5/w8AEgD4/+b/2f/i//b/CAAOABMADAAFAPz/AgAFAP7/6//m/9//3//2/wcAHgAdAAcA/f/m/+H/5P/4/xIAHwAeABkAEAAAAPj/8P/k/+n/CgAVABUADwD2/+v/6//t//3//v/8//f/7v/z//3/AAAFAAwABQD8/+7/7P/6//7/AQD9/+X/3P/a/+b/BgALAA8ABAD4//P/9P/w/+n/6f/w//7/FgAfABoAEgD5/+T/zP/H/9r/6f8VACUAIAAYAPb/6//Y/9v/7/8BAA0ADwAAAPr/+//2/wsACgAJAAAA4//Z/9r/6f8JABoAGAASAOf/3//l/+//8//v/+L/3//y/wgAJgApAAUA8f/P/9D/8/8IABMAFgACAPL/5v/q/wMAEQAiACIACQD4/+v/6P/4/wUAEgAKAPn/7f/p/+X/9f/7/wEAAwANAA4AFAAPAP//9//j/+r/AAAHABUAGgATAAEA5//g/9b/1//m/+z/BAACAPz/8//k/9b/2v/i//z/EgAgABsA/P/q/9P/2//7/wMA+//y/9//4f/t//7/EQAFAPX/5f/e/+f/+v8KAA0AAwDx/+z/4//x/woADwARAAcA5v/m/97/5f/n//X/+v/4//T/+/8DAAEA8v/t/+n/6P/8/wcADAAIAAkABgAAAPz/6//i/+D/5//0//3/BAAEAPT/+//3//r/8f/t/+//8v/q//L/FAAkADUALQD+/+H/tP+z/+z/CAAsACQA8//Z/87/4f8WACUAMAAdAPD/3P/W/+H/HQAqAB8AEgDh/9L/1P/h/wIADAADAPb/7P/0/woAGwAcAAQA1//D/9P/7v8eACkAFgADANr/1//x//j/FQAWAP7/8v/s/+v/CwATABcABwDx//H/+/8LABIAEgDr/+D/5P/m//7/AQAJAP3/+P/y//3//v/6//j/6f/m//X/AgAdABgABQDq/9L/2v/w//r/FAAPAAgA//////n/5//Y/8b/zv/v/woAPwBAACgACQDF/7j/wP/X/xMANAAxAC0AFwAOAPj/7v/f/+D/6P/z/w4AGwAhACAAFgD9/+P/z//Q/+H/DAAaACYAHQAPAAIA/v////T/9v/x//P/AgAIAAcACQAGAAIACwAHAAAA/P/z/+z/6//0/wsADgATAAwADAANAAgACwAGAAkA//8FAPX/+P/+/wYAGAAWAPr/6f/w//v/EQAQAP//6//q//b/IgAxADEAHgDw/+H/2v/n/woAGQArACcADAABAOz/5v/x//T/9P/w//P/+v8QAB8AKgAkAAUA9f/i/97/6v/5/x4AIQAmACEADgAHAPz/+f/x//X/CAANABYAGgAWABAABwAEAO3/6P/m//P/FAAnAC0AKwAKAPj/6//t//L/AgAHAAMA/f/8//n/CAAjACYAEgD6/+D/1v/r//3/DQAbABcAEgADAP3//f/+/wYACwAWABsAFQAVAAgAEAAPAAwACgAFAAQA+/8FAA0AEwAMAP7/8f/z//r/BgALABIACQD1//P/9f8BAB4ALQA+ADUAEAD0/9j/3f/6/woAIgAXAO//4//r//j/IQAvACcAGAD5//L//f8EACIAJAAYAAcA//8HAA4AFwASAAgA9v/s/+z/7/8CAAMAAwACAPL/9/8IABcALAAoABAAAwADAAUAGAAiABUADwDs/+P/5v/0/woACgASAA8A//8GAAgACQAJAAsACwANABUAFwANAAsABwABAAMABgAVABgAFAALAAEAAwACAAYA/f/3//H/8/8XAC4AQAA7ACEAFAAAAAAA/v8DAAwADgAQAA4AEgAMAAYACwAHAAMA8v/o/+3//v8wAEEAOgAiAPL/4f/v//z/JgArACcAIgAJAAcABgAIAAoADgAbABcAAgD6//T/9v8JABcAIQAnABsAFQATABMACwAIAP//+v8dACIAIgAkAB8AFAAFAAAA/P/8/wQABgADAPv/7P/t/wkAGAAxADIAGAAKAPv/8P/3//n/CwAZADQANQApABoA9//l/9f/3P/x//r/CwAaAB8AHwARAAYA+P/z//3/CQAdACEAJQAiACQAKgAfABsA+//v//D/9/8GAA4AFQAOAA4AFAAWAA4AAwD8////DwArADAAHwAZAAUA8//9/wwAKwAyACUAEgDh/9j/6f/3/xsAJQAXAA0A/P8CAAQABwAQABIAAQD//xMAGQAtACMAGQALAP7/BQAWABUAEgAQAAkAAAAWABsAJgAkABsAEADm/9n/1v/t/xUAKAA2AC0ADwAJAAQACgADAAEAAwAEAA8AFQARAAgAAQD8//z/AAAJAAQACgAIAAYAAwANABEAGgAXAA4ADAAIAA4ADAAPABUAEQAGAAQABwAHAAkACgAGAAMA9f/+/wIACwAVABEAAwABAAwAGgAmACYAFgAKAO7/6v/z//3/GQAiACIAHAAEAPf/9f///w8ADgAGAPv/8//9/xQAIQAoAB0AAAD5//v/AwAWAB8AHgAUAA4ACAD8//f/+P/8/wsACgAUAA4ABwAEAAoADQASABYACwAGAAIA//8GAAkABwAFAAkAAwAFAAYAAAACAP7//f/8/wQADwARABMAEwAHAP7//f8HABQAGAAZABYAEgAAAPX/7//0//r/BwAXAB0AHAAZAAkA8//p//n/BwAdACsAIAAWAAQA/f/1//v/CgASACIAIAATAAUA9v/5//z/BQAOAA4ADwASAB0AIAAhAA8A8f/k//D/BQAmACsAGQAFAPD/8f8GAAYABAD4//H/+v8SACIALQAtAB8ADwD///P/9//5/xEAGwAhACQAFQARAAsAAwDk/9b/y//W/xEANwBSAEYAEgDu/8r/2P8KACAAPAA7AB8ACwD+/wEAAgAHAAgABgD3//z/EwAZABoAEQACAPX/8f/4/xQAGwAZABAA+//8/xEAFwAcABAADQADAAMABwAJAAYAAwAMABgAHwAQAAoA9v/x//r/BAAWABcABQD9//b/9v/7////EQAVAA4ABwD+//X/+/8FACAAJgAlABcAAADw//L///8WACUAIQAWAAMA/f/7/wAADAAMAAgADgALAAwACwAPAA4ABgABAAIADAAUABEAFAAKAAMA8P/u/+//7/8DAAoADwAJAAIA+//0//b/DQASABQAEgAPABMAFQAYAAwAAADw//f/9v/7/wwACgD8//v//P/4////AQADAPv/9v8CABkAIAAbABIAAgD6//f///8NABcAIwAZAA8AAQDv/+j/+P8EAAgACgALAAkA/P/8//3//f/x//X/AQAGAB0AIAAiABkABAD3/+3/7v8AAAoACQAOAP//AwAEAAsAAwD8/+n/6//5/wYAJQAiABIA/v/o/+r//v8JACYAHwAFAO//4P/d/+v/+/8MABIADQABAPf/+P/9/wkACwAMAAcA//8IAA4AGQAOAPn/9f/q/+//DQAYABUACAD3//b/+P/9/wcABQD5//L/6v/r/wYAFAAVAA4A9v/z//P/AQAWABIABwD//+n/5f/v//7/JAAsACgAHwD4/+z/8f/8/wYABgD8//3/8P/6/w8AFAARAAgA8v/t/+r/+/8SACcAJgAZAAAA+P8DAAYABQD9//H/9v8FABcAHgAeAAYAAQDu/+n/9P/6/wAA+P8AAAEADQAXACkAIwAdAAYA5//h/+D/6P8CAA8AKAAkABQACgD3/+3/1//a//X/BwAmAC4AKQAaAPL/4//d/+L/+v8DABEAEwAYABQABwADAOv/5//n/+z/+v8AAAYADAABAPv/+P/3/wAACAAIAP//7f/p/+//7P/8/wcADwAJAAIA/f/z/+//+/8BAAsABADx/+3/6f/t//j/BAAOAAwAAQDz/+v/6P/7/wEACwAMAAcACgAKAAAA8f/z//T//f8QABMACgAJAAsABwAAAPz/6f/l//b//f8HAAcAAwD+//j/AAAIAA8ADgAEAPb/7v/5/wUAGgAhABoAGgANAAEA7P/m//L/+/8PABUABgD4/+X/5P/1////EAAPABEAEgANAAgACwAGAAsADgATAAYAAQD+/wAAAAAKAA4ACgABAP3//f8CAAAAAAD4/wIA+v/4//n/AQACAAMAAgAUABsAGwAYAAIA8P/U/9T/6v///xoAJgAjABkAAAD5/+z/7v/7/wMAEQASABEACQACAP//6//o//L//f8bACUAIAAWAPD/4P/e/+X//v8LACQAHAAHAP3/4v/k//n/AwAQABYAFQAUAAYAAQDl/97/2f/c/wIAHQBHAE0AKAABAM3/wv/c//f/LQAwABkADwD9/wMA//8AAOf/4P/t//z/IwA6ADAAFgDn/8v/xf/Y/xIALwA2AC8AEwAHAAEABwAJAAUA5P/U/+z/AAAhAC4AJAAOANn/0P/f//X/KAAzABsACgDm/+v/AAAQADIAMAAHAPX/5f/s/xUALwA4AC4ABwD0/9r/3P/5/wYAEwAPAAsADAAMAAkACAABAPP/9f8GAAcAFAAdAA8ABQDz//H/9P/5/wgAEAAgACEAHgAYAAkAAADt/+n/6//x/xQAIQA0ACkAAADs/9v/3v/6/wcAEQAJAOb/4v/x/wUAKAA1ACQAEADt/+f/8P/3/xkAJQArACAA9v/u//D/+P8SABIACwD8/wQAEAAnACMA///c/83/1P8LACAAQwAzAAIA7v/U/+L/EAAnAC0AKwAAAPX/6P/q//n//f8NABAADQAQAB4AIQAdABQA8f/m/+T/6P8OACQALgAjAAoA8P/s//T/CQAOAAoAAAD7//z//f/9/xMAHgAeABUAAAD+//n/BAAcACAAHgAVAPf/8P/s/+///f8FAAQACAADAAAAAAAJAAwACAD///n/AAAEABEAEQAMAAoACAAEAP3/+//4//z/DwAOAAUABQD6//n//P/+////AQAMABIADgADAAgABAALAAoABAD6/////f8GAAoABwAGAAcABAD6//7/+v/7/xYAHAAUAAQA8f/t/wAACgAYABYAAwD+//////8BAAcA+P/4/+j/7f/7/xIAKQAqABcABwDk/+H/8f8FAC0ALgAsACIA8P/X/9T/5P8IABkAHgAVAPX/7P/v//n/CwAQABYAFQAHAAAAAQALABsAHwAYAAwA+//8/xAACADz/+n/2v/i/w8AKgA/ADwAEgD4/+P/5v///x0ANAAtAAkA9P/b/9X/+P8GACkALwAeAA0A8P/p//P/AAATABwACwAEAP3//v/+//3/AgAFABwAKgBBADoACgD3/9P/0v/d//b/IQA7ADsAMQD8/+f/z//V//j/EAA1ADkAIwANAOj/3v/q//v/JgAuACoAGgD0/+v/+v8FAAsADwAGAAEA6f/w/wYAGAAtACoACQD9/+n/8/8GAAkADQAGAAkACAAVABQACAAFAPT/8P/x//n/HAAkADIAKgAGAO//4v/r////CwAXABIABwACAP7/+P/9/wUAEgAJAPf/8//w//b/DgAcACgAKwAVAAgA9f/1//z/BQAaABwACAD9/+3/7P/7/wEACwAGAAYA///4//j/+f/7/wkACgALABAAGwAjACAAGgD+//f/5//1/xsAIwAhABEA6//j/9//8v8iACwAIwAVAAIA8f/2/wEAGwArAB4ADgDo/9f/1v/m/xQAJQAyADIAEQABAPf/9P/w//X/+f8GABcAHgAhABMA9P/w//T/+f8FABIAFgAVAP3/+//j/+r/AgAQABYAGAAOAAgABwD+/+v/6f/k/+3/EAAVAB4ADADj/9f/2//r/wgAFQATAAsA8v/u/wAACwAdACAABAD2/+X/9/8VAB4ALgAgAOr/4f/h/+r/CgAQAPz/5f/T/9P//P8YACsAGwAAAOv/7/8IADUAPgAsABcA5//Z/+z/+f8YABwAEgD+/97/1v/l/+n/+//8//z//f8RACIALgAmAAsA9//0//b/DAAVACYAIAAGAAAA9f/9/woAAgD6//H/8f/+/yAALQAaAA4A7P/k//H/AAAYABoAFQALAPf/8/8EAA4AGQATAP//9P/u//L/BQAJAAUA/P/r/+z/9P8BAA8ADwAIAAUACQALABUAFAAIAPv/9//7/xUAIgAcABAA6v/q//b///8QAA4A+//4//n//P8HAAgAFQAVAA0ABwD6//v/BQAJAAoACgAGAAMAAAABAAMACAAEAP3//P/4//j/9v/1//r/EAAKAPz/9//x/+r/9v/7/wwAGAAiACEAEgAHAPb/+//7////AQD7/+3/7//4/wIAEgAaAA4ABADw/+f/7v/6/xcAFQAcAAoA/v/x/+n/6f/l/+L/5f/k/+v/8v8PACAAKgAeAAAA9P/k/+v/BAAQAB0AGgAHAPf/5f/d/9P/1//z//j/BAADAPj/9P/u//b/9f/3//L/+v8QABoAIwAlAAkA9P/a/9X/1//i/wwAFgAdABIA9f/r/+P/5//u//H//f8DAA8AEgAaABAAAQD6/+P/1P/Q/9P/+f8JABsAFQACAPL/4v/a//j/BQASABgAAgD9//j/+/8MABMAAgD6/+r/6//5//n/+v/t/+D/4//u//L/9//8//f/8v/w/+7/+P8AABAADgASAAgA9//2/+j/8//9////7//q/97/2f/v//f/BwAOAPz/8P/k/+P/6P/q//////8DAAcACAAEAPn/+P/4//b/4//t/+j/7P/5/xAAHwAbAPj/6v/a/+L/+/8MABsAFAD+//T/7//x/wAAAwD5/+j/1f/Y//r/DwAdACAAAgD9/+7/9P8LABAACgADAO//6f/v//T/DwAPAP3/7P/b/+P//f8OACUAGQD8//f/8P/5//7/CAAMAAAA+f/7/wsAFQAVAAkA3//S/9P/6v8TABwAFAALAOr/5f/z/wAAEAARAAMA8v/x//j/CgAVAB8AFwD5//D/5P/l//T/9P/3//D/7P/0/w8AGQASAAcA4//W/8v/2f8TACwAPQAxAAcA8f/h/+P/8v/y/+X/4v/y////IQAoABoABADa/9L/4f/u/wEACQAKAAEA//8FABQAEgAGAP//5P/i//H/+f8CAAQAAQD7//L/8P/2//H/+v/w/+H/2//v/wIADwASAAwA///q//L/CAARAAkA///y//r/AwAGAAEA8f/i/9r/6//7/w4ADwDx/+j/2f/g/wUAIwA+ADgAEADv/8r/xv/0/xEALwAtABYA+//W/9j/2v/e/+P/4P/2/wQAIAAlABsABgDs/+X/6f/5/x4AIAAUAAcA7//p//j/CgAVAA0A7P/W/8j/yv/+/xcAMAArAAkA9P/h/+b/9P/7//r///8KABcAGgAZAAEA7//O/8j/2P/q/w0AHgAWAAgA6v/h/+X/8P8JAAcACgAHAPb/9v/1//r//f/9////BAACAAYA6v/p/9//5f/4/wYAFgAVAPT/4v/b/+X/AwAZACIAHgACAPP/9v/2/wMACgD///X/1P/R/+P/+/8iACIABgDt/9f/2P8FABQAIgAeAAoA+v/s//X/CQASAAsA9//o/+T/9v8SACkAJAAHAOr/0v/O/+z//f8VABUADwAEAAcAEwAbABQA8//o/9X/3P/+/xEAIgAeABEAAgDu/+L/4v/m//H//f8WAB8AHQAXAAsAAAAAAPr/9P/5/wAACAAMAA8AEQAOAAYAAAD0/+7/6//w////CAAZAB0AGwARAAIA///2//j/AQAHAAsADwAaAB8AEAAEAOz/6v/6/wYAJgAkAA8A+P/m/+v/DQAYAB0AGAD//+7/8//9/w0ADwAMAAoA//8GAA4AEAAQAA8AAgAFABAAEQAjACgAIAAbAAEA9//n/+z/9v/9/wkACgABAPv/CwAPABUAGAASAAYACAAJAAoADwAdACQAHAAdABMACQD1//D/9f8AABIAGAANAAAA4//Y/93/5/8KABIAFQATABYAHAAeAB8AGAARAA8ABwAKAAUABwACAAAA/f/y//3/BwAXAB0AHAAMAAkA/P/8/wwAEAAdACMAIwAUAPj/+P8CABIAFQAXAAcABgD//wwADwAPAAQA+f/6/wEADQASABsAGwAKAP3/AAAGABMAEgD//+7/3v/m/wcAFQAeABgA/v8AAPv/BAABAPf//P/5/wYAEgAhACQAEQADAPD/9P/+/wMADgALAAAA+v///woAEwAUAAAA9//q/+f/9/8LACAAHAASAA0A9f/y//3/+//9//b/9P/6/xwALQAoAB0A7f/h/9f/4v8HABkAJQAgAAEA8v/f/+b/CwAaACoAJAAHAPb/+f/8/////P/z//b//v8OACQAJQAYABEA+//0//v/CQAZAB8AGgAKAAEAAwACAAgA+P/w/+f/6P8BAAcAEAAMAAUAAgD///3/7f/3/xcAIQAlAB4ADwAMAAsACgD6//P/8v/7/woACQALAPz/9//z/wAACQAWABoAFwAQAAIAAQARABYAFQAYAAMA+//z//v/BQAOABMADQAAAAAAAwAHAAQAAwD9//b/+/8CACsAMwAzAB4A3//U/+n///8kADQAIgAXAPj/8P/2////CAASAA0ACAABAP//EQAaACgAIgAEAPr/9f/7/w4AEgAOAAYACAAKABoAHgAMAAAA6P/l//j/BAAhACgAHAAWABMADgAEAP7/9f/3//j/AAAVABkAFwAXAAsACwAKAA8AFQATAAcA/P/r/+//FgAqADkAJQDt/9P/zP/g/wwAGQAkAB0AEgAMAAIAAwAOAAUABAABAAcACQAkACUAKQAbAPb/7P/p/+///P8AAAQABAD7/wMACwAPABgAHQAWABIA/P8AAP//+/8PAAsAEQAdABkAEgD1/+r/4P/s/wsAHAArACYADgAGAPL/8P8FABQAGAAXABMADgAJAA0AEQALAPz/9//7/wUAFwAVAPr/+P/r//L/AgAQABkAHwATABYACQALAAwADQD3//L/6v/s/wYADwAeABEAAADz/+7/8/8JABQAFwASAP3/6v/w//D/FQAcABEA/v/i/9//AQAMACEAHAAEAPv/5v/k//f/BgAmADIAIwAMAOT/2//g/+r/DAAZABYAEgAFAP3/7v/k/+r/7f8BAAsACAD///v/+//5//j/AQABAPj/+f/9/wgAGAAdABUACQD8//n/CAAJAAsA/f/h/93/6P/3/wcACAANABAAAQD9//H/5//n/+7/BgAMABkAIQAcABsAFgAPAPf/7//3//3/CAARABcAEwAUAAwA///z/+z/6//k//P/CQAZACwALAAWAAMA5v/l/+z/8P8FAAsAFgAVABkADwAJAP3/9P/v//b/BgAcAB0ABQDz/+L/4v8FABwANAAvAP7/7f/d/+b/FAAeAB8AEgD///P/8//+/w0ADAADAPv/7P/o/wEAEAAhABwAAQD0/93/4v/+/woAGQAPAAAA/P8EABEAFAAdAPj/6P/R/97/+P8FABYAHwASAA4AAQDz/+H/3//1/wAAIwArAB4AEwD1/+z/6v/x/woAEwAUABMAAAD5//P/7//8/wAACQANABYADwAGAAQA9//o/+X/8f8ZAC8AQgA0APX/1v+1/8P/+P8YAEAAOwAgAAcA6v/i/97/2v/v//j/CgAOABUAHgAiABkA/f/u/9P/2P/x/wcAIgAmABgAEQABAPv/9v/y//X/8f8EAAoAFgAaABoADQDy//L/6//n/+f/6f/z//v/EAAKAAgAAAD2//H/9P/7/wEABgD+//r/7P/u/wMAEwAqACsAAQDl/87/2f8DABgAJQAWAO7/2//g/+n/EAAXAAoAAwD4//f///8CAAUABADu/+r/3//n//7/CwADAPD/3//e//3/FQArAC4ACwD1/93/0//m//L/FAARAP3/9f/p/+z/+v/v/+n/4f/t//z/EAARAAgA/P/w//H/AwADAPr/9f/3//7/EgAZABoAEQDk/9D/vf/H/+r/AwAqACkAEgAEAPz/8f/w/+X/zv/N/9r/8v8sADwALgAWAMv/q/+u/8j/CQAjADAAIgD9//X//P8DABYADQDn/9X/z//Z/wcAJwBAADIA8//S/7j/w//u//7/EgAMAP///P8IABQAGgAXAAkA/v/s/+L/5//m//n/CAAYABYABwD7/+n/3v/j/+v/BwAMAA0ACAD2//X//f///wAA+v/o/+j/7f/u//z/BQABAPf/4v/X/+H/7/8kAC8AGQADANf/yv/j//n/KAA3ACgAGgDs/9X/vv++/9D/4//9/wQABwAFAAYAAgD2/+X/0v/M/+j/+f8ZACQAEQAIAPX/9v/6//7/8P/o/97/1//z/wEAFwAXAAAA8v/V/9T/2f/m/wEAFQAoAC0AEQD//+H/3P/g/+7/AQAEAAkADQAUABMABAD+/+//7//u/+v/9//6/wYACAAFAPX/5//n/+v/9P8RAAwA9//t/+H/5P/6/xAAIwAgAP//7v/V/8//8f8IACcAKAASAAUA5//j/+//+f8DAAEA9P/p//T/AAAdACcAFQACAOD/2//r//P/AAAFAA4ADgAJAAMA9f/z//D//v8DAP3/8v/x//T/+v8GAA0ACQACAPb/7v/p/+3/AgAPABsAFAAAAP7/8//1/+7/5f/r/+3/8P/2/wUACgANAAsA8//l/83/0//w//3/CgACAO3/5v/5/wIAFAAOAAQA/P/t//P///8BABcACgDq/9n/1v/j/wQAFAAeAAcA5P/c/+///f8hACcAEwAAANz/2//s//v/EwAbAA4ABAD3//X/9P/w/9v/4P/p//z/DAALAPz/8//s//D/AAAAAAYACAALAAgACgADAP7/9v/k/+v/9P8AABMAFQD//+7/3v/W/+z//P8KAAwA9f/p/93/5v/0/wIAFwAbABMACAD2/+3/9/8DAAMAAAD8//3//f8EAPn/8f/W/9X/6P/8/xsAHwAVAP7/4f/f/+v//P8eACMAAgD6//D/+/8JAA0ABAAAAPr//v/+//f/+P/v//T/9/8JAA4AAAD4//L/4f/j/+L/+P8CABkAHgD3/+v/5f/r/+3/+v/+//r/BAALAAcABgD4//X/7v/s//D/+f8JAAoACAD3/+P/4v/t//T///8BAO3/7//+/woAGQATAAkA+//d/9n/6//3/xEADQD4/+r/3v/q/wsAEQACAPX/5v/o/wAADgAPAAsAAwD1/+b/5v/t//f/BgALAAUAAQD///v/BwACAP7/AAABAAQAAAABAPr/+P8BAAIACQAIAPn/9v/5//v///8DAAwACAAKAP//7//2/wcADgAOAAIA3v/U/97/6P8NAB8AKwAhAAIA9P/j/+v/AwAUAB0AFQAQABQAEAAOAPL/2//O/9H/9f8LAB8AHwALAP7/9P/0//r/BAASABMAAwADAAYAEAAeAB4ABQD0/+b/5f/t/wIAEAAbAAUA+v/q/+v/+P///yQAIgAWABAA9v/0/wcADQAOABAA8f/q/+T/6P8GAA4AIgAWAPv/7//l/+3/AwAFAAEA///5//j/EQAQABAADgABAPz/9P/4//v/BAALAAoA8v/t/+3/8//6//7//v/8/wkAEwAYABkADwAHAPz/9f/5//7/EAATABUAFwAFAP//8v/y//L/9f/2//7/EAASAAcA/f/u//L//f/9/wUACgASABIAGgATAAUAAQDt/+r/6//y/wgAGAAwACUAEQD0/9X/0P/b//D/HAAsADIALwAKAPX/4P/c//P//v8IAA0ACQASABUAEwADAPf/5P/j/+b/7/8XACYALwAeAPH/4//e/+f/CgAXABIA///i/93/7f/2/wkADgD9/+z/3P/e//3/EQAjABwA+//l/9n/4f8AAAcAAQDz/+P/5/8CABcAMgAoAPD/z/+4/8j/AgAlADgAKQDn/9D/xP/O/wIAEAAXAA8A9f/z//H/+/8JAAgA+v/t/+T/7P8RACEAJAATAOP/0//K/9b/BwAeACsAIQD7/+L/1P/b//T/CAAXABgABQD///v/9P/u/+r/6P/x/wgAEAAKAAIA8v/v//r/+f8GAAkACAD///f/8//5/wUACwABAOT/0//Y/+b//P8KAAwACAD9//L/9//z//D/8P/x//L/+f/8/wUADQAOAAQA7//g/+H/8f8MABIACQAAAOr/7P/4//7//v///+7/4f/n//H/+P8DAPv/+f/x//D/+P/8/wEA///4//j/9/8GAAsAFQAMAAQA9f/n/+P/5v/w//r/CAAHAAMABgAJAAIA7//p/+D/5/8HABgAEgARAP///P8AAPr/+f/u/+T/6v///woAGwAWAAMA9P/g/9f/6v/3/xkAIwAWABAA7//w//3/CgASAAsA7v/m/97/6f/9/wYABgAFAAUACQAWABQABgD2/9v/0//n//H/HAAmACcAGwD4/+j/1P/d//T/CgASABAABAD//wUACAD5/+3/3v/h//n/BgASABYACgADAAIACgAIAPr/6//o/+b/7f/1//7/CgAJABAADgADAPn/+v/w/+b/5P/w//T/EAAaABsAGgD///L/2//b/+///v8JAAcABwAAAP//+//1/+r/0//Z/+///f8hACkAGAADAO//6//n/+//7f/t/+3/9P/3//z/CQAPAAcA9//j/9r/4v/0/x4AIgAPAAIA7P/k//H/9P/7/wMABQANAAUAAwDz/+7/6f/u//n/+v8AAAAABAAAAPz/+f/5//b/9v/w/+7/8v/+/wgAAQAAAOv/4//b/+P///8SAB0AFADy/9z/yP/X/wAADwAMAAQA4v/j//P/9f8DAAQA7v/k/+H/5P/3/wAAEAAJAPn/7//8/wQAEgAaABIACwD///z/AwD5/+z/5v/d/9z/4v/r//b//P/1//P/4P/m//T/BQAGAAUA7//s/+7//f8TABEABwAEAOT/3P/R/9j/7////wsABQDu/+L/0//a//P/+f8HAA4AFQASABEADgAAAPj/3//e/9f/3v/9/wIACgD6/+X/2f/Y/+X/AgAKAAwABAD4/+z/6f/s/wMAEAAUAAoA7f/l/9//3v/0//j/+v/z//T/8v/u/+v/2P/a//T/AgASABIADAADAAYABQACAPv/9v/0/+P/3v/g/+n//P8HABYADQD4//H/7v/v//v//f8DAAUAAgABAP7//f8BAP3/6v/p/+r/7P/8/wcABwD+/+7/6P/o//D/+/8QABUAHAAbABIAAADy/+j/5f/z//3/EAAYABAA///V/8X/2f/x/xsAKgAaAA4A7P/p//H/AAARABEAAQDy/+T/9P8TAB4AEgACAOD/0P/P/9v/9P8AAAoABgD8//X/4//k/+f/7f8JABgAKAAuAB0AAADa/8r/yv/b/wgAFgAbAA8A///z//P/8//z/+v/4v/h/+b//P8cACoAMAAiAPD/2//M/9f/BQASACAAFAD0/+//6v/q//H/7v/j/9r/2P/f//z/CQAVABQABwD///H/8//9/wUACwAPABAADwAKAP7/6//m/+n/6P/i/97/1//b/+r/6v/5//f/9P/3//z/AwAFAAUA9P/z/+z/8f8HABkAGAATAPv/7P/Z/9v/7v/4/wQAAwD2//H/5f/l/+j/7v/6/wAA/v8AAAMACAADAP//8//z//7/AwD//wIA8//w/+H/3v/o//P/DAAIAPf/4f/T/9f/AAAQABgAEQD6//z/CwASAAkA/P/m/+j/+/8MABkAEQD5//D/6P/u////CQASAAkA///1//j/+f8GAAAA8//j/+H/7P8IABIADgD3/9b/0f/y/wYAKwAtABMA+//c/9j/8P8AABoAGADv/97/zf/X/wIAEwAZAA0A1//R/9b/8f8dADAAMAAfAP3/+P/5/wAADQAJAOr/0f+8/8P/5v/z/wMA/v/t/+v/8//z//v/BAAGAAgACAAIAB4AIAAZABAA7f/e/9D/2P/t//v/CQAHAPz/7//m/+L/6//u//j/9v/w//j/EQAaACUAJAAFAPD/5f/k/+f/8P8BAAIABAAIAPv/9//l/+D/2//j/+v/9v8TABoAGQASAPn/5v/k/+z/BgAQABMAFgAUAAoA9P/s/9//2P/j/+n/AwASABUACwD1/+X/4P/l/wwAGAAlABkA+v/w/+b/8P8IAA8ACwD//+H/4P/c/+3/DAAOAPz/8//u//T/BQAIAAcA///z//T/+/8GAAQAAwD4//D/6//u////BgALAAUA+P/s/+7/+P8EAA8ACwAJAP//AAD8//j/6//d/+3/8P8PABcAFgAGAO7/5P/d/+j///8KAAYA/v/v/+3/7P/1/wAABAAFAAYACQAFAAYABQD6//j/+f/5/wIACgALAPz/7v/e/9H/1//1/w4AHQAkAAkAAADy/+z/9//8/wEAAgAAAP//9P/v/+r/6v/r/+b/+v8FAA0ADQABAP3/8//1//3/+P/z//b//P8BAAIA+v/1/+3/9v/5/woAEQABAO3/1v/I/9H/5P8ZACgAKQASAN//0v/S/9//CAAZABsAEQD8//H/5f/q//f/AwAJAPr/7//y/wAABgAHAP3/7P/h/+r/9v8IAAkA/f/y/9//5/8EABkALwAtAA0A9f/b/9b/4v/2/xgAHAAcABMA9v/n/+H/7f8FAA0ACwAJAAQABAAHAAgAAwD2//X/8f/v//b/DgAPAB8AIQAKAPz/4f/e/+v/+P/+/wAA+/8CAA0ADAD///P/3//h/+L/6v///wcAGQAcABYAAgDZ/9H/1P/m/w0AHgApAB8AAgD3/+r/4f/o//H/AAAFAAkABwAHAAMAAgD8//T/9P/3//3/CAALAAQA/f/6//D/6//v//X/AgABAPz/8P/r/+n/8f8GAAwAFAAPAP7/8//0//7/CgAOAPP/5f/F/8T/3f/5/xsAHgAMAPn/2v/a/+//BAAnACAADAD+//T/8f/+/wEAAQD2/+b/5f8CAAoAGwAZAAMA9//b/9X/5P/u/wcADgAOAP//7v/z/wEACAAOAAYA+v/r/9n/4v/u//v/CQAWABgADgDz/+j/4v/i/+P/8v8YACIAJAAYAP7/6P/W/93/+P8BABEAGQATABcAEgANAAAAAgD5//P/+//8/wEAAwAPABMAFAAQABwAIAAAAPD/6f/m/+z/AQAbABsABgD8//j/+v/8/wIAAQD8/+7/6v/2////FgAXAAkA+//w/+//+f/7/woAEQAKAAoA//8DAAoADQAIAAQA6f/i/9//7f8OACIAHwAZAAwAAQDw/+X/1P/Y//f/EAAtAC0AHgANAAMA+P8FAAcAAwACAPf/+v/+/wQADAAMAAAA6//G/8j/5//8/xkAIgALAAIA7P/u/wYAEwASAA4AAwD5//b/AgAPABIAAwD4/9//4//j/+X/4f/l/+L/6P/w//7/BgAJAA8ACgDt/97/3f/j/wsAHQAvACIA+v/m/87/0P/i/+z/CQATABIABQDs/+j/1v/b/+f/7v/9/wIAEgAGAP3/9P/o/93/5P/q/wMADQAdABQA6v/R/8T/0P/z/wkAEQANAPf/+P/h/+b/6//x//b/9P/5//r/AQALAAsA/v/a/8v/1f/i/wIAEQACAPj/4P/k//L/+f/6//j/7P/q//f/+f///wkA/f/9/+n/5//q//X//v/9/+v/6//r//r///8AAPX/8f/l/+n/+f8DAAMABAABAPj/7v/t//n/+P/0/+j/2v/e//P//P8QAAwA8v/m/+n/8f8EAAgAAwD3/+j/6v/0/wUAEwASAPT/6f/Y/+H/BAAZABwADwD3/+v/5v/m//L/7v/i/+X/6v///x8ALAAwABYA2v+5/63/v/8IACgAOAAwAAEA6f/N/8z/4v/s/wQACgACAPz/BAAIABQAEADx/9v/x//O//v/EgA3ADQAEQD6/+D/4P/1/wkAFgALAOb/2P/f/+n/EgAjACAAEwD4//P/9f/2////BgAMAAUACAAMAAwABwAEAPn/8v/y/wQADQAPAAMA8//z/wUADAAUAA0A8v/q/9//5v8AABIAJAAmAB0AEgAFAP//AgAJAAUAAwD///z/AAABAAcACAD8//b/+P/1//v/+v/5//f/7v/s//f/AQAeACEACwD7/+z/6f8EABUAJAAiAAcA///w//T/+P8AAAMA/P/v/+7/9P/7/wkACAD2//H/3P/h/wgAFwAnAB0A/f/z/+X/7f8BABEAJAAiAAUA8//o/+3//f8AAPv/8f/a/9X/7f/4/xIAFAAMAAgA+f/x//r/AgAFAA0ABAAEABcAHQAVAAwA7//c/8v/y//p//H/BQAOAAAA/P/u//H/8P/3//v/AQACAAUABgACAP3/+f/v//f/AQACAAEA9//5//j/+P/6//X/9/8DAAcAAgD7/+7/5//i/+v/8//8/wIACAALAAcA6//n/9j/0//k//H//P8HAAQA+//q/9j/1P/T/+T/4f/1//H/9v/y//f/8v/u/+H/1v/T/+P/8v8DAAsA/v/2/+r/6v/t/+7/7v/m/9X/0f/k//H/+//+/+z/4f/Q/8v/0f/Y/+v/9/8QAAkAAgD6//T/9f8CAPr/6v/o//b//P8KAAkABQD2/+D/2v/R/9r///8PABQADAAFAPr/5//i//P/+f8LABsAFQAFAO7/5//l//L/DQAXAAQA8//o/+P/6//8/wUACQABAAEA9f/z/wIACAAEAAEA+f/7/wEABAAMAAAA4P/g//r/AwAaACAADwAEAAYABAANAAcA+P/s/+b/6v/9/w8AKgAtABIA+v/g/+T/9v8FABsAGAD9//b/AwAIABMAGgAHAPf/6P/n//f/EQA2ADYAGQAFAM7/zP/f/+7/CAAGAAIA/P/v//P/CgAMAAoABQD+/wIAFgAfADAAKQABAO//6f/2/xIAFQAJAO//3v/Y/+b/+/8SABUACwAHAO3/7f8AAA0AFgAVAAkAAAABAAUAFwANAO//4f/W/9n/8f/8/w4AFgARAAwA+v/0//7/AAD+////AQAGABsAJwAvACYA8v/U/8H/yP/q/wUAKwAwABgAAQDq/+L/8//1//b//P8MABsAKQAkAAgA8//U/9L/5f/0/wkABwAJAAUA6f/q/+3/+P8MAA0A9v/k/93/3/8HAB0AIAAVAPv/6P/a/9j/8v/8//b/9v/1//L/+v8AAP7//v/i/+P/8//9/x4AIAD+/+v/1f/W/+z/+P8RABEABAD1/9//1v/i/+z/AAABAAEAAQD8//P/7f/v/+f/8f/8//v/8v/v//L//P8IAAYA8f/k/9D/yv/W/93/6f/x//7/BQAMAAwAAgABAOn/3v/g/+v/+//+//z//f/3//T/8v/z/9v/1//c/+j/+P8BAPz/+P/4//7/BgAPAAIA7P/g/+z/AAAPABQAGgAFAP7/6v/k/9r/2//e/97/6P/r/wwAGwAqABwA///h/9j/2//1/wcAIwAaAPX/4//b/+j/DQAgACkAEwDq/9n/4//2/wwADQD4/+3/5P/0/wUAEAATAAsA7f/i//H///8eACAAFwAKAPn/+v8LABcAFQAVAPn/9v8HABEAFwARAAEA9P/y//f/CgAOAAIA+P/t/+z/CAAfADIAKgAKAP3/7P/y/w8AFwAVABAABAAIABcAIQAgABUA+//z//D/+P8bABYABQD7//P/9P8XACgALAAZAPb/6P/r/wAAMQBBADkAIQDt/9z/5//6/xsAGQANAAIABAARADgAMwATAP7/4v/j/wcAIgBEAEUAIQALAOr/5P/x/wQAKAAmAA4ABAD3//f/EwAdABgADgAOAA8AIgArAB4ADgDo/+b/9f8AACIAMAAaAAsA+v/5//7/CQAdABoADAACAAAAAQARABYAGgATAP7/+f/4//T/+P/6/wMACAAEAAUABQAEAAEAAgAIAAgADgAPABQAFAALAAgABQAMAAIABADz/+//8P/3/w4AFQAaABcACQD///j/+f/+/wAABAD6//v/+/8KABkAHwAXAO3/2f/U/9//BwAiADAALwAFAP//5v/j/+7/9/8JAAwAGAATABMADAAAAPP/6P/k/+T/8f8CAA4AHAAhABgAEwD7//b/7v/y//7/AgAPABEAEAAJAAEAAAAHAAYABgD8//L/9P/y//f/CwANAAQACwD8//v/+P/9//r/+v8DAAoADAAUAB4AGgATAAIA7P/e/+z/9f8GAAgACgAKAAYADQASAA0A+f/0/+j/4P/3/wUAFwAfAB0AFQAGAPj/7//u//f//P8NABUACwAAAPH/8//4/wIAGgAaAAsABAD7//z/CQAKAAkAAgD8/+v/7//+/xoAIQAYAAEA4f/a//n/DwArACsAEwD+/+7/7f8EAA4AEQAJAO3/6v/0/wUAJAAsABYAAQDi/+H/9f8EABsAFQANAAsACwARABoAFAD9/+3/3v/g//j/DwAvACoAEAD5/+L/6v8JABwAIQAXAPv//f8MABQAGAAbAP3/7//w//v/GAAiACAAEQD1/+7/7P/5/wgACAD2//P/8//1/wsAEwAdABsABAD+//v/BQAdABoAGAAXAPr/+f8FABAAFwAcAAYAAAD1/wIABgAFAPv/9P/8//7/FwAaACMAIQANAP//AQAEAB4ALwA4ACoA9v/q/+n/8P8LABAADgAKAPz/+f8DAAUACAALAAMA///9/wcAFQAUABMADAAFAAYABQD+//z/+v8EAAsAFgAXAPv/9P/3/wAACwANABUAGgATABYA///x//D/+f8NABIABwD+/+//8P8HAA4AEgARAPf/8P/3/wAAHwAkABIABgDh/+L///8PACYAIgAQAPr/7P/v//3///8FAAoACgAMAAYA///7//j/AAD9/wgADQANABAAAgAAAOn/5f/7/wsAGwAWAA0AAgD9/wIAGgAbABoAEwADAPH/6f/z/wgADQD5//L/6v/0/xgAHQANAPr/3f/T/+D/8/8dACoAKwAVAOv/4v/y//7/FgAPAAYA+P/3//z/CgAFAOv/3v/X/+T//P8HAAUA/f/7//r/BwAYACAAGgD+/+v/zv/O//L/CQA7AD4AIwAHAM7/wP/R/+D/AQASAB4AEwD///z/8//t//H/9f/9/wIABAACAPz//f8CAAIA+v/4/+v/8f8BAAcA+v/4//T/+f8CAA4AHwAdABAAAQDt/+X/3//t/xwAKgA3AB8A6f/V/8//5/8LABoAJAAYAPb/6//s//D/BgAUABAAAgD2//v/CgAVABkADwD2//X//P8IABMAEwD+//P/7v/0/xMAIgAnABkA7//e/9j/7v8VACgAHAAEAOP/2v/p//X/IgAmABcABwDs/+r/+v8LACQAJQAIAPn/+f8AABMAEgD8/+j/2v/e/wUAGQAiACAAAwD6//P/8/8JABMAHAAWAAgA/v/7//z/AQAEAAYABwAQABIABgD+/+T/7P8CABYAHgAdAAsACADy/+7/8//9/w4AFwAfABoABgAAAPj/+///////BQAIAAoACwAFAAAA/P/8//j/9//9/wMAEgAXABkAFAALAAgABwAIAAcABgAPAA4AGQAXAAgAAQDu/+//6//s//j/9/8JABEAHgAkACQAIAAMAP//8f/5/xEAGgAxAC8AHwAYAP3/8//p/+X/5f/s/wMABwAKAA0ADAAHAAEAAQAFAAkAEgAOAP3/9v/4/wQAIAAnAB8AEwD2/+n/4//n//L/9/8BAAIACQALABQAEgANAAcA6//l/+j/+v8hADMANwAjAAgA/f/x//L/+f/1//v///8FAAoAHAAbABMACwDu/+H/6//4/wkAEgANAAcADgANABMAFwANAAgA+f/r/+X/9P8DABEAGQATAAMA+v/0//H/9//v//D/8v/+/wUAFQAXABkAEAD7/+r/3//d/wMAFQAuACwAFgAEAO7/7v/7/wUADAAAAPj/+/8EABAAIAAhABAA/v/r//D/8v8BABEAGAAUAA8ADAALAAsACwAEAPb/7v/1/wMABwAUAA8A/f/v/+H/5P/s//b/DgAPABIAFwAVABMAAwD9//n//v8BAA0ABQANAAcABQD2//X//f8BAP//+v/t/+b/6//1/woADwADAPv/6f/s//X//f8UABYAAwADAPb/9f/+/woACwAAAPD/5//u//z/DQAVAP3/7v/U/9P/6v/4/xoAHwAKAP//6v/q//7/BQAfAB4AGwAVAAIA///2//L/9f/2//P/8f/3////CgAMAAEA9f/w//L/AwANAB8AHwAQAAoADAAWABIAGAANAAIA9v/9/w0AGQAfABYA/P/l/+z/9P8pADIAJgAdAAsACQAJAAwAFwAZACMAGwAZABEAAAD3//j/+v8KABQAIgARAAEA9//t//L/EAAXACoAKgAjACIAGQAYAAoACAABAAIAAwAEAA8AIQAZAA4A6P/X/9P/3/8OAC0ARAA7ABIA/P/n/+r/EgAfADQAMAAWAAcA//8KABAAEAAEAP3/+//8/wwACgAEAPn/9v/3/xgAIwAtACgAHQAWABAAEwAPAAgA/v/5//3/BgAQABQABAD///L/7////wQACwALAAkACwATABIAFQAYAA8ADwAJAAYAEAAZACIAJgAQAAEA7P/n//b/BwAdABwAFQAQABIAGAAfABoADwAKAAEAAQAKABMAHgAcAAIA9v/m//T/JAA4AEYAOgAHAPD/5f/y/woAFQAaABAA+/8AAAsAEwAOAAgA+f/1//3/CgAfAB4AFQAPAAwAEgAWABgAEAASACIAIQAUAA0A+f/0//X/+//4//T//P8EABAAFQATABIADwAPABoAGgAaABQACwAGAAQA/v/4//n//f/3/wMACwAKAAsA+P/p/9f/1P/6/xMALwAnABMA+v/g/+T/BwATACEAHAARAAcAAQABAOv/4//Q/9j/6P/+/yQALwAoABsA///v/+D/4f/4/wIAIAAoACAAEQD3/+z/8v/3/wgADgD3//D/5f/l//3/BAALAAYA9//r/+P/4/8IABwAMAAyABQABQD9/wEA/f/8//z/9f/w//X/DQAXABwAGAABAOn/1v/Y/+//AgAiACMAFAALAAcACQAiACEAIgASAO//4//s//3/HgAhAAoA9v/h/+D/+P8KACIAKQAdABkADQABAAMABwAHAAcAAgD+//z/DgAgACgAIAANAOj/5P/y//X/DQAZABkAGQAMAAQA+v/u//j//v8cACkAMwAzABcABQDl/+H/9f8DACcAKQAeABMAAwABABIAFAALAAgAAQD6/wAABgAQAAgA/v/8//P//f8kADoAQwAtAAMA7//p//b/EAAYABoADgAHAAIACgAQAB0AFQADAPz/9v8DABgAIQAYAA8A/f/9/w0AGAAkAB8ACQAEAAUACgAdACEAHAAVAPL/6P/h//L/GwAnACUAHQAGAPz/AQAAAAwACQAPAA4AEgAUABYAHwAnACgAJAAVABUAFQARAAwABQD///f/AQAOAA8AAQD9//n/+v8BAAoAFgATABEAEQARABQAGgAZAA8ACQD4/wIADQAUAAcABwD///v/DAAZABsAEADw/+X/7//4/yUANgA2AC8ADQD7//D/+v/9//////8CAPn/+f8eACUAKQAcAAQA9P/r/+3//f8JABkAIgAXABUADAAPAAcACgD5//T/8//8/x0AKQAkABkA/f/y/+P/6P8AAAkADgASABIAEAAZABsAEgAKAPv/9f/3/wAACwAMAAwACQAKAAsABAD9/wAAAgD7//H/9//3/xEAGwAfAB0ADAD//wAACAAQABMAEwAJAPj/9f/x//P/AwAGABsAEwAAAPn/+f/1/wYACwATABIAEgANAO7/6f/i/+f/BwAaACwALwAbAA4A8v/t/+P/7/8EAA0ADAAQAAcAAAD3//j/+//6/woADQAaAB8AJgAgAA4ABQDt/+3/+v8OAB8AJQANAAIA7f/y/w8AFgARAAUA8v/o//f/AgAjADAAMQAsABQAAwDz//r//f8CAPj/+v/7/wYADAAOAAQA+f/z//X/CAAaABoAHQAIAPf/9v/8/x0AJwAnABoA8//i/+f/AAAdAB8AEQAFAPT/9f8KABAADwAHAP7/8//2//7/GwAqADQALQARAAIA9v/6////BgD+//3/BwAWADEAPAAxACEA/P/m/83/1//1/xMAOAA4AC0AHAD5/+j/5v/j//v/BgAmAC4ANAAxAAgA+//h/9//AQAWADEALwAcAA0A+v/5/wsAEgAHAP//8//0//P//f8SABoAJgAmABAABAD1//j/FwAqABwADQD0//f/CQAaAC8ALAAPAAEA6//v/wkAHAAeABYA///0//r/AwAiACYAFwAKAO//6P8PACcATwBRADAAEgDX/8//5P8DAC0AMgAvACAADwAUACEAIgADAPH/1v/c/xQAMABNAEoAIgD8/9//3P/7/xEAMQAvAAgAAAAPABUAKAAkABMAAQDk/+7//f8PACIAKgAeABcADgAKAAAABQAAAAMA//8BABEAGAAwADEAJwAYAP3/8v/r/+7/BgALACIAIAAZABYACQAJAAMAAwAJABAAGwAgACAAEwABAAcAFgAhAB0AEQD7//X///8AAAkACwAPABEADgAOAA0ACAD7//f/7P/s/xEAIwA4ADoAKAAVAPX/8v/9/wAAAwAKACAAKQAvACQA/v/o/9v/3f/x/wIAEQAMAAEAAQAFABMAKgAnAAYA7//j/+X/DAAZADIALAAYABQADQAGAPf/7//m/+P/5f/2/w4AGQAPAA4A6P/a/9r/7f8PAB8AHAARAPz/BQApAC4AMwAjAO3/z//E/8r//f8bAC0AIQDy/9z/4P/w/xkAIwAKAOz/0//h/xIAJABGADwABgDw/9D/1P/3/wsAIAAYAP//9f/u//j/EAARAPz/9f/x//j/BQAEAAkACwAOABAAHAAbAAwAAgDq/9//5//8/zAAOQAsABcA3//T/9n/6/8FAAkA///7//v/BAAZACIAIwAJAOb/4f/2/woAPABCACgACwDT/8z/3v/r/wYADAADAP7/+P/5/wUADwAOAAYA9f/u//v/CQAlAC8AIwAWAAMABQAGAAQA8f/k/9z/5f///wMACwAKAAEA/v/y/+7/+v/+/wgACAAFAAIADQAVACcAKwAUAAgA/f/7//z//f8EAA4AFAAYAA8AAwD1//D/8v/x/woADwAZABcAGAAQABkAGQAcABAA8f/h/+f/7/8fADMANwA1ABwACQD0/+7///8JABsAHQAMAAwAGAAnAC4AKgD//+z/4v/v/w4AGQAiAB0ADQAAAPD/7//z//r/FAAhACMAHwAYABQAHAAfABwAEAAEAAMAAAAFAAgADQAUABcAGgAUABUAEQAEAAoACwAXAA8AEAAKAAcACgAYACoAJgACAPP/4f/k/wgAEAAbABcAEwAQABIAFgAUABQADwANAA8AEAAlACkAJgAfAP//6v/b/+b/CwASABUADQADAAEAGAAcACcAJwAPAP3/5P/f//7/EwA2ADoANgAmABEADQABAPn//f8BAP//BgAXACAAIAAeAAEA8//a/+T/EgAvAEAANwATAAUACwATABYAEAD4/+z//P8BABEAFQANAAQABgAMAA0AEgAAAPL/2v/Y//n/FQBFAEoAKAANANz/0P/h//P/DwAYAAsACgAAAPj/+v8DAA4ABgD2/+z/+P8IACwAMgAdAPv/3v/h//j/CQAhABYA9v/l/+f/7P8bADAAKwAdAOj/1P/d/+3/GAAvACEAEgD8//r/AAAGAAYABAD8//X/8//6/xQAHgAQAAkA9P/u//H/+P/7//3//v8AAAMABQAHAAYA+P/y//r/8//2//n/BwATACMAGwD8//f/+v/9/wAA+f/9/wEACwARAAwAAQDz/+z/9P/8//7/+//+//7/AgALAB8AIwAhABUA5//W/9X/6/8VACcAKQAQAOj/5//v////GQAZAAMA8f/j/+7/BwAPABEABwD6//T/DgAYACQAGgAAAPP/9/8JACMALgA0ACUABQD1/9b/1f/0/wsAKwA4ABcACQABAAIACQAHAPn/8//9/wkAEgAeACgAJgAXABAABQACAAMACgANAAwACAALABYAEAARAA4ABgAAABAADQAFAAoAGQAjADQAMwAiABUA9P/p/+7/+/8eAC0AOQAlAAEA7//n//r/FQAWABMACwD3//v/FQAjADkAOgAhAA8A8v/q/wYAFgApACcADwD8//L//v8SAB4AHwAQAPj/9P8CABkANAA4ABMAAgDm//D/HwA0AD8AKAD1/97/5P/5/yYAPQA0AB8A9v/v//r/CwAkACcADwD5/9//6f8YACgAMAAkAAUA/////wYAFQAeAC4ALgAkABcAAQD//wIAAQD6//T/9f/+/xoAJQAfAA8A5v/e/+X/8P8TACYAIQAmABkAFwABAP3/CgAOABwAIgA5ADwAKAAKANf/w//O/+v/EgAeABQABgDo/+3/AQAUACsAKAAMAAQA9v/+/xQAHgAYAAwA//8AABAAFwAPAPX/2v/Y/+7//v8YABwAGQAOAPT/8P/w//3/JQA1ACwAHAADAPr/EgAcACIAEwDs/+D/1P/l/wUAFAAmACgAFQANAAcAAAD9//v/+f///w4AFgAcAB4ACgADAP7/AQD///j/7v/t//T/8/8GAAQAEQAPAAUAAADy//X/CAAXABkAFQAHAAgAEgAZABUAAwDQ/8H/1P/p/w0AIAAlACcAEgAIAPL/8v/0//X/BwADABEAEwAeACAAFwANAOv/5f/i/+f/CQAfAC4ALQANAP3/7v/5/xAAFQAVAAsABgAGABQAEgAHAP///v8GABYAGgARAA0A/P/6/+v/6f8JABgAPwA5ABYA/v/c/9r/8f8BABgAHgArAC8AJgAXAPz//P/4//T///8IABwAKAAjACUAGAAOAAEAAgD6//L/8f/7/w0AGQAhACAAEwATAAsACAAEAP7/DQAVABQAFAASAA0AHQAkABgACgD6//f/+P8GAAgACgATAB4AJgAbAAIA9v/m/+f/9/8FACQAJAAoACQAKAAhABQACgD1/+7/6P/z/xQALQAwAC8AEgD///n/+/8IAAYAEAAJAPr/+f8AAA4ANQA7AB8ACADp/+f/8/8PAD4AQgAtABYA8f/n/9//6v8EAA8AEAAWABYAGQAlACcAFAAAAOz/9v8XACUAKAAZAPf/8P/w//f/EwAbABYADQDy/+n/5//3/x4AJgAnABgAAQD9/wIACgAUABkAGAAVABQAEgAKAA8AAwD2/9T/0v/6/xUANwA3AAsA7P/K/9D/9/8HAC0ALAAgAA4A8//s/+//9v8VAB8AGwAPAPf/7//0//P/7P/u//n/BQAaACIAEwAJAPv//P8JAA0AGgAZAAUA9f/n/+r/BAASAA0A/v/l/9v/3P/z/xEAJQAtAB4A+//v/+j/9P8YACQAHgAPAPf/9/8SABoADwD9/9b/yf/O/+X/DAAXABcADwD6//P/+P8BAAsAEgAQAAIA8v/w/xMAJAAuACEAAQDl/93/3v/5//z/CgAJAAoACAD///3/7//q/9j/2v/y/w0AMgBBADgAHwD6/+v/4//t/wMACQAKAPn/7P/t/wcAFgAlABYA3f/B/7D/yv8IACYAOwA4ABQADAD2//H/4P/d//D/+v8TABMAGwAUAAcA9P/X/8z/2P/i//f/BgAiACsAJwAjAAsA/v/m/+b/7//6/wgADQANAAsA/f/3//r/9//9/wAA8P/p//b/AAAgACsAJAARAPH/5v/q//T/AAAJAAYACgALAAcA+//7//z//f/s/+r/8v/+/x8AKwAqABwABAD+//z//P/4//b/9f/4/wMAAwAMABEAEQAMAAAA+/8CAAIADwAKAAMA/v8JAAoAFQAiAB4AGwACAPT/2P/W//X/BgAtADYAJAAPANX/2P/d//P/GQAfACcAIQAcABIAEQAUABMADAD1//L/7//4/xoAKAAoABcA9v/v/+f/+P8JAAwABgD7/+//8v8SACsAQQA/ABcA+//a/9v/+P8MACYAIgASAAkAAAABABAACQD4/+r/4v/p/wwAIAAmABwA+f/w/+X/6v8DAA4AEgAXACEAKgApACMAEAADAO//6//7/wIAFgAWAP//8f/w//j/DwAZABUABQDo/+r//f8OACIALQAXAAwA+//7//7//v8DAAIABAACAA0AEwAXAAwA7v/c/8z/1P/4/xQAMQArAAIA8P/g/+v/BgAcABwADADl/9X/3f/s/xcAJgAmABcA8//u//H/+v/8//f/4f/i//X/BwArADQAGAAGANn/0f/j//P/CgAPAAgACQD+////+//8/+v/6f/i/9v/7f/0/xAAGwAcABEA+//u/9f/zv/d/+3/DgAaACUAIQAGAPP/5//e/+T/7v/x//f/AQAHAAwADQAHAAcA+P/x/9//3f/r//j/DwARAAkA/v/1//P/AQAFAAgA///0/+//AAAEAAkAEQAMAAgA9f/r/+f/7v/6/wAADwARAA0ACwADAPn/8P/p/+r/5//n/+r/AAAHAB0AGgAOAAMA7v/d/9j/4/8EABAAIgAjAAgA/v/+/wUABwD7/9r/0//r/wIANAA8ACMACgDl/97/2//l/wUAEwARABgADQARAAUABwAMAAQA/v/1/+f/7v8CAA8AIQAjABAABgDw//P//P///wsABQD4/+7/7P/3/wcAFwAsACwAGwAIAOD/0v/c//j/HgAwACoAJAAQAA4ACwACAPj/6//p/+n/EAApAD0APQAmAAcA3v/N/9z/8P8fAC8AJAAaAPr/8/8AAAgAEwARAPf/6//x//r/HwArACgAHAAIAPv/9f/1//f//f/4//j//v8MAB4AKQAbABMA+P/r/+L/6/8GABYAIwAnAA0A/v/y/+z/8//w//3/+/8NABQADgALAPv/9P/w//L//v8DAA0AFAAWABoAEwAJAAQA/v/2/+7/+P/2/wMABgAKAAUACAAJAAgABgACAAIA/v/+//T//P8HAA8AEgAXAAsAAgAAAP3/CwAHAAUABwANABcAIQAbAAYA+f/X/9j/3v/l/wcAGQAsADAAJgASAPX/5//t/+7/+f/7/wEACgAgACEAKgAkAAkA9f/c/9H/0v/i//n/BwAfACcAFwAMAO3/2//a/+P//f8CAAsACwALABEAEQAJAAAA8v/o/+b/7f/y/w4AGQAWABMA///4//D//P/3/+z/4//b/87/2/8PACIANQAuAAkA9f/W/9j/3//0/xcAKAA1ADIAHAAOAPH/5f/K/8X/0//c//v/CgAkACkAHgASAPL/6P/k//H/AAAQACAAJgAnACMABQD0/9z/2P/a/+P/7f/8/wMACgARAAwA/f/0//T/8P/p/+r/9P/8/w0AFAARABAADQASAAkA/f/p/9X/2P/f/wgAGgAqACAAAQDy/+r/6P/0//j/9f/6//n/BgAUABkAEgAEAN7/0v/P/9v/+/8OACMAIAAhABYAAwAAAP3/9f/h/9r/4v/u/x0AOABAADUA+P/f/7z/vP/M/9n/+P8MACEAJAAUAAYA+//w//H/9v/9/wUAHQAjABgAEgD9//b/6P/m/+r/7f/3//z/DgAMAAIACgAVABkAEgAMAPn/8v/u//D/AQAKABkAIgAcABoABQD4/9//2//b/9n//v8PACEAHwASAAYA8f/w//z//f8BAP7//f/+/wYAEgAdAB0AFQAJANr/yf/L/9r/CAAYACwAKgAZABEA+//r/9f/1v/h//D/EwAkADAAMAAZAAgA1//P/9j/5P/7/wUAFAAZABUAIwAfABMA7f/l/9//2//1/w8ANwA1AC8AFgDy/+f/3//h//r/BAACAAUAFgAeABYADwAJAAEA5f/m/+//9P8JABEAGAAcAAQABAD4//L/9f/y//X/9v/5//n/CQAVACQAHgASAAMA3//c/+r/9/8JABQAEQAUAAkAAwD9//f///8BAAwACgD0//L/8/8CABMAGQALAP//7f/s//L/9//4//f//v8DABYAGQApACAA8f/d/8L/xf/k//z/HwAgABAA///y/+X/3P/f/9z/3//1//3/FwAlACUAHwD1/93/xP/H//X/CQAfABkACQD4/+j/6f/6//3/5//d/8z/0//3/xAAPAA2AA0A9f/Q/9H/3//t//7/CQARABAADQAHAPD/5//Z/9f/5P/t/woAFQARABQAAQD7/+n/4//i/+T/7//0/wMADgAWABUADwAEAPL/6f/a/9b/7v/7/w4ACwD5//L/+f/+/wIAAQDr/+P/2P/b//X/AQAUABgAGAARAO//5P/n/+f/8v/8/wEAAwASABcADgAJAO7/3v/N/8z/7f/8/xAAFgAQAAwAAwD8//L/6//j/+D/6f///xQAHAASAAQA7v/i/+P/5v/2/wEA/f/z/+X/7P8FAAsAFAAVAPP/3f/X/9r/CwAhADMAOwAgAAkA2f/J/8//2f8EABsAHQAXAO//5f/c/+X//v8LABQACwD3/+//6f/r/wcADgAUABUABAD9//r/AwARAA0A9v/o/+f/8P8PAB4AGwAOAOb/z//Y/+z/GgAuADEAJgD4//D/5f/p/wIABQD5//b/8//x/wUADQASAAsA/f/2//v//f8IAAkA///1//D/+P8LABUAEAAJAOz/5P/e/+z/BQANABIACQDx/+j//P8IABYAFwAHAP7/5//s/wIAEQAaABEA/v/u/9f/0//d/+H/7v/1/wcACgAWABEABwAAAPP/8v8FAAgAEgALAAwABgAEAAIADQAMAPn/7P/U/9T/5P/6/xwAIAAHAPP/1f/a//L/CQAgABsA9v/h/+H/8P8ZACwAJgAVAN7/1v/Z/+X/BAATAA0ACwD9//j/BQAEAAQA+//u/+n/9v8EACUAJgAZAAIA2f/S/8//3//6/wkACQAKAAcABAD//wUACAAIAPb/9f/y//z/EgAbAB4AGAD9/+z/1P/T/+n/+f8CAAgABgAAAPP/9v/+//7/+P/3//D/9P8FAA4AHgAaABQACAD1/+r/4f/l//b/AAAAAPn/+f/1//7/AwANABQACAD+/+z/6P/z//v/DwAPAAAA/P/0//T/7f/1//z//v/1//b/CAAPAAwAEQAJAPz/+f/4//n/+P/8/wUACgANABoADQDx/+L/4//k/wUADAAJAAIA//8CABEAFgAHAP//6f/s//n/AAAJAAoAAwADAAIAAwD9/////v/4//L/7//5/wMAEwARAAkAAwDt/+b/7f/0/wcADQAMAAMAAAACAP3/AgD8//j/6v/1//j/AAAIAAYABQAJAAcADgAMAAcA+v/y//n//f/9/wEAAQD7//3/9f/v//X//f8FAAIA+//5/wQAGgAiACEAEgDy/+3/8P/4/w0AEgAOAAYABQAFAPH/8f/q/+f/5//j//f/CAAeACEAJgAhAAIA9P/j/+7/+P8GABcAFAD4//P/4v/q//r/AQD6//L/6//q//f/CAAfACgAHAAOAPn/7//0//f//P8FAAwACQAUABMAAQDy/9H/0//p//f/BwAOAAgAAQAGAAkAFwAdAA8ABADn/+P/9v8DAB8AIQAQAAYA+//6/wUACQD5//L/5//n////BwAYAA0AAgD1/+r/7P8HABIAJQAjAAIA9f/l//T/FAAmABQA/f/j/9v/8/8DABwAIQASAAgABAAFAAoACwABAPj/2f/c//f/CgAcAB4ADQD7/+f/5f/6/wUACwAHAPz/9P8AAAwAIAAkAA4AAQDs/+n/7/8EABIAFwAdABgAAAD5/+T/3P/h/+//FAAfACQAHgAWAA8A/v/7//P/7v/6/wgABwAHAAEAAQAFAA0ADAALAPP/7v/s//f/DAAbABkAEAD7//n//f8GAA0ACQD9//7/+/8DABMAFwAVAAsA7//t//j/BgAbAB0ACwD9//H/+f8NABMADwACAOz/3//k/+j/9f8AAAwAFAAeAB4ABgD3/+7/7f8DAAgAAgD9//v//P8NABEAAAD5/+n/6f/6/wEABgD3/+//8v///woAGQATAPb/8v/q//H/BAANABEAFAAUAA0A+//x//P/7//u//f/CwAJAAEA/P/x/+f/7//9/wkABAD4//D/4v/l//v/BwASAA8AEQATAAcACwDv/+b/2f/f/+j/+/8YAB4AGgATAPv/7f/T/87/5P/8/yYAMgA0ABcA7f/e/93/5/8EAAMA/v/3/wAACwAcAB8ACAD0/9f/1P/h//T/DQAVAA4ACgAQAAoABwABAO3/6f/9/wgAIQAqACIAEQDt/+T/1f/W//H//f8jAC0AFwALAOD/2P/g/+//EwAaABwAGAADAP3/+f/+////CAAGAAYABwANABgAFgD8//H/5f/h//r/EwAvAC4AEwABAOD/4f/w/wIAJQAwACcAHAD9//b/9f/4/woAEAAKAAQABAABAPP/7v/5/wUADAAUAA0ABgDj/9//4f/v/xUAJQA0AB4AAADw/+j/9v8OABQAGAAYAPj/8f8AAAQAAwD8/+//6f/u//3/IQAqACEAEgDu/+z/6f/6/xYAHwAGAP7/8f/u/wAACgANAAsA8P/u//r/BwALAAMA8//r/+v/8f8FAA8AEgAPAAgABAD//wAACwARABEADQD9//L/9P/9/xUAGwAVAAcA7v/r//z///8LAAYA/f/+////BAAAAAAA+f/4//3/BAATABgAHAATAAEAAAD1//X/9//9/wwAEAAaABIABADz/9z/4//8/xIAQQBBACcAAQDI/77/z//u/ygAPAA2ACQA9//t/+P/6P/7////BQAEABAAFAAgACEAFwASAPH/6//j//T/EQAbAAwA/v/f/+H/+f8MACQAHAD2/+L/1v/Y/wEAEgAiABoACgABAPf/9v/1//r/4//l//P///8dACUAIwANAOr/2//Q/9L/8f///wwAEgAHAPv//P/8/wgA/v/0/+n/5v/n////DgATAA0A9v/w/+X/7v/3/wMABQD8/+b/2v/q//b/BAARABIACgD0/+z/5v/h/+n/8v8BAA0AEAASAAwA+f/e/93/1//g/wAACQAJAP7/4//j//z/CAAUABQACgD3/+j/7/8DAAwAFwAgABEACADw/+r/4//g/+z/9f/1//j///8EAAQABQD4//j/8f/3//z/BAALAAoABQAIAA4AEAAWABYACAD4/+//6//3//r/BwATAAUA///o/9//3//p//z/BgAIABkAHwAgABcADgDs/+f/7f/5/wgADwAHAP3/DwALAPz/7f/c/+H/9P/4/wUACwAMAAoADQANAPz/+P/y//f/CAANABQADgABAP7/+P/z/+j/4//h/+7/AAAOABUAGwAbABQAAQD8//n//P8HAAMA/f/4//T/8v8PABIAFgANAPj/7//s//X/BAAKAA0ADwAOAA8ACAAFAPj/8v/x//T/AwAMABQAGwAYABIABgACAPP/8//5//z//v8BABMAHwAeABkACgD+/+//7f/0//j/BQAOABIAFgAdABkA/v/2/+z/6v/5/wIAGwAdABgAFwAMAAQA/P/9////9f////7/BQAFABAADwD1/+v/3f/d//f/BwApACYAFgAFAPT/9v8QABoAGQAOAPb/5v/f/+L//P8GABYAIwAbAAoA7f/e/9P/3P/z/wAAIAAiACIAGgAJAP3/5//i/+//9/8JABEAEwAKAAMAAwAAAP7/8v/r//f/9/8AAAwAFQASABoAGgAYAAwA5v/R/8H/xP/s/wQALAAwACMAFgDg/8v/xP/S/wQAFwATAA4AAgAAAP7/AQACAPr/3f/U/9n/6/8CAAEA9P/0//X/BAAhAB0AAADf/7v/uv/o/w4AWQBfAEAAHwDO/7H/qv+8//H/DQAfABoAHAAUAAAA+v/t/+T/0//a////EgAcABwADgD//+v/6f/5//7/8//u/+n/6v/5/wYAEwAIAOz/4v/f/+X/AAAFAAgABQD4//3/FgAaABYABQDg/87/yf/N//D///8AAPv/9/8BABAADwADAPH/wv+3/97//P9CAFEAQwAoAOX/xf+w/73/5f/4/x4AHAAGAPj/6P/p/+j/4//k/+n/AQARACkAJgAOAPT/1f/V//7/CAAeABQA7//U/8j/2P8FABoALQAkAPz/5P/W/97/+f8BABsAHQAOAA0AAgD9//T/8//2//3/AgAFAPz/+//x/+7/+/8EABEAGwAUABAA9P/o//L/AwAUACEAKwApAAkA6//R/87/3P/t/xEAHQAgAA0A9v/z//H/9f/1/wAADAALAA4AFQAbABoADQAJAPf/7f/s//X/AgD9/wQAAAAAAP3/BwAHAA0ACAD4//3//P8EABMAEAAGAPH/4//2/w4AGgASAAYA5f/c/93/9P8eACYAJwAcAPL/4P/V/+D/+/8FAAIAAwAIAA4AFAARAO//4v/F/8v/9/8GAB4AIwAYAAYA5P/i/+v/+/8QAB4ADwD9/+f/5v/+/wwABgD//+7/5P/Z/9//9P/8/wUABwD9/wAAAwAFAP7/9f/j/+j/CQAWACkAIQAAAO7/0v/X/+P/6P/9/wUAFwATAAAA7P/Z/93/7v/6/wsADQABAAEAAwD5//T/+/8KABEACgD9/+v/3v/a/9z/9/8AAAgAEQAKAP7/5f/b/93/4f/w//n/BwAQABwAFgAEAPr/1f/H/9v/5f8XAB4AHAAJAPD/4v/l//z/AAD8/+P/5v/r////HQAcAAEA8//l/+b/AgALABEABQDn/+H/5P/n/w8AGAAkABcA+f/f/9z/3v/2/wQABwAFAPj/+v/6/wEA9f/u/9z/3f/m//D/DwAVABAABQDw/+T/7v/y//n/8f/0//H//v8GABsAGQD5/+7/4P/d/+3/BAAEAAAA4//h//b/BQAkAB8A7v/P/77/xv///xYAMgAxABIA+v/n/+P/6P/r/+j/7P/9/wQAFAAWABMA9P/Y/83/4//2/xYAJgAjAA8A8f/y//j/AQAYABgAAADs/9H/0P/0/wcAGgATAAEA7P/c/+f/BwAPAAIA+//2//j/CwAZACsAIQD9/+r/1P/e//f/BQAZABUA7P/o/+f/7v/7//7////w/+T/7v/6/woAIAAlAB0AEADy//H/7f/5//3/AgAGAAsADwARABYABwDn/9n/z//R/+3/AAAlACsAKgAeAAAA8P/f/+X/+P8DABYAHgAjACAA///w/9j/2//p//3/DwAUAAYA/f/2//v/BwAKABYAFAAHAPv/AgAFAAkABgABAP3//v8DABIAEAD2/+T/0f/Q/+n/AAAqADAAFwD+/9r/3v/n//X/DgAMAAwABgAOAAwABwD9/+//6v/m/+r///8KABMADgDz/+b/4P/q/wgAFAAJAPL/2//W/+7/AAAzADwAIAD7/8r/vv/Q/+r/FwAmACUAHAAHAPr/3//f/+n/8////wMABwAIAPr/9//8//3/CQANABAADQD3/+//3f/e//D///8NAA4A///9/+v/5f/k/+j/8//+/w0AFAAkADIAJAAfAPf/5f/N/83/4v/3/xgAHAAHAPr/4P/c/9b/3v/n/+3/9/8CABgAHwAoABgA/v/u/+D/5f/5/wMAEQAVABQADADx/+j/1v/V/+T/7P/2//3/BAAKAAkABAD7//n//P/9/wgACgACAPb/4//b/+n/8v8EAAkADwD+/+H/1v/Y/+H/BAAUACsAIAD6/+j/4P/f//r/CgAWABIA+P/o/9H/2P/s//T/DAAEAOP/2v/a/93/7v/6/w4ADgAQAAwADAAGAO7/6P/g/9//9P8CABMAEgDw/+L/yf/Q/+//AgAXABkABgD6/+H/2v/h/+z//v8MAAQACAABAP//9v/1//H/8v/u//L/CgAMAA8ADwACAOn/0//V//X/DQAdAB4ACQD7/9v/1//p/+7/+P///wwAEgAUABMA///y/+L/4v/+/w4AFQAaAAoABAD2/+3/7//u//H/+v8QAA0ADwAFAAEA/P/u/+L/5P/t/wsAEgAnAB8A+f/t//b/+/8TABwAFwACAOb/2//v//7/HgApAB8AGgDy/+T/3f/c//T/AQAJAAwAEAAUABEADQD0/+3/4//n////GgAqACkABwD3/+v/7f/2//3/CwANABAADgAXABMADAALAP7/+v/k/93/3//r////CQABAAEACgANAA0ADAD5/+//9P/6/w0AEgAOABEADgAHAPn/9P/k/+D/8v/8/xEAFAAKAP7/7P/q/+r/8v/2//r//v/8//j/9/8FAAMAEgAWABQAAwDy/+3/8P/+/xIAEwADAPD/7f/3/wkABgDj/9P/xf/K//T/CwAsAC4AGwAMAOj/4P/i/+7/EwAeACwAJwAKAP//5v/a/9r/4v/y//3/8//6/+3/+v8KABEABAD9/+v/6f/r//n/DQAPABUAFAAKAP7/8//q/9f/0v/I/8r/5f/2/xMAFQAIAP//8P/q/+T/8v/1////EgAUAAsA/P/r/+n/6f/t//H/9P/2//j/+f/6/+b/2//X/9z/8f8AAAwADQDv/+f/4f/j/wQAEwAgABkA+f/i/8z/wf/R/9v//P8FACEAHQALAPn/6f/m/+n/6v/Y/9X/5f/z/xYAGgAOAP//3v/O/9P/0f/5/wkAIwAlABcAAQDj/97/3f/h//T/9f8MAA8AFAAOAPL/6v/p//P/7f/l/9z/2f/2/woAHAAYAAoACAD4//j/+P/3//j/+P/6//X//f8CABgAHAACAPX/zv/K/+b//f8sAC4AHQALAO//5//e/+7/CgARAAoABQD4//3/EAAUAPv/7P/Q/9T/5v/4/wMABwAIAP//8v/9/w8AGgAUAAUA4P/Y/+r//v8VABQACQD7/+7/8/8CAAMABQD///z/7//w//D/+P/+/+//6P/h/+X///8KABkADgD0/+X/6f/v/wYABwD0/+j/3f/h//P/BgAcACEAFwAKAPD/6P/n/+f/7v/0//j//f8HAAEAAAD2/+7/6P/y//j/CgAQABQACADm/93/5v/1/xEAEwAFAPf/9f/8/wQABAABAPz/+v/+//L/5f/Y/+P/AAAEAAoABQDx/+b/7v/w/+3/8f/r/+b/7f/z/wgAEQAaAAwA7f/f/9T/4v8KABsAIAAXAOv/1P/D/8z/5//6/xMADQD9//X//v8FAAIAAAD1/+z/3P/j/wIAAwATABIAEAAGAPv/8P/h/+T/7f/z//z//f8OAAsAAgD3/9v/1f/k//j/EQAcABgABQDl/97/5P/j//b/AAAJAAAA8f/n/+X/4v/w/wAADQAIAPn/7v/Y/+D//v8KABYAFQDy/+j/3P/r/wQAEgALAAUA6f/d/9//7f/+/wUADQAEAPb/8P///wEAAwD8/+D/0v/M/9z/BQAPAA4ABwDo/+X/5P/x/w4AFgAcABEABAAGAPv/9v/1//H/5//s//z/BwAKAP3/7f/o/9//4v/1/wMAAwACAPz/AQATAB0AHQAQAPD/4P/f/+//EgAWABAABwDn/9z/yP/P/+f/+v8ZABoACQAAAPL/5f/n//L/7//3/wUAEAAYABcA/f/r/9f/1v/1/wEADgALAOb/1v/L/+D/CAAWABIACQD8//f/BAAIAAQAAQD3//H/7//1//7//P/u/+v/2//f//H/BgArACYABgDy/9f/4P/+/w0AEQARAP3/9f/4////AwADAAIA+P/q/+b/6v/t//v/BgANAA0ADwALAAEA9P/t/+//DAAVACcAJwAQAP3/5v/e/9b/4P/5/wEABQAMAA8ADwARAAoA9//1//L/9/8JAAwAAwD7/wIACQAUABcACgD8/+T/5f/y//L///8DAAgABAD6//j/9v8AAAYABwD5//b//v8JABwAJAAOAAIA7f/k/+r/9P8AAAYAFAAQAAUAAgD+//n/6f/h/9H/1v/0/w4AIQAiAAUA9P/i/+b/+f/+/wkAAgDw/+n/7//1/wEA///9/+v/3v/e//T/AwAJAAYA9//w//r//f/+/wAA/P/x/+v/8P8DAA0ADQABAOn/1f/O/9H/9//+/wQAAAD2//X/8f/0//D/8v8AAAcAFAAXAAQA/f/u/+b/6P/s//r/AAAGAPz/9//v/+n/6//r/+7/7f/w/+f/6v8EAAAAAQD+/+v/5f/e/+v/AAAUABsAEgDw/+7/8f/3//f/8//e/+P/9P8JAB4AIQAOAP7/4v/X/9H/2v/y/wMAFwASAPT/6f/i/9//6f/t//b/9v/3////CAANAA4ADgD5/+z/4v/i//H//P/7//n/6f/g/+j/7f/0//b/+f/x/+T/5P/w//f/BwAHAPf/8f/o/+v/AwAFAPf/8P/j/+X//f8HABYAEQD5//D/3v/a/+3/+P8JAA0A+P/v/+r/8v/y//n/8P/m/9z/3v8BAAMACgADAO//5v/k/+3/BAAVACoAIQDy/+P/zf/V/9b/5//v/+7/8//7/wYAAADs/+b/3//j/wEAEgAbAB0AEAAFAOr/4P/l/+//AAAIAPf/8//s//P/7//0//P/7//k/+r/9//4//r/9f/z//D/BQAKABMADgAEAP3/7v/x//X/+P/r/+b/6f/n/+b/7f/x//H/+f8AAPn/9//+///////9//3/+f8JABgAGgAPAOX/zP+4/8n/+f8QACQAHQDm/9L/xP/R//L//P8LAAoAAAD9/wAACgAMAP7/5f/W/83/1v/5/wIADAAFAPj/7//t//L/AgD7//D/6P/0/wMAIgAnABIAAgDZ/9L/0f/m//3/BQAJAAUABgD8//P/8f/n/+b/5v/e//T/CAAqACkADQDu/8z/z//p//7/CgABAPD/4f/j/+z/CwAOAAUA+P/q/9//8f/9/wsACgD2//P/7P/z/wgABwD///X/5//q/wIACQAWAA4A5v/a/9P/5v8UACUAIQACANH/zv/n/wAAMwA5ABgA///b/9v/7f/8/xEADwDz/+f/1v/a/wcAFwAjABEA8f/l/+T/8P/+//r/AwAJAAcACwAIAAAA8f/v/+H/3f/k/+7/AQADAP//8f/q/+v/9v////j/7v/r/+v//P8DAAMABwD1/+r/6P/o/+b/6v8CAP7/8P/w//X//v8OAAsA+f/u/9n/3v/+/woAEwAJAOr/4//j/+n/BAAKAAMA9f/b/9T/6P/5/wIABAD1//H/8//9/wUAAQDv/+D/1f/Z/+z//f8YACAACQD2/9P/yv/Z/+//GQAaABUABADw//j/DAARAAkA/v/i/97/5//2/xUAIAAXAAEAzf/H/8v/2v/8/wYADgAKAAEAAgAFAAcAAwD8/+3/8v///w4AGQAWAAgA9//Z/9n/3f/j/+n/5v/q//j//P8CAPL/8f/1//z/CQATAA0ADgAIABAADAACAPn/7f/X/9j/6f/2/wkACwAEAPv/5//l/+D/4P/0////DwANAA0AAwDz/+T/5//t//L/+v////7/AQAFAP3/9//t/+L/1//V//X/CgAiACcAHwAGANb/yf/W/+f/DQAiACIACwDt/+r/5f/o//f/+P/y//T/8//3/wIACgAJAPr/4f/b/+P/7/8SABwACAD2//T/9P8QAB0AGgALANj/xv/S/+b/FwAqACoAEADv/+L/5P/o//T/7P/t/+v/BgAOABoAGgD///D/3//c//P/AgAfACAABwD7/+T/4//5/wMABwD9/+v/8P/9/wMABwADAPL/8f/2/+v/6P/t//T/9/8BAA0ADQARAAcA/f/h/9b/5//7/xUAHwAaAAkA3//Y/9z/6/8FAAkA+f/u/+n/8v8KABQADwAAAOT/1//i//L/FgAXAAsABADz//z/DgAGAPv/7//k/+b/+f8FABcAEAAEAP//AwACAAQA///k/9r/1//j/wgAJAA0ADIABgDt/9P/2f/w////GAAXAA4ABAD+//v/AwAEAPD/5v/p//T/FgAqAC0AHADt/+D/4P/r/xEAGgAYAAAAzv/F/9P/5f8YACkAKwAkAAUAAQD2//D/4f/k/+z/AwAhAC8AMAAdAO3/2f/Y/9///P8HABwAGgALAAsABwAFAAIA+P/2/+3/5//h//P///8RABgAGAATAPz/5//R/9j/7f/1/w8AFwAYACEAFAAGAPX/5P/g/97/5v/u/xAAHAAXABgA9//u/9n/1v/i/+z/AQANABYAFgAJAP//+f/7//j//v/7/+3/6f/t/wkAEgATAAwA8P/a/9H/1//x/wMAEQAPAAMABAABAAoADQAPAPr/+f/z//b/BQALAAkACwD6//T/3//c/9//5P/0//v/6//u/+v/+v8KAA0ADQAFAPP/8f/7/wIAFgAhABwADADw/+b/2f/a/+T/7/8MABEAEQAUAAIA+v/2//H/AwALAA4ADQD+/wMAAQAFAPr/+//s/+b/4//h//P//f8DAPn/7P/k//3/DAAeAB0AAwDy/+j/7f8QABgAIAARAO7/3v/n//L/BQAOAP7/6v/O/8f/5//9/zAAKQAGAPT/3v/f/+n/7P/9/wEABAADAAUACwASAAoA7//e/8z/1f///xoAOwA1AAIA5P/G/8v/6v8CABgAGAATAA8ADwAOAAkA+//y/+z/9P/9/xEAFAAAAPr/6f/u//3//P8IAP//9//x////CAAZABIABAD0/+n/7P/9/wIAEAALAAAABQAIABEABgADAOz/5f/t//z/EAAYAB4AEgDx/+H/3P/d/w8AJgAnABsA9v/s//D///8SABUADAADAPj/AgAFAAoA///3/+r/7f8IAA0AGwAaAAoABAD0/+7/7v/6/woAEQAOAAUA/P/6////BAD5/+f/0v/Q/+r/+f8qACkAFgAFAPH/5v/n//P/BAALABUAHQAZAAgA9//8//r/+P/4//L/4//m//3/AgAHAA0ACQAAAOv/5f/n/+v/CwAUAB4AGAAAAO//3v/s//P/9f/v/+n/7f/o/+3/+P8FAP7//v/1/+n/4//7/wwAHQAcAA0AAQDp/+T/6f/u/wAAAgD3//H/5P/k//H/9/8CAAIA+/8CAPr/9//+/wMAEgARAA8ABQD1//D/6//z//7/BQARAAkA8P/n/+T/5P/o/+b/7P/7/xAADAACAPP/6P/q//n/BQAPAA8AAwAAAPn/+f/x/+//8v/3/wkABAD3/+3/1//S/9z/6//8/wMAEAAHAPT/6P/j/+r//f8AAAEA+f/u//P/AAAFAAgABQDw/+3/8P/2/wQABgADAPP/5P/g/+z/8v/8//j/6P/j/+X/6v/5//7/AQAIAAgABQD5//X/8//y//P/7f/x//H/8//7/wEA/f/s/+T/3v/n/+r/7//8/wAAAAACAAUACQD///v/6//r/+///v8OAAgA///x/+H/6//8/wIABAD1/+z/6v/2/wAAAwAAAPj/8P/m/+n/+f/0//X/9f/1////FAAaABUACADt/+r/4v/r/wkAFAAXAAYA+v/p/9f/3P/1/wMAEAAIAPH/7v/x//n/FAALAAIA8v/o/+j//f8JABgAIAAUAAwA/v/2/+//9P/6//3//P/5//L/7//v//P/BgAOABIADADt/+L/3v/s/wMABwAMAAkABgAGAAUAAAD7//D/3//d/+3/+/8XABYAAgD3/9//1f/d/+3/CQATAB0AFwAAAPL/8P8AAAsADAD3/+z/1//c//n/BwAPAAoA/P/1/+7/6//e/+P/6//y/xgAGQAYABIA///5/+n/5f/b/+//DAAdACsAJgAEAOv/4P/h//D/+v8QABwAEwAIAO//4f/h/+L///8EAAUA/v/j/9//5v/3/xsAKwAoABYA7f/e/+b/9P8AAAUADQAKAA0ABQDz/+P/4//k//j/AAAUAB0AHQAWAP7/8v/W/9T/+f8MACYAIgD+/+v/3f/g//L/BAAdABUAAwD0/+f/4v/0//r///8FAAsAEgAXAAwAAADz/+L/5P/r//X/EAAcAB8AHAABAPX/2//U/+b/7/8KABQALQApAA4AAADm/93/5f/z//7/CAAQAAoADwANAAwAAADv/+L/4//i//T/AQAJAAoABgABAPj/+P/2//r/AAD7//j/9/8AAAQAEwAbABkADQD3//L/4v/r//f/AAAEAAoAEAATAAkABADy/+//7f/3//r//P/3//r/AgAIABgADQACAAEA9P/y//7/BQAJAAYAAAAAAAEADQANAAsA9P/o/9z/4f/4/wQAEQAPAA4ACQDx/+z/6f/q//H/+f/8//L/AAAOABkAFAAJAAAA7//q//D/7//y//b/CwAZABoAHQAOAAAA6P/e/9v/2v/m//b/FgApABsAEgDq/9z/yP/Q//L/CQAyAEAAMAAhAPX/6f/d/+L/3//p/woAEAAkACAABwDu/9H/0f/i//j/HwAuACMAFADk/9j/3f/y/w4AGwARAAQA7//r//L/9P8DAAwABAABAPv/9P/4//j///8AAAQACQAQAA0AAwD7/+j/4P/x//v/DAAJAP7/+f/y/+//DAAOAB4AGgD+//X/6P/s/w4AHAApAB4A///5//H/+P/5//f/9//1//n/AAAaAB8AEAD8/97/yv/X//L/MQBBAE4AOAAFAO3/2f/d/+v/9P8IABEAAgD+//3/BwAFAAcA8f/c/9L/5/8YACYAIwAcAAUA+f8CAAoAEgAHAPX/6v/f/+T//v8JABMAEAD8/+3/4//n//P//P8BAAUAAQAEAAoAEQAYACEAAwD2/9P/0v/h//L/GAAgACIAGAD5/+n/xf/F/9//7/8KABQAEAABAAIACAASAAoA7f/k/+X/7f8DAAoACAAKAAcAAwD6/+//5f/k//X/AwARAA4A///5//z/BgAUABwADQAAAN7/1v/d/+z/GAAiAB4AGQAHAP7/5P/m/+b/6//4//7/DwATABgAEwAGAPv/6//j//f/AQASAAsA/P/w//n//v8LABMAGgALAPH/3//O/9P/9P8TADgANQALAO//2P/f//X/AgASABMAFQAfABgAGAABAPf/3v/V/+n/+P8VAB4AIAAJAO7/6f/0//r/EAAPAAEA9f/1//j/9/8BAA4ACwAIAAoA9//1//L//v/6/wAAGAAcACIAHAD+/+v/1//Y/wAAEAAvAC4ADAD3/9j/0v/k//X/FwAUAPf/6//y//7/HwAnABgABADg/+b/+/8GACAAHgD///X/7v/5/xEAFgAPAPr/2//T/83/2/8cAC8ANwArAP3/5//c/+L/+f8KABAADQAKAAgAEQAYAA4AAgDc/9P/3//p/xcAJAAlABgA/v/u/+j/8/8BAAoAFgALAPb/8P/5/wAACgAIAAoABAD7//z//P/3/+v/9v8OAB0AHAAhABAA/P/i/9r/3//m/wQADAAMAAkAAQD6//n/+P////f/+f/3//f//f8VABcAAAD7//H/+f///wUA+f/w/97/5f/+/w4AKAAeAP3/6v/K/8P/3//z/xkAIQAqAB0ABwABAPL/7//t//L///8CAAkAFgAQAAwA9f/p/+T/4//6/wYAAwD5/+3/6f/x/wAAFgAQAA4ABgD7//v/AgANABgAFgASAAwA/f/1//f/9v/u/+v/8P/1//7/BAAMAA4ADAALAAIABAD3//P/9//7/xIAFgAWABAA+f/s/9H/1//s//f/EgAhAB4AFAD9//P/7P/s//j/AAAPAA8ALAAxACMAGAD1/97/v//A/+j/BAAsADQAGQAHAN7/3f/0/wsAHwAmABIACwD0//3/CwAXABIABgDm/9v/1P/a//7/DQAVABkACAAAAPn/+v8PABEAAgAEAPX//f8XABcAFQAJAO//6v/u//n/CAANAAUA8//x//b/CgAYACQAJgAbABIA/P/5//r/+P/3//j/AAATADQANAAWAAQA2//N/9X/6P8KABEAIAAgAA4AEAAMAAwACwALAP3/9//4//7/GAAcABQACADx/+v/8v/4/wYAAwDz/+z/8P8IADcARAAtAAoAxP+3/9P/9/8tAD8AHAAOAOn/4f/3/wMACgAEAPT/6P/1/wQAJAAuACcAFwDr/+j/+v8NAB4AGwDx/+D/2f/l/wcAEQAVAA4A9v/s/+j/9v8VACMAMAAsABUADAAOAAwA+P/o/97/3v8OACoAPgA2AA4A7//B/8j/9P8WAEAAPwARAPX/3//n/xoAIQAkABcA7f/l/+7/+/8EAAEAAQD8/wIADwARAA8A+//y/+z/6P8iADkAQgA3ABIA+f/e/93/+v8HAAsADQD+/wAABAAIAAIA+P/w/+7/8P/4/xMAGAAdABUA9//u/wAAFwA1ADcAHgD//9T/xv/Z//H/LwBIADcAJADq/97/3P/o/wQAEAAYAB0AEAAMAP3/8//1//f/+v8CABIAEgAhACMADgD+//f/9f/7/wAACwAKAAYABgAIAPr/6f/q//f/+v8MAA8ACwADAAkACAALAAgAEAAUACMAJwAmABcA+P/s/+H/5f/v//X/AQAHAAoACAAOABgAEQAQAAYABQALABEAGwAYABMADwAHAAQA/P/3//T/+/8IABcAFgASAA4ACAALAAgA/v/5////CQAdACsAKwAoABoADADo/93/5P/p/wgAGgArACAAFgAOAPT/7f/v//n/EQApADEALQAbABMA///w/+n/6P/w//7/IwArACwAKQALAAIA6//s//P//v8TABsAGQAXAA0AFQAWABwAEAARAP//+P/s/+7//v8MABkAGgARAAYA/P/6/wgACwAOAAcABwAJABUAEwAGAAIA9P/q/+X/7f/+/xUAKgAmABoADwABAAIA/v/6/+n/5v/v//3/FwAeABAABgD2//H/9//+/wsADgD4//D/7v/7/xYAKQAyAC4ABwD4/+//8f/8//z/CgARABIAGQAQAAMA4P/c/9//6v8GABUAMwA3ACoAHQD3/+j/6P/v/wIAEgAdAB0AIAAXAAcABAD4/+7/1//Y/+3///8XABoAEwAJAAQABwAZABcAAQD0/+z/9/8gADMAKwAYAOT/0P/L/+P/EQAcACIAGADy/+j/7//3/wgABgAGAP7//P8BABAAEQANAA0A/f/1//j//P8DABQAFAAIAOj/1P/M/9X/AgAbADIALwAhABMA6v/T/8z/0v/y/wwANwA5ADIAIwD4/+b/yv/J/+b/7/8VABsAGwAOAPD/3f/L/8j/3f/0/yAAKQAsAB0AAQD7//3//v8FAAgAAQD6/+z/5//w//n/EgASAAEA8//q/+n/+P/8//T/6f/3/wUAHwApACsAJAAIAPn/8v/1//v/AgAJAAUA8f/w//D///8bABkAAgD1/9T/1v/x/wYALQAwABwAEwD1/+f/8v8BAP//CQAnADMAMwAnAAEA6f/U/9z/8f/6/wQAAwAEAAEABAAJABEADgAHAAAA7v/q/+r/8P8GABUAGgAZAAoABwD4//H/7v/w/wUACgAZABQADwAGAPX/7f/o//D/BQALABwAGwAJAAAA+f/5//z/+P////f/9//+/w4AEAAgACEAFwAFAO3/4f/r//r/FAAXAAcAAQDu/+b/3//k//L/9v8JABQAHwAgABcACADt/+T/2//l/wwAIgAqACUACAD3/+P/4v/x//z/DgARAAgAAADo/+H/4f/w/wIABwANABgAFwAQAO3/4//i/+7/EAAcABgACwDu/+T/8P///wwAFAASAAcA7P/k/+z/9v8IABAAEQAPAAEA+v/5//j/9//8/x8AIwArABYABAD5/+7/4P/p/+z/9v8CAA8AEgD9//3/+v/6/+7/7P/h/9//8v/+/xcAHgAXAA8AAQD4/+//6f/4//f/CgAFAAUABgAEAAYA+v/t/9//2v/7/wYAAwAEAAgAAwACAAUA/P/z/+v/6P/t//v/EAAcABMAEAD4//T/9P/+//7/+v/k/9f/2v/j/wUADgAPAA0AAAD7/+z/5P/q//L/DgATABcACwAAAAAA8f/x/+r/7P/v//T/9v/0/wQACwAbABkA+P/p/9v/4v8BABEAJAAlACAAHAD///b/6v/g/+j/8v/4//n/+f/+//j/+P/3//j/9P/2//r/AAAJABUAGgATAP3/6//X/9v/6//2/wUADAAJAAMA9P/p/+v/6/8FAAkAFQANAAEA+v/z//n/+/8DAAgAAAD9//X/8f/o/+n/5v/2//j/BwALAA8AAQDp/9v/5//0/xIAHwAhABoAAAD//wEAAQD9//X/9P/x//L/+P8HAAYACwAAAP7/9////wMACAAJAP7/9P/4//3/DgAUAB4AEgDz/+T/y//G/+n/AAAWACQADwADAPD/9P/x//H/9f/8/wcAEQAdACEAFgAUAP7/8v/7/wQADwAPAAIA8//d/+r/AwAPABEAEAD8//T/5v/k/+//9v8OABUADQAFAPL/8v/3//7/CwAQABgAGQALAAAA9//3/wMADQALAAgA8v/v/9//3v/e/+3/BAAPACEAHwAOAAcA+v/x////BgASABsABQACAPv/AgAEAA8A/v/2//D/8v8CAAwAEQANAPb/8f/5//3/BAAJAA4ACgAHABEACwADAAgABQD5//v/+f///wcABQAEAAIA+f/0//z//v8CAAQAEAAVAAgAAADr/+j/+P8FAAwACQACAPv/9P/7//H/7v/z//X/DQATABoADQD4/+z/1//d/+r/7/8PABkAIgAaAA0AAADx/+//7P/y/wcADwAIAP//8v/z/wQADAAKAAcA6v/j/9n/3//8/wwAGQAVAAcA+f/j/+P/6f/z/woADwARABgAFwASAAMA9//r/+z/6f/x/wgACgAGAAAA7//p/+7/+/8SABcADQD7/+n/4P/8/wgAHgAaAA4ABwD6//3/BgAHAAMA8v/W/9P/9/8HABYACQDm/9r/3P/3/yQALwAcAAcA5v/h/+z/+v8YAB0ACwAEAPf/8f/4//T/9P/t//H/9v8PABQAEwAGAPP/6P/6/wQAGQAeAP//9P/X/9j/8v8JADIAMAAIAO3/y//Q//D/BAAXABEA+f/4/xIAKAAqABUA3v/B/7f/yP8RADMAPgAwAPX/3v/P/9//FgAfABoAAgDq/+v/BgAPACEAEwDs/+P/6v/5/x4AHgD+/+v/1P/Y//j/EAAmACEACAD7/+r/7/8KABEABQD8/+//8f8FABUAKAAjAAcA7P/G/8z/9v8VAC4AKAAAAO3/5v/q/wIABQD0/+L/3//w/xkAOABCACsA9P/k/9f/5f/8/wcA/v/0//r/BwAfACQAFAAEAO//9P8CABIAGQAdAAYA7//e/93/8f/+/xAACADt/+v//P8MABUAFQAAAPX/8P/7/xQAGQASAA4A7//s/+v/7//+/woAEgARAPf/7f/Y/9z/5//z/wkAEAAdACUAGAARAP3/8//p/+3/+/8DABIAFAD+//X/5//p//T//P/8/wEABgANABgAEgD7/+H/5P/j/xAAIgAlABUA9v/s/+v/+f8mACkAIAAPAOT/3v/o/+7///8EAPb/8/8OABgAGgAVAPf/7v/j/+v/EgAeACkAJgAPAAcA+v/4/wcABgD+//b/8P/u/wUADQAcABgABwD7/+z/4//r//f/HwAnACIAGgAMAAQACAD///P/5f/c/+r/EwArAEAAOgAKAO3/yf/J/+j/BAApAC4AHgASAPD/4P/l//D/AQAQACYAKgAgABEA7P/t//L//v8GABEAHwAkABwADwDl/8//0f/g/wUADgAKAP//8P/z/wAABAD4//v/CAAUABcAGgALAAAA6v/k/+3/+f8YACsAKgAeAO7/1f/J/9T/CwAcACMAHgABAO//5v/t/wEACgATAA8ABwAJAA8ADQD8//f/3//f//b/BAAIAAYA/f///wEADAAcABoAEwAKAPT/6f/h/+X/BgANAAIA9//f/+L/9P8EAAwACQD+//r//f/6//L/7//w//P//v8BABQAGQAgABcACwD6/9X/y//e/+v/FAAmACoAFwDt/9X/xf/P//X/BwAeACUAJQAaAPr/5f/Q/8P/1v/e/wEADQAgACcAHAASAO7/3//K/9H/8/8IABoAIwATAAoA5f/k/+n//v8fACMAGgANAO3/2f/c/+D/4v/q//X/+f/9//r/+f/6/wEABgADAAAABgAKAA8ADADu/+j/8P/3/wsAEgAVAAsA9P/v/+r/5f/m/+b/8P/t//f/9f8DAA4AFQAVABIACwAHAAoADgAGAPX/7f/t//H/+P///wQAAgDw/+j/5//p//n/CgAPAA8ACQAGAAUAAQDs/+r/8v8GACUAMAAgABMA7//p/+X/5v/Y/97/6//3/wIADwAkACsAJgAgAAgA9v/0//j/EgAaACIAHAANAAMA+P/x/+7/8f/q//j/+/8IACYAKAAoABYA+//j/+D/5f8HABYAPgBHAEQANwAEAOv/wv/F/+X/+f8YAC0AJwAhAAUA9f/d/+L/8/8DAB8AHQAMAAkA/f8BAAYA+v/z//D/8v8CACMAKwAaAA4A5v/Y/9n/4/8DAA4AEAAKAPz/9f/2//T/8P/w//z/CQAdAB8AFAAGAOP/1f/P/97/EAAqAEEAPAAXAP7/3//f//P/+//7//P/+f8GABYAGQAYAA8A8//v//P//f8VACQAJQAWAPf/7//t/wEAGgAZAPv/6//b/9z//v8UACcAHwAIAPD/2//d//7/EAAnACoAJAAgABMADAACAPv/5//k/+n/+P8NAAwABQD5//L/9P8FAAsADQAEAPD/6P/v//7/JwAxACQADgDp/9j/5f/y/w4AFQAKAAYA+f/3//j////5/+v/5P/g//H/DQA4AEIAHgACANT/0P/l//3/FwARAAIA8//m//H/CgAPABQACADt/+X/7v/+/xAACgDz/+f/7P/9/yoAKwAfAAsA6//q////CQAZABMAAADx/+D/4f8BAA0AGAARAAEA9v/v//X/FAAXABYACwDx/+n/5P/t/wwAGAARAAUA8f/s//z/AAASAAgA7P/l//j/AAAXAA8A/v/4//P/AAAXACAAGQARAPP/5v/j/+7/BQAAAAEA+v/v/+z/CgASABcAEgAMAPf/6v/j/+D/6f8BAAgAFAAKAAgAAwAJAAcA+//4//r///8MAAoA/P/z/+b/4P/2/wAAGQAeABMABQD0/+3/+v8RACIAHwANAAMA+//+/w4AEwD+//P/6P/0/w8AFwATAAYA4f/T/87/3f8MACcAMAAnABIACAAKAA0ADgAJAPz/AQABAAoAEAAGAPL/6f/b/+L//P8DAAwACwD+//T/9P/8/xcAGAATAAkA5v/r/wAAHgBAADcAHAD+/9H/yf/f/+//AQD//+7/6/8KAA8AGgASAPn/6v/s//j/HwAsACMAFwD4/+v/9f8AAA4AGgAXABIAAwD//wgACQD8//L/3f/f/wYAHQArAB8A8v/h/9n/4v8VACQALQAoAAEA8//j/+r/BQAFAAsAAwD6//z/FwApACAAFgD6/+f/2v/b//n/BAAUABkAEwAUABIAGwATAAgA8f/k//D//f8fACkAFwAJAOr/5P/n/+7/AAAFAAkABwD7//X/9f/9/wkABgD5//f/AAAHABIACwABAP7/CgAVACoAKQARAP7/7//i/+r/8v8CAAYA/v/3//L/9P8GAA4ADgANAP3//P8GABAAHAAZABUADgAQAAsA/P/8//H/7//0//3/AwAGAA4ADQD4/+3/6v/s//7/DAAUAA0AAgD7/wMABQAOABQACAABAPL/9//8/w8AIQAdABIAAwD0/+r/7v/s//L//f8KABIAHAAaABoADwD4//D/4v/t/wYAEgAfACIAFwAPAAQA+f/c/9j/3v/v/xQAIAAaABEA8v/e/9n/5P/1/wAACAAJAA0ACwAeACgAKAAdAPT/2v/I/9D/CAAdACwAIwD//+3/3v/e/+z/8v/6//z/9////wEADQASABEAAwAGAAAABwALAAoADAANAAYA/v/0/+7/4P/b/9H/3v/6/xAAKAAqABUA+f/W/9P/8P8GACQAIwAKAPP/7//p//r/9v/2//f/9v///xcAIAAVABAA8f/h/+b/8f8IABQADgADAP3/DAAmACcAEgD5/8//zf/o//v/HgAjABMACQDs/+z/8v/x//P/7//w//X/CgAaAC0AJgD6/+X/0//c/wUAIQBEAEIAFgD3/9P/1P/x/wUAHQAXAPT/4v/g/+7/DgAXABIACAD0/+//9v///wAAAgD9////BQAJAA8ADAD+//n/5//p//7/EAAlAB8AAQDv//D/8v/1//X//P8DABkAIQAfABsA9P/i/8v/zf/p//b/HAAjABUABQDo/+X/9/8MABMADAD7//j/AAAJABQAFAAVAA0AAgD9//j/+v/4//v/9f/w/+v/9P8DAAwAFgAKAPn/9//v//P/BgAMABUADgAIAAMA/f/2//X/7f/m/+H/3v/n////EQALAAkA9//1/+n/6//y/wUAFQAaABwAGQAWABMAAADz/+L/2f/o//P/DgAUABAACADy//H/6f/k//T/BgAdACsAKAAgAAUA+//1//f//f8CAPf/9P/l/+j/+P8KABgAFADx/+P/1//g/xMAIQArACIACwAHAP7/AwABAAoADwANAAcAAwACAAYACQAGAPH/6//y//3/HAAqACIAGwD0//D/8P8CAB0AJwAiABAA7f/g/+7/9/8SABoACwAEAAgADAADAP3/8//z//j/BQAWABsAGAAbABAABAAEAAgADgAPAA4AAwAHAA4AIAAhABgABQDy//H//P/+/wYACwAcACAAIQAeAA8ABgADAP//+P/6/w4AIQA3AEAAIgAHAOj/4v/w/wYAFAAaACMAHwAbABgACwAHAAsA/f/m/+7/AQAPACMAHQAEAPv/9P/9/yAALQAuACgAFgALAAkAEgAwADEAKgAWAOz/6P/f/+r/9//w/+P/4f/9/wwAIwArAB4AEwABAP//CgAWACgAKgAdAAsA/f/+/wAABQADAO3/3v/d/+P/7P8IAA8AFAAWABgADQADAPn/+/8DABoAJAAvAC8AHwATAO//3//r//L/FQAgABcABgD7//r/7//r/wYADAAhACUAGQANAPz//////wYABQAEABwAJQAXABEA7f/i/+f/8P8YACIAJgAcAAIA/v/g/9f/6////yUAKAApACEAFwAOAA0ABADi/9j/7f/9/x8ANQAxACAA9v/n/+D/7v8VACMAJgAiABQAEgAjACUACgD3/9T/0//q//z/HgAsABsAEADw/+7/+P8AAA0AEwACAPz/BAARACMAKwAWAAIA8v/3//f//P/4//P/8P/7/w8AEgAIAAIA9v/r//L/AAAZACMAKgAdAPD/5v/e/+v/CwAaAB4AHAAHAPz/8f/v////BwATABEACwAEAA4ADgD5/+n/0f/Z/wMAFgAxACkA///m/97/6f8RACAAJQAeAAUA9//k//H/DQAZACcAIwACAPj/9v/u/+3/4//p/+v/CQAcADUAOgAeAAIA2//M/+P/+f8tADoAMQAgAPj/6//r/+j/8P/y//3/CQAaAB8AFwADAOH/1P/Y/+b/FQAmADUAKQD9/+//7//6/xwAHgARAPz/6P/t//7/BgD+/+//6f/q//L//P8aABkACgAFAPv//P/+/wEA///2/+f/6v8OAB0AIgAfAAQA+f/f/9n/6v/z/wQADQATAAwA+//1//f/+f/6//z/DAAYABsAIQAXAAEA3f/c/+v/9f8QABQAFAAKAPb/7P/q//L/AgAPAAYABAD0//z/AQAKAAcAAgAKAAgADgAPAA8ACwAAAPv//v/8//r/+f/t/+n/9f8DAB4AIQAPAAsA9f/7/w0AFgAVAAwA8v/u//r/+P8AAP7/BgABAAcABAADAAQA/f8DAAgA///+//3/BgAEAAgAAgAAAP///P///woADQAMAAwAAwD8//L/9P8JAAwADAAIAAQACgAVABEA+P/x/+r/7P8CAA0AFQAQAPH/5P/p//T/FgAWABAA/f/l/+T/BQAWACkAJAD7/+//6//0/xMAFAALAAUA9P/2//v/BAAHAAcA8P/i/9r/5f8GAB4ANQAxAAwA+v/b/9v/6//8/xsAIQAWAA4A+//1//P/8//l/97/4P/t/xAAHAAYAAwA5v/c/+D/8f8UACEAIQAZAAUA+v/x//H/9//0//b/9v/9//7/BAD9//X/6v/q//H/9//9//j/8P/w//b/CwAWABUAEQD2//X/8f/3/wYADwAPAAsA7v/u/+X/6P/x/+v/3v/h/+r/8f8OABkAIQAUAOz/1//W/+H/FgAsAC0AEwDl/9L/0f/f/woAGgAQAAUA6P/m/+r/9f/8//T/6f/l//P/CwAkACwAEQABANL/0v/n//f/HAAeAAgA9v/f/+D/+v8EABAADwD2/+//4f/o////CwAOAA4ABAD3/+3/7//s/+//+v/8/wMAAwALAA0A/f/p/8z/zP/n//r/IAAkAB4AEgDz/+//6v/g/+7/7/8BAAEACAAJAAYABAADAPv/8//3/wEAAwANAAsADwAMAPX/7//i/+//6v/t//n///8OAA4AAgD5//D/7f/6//v/CQAEAAUABgAMABAAAgAEAAUAAwABAPf/8v/p//L//f8IAAkA9P/k/9L/3v/y/wYAMwAvABUABQDq/+3//v8LAAwAAQDn/+P/8//4/wcACgD1/+f/3v/e//H///8MAAsADgAJAPr/AgAaAB4AHgAPAO7/6//v//r/HAAfAAMA7//S/8T/0//d//j//v8JAA4AEwAYABUAEgD8/+//5v/r////EQAnAB8A/v/s/9f/z//a/+T/+P/5/wAAAgADAAgA///6//D/9f8BAP7/BwADAPr/+v/4/wIACAAHAAEA/P/4////+f/2/wMAAwD6//T/7//x/wIABAAKAAMA9//u//X/8//9/wYADQAKAPv//f/6//z/AwAFAPL/7//r//T/AwALABMACQD6//D/5v/i//D/7//u//P/CwAUABMADwD3/+v/2v/f//j/CAAQABYAAgD3/+z/6//o/+3/7f/u//j///8GAA0ADwANAOz/4//s//P//P/3//X/7//q/+3///8HAAUA/v/p/93/0v/X//P///8PAA0AAAD4/+v/6//x//T/9f/z/wAACQAPAAoA+f/s/9n/0v/g/+n/9v/+/wEA/P/0//j/AwAHAAIA9//e/9f/4P/u/xYAIQARAAUA3f/W/+X/8f8EAAcA+P/t//P/+f8FAA0A/v/r/8n/zf/o//v/CwAJAP3//P/0//v/DAARAAAA7v/V/9D/7v8FAB4AGwAEAPX/2f/Y/9//4v/t//D/+v///wsAFgAIAAQA7f/r/+3/8f8DAA0AEAAEAOX/2//i//L/FwAdAAUA5v/G/8T/3P/2/w4AFgAMAAIA8f/t//L/8v/6//j/9f/6/xIAGwAXAAQA7v/d/9X/1//2/wkAGAAQAPD/5//k//D/EwAVAAYA7//b/+H/7f/8/xMAGAAHAP3/+v/8//j/9f/z//L/6P/o//n///8KAPv/6v/d/9//5/8SACsALwAoAPP/3P/P/9X/AQAOABMABgDm/+L/3f/p//7/AAACAPv/+/8AABIAEAD2/+X/0v/T//v/EAAxAC0ADwD7/+D/2f/k/+7//f8CAP////8AAAYABQAAAOj/5P/q//X/DwAWACAAGgABAPj/5//j/+3/8/8AAP///P/+/wsADAAZABAA8//p/9z/4P/9/wYABAAMABEAEgAGAAMA8P/u/93/4//3/wQAFwAYAAgA+P/l/+T/9////wcACgD8/wEACAANAA4ADQD8/+v/3f/e//f/AAAUAA4AAgD0/9//5v/x//r/BQAGAPr/9P/+/wMAFAARAA4A/v/r/+7/AQAHAP7/+//w/+n/7v/6/wUA/v/y//H/9P/3/wUACQD+//z/9v/+/wAACAALAPz/5v/d/+H/6v8RABIA/f/t/9r/2f/g//P/DwASAAcA///q//H/CQAaACIAFAD2/+X/1//c/+7/+v/3//b/5v/u//z/AgD6//r/6f/v//T/AgASABMACQAAAPr/+P/+/wQADwAGAPz/+P/1////AQAKAP3/+f/u/+r/7v/0//H/8//4//z/DAAUABEAEAADAPT/5P/l//T/AgASAA8AEAANAA4ADAD9//L/4//W/+D/7v8OABUAEwAJAPL/6v/y//7/DAATAAUA/f/0//b/DQAcABgADgDi/9H/yf/Q/wIAEgAYABUAAwD5//T/9v/x/+z/6P/j/wAAFAAtADAAHQAGANr/x//S/9r/+P////n/9v/5//X/EgAPAAUA9f/i/9z/8f8EACUAHwAOAP7/6//u//P/+f8AAP//9P/y//T/CwAhACEADAD7/9//2//t//P//f8BAOj/6f/5/wcAFwAbAAoA///z//r//P8AAAcACQAFAAUABwAJAAwABQD1/+j/0v/W/+f/+P8aABoAAADu/+X/7P8CAA0AFAAJAPX/9/8SACUAMAAlAPj/5P+7/8H/6/8BACEALAATAP//4f/Z/+r/9P8FAAoAAgABAP7/AwAPABIADAAEAAEABwAPABQA/v/y/97/7/8LABcAHAASAO3/3v/W/97/+f8IABUAEgAXABkAEgADAOz/4//d/+f//f8UADMANwAWAPn/x/+//9n/+P8eABwABADx/+L/6f8MABcAHwARAPb/7//n/+3///8BAAsABwD4//P/8//3//v/9v/g/9n/4f/z/xQAJwAiABIA3//X/+L/+P8XAB0A9v/m/+L/8P8fAC8AHwAOAM3/uv+3/8z//f8RACUAJgAaABQA9P/p/9z/0v/V/9//EQAnADoANAADAO3/3P/i/+z/9v/3//f//f8HAB4AIQAeAAwA5f/N/77/zv/5/xMALgAtAAkA7v/c/9v/5//n/+b/5f/s//f/FQAhACUAHQDx/9v/0v/Y/wgAGQAZAAgA7f/r//T/AQAJAAsA8v/p/9//6v/+/woAEAAGAPr/9v/2//f/AwAAAOb/4P/1/wcAJwAuAB4ABgDj/9T/1v/i//r/BwAUAA4AEgAMAPT/6v/e/+L/9v8FABsAGwAIAPn/5P/o/wIAFgAoACYAAQDz/9H/1P/7/xEAKgAsABAA+//c/+P/8//9////9//1//v/JwAxACcAEgDX/8P/0v/k/xsALAAqACIABQD7//L/9P/8////9//y//X//v8XABwAEwABAPL/7v/t//v/CAAEAAoADQASABkADAAFAPD/7v/z//j/+P/8/wAAAwARABUAGwAYAPn/5P/T/9v/AAAdADsAPQAaAP//0f/O/+H/+f8YACAAFQALAPP/9f8IABcAEgAEAOX/4//s/wAAGwAfAAQA8P/X/97//f8bADQALgABAOf/0f/U/wQAIQA/ADoACwDy/9b/1f/j/+v/9//4//j/+P8HAAoA/f/7/+//7//4/wIAFwAcABMACgAEAA4ADgANAAcA///f/97/4P/j/+z/+f8OABcAHwAdAAMA8v/O/8X/2P/t/x0AMwA5ACsA+P/i/9L/2P/q//r/AwADAAQABgASABAACwD7/9j/xf/D/9r/FAAnAC4AHgD8/+//8v/6/wIA/v/i/87/0f/h/xIAJQA0ACYA8P/X/8X/0f8BABQAJAAmABoAEQAMAAsA8//k/9T/1f/f/+v/CAAPABYAEgAGAPr/4v/g/+v/7/8CAAEABwAKABUAGwAeAAwA7v/h/+L/5v/z/wAADAANAP///f/v//D/8f/z//f/+v8CAAoAFwASAAYABAD8/////v8DAAcA/f/8//z//f8CABoAHAAdABoA+f/w/+v/9P/7/wkAAwD6/+n/8P8JABwAJAAiAAQA7P/f/+r/CQAWACkAIQANAPz//v8EAAkACwD//+7/3//l//7/DAAnACQACQDy/8v/zv/u/wkAMwAsABkADwD+/wMAEQASAAgA///q/+b/2v/h//7/BwAUAA4ACAACAPb/+v/t/+3/6f/2/xUAIgApAB4A8v/g/9H/3P/q//b/DwAPAAsABQAFAAIA+f/z/+H/3//2/wQAEgAcAAMA8//b/+X/+P///wcABAD5//P//P/9/woAAwD+//T/5v/n//z/CwATAA0A+P/t//X//v8PABcAEgAFAPT/7f/q//D/EwAWAA4A///i/9z/8P///x4AHwAHAPn/9v/s//D/8P/8/wAA//8FAPv/9f/2/wYACgAMAAMA/f/7//7/CAAOAA4ABAAHAAEA+//+/xEAEgAYAA8A8//r/+H/7v8NABoAIQAaAPv/4//Z/+b/CAAhADIAJAD8/+z/4v/j//n/BgASABEADQACAPX/9f8AAAYAAwADAPr/AgARABIA/v/v/9j/0//4/wgALwAzACIACQDo/93/3//r/wgAEQARAA4A8f/z//T//P/0//T/8f/t//n/BgAaAB0AEwAOAPb/6//m/+r/AQAIAAUABgAGAAoADAAJAPn/9v/k/9//7f/4/wYAFQAbABUA9P/s/+f/8f8EAAMA///1//v////+/////f8AABQAFwAGAPv/5v/j//H//f8JAA0A///w/+j/6v8BAAwAGwAcAAIA+f/0//b/CwATABQAFAD8//T/6f/j/+f/8P8IABAAFwASAAkAAQD///b/5f/n/wEABgAaACAAHgAQAAgA/P/k/9z/3P/k////CQAWAAsA8//u//z/AwAfACMAGQAJAOz/3v/g/+//IAAuAB0ABwDd/87/wf/O/+3//P8VABoAKQAiABEAAQDZ/8j/wP/N/w8ALwBLAEQADADs/8P/xf/l//P/8//y/+b/6v/w//r/CgAKAAAA+P/k/+n/9v8DAAoADQD9/wUADAAOAAcA/f/e/8//0f/c/wMAGQAuACkACgDv/8X/t//J/+H/AwAPAB4AGwAZABEA8v/v/+z/9f/9/wIAAQAAAPP/8P/x/+7//v8EAA8ACgD4/+z/3//n/wcAFQAaABEA+f/u/+v/9f8AAAYAAwABAAEAAQALAAoAAgDz/+H/4P/u//j/CQAVAAoABAABAPT/4//Z/+z/AAAZABoAAwDy/+n/7f/+/wgAFAAWAAYAAAD3/+r/5v/o//r///8HAAcAAAD8//X/8P/k/+D/7v/9/yIALAAuABoA9P/h/9P/3v/4/xcAKwAuABwAEADu/+D/2//d/+X/6f/8/wYAEwAQABAAAgDx/+D/5f/x/xIAIwAfABUA+P/t/+//+P8OAAsA///3//n//f8AAAAAAwAAAAAA/P/4//f/9v/9/////P//////DgATABwAGwD6/+7/1f/U/+b/9f8RABsAHgAYAAYA///1//f/8//2//n/+//+/wEAAgD9//H/9P8AAA4AHgAhABwADAD4//P/7v/1/xQAHAAgABgA9//p/+r/7P8GAAsAGwAZAAgA/P/y//T/9P/x//f/+P8KABMAIAAiABEACAD2//r/CQAHAP//+//k/+P/6P/7/xUAHgArABoA8v/Z/9L/3v8MAB4AMAApAAEA+f/x//r/+P/7//f/+v8TABYAFAANAPX/5//h/+T/6//2/wIADgANAAkA///6/wMACAALAAkA9f/v//D/7//6//7//f/v/+T/4f/4/wkAFwARAO3/3P/U/+L/HAAyADAAIwD8/+b/2P/U/+H/5P/3/wgAFQAIAPr/6//R/83/0//j/w0AIAA5ADEACADx/9r/2P/g/+7/8//6/wQADQAIAP3/6f/m/9v/4P/z//b/AwAEAPP/9//t//P/CgATABIADADp/9//yv/T//T/DAA0ADEABQDx/8f/yP/i//j/DwAOAA0ADwAZABkAAwDs/8T/vv/X//X/FwAiABoAFAD3/+//6//z//X/+f/w/+v/9v///xgAHQAKAP7/2f/V/+L/6/8EAAgA+P/v/+P/6P/5/wgAGAALAPP/6f/z/wQAHgAkABQACgDl/9//6v/1//7/BADy/+j/6//1/wUABwAHAAUA/P/6/wsAGgAZABUA8v/n//H/CgAoADMAFQD8/9r/1v/i//T/CgAQAAUA+//y//X/EwAcACUAFgD2/+3/8P/8/xIAEQD5/+j/2f/b//r/EgAjABIA5v/Q/8z/4v8cADMAOwAqAO3/2f/O/9X/9P8EABAAEQATABMAEgAQAPT/4f+9/7L/0P/j/x8AMQA3ACMA+//p/+T/5v/p/+v//v8DAB4AHwAUAAEA6P/d/9j/4v/1/wAADAASAAEA/P/z//D/9v/z//f/+f8BAAoAFAANAAgA/f/9/wIADAANAP3/7f/d/9T/5v/9/x0AJwAUAAoA5v/i/+//AAAUABkABgAAAPP/8P/0//H/9//1//j/7//6////DAALAAoA+v/1//T/AQAIAAwADgAPAAkA/v/7//X/8//3//v/+P/4//7/+P/8/wAA+v/7//z//P8AAAYAEQASAAwADwACAPz/7P/m/+7/7f/0/wAABwAFAAcA/f/v/+j/+/8AAAsABgAKAAQADwAQABQACADo/9z/2//l/woAHAAhABEA+//v/9b/2v/+/w4AJQAlAA4A///l/93/4P/j//n/BAAQABMADwAJAAYA+//p/+T/4//2/xUAJAAhABwA8P/g/9r/4P8HABQAIAASAPn/7f/s/+v///8NABAAAQDi/9z/3//o//r/EAArACwAJAAVAOv/3v/W/93/+P8FABUAFQAYABgADQAEAPD/5P/S/9r/9v8EABwAIwASAAkA8v/t//b/AQAFAAUABQAKAA8AEgAJAAYA+//3//b/9f/x//P/+P///wsACQABAPr/+//8/w0ACwD3/+//7v/x/wsAGgArAC0ADgD9/9r/3P/o//z/EwAQAAwABQDw/+3/7//1/wcAEQAEAPn/6v/t/wcAFAAZABMA+f/x//D/+/8OABAADQAHAPT/+f/6/wcAEAAMAP7/9//l/+7/EQAnADYALAAOAAAA7v/s//7/BgAQABYAHAAPAPX/7v/j/+b//f8LABwAHAABAPr/4//l/wEAFQAkABoACAD4/+v/8v8UABQADgAFAO//5f/q//n/DwAUAAgA+f/r/+7/BwAiADEAJwD+//H/2//o//3/BAAUAAkA6v/h//b/BwAiADAAHwAGANX/0f/9/xIANQAyAAMA6P/a/97/BAATABwAEwACAPf/7f/0/wYACwALAP///////wkADQALAP7/6v/u//j/CgAaABsAAwDx/9n/2//t//3/HgAjABsACADt/+H/5P/n//L//v8aABoAEwABAOv/6v/u//X/AwAMAA8ACwD8//P/6f/0/xAAHAAVAAYA6f/d/+j/8v8OABEAAAD1//H/9f/9/wIA/f/1/+H/4/8BABsANQAxABQA8//H/8X/7/8DACwAMQAMAPf/0P/O/+T/+P8TAAsA+f/q/+v/9P8TABkADwAGAPn/8v/1////BgAFAP//AwD3//X/7//3/wwACwD5/+7/6f/z/wYACwAHAAIA/v///wwAEwAGAAMA/v/9/wQABQD8/+//6f/w////CAARAAkA7f/n/+X/9f8bACQAIAAZAA0ACAAJAAcA+v/1/+//8P/2//3/CgAMAA8A///n/9//2f/w/yEANwAxACMA9f/n//H///8JAA0ADQALAAAA+//2//L/9v/6//r/9//v//j/CgAWABEABwD9/wIAFQAfACIAHgAFAPf/4v/j//v/CQATABoAEQD+/+z/5//z/wAAEQAYAB4AFwAJAAMA+v/5/wQAEQATABMAEAATABAAAwD0//X/+/8GAAoAFQABAPj//f8BABIAFwAPAA4AEgAPABcAFgAUABEABAAHABUAEAAZABkACAD7/+H/5v/3/wAAEgAaAAoACAAPABIADQAKAAAAAwD9/wYACQATABwAHQAeABcABgACAPL/6//v//b/CQAgACgAIgAOAP3/4P/f/+T/7P/6/wIAGgAjACEAHgACAPf/7//z//L//f8RACMAJwAhABUABgD+//7/BQAGAPf/9v/5/wIADQAeABoADQD4//f/8P/w/w0AGwAcABkA///z//n/CgAaACUAGAAOAPn/9//5//v/AAAFAAoABgAHABQAHwAdAP//6v/G/8f/+P8XAEUASQAlAA0A7f/l/+z/8f8GAA0ADAAKAAMACAAFAAEA9v/p/+r/8v8SABYAEwALAAsAEQAYABkAEQACAO7/6f/r//L/DwAYABAABQDp/9n/0v/Y//X/AgAaACEAGwAZAAUA8//n/+j/9/8AAAoAEAALAAgABAD4/9r/0v/e//T/HgAiAAoA/P/i/9r/5v/z////BgAJAAMABwADAP3//f/+//j/+f8AAAoADAD0/+v/3v/n/wYACwAIAP3/7f/p/+v/7//4//v/+//8//X/9v/y//z/AQAEAAUABgD8//3/9v/4//z//v8HAAsACwADAO7/8P/4//b/CgANABEAEwABAPn/7f/r//P/+f/8//P/7P/0/wAACgAVABYAEQAOAAUABQD3//D/+/8OACMAKQAPAAAA5P/i/+n/7////wIACgAMAA0AEwAVABUACQD1/9v/4P/9/xUANAAvABkAAQDn/+v/+P8CAAoABgD+/+z/8//8/xEAGAATAAgA7f/j/+f/8v8OABQACQAIAAkAEgAcABgAAwD2/9z/3f/v/wUAIgAzACEAEQDs/+T/8////wMAAgD//wUAEAASAA0ABAD8//f///8FAAcADwAXAB0AGwAcAAQA/v/6//f//f/5//b/+P/6//j/+f8AAAMA+P/2//f/BwAOABIADwD+//3/BAAQABkAGQAKAP3/6P/u/wIADwAHAAQA5f/X/9T/4P8NABwAIAAQAOv/7/8EABkAIwAmAAcA+f/4//r/BgALAAUAAwDy//P/9v/9/w8AEwASAPv/2f/R/9//9/8tADQAHwARAPf/+f/5////CQAFAAYA//8AAP7/AAD7/+7/4f/Y/+T/AQARACQAJAABAPr/8v/u//r/BgASABUABgD3/97/4v/t//b/AwAEAAoAAwD///r/6f/j/+H/6f8FABEAJwAxABwADwDr/+n/7P/z/wUADgAMAAYA//////3/AQD2//H/7f/u/wcAEAAQAA4ABgD9//f///8EAAkA/v/6/+b/6f8AAAsAIQAjAAUA9P/R/8v/5v/0/xEAEAABAPX/5v/v/xEAIgAsACAABQD7//j///8BAPj/9P/w/wMADwAXABYA+//s/9P/0//d/+v/EAAhAB0ADgDs/9//3//r/wIADAANABEADAAIAAwADgACAPz/6//t//D//v8UAB4ADwAFAPH/5v/h/+v/AgAKAAoADQADAP3/AgANABEAEQAHAPf/7f/z//v/AAALAAgABQACAPf/8f/l//D/BwAQABQAFgAMAAgAAQD6//3/AAAGAAUABwAKAAkABgAGAAYAAQACAPn/8//s//D/AQARACAAHQAMAPz/9f8AABUAIAAZAAgA3P/T/+j/AAAkACIAEgAEAOr/5f/w//n/GQAfABoAEQD0/+7/AAAPAA4AAwDl/9//8v8QADsAQgAtABMA4v/Q/9T/4/8EABoALAAjAAkAAAD3/wYAFQARAPn/4v/U/9z/CAAgACkAGwDn/9H/2v/p/xUAIgAvACMAEgAFAPv//f8CAAUAAwAHAAMAAAADAAcACQAUABUAEQD4//T/8v/z/+z/7//0//3/BgAUACIAIwAmABwABwAAAPH/8f/z//r/EwARAAgACAD3//L/+v/5//P/7//w/+//+v8HABMAGQAQAAsA+//u/+b/7f8AAAkAIQAkAAwA/v/t/+3/8v/y/+r/6v/u//r/IwAvAC4AHADz/97/1//b//n/DAAYABMA/v/v/9r/4/8BABEAIQAZAP7/6f/X/+D/CAAcADEAJQAIAPr/8P/z/w8AFQAXAAwA+P/w//j/9//+//v/1v/O/9//8f8eADkAPAAlAO3/2v/Y/+n/EQAiACEAGwARAAcA9//r//P/9/8IAA4ACgAGAPv/+f/u/+v/9P/5/woAGQAfABsACAD+//v/+/8LABQAEAAMAPj/9P/p/+n/6//x//n/DAAeACAAHAAMAO7/7P/y/wIAHQAeABIABwD1//H/+v8EAAwACwACAPP/1v/W//D/AQAYABUAAgD6/wMADQArACcAAwDt/+b/7v8JAB4AFQAIAOf/4//q//n/EgAZACIAGgD7//L/6//w/wIADgAPAAMA9f/6/wkADQAJAAUA/f/7/wgADwALAP7/4v/g//H/AwAdACAAIQAWAP7//P/6//3/9v/1//D/9f/8/w0AGAAbAAIA8P/a/+D/AQAeAEkAQQAcAAcA6v/q/wMABgD///L/4f/r/xwAMABEADMA/f/e/8P/yv8BABgAMwAzABMAAgD7/wQAGAAfAAQA8//X/9D/+P8KACcAIQADAO//3//s/woAFgAVAAgA9f/w/woAGgAeABEA7P/f/+H/9/8gACwAKwAaAPv/7//2//7/BwAFAAQABgAKAA4ADgAQAP3/+f/8/wcAJAAsAB4AEADi/9X/zv/X//7/EwAgABwAGAAPAA4ACgAKAP3/5//t//n/CwAjACsAGgANAOj/5//r//v/DwAcAA8ACAD9/wIADQAVABEA/f/a/93/+/8aAEkATgArAA8A6P/Y/9f/3v/0//n/CwANABQAFwAeABYA/f/v//D/8/8IABIADAAFAPj/8//1//n/CwAHAPz//P/8/wEACgAQABIABQD5/+//6v/1/wsADQAEAP3/CAAaACcALAAUAAMA7P/o/+3/9f8EAAgAAQD+/wEABAATABMABQD0/9H/0P/u/wYAJQAtACEAEQD1//D/8f/z//z/BgASABsAJAAXAAIA7f/A/7z/zv/r/y0ANgAgAAoA4//a/+j//P8KAA8ADAAEAAAAAQD9//z//v/7//z////7//3/AAD7/+X/5f/x/wUAFgARAAIA//8HAAwAIwAjAAoA/v/s/+X/7//w//z//f/9//r/9v/2//3///8DAAQA/P8AAAwAEgAUAAUA8f/r//D/+P8QAB0AHwAWAPf/4v/p//X/GAAUAAAA7f/h//L/FwAlACQAFwD7//r/AgACAP3/7v/U/9X/4v/0/xkAKgAxACEA5f/V/9r/9P8dACoAIgAQAPH/7P/z//n/AwD//+3/5f/r//r/JgA4AEQALgD1/9j/vf/E/+z/AgAXAB0AHgAaAA4ABQDz//D/4f/m//P/BgAkACgAJAAOAN7/2//u/wAAIgAcAAwACQAFAAQADAAHAPT/7v/o/+n/7v/3//3/AwAHAAcAFgAeABYACQDW/8b/2P/v/ycAMQAmAA8A8//m/9z/3//s//X/AgAKAAsAEQANAAQA8//n/9T/1f8DABYALQAtABQAAQDw/+z/9f8GAAwACQD///3/4//n//r/BQAIAP//3//c/+P/7v8CAAEABgAAAAUACwATABgAFgASAAEA9v/z/+//9//1//7/9//3//z/AQD//+X/1//W/93/BQAUAB4AHwAVABQACwAFAPz/9f/v/+7/5v/n/+3/+v8EAAMA7f/o/9X/z//f/+7/BgAQABwAFgAGAPn//f8CAAAA9f/s/+P/7//8/x4AHQAFAPH/2f/V/+b/8P/9/wAA9P/0//H/+/8QABcACQD//+z/6P/4/wYABAACAPD/5v/4/wAACAAIAPf/6//v/+///v8FACAAIAALAPP/0f/Q/+L/+f8MABcADgAKAPb/7v/u/+7/8//1/wAA/f8AAPr/9f/z//D/9v8NAB0AJQAfAPj/4P/R/9v/+v8KAAEA+v/2//b/+//z/+f/5f/k/+v/+f/7/xwAHgAQAP7/1P/G/9f/7f8TABMACADz/9j/1v/p/+7/9v/0//P/6v/d/+L/AgAWACUAKAAIAPn/4v/g/+P/5v/w/+//9P/0/+3/7f/z//T/8f/m/+j/6f/1//H/+//3//z//P8TABQA+v/o/9L/1P/e//H/EgASAA4AAgD0/+X/z//Q/9v/6v/3//7//v8EAAAA+P/r/+3/7v/3/wMABQDx/+f/7v/1/wsAGAAfABcA5//O/7z/wf/g//D/GQAeABgADgD2/+j/2//V/+r//v8XABcACgABAPn/8P/j/97/0P/Y/wQACAAbAA4A7v/l/+r/+v8PABMABQD9/9v/1v/b/+f/AwANACQAGAD0/+j/3v/e//X/8v/6/wEA+P/9/+7/6v/x//T//P/2//P/9v/+//b/8//p/9n/2v/u////HAAVAAYA9//b/9D/3v/r/wsAEwARAAcA3//W/9r/5//3//3/DAAMAAYA+//t/+n/8v/x//H/8//6///////+//j/8P/q/+3/+//2//7//P8EAAQABgD+/+D/1//a/+H/9v/8/wYACwAHAAUA9f/w//j//v8CAAIA9//7/wAACQAJAAgA/f/y/+f/5P/n/+b/8f/5/wkADgAHAPz/+v/2/+b/4v/X/9///P8KABUAEAAEAPr/7//x/+X/4v/y//z/BgALAAsAAgD3/+v/3v/c/+3/+f8PABkABgD0/+D/5v/4/wsAFgAOAPf/6P/T/9T/4//v/wQAEAATABUABAD5/97/2v/a/+T/AgAOABkAEwACAPj/8f/w/+r/5f/s//P/AwAIABEADgANAAQA7f/b/8//1P/2/wsAHgAbAO//3v/g/+r/BAAPAAIA9P/d/9P/7P/0/xEAGwAYAAgA5v/a/9b/2f/q//H/+f/5/////v/2//n/+P/0//H/6//p/+7/+P8DAA0AFAANAAkAAAD1/+X/3P/g/+n/7//y////BAALAAUA+//s/9j/2f/j/+3//v8GAA0AEQATAA4A/P/q/+b/5//u//D//f8DAAYABAD///z/6//p/+b/5//g/+j/7f/y//z/+f8DAAIABQACAP7/8//j/+v///8EAAkACAD///b/6v/n/9z/4v/k/+r/8//1//j/+/8MAAkABgACAP3//f/9//3/8v/r/+7/9P8EAAEA5v/e/9r/4v/v//j/9P/v/+3/8f8DAAsAFgAWAAcA+v/q/+3/AgABAPv/8v/p/+7/8P/5/wEAAADs/+j/7f/v/wIAEAAnABoA/P/j/8z/1f8DABkAKQAUAOr/1v/S/9///v8SABcAFAD0/+7/7v/1/wgAEAACAP3/6//t/wMABQABAPf//f/3/wUADgARAA0A9f/u/+P/4v/v//n/GAAiAB8AGAD///P/2v/N/9H/3/8CABgAMQAoAP7/7f/h/+X/+v8DAAwABQD0//r/BAAJABEACQD3/+//4//p/w0AFgAaAA8A7f/m//3/DAAMAAgA5f/X/9//8/8ZACAAIwATAPL/5f/p//z/FAAcAA4A+//c/9z/7//7/xMADwADAPj/6P/p//T/7//q/+r/9/8EAB8AIwAUAAYA6f/c/+z/BgAYABMABgAAAPL/+/8NAA8A+P/1/+r/7//7/xAAHgAZAPf/6P/Y/9j/+P8OABoAFgD8//D/7//9/xcAGAATAAcA+P/z/wIACwAHAP3/8f/h/93/6/8RACAAFgAGAOX/5P/y/wYAEgASAPb/9P/2//7/DwAaABIABQDr/9z/4v/w/xYAHAARAP7/0//Q/+z/AAAoACQAGAATAPX/8//s/+n/7//v//f/+f8BAAUABAAAAPL/6P/w//b/CAAMAAcAAgD8//z/+f/7/+7/4f/n//b/EwAdABcADQD0/+b/4P/m//T/+P/v/+z/5P/s/wAADQAcABsADAAIAPf/8P/3//j/DQAOABMADQD0//H/9/8DAAwADAADAPb/6P/v//7/DAAMAAoA///8//H/+/8GAAQA/f/1//z/CQAcACEAEwADAOn/3P/k/+3/+v8HACEAHQAeABIA4v/V/9b/3/8AAA0AEgANAAcACAAKABIAGAANAPH/6f/p/+7/FAAZABYABwDm/9n/2//n/wAABgABAPn/+//8/woAFAAZABUA/P/3/+v/6P/w//v/CwAUACAAHQAQAAIA6//k/+T/6v/x//T/AAAOACMAKwAmABgA8//r/+f/7f/6//r/AwD+/wgADgAFAP3/9v/5//L/8v/2//X/9v/z/wQADAAfACEADQD7/9z/2P/6/w0AJAAkAAcA+v/6//X/+//4/+3/7P/o/+z/BgAVACMAIwAKAP//6v/z//X//P/6/wAA+P/+/wgADwAPABMAGQAUAAYAAgDt/+///v8KABkAHQANAAMA6//p/+H/5v/p//f/FgAYAA8ABgD9//z/+/8CAAYABAABAAIADAAbACYAJAD+/+z/3P/j//P//v/4/+L/2f/i/w8AJQBBADoABQDm/8b/0P8KACwATgBNAB4ABwDm/+H/9v/4//z/9v/k/+v/GQArACsAHADZ/8H/vv/T/xAALgBCADgACQD1/9//4f/v/wAABgAGAO7/6v/y//7/CQASAA4AAwDv/+3/9v/5//z//f8CAAIAFAAXAAMA8f/R/9L/6/8AABsAGQAGAPT/8v/8/wAA/v/1/+b/7v/0/xoAKgAoAB4A8f/f/9D/1//9/w0ADAD8/9r/2v/7/wwAHAARAPb/4v/c/+b/FQAqADIAHwDy/9b/3f/r/xAAEwAIAPn/5v/e/+v//P8GAAEA5P/a/9r/3f///w0AKAAgAAwA/v/0//T/DQANAAMA+P/d/+P/9/8FAAQAAQDp/+H/3P/l/wcAEQAFAAMA9P/2//v/BAAMABAAEgARAPv/9//y//f/9P/4/+v/7v/w//z/BwAGAOr/5//o//D/CAAMAAYA/v/+//3/EAAQAAkA/f/v/+z/7v/2/wkADgAHAP3/5v/o/+r/+P////z/7f/l//f///8jADAAJgALAOX/3P/t//7/IgAlABYAAwDy//L/AwAJAPf/5f/Z/+b//P8NABEACADz/+3/6P/m//7/CgAeABgAFQARAAMA+f/w//P/9v/2/wwACgASAA0A7//f/9L/5P/8/w0ACQAFAPX/6v/s//T/CQATABcACgD+////AAD9//7/+f/+////DwATAAMA///t/+X/9P/4/wgAEAAfABwADAACAOX/3P/p//j/AgAKABQAFwAIAAMA7P/m//n/BwAaAB4ABAD7//T/+P8BAAYABQADAO7/8f/6//3/BQAMAAgABQD2//D/8v/4//3/+v/y/wAADwAcABIADwDq/+P/1f/d/wMAFgAzACkABADs/9//3f/v/wAAAwD7//b/AQAOABYAAQDt/8r/yP/u/wMALAAwACkAEwDh/9X/x//X/wAADwAPAA0ABAAHAP3/9f/w/+3/9P/2/w0ADAALAAEA9f/z//X/9P/q/+T/3//f//j/EAAhABwA+P/o/8v/1f/v/wcAJAAfABAABgD1//j/DAAUAA0ABgDw/+T/2f/q/wUAEAAZABIA5v/X/8//3v/8/wsAFgAUABQAEgD+//z/8v/0/+v/7//8/wAAEAARAA0AAgADAAAA6f/f/9j/5P/8/wgADgAJAO//7P/m/+v/+//7//r/8v/j/97/9P/8/xIAFwAEAPT/4f/d/+7/+/8UABIAEgAOABAACwACAPL/1//K/9T/4/8GAB4AJwAdAPH/3v/Q/9f/9/8KACEAHgAUAAgA9P/3//r//f/8/wEA8P/q//P/9/8IAAEA8//s/+j/8v8HAA8AFQASAAcAAQD5////CwAOAA0ACgD2/+3/7//4/xUAHgAMAP//6//j/+H/7f8FABEAFgAQAPz/8P/s//L/BwAYABMACwDt//L/9//8//b/9P/t/+7/8P/9/wkADAD9//f/7P/x//j/BQASABQADwAHAPz/AgD4//v/7v/0//3/BgALAAoAAwD5/+z/4//k/+L/8P/0/wIABAAQABUAGAASAPj/7v/q//H/FQApACMAFwD0/+P/4P/t/wIADwADAPj/5v/j//P//v8TABMA/v/v/+f/5f8EAA0AHgASAAAA/P/9/wYAAwD7/+H/2P/a/+X/CgAeAC0AIgD2/9//0P/L/+//+/8PABAAAwD6//D/5//h/+j/9P//////+//6//f//P/8//////8CAAIA/P/x/+r/5//5//j//v8BAPn/AQAMABEABQD4/87/yP/g//r/KAA2AC8AGQDi/9T/1v/g/wYAEAASAAkA9v/3/wIACQACAP7/7//s//T/9f/2//n/9P/3//X/9//5/////f/5/+3/6P/p//H/CgAFAAkAAAD2//T/+P/+/wMACwD+//f//f/8/wEAAwD///j/5//o//j///////r/+P/2/woAFQAaABMABwD6//X/8v/7//L/9//0/wEAAgAAAAcACAAAAOv/3v/m/+7/EwAkABUAAADN/8H/3f/q/x0AJQAgABIA7//j/93/6/8GAA0ACQABAPb///8LABEACQD//97/1//Y/+z/EAAhACUAHAD0/+P/1f/l/xcAHgAgABUAAgD+//z///8EAAcA/v8AAPT/9P/6//v/9f/9/wAABwAbAB4ACgD9/9v/2P/5/woAKgAmAAsA+f/s//n///8HAPz/9//t/+v/8/8FAA4ACwALAAcA/P/7/w0AEQAIAAoADQATABIAEAAJAAsA7f/z////BgALABMADgAJAPz/9f/5//7/DgATAA8ABQDy//T/AAAAABIAEgAUABEA+v/2//z/AAADAPz/9//1/wUAEgAmAB0ACgD2/+n/7//+/wIAAQD8//r/9f/4//T/8//u/woADwAGAAQA9v/4/wMACgAaABQACwAAAPv/+P/3//n/AgAEAAIA/v/8//z/AQADAPn/9f/q/+b/5v/x/wAADgAfACQAIQAdAA8ABQDz/+3/7v/x/woAEAARAAkA+//0/+7/8v/m/97/4f/x/wwAEwARAP//5f/q//L/AgAHAAQABAABAP3/8//s//D///8MAA0AAgD2//f/9//1//f//f8CAAUADAAGAPH/4P/j/+n/+P/8//j/8P/s//f/CgAVABUAEQAAAPP/7f/4/wkAEQAPAAEA4//k/+j/6/8HAAYA/P/7//H/6v/g/+b/9P/z//n/9f/p//D///8KAAsACADv/+n/5v/r//j/+f/6/////P/1/+r/7P8BAAoADgAHAPX/6v/m/+H/5v/s//3/BAAQAAsA7//h/9f/2P/7/wcAEwAOAA0AFAAJAP3/4//X/8j/zv8AABEALAAvABgA///X/9X/9v8EAAEA/P/x/+3/CgAQABAACwD0//H/2//f/9//8v8NAB8AGAAKAPX/7f/6/wUADQAJAPb/9//8/wcACwAVABcAEgDw/+H/2v/s/xQAIQAbAAcA7P/m//D/+/8AAAEA/P///woACwANAAEA8P/q//P///8PACEAHAAJAOL/2v/n//z/HAAeABAA/v/0//D/+v/w/+j/5f/0////FAAbABAADAD1//D/6//w/xAAKQA7AC4ADwD9//n//f8CAAMAAAD6//b//P8LAAwAAAD0/9X/zf/b/+3/KwAvABMA/f/l/+f/EQAlAD0ANgAQAP3/+f/8/w8AEQAUAAEA5v/f/+X/8P8WABsABAD4/+3/6//3/wMABgAKABIAGwAbABcABQD1/+r/7/8CAAwAJQAlABQA///c/8z/3f/o/wAADAASAB4ALAAyABUABwDU/8b/z//d/wkAGAAvACwAGgD+/9b/0v/n//X/DAAYACUAIAAOAAEA+P/u/+T/4v/4/wEADwAdABoAFAD4/+n/6//j//z///8EAPj/8v/0//v///8KABMAEgAUAAIA/P/y//f/+f/1/+n/7P/9/wUAFQAWAAkAAgD5//3/9//7//P/8/8HAA0ACAD8/+//5P/o/+7//P8EAAUADQAUABUA9v/x//D/+f8HAA4ADgANAA4ADAACAPz/+v/0/+7/9v/7/wEAEQASAAMA8f/Z/9T/4f/5/yEAJgAeAA0A8P/n/9n/5P/7/wQACwADAAAACQANAAgA/f/7/+7/7f/8/wMABwAJAAQA/P/t/+b/5P/g/+j/7/8BAAMABAAFAAYAAgDt/+3/8//5/wQAEQAKAA0AFQAXAAoAAQDu/+f/7f/x/+//8//+/wEAAQD7//3/9v/m/+D/6f/y/wUAEAAhABwAAgD6//L/8//7/wAAAAAEAAUACQAFAAUAAgACAP7/+v/2//P/+/8DAA4ABwAJAAAA/v////z/8f/q//P/DQAdABsAFgABAPr//v8GABAADQAEAPb/7v/s/wEACgAaAB4ADgD///T/9v8NABMABwD+/+//7f8CAAgAGQAbAP//7//c/+H/BAAaADEAKQAFAPf/+f///wwABADz/+v/7//0/xMAGgAVAA0A/f/2/+r/8v8IABQAGAALAPf/9v8EAAwAFQANAPT/8f/2/wAADgAQAAEA/P/s//D/AgAMABgAGwD8//D/9P8AABsAIwANAAMA9P/0/wMADgAFAPj/5f/k//X/DAAkACoAFwD6/9L/zv/2/xgAMwAxABAA+f/i/+r/EQASAAcAAQDv/+////8OAB0AGgD6/+X/wv/G//L/DgAqACQAAwDp/+T/6f/u/+z/8f/4/wsAEQAgABYADAAGAPv/7//o/+v/+v/+/wEA9//t/+n/+/8BAPv/8v/s/+3/6v/6/w0ADQADAPv/+v/1/wcACgALAAIA9f/0//X/AAAQAAcA9//u/+f/8P8GAAwACgD2/9//1P/K/+H/GQAuADkAMgDx/9b/yv/T//b//P8NABAAIAAlACQAFwDz/+b/4P/i/+7/+/8IABIACwADAPX/8//1//b/9P/q/+X/6f/z/wEAFwAfABUADgABAPr/7f/r//H/8v8EAAMACgAPAAsAAwDt/+P/3f/q//r/AAABAAEAAQAJABEADQANAAkAAwD8/+n/5f/z//r/CAAPABoAEwAQAAgA+//s/8r/0v/w/wIAFQAcAAUA+//9//v/BAAEAPz/+f/y/+v/CwAWADIANAAWAPz/1v/Q/93/8P8OABUAFwAWABQAEgD8//X/7//s/+///P8XACMALQAlAAMA8P/U/9f/9f/4/xEAEAD9//P//v///xQAHgAOAAUA7P/p//7/EQArACoADAD6/+n/7f/1//7/9//1//r/AgAqACwAFgAFAOX/2//Q/+D/IAA4AEEAJQDy/+D/5P/0/xkAIAAIAP//9//8/wYADgAKAAkA7v/w//z/BgAcACAAEQD//+P/3//y////FwAZAAIAAQDw//H/+f8CAAYABwADAAgAGAAfAB4ADwDp/9v/5f/4/ygAMwAuABIA6//q/+z/7//2/wIABQAJAAwACQD6//7/AwAFAPH/8//8/wIAEAANAPP/7v/6/wMAGQAcABcAEQD6//j/+f/9/wcACwAQAA4ACAAKAPr/7v/U/8z/1v/j/w0AHQAhABkABgD7//P/8//t//L/CQAPACMAHwAfACIAJAAdAPj/4//R/9//9v8GAAUA/P/3/wEAEAAXAP7/6//e/+P/CAAfAEQASAAqAA4A6v/j//T/CgAoACcAAgD3//L//f8OAA8A+//r/97/5/8CABIADgAAAOf/3f/h//D/MgBIADoAIADg/9D/2v/p/xYAGQALAAcADQASABUAEgD0/+r/0//V/+//BQAjACoAFAD8/83/x//f//f/FQAdABQABgD///3///8FAAkABQD5//f/AQAPACMAJAASAAUA7P/v//v/+v/x/+L/5v/2/xwAKwAiAAkAzv/B/9r/7f8oADkAMgAdAOD/1f/g//H/DQARAPX/7//z/wYAGgAcABAA+v/x//D/BQAIAA0ABwD+//z/AQAJABQAFwAUAAoA4//T/9z/6/8EABUAKAAlABIACwD///3/CAABAP//+v/7/wIAGwAfABAA/P/j/+T/AgAMAA8ACQDo/+D/8v8DACAAKQAVAAQA0P/F/9T/7f8gADAAHwASAO7/7v/2//v/BAAFABAAEQANAAcA+v/5//X/+/8JAAcAAADw//D/8v/d/9T/3f/x/yQAMgAoABMA2//J/9z/+v8kADEALAAhAP//+/8BAAUA/v/1/+3/7v8EAAsAIgAeAPb/4//M/9P/7f8CABoAIAARAAwAAAAIABcAHgAVAAMA3//c//L/CgAdACIAFQAEAP3//f/7//v/7//x/+//9v8CABAAHwAjABIABwDh/97/4f/u/xQAHwAeACAAGAANAPf/7f/j/+f/4P/i/wAADgAbACYAHgAXAP3/9P/k/+D/4f/l//3/DwAoACkACQD4/+D/5v8EAA4ADwAGAPr/9//4//n/FAAZAA4A///f/9j/8f8IAC8AMgAVAP7/4f/l/wUAFAAfABYAAAD0/+r/7//6////DgAFAO3/7P/x/wAADAAEAPL/8v/3/wUAHgAlACYAGAD0/+T/3f/g//b/BAAQAAgA9v/2//n/9f/3//P/+/8FAB0AIgAVAAMA7v/u//z/AQAIAAcAAAD5//X/9/8SABsAGwAGANr/xv/M/+f/FgAoAB0AFwALAAcA/P/+//j/6//l/+3/CAAZAC0AJgAHAPH/0//V/+7/BAAcABoA/P/1//r/BAAZABkABQD2/9b/0f/Z/+f/EQAgAC4ALAATAAYA8v/u/9n/0v/T/9//CwAjAC4AJwAAAOr/1//b/+r/8////wIA9v/x//L/9/8PABgACgD9/+z/5P/e/+L/8f/5/xIAIwAyACcA+P/W/6n/sP/V//X/LQA5ACoAFQDe/8j/yv/c//X/AgD9//3/DwAPABUADQD4/+//6//t/wAABwAFAPr/5P/Z/93/6f8TACIAFwADANf/zP/i//r/IwAuABsAEAD2/+3/4f/b/+j/+P8GAAoAAwD7//3/AAAAAP3/9v/y////BAAAAAEADAANAAwACgDw/+L/1f/c//T/AAAHAAoAAQD9//b/8f/0/+v/9//3//D/7/8EAAsAGgAQAPj/5P/V/9z/8/8DABgAHAAGAPX/5//h//r/BAD9//X/1v/W/+r/+f8ZABIA/v/v/+n/7/8BAAcABgD9/+T/2P/O/83/5f///xMAGAABAPP/2f/X/+X/7v8IABMAHQAUAAIA+v/0//3/9//u/9b/1//2/wUAHQAXAPz/8f/I/8z/1//h/wwAHwAkABgA+P/m/8z/2f/6/wgABwAGAPn/9f/1//j//v/7//L/6f/c/+P/DQAcACUAEADe/8//0P/j/xYAJQAZAAkA5f/a/+H/9P8RAB8AGgAHAOj/2v/u//f/DwADAPD/6v/x/wcAIwAkABgAAQDi/9r/6f/8/yUAKwATAAUA3v/a/+f/7//+//7/5//n//P/AgAQABoAHwAZAPz/6P/Y/9b/4//0/xUAGgAaABkADQD9/9X/yf/T/+L/DAAiACsAHwD8//P//P/1//v/+//x/+//8f/6/xIAGgALAP7/5//n/wcAGgAeAA0A4P/V/+n/AAAsADkALQAWAOn/4f/K/9T/+P8JABsAGgAAAPn/+/8AAAEA9P/d/9j/3P/l//7/EwAeABwABgD1/+L/6/8CABcAGgAWAAEA+f/9/wkADQANAPj/6P/c/8//3P/m/xYAJgAzACUAAADs/9r/4v/5/w0AJgAnAA8A/f/o/+r/BQAQAAkA9P/M/8n/6P8AACIAKQANAPj/5v/u/wQADQAUABYACAAAAPj/AQARABYABQDr/8P/wP/k//z/KAArAAwA7//B/8D/3P8AADMAPAAdAP7/0v/V////EQAfABsA8P/h/+D/5f8KAA8ACgD7/+H/1f/6/w8AHwATAOT/0//L/+H/GQAtABIABADc/9j/2v/o/wUAEAAPAA8ACgABAPP/8P/v/+3/9f/3//X//v/2//X/+P/0//r///8FAPn/6f/i/+X/8P/+/w4AHwAWAAIA8//U/9L/7v8BAAEABAD9//X/AgAHAP7/7P/T/9f/6/8CACUAKwAXAP//2f/P/9v/9/8oADAAEAD2/8v/yv/x/xMAKQAmAA0AAQDk/+L/6P/n//X//v/8//7/BwAKABIADgD8//b/5P/s/wUADwAZABwAGQAKAOj/3v/S/9z/9P8GAAUAAQAAAPr/BAAPAAMA8//e/9r/3//m/wkAGAAnACcAFwAIAO7/7//4/wgAFwAaAAoAAADy/+3/8//+/wsABgDs/9z/2P/i/w8AGwAgABsABgD//wIABQAOABQA/v/6//H/8P/4/wIAEAAPAPf/6f/Y/9T//P8SADUAOAAeAAoA8f/x/wAADgAZABwA+f/u/+n/8f/5/wIABAABAPP/7//z//r/AQAQACgALwAnACAABQDw/97/3P/s//L/DAAVAAYAAwDy/+z/8f/x/+v/5f/s/wMAIAAsADMAIAD4/+7/7f/w/+7/6f/b/9b/5/8AACoALAAdAAEA0//P//X/DAA4AEUAJQAOAOj/4P/o/+7/AAAAAOT/3f/r//L/BgAQACEAFgD+//3///8EAP//AQD9//7/DAASABUADgD1/+//7//z/+v/6P/p/+//CQAVADEAKQAJAPH/3P/U/+v/+/8dABgAAAD0/+D/5P/4/wMADQAGAPD/4f/u//v/KgA6ADEAHgDt/9z/6P/3/wMA/P/0/+T/6f/r////AgD5//b/7P/n//H/BAAbACQAKgAiAAsAAAACAAUADAAJAO//4P/V/9v/8P8AABYAEQD9//T/8P/u//z///8OABIAFAASAAwACgD8//r/8//s/+7/7v/3//z/BAAHAAkAAwAFAAIA9P/2//X/AQAhADEAIgAOAOf/1//f/+T//v////3/9P/v/+L/5f/q//7/DQAYABgAHgAYAA0AAQD0//H/8f/z/+7/9//0/+n/6v/x/+//8/8GAAsAEAAJAAMAAwADAAcACwAGAPz/8v/w//P/+f/4//r/9/////n/7v/s/+b/6v///woAHAAfABgADgD4//L/9v8CAAYACAD///f/6//x//3/CQAEAPv/6v/m//z/BQApAC8AIwALAOb/5f/0/wwAJgAdAPH/1P+//8n/8/8JABsAGQAEAP///f/8/xEAFAAQAAIA7f/h/+r/+/8aACQABwD0/9H/yv/P/+L/CQAaACYAKgASAAMABQD8//T/7//o/+v/+f8FABMACQD0/+j/3P/i//D/+v/y//D/8f/5/wgAFgAjABkA9f/q/93/8f8GABEADAAGAPX/9/////v/6v/j/97/6v8TACIAKgArABgADADq/9z/y//U//P/AwATAAsA/P/x/+n/5P/l/+b/8P8AACUALwA4ADcAGQD//9//3f/2/wYAGAAWAAEA9//t//H///8AAPT/5//h/+T/+/8GABsAHwAaABQABwAJAAsAEwD+/+r/0//Q/+n/+v8ZABoACAD8/+n/5//u//3/GAAfACsAJQAaAAkAAQD7/+//8v/4//f////+/wwA///v//H/+P/+/xMAFwAHAPn/7v/2/wgAGQAfABMA7v/b/9r/6v8WACQAKwAZAPv/6v/g//b/DAAbACQAIAAUAAsA+P/t/+P/3v/O/9r//f8SAC8AKwAUAAMA6v/f/+7/AAAgACsAJwAWAPL/5f/p//T/BgAGAPr/8P/k/+3/AgAIABUAFAAGAP7/BwALABsAHQAIAP//6v/p/wEABwAKAP//5P/f/+T/8P8MABIAFwAQAAcADwAcAB4AFAAOAPf/8f/w/+z//f/9/wUAAAD9//b/8v/1/wAADQAnACsAIwAQAPf/9/8EAA0AFQAVAAkAAwD7//f/5P/e/+P/7P///xIAHQAgABcAEQAQAAwADwAQABYAGAAKAAcADgAHAAQA+f/f/9D/2f/s/xAAIgAiACQADQAEAP///f/4/wEADAAQABMADwANAAwABQAGAAIA8//Z/9v/8P8HAC4AOQAWAPv/xf/L//r/GAA4AC0ADAD0/+L/4//q//f/+f/7//f/9v/9/wAACwANAAoABwAFAAMADgAPAAsAAwDr/+H/7f/y/wQABQD9//D/5f/h//n/AgD8/wYAAgD9//n///8LABgAHgAcAPv/9f/t/+3/CAASABcABwDp/9z/1P/c/wcAGgAdABsACQAIAAYACAAOABIACgALAAgA///x//H/BAADAP3/9f/o/+r/CAAYACAAGAD0/+T/2//n/woACgAQAAoA+//5/wIAAwD2/+f/5v/s/wgAEwAXABIA+//3/wAAAgAFAPv/5//m/+P/8f8PAB0AFQACAN//0v/e//T/IwAmACYAFQD6//H//P/0//X/8f/w//L/BQAKAAUA+//e/93/7P/4/x0AJgAkACAAAAD8//H/8/8JAA4AFwAaABIACQABAPz/9P/s/9P/1P/n//b/HAAoACcAHgD8//T//v8DAAAA+v/z//T/CQANABIADQD9//j/AQABAAsACQAIAAgA+/8AABwAKAAnABYA8f/d/9b/2P8EABcAGQAOAO//7f/7/wsAHgAcAPX/6f/n//n/KQA9AFAAQAD7//D/4P/i//j//v////n/8v/y/wIAFQAiACcACwABAO3/7/8TACgAPwBBAB0ACADv/+j/8v/1/+7/9/8FAAwAIAAlABUAAwDw/+T//P8MACMAIgAPAAMAAAD//xkAFAALAAgA/f/+//f/9P/8//v/+f8CAB4AIwAtACAAAwD9//b///8aACMAJAAPAP3/8v/+/wQAEwAOAP//9P/5////HAAkACsAHAD+//H/7v/+/xoAJQAgABIA7v/q//v/CwAfABwAAQD6//H//P8OABQAGAAUAAsACgAaAB8AHQAYAAAA7//q/+7//f8FAA8AFAATABIACwALAAUA/f/4/wUAGAAcABcAEgD///f/9v/5/wMA/v8FAAgACAAMABYAGAAVABEACAAAAPr/+/8BAAsADwAPAAEABAAEAAYA9f/t/9H/0P/s/wcALgA9ADQAHwD8/+f/2//k//z/CwAeAB4AFAACAOb/3f/e/+f/8P/t//v/AQAbAC8AQwBEACQAEADo/+H/6v/0/woACAAUABMACQACAPX/7P/Z/9f/2v/o//7/DAAnADEALAAkAAEA9//m/+T/+f8HABwAIQAXABEA7//e/9n/1//b/+b//f8FAB0AIgArACEACwD9/+3/6f/q//X/CwAWACAAHAAJAP7/8v/v/+j/5v/v//j/BwAJABcAGgAMAAwAAgD3/+v/7v/+/woAEwASAAIA///x//b/+P/8//7/AQATABEAFwAWAA0ACwD6//T/6f/n//P/BwAaAB4ADgACAPT/8//3/wEAGgAiAB8AFQDw/+r/8f/8/wcACQALAAMAAAD6/wIA/v/8//n/BQACABEAGQAhAB0ABQD9/+//8v8KACAAKgAnABUABwD2//n/6//v/+v/8P/7/w8AKQA2ADgAMQAJAPj/6//w/wwAGwAtAC0AHgASAAIAAAD8//X/7v/v//f/AgAmADAANAAkAA4A//8DAAcADwAOAAIABAADAAUAGgAdABoADwDq/+j//P8OADcANwApABsAEQASACcALwAsABgA6f/R/87/3P8JAB8AKQAZAPX/9P8EABUAJgAoAA8ABQABAAwALwA6ADIAJgD3/+r/5//v/wMABQAGAAcA//8GAA0AEgAQAAsAAAD+/wAADgAoADEAIwAZAPr/8P8AAAUA/v/9//f/8f/z//z/GAAkAB8AEwD9//b/8P/7/xYAGAANAAcA/P/6//D/9f//////BQALAAkADQD+//b/9v/8/xQAHgAhAB4AAAD6//H/9f///wgACwAMABAABQD0/+f/5v/h//b/BQAWABkALQAyACUAHwD9/+3/6v/z/wcAEQAQAAoA/v/3//L/7f/x//j/DAANAAwACwABAAgAHQAiACAAEADr/+D/5//5/xsAHgAOAAAA9//8/wEABwAAAPT/6//t/xUAIAAiABkAAQD3//L/7//+/wYA/f/7//b/+P8GAA8AGgAbAA8ACQAMAA0AEQAMAPX/7P/q/+X/7v/5////+v/3//n/7P/0/wUAEAAZABoAEgAQAAYADgAUABYAEgAIAPj/7f/b/+T/BQAPABoADwDo/9X/1//l/wgAGAAlACsAIgAhABYADAD8//7/BwAFAAMA///u/+3/BgALAPn/7P/m/+3/CwAiAEEAOwAjABAA+v/5/wkAFAASAAsA/f/6/wIADwARAAQA9f/0//D/+P8SAB0AJAAhAA8ADQAPABEAEQAJAPz/8P/2//z/GgAiACEAEQDy/+v/9f/9/x8AKQAoACMAIQAcAA8ABgD+//b//v8DAAkADgALAAwA/v/4//z/AgAVABcAFwAPAAUADwAmACoALQAjAAgA///4//z/BwADAPr/8f/s//T/FAAjACwAGwDw/9//4//4/y4AQwBIADgA///z/+X/4//0/wUAFgAdAA4ADQD//wQADgAMAPj/8v/2////EwAYABAABQD9//r/CwAQABIAFAAMAAwADAAPAAwACwARAA8AEAAPABcADgAIAP3/7P/u/wAADQARABMAAwD9//j/+f8HAAoACAADAAIAAgAUACMAJAAhABAABQD4//L/7f/u//T/8v8EAA0AIAAeABsAGQAUABoAGQAVACEAHgAfABQABAD0//P/+v8BAAEA9P/v/+T/6//7/wUAEAAYACMAJgAcAB4AGgAZABIADwABAPL/+v8HABsAGAAGAPD/yP/D/9X/6/8aACYALwAqABIABgD8/wAADAANABUAEwAUABUACgAHAPj/8//q/+7/9//6/woAHAAfAB4AAQD4//H/8v8BAAgAEQAZAAkABgDr/+D/2//i////DgAaAB8AIQAaAAcABQAGAAoADQAMAAYAAgD7//r/BgACAOn/4P/Z/9r/AgATACQAHwAPAAcADAARABYAEAAFAAEA/P8FABoAIgASAAQA6//h/9//6/8KABQADAAOAAIA/f/5//3/DwARABIAFAANAAwACQAPAA0AAwDr/+n/8/8AACMAIQAUAAAA4f/e//D/AQAaACEAFQALAPj//f/5//r//////wkACwAaAB8AEAAFAPj/9f/3////CwAGAP7/8v/w//X/DAASABsAEAD//+7/6//s//3/BAAHABEADQAMABAAEwAXABkADwAIAPz/+P/3////CQAEAAIA//8MAA4ADwAIAO//4P/a/9z/BwAdADUAMQAeAAQA6f/s//r/AAACAAAABgAKABcAFQAMAAQA5f/e/9b/2v/1/wIAFAAYABQADwALAAsABAD///r/6//r//H/BwAJAA8AEgAKAAMA9v/y//b//P8DAAQA9f/y//v//f8LAAsABAAJAP//9P/j/+n/+/8OAB8AJgAkABsA+P/r/9H/zf/T/+3/GQAqACsAIgABAPX/6v/n/+P/5//2/wQAEQAbACUAIgAWAAcA6v/f/9//7P8NABAAEgAJAP7/+v/5//f/6f/f/+D/6v8HAB0AKQAmABAABQDl/9n/6P/6/xYAGwAKAPf/5//k//X//P8GAA8ACQD///b/9f8FAA0AEgABAOD/3v/6/wsAGgAZAPX/4//Z/9r//v8KACEAIAAcAA8A9//1//f/9f8GAAcACQAEAPv//P/w/+7/7P/z/wIAAgD7//z/AAAIABAAEgAOAAoA///7//7//v8GABAAEwAJAO3/5f/a/+r/9//6/wAA/f8CABAAHgAaAP//7v/Z/8n/1P/h/wsAHQArACQACgD8/+f/5f/q/+z/8v/8/xkAJwAyADEACgDw/8z/x//M/+H/EgAiABgABgDl/9//8f8AAAYA/v/w/+z/9P/5/wcAFQAgACUAIwASAPH/7v/u//P/9v/1//X/+f/9/wAABwAPAAQACAAIAPf/6v/r//j/BAAeACEAGAAMAP//9f/w/+7/7P/u//D/9//6////FQAcAA8ABgD1//b/+f/7/wwACgAQAAwABwAHAAEAAAABAPr/6P/c/97/6P8KABkAGQATAPX/7P/o/+3/+f8BABcAHQAdAA4A+//y/+7/8P/4//z/BQD7//X/8//o/+n/8//9/wgACQAEAAMA/v/9//v//P/w/+T/6//w//j/9P/t/+b/4v/o////FgAlACoACwD0/+L/4v/1/wMACgAKABUAFwAJAAMA6P/Y/8b/zv/n//3/IwAlABIABgDb/9P/4P/w/w0ADwASABEACQAGAPn/7f/v/+X/8//w//n/8v/w//D/+P8FAAoACgAGAAEA8//s/+L/5//y//z/CwAMAPv/+f/5//L/+f/x/+//6P/q//D///8HAAoABwDu/+n/6//y/wMACwAKAAIA/P/7/wAACAAeABIAAgD2/+r/7f/0/wMAHQAhAA0A/f/t/+T/5f/s//j/8//1/+//+//8/wMAAgADAAAA+P/1/wQADAARAA8A/f/w//D/+/8cACAACgD2/93/3f/s//3/EAAGAO7/6P/o//T/FQAiABoABwDn/+D/+f8KAC8AMAAIAPD/1v/X//L/AwAUABEA+//4//3/AgAbACAACgD1/+f/7f8SACEALAAeAPb/5v/o//D/AwALAAUAAQD1//H/AQAOAA4AFAAGAP7/8f/x/wEACQARABEACAAKAAMABwD4/+z/0v/R/+L/9f8fACsALwAmAAAA7//i/97/5//z/xAAGAAtADMAIAAIAOX/0//S/9j/8v8EABsAFAD3/+7/8//1/wQACQD1/+j/7P/8/yoALQAqABkA9//t/+3/8v8HAAoABQD8/+D/4v/n//j/DQARAPn/8f/x//T///8BAP7/+v8DAAUAEgANAAgA/f/p/+H/3v/l/+//+v/9/wIA//8GAA0ABgDn/9//1v/e//3/BgAUAAcA+//z//L/9P/9/wEA+//2//f/+f8EAAoAFgALAOT/1P/M/9//CgAWAA8AAADX/8r/4v/2/xAADAD1/+b/5P/p/wYADwALAPr/2//X/+z/BQAfABwA9f/i/9D/3//3/woADQANAPb/5f/k//D/CQAQABAABgD0/+7//v8DAAMAAQDw/+//4//o//z/BgACAAIA9P/y/+b/5//6//r/+//0//j/8/8DAAIA+f/u/+n/6f/1//j/7v/t/+7/9/8NAAsAAgD5/+H/3//o//j/FQAbAAwAAADf/9f/2f/t/wkAAQD0/+v/8v/3/w8AFgD0/+X/1//b//v/BwATAA8A+P/r/9n/2//y//r/CgAFAO3/5//4//7/CAAIAPT/6v/n/+v//v8DAA8AAwDq/+D/4v/n/wMADAD+//P/6f/n/+n/7P/0//j/9P/1/+z/6f/y//L/8//v/+r/6f/1//v/BwD4/+f/4v/z/wEAHQAdAP//8//X/+H/+f///w8AEgABAPz/+v/5//T/+P/x//X/DAATABIABAD8/+7/2v/W/+X/9P/+/wgAEwALAP7//f//////CQALAP//9P/p/+r/AQAEAAwAEwAFAPX/8f/n/+H/5/8BAAcADAANAP7////z//n/+f/7//3/AAABAAkACQAHAAUA///j/9f/1//c//j/BQAOAAoABAD9/wAABQANAAcA+P/z/+H/4v/4//z/EQALAAIAAAD+//v//P8AAAQACAANAAUA4f/R/8j/yv/w/wEAEwAeACIAHQADAPX/5P/f//b/BQAMAAcA9v/l/+j/6f/v//T////9/wIABAABAPX/+P/2/+z/5f/j/+L/6//x/wAACwAoACQAFgAQAOv/2//Q/8//2f/k//v/AgANAAwA/v/z/+v/5f/t//7/EQAOABUAEAD0/9//1v/V//P/BAAeAB8AGgAVAP//8P/Z/9v/3P/p/wEA+v/r/+b/5v/s/wUAAAAJAAoA/v8BAPz/9v/x//b/AQD6//f/7v/Y/83/6//3/xYAGQAJAAMA+P/y/+j/6P/i/9//7f8BABYAGAAWAAgA8v/t//T/+/8CAAEA+f/x/+b/3P/S/9n/7f/x//3//P/2//b/9f/z//n//P8EAAcACwD7/9P/yf/E/9L/+f8OACgAJQAIAPL/zv/J/8z/4/8FAA4ABAD7/+L/2f/a/+T/+/8IABcAFAADAPb/5v/Z/9T/2f/l/+3/EQAXAP7/8//e/9r/7v/7/w0ACgD4//j/+f/+//z/9f/c/9r/6P/z/wUACAARABcAEQAOAOb/0f+9/8n/5v/4/xkAFAAGAPz/+f/y/+3/8//z//v/BQAGAAYA/P/u/+j/4f/a/+P/6v/7/wYAHgAoACAAFQDw/9v/2P/s/wgADwAIAP7/5v/u//r/CQAaABIA+v/r/9//3P/3/wIACwAHAPn/8v/w//P/BAACAPj/8//+/wUAHgAaAAEA6v/I/8H/3P/0/xEAGwAPAAMA/f///wkAFAAeABsA///2/+L/5P/x//3/BgAMAAAA+f/y//T//P/0//L/8v/w//X//P/1/+T/5P/q//b/DwAbAB4AFwD7/+3/6f/0/wwADAAUAAYA3//Y/9j/5v/9/wsABwAFAPr//v8LABkAEwAHAO3/1f/M/9P/7v/3/wkAEgAQAA4ABQD4//X/9//6//v/7f/t//D/+/8JAAsA9v/v/+b/8v8IAA8ADAAFAOT/4/8BAAsAHQAYAPv/4v/B/8r/9f8QADEALAAKAPz/7f/y/wEA+P/X/8L/uf/A/+3/CAAsADcAGQAHAO7/7P/+/wUAEgARAPH/3v/a/97/+v8FAA0ACQDx/+P/2f/e/+D/6v8CAAgAEgARAAYA+//T/9D/4f/y/x4AOABBAC0A8//e/8z/y//U/9f/0v/Y/97/6P8EAA8AGgAQAPX/8P/q/+b//f8FAPv/7//l/97/5P/y/wQACgACAP3/8//x/+//7v/r/+r/4//b/9b/3P/l//f/FAAQAAYABQD+/wQABgAIAP3/8P/Q/8f/3P/s/wYADQAPAPz/5f/g//7/CAAYABgABgD0/+H/3P/r//j/+P/3/+X/6//r//3/HwAfABIAAQDn/+P/2v/i/+T/5v/p/+7/DQAbAC8ANQAjABAA1//D/8H/z//7/w0AIwAaAAEA9f/n/+f/5//t//7/CwAZABwAGQAJAOX/1f/L/8j/0f/W/+7/+P8MABEAGQAdABEABgD6/+//6v/r/+n/5v/p/+j//v8RABoAFQDw/+D/wv/L/+7/AQAgACQAAQDy/9b/3f/v//j/BgAGAAIAAwALAAcA/f/4/+b/3P/c/9//6f/w//n/AgAFAAEA/P8AAAQACQAKAAwA8//n/9z/2//k/+f/+v8CAAkACwD4//r/7f/l/+z/8f8GAAoADAAGAOP/1P/H/9L/7f/7/w0AFQAUABMABwD//+b/2P/N/83/4//u/wUABQD///j/6P/k/+//9f/7/wkA/v/2//L/9/8AAP3/AgD8/+z/6//m/+7/AwALAP//9//i/97/7v/v//r/9f/i/9P/4//u/w0AHAAqACcAEQAEAPH/7P/f/9r/yv/G/87/3P8IABQAGAAHAO//4v/u//L/9v/9/woACwAMAAYA+//0/+r/7P/r/+P/3f/X/9//7v8DAP//8v/p/97/1//V/9r/8P/7/xoAIwAuACgABgD2/9b/0v/d/+j///8CAPD/4//j/+T/6//0/wEAAQD9//r/BQD9//L/6f/s/+z//P8JAA8ACgAGAP7/7f/o//f//v8IAAsA7v/t/+T/4//p/+b/7P/3/woADgAIAP7/7f/q/wAACAAOAAoA8v/i/9D/1P/r//T/DQAUAAwABwD3/+7/7v/0////AQAEAAIA9//y/+r/5v/l/+f/+v8JAA8AEgAKAAAA3v/T/9P/4v///w8AHwAZAAUA/v/7/wAA/P/3//T/8v/n/+r/8v/0//H/8P/t/+7/8P/1/wEABwAJAAwAGAAbACIAFgABAOv/0f/I/8r/2f/7/xIAMQAwABQA/P/V/9T/5//4/w8AEgAKAAIA8f/r/+j/5//p//H//v/+/wQADAALAAkA/P/5/+r/6f/+/wIABgALAAUACQAQABMAAwD1/+f/1P/Y/+L/+/8CAPj/8f/l/+v/BAAJABsAFgAIAAIA+/8CAA8ACwDq/9b/yf/J/+b//f8fACAABAD4/9b/1v8AABMAHwAVAO7/3P/a//D/EgAdAA4AAQDr/+z/+f8GAAUA9v/e/9X/3v/n//D/8f/l/+D/8P8DACkAPgA0AB4A7f/c/9f/4P/z//z/8//v/97/2//u//f/9f/1/+3/7P8FABcAGAAZAP//7f/a/9//7/8CABMAEgACAPr/+/8EABAAEwDf/8b/of+o/9b/8/8sAC8AGAD9/+H/4v/u//H//v8CAP7//v8SAB8AEAACALv/pP+i/8X/DgAsADAAGwDd/8X/0P/c////CQDv/97/yf/P/+7/BAAkACgAFwAFAOr/3f/X/9T/1v/T/9P/3f///wYAGwAXAPv/6//b/9r/5f/z/wcABAADAA0ACQAEAPH/5P/Q/8n/4v/x/xAAFAAbABYAAgD1/9v/1//I/8T/zf/Y//7/EgAsACUADgD5/93/3P/v//X/AAABAPX/7v/r//L/+/////z/+v/i/9v/3//v/wgADgD8//D/4//Z/+j/6v/o/+L/8//7/wwAEwAbABsAGwALAOv/3v/R/9P/5//3/wQA///1/+7/9P/w//j//P8BAPn/6f/r/wAACwATABUABADy/9n/1//c/+v/BgAOABsAFQD5/+3/2v/Y/9b/4//s/+n/+f8BABwAHgAlABcABADz/9j/1//r//T/AgD5/+z/5v/q//b/EgASAPr/8v/b/9//9v8IACMAIAAOAPT/zf/I/9z/6f/9//7/BgAAAAgABwD9//L/1//Q/8r/2P/z/wQAGgAUAAIA+v/3//v/DQANAAAA9P/Y/9D/zf/P/+H/6/8BAAcACQACAOj/3P/u/wAAHgAjABsAGAD3/+X/1//V/9r/7f8GAAoAAwD7//P/7P/t/+P/z//J/9X/5P/4/wsAGQAZAAYABADu/+//+f8FABUAEQDz/+v/5P/s//f/7P/e/9L/0v/V//7/FQAxAC4ADAD7/9L/yv/f//D/CwAQAAgA+v/8////CAAPAP3/8P/j/+T/4P/n//P/8v/o/+v/6//u//j//P///wEA9//5/+//9P/z//j/AwAFAPf/9P/o/+X/5f/s//z//P8BAAMABAD4//n/9v/0//H/5P/Z/8X/wf/o//v/JAAtACgAEwDl/9b/zP/Z////BgANAAkA8P/p/+3/8P8AAP//7P/l/+r/7P8EABQAGAAPAPj/9P/j/97/5//s//r//P8HAAwAFAAYAAUA7f/I/8L/zf/h/wQAEwAhAB8ABADw/+b/8f8KABUAIQAWAAMA/P/2//b/+P/8/+7/5v/o/+z/+v8CABAAAwDw/+3/6P/r////BgAPAAcA9P/r/+z/8/8OACIAKwAtAAkA+P/i/97/7//+/w0ACgD///L/4P/e/+//9v8RABUADwAHAO3/7////wsACQAJAPf/8f/z//T/EAAZABEABwD3//X/7v/w//b/8v/r/+H/3P/h/wkAHAAsAC4AGgAGAPX/9v/w//n/BQACAPz/+P/p/+z///////L/7v/l/+v/DgAeAA8ABgD1//b/8f/9//f/9v/w//n/EAAdACMAHAAJAP7/8f/o/+T/5v/l/+z/+f8CAB8ALAAvABsA+v/o/9v/4v8BABAACQD6/+n/6v/i//L/CAAFAPP/7f/7/wYAIAAmACQAEQDi/9z/z//W/+3/AgAYABwAEgAJAAYADgAEAAEA6v/X/8j/1f8MABoAHwAPAPD/9/8FAAwAGwAWAP//AwANAA0ABQAFAPX/6P/k/+P/6//y/w8AFQAcAB8AFgAPAAIA8//U/83/7f8HACMAKgAYAAkA7//z/w4AHwAcABgABAD3/+b/7/8KAAgAAgD3/+z/7P8RACAALgAtAAcA7v/a/+H/AgATACAAGwDx/97/yf/T/wMAGQAlACkAFwANAAIA/f/3/+z/4P/h/+//BwAjACAAGQAOAO7/6//o/+r/+P/7/+3/7/8CABAAIQAeAPz/6P/j//H/DAAZABsAEAAFAAQA/f/1/+P/5f/b/9j/5P/w/xQAJgA8ADgAGgAIAO7/5f/m//H/BwAJABAACwALAAYAAQADAPz/8//l/+f/+/8HACMAGAABAO7/4//p//7/AgASABIACAACAP//BAAfACcAKgAaAPb/6P/a/+T/8P/2//f/AQADAAYAFQAXAAcAAgDr/+P/4f/5/yoANAA1ABkA8v/k//X/AAAdACUAFAAIAPf/9v/5///////2/+D/3f/c/+L///8JABIAFgAhACkALAAeAPX/2//G/9P/9/8PACsAKwAXAAYA6v/j/+X/7/8EABIAIgAmABkAEQDi/8n/s/+5/+3/DABAAEoALQAPAOb/2P/i//P/FAAiABQABADi/+b//v8UACcAIwAIAPb/5v/r//v/+f8EAAUAAQD4/+3/8P/5//3/BwAGAAIADAAdACMAFAAIAO7/5v/L/8n/3v/s/w4AHQAiABoAAgAAABAAHQAeABQAAADy/97/4v/v//z/CAACAP7///8GAAsAIwAjABMAAADY/9H/6//+/xkAFwAJAAUA9P/1//v/AwAOABoADAAAAO//9P/6/wEABwD9/+z/5v/8/wUAFwAYABUAFwAGAP3/9f/1/+j/4//g/9//6////yIANQA1ACUAAgDt/+j/7f8GABYADwAHAO3/6P/r/+7/BgANABIAFwAOAAwADAAJAPX/9P/y//P/BAADAAcABwAJAAcA///5//7/AwAFAAYA/f/8//X/8v/u//P/+//9/xMAGAAXAAwABQAGABMAEgAHAAIA6f/b/9D/0v/u//D/CwAQAAgA+v/y/wAAFgAkACoAIgDv/9T/w//R/+j/+/8iACkAFwAMAO7/7P/6/wkADgAPAAsAAQD6//r/9f/6/wUACAAUABEAAQD2/+3/6v/5/w4AIwAgAAYA8f/W/9X/9f8GABsAGgAXABcAHQAhAA8A/P/V/9D/2f/o/xAAFQAdABoADAABAPz//P8GAAoAEgAQAAcABAD///z/9//1//n/AwAKAA0ABwD9//X/+f8HAAkAEQAUAPf/4f/V/9T/4f/8/xwAJgAnACEABgDv/+H/5P/2//7/CQAHAPX/8v/q/+n/+P8BAAwACwAGAAIA8//u//P/+/8DAAIA/f/4/+L/7P8RABcAEgAMAPn/+P/6/wIAAAACAPr/7f/g/+H/9/8EABYAHAAFAPb/9P/6/xUAHAAaABEA/P/x//X/+v/7/wUAHQAiABIABADr/+z/8v/6/wwADgANAAYACgAIAP//8v/m/+n/AwATAC4AMgAiABYA8f/m/9T/2f/5/woAIwAkAB8AGAANAAkA7v/k/+b/9P8IAA8AGwAXAA4AAgDt/+T/7P/1/w8AGAAfACQAFQARAP7/9P/v/+j/9f/5/wEABgALABIAEgARABEADQAAAAYAAgAGAAoAEQAMAAoA9f/i/+b/7v8BAAwACwAKAAEA+/8DAAMADwARABgADwD+//r/AwAUACgAJwALAPz/5v/l//j/BwAPAAoA9P/v/9v/4v/3/w8AJwAoABcACgAFAAYAHwAnACMAEQDu/+z/6P/t//7/BQD8//r/7v/y//v/AwAQAAcA9v/y/wIACgAdAB0ADgACAPf/+f/7/wUAEwAOAAkABwD2/+b/8f/y//f/9f/q/+z///8NAB4AHgADAAEA+P/8/wEA/v/2//H/AwAMABIAEgADAP//8v/2//r//v8OABAADgABAOj/7v/9/wcACwAMAAAA+f/5//z/CgAIAP//8f/s//D//v8KABMABADp/93/4f/t/wQAEgAPAAcA8v/1//P/9v8AAAYACwAJAPH/6f/n//T/FAAbAAoA9//q/+r/7v/0//P//P8HAAwACAAAAOz/7P/m//D/9f/8/wcADQAKAPz/6//l/+z/7/8BAAQAAgAJAA0ABwACAPj/8P/3/w0AGgAfABYA/v/r/9D/0f/4/wgAHwAVAPb/4f/a/+b/BgASABEACAD7//j/BgAPABwAGQAPAAEA5v/d/+///v8QAAoA+f/w/wIAEwAiAB8AAgDx/9n/5f8XACQAKwAoAAAA7f/h/+T/8P/0/woAEAALAAkABQD1/+j/3//p//b/IAAmACEAFwADAAAA+f/8/wcAEAAOAAgADwAKAA0AFQAVAA0A5//Y/9X/3/8DAAwACQAJAAQACAAUABQABAD3//P/+v8TACQANQAxAA4A9//a/9r/5//x/wcADgAHAAQA/f8BAAQACgALABAADQAMAAcADgAOABEABAAEAPf/8//+/wIAAgD+////AAD6//T/9//5/wYADgAhABUACgD8/+//+f8GAAUABAAMAP3/CgAQABcADAABAO7/7f/z//f/FwAgADAAKQADAO//3v/k/wAADgAUABMABQAFAAoADQAQABQADQAEAPz/AgAJAAsADgAOAA4ACgAHAAgA9//1//r//f8KAAwA//8BAP//BAAJAAoA//8CAAkAEQAfAB0AFQAXABEACQD3/+v/2v/i//j/AwAQAAwACQANABIAFAAIAAsA/f8JABQAJAAvADEAHgAQAPH/5v/T/9z/6P/z/wcADAANAAcA9v/y/+//8v8AABMAHAAXAAsABwAWABgAHQAVAP//7v/i/+P//v8FAA8ACQD2/+v/9v8FABIADgDw/+T/8v///x8AKQAkABUA9v/z//3/CAAOABEACAD///j/9v8CAAYABgD+/+3/5f/w//3/EAAPAP7/9f/4/wMAHAAjACcAGgD3/+r/3f/j////EAAfAB8ADgAHAAEA+v/4//T//P/5//r/AwAbAB8ACwAEAPH/6P/0//z/EwATAP3/+v8CABEAHAAeAA4A///0/+3//v8DAPz///8GAAUACgALAPf/7P/Z/9D/3//p/x0AMABEADwABwDz/9L/1//t/wcAKwAqACwAHgDy/+j/2f/f//n/CAALAA8ABwAIAPv/+v/7//3/DgAcACYAIQABAPn/8f/z/wIABgATAA8ABAADAAYAAgD+////9P/0//7/GAA3AD0AGgD8/9f/1//+/xYAOwA2ACMAEwD9//j/AAAIABUADQD+//X/AwAQACoAMgAoABoA8P/s//j/BAAOAAkAFgASABoAGAATAAkA7v/k/+H/6f8PAB4ANAAsABQABgDx//D/9P/9/w0ACQAQAA0AEwAVABYADgAGAAEA7//y/wgAEgAeAB0ADAAPABMAFAAJAAYA9P/u/wAABwANAA4ACwAJAPn//P8LABgAGAATAAEA+P/2//3/EAAYABoAFQAOAAgA///5//b/9f/9////EAAcACIAKAAUAAMA1v/M/+n/AQA0ADoAJQAQAOv/3f/m//X/BwASABYAEwD0/+j/6v8AACcALwAnABYA+P/s/+//8//7/wQABwANAAwACwAHAAcA+P/t/+f/7f8SACQANAA1AA8A+v/f/+X/8v/8/xoAHQAYAAsA+//v/+7/9f8KAAwAAgD2//T//f8LAA0AGgATAAsA/P/r/+j/9f/4/wwADQD5//T/BAAVABkAEQD5//D/+P8AABEAIgAbABgA+P/2/+f/5P/m//D/CwAMAAsAEAAVABoAFQAPAPv/7P/l/+f/AAAOACkALQAoABAA7//n/9//3//w//r///8HABAADAD9/+n/7v/1/xIAEgAPAAoA8v/v//f/BAAbAB8AHgAGAO3/3v/i//H/CAAHAPL/7f8IABEAHgAbAP3/6//r/+7///8MABkAHAAhAB8ACQD5/+//8f8BAAMA7v/g/9T/4f8KACQANAA0ACQAGADs/+P/3//m/wYAFgAyADQAIQAWAOX/1//A/8T/2f/v/wkADgAeACgAKAAcAPP/4v/f/+r/DAAXABwAFAAGAPv/6P/v/xEAIgASAAgA3f/V//H/EgAyADAAAQDp/9r/6v8SAB0AFQAEAPH/8/8NABsAKAAlAP7/6v/W/+D/BQAUABMACwD4/+r/4//p/wkAGQAmACgAGgAKAPr/7f/q/+3/8f/8/woADQATAA0ADQAKAP7/AwAKAA4A/P/z//n/AgAWABYADAD//+3/6//t//z/HQAlAB8ADADl/+L/AgAUACcAJQD1/93/1f/g/xQAHwAxACUABQAGAAUAAgAIAP7/7f/k/+b/6/8CABkAFQAOAPn/9P8EAAsAFgANAAoAAAD4//n///8IAA0ACgDy/+f/3f/l/+7/+P8OABAAGQAbABkADwD5/+3/4//n/+j/9f8EAA8AHwARAAAA8//t/+3/+/8KABEADgAGAAAA9P/s/9z/3P/y//v/EwATAAkABQDx//D/BgAYADIAKQAJAOr/0P/V/wAAGAAaAAsA2v/M/+7/BwBBAEkAJwAIAML/sf/G/+T/JgAyACAAEQDo/9z/6v/3/wUACQALAAsAEgAVABwAEwAIAPb/zf/D/+T/+f8pADAAKwAeABMAFQAkABwA+f/v/+j/6P/8/w8AGAAfAA8ACQD7//7/BwANAA8ABwAHAAoAGQAbABAA+P/e/9r/+P8JACkAIgAWABMAEgAUAAsADQD8/+//4f/j//L/+/8FAAUA+P/r//D/BgAjACYAEgAGAPn/+v/6/wUACwAMAP7/9f/d/9v/5v/5/xsAIgAQAAMA6//m//j/AAAHAAoACQAEAP7///8FAAgAEAAPAAAA9//5////EQAOAAAA/P/v//T/BQAJAAEA+/8BAP3/AgACAAkABwAQABIAAwAAAPH/5f/h/+X//P8FABsAFgD5/+3/9v8IACIAIwAYAAcA+P/9/xAADwD8/+3/3f/m//f/BQAhACoAJwAZAPb/6v/m//T/GgAlACcAGQD6//f/4v/f//D//f8UABsAIAApADEAKwAfAAwA3P/F/9b/6P8VACAALgAnABgACwD2//L//P8LACEAJwAXAAkA+//4/wMA///+//f//f/+/woAGAAkACUAGAAEAO3/5//4/wIAHwAaAAAA8v/t//z/DgAWABwAFgAZABcADwADAPr/+P/+/wUAAAADAP3/+f8AAP7/AQABAA4AEgAMAA4AHgAcAA4AAQDe/9n/8//+/xYAFAAEAAEA//8DAA4ACQD9/wAA/f/9////BgAPAA8ABAD//+//7P/v/wEADgAQAA0AEAASABMADQAAAOX/3//k/+//EAAcAB4ADwACAP3/7//7/wkAAwD3//T/+v8BABMAFAD8/+b/2P/g//3/CgAkACYAIgAeAAgABQADAAIA/P/z/9T/0//0/wgALAAnAP3/7f/X/9//BwAcACUAHQD0/+f/3f/r/xsAJgAPAPT/3f/h/xAAJwA0ACUA9v/o/97/7v8AAAkABwACAOn/4P/n/+3/GgAjADEALAAQAAIABwAKAA4A/v/1//b/8v/1//b//f8KAA0AAQD6/+r/5f/2/wUAFwAVABYAFgAaABYA/P/s/+f/7P8GAA4AEgANAAIA/P/4//r/9v/4/+7/5P/i/+n/DQAYABsAEQD///b///8EAAgA+//q/+v/8/8AAP3/AwD+/wAA/v/9//7/BgAgACoAHwATAPP/8f8HABUABADr/9D/x//Z/+f/BQAFAA0ADQAaABIAAAAAAAQACQAXAAwADgAKAAsACgD4/+//8/8DABUAFwAAAPP/5f/s/wkACQAHAPb/4f/a/+j//P8UABsADwD9/+//7/8JABoAIQATAPj/5//v//X/+//5//b/8v/9/wIAAwAIABYAFgAHAPj/7v/s/wsAGQAMAPj/0P/O//P/DwAfABkAAgD4/+//9v/6/woABwABAOn/2f/O/+j/EgAkACUAEQDn/9n/4f/7/x4AKQAhAA8A8f/q/+7/8P/0//H/1v/Q//X/DQA4AD8AKAAVAPT/7f/1//T/9f/7/wwADgAPAAYA6v/h/97/3//g/+v/DQAZACgAIgAQAAAA8//5/wQACAABAP//8P/x/wUAFAAvACwAFAD5/8v/wP/K/+b/FAAlACIAFgAGAPb/7f/t/wEADAAfAB4AGgANAP7/9P/k/9n/3P/p////CAAHAAAABwANABUAGAAAAPf//v8NABQACgDt/+H/8v/7/wsADAADAPz/DQAaACMAGAD///f/7v/q//v//v8AAPX/7f/m/+v/+v8VABcACgACAPz/CAAZAB8AEgAEAOX/2//i/+H/8/8FAA0AFAASABEADgAFAPb/7P/t//X/BAAUAA8ABgD0//f/AgABAP7/9//t//f/CgAdACMAIQABAPT/4//i/+L/5/8CABMAGAAUAAUA8//q/+n/CAAQABEADAD4/+7/6f/1/wkACwADAPj/AwALABcAHwD///L/5P/r/wIAAQD///P/4//m/+7/7//3//b//f8KABgAIgAlAB0ACAD8//D/9f8DAAgAAgD1/9P/zP/j//T/FgAXABYACAD+//X/8//4/wIACQAEAAIA6f/q//n/AwAPAA4ABAD7////BAAOABIAAwD5/+H/4//2/wgAIwAlAAMA8f/U/9b/AAATACIAHAACAPL/6v/q/+r/7P/s//D/AgASACMAJgAMAP7/3v/f//H/CQAYABIA6f/Y/8//1v/6/wwAGQAiABUAEAACAPj/+v/1/wQACwAEAAYAAwD+//T/5f/h/9v/+/8MABsAHAAQAAYAAAADAAQABgAGAPz/+P/v//L/9P8CAAwADgAPAAAA/P/7//z/+//9//b/+f/4/wIACwAJAPz/7P/g/97//P8UADEANAAeABIA9f/x/+7/7P/t//X/CwAWACsAIwAUAAwA/f/6//j//P8FAA4AFwAQAAIA+v/r/+v/9f/4//j//P8HABMAFwAcABwAFwAEAP//AgD5/+3/8P/s//T/AwAEABUAFgASAA0AEAAOAAgACAD2//H/8f/5/xUAHQAZAAoA+f/r/+v/8f8GAA8AGAAZAAUAAAADAAgADgARAP//+f/y//j/FQAfACsAJAANAAUAAAD7/wEABwACAPv/8f/7/xAAHwAnAB4ABwD///b/AwAPABUAEAAUAAsAAgADAAAABQADAAAA9//6/wMADwARABMADgAHAA0AHgAmABYABwDt/+P/5v/6/xsAIgAxADQAFwAMAPT/7P/y//3/BwAOAA8AEwANAPr/5v/f/+n/+/8jADMAMAAqABYADAD8//b/9v/0//j/+f/4//b/9v/7/wEA///4//f/CQATACgAJwAQAAcA+f/6//z/AQABAP7//f8CAAgAEgAaABAA/P/2/+r/9f8OABkAEwAHAO3/5//r//r/CgARAA8ACgAFAP///v8BAAUAAwD8//z//P/7/wIAAADt/+f/AAASAC8ANAAkABEA7v/j/+L/7P8DABEAHAAXAAYAAAD9/wMAAAD5//P/9P8KABgAIgAcAAQA8f/t/+3/9//+/////f/2//v/GAAmAEEAPAAdAPz/zv/H/+X/AgAjACcAAwD8/+//8P8JAAwADAAIAPj//f8KABQAGgAQAPj/8f/4/wAADwARAPX/7P/s//j/JAA8ADQAJADz/9z/yP/W//v/EQAaABcAAAD8/xMAGQAaABgA8v/m/+v/+/8YABgA/f/9//j//f8KABEACwAJAP///f8LABIAJgAiAAcA9P/e/+D/+P/+/w8ACwAAAAIABwARABkAIgAaABMA//8BAP7/CAAOABEA/P/u//r/AgAjACMADQD3/+L/7f8YACgAMQArAAoAAAD2//f/EAAaACAAGAAFAP//CgASACgAJQAQAPv/9/8EABcAIgATAAsA+//+/wkADwAcABcABgAJAAoAEAAkACoAFQABAOf/4v8AABQAJgAsABkADAD2//X/DgAcACIAIAAWAAQAAAAGAAkABQD0/+f/7P/9/yIALgAnACAACgANABkAGwAfABIA+P/p/+H/5/8GABgANwA2AB4ADAAJAAsAEwASAAcA/P8BAAgAFgAUAAAA9f/x//r/CwAZACEAHgAaABYAEwAUABoAEwAAAPn/9P/0/wwAEAAQABQAHQAkACoAHgAPAAQABgAIAAwABAD6//n/CQAaAB0AFAAMAA4AEgAZABwAFAAJAAsADQAPABAACwAHAP//DAAIAAUAAQALABIAHgAdABMACgD2//L/9P///wgACgALAAEA8P/x/wAADAAYABsAGQAPAAUAAgD6/wYAGAAhABAABgDy//H/9P/6/wMAAwAFAAEA9v/+/wcACAAOAA8ACQD+//P/+f8NABEACwAGAAQAAQARABgAGgAMAPX/7P/y//L/AwD///3/9v/x//L/EwAgAC8AKAD7/+7/6v/9/ykALgAWAAEA4P/U/9v/5f8KABMAIAAiAAwAAAAAAAcAEAASAAUA9//6/wMAFgASAAYA/////wgAGgAiABoAFgD3//P/7//4/xQAIgAeABMA8v/h/+r/+f8bACMAHgAWAA0AEQAcABoACQD2/9X/2P8FACMAQgA+AAgA8f/U/+L/FgAqAEAANQAeAA4A6f/h/97/4f/5/wwAFQAUAP7/AwAQABsAGQAMAPb/9f8KABcAIgAmAA4A/v/t//H/9f/7/xIACgAFAAUACAAOABgAGgAKAAIA9//5/wEAEgAcAB8AHgAXAAgAAgAEAA4AFgAbABsAEQD6//T/9f/6//r//v8EAP7/BAAWAC0AMQAhAA8A8//x//3/BwAYABsADAD///j/+v8FAP//BAAJABkAHwAoACQACQD5/+n/5P/y/wAAGAAcAA0ACAD2//b/AgAHAA4AFwAoAC0AKwAkAAAA8v/p//T/EgAcACYAJAARAAAA8//w//P/+/8IAAgACAACAAoACAADAAMA//8GAAwAGAAnACwALAAkAAsAAAD0/+n/7f/5/wcACgACAAUA///5//z/AAAFAAcAGAAbAAkABgAJAA4AEQAKAPv/9P/y//H///8LACEAIgAYAA8A+v/s/+3//v8iACcACQDz/9T/0v8AABcALgArABcADgD7//b/9P/y//v/9//7/wMAFQAaAAsAAQDm/+T/5P/0/xsALQA9ADwAFQAAAN7/3v/p/+7//f/2/+v/8f/+/woADQAKAAwACgAKAAgA+f/0////CAAXABgACwAHAPf/+f8BAAMA+/////7/BwAKAAsA/v8DAAAA/f/w/+n/9P/+/xoAJAAkABcADAAHAAoACwAFAAEA7P/p/+v/9P8LABcAGAAKAPH/7v/8//3/GwAkAB0AGwAQAAcA+P/0//X/+P/7////DQAPACUAJQATAAAA6//j/+3/+P8NABEAHAAiACIAHAACAPn///8JABoAJQAhABwAEwAKAAAA/v8DAAsABwD8/+//4//3/w4AJwAuACYAGgD7//f/CgAZACQAJAAQAA0ACwAVACQAIQAPAAMA3//e//r/CQAjACIAIgAUAAoAAgD7////CAAHAAMA/f///wUAGQAhACAAGgAOAAUABgAKAAcACwAVABwAIgAdAAgABAD+////DAAOABQAFgAWABYABQD9////AwALAA4AEAALABEAGwAfACIAHAAYABYAFwAXAB8AHgAOAPj/6//l/+r/CQAeACsAHAAEAPj/AAAUADQAPAAnABQA9v/y//f/CQAfACQAEQAHAO//6f/0/wEAFgAaABIAFQAQABIABwD9//T/+v8MABYAJgArADEAJAAKAPf/3v/q/wcAFAAlABoA/f/t/+7/8v8DABEAGQAZAPr/7f/u//b/IgAtADkAKgD3/+n/6//w/xUAHgAeABcA///w/+7/9P8QABgABgD7/+r/9P8WACkANwAtAAoA8f/g/+b/BwASACEAGgD5/+n/4v/q/w0AGQAVAAgA6v/c//n/DgA0ADwAKAAVAPH/6//u//n/HAAlACAAFwD///T/6P/l//P//f8GAAoA+v/0//P/9v8SAB8AJwAbAAoAAgD8//T/9//4/w8AGAAlAB8ABQDy/+D/3f/l/+n/AwALACcALwAnACAA/f/v/+L/5f/9/xIAOgA7ACYACQDn/+D/5f/w//X/6//o/+n/CQAVACYAHgARAA0A///3/+//7P/2/wEAGgApACIAHwAEAPf/5//k/+z/8/8HAAsAEQAdABwAHAD8//T/+f/+/xgAHgAeAA0A+P/v////DQAeACQADAD///H/5P/j//P/BwAZACQAHgAJAPr/+f8CAA0ACwD///T/+f/8/xsAKQA6ADkAEQDv/9b/2P/3/w8AOgBEADIAIgAEAPP/6v/j//D/9P/6/wEADgAUABsAGwAEAP3/9v8DAB4AMAAuACkAFwANAAgABAAMABcAGQASAAEA9v/p/+n/CwASAB0AIAARAAgAAgD//woADwAUABcAFwAbACAAHQAUAA4ABQD9/+7/9f/z//z/EAAPAAwABgD1//P/+/8HABcAFwAQAAMAAAAJAC0APgA8ACoA+f/a/77/wf/x/wcAMQA2AB0ADQDs/+D/3f/l//X/BQAiADAALwAtABkADQD7//L/5v/r//b/AQAWABQADQARAP3/+f/u/+7/5//x/xQAHwArACkAEQAIAPH/7v/6/wQAEgAPAAEA+f/2/wAADAAQAAIA8//h/+j/BwATAB8AFAAEAPT/7f/1/xEAGAAKAP7/4v/h//j/CQA1AC4AEwD+/+z/7P8KABAAEgAPAPr/7//x//r/CAALAAgA/f/x//n/BAAVAA4ACADx/+r/9P/6/xkAHAAZAAkA7//j//j/+f8UACIAIAAWAPD/3//Z/+P/BAAOABkAFwAJAAAA6//n//P///8RABcAFwAUAA8ACQD8//T/3f/f/+r///8QAA8ADQAEAPH/6P/o/+v/CgAWACQAIQD5/+r/7P/2/x4AKQArAB8A+P/o/9r/3v/x//7/GwAcAAsAAADs/+T/4v/q//b//f8NAA8AEAAMAAEAAgABAAoADQAHAAIA9v/q/+j/9v8AABAAFAAEAP7/8v/q/+3/7P/q/+z/BAATADQANgAaAAwA5v/W/9f/5P8FABUAKwAkAAMA9//t//b/BAAIAPT/6v/m/+//CAAdAB8AEgDz/+P/3//i//r/EQAWABkABgABAAoAEgASAAYA///0//H/+v8XABsAEAAWAAgAAgDv//D/+f/6/wMA+P8BAAMAEQAWABgACwD6//n/9f/5//v//P8QAB4AJwAmAAIA8//c/9z/+v8LAB0AHwANAPz/5P/o//X/BwAYABQACAABAPj/AQATABsAFQAVAAQA+f/+/wUAFgAYAAAA8f/c/+L/DQAiACcAGQDr/9//6P/9/yYAKQAgAA0A6//k//L/AwApAC8AEQD//9r/3f/6/xIAIQAeAAAA8//6/wAABwANABIAEgALAAcABgD//wMABAARAA0AEwAcABQABgDz/+j/7//1/xYAJAAbABoA+P/s/+f/7P8FAA0AIgAgABIADQAEAP//8v/q/93/4f8GABkAIwAZAO3/4P/U/+H/DQAbABwAEQD4/+3/8v/5/xgAGwAhABUA9v/v/+f/9f8HAAgABAABAP//AgD8//j/7P/q//L/9v8WABkAJgARAOj/zv/A/9T/BwAaACsAJgAFAPD/5v/u//n/AAATABYADQAIAPX/+v8CAAUA/P/3/wEABAAKAAYA9v/m/+X/9P8eAB8AFwAPAOz/5P/y//7/FwAcAAoA/v/o/+b/+v8DAAgA+//l/9r/4//z/xsAHQAbABEA+f/x/+//7f8FAAsABgADAPb/+f/5//z/9//1/+b/5P/+/wwAHAAbAAwA+P/d/9f/7f/6/xQAHgAaAAQA8f/t//j//v8MAAIA8//w/+7/9f8IAAwAEAABAOf/3P/v//j/CgASAAUA8v/j//D/DAAUABcADADv/+v/6P/w/wkAGQATAAwA8v/p/97/5/8AAAoABQD5//D/8f8CAA4AGQAeABUACAAAAAUA/P/7//X/8P/6//r/AgAOABcADwD8//P/5f/m//3/CgAmACoAHwAVAPb/8P/3//f//f8AAAMABAAWABgADgALAPD/6f/o/+z/BQAQABgAHgAaAA8A8//1//H/+v8VABcAAwAAAPn/AgAJAA0ABAD9//3/AgAVABcADAACAOj/7P/8/w4AIAAiAAgA+P/e/+T/+f8JACgAMAAaAAwA7//e/97/6f8RABUAEgAMAAAA+f/w//P/6P/q/+7/9/8DAAwAHQAfAAwACAD1//D/9P///xMAFAAOAAkA+f/5/wYABwAGAPf/8//t//f/AgALAAQA9f/0////BgARABAA+f/u/+v/+f8UAB4AIAAQAPb/9P/x//b/CAAMAAwABwD+//j/9//+/xYAGwAVAA0ABwAJAAYABwD7/+v/9f/8/xgAJAA1ACoADQD4/+H/1//k/+v//P8MABYAEwAJAAIA+v/5//b//f///wAABwAPACIAHgABAPL/5f/o//r/CQARAA0AAQABAAoACgAKAAMA/v////f/9//8/wEABAAFAA4AEAAKAAkACQAHAAAA+f/4//j/AAAHAAYABAALABMACgAHAPj/8f/1//v/DgASAA4ABgD1//T/6//x//j/AAD7//X/7//x/xgALQA1AC4ACwDx/9v/4v/5/wEABgADAPr/+/8JABUAHQANAOP/y//H/9T/HgA4AEoAQAAOAPH/2//Y/9z/6P8DAA0AEgARAAcA+P/o/+D/3f/d/+///f8ZABsAFwASAAkABAD9//b/8P/u//b//P/+/wwADAANAPX/7P/l/+f/AQASABMAEQABAP3/DAAQABcAAQDt/+b/8v/8/xIAFwATAAYA7P/o/+///P8ZACMAHQASAAAAAQARAA0AAgDy/+n/6/8AABYAIgAgAAgA+v/i/+L/AAATACQAJQAVAAYA8//v//r/BQAIAAMADAAQABcAEwADAPf/6P/l/+///v8ZAB8AFgASAAcADAAPABQACAD6/+///P8PABkAFwAIAOf/3v/i//D/CgANABAACQABAPn/DQAXACgAKgALAPr/5v/y/xAAIQAzACkABgD2/9z/3f/1/wEACAAIAAwADgAUABMACgADAPX/+v8NABsAKAAnABUABQDw/+3/6//6/xEAGQAXAA8A/f/6/wEABwAQABAADAAOAA8AFAANAAEAAAACAAgAEwAiACEAFAAUABMADAD8//D/6P/s//j/EQA2AEAAMgAjAPD/3v/Z/+b/FwAuADwAMgARAAMA+//7/wcACgAAAPz//P8PADMARwBIAD8A7//a/8j/0P/4/wsAIwAjABEAEwATABUAGwATAAAA7//U/9H//f8WADoAPQAdAAgA6P/j//L//v8KABIACwAFAPb/9//x//T/7//3/wYADwAJAA0AAgD8//z/AwAbABgADQD//+T/3//d/+f/AgACAAkACwAJAAcADAAHAAMA+//1//f/CAANABEAEAD8//T/+P8GABAACAD9//P/4f/b/93/4v8BAAYADgAHAPb/8f/1//7/GgAgAB0AEgABAPv/AwACAAYA9//e/9v/6f/x/w4AFAALAAMA8v/v/wIADQANAAoABwD9//f/+P8JAAwADQALAP3/7v/h/+L/8P8DABYAIgAeABMA8//i/9X/2v8FABUAIAAcAAsAAwAIAA4ABQD4/+P/2//i//X/HgAvACoAIQDt/9P/u//H//X/CAAjACMAEgAAAAQACAAQAA4A+//p/9H/1/8GABsALgAnAAMA6v/R/87/7v/5/wcAAwD7////BwARABsAFQD0/+v/6//z/w0AEQAaABIAAgD8/wcAEQAGAPb/4P/f//X/BQAWABwACAAAAAQABgABAP///P/3//3/+/8HABAAGAAYAA8ABgDw/+n/8P///xMAFgAMAPv/7f/2/wMADwAWAAkA9//r/+///P8kADEAJAATAOz/5P/y/wAAFAAQAP3/7v/1/wUAHwAkAB8ADgDm/97/6f/8/yMALAAmABAA6v/k//r/CAAPAAUA8P/l//H/AQAeACcAHgANAOz/3//h/+3/FwAjACwAHwAGAPr/8v/3/wUACAAAAPr/+f8BABEAJAAhABcA/v/u/+j/7v8GABAAFwAcABQAEAD5/+7/5v/o//n/FAAfABkAAAD4/+T/4/8BABAAJgApABQAAgD0//v/BAAHAP//+v/p/+j/BwASACkAKAABAOX/0//b/wMAGAApACcABQD2/+7/9/8FABEAEgAJAPT/7//3//n/CgAHAAwABADz//L/7//m/+//8/8HABAAJAApABcACwDi/9f/3P/r/xEAHAAdABYA/f/x/+v/7P/z//T//f8JABgAGQAAAPj/4P/a/+//AQASABAACQD+//D/7//6////FAASAPj/8v/p/+7/BQAHAA8ACAD0//f/AgAFAAsABQDo/9r/3P/4/yEAMAAkAA8A3f/O/+D/8v8cACgAIAAOAPr/7P/t//H/9//1/+v/6//w//D/8v/4/wIA//8EAAAA+//3//b/+P8AAAIAAwAMAAwABwABAAAA+//2/+n/5P/e/+r/+/8AAA0AEAD7//f/9//z/+z/8P///wcADgALABEACAD6//P/7f/p/+j/7v/8/woAFwAUAPz/8v/w/+3/8v///w0ABQD///n/9v/4/wYADgAIAPz/5v/c/+H/6//9/wQADQARABYAFwAUAAcA8v/q/+3/7/8CAA8AKAAnAAMA8//N/8H/1v/u/xgAIQAhABgA9v/r/+3/+f8NAA8ACAD8/+v/7v/+/wAABgAGAAkACQAMAAAA6f/V/8//3P8EAB8ARABEABYA8//V/8//6f/+/xgAFwAFAPX/8f/u//7/+//x/+7/7v/1/wIABwAUABcAAgD7/+//6v/2/wcAFgAVAPz/9//r/+v//P/////////s/+r/6//2/wQAAQANAAgACQAGABQAHgAgABYA+//1/+//9f/8//n/5v/c/+b/7f8MABYADQAAAPb/9P/9/woAHwAkABMACwD4//T/AgALABgAHwAPAP//4v/Z/+n/+/8MABEAAgDz/+z/7f8FABEAIQAZAPv/8v/r//j/EQAbACIAEwD6//j/9f/6/wAA+//8//X/+P/9/wAAAADz/+//+P8CABMAFwAPAAgA/f/2/wEA/v8JAA8AGAAWAP//6v/Z/+P/9f8CAAwACgAPAAoACgABAPH/4v/W/9z/8/8BACAAKAASAAEA6v/f/+X/6v8FABEAEQANAAYACAD2//b/8//p/+P/7/8FABAAIgAfAAYA8f/U/9j/7////wMA/f/6//f//f/7/wIACgAHAAgA///9/wMAAAACAAIA6v/f/9//4/8HAA4AEQAGAOX/2f/i//j/DgAaABAADQD0/+7/+v8HABEADQD8//j/6f/n//L/9P/6//f/+v/x//P/7P/m/+j/5//y/wYADAARAAwA/P/7/+7/6v/y//b//v8BAP///P8DAP//9v/5//H/8P/y//L/6v/m/+P/5P/1/wEA//8DAAcA/f/6//P/6f/j//7/DAATAAwA/P/y/+r/5f/w//D/7v/p/+3/8//6/w0AEQAJAPP/7v/t//b/FwAgAB4AFgAAAPn/7v/y/wkACQD7//P/6v/h/+7/+P/9//n/+P/2//n/CgATABAA9P/s//j//P8MAAoAEgAIAAMAAgD4//T/9f/9/wAACQAFAAAA8P/2//H/9P8GAAoAFQAaABoADADp/9//5f/0/xYAIQAiABsA/P/q/+D/5P/1/wMAEgASABcAEAAGAAQA+v/0/+n/6/8HAA8AGQAWAAkA8P/c/9n/6f/8/yoAMgAeAAsA4f/Y/+z//f8SABQACQAKAPD/8P/y//r/6v/u/+n/8v/9/wkAFgAUAAMA/f/v/+v//v8IABYAFAAJAAEA8f/y//z/AgD7//T/5v/r//f///8QABAAFgARAAMAAgD6//T//v8IABcAHQAYAA8A9v/n/+L/4//t//X/EAAYABQACwD4/+z/9/8EABUADQD///v/CAALACYAIAARAPz/5f/f/+n/8v8CAAUA/P/2/+v/8/8KABEABQDy/+T/3f/4/xkASQBKADYAHADq/9b/5P/r/wEACwANAAEA+v8BABUAFwACAOv/1v/a/wEAFQAkACQABgD5/+L/4v/t//T/AAABAAAA/f8CAA8AFwALAO3/3//Y/+L/CAAaACcAIwAOAAAA9P/w//P/8////wgAEQARAAsABQDZ/9H/yP/T//f/DwAmACEA///5/+n/7f//////AgD+/wQAAgAAAAYACQANAAEA+v/v//X/BAAFAPP/4//L/83/7f8HAB4AFAD4/+b/4P/g//X///8OAA8ACwAHAPX/+v/9//7/+P/t/9z/4P/6/wYAFAAQAAgAAQD2/+7/7f/x//v/BAAQABEAFAAOABEABQAAAPf/7v/o//P///8UABEADAABAPH/7f/z////DAAJAPf/8f/2/wAADgALAAgA/v8BAAMACgABAPP/8f/5//v//v/8//T/7P/q//b//f/8/wIACQAKAAoADQALAAUACgAJAAAA6P/v//7/BQASABEACAD8//H/7//x/wMABQAMAAoABQDu/+z/8P/z//P/+v/0//T///8BABcAGQAYAAkA6v/d/+H/9P8RACQAHQARAP3/+//7//j/8f/3//T/9P/p/+b/6v/r//7/CQALAAoA+v/1//r/AQAYABQAEAANAAEAAwAGAAcA/P/7//P/7//5//v/FgAYAAMA/v/u/+7/7//3/wQAAAD///r/CQAKABEAFAAKAAgABAABAPv/9P/v//D/+v8GAA0AGgATAAMA7P/n//X/+v///wIADwAOABgAFAAOAAUA/f/9/wYACQAVABEA///6//H/6//5//n/CwAJAA0ACwD4//D/9/8BAAsADQAXAAwAAAD4//H/+P/+/wAA//8CAA4AEwARAAMA7f/o//X//v8HAAgA+/8BAA0ADAAPAAkA/v///wkAEAAKAAQA+f/+//f/+f8AAAUACQAPAP//9v/i/+T/AQAVADUAMQAMAPL/0P/N/+H/8/8UABkAGQAUAAoACAADAAgA9P/s/+L/8/8XACgAJwAZAO7/4P/i/+n/CQASABoADgDt/93/3f/w/xAAFgAMAP7/2//f//7/GAAoACQAEAAFAPL/8f/z//n//f/8//j/9//8/wMAGAAZAP//7v/f/+T//f8NACoANAAmABkA+P/s/+D/6P8OABgAIAARAPn/5//X/97//v8OABgAEAAAAPj/9/8CABQAGgAHAAAA7v/s/wYADQALAP7/8//v//L/+v8FAAQABgACAPT/8P/q//P//v8BAAsACQD5//7/DQAZACMAHAAGAPb/3//c/+v/+/8HABIACgAAAPj/8f/2//j///8CAAUABAACAPv//P8BAAgACAAGAAAA9P/z//7//P8GAAMA+P/z//v/+v/s/+n/4//i/+r/9v8PABcAIAAiAA4A/f/n/+r/AgAIAAkABwD0//L/6//t/+7/8v8EAAcAAgD9/+//7P/2//3///8JAA8ACgABAPr/9f/z/wAAAgABAAMA+f/9//X/8//g/93/4f/l//f/+f8WACIAIQAVAPP/3//Q/9T/AAAKABoACwDx/+n/8v8CABIAEADz/+X/z//Y////GAAwADMADQDt/8v/wf/Z/+j/DAARAA4AAADu//T/9v/8//z/8v/f/+P/+P8ZADMANAATAPv/zv/C/9v/7P8AAAgADwAGAPj/7f/i/+b/9v/7/wEA///7//j/9P/4//X/9P/x//b//P/8/wgAAwDy/+v/5//t//j/+/8LAAoA/v/v/+L/5v/s//L/DQAOAA8AFwAKAAIA+v/0//H/9v/7////CgAQAPz/+P/m/+T/5v/q//b///8EAAYABwD+/+3/8f/6/wgADQAYAAgA///2//T/+//1//X/7f/m/+f/5v/j/+v/7P/2//3/DQAPAAkACgDy/+r/4v/j//f/AwAaAB0AEQAEAO7/4v/d/93/4f/j/wIACwAaABgACQD6/9r/1P/a/+P/+v8JABoAFgD4/+//6f/x//r/9f/h/93/4//u/xMAHQAYABMA7v/d/9X/2//6/wIAEAAIAPT/8//x//T/+//y/+v/3//j/+n///8CAAYAAgDr/+L/5v/r/wAACAAXABAAAQDz/+f/5v/y//b/AwAKAAUA/P/v/+n/8v/0//v/+//j/+b/8f/7/xQACgD1/+z/3//h/+r/8f/9/wYACAAGAAEA9v/m/+n/8P/3//D/9//1//j/9//0//r/+f/4//f/7//v/+P/4//y//b/BgAPAAQAAADz/+7/7P/1/wMACAANAAoABwAEAPP/5f/R/9P/2v/q/wkAFQAOAAEA9f/2//T/7//5//z/AgADAPb/9f/4//7/AwAKAAoABgD1/+//5P/j//D/9f8LAAwADwANAAkA9v/k/+n/5P/q/xEAIgAhAB0AAwDy/9X/0v/N/9r/+f8LABsAEQD3/+j/2v/d//b/AQAGAA8AEQAKAPn/+v/5//z/9v/x/+n/6P/y//v/BQD//+//6//w//b/BAACAAQA/f8BAAEAAAADAPf/9/8BAAIA8P/1//T/8f/t//D/8v/1/wEABgADAPX/8f/z//7/AgAOAAUA/v/2/+v/7v/4//3/+//6/+//8f/v//T///8DAPj/8//0/+z//f8CABMADwD7//P/4P/l//z/BgAOAAIA4//f/+v//P8XABQA/P/q/97/4//+/xYAJwAmAAwA/P/k/+j/7f/5//3//f/w/+z/+f/9/w0ABQDw/93/3P/k/wMAEAAjACIABgDv/9X/4P/6/woADQABAO7/4P/m//D///8HAAYABADv/+z/9//7/w4ADQD2//H/7P/y/wUADgAGAPz/7P/s//z/AgAHAAkAEAAJAAMAAAD0/+3/+v/6/wgADwAaABsA+v/s/9T/0v/t/wAAFAAYAAsAAgDq/+//5P/m//D/7//y//P/BQAUABsAGgDw/9v/zP/W//v/EQATAAYA7P/l/+b/6//6//j/9v/y//P/8P/6/wEACwALAAQABAABAAYACwANAPr/6//g/93/7v8BABQAFQD7//H/5f/e/+3/AQAOAAwACgAIABYAEwADAPr/7v/u//j//P/1//j/9P/3/wgABgAGAPz/6P/k/+T/5f/z//X///8LAAoA/v/y/+n//f/+/wMAAwD+//j/+P/6//7/AQD8//b/8P/z/wQACQAJAAAA6P/h/+j/8v8LABAACwAIAPj/+P/7//j/CwASABkAEAD8//D/7P/w/wMAAwD2/+3/8P/5/wUACwAGAP//BQAJAAoACgANAA4ACwANAAoA/v/3/+3/8P/v//n//f8GAAkAGAAbABEACwACAPr/6f/y/woAFwAxADAADwADAPT/8//l/+v/+f///w0ACwAIAPn/AwAJAA4AEAD+//z/BAAJAA4AFwAGAAoABAADAO7/8f/z//H/9v/s/+f/4P/z/wcAHgAgABwAFAD3/+j/7v/w/wQAFwAkACAAFQAKAAMA+//u/+b/3//f//L///8bABgACwAFAP7/9P/z//L/9v8BABEAFAADAAIA/P8BAAIAAADw/+f/3//l/+3//P8bACAAHQAQAPT/6//y//D//f8AAAUABwASABUAAQD7/9r/0P/O/9j//P8MACAAHwATAAkA9v/3//z//P/u/+7/8P/7/xcAFwAFAPv/7//t/+3/7P/g/9j/4P/3/xkAIQAsACoADQD4/9r/1//o/+//GwAaAAcA/P/9//r//P/4/+j/2//d/+b/9/8IABMAFAAGAAIA9//0//n/9P/w/+b/5f/g//j/EAAiACMAEwAAAOj/5P/d/+D/4v/i/+v/8P8DAAYACwACAOn/3f/a/+X/9P///wsAEAAMAA0ACAABAOL/0v/R/83/3//p/w4AGAAbABwABwD3/9n/2f/Y/+L/9v8IAAwAFgALAAYA8v/q/9//5v/6/wAAAQACAPb/9////wIACwAKAPX/6//c/9r/6f/w//3/+//0//L/7//t/+//8v/6//z/AwAJABwAIgAiABoA+//i/8j/xP/e/+7/BAAHAPL/5f/k/+r/+f8BABAAEgAXABIABwAAAAgAAAAGAP/////4/+D/2f/S/9X/7P/7/xMAGwAYABMACQADAAIA/v8EAAcADgAMAAYAAADz/+j/3f/Z/+f/6P/1//P/8//u/wMADgAlACEAIQAbAAkA///o/+D/yf/O//L//f/8//j/3P/N/8f/yf/s//r/FgAlADkANQApABMA6f/c/+L/5f/9//3/+v/w/9T/0P/H/8//4P/p//T/AgATABsAHQAdABUADQAEAAIABAD6/+z/4P/n/+P/7P/t/+n/5f/Z/93/6v/6/wIAAwD8//z/AgAIABgAFwADAPT/6//s/+b/5//s//D/BQAEAA8ACAD2/+f/5//n//3/DAAcABwAFQAPAPT/7//i/9v/2P/T/+H/7P8UABkAIwAXAP//9//q/+z/+/8GABMAEwAVABwABQAFAPT/7//s/+j/2//S/+3//v8hAC8ANgAcAPb/4//h//H/EQAhABoACQD5//H/7v/r/9z/2P/c/9r/6////w4AEgAEAAAA+f8KAB0AKAAXAAAA2v/Q/+T/8P8AAAsA9P/q/9X/2f/q//j//v8JABMABQD3//j/AgAQAB8AGQADAPf/2v/b/+f/6P/o/+z/+P8FABQAIwAiABIA5v/b/+H/9v8oADsANgAWAN3/zP/M/9L/4f/e/+T/6//+/xAAHgAWAPj/6f/j//P/EwApACoAIQAFAP//7//q/9T/1P/Y/9n/9f/7/xMAFgANAP3/7v/n//D///8hACoAKAAkABEA/f/s/+D/1P/Q/9v/4v/x//n/+v8AAAkACAD+/wAA9//7/wUAAgAIABEACAANAAsA/f/f/9f/0//X/+n/+v8FAAIA9v/2//n/AgADAAAA5//i//P/CgAdACYACQDw/9H/yf/h/+j/AQD+/+7/6v/u//X/+v8JAAQAAAD4//7/BAAGAPb/6v/V/9H/3P/s/wEAAgD+//v/9/8AABMAGgARAAYA7f/r//r/BQAbAB0AEQACAOD/0f/K/87/4//0/woADwAQAAcA+v/x/+r/7v/z//H//P8CABwAJAAfABYA9//o/9L/0P/c/+L/7v/1/wsADwARAA8ABgD//+n/4//u//X/EQAZABcAEAD4/+3/8//0/+//7v/k/+T/9v8BAB8AJwAZAAwA5//b/+L/6v/x//b/9//z//b//v8HAAwABAADAPP/6//q/+7///8MABQAEAD3//L/5//u//D/7f/g/9f/1//m////+//7//f/6v/x/xAAFAAbABcABAD+//z//f8AAAIA/v/w/+P/2v/b/9X/1f/X/+n/8v8PAB0AHQAYAAgA/v/6/wAACwATAAwACgDr/+D/2v/b/+z/8//x/+z/3P/k/+7/+f8JAAcACwAMABIAEQAEAPz/AQD//wMAAQAJAAQA+v/v/+H/1//N/9//AAAPABgAEQD+//n/7//0////DAAGAAIACwALABAABQDx/9v/yP/U/wIAHQArAB0A+P/0//j/AgAZABgA+P/w/+b/7P/u/+//BwAMAAsAAwDz//D/5//t/wMADQAYABoAKAAnAAsA9f/e/9v/5P/y/woACAD3/+n/5P/i//H/+P8AAAEABQACAAYADgANAA8ABQAGAAcABQAHAPz/5v/d/+z/9P/x/+7/6v/u//j/+//u/+7/+v8JACUALQARAAEA8v/0//j/8f/h/93/4f/l//n/AQD5/+3/5//j/+3/8v8FAAwADAAEAPP/+//8/wIA+P/v/9T/zv/c/+X/AgAMAA8ACQD1/+X/6//t/wEABQAMAAcA9//y/+T/5P/k/+T/9//9//X/6//i/+7/AAAMABgADwD4/+r/+v8KAA8ACgD3/+r/2v/V/+H/4v/4//f/9//1/+v/8P/5/wgAEgAFAP//AQAKABAAEQAHAO7/6v/n/+j/5f/k/+r/7P/n/9//4f/k//L/+v8PAAoABAACAAcACgD+//j/5P/k/+L/5v/w/+z/5//k/+D/3f/r//f/DAAQAA0ADAAHAAQA+P/y//H/8v/6//7/9v/u/97/2//n/+n/7v/2/wAA//8CAPr/+//2/wEACwD9//X/6v/y////CwAEAPf/4//h/+T/6f/y/+z/9f8EAB8AJwAeAAsA7P/h/+T/7/8MABUAEwAFAOb/2P/a/+T/8f/3/wcAAAALABQAFgAYAAYA/P/1//j/8f/r//z/+//4//j/5v/k/+z/8P/2//f//P/7//X/9P/w/+//DgAbACYAHwADAPb/5P/h/+r/7f/s/+7/9v8BAP7/8f/g/9//9P8DABMAFwARAAwAEwAaABkAFgD8//H/2P/X/+H/7v8GAAsA+//1/+X/4//t//j/AQABAAwAEwAcABsABAD0/9//5v/n/+v/AAAGAAsABgDx/9//zv/R/+//+v8TABwAGwAXAAgAAAD7/+3/1f/K/9H/0//9/wYAFgAOAPv/8//s/+///P/+//7/9f/5//3/BwANAAcAAQDk/9j/0f/M/+j/8/8HABAADQAGAAgACgD8//r//P/7/wAAAQD//wIAAAD9//z/9f/l/9v/1//b/+X/5f/t//P/CgAPABUAFwARAAsA+v/1/9j/2P/W/+f/BgAPAAcAAADY/83/0v/U/+z//f8JAAEA+P/6/w8AEgARAAMA9P/k/93/4P/z//r/BwADAOr/3v/N/83/5f/y//n/9//q/+n/AAALABsAFQDz/+r/5f/q/+3/6f/S/9f/9f8DABAADgDt/93/x//K/+H/9P8FAAwAAgD+/+f/3v/Y/93/2v/g/+r/9/8QABgAHAAPAOj/3v/U/9T/6f8BABMAEgD1/+v/3f/g/+j/6P/X/9v/3P/d//3/AQAFAAQA+//z/+z/9P8FAAsACAAAAOL/2P/e//D/CgABAOP/0P/U/9r/+v8JAA4ABAD0/+3/6P/r/wYAEAAgABUA9//g/8b/y//g//D/CgARAAkA/v/n/+v/6P/r//v/AwALAAsAGQAeABkADQDs/9j/1P/c/+b/9f8EAAcA/P/2/+L/4v/g/+z/CAAHAAYAAgD8//b////+////9/8BAAIA8v/n/9n/1v/b/+X//f8HAAIA/P/n/97/4P/u/wYAEwAQAAIA7P/r/+n/6//j/+f/6P/p//j/+//+/wIADQAIAAQA9f/u//L/BQASAAAA+f/h/9j/2v/c/+r/7v/o/+v/4f/m//v/CQAgAB0ACAD7//P//P8MABMACQD6//j/9/8AAPr/6v/f/8b/wf/S/+P/+/8BAA0ABQAJAAIABwALAAcAAgDt/+n/9f/4//3//P/m/9z/zv/P/93/4/8DABIAHgAcAA8ABwD2//P/9P/4/wEA/P8NAAwA+f/l/8r/w//V/+P/+P/+//3/+v/x/+7/9f8CAAMADQADAAEA+//9/wIA/v/q/+b/0P/Y//D//P/+//P/4v/S/+P/7f8RACAAKwAeAOr/0/+//8L/8f8GABEADgDr/9v/0v/N/+D/6/8HAAIA/P/2//3/CAATABEA/f/p/9b/0P/g/+v//P/8/+r/5v/f/+H/6f/z//v/+f/2//P/AgAJAAsABwD8//H/5v/o/+X/7//0//r/8//x/9T/0f/g/+j/BgANABQACwD7//T/4f/d/+P/7v8LABAABwD5/93/2v/Y/97/6//y//b/+f/9/wQACgAJAPz/9v/s/+z/9f/7/wAA8//b/9X/2f/o//v//v/y/+7/0//W/+j/+/8TACEAEgAHAOT/4f/s//X/BwAFAOj/1f/X/97/6v/4/wUABgDz//D/1P/X/+j/+f8WACIAJQAbAPH/4P/P/8r/3P/r/wEA/f/v//D/9f/6//j/9P/n/97/6v/1/xAAFwAJAP3/4v/Y/9n/5P8NABYAAgDv/9L/z//g//z/HAAdAPv/8v/m/+X/5//1/wMAAgAPAA4A/f/0//H/6//w/+v/4//r/wMAEQAXABAABgD9//j/7//v/+3/8f/8/wAAAQDu/+X/7f/s//P/9f/z//n/CQAUACgAKAATAAcA8P/f/9P/2v/8/wcAEgAIAOb/2v/a/93/8v/2/wAA/P/9/wEA/v8DABkAGQAaAA4A9v/r/9H/zv/X/9n/5v/5/wwACADw/+T/2P/j/wYADQAYAB4AJwArABMAAADO/8D/vf/O/+b/8f8FAAQA7v/a/9X/2//w/wgAGwAYAAkAAQD+//3/AQAAAPz/7//f/93/z//S/+H/7P/1//n/5v/c/83/2P/t////GwAkAB4AEgD5/+z/5P/p/+f/4f/J/83/2//g//P//f/8//7/7v/n/+L/7//9/w4AGQASAPz/9P/9/wMA/P/0/8T/u//E/9D/9f8DAP7/AQD5//b/7v/2//f/AAD9//7/+//6//b/9f/0/+v/0//R/8r/xv/R/9X/6v/z/wQABQAKAAsACAAJAO3/4//k/+3/EQAZAAsA9P/N/73/xv/Y//n//f/v/+n/1v/T/+L/7v8HABQAFgAXABIAAgDv/+L/yP/L/+b/9f8EAAUA7P/W/8T/y//t//7/BgAAAOn/4v/3/wUAGwAZAP//6P+8/7P/yv/c/wMAFwAZAAUA5P/a/9b/4f/0////9f/0//H///8cABcA9P/Z/7z/x//s//7/EQALAOv/4P/i/+n/8/8BABYAGgAdABgA/f/v/+H/4f/n//H/BAAOAPf/7f/d/9P/4P/z/xEAGAAMAP3/5//q//7/CQALAAAA7f/g/9f/4v/6/wsADAADAOX/3v/m//D//P/8/+b/4f/u//z/FgAQAAEA8//V/8X/2P/n/wQABgD8/+z/0f/P/+3/+f8FAAsABAD8//f/9f/r/+n/5f/l/+b/5P/n/+P/6f/n/+r/7P/3//v/+//y//H/8P/y/+//+P/3/+3/7v/u//r/7v/p/93/2f/a/+z///8GAAMA+//m/9j/3P/i/wUAEQAWAAwA/f/1//T/9P/2//D/1v/R/93/6//6/wMAAQD///H/9P/r/+v/9v8EAAsABQD4//P/9f/4/woAAwDv/+b/4//p//b//v/9//j/5P/g/+//8P8EAAUA9f/z/+v/8//2/wAAAAAGAAQA/v/p/+n/2//k//H/9/8BAAIACAACAPz/8//d/9v/5//x/wEACQD3/+z/5f/i//L//P8FAAgA///4/+z/7P/6/wcADwAOAAEAAwD+//j/3//O/8L/xf/k//X/DgANAPz/8f/f/9//6f/4/wcACwANAAgADAAXAAoAAQDY/83/xv/W/+3/9f/9//f/+P/7/wUAAwDv/+L/zf/M/+r//f8fACUAEwAAAOv/5f/p//D/8//q/+r/7v8OABQAEgABAOn/4v/h//D/CAAJAAUA9//m/+L/6v/7/x0AIAD9/+j/zf/V//L/CQAYAA8A9//t/+z/7v/6//X/5//i/87/yf/g//f/JQApABMAAQDt/+H/5//v//L/8P8FABUAOAA3ABMA+P+5/6r/tv/I/wcAGAAoABwA/v/y/+b/5v/g/93/7P8DACsANwAoABoA5P/U/8j/0//v//b/BgADABIAEwD5//L/4f/j/+H/5f/m/+v///8QABcAEQABAPf/7f/x//r/AAAIAAoAAQD9//T/9P/s/+r/3//i/+7/+/8RABIABgD7/+r/5f/m/+z//v/2//f/8P/w/+//9/8BAP7/9f/v//D//v////r/9f/z//7/DgAJAPb/7//q/+7/AAABAPX/6v/g/+b/BgANAAwA/f/m/93/6f/y/wEACgAYABUA9P/s/+j/7//3//L/5P/k//L/BAARABIA9f/t/+n/7v8MABAAGQAYAPX/5v/K/9X/5f/v/xEAEgARAAsA9//w/9//3f/b/+j/AwASACQAJgAeABUA7P/b/9H/1f8CABEAKAAgAP3/7P/l//D/BAABAPH/5P/h/+z///8TABgAEgD2/+H/3v/d//b/+v/3//v/BQAKABUAGwAHAP7/7P/e/9n/3v/w//z/CgANAAwADgAFAPz/8v/l/+f/7/8BABMAFQAMAPn/9/8BAAQACAD1/8//zf/g//j/JgApABIAAgDm/+L/8P/6/wYA/f/w/+3///8QADEAKgANAO//yf++/9H/6P8VACUAHwAWAPj/7P/q/+z///8AAPj/7f/3/wUAIgAkABIA9v/S/8v/3P/u/w8AEwAAAPj/6P/q//j/+//6//f/5P/X/+D/9P8NAB8AKwAiAAsA/P/m/9r/zf/S//H/AgASABgACwACAPP/6f/X/9b/3//r////DQAXABQACgD+//7/AAD7//r/9P/t/+D/5//q//b/AwAKAAoA/P/i/9n/z//X//f/CwAnAC0AHAAPAP//+P/n/97/2//f//f//f8XACMAIwAVAPj/7v/a/9v/4v/q//D/+v8GABIAGwAfAAsA/f/m/+H/4v/s/wgACwASABcAEwAMAAsA/v/e/9b/3f/s/xAAHwAeAA4A9//u/+n/7f/w/+//8f/q/+//AwAdACUAKgAbAO//2//A/73/6P8AACcAJwAfAAwA+//y/+r/6//y//L/9P8BABIAHAAbAAsA6//Z/8z/0f/y/wEACAADAAIA/f8JABAAEAAGAN7/1P/I/8v/+v8YADQAMAAPAP//3f/e/+T/4//m//H/BgAeAC0AKQAFAPv/3v/h/9z/4v/2//r//v8BAP3//f8OABMADgAGAPD/5f/k/+3/CgATACEAIgANAAYA7//o/9f/1//P/93///8QADAAMQAeAAYA4f/R/97/5//3//r/AgAGACUAKQApABYA7v/a/8v/0//k//b/DAAbABcAFAANAAwA/f/v/+H/2f/d/+v/GgArADUANAAWAAIA5//h/97/3v/k/+//DAAeADcAKQD7/9X/r/+q/9j/+/8gACYAFwAQAA0ADwATAAwA9P/h/8v/z//v/w0AMgA5ACYACADb/8z/1f/i//D/8f/x//D/DQAfADQALgD+/9z/s/+v/9P/9v88AEwAPwAoAO3/2//H/8v/0f/V//D/CAAjACcAIwAPAOT/3f/Z/+D/+f/+/wAA+//+/wUADQAbACAAFwDr/9z/y//Q/+L/9P8LABcAGgAUAAEA8f/f/9L/0f/a//3/DgAsADUAHwAPAOj/2v/X/9z/4//r//j/AwAoADIAMwAkAPX/3//A/8H/4f/3/xgAIAAMAAMA9f/5//j/8f/h/9z/3v/o/wIAFgAmACgAFgAJAO3/6f/k//T/BQAQAAUA///3//P/8P/x//r/+P/0//P/5P/a/+L/7/8XAC0AMgAoAAgA+P/Y/9X/5//z/xIAEwAMAAYAAAAEAAcABADq/9v/wf/S////GwA8AD0AIQAPAOD/1//K/9n/8//8/xQAGQAZABUACgAAAN//0f/V/+T/CgAZAC4ALgAdABIA9v/t/+P/5//9/wIADgAWACAAHgAIAP//4f/e/9//5//+//r/+P/4/wcAEwATABMABgD+//H/9f/0//z/DAASACoALgAWAAAA2//P/83/0v/r//3/FgAhACEAFwAEAPn/8v/t/wwADgAUAA4ABwAGABUAIAAlABwA7f/W/7r/w//0/wgAKAApABIAAwDz//H/BQAUABgAFAD+//T/9f8DACUALwAVAAAA0//T/93/7P8FABMACwABAPj/9/8BAA8AGwAUAP//+v/w//f/BAASABcAHgAVAAgA6v/h/93/3v/1//z/CgALAA4AFQAHAPz/+f/6//r//v/3//f/9v8FAC4AMwAdAAoA4v/b/+L/8/8CAP7/9//y/wMADgAcAB0ABgD2/93/5P/4/w8AHAAgAA8ABwD0//r/+f/9//T/5v/d/+D/CAAjAEcASAAkAA0A3f/V/+n/+P///wsADgATABwAJwAbAAcA2v/N/8z/2//2/w8AMwA9ADYAIgDz/97/yP/O/+v/BQAeACgAIwAUAO//3v/c/+P/9f8DAAcAAgD+/wIADwAVACEAGgASAAYA9//o/+v/7//0//r/+v8AAAMABAAEAAEA9//w//T/8//2/wIAGQAlACgAJQATAAwA8f/w//H/7/8DAAkACgACAPj/9//4//b/7f/j/9v/3//6/w4AJwApABkADwD1//P/7v/t//r///8XAB4AGQAMAOj/4P/d/+L/7/////v/AgAIAAoA+//3//v/+//8//b/+v/3/wQADQAQAAMA+P/s/+X/5v/t/+z/5//o//P/9P8CAAQABgD///b/9f/2//n//v/+/wMAAwACAPv/7v/s//L/9P/3//P/7//k//L//f8BAAAA7//s/+T/7f/0//P/5P/r//P/9/8CAAIA9f/1//f/AQD6//z/7//x//T/+v/7//L/5v/o//D/+P/8//b/2//X/+r/9v8LABcAGQAJAPX/6v/d/9n/3//p/wIACQARAAoA5//k/+j/8P/+//r/6//q//v/DAAYABgACQD7/9j/1f/e/+r/DAAVABIACADm/9b/3f/s/wYACwD4/+j/4//s/wkAHQAmAB8A+v/u/9b/z//x/wQAHwAbAA8A/v/m/+P/6v/p//X/+v///wUAFgAZABMABQD3//H/9P8LACQAJwAXAAIA5P/d//H//f8SABUADgADAPP/7f/k/+f/9f8DAB4AJQA0ADIAGQAJAPj/8P/p/+//CQAUABkAFwANAAoABQAEAPP/4//j/+j/BgAXACIAHgAPAAYACgAHAP///v/0//L//f8GABkAJgAoABwA9v/g/9P/2v/8/wsAFQAZABQAFAAWABcABwAEAPT/5v/n//v/FAAmADYAKgAIAPn/+f/2//P/8v/k/+b///8RACsAKwAmABMA9//6//b/+/8BAAgAAAADAA0AFwAjABsAAADr/9z/5P/5/wUAEgAQAAsACgAOABkADQALAPn/7//l//L/FwAjADAAJwAHAPH/7P/6/xQAFwD9/+j/3v/r/xcALgA8ACkACgDn/87/z//z/wMAFgALAAMACQATABMADgD8/9//2P/t//3/JQAmABgAAQDh/9b/6f/4/wsAAwDv/93/3f/s/wgAFAAQAAoA+v/9//v/+P/h/97/6f/3/yIAJAAbAAoA4P/Y/9r/5f8BAAYA/f/3/+H/4P/3/wIAAwD2/9T/0v/0/wsALwAqAAUA5f/V/9r/9v8FABEACwD6//f/8v/1//7/9//k/9f/z//O/+v/AwARABQADAACAPT/7v/v/+3/4f/p/wgAFgAlACIABgDw/8f/yP/V/+X/BQAIAPv/9P8CAAQABAD//+f/4v/o//b/BAAIAAUA+P/m/+L/8f/6/xgAEgAJAPP/2f/e//v/EwAfABkA/v/0/+n/8//0/+//6f/n//L/BQAiADAAHwAHAOX/1f/r//v/FQAYAAsA/f/s//L/BQAHAAgA/P/v/+v/8f/9/xgAHQAfABAA+f/t/+f/7//6//r/+v8JACQALQAiABAA5P/W/+b//P8aACsAJwAZAP//8//l/+v/+P///woABAD7//X/BgARAB8AHQAHAPn/6f/q//3/BQARAAoAAwABAAUACgAXABEA+f/y/+7/9v8SABIAFwAFAPH/6P/y//b/AAAEAA4ADAALAAgA+v/+/wYADQAWACYAKQAlAP3/6//X/9r/AQAQAB0AFgAeAB0AFAAMAP//9//s//P/+P/+/wsAFgAeACAAEQAKAAAAAgAHAAYA/f/y/wQAGgA/AEUAKAACANH/xv/b/+v/HQAtACUAGQDz/+//7//x//n/AQD+//r/BAAMACIAKAAdABYAAAD1//H/8f/+/wMAAgALAAYABgAHABEAAwD7/+j/7v/7/wgAFgAXABEAAgAKAAsABAD9//3/9//s/+3/8//1/xIAGgAXAA0A9v/v//b/AQACAP7/7f/q//7/AgAVABYA8f/j/9T/4v8DAA8AHQAVAOz/3f/l//v/GwAcAAEA6v/V/9n/AwAPABgADQD1/+//7//2/wYACgAKAP3/7f/y////DgAZABQA9//v/+P/7/8HAAsABgADAPT/8v/w//b//v/9/w4AEAAcABkA/v/y/+f/6v8CABcAFgAIAO7/6v/w//v/CAAEAO//7v/8/wYAKQAtABkABwDn/+X/6v///w0AEQAFAPv/6//t//z/BwAfAB8ACwD5/+j/5f/z//3/FgAdABIAEwADAAUAAgAIAAEAAAABAAIACgAHAAQABgD0/+7/9v/6/wQABAASABMACwAOAP3//f8KABMAFwAXABAADQAHAAIA9f/y//L/+f8dAB8AGgAOAPr/6f/j/+7//v8JABYAFwAPABIAAwAFAAkACwAIAAUA9f/2//z/AQAOAAgACQAFAA0ACwAEAPz/4//g/+f/9f8mADYALAAbAOr/2//Z/+3/EwAbAA4ACgD9/wMAHAAcABcABwDs/+n/7//z/w0AGAAmAB0ADgABAPn/8//z//j/CQALAA4AEwAbACEAJQAoABYACwD8//b/CwALACEAGgAYAA0A/f/1//H/8f8DAA4AIQAmACYAJgAXABMA/v8AAPz///8UACAALwA0ACoAHgAAAPj/6v/p////CAAeACQAIAASAP7/+f///woAGgAfACYAIAAfABwAJAAgAAkABQDu//X/DAAXACoAHQD3/+v/9v8FADkAQgAwABkA9v/q/+P/8/8SAB8ANAAzABsAGAAIAPz/+/8CAAUACAAPABIAGQAbABkAEQAAAAQACgALAAsACwANAAkABAALACUAKQAhABMA7v/o/+b/9f8ZACoAPAA8ACIAFADz/+T/4//o////FAAyADIAJQAbAAUA+//3////FAAdABUADwACAPj/CQARABoAFAAFAPf/6//8/xIAHwApAB4ADAAAAO3/5//8/wcAGAARABkAEQANAAkACQANAAMA/P/x//v/HQAnACoAIQD7/+7/6f/4/xsAIQAVAAsA9f/y//3/AAAGAAQAAAD5//H/+v8cACsALgAeAPj/8v///woAHQAeAAIA/P/5/wAADQAOAAIA/v/v//D/9f8GABcAFwAQAAsAAwAMAAsADgANAA8AEAATABAABwAAAPn/AwAJAA0ACQD//wEAAwAKAB4AHwAQAA4AAgAAAAAABAALAAsAEgAaAA8ABwD4//z/CwAZACUAKQAgABkA///2//f/8//+/wYAHQAuACsAJgACAPP/6f/2/wkADgAQABcAJgAsAB8AGQD4/+///v8MACIAKAAcABIACAAKAA4AEwAQABAA8//p//H///8yAEsATgAxAPf/3//l//P/EwAnACwAKgAaABgADQALAAEA+//5/wEAEQAYABoAFAALAAYABAAGAB0AJAAnACwAFgAKAPv/BwAZACYALQAdAP3/8f/4/wQAEQAYAAgAAwABAAkAEAARABcAHQAZACAAHwAaAAgAAQAJAAoAEgATABIAEgAVABAABgAAAAEAAAARAB0AJgAgACQAIwATAAoABAAHAAkADwATABYAFwAbABcADQAJABAAIwApAB4AGQD8//r/CwAUACIAJQAVAAMA5//g//L/AQAaAB8AHwAVAAgACgAbACAAIQAgAAgABwAVABsAHwAkABAA+//q/+z/+f8GAAUA/P/v//X/GAAsAE4APwAUAPP/5P/s/x0AMwBCADIAEgD9//X/+/8CAAYAAAD3/+v/7/8MAB8AMAAtAAcA+//u/+//DQAXACkAHAAYABUAGwAeABoAEQDq/9r/3//0/xoAKAAZABEAAAABAAkACAD3//X/8/8BAC4APwBFADQAEwABAPL/9/8JAAsAEAANAAkABwATABUACgD7/9r/1P/1/wsAOwA6ADsAIgACAPj/9P/x//j/+v8KABUAKQAnAB4AEgD0/+P/2v/h//n/DgAkAB4AIQAfABIADgAEAP7/6v/s//r/BwAZACYAIAARAOj/1//X/+b/BAAVABwAFwAaACEAJwAoAAUA8f/X/9j/5//y/xQAGgAgAB4AGgARAP3/8f/u//D/AwARACIAKQAcAAkAAgD9/wUAAwAEAAMAAQAIAA4AGAAXABgABgD7//T/+/8LABcALwAuACQAHAAJAP7//P////7/AAD+////AQAEAAQACwAYABcADAAHAAcACwAdACQAJwAgAAYAAwADAAQA/P/6/wQACwAXAB4AFQAMAO//2v/j/+//FgAiAC4AKAAUAAkADAAMAA0ACgALAAMABwANAB0AHAAVAA4A/P///wAABgABAAcAFQAVABwAGwAeABoACQAIAOz/7P8JABkAMAAwACwAHQD8//n/9//6////CQAfAB4AKgAtABYACAD3//X/8//9/yMAKgAwACYAGAAOABYAGAATAAoA///8/wAADgArAC0AGgAPAPX/7f/t//z/FAAbACEAJQA1ADUANQAmAA8A+v/7/wAAHAAeABUAEwD6//z/BQARACAAGwAEAAQAAAAFABwAIQAhABwAJAAoACwAKwAIAPv/9P/6/xUAIQAoAB8ABwD///H/7f/7/wcAKAAmACIAEwACAAUAFQAfACsAKgAUAAMAAgD//wkABQAQABMAHgAcABoAFQATAAwA+//5/wgAGAAmACsAJAAXAPX/7v/u/wEAHQApACEAEQDw/+3/+f8FABUAFgARAAgABAAFAAcADQAWABEACwAMAAoAAwD9////+/8AABAAGQAtACQA/f/u//X/+f8cACUAGwAUAAIAAAAVABcAFgAMAP3/9v/7/wgAFgASAAEAAgABAAMABwAIAAcA/P/w//D//v8OADAANQAsACMA/v/y/+f/7f8FABoAJgAnABcAEAD9//j/6f/p/+7/8P/7/wQAFgAYACYAJgAbAA8AAADz//v/AwALAAoACwASACEAKAAZAA0A4P/c/+b/7/8VACAAGAAMAAEAAwAOABUADgAGAPb/6P/6/wAAHgAlAB8AGwAXABgAHgATAOD/yv/O/+L/JwBDAEwAOAD8/+H/1v/i//v/CAAMAAkAFQAoAEAANQALAPH/yf/I/+b/AQAuADoAKQAaAPD/5v/z/wEAHQAmABMABwANABQAJwAoABUAAQDm/+3/BQASABUAEwACAAYABAADAPX/7//q//T/AgARACwALwAlABoA/v/z//7/CwAeABYABwAGAA0AEAAXAAQA7P/j/+z/9v8GABcAJgAfABMABgD5/wMAFwAkACIAHwAGAPP/9f8DAB8AKAAZABAA9//v//n//v8MABMADwAMABsAFwArACwAIwAQAPf/9f/6/wAADQAWABMACwD0//f/AQALACkAKAAaAAkA9v/y/wYAEQAfABwADQAFAPX/9P/+/wcAFQAUAAYACQASABgAHgAbAAgAAgD4//r/BwAQABYAGAAmAB8ACAD1/97/4P///wwAHQAeABkAFgAkACQAIwAaAAQAAQAEAAkACwAVAAkACAD6//v//f/6//f/+f/8/wYADQARABAACwAGAA0AGAAfABUABwDp/+n/DQAsAEcARwAbAAUA3//V/9b/4v8BAAkAEwAZABYAEwAGAPj/4f/Y/+L/8/8MABsAOgA6AB0AEwDx/+3//v8JAB4AIQAbABIADAAMAAUA/f/p/+j/+P8CABgAHwAaABgADgAIAPf/7//2/wIAFAATAAkABwAQACIAIQAYAPP/5v/w//3/HwAfABcACQABAAEA+P/4/+v/7P8AABIAKAAxACYAFwDx/+j/9P/8/w4AFQABAPX/7f/2/xAAGAAbAA8A9P/p/+v/8/8HAAgABQAKAAMACgAcAB4AFwAMAPv/7//k/+n/AAAMABsAEgAHAAEA8//y/+//8P/v/+7/BAAQAB4AGwAMAAMA8P/w////CwAXACAAIAAgABgADQDv/93/3f/i//n//v8QAAUA/v/6//X/8//0/wIADAAUAB4AGAAVAA0ABAD8//D/6v/0/wMAIAAqACMAFADx/+j/5//n//j/AQAAAAQAEgAWAB4AGQAGAPL/6P/w/w0AHQAlACEAFAAEAP///P8CAPr/9P/7/wEAFAAjACgAFAAFAOX/1v/l//r/HgAnACkAIwAQABEAGQAbABcAEQAKAAUAAQD///r/9/8BAAEABgAPABkAEwACAPv/+P8FABsAIgASABIA+//+/wEAFQAcABoA/v/y//L/8P8AAAcABwD4/+b/3f/v/wUALQAzACMADwD2//b/AQAJAAwABQD2//X/AgAMABIABwD1//X//P8EAB4AHgATAAYA+P/4/wIACAAAAPf/4f/o/wIAFgAyAC4ADwD+/+z/7v/1/wEADQARABgAEAASABcADwAKAOj/7f/z/wIAFgAgABQACwD///3/CwATABIADgAQAA8AEwATABIACQD2/+P/6P/v/xIAIgAlAB4AAwD0//b/CQAZACEAGgAUAAMABgAEAAsACwAHAAUA/v8AAAIAGQAbACMAGAAIAP7//v////b/8//z//z/DwATABoAFgAYAA0A///4//j///8UABgAHgAUAAEA/P8EAAsAEQAIAPj/9f8IABEAGwAVAPT/7P/z////EAAaAB8AGAAGAPP/+P8AAB0AFgALAP//8P/y/wIACgAGAAMAAAD5//T/+f/9//z//v///wcABgD0//P/9v/5/wcAEgAZABkAAQD3//P/9/8AAAcAEwARAPb/7P/d/+T/7//3/w0AFQAOAAEA///4//X/9P/u/+z/7//3/xoAJAAiABAA7f/p/9r/4f/2/wEA/v/5//f/9v/6//3/CQABAPP/8v/u//n/AAAAAPz/AwAOAAsACQAMAPL/5P/l/+v/8//1/wYAEwAOAAQA4f/a/9T/3f/5/wsADQAPABEAEgARAAsABQD7//3/AgD8//r/6f/d/+z/+v8PABMADgABAOH/2P/q//r/HQAfABoABgDt/+b/9f8EAAQAAgD8/wYADQAOABAACAAAAPP/6f/t//z/BgAWABwAEgADAPf/7//q/+//DgAPABEADgAKAAIABgALABgAGAACAPb/8v/4/wUABwAAAPX/8f/w/wIACQAMAA4ADQABAPf/8/8OABwAIQAcAAMA8v/i/+v//f8AAAEAAwAXABsAJgAeAAcAAgD/////AAALABsAIAAnACYADAAEAPr//P8AAP7/BQAGAAsAAQD6//7/BQANAAwADwARAAsAFQAUABAAEwARAB4AJQAjAP7/7f/g/+f/DAAfACoAKwAaAA0ACwAHABcAFQAMAAAA8//z//7/AQARABkAHQAaACEAGwAHAPj/5v/g//D/AQAaACcAOAA1ABsACQDi/9z/8/8IACoANQAnABYAAgD3//H/6f/s//P/CAARACgAJAAdABoAFgAOAPf/6v/b/+H/9v8IAB4AIQAhABQAAQD4//D/+f8LABIAEQASABEAEAAOAAQA/P/1//H/+v8GAA0AHAAXAPr/7v/b/9X/6f/6/w8AHgAgAB4AGwAXAAgA//8AAAMAHAAdAAQA9P/j/+f/BQAOABMADAAMAAcA+/8GAP///f/4/wAACAAPABkAHQAPAP//8P/x//n/AgAZABYACAACAPn//v/3//f/6v/r/+f/7v8KABcAKgAtAB4ADQDh/9f/2v/k/wMACQAXABsAGQAPAPv/8f/m/+j//P8AAPb/+P8AAA4AFwAXAAEA/v/m/+n/8v/3//v/AwAOAA8ABgD8/+3/6v/r/+//9P/8//7//v8GAA8ABgD//wcA9//d/9H/3f/q/wwAEgAWAA0A9v/v/+j/6//t//j/+/8GAPz/9f/h/9z/7v/v/+j/8P/1//f/CgAJAAAA8//t/+X/3//f//n/BwAaABwAAwD1/+r/6v/5/wAAAgD8//P/9P/x/+v/8v/1/wMABAD5/+v/9v8EABUAFAD8//P/6//3/woAFgAXABMAAwD0/+7/5//1/wYABgACAPD/8P/2/wYAGQAYAP7/8v/v//j/BAAJAAkAAgABAPz/+P/s/+v/7P/5//T/+//9/xIAFgAPAAUA6P/l//T/+P/4/+7/7v/0/w0AGgAaABcA///6/+v/6P/t//j/AwAEAPb/7P/7/wYAIgAeAAEA7//Z/9//AwAYABIAEQD4/+z/7f/w/wcACAAFAPv/6//v/wYAFgAKAAQA2v/S/9j/9P8MABMACAAGAPP/7//x//P/BgAOAAYA+f/j/+3/BgAPAA4A/v/l/+L/9v8HABkADwD3//H/6f/r/9//3//i//D/EQAXAAoABgABAAIABQAEAAsADwAOAAcA8P/p/+z/9P8FAAYAAQDw//D/8v/7//r//f/+//j/8//h/93/4//t/xMAFQAWABMADAAKAAUA9f/j/+L/7f/z/wEABAAEAAQA8f/n/8n/zf/d//j/DwARAAYA9P/m/+X/5f/o//L//v8NAA4ADAABAPf/8//v/+v/6v/l/+j/8f/z//H/7//t//j//f8CAAEACAAFAPb/6v/d/93/+P8GAAsAAQDi/93/5P/v/wEAAQDy/+7/3//j/+z/7f/2//f/8f/m/+X/7v8GAA4ACAD//+b/5//v/+3/6P/j/+D/6/8AAAUADAAEAPP/6//b/9z/8P8AAA4ABQD1/+r/5v/w//3/+v/h/9b/3f/u/woAGgAJAAcA6v/k/+L/6f/v//L/8P/v//T//v8cABwADADv/8f/t//M/9z//f8HAP3/8P/p/+n/8////wgABwDz/9//2//h//P/AAAGAPr/+P/2/wAA/v/0/+z/4//k/+7/7////wUAGAALAPb/5f/U/9n/8v/7/w4AAwAFAAAA7v/n/9r/2v/m//H/AgD+//P/9f/+/wQACAAEAAQABAABAP3/7v/f/93/1P/x//L///8BAP3/8//n/+X/4v/m/+z/6//0//z/FQAaABAABQDf/+D/3f/o/wEABgABAP3/9P/z//T/9f/2/+//6P/k//f/AQAOABAAEAAFAP7/+/8HAAQA9//v//H/8P/1//b/BgAGAPT/8//3/+n/5f/t//z/AwD///7/+P8GABYAHAAaABEA+f/8//f/9f/v/+7/9f/5//z//v/z/+7/5v/l//H/+/8LABMAGwAPAAcAAQAAAPr/6f/l/+r/9P8GAAcACgADAPP/6P/n/+T/5P/l////CAAJAAkABAAGAPj/+f/e/9z/2//e//v/AAAJAAIABAD7/+b/4v/u//n/EAAXABoACwD4//j/8f/2/+H/2v/V/9///v8GAAsAAwDv/+X/1P/d/+T/8f8SABwAEwAGAPL/7P/t//v/+v/7//L/6P/z//T/8//4/wgACAD6//H/7P/t/+3/+v/7//3//P/8//3/9v/0//D/9f/1/+z/5v/w//v/BQAIAAgAAwD0/+D/4//p/+X/6v/w//b//v8MAAEABwD7/+f/1//O/9//8P8LAAoA/f/z//T/+P8EAAAA6v/i/9//3//+/wIAEAAIAPP/5//l/+P/9v/5////8P/n/9v/7f8AABoAIQAAAPr/3f/b/9z/6f8FABAAGQATAPz/9v/j/9//2P/V/+H/6f8AAAoACwACAAEA/v8HAAoAAwD3/+L/3f/k//X/EwAgABkABgDc/8r/zv/a/wIADgASAAsAAwAAAP3/+//v/+b/2v/h//b/EQApACEADwD5/9r/1f/o//D/AQABAP//+/8OAA8AEQAIAO//7P/2//T/9f/9/wMABwAKAAUA+f/3//7/9v/r/+P/6f/3/xgAHwAeABUA+P/w/+n/6//6//7/DQARABMADgAIAAQABwAEAPX/6v/P/8//5////y0APAAsACUA+//t/9//6v/1//v/9v/5//n/AAADAAIAAwD9//3/9P/v/+//BwAbAB4AFwD///L/8P8DABUAEgDw/93/0//f/xEAIgAuACsA9v/q/9n/4P/w//n/BQAIAA0AEwAfAB0ACADy/8z/v//Z/+3/JQAqABgACwDu//X//f8GAAYAAwD4//D/AQALABEAGQADAPn/8v/y//b//f8GAAMA7//o/+z/9/8HABEABQD//+3/7//4//j/AwAMACQAKAAmABUA///y/+P/4f/o/+v/+f/8//7/AgABAPb/8f/1//X/AwATAA8A+v/6//j/AwAPABYAHQAYAAoABADq/93/3P/k/wkACgAKAAAA4P/g/+3//v8WABcAEQD///n/8f/+/wIA///2/+v/7P8GAAgAAwD5/9z/yf/V//j/LQBAADIAFADC/7H/xv/i/xcAIgAeAA0AAQD3//v/9f/x/+3/7P/w//T/+f/r/+3/7//u//T/+/8EAAcAAgD//+r/3P/g/+3/CAAQAA8ABgD6//f/7P/x/+r/7P/2/wAAAwADAPP/8f/w/+3/5P/q//v/+f////7/+f/3/wwAFQAbABIA7P/c/9b/5/8EABEA//8LAOr/+v/z/wEAAAAGAPz/CQAIABcABgD6/9b/0v/o//3/IAAnAAwA9f/n/9//7//u//X//f8KABkAFgARAOz/5v/c/+f//v8JAA4AAwD2/+//8v/9/xMAFAARAAMA6v/q////CwANAAUA7//r/+7/8v8FAAQABgD///v/+f/9/woADAAOAAgABwAAAAEA9P/3//j/9P/y//j//v8EAAAA///8/wUAAwADAO7/7v/r/+3/8/8AAAwADgAZABUABQD///b/+P/2//T/8P/x//T/+v8IAAwADAD6/+T/3f/c/+L/8P/z//n/9f8AAAoAHAAbAAMA8v/j/+r/9P/1/////f8FAP7////5//H/8P/f/9r/4v/r/xEAIQAgABkA/f/v/93/3v/t//P/8P/x/+j/8P/0//z//v8BAAAA+v/4/+//6P/p//f///8ZAB0ACQD8/97/z//P/9//AgANAPj/7//T/8//6v/6/wsAEQD0/+f/3v/h////CQATAAwA8P/k/+v/+P8NAAsA9P/j/9b/4v8BABQAHAAXAPf/5v/N/8v/2f/g//v/AwANAAoACwAJAAcA/v/s/+H/2v/l//T/+v/9//3/+f/2//b/9f/g/9D/2//j/wgAHAAiABEA4P/R/9X/3v/x//z/8v/u/+///P///wAA6P/d/9b/3/8DAAkAEwATAAcAAgAMAAkABQAEAPD/4f/d/9///f8FAPv/6//P/8b/1//k/wMADAAKAAcA+//9/wQAAgD///j/7P/v//f/AAAGAAcA8//r/+X/5v/7/wUA+//8/+v/4//m/+n//P/9/wMA+P/s/+b/8//+/wkACwD///T/9//+/wwACQD+//T/3//g//n/AQAAAPL/3f/d/+r/+f8RABMABAD0/9b/1P/c/+7/BAAQAAsA/v/t/+v/+v8EAAoABQD9//L/5v/u//f/AQD5//X/6v/i/+X/5//t//D/7v/z//z//f8DAAIA/v/+/wEA/P/4//L/7v/z//n/BQARAAsA9//v/+H/4v/m//L/8f/o/9z/2P/x////BwAOAAYA///u/+7//f8FABMAEwAKAPr/5P/c/9v/3f/u//P/AgAPAP///P/k/+H/3P/o/wAAEQACAP7//P/8/wEAAwAHAP7/5//m/+z/8f/7//7/BAAAAOv/4f/W/9//4//s/wcAFAAWABQABwAAAOP/1//R/9f/5//4/xEAHQASAAoA7P/h/9H/1f/0//r/BwAIAPb/7P/f/93/4f/n/+z/6v/2//r//v///+3/4//Z/97/8/8CAPv/9v/q/+z/4//q/+j/6//8/wYAEAAQAPr/6v/h/+D/5v/r//3//v/x/+z/7P/x/wgADwAFAPn/2P/R/+n/9P8TABYAEgAJAO//6f/r/+7/9f/y/+b/3v/l/+//BAANABIACwDo/+H/3//j/wAABwAJAAEA+v/y/wAABQAJAPz/7P/f/+n/8/8KABIAEAAGAPX/6P/o/+T/5v/o//b//P8NAA0A///3//j/AwAUABMA/f/u/+T/7/8KABQAFAAIAN//z//P/9r/9/8DAAUAAwD6//P/6//k/+z/5f/0//3/EAAQAA0ABwD+//j/8f/y/+T/4f/j/+f/+/8JAA4AEAABAPr/5f/h/9//4v/w//v/AQD9//z/+v/7//T/5//b/9z/4f/+/xEAHgAaAPL/4v/K/83/6//6/wwABwD6//L/9P/8/wIAAwABAPT/7P/v//j/AAD+//r/5v/X/9r/5/8JABEAGQAMAOb/2f/c/+X/CAARABIADQD3/+3/4v/k/+n/6//8////8//w/+7/8v8IABMACgD9/9b/y//T/+T/EgAfABsACwDu/97/3f/b/+X/6v/0/+//AQANAB0AJQAhABEA2f/F/73/yP/u/wIAFAAJAPf/7v/s//D/8f/3//3/+P/6//r//P8LABUADwAUAAYA4//W/9L/i/8SAMH/SAADAC8A6v/z//r/+v8GAP3/9P/e/+//CAAaABsAJgDo/+b/q//K/9T/7/////z/+//p/wkA9f8gAAgACQDl/9//0P/1/wQAJQAyABQACADi/+H/1//q//n/AgDz//f/+v/9/xEACAD+/+r/5P/Z/////f8XAA8AFQAOABAADAD3//j/7v/9//7/AgDq/+X/2//s/w8AGQASAPf/2//Q/+f/+v8xADEAJQAMAOv/3P/h//D/AwAOAAkAAwDp/+//+f8DAAUA/f/n/9v/3//g//X/+P8TABAAHAAVAPr/7//x//H//f/5//T/7f/0/wUAGwAfAAcA9f/R/9D/3//u/wcACwARAAcA+P/z//L/7f/l/+n/7f/w/+7/9f8CAA0AGgAaAAgA+v/X/9r/5//0/wsADwADAPr/+P/+/wgAAwDo/9v/1v/T/+3/BwAlACcABgDx/9T/4P/v//v/CwARABEADQAFAAIA9v/1//3//v/s/+j/4f/p/wQAEgAfABEA///u/+b/5//s//f//v8EAPT/8//x//z/CQAHAAIA+f/Y/9P/5P/x/xwAIQAqAB0A7v/b/9H/2P8BAAoAGgAVAP//9v/7/wIA/v/7/+z/6v/v//n/EQAVAAQA9//l/9//7f/6/xAADADw/9v/0v/j/wUAGQAvAC0ABwD7/9z/2P/k//H/EgAjABgADQD6//H/2//S/97/5f/z//v/AwAEAAMAAQAPAA8ABwD///z/+/8DAAoAAgADAAQAAwD1//H/3//b/+T/8//+//v/9//5/wEABgAJAAYA7//q//j//v8BAAAAAAD+//T/8P/s/+j/5f/s//H/8v/b/9X/1f/g//z/BgANAAgA6f/b/9P/5v8BAAUADgAKAPv/+P/3//j/+f/v/+H/1//N/9T/6////xUAGAD1/+T/zP/a/wEADQAIAPb/4v/o/w8AIgAjAA8A3P/G/8H/zf/3/wwAKQAoAP3/5//M/8X/3f/q//v/BAAEAAQAAQACAP///f/1/+//5v/n//L/+/8QAA8AAwD7/93/1//h/+v/+//+/xEABwD2/+7/8P/1/w0ABQDx/93/5f/q/xEAGQATAAYA7P/r/+T/5P/j/+n/9v/6/+7/5f/d/+b/BAAKAAgA9f/g/9v/7f/5/wkABgD///P/5v/e/97/4f/r//P//P/7/wUABQAHAPz/7v/l/9n/3f/t//T/+/8CAAUADAAKAAMA+v/2/+3/4f/m/+f/8//8/wQABQAEAAAA9P/r/9j/1P/p/wYAJgAnAA8A/P/Y/9D/4P/v//7/AwD9//H/4v/W/9//7P8AAAYAAgABAPj/AgAAAPj/3f/d//H/+v8aABkADwAEAOn/3v/R/9L/3//s/wsAEAADAPb/7P/q/wUABAAAAPz/6//e/+b/7f/7/wkAIQAdAAkA9f/f/8v/1//l/w8AIgA3ADEACQDu/8j/wf/P/+b/BQAUABYAGgAJAP3/3P/U/9n/5f8BAAMADwAOAAIA9//v/+T/5P/h/97/7f/+/xIADQAFANv/3//y//n/BwAIAO3/5P/s//7/GQAbAAgA7v/i/9n/6//y/wgABgAJAAAA6//n/+f/8//7//f/3v/W/+H/9P8JABAA+//q/9//5P8DAA8AGAALAPP/4v/i/+b/AwALAPn/6P/G/8P/2//z/xAADwD8/+n/3P/d//f/BAAYABMA9v/t/+P/3//s//D/8//1/+z/9P/v/+z/5P/i/97/3v/p/+7/9v/+/wwAEAAOAAMA7//p//r//v8FAPz/8f/q/+L/5f/p/+P/2P/W/+r/9/8BAAMAAwD5//7/9//8//j/+f/z//f/+/8HAAcAAAD2/+j/5//o//H/7//t/+7/8//s/+v/3f/Y/+X/8P8KAAkABwAKABYAHwAOAAMA2f/V/+f/9/8RABYA/v/0/+f/6v/z/+//7f/n/+r/7v/7/wcAFgANAPn/6P/i//T/BQAbACEAGgDw/+H/2f/m/wcAFAAHAPf/1v/S//f/AwASAAEA7f/q/wAADwAfABAA4f/R/8n/3f8IABsAIQAZAPn/7P/k//P/CgAPABAAAwD4/+7//P8BABcACAD///P//f8GABQAFQD7//n/3//o//D//f8IABAADQABAP7/9f/t/+n/6//u/wUAEQAdABgAAgD3/+z/7f/7/wIA+//9//r//f8RACEAGQARAO3/4f/Z/+j/AgAHAP7/8v/s/+r//f8CABAADgDq/9z/0v/c//7/FQAjACYAAwD1/9r/4v/s//X/6f/x//L/8v/4//T/9v/v/+r/6v/1//X//f8CAAUA///6//f//P8DAPf/9v/m/+j/6P/2/xIAFAALAP//3//Y/97/4v/3/wEABwAIAAYABwD///z/7f/k/+X/5v/8/wMACgAFAP3/5//U/9T/4P/w/wcADQD8//n/+/8HAA8ACwDy/+T/7f/1/w8ADwAEAPb/7f/r//v//f8AAPv/4//f/+v/7/8EAAcABgD5/+b/7/8CABQADgD5/9L/yf/X//D/GwAoAB0AEwD1/+3/4//g/+3/7/8AAAoAJwAlAA0A+//R/8n/1f/g/wIABgAEAPr/9//7/wEABAD4/+v/1v/M/+H/8/8TACgAKQATAN7/2P/X/+f////+//P/7f/0/wMAHAAcAPn/3v/F/8f/5f/2/x0AGgAMAAIA6v/j/93/5P/s//L/9//3//n/BgAOAA8AAgDy/+H/3f/0//3/GQAVAAkAAgDw//P/9f/2/+z/6v/v//X/9//6//7////7//r/9P/z//r/+/8HAAwAAgD6//L/9f8CAP7/9P/w/+D/4f/z//v//v/8//H/9P/3//3/CgAKAP//8P/m/+b/4v/t/woAEQAeABEAAQD4/9j/xf/D/83/9/8RAC8ALgATAAgA4f/V/8b/0f/x/wwAIQAeABIACQD3/+b/3P/b/+H/6v/3//P/7//n//f/BAAQABIA/f/x/9z/4f/w//f/EwAcAB8AHgAGAPf/4P/e/9j/3//l//X/AQADABEACQDz/+r/3//d/+7/AgATABoADgAGAPT/+P8IAA4ACgAAAN7/1P/j//b/GgAYABUACwD3/+f/4P/d/+n/6/8CAAgACwAOAAYA///q/+H/5//0/w4AFQALAAEA3v/V/+f/+v8PAAoAAQD1/93/3P/o//z/GgAXAAsA/P/s/+P/6P/t/+r/9/8BAAMABQD+/+j/2P/V/9r/8P/5/wkABgAAAPv/9f/x//n/9//u/+n/6//2/wsACgD9//L/4P/h//P//f8DAAIA9P/x//T/9v/7//j/8v/v/+P/6v/z//r/9//2//D/6//2/wYADwAKAPf/6P/6//7/CAAAAN7/0v/J/9v/CAAcABsADADd/9j/zf/X//v/CAAVABIA/P/0/+z/5//v/+v/6v/r//z/CAAUAA8A9P/q/+L/3//2//7/CgACAOv/7f/x////+v/6/+7/5//h/+b//v8CAP//9f/g/93/7v/6/xQAEwAHAPj/5P/g/+X/8f8DABAAEwAQAAMA/f/h/+T/4P/w/xEAHwAUAA0A+P/s/+T/6P/s/+7/9P/5/wEAAwACAPv/9//7/+//8v/s//j/BQAEAAMA+//y/+b/8P/y//H/9v/9/wkAAQD+//H/7f/u//P//f8IABAADQAAAPD/3v/Z/+L/7v8OABgAEwAQAAcA/v/z/+7/5v/a/+r/8f8OABAADwABAO//7//q/+7/9f/+/wIABgANAA8AFAAHAO7/4f/h/+j///8IABAABAD4//H/5f/d/+7/8P8IAAkACAD5//D/+f8AAA0AGQASAAgA/v/2//X/8P/u/+r/7P/s//b/CAAOAAgA/f/f/9f/5P/3/xcAIQAWABIAAQD1/+j/5v/j/+T/7//4/xEAHQAgACIA+P/g/8b/yf/x/wcAFAARAAYA///7/wAAAgD5/+P/3f/e/+b/AgAcACQAIAD3/+L/yf/C/9b/4v8FABIAIgAkABQADADz/9//yP/M//T/DgAuADYAFQD+/8v/w//V/+P/AAAAAPn//v/7//n/8P/w//H/+P8TAB8AEgALAPL/7v/c/9r/7P/u////BAAAAPf/7v/n/+3/7P/v/+z/+/8MAC0ALgAYAAIA3v/V/9z/4f/1//z/BQAGAPz/9P/n/9//0P/V/+z//v8dACcALgAjABMABADx/+r/9f/5/wUAAwAIAP3/6//u/+v/7//q/+z/7v/w/wcADQAVAAwAAwD9/xIADwAUAAcA9v/r/+f/9/8VACAAFwANAPD/5v/V/9n/9/8MABMAFQAFAPr//P/+//3/AAAEAAUA+v/2//L/7P/1//f/9v/5//z/AQD///z/8//q/+3/9v8SABcACQD8//L/8//z//D/9//6/wMABAADAAEA+//2//P/+P/0//T/AgAJAAMA/f8GAAIABgAHAP7//f/5//3/BgAEAPH/7v/i/+r/AQAMABIAFgAJAAIA+f/6/w0AEgAgAB4ACgABAAAA/f/8/wMADwANAAMA8f/h/+r/7v/9/wcACAABAP7/BAALAB0AHgAUABQACwAIAAgABAD4/wEAAgD+//v/8P/x//v/DAASABAADAD5//X//v8FAB0AJwAdAA4A+v/x//f/+v8EAAEA/f8EABYAJAAjABgA6f/d/9r/7P8OAB4AJQAmAA4ABQD8////DwAHAAAA+v/7//v/GQAgABUAAgDu/+v/+f8FACEAKgAwACkAEAAAAO7/8f/x//3/BgAPABYAFgAKAAAA6f/q//T//P8UABwAGAAQAAYAAgD8//v/BAAMABoAGAAKAAQA8P/r//j///8HAAcACAAGAA0ABwD6//j///8FAB8AMAAqACEACwAAAPP/8f8AAA8AGgAaAAIA9//k/+P/9P8AACMAJgAWAAkA+f/t//n/BAATAB8AJgAnABwADwD3//b/6v/u//7/DAAXABwAJQAcAAcA8//U/9H/4//4/xkAGgAoABgADwALAAMA9//7////DgANAAsADQAGAAcACAATAAUA9//q/+T//f8EAB4AIQARAAMA+f/7/wAABgAGAAcAAwD9////AwD8/wMA/f8AAAwACgAPAAoADQAFAPb/8f/y//v/HAAkAB8AEwD0//D/8v/6/wsABwACAP//CQAMABQADQD///T/8f/0/w0AFgAnACoAHAALAPH/4f/W/+f/BwAXACMAJQAMAP3/7f/p/+r/6////xAAKAArABcACgDl/9n/5P/x/xUAHQAnACoAEQALAPz/9P/w//j/BwAYADAALwAWAAMA5P/b/+v/+f8aACEAJQAhAAoA///s/+////8VACYAKQAUAAIA5P/m//z/DQAZABQA///w/+3/8v8RABwAIgASAAsAAQAMAAoADwAIAAIABgANABcAGAAUAAMA8//k/97/7//6/w0AFAASAAgAAAABAAwACgACAP7/BQACAAIADQATABMADAD//+3/7f/0//7/AAD//wAA+f8CAAkAEwATAP3/7f/d/+b/BQAQABEADQAKAAcADAAEAAEA/f/2//b/AwALABkAGwAQAAgA8//u/+n/5//6////CwAVABMACwD8//b/8v/4/wwADAAKAAkAEgAVAA8ABwDw/+v/+v8FABQAFgAEAPj/7//1/wwAEQAaABkABAD8//v////9//3/+v8BAP7////4//D/6v/w/wYADAAVAAgA9P/x//j/+/8LAAcAAQD4//f/+P/3//3/BAAIAAgACAAHAAUACAABAPn/8v/0//b/DAAWABkADQAAAPb/3v/X/+v//P8fACYAHQANAPX/6P/w////DAAHAPT/6f/k/+r/CAAbABsAEAD8//P/8f/t/wEAAAAAAPr/AgAKAB0AEgABAPH/y//N/9z/7/8SABkACAD2/97/2v/y/wgAFAAQAPv/8//z//7/GwAfABgA///e/9j/2//q/wQAEAAHAP///P/1////AQD2//P/5//n/xMAJwAvABwA9//o/9//5/8HAA8ACwASAAQAAwALAAwAAgD9/+r/5//s//b/FAAVABoAEQD///T/5v/z/wEABQACAP7/+P/2/wAABAAGAAAA6f/p//T/AgAZABkACQD9//T/9/8JABMACAAAAP//+f8IAAsACgACAO7/6P/l/+3/BAAVACEAFADz/+P/6//1/xMAJgAjABQACQAAAPr//f/x/+z/5f/s//r/CgArACwAIQAMAOn/2f/d/+f/CwAVACoAJAAlABsA+v/1/9//2//r//r/DwAZACcAIgAKAPr/5f/o/+///f8JABYAIAAkABsAEAD9//P/4f/k/+b/7P/u//7/IAAhACAADgD0/+v//f8LABMADAABAAMACwATABgADAD5//n/8//9/wYAAwD0/+//9f/1////CgAMAAgA/v/4//j/AAAPABQADwAIAAMAAwAIAAwACAAIAP7/8//9////DgANAPv/9v/8/w4AGQATAPj/7f/n//H/FQAlACAAIgANAAcA/P/z/+7/5//u//v/BQAMAAIA+//3//j/+/8BAA4AGAATABEAEAARAPj/9v8GAAYACAACAP7/9//9/wMAGQAaAAkA///a/9f/3f/z/wgADgALAA8AEwAYAAUA+f/g/+L/AwAVADAAMAAOAO3/w//E/9v/7v8hACYAEwAIAOv/4P/Y/+D/9v/5/wwAFAAhACIABQD0/+D/4P/2/wAAGAAaAAUA+f/h/97/6//y/wEACAD7/wAAGgAZABgAFwD8//P/9v/+/wYAAwDt/+v/7v/4/xcAIwATAAAA3v/M/9P/5P8TAB4AJgATAO7/2v/Z/9r/9v8CAAwADAAOABAAEgAOAPL/6P/d/+z/BAAOABMAEgD5//f/9//+//X/9P/l/+v/9f8CAA4ABADz/+3/7//3//3/+//4//X/8//3/wMACgAIAAQA+f/y/+n/6v8IAAwABQD7/+r/7//w//P/6f/b/+j/6v8GABoAIAAfABEACwABAP7/CgARAAYA+P/r/+b/5P/y/xIAGwAVAAoA7P/h/+T/8P8FABAAJQAhABoADwAGAP3//f/5//f/9P/1//r/DAAGAAQA///q/+P/5//q//r/BAAWABQAFAARABIAEQAXABYAGgAVAP7/+//o/+P/8f8BACgALQAiABYA8v/q/+X/6v8GABAAEwANAPj/9P/9/wkAGwATAPz/9f/z//r/FAAaABsAFAAJAAcACgAIAPv/9P/z//j/CQAfACoAJwACAO7/1P/U//r/EAAsACgAAQDv/+T/7/8UACYALAAgAPz/8P/s//T/CAAPAAwAAwAAAP3/+P/3//3/+v/5/wAAEQAaABcAEgACAP//BAAGAAcABwAVACAAJwAiAAQA9v/i/+L/9P8AAA8AFwAKAAUA/v////3/BAARABAADwAGAP7/AQAMABQAIQAcAAcA+f/s/+r/AwANAA8ADQD///n//P/5/wIAAgAIAA0AFgAdABcADwD6/+//8v/8/x8AJwAkABUA5v/S/8T/y//y/wkAJwAoAB8AFgD///v/5//o//P/AAAQABkAHwAcAAsAAwD3//H/9f/0/wUABQANAAoABQABAAcA///8//D/4f/n//f/BgAiAC8AGgAUAAMAAgADAAcA+f/0//j//v8bACMAIgAQAOX/0v/f//H/GwA0ADUAJwAIAPr/AwADAP3//f/5//z/FQAiACgAHwD2/+X/3P/g//f/DgAgACAABwD7//z/AAAUABkADwD9//T//P8LABsAJgAnABIACQD7/wEA/P8BAP7//v8BAAAADwASABAADwD5//T/8v/6/xIAGwAmACUAHAAbABIAEAAFAAAAAAAEABQAGAAXAA8AAAD7//z//P8JAA8AGAARAAsADQAZABkAJAAcAAAA8//s//f/EQAkACsAKwAlABIA+P/w/+f/7f/7/xAAKwA1ADMAIwD3/97/w//D/9v/7f8VACQAMQAxACgAFgD0/+b/3f/i//r/DgA6AEMAPAAfAOv/2v/Y/+P/BgAKAAsACgAJABEAHAAaAAgA/P/s//H/9v8CAAgADwARABYAGAAZAA8AEAAQAA0A9P/s//D//v8OAB8AKAAjAA8AAADr/+j/6v/4/w4AGgApACYAGQASAPv/9P/5/wUAFgAYABYAGAAQAA4A/f/v/9v/1//m////HQAjAB4AEQAAAAUAEQAQAAsA/v/4//P/BQAKAB8AFwAUAAcA7P/m/+z/+v8KABAACAD9//3/AQAPABEAEAAIAO//7P/6/wkAGQAbABgADwD9////AgADAAAA+f/i/9z/7f/5/xoAIgAiABwAAgD+//D/8P/r/+n/9v8EAB4AKwAxACkADAD0/9r/2//q//D/BAANABYAGgAKAPv/3//X/+P/7/8EABQAFgAdABQAFAAAAPr/9P/4/wgAEAAIAAIA+v/9/wUACQAGAP7/BQAKAA4ABwDp/+D/3//u/yAAMAA2ACgA9//o/+n/8f8RABIAFQAGAPn/9f/4//n//v/1//P/9P8IABEAHAAbAAIA8//j/+n/CQAZACIAHQD9//3/AgAKAAkADAD3//P/9P///wsACQD5//P/7f/o//n/BAAQABkAHwAXAAEA+f/8/wIABQAJAPz/+v8AAAgAFQANAPz/9v/u/+j/9v/0/+//9v8AAAYADAAOAPz/AQDx//L/AAAHABoAFwANAAkA+//6//z/9f/q/+P/7f/+/xYAHwAfAA4A6P/U/8b/0v8HAB0ANQAtABMA/P/t/+T/8f/y//n//P8EAAgA/v/5/+L/3f/i/+j//P///w8ADwD7//T/+/8GABYAHQAbABMA+v/y/+X/3v/s//H/IQAnACoAFwDm/8z/y//Q/+T/9/8KABMAGQAaAAUA+f/g/+j/8v/8/wQABgAFAAoAFAASABMACwDr/+H/3f/i//f//f8JAAEA///6//r//P/7//P/4P/Z/+P/+f8VAB0ALgArABAAAAD3//D/5//m/+v/8P///wQAHQAaAAcA8f/T/87/1f/i//z/BQATABMAFQAPAP3/7//d/9//+P/+/xUAJAAjABgA7f/k/97/6f8GABEAAQDt/9v/1v/o//f/AgADAPX/7v/l/+z/+P/9//v/+v///wcAJAAoABMA+//a/9P/3f/n/wkAEgAWAA8A7P/e/9T/4f8GABEABgDv/+P/4f/2/wwACAAHAPH/6//w//b/+f/2//z/AQABAP3/7P/o//b/8//4//T/5v/h/+7//v8SABEAAgDv/9X/0//k//r/HAAeAA8A/v/s/+r/6//1//z/9//y//r/9v/w/+P/4P/m//D//f8HAAMAAQDz/+7/4v/k//T/AgAUABAABgABAPL/7v/o/+j/6f/n//7/BwAYABQA/v/x/9P/y//b//D/FQAjACIAFwAGAAEA+P/t/9f/zv/W/+f/EwAbABkADwD7/+z/3P/Z/+b/5/8OABYAGAAOAPz/9//4//f/4P/c/9v/5P/3/wMACQASAA4ADgD7/+z/2//j//v/BgAZABUABwABAPn/+v/5//n/4//c/9j/4v/3/wUAFAASAAEA8v/s/+3//P8JABcAHAATAP//4//d/+r/+v8TABYA+P/z/+f/7v8EAA8ABgD8//n/AgAEAAMA6f/f/9r/8P8TABoAHQAJAPn/7f/q/+v/6v/u//f/9/8EABEAFQASAPf/8//Y/+H/AQARABAACAD2/+//7//2//v/BAACAPf/5//c/9//6v8MABcAFwAMAPH/8v/0//T/8f/q/+r/9/8TACMALQAcAP3/5//F/8L/1v/n/wIADwAPAAkAAAD9//z/9//p/+L/4v/r/wEACAAHAAgACwAKAAcA+v/l/9r/0//W/+3/+P8PABgAEQADAOr/7f/7//f/5//m/93/5/8PACAAJwAVAOH/zP/T/93/CgAVAA4A+//d/9j/7f8HACwALgAAAOb/uf+9/9v/8/8VABcAEwAQAAIA+f/i/9z/1P/X/+v/8/8IABAAEwADAO3/4//Y/93/6//y/wkADAASABEA+f/x/93/5P/9/wcAEgAIAOb/3P/d/+n/+/8EAAAA+v/k/97/1v/h//7/CgAUABIAAgADAAcACwAHAPv/6f/j/+3//v8LAAoA9P/p/93/5/8DAAwAAwDt/9v/2P/w////AQAAAOj/5P/k//X/AAAHAP7/AQAAAP3/AQD8//v/8//o/+b/8v/8/wYAEAAMAAUA9v/0//b/7//u/+3/3v/c//b/BwAZABMA///o/9r/1P/l/+3/CwATAAwACwAFAPv/7f/v//P/5f/h/+H/8P8EACsALwAUAPr/0v/P/9r/6f/9/wMABwAAAAYAAwAKAAoA9//x/9n/0f/W/+D/BgAcACoAIgAHAO3/0//U//b///8fACoAFAABAO//8//5/wUAEAAFAOv/6P/j//H/CAAKAAYA+f/1/wMAGgAkACIAFgDw/+v/8v/8/xAAGgARAAwA7//r/97/4P/x/wEACwAIAAcADAASABcAEwAIAPf/8f8BAAYAGQAZAAcA/P/k/+P/6v/4/wIACgASABkAFAAIAPX/8v/z/wQAFgAbABgAEgAFAAAA+//9/wQAAwDz//P/6//v//X/+/8CAAcABwAMABIAGwAfAA8A6v/h/9r/5f8aADIANAAkAAMA/f/l/+X/4P/g/+X/+v8TABoAFAAGAPH/6//t//L/9//9//3/BwATABYAIwAUAAAA8P/e/9f/2P/l//X///8FAP7/+v/6//T/8f/n/9//4//w/wMAEQAkACkAGgAFANr/yP/S/+H/FQAdAA4A8v/a/8//5P/u/wQADgATAA0AAwD6//j/8//o/+v/9f/8/wsADgAHAPL/1//Z//H/AwAQABQADAAEAP7/BAADAO//2P/R/+7/+/8aABQA9//o/9j/4v/y//3/CQAOAAcAAwD9//r/9P/4//H/+f8EAAkAFgAXAPr/6v/b/9v/4P/v/wcACQAAAOn/3f/m/w8AFgAhABYABQD7//P/+f8EAAQACgATAAoA///r/+T/5P/q//r/+v/t/+n/+P8JABkAFAD6/+n/5P/t/w0AIAAlABkAAwD9//H/7v/d/+D/8f/8/wcADAAGAPT/4P/j//T//f8QABcAFgAVAAQA/f/4//f/BgAXACgAKAAJAPb/1v/R/9P/3P/y//X/AwASABYADwDx/+X/6f/y/xkAHwAYABMACwACAAIA+v/4//T/9//6//X/AAD7//3/+//9/wEA9//r/+///P8EAAEA/f/4//j/CwAVACwAJwAFAPL/0P/H/9n/6v8LABcAGgAbAPz/7P/U/9j/+v8JABkAEAD7/+v/7f/1/w0ACwD7/+//8/8DABgAHwASAAMA5P/j//X/9//4//f/5v/p/+z/9P8MAAgABAAAAPX/7//u/+3//v/8/wAA+f/1//H/9P/1//z/+v/4//r//v8CAAAABQD3/+3/2f/Y/+r/8/8AABEAFQAOAPf/5f/Y/9T/2v/b/+v/8f8HAA8ACwAFAPP/8/8CAAsADwACAPj/7f/t//b//P/8/+3/8P/y//X/+//8//3/9//t/+v/AAAJABEACQD6/+H/zv/Q//H/DgAiAB4ABAAAAOb/4f/e/+L/8P/9/xcAEwADAPX/6f/i/+7/8P/8/wQAEgARAA0AAQDn/+H/3f/s/w8AGgAlAB8ACwAHAAIAAgD5//X/6v/u/wEACgAGAP7/6v/t/wgAEwAbABEA6f/Z/93/6f8EABUAIAAYAAYA+//p/+f/+P/9/wwAEAAMAAkACwAHAP//9P/Y/9D/5P/1/xQAIAAiABMA+//2//L/9f/w/+3/8f/0/wAAEAAVAA8A+//4//P/8P/s/+X/6P/p/wEABQAMAAUAAwD+////+f/t/+j/7v///xIAHQAeABMAAgD1/9z/2f/f/+v/EAAjACYAIAD5/+T/0f/X//H//v8EAAcAAgD9////AAAIABAADQAKAPr//f8AAAwADAAIAPX/8v/3//v/CgAOAAQA+v/m/+L/7//1/wUACAANAAoA///4//H/+f8HABIAFgAXAP7/7//n/+j/8v/4//v//v8JAAgABQAEAPX/9//1//n/EAAcABIAEgAMAAIAAQD3/+f/3f/h//D/CgAQABUACgD7/+z/4//m//X/+f8IAAUABgAFAAYAAAD//wMAAQD///3/+v/8//z/AgD8//f/9f/y//f/AwAEAAcA9v/z//D/7f/1/wkAEgAOABcA/f/r/+z/8f8BABAADgAFAO7/7f/1//j/AAD//wYAAgABAAAA/f/4//b/+f8FAAIACwAAAPH/6v/b/+L/8v/1//3/+P///wIABwADAPj/6//n/+v/BAARAB0AEgD5/+v/4f/q//n/+v/y/+j/5f/r//n/AgADAPr/9f/x//X/BAAeACMADAD//+L/4f/+/wYACgAKAPP/8f/q/+n/9///////+//z//T/8v/0////AgABAP3/CQAEAPD/6f/n/+b/+f8KABcAFQAJAPf/5v/o/+j/8v8JAA4ACAD//wAAAAABAPv/+f/y/+r/7/8JACEALgAmAA4A8//a/93/+P8OABoAGAADAPz/5P/k/+r/8f/5//f/9v8BAAEACAARABEACQACAAEA//8FAA0ACgAFAOz/4P/u//z/CAASAAQA9//h/+L/4f/w/wUACwAJAAUA9P/u//n//P8AAPv/+f8CAAgADgAKAAgA6f/q/+n/8v/8/wIA/v/5/+3/6f/q/+z//P8GAAoAAgD9//z/9f/0//n/+P8PABsAJwAdAAwA/P/i/+H//P8HABMAGAALAAIA4P/i//T//P8RABAAAwDz//L/8f/2//z/AwACAAwADAAWABMABAABAPT/8//v//T/AgAKACEAHAD+/+v/2f/e//T/BQAMAAYA9v/0//f/AAAJAAwACgALAAMA/f/4//v/AgAGAAoABgACAP7//////wUAAgD+//j/5//q//T//P8GABAABAAGAPz/9P/g/9n/7P/2/wsADwADAP//+P/5//f/9f/1//T/+f/8//3//f/0//L/+/8BAAYACQAGAP7/5v/i/9b/4P/6/xEAHAAVAPD/4v/d/+T///8LAAgABQACAAMA/v8AAPP/5v/j/+f/BwAbACUAGwDt/9f/0P/b/xEAJgAnABoA9v/q/+v/8f/6//z//v8EABAACQD7//b/6v/l/+j/8v8MABQAEAAGAPr/7//8/wkAHwAoABUACAD///X/+P/8//v/+v/y//b//f8CAAcABQAIAPz/8f/w/woAEAAWAA0A/f/1//b/+v8GAAYAAwD+//P/8P/t/+n/8f/3//v///8OABAADAAGAPz/9v/6/wMAIAAcAAMA9P/5//j/DwAOAP3/6P/Z/+D/+f8HABcADQD1//H/7f/x/wsADgATABAADwANAAwAAwD6//f/6//q//v/BQAVAA4A+//w//H/9/8UAB4AHAAPAPL/6v/4/wYAHQAcAAYA9P/m/+z/CQARACEAGgADAPn/BgAFAAsACAAMAAgAAgAGAAYACQAYABcACwALAP7//f/9////BwAKAAwABADz/+H/3//z/x0ALAAqAB0A/f/5/+3/7//2//3/DAAUABsAHQAQAAoA9f/q//H/+v8UABoAFgAKAPf/7f/5/wEABgAHAP3//f8AAAgAEAAZABYACwACAPr//f8AAAEABwACAPr/AAAHABkAHwAbAAoA6v/h/+r/+P8eACIAJwAZAPb/5v/d/+v/9f8CAAkACwASABkAGAATAPj/6//l//D/EgAmACwAJgAGAP7/+P8DAAgAAQDx/+f/3P/f/wQAEgAZABQAAgD2/+//9P8GAA0ACwARABUAFgAUAA4A9f/x//D/9v8DAAUA/f/6//z//v/y//j/BAAAAAgABgAJAAQA/P/6/wQACAAPABQAGgAVAAEA9f/l/+j/9f8CABMAEgAFAPr/3//g//P/9P8NABcAEgAFAO3/7f/9/wYALAA0ACgAHQD2/+r/3f/h/+v/9f8GAAsACAABAOX/4f/c/+f/AgAQACAAHQAPAA8ABQD+//3//v/+/wcABwACAPr/AAD8/wQADwALAPz/+P/u//b/CQAOABUACwAHAAAABAAFAPX/7//u//z/GgAfACkAHgD9/+z/4//v/wQAFAAfACEADQAJAP7//v8GAAkADgAPABQAEAAJAAQA9v/u/+j/7/8CABIAIgAgAA8A///i/+X/BwAcAD0AQAAWAPP/zv/T//r/EgAwACMA+//q/+n//P8eACUAFQAEAOz/6v/+/wkADAAHAAYABwATABYAEQACAPD/7f8FABQAIwAeAAMA9f/r//T/DgAaACcAJgAhAB8ACwD7///////3////FgAcABEADAD2/+z/7f/v/w0AHQAkACkAHwAWAAgA/P8BAAcAGwAbABoAFgAHAAMABAAHAAkADwAVABcAAwD///D/9P/5/wMAGAAhACIAJgARAA8ACgAJAAoADgAWABkAHQAbAAwABgD1//r/DwAYACkAKAATAAEA7f/6/xoAKQA6ADUA+//l/9P/5f8MACUANQAzABsACwD+//P/7P/p//3/EAAqAC0AIwANAOz/4v/u////GQAeABMADgD1//L/AwAPACkAKgAhABgACQACAPn/+v/4//z/DAASACEAGAAAAPj/7f/0/xYAJwAxACYABgD1/+n/9v8RAB4AIwAgAAMAAAD//wAADAALABkAHwAmACYAAgDu/+D/4P/w/wUAJQA1AC8AHgDr/97/1v/e/xQAKQA5ADcAEwACAPb/+f8IAAkABwAHABMAGQAtACQABADr/9n/4v8MACAAGwAIAO7/9f8VACgAMgAjAPD/2f/J/9H/BQAfADMAMQAcABMADQAMABQADwD4//P//f8EABYAIQATAAsA6P/f/+7///8ZAB4AFAAQAAgAFgAZABkAEgD///T/6v/0//j/DgAPAA8AFQARABAAAgD5/+T/5v/9/w8AJwAwABsAEwD4//L///8QACAAJAAGAPL/3P/b//X/DQAoACEAGQARAAQABwAMAA0ADQAJAAcADgAZACMAGgAKAPD/4v/o//z/HgAgABIAAQDw/+//9v/9/woADgAVABkAGAAQAAEABAAVABoAHgAXAAkAAgDz//T/+//9/w0AEQASABAAAgACAAMAAAD2/+//9f/+/yMAMQAdAAgA7v/w/wcAFgAjACcAFAAHAP//+v/5//r/BAADAAwABQAJAAIAAQAFABcAFgAVABAAAQD7//L/8f8CAA0AHgAjACgAKQALAP//8P/x//z/BAAPAA0ADwAYAB0AIQANAAUA6f/o//3/FAA1ADYAJgASAO3/4P/l//f/BgAOABEADgAPABUAKwAsACEAEwDp/97/4f/y/xAAGAAgAB8AFAASAAAABQAHAAgABQACAPT/9v8EAAkAFgAYAAwAAgD0/+7/9P/8/wkABgAOABYAGQAXAAwAAwDt/+3//v8JACIALAAzACkADQD3/9z/1//o//j/GQAhABYADgDt/+r/AAAHAB8AIgAQAAcA+//6//P/AAANAAsAAAAFAAMACwATAA4ACgAJAAcABgD///r//P8FABkAJQAbAAwA/P/7/wwAHAAcAAwA4v/e//n/DAAnACUACgDy/9//4//9/xIAJAAoACQAFwD8/+//7P/v//v/CQAfACMAIQAkAB0AFQD4/+n/1f/a//3/FwAuACwADQD0/9n/1v/z/wAAIAAnACUAIAAIAAcA///9/+z/7v/v//j/GQAjACEAGQD4/+n/5P/w/wMABwAQAAkA9v/x//f/BgAYABwAEgAHAPv/+/8AAAQABQAIAA0ADQAQABIAAwD8/+r/4//q//n/FAAjACgAIQAEAPL/6//n//L/8v/8/wYAKQAzADcALQAHAPP/2//b//r/DwAkADAAIgAWAPX/7P/x//X/AQAGAAEA/P8HAAsAFAAdABQA///f/9z/5f/3/xUAKQAmABcA9v/v//f/AgAYABwAGgAOAAMA+//6//3/CgAEAP3/+//y//b/BwASABMAEAAIAAAAAgAIABIAEwASAAoACgADAP3/AQD//wEADAANAA8AEgAYABAA9f/r/+r/8P8WACAAJAAXAA4ACAD9//v/BQAPAB8AKAAoABwAAQDs/9f/3v/6/wwAIQAhABQACwD2//3/BwAEAAEACAALAA4AGgAVABEADAAIAAIAAgABABkAGQAYABQA7v/k/97/7f8PABkAIgAXAA0A/v8DAPv/8v/3/wYAEAAYABMACwD9//j/+P/t//H/8f/+/xYAJwAwADEAJAAZAAMA///s/+7/+f8DABwAGgAUAAsAAQD9//T/+f/8//v/+//9/w0AGAAkACEADQAJAAIADQAYABkADgACAPf/+v8AAAoACQAMAAkACAABAP7/+/8EABEAFQAQAAIAAwAPAB0AJAAUAAcA8f/u/+n/8f8EAA8AJQAtACcAHQAEAPX/2f/a//j/CwAvADoALgAhAPH/2//S/8//9f8IACAAIQAeAB0AEQAMAAkA///7//3/EAAfAB4AGgD8/+3/9f8CACIAIgAVAAwAAAD8/wsADwATABAABgACAPj//f8HABEAEQAUABAACAAJAAsADQAIAAcAAgAEAAcAFgAQAPX/7v/v/+7/AgAKABIAGAAfACIAFQANAAEA+P/t//L/BwAaADMAMQANAPX/3f/c//v/BwAdABgADwAKABIAEAAiACgAGgARAP7/+P8EABIANAA6ACEAFAD6//r/7//3//7/AAAFAAsAFgATABcAIAAbABYAAgAAAAwAEgAiABoAAgD8/wIAEAAlACwAEgAHAO7/6P/y/wEAJgA7ADMALwAXAA0ABwAKAAoABQADABMAJAAmACEADgD5//f//f8GABQAFAAeACIAKAAiAA4AAAD6//3/EQAWABwAGAAKAPz/7//v//j/AwANABIADQAPAAoADwAIAAoACAANABgADgD6/+z/8f/8/zAAPwAwABcA6//Z/+3/+v8gACwAMgAmABAACQAJAA4ACwADAAIAAwAcACsAJAAdABAAAwAFAAgACQABAPj/+//+/wAABwAOABAAGQAnACAAFQALAAIA/P8FAAYAIwAsACYADgDq/+r/9v8DABsAFAD6//b/8/8AACAAKgArACcAGwAOAP3///8PABcAJQAmABwAFAAZACUAIAAXAAIA9/8AAAkAHQApACsAKQANAAAA8//z/wcAFAAdAB0AEAAKAA8AGQArADYAKQAYAAcAAwD7//f/AQAKABYAGgAZABUAAAD4//L/9/8WACMAMAAuAB8AGAAOABEAHAAbACQAIQAcABMABwAKABMADwARAA0ADAANABMADwAGAPv/8f/7/yIANwA+ADUADwAEAAsADgAWABgABgAAAAgADQAdACcAJgAdAPz/9f/u//j/FQAnADEAKgAeABMADQACAAoADwAkACgAIgAdABEAEAAMAAoAAQACAAAADAAZACEAHQAdAB0AHgAYABYAFAASABUAEgAkACAAEwAKAPL/8//7/wkAGgAnABcAFgAQABEAHgAdABcAFAALAAkAIgAsACwALAAmABYABQD+/wIABgAEAAsAGgAcAB4AIAAYABMAEAAaAB0AIgATAA4ACQAPACsALgATAP//5//j/w0AJQBDADwAHwAIAOn/6f/+/w4AGQAgACEAHQAHAAYACQAQABcAFgASAAwADAALAB4AJQAQAAAA7v/y/wMAFgAoACIAEAAJABQAHAAjAB4ABgAAAP//CgAfACAAGQARAA4AFQAgAB4ACgD3/+P/4P8MACAAPwA8ABkABAD0//X/DAAYABwAFwAZABoAIgAcAAMA+v/0//r/GwAsADUALQAKAPj/7P/z/xoAKQAqACIAAAD7/woADwAmADEAJQAjABYAFwAYABYAFwARAAgABwAOABIAGwAhAB0AGQAIAAYADwAbACsAMgAnAB4AHwAhAB8AHQALAAYAAgALACsALgAkABsA9//v/wAACwAYAAwABwD7/wEAEAA4AEsARgAyAAYA8//2////KgAyACIACwACAA0AJQAvACYACQDi/9L/6/8IADQAOwAmABgABgAHACAAHgAXABcADQAXACEAIgAhABgACwAGAAQABQAAAP//+v/6/wcAEQAmACwAJQAXAAYA+//3//3/HQAjABsADwAIAAsAIAApAB8AHgD2//D/8P/7/xMAGgAQAA4A/f/8/xEAGgAgAA0A+P/u//n/DQA0AEAAOQApAA4AAwD8/wEAAQAEABYAGgAiADEAOQAvAAUA6//O/8z/9P8PADMAMgAdAAoA8P/9/xQAFwAIAAMABgAOACAAKwAkAB4AAgD8////AAAAAP7/AAACAAkADwAOAAkADAABAAIABwAPABgAJAAlABoAEwAHAAkAEgAVABoADADk/93/6P/4/xQAGQABAPX/9v8CABoAHQAdAA4A+//5//L/9/8GAA8AJgAlABkACwDx/+P/2P/d/+3/9f8RABoAGQARAAkABgAGAAkACAAGAAcABwAVACIAMAAuABoACwD2/+z/3f/t/wEABwAeACQAKAAcABQACADx/+z/+P///xMAHAAuAC8AJQAYAOr/0//V/+n/EgAeACAAFwADAPv/AwAFABgAGgAeABkACgACAAsACAAaABsADgAGAPz/AQANAAkABAD8////BwAlADAALQAeAPr/5f/k/+3/FwAqADMALAALAPz/8P/1//f//P8BAAsAIQAnABYAFgD//wAA+v/5//L/9v/7/woAJAAhABYAAADs/+3/8v/2////AwAMAAoAEQARABEADQD1/+f/6f/x/wkAEAAVAAwACQAEAAkACwAAAP///f///xEADwARAAwAAgD+/wgAEQAQAA4ACwAFAPH/9v8GABIAJAAhABAA///2//X/BAAIAAgABQDu/+7//v8QAC4ALgAUAPn/3v/Z//T/DAAzADcALAAdAAgA///v/+f/8P/4/w0AGwAqACYAEgAGAPf/8P/+/w4AIQAaABEABQD9/wAAEQAKAAgABgAEAA4AEwAOAPv/7/8BAA4AKAAtABsAFQD1/+//4//t/wMAEwAqACgAIwAUAAIA+f/v/+n/8P/z/w4AFgAkAB8AGgAVABMAEgD8//D/6//r//T/BgAkAC4AMgAoAAwA/P/r/+3/9////woADwAbAB0AHAAKAPf/6f/X/9z/9P8FABgAHAAYABQAAwD8/wsAFwAQAAgA5f/a/+D/8v8fAC0ALwAkAAoAAwD8//n/9f/2//X/8/8EABIAIAAeAAcA+f/r//T/EAAcAAgA+v/u//r/JQAyACkAEQDn/97/1P/f////AgASABAAEwAUABIACgDw/+L/0v/X/wIAGQAwAC8AEwAKAAoAEgAfABsA///x//P//P8NABMAEwAVABAACwAEAAQABgAMABIADgAHAAUAGAAfACMAIAADAPn/6//v/wIADAAiADAAJQAZAAkA/v/w/+z/7f/0/wkADgASAAkA9v/4//3/BgAMAPj/5//Z//L/AwAtAD8AKwAWAOv/2//L/9L///8WACwAKgAXAA0AAwACAPT/6f/T/9b/+v8RAC4ANQAbAAoA7//o//P///8QABMACwAFAAsAEAAvADcAJAANANX/xv/L/9//CQAXACIAHgATAAkA9P/s//H/8v8BAAYADwAVACYAKQAZAA4AAQD7/wIAAwAWAA8ACQAAAOn/4//x/wEAIgAiABMABgD8//v/EQAVACAAHAAkACsALgAnAPj/4v/G/9H///8ZACgAJAAJAPj/6//v/wsAGgAfABMA9f/w//D/BAAoADIAGAAFAO3/8f8EAAsAEgARAAcABgD8//r/+f/z//T/8//s//D/AwAWACUALgAXAAQA3//X/+X/+P8aAC0AHwAUAAwACwAPAAwA9f/j/9T/2P8FABUAHAAYAAgA+//x/+7/7//y//b/AgAaAB8AIAAeAA8A/f/f/9j/4P/0/w8ADwANAAkACQAOACIAFQD7/+//5P/r/wAABAD+////AwADABAAEwAWABAAAQD5/+P/6f8HABoAJQAhABMAAgDo/+v/+f///w0AEwABAPv/9f8FAB4AHgAKAPj/6v/v/woAGgAdABMA7v/t/+n/8v8HAAUACQAEAPD/7//y//v/AQAKAA8ACgD//wAA/f/6/wIABAANAA8AAwD7//L/6/8DAA4AIQAfAP7/8v/X/97/5v/6/x8ALQAlABYA8f/k/+L/7P/6//j/9////x8AJQAYAA4A5//U/8//1//w/wYAMAA5ACgAFADn/97/1v/k////BwATABIAFwAaAAwABQDu/+f/6//t//n/AQAQABAADwAOAP//BAD+/wAABQAMABAADQD+//v/BwAWAC8AMQAJAPD/2v/V//r/CgAeABgA/f/5/wcAEQAaABEAAQD0/+z/6/8CABEAJAAqAA4A/f/n/+P/8P/+/wIABgAEAAsAGwAcABoAEgABAPX/8v/x//H/7v8DAAcAGQAhAB0AEQD7//P/8/8GACYAKwAUAAEA7P/q/wIADwAQAAcA9P/s/+//9v8LABQAFQALAPv/8P/s//D/FAAgABgACwDs/+7/+f8OABoAGgAHAP7/7P/o//T/+f8KABIADQAOABQAEgAPAAQA+//9//j///8FAAQA/f8IABgAHQAPAPf/3P/Y/+X//P8eACkAGAAGAOT/4P/d/+X/BQAOABAAFwAmACYAHgAOAOD/0f/l//P/HQAkAA8A+//g/97/9f/+/wgABAACAP3/AQAJABkAHgAnACcAFQAPAAYADgD7//n/9P/y//z//P8GAAQA9//x//L/+P8JAAMACAACAPv/+v8cACYAJQAYAO//3//H/9n/BAAaACYAFAD///v//P8HAAgAAwDv/+j/6P/v/xsALQBGAEEAEwD4/9n/1v/u//n/DQARABgAFwAGAP3/6//p/+//+/8IAAoAFAASABEADAAIAAMA/f/8/+3/5f/v//f/AwARAAwABwAKAAUABwAAAOv/3v/Y/93//v8TABkAGQASAA0AAwD9/+7/7v/p//T/CwAWABoAFgAGAPn/6P/n/+X/6P/r/+//BQATACMAHAD9/+z/0P/W//H//v/8//z/8P/y//z/AQAQAAUA8P/m/9T/1//y//b/AwABAPv/AAACAAcABgD7/+X/2P/N/8//3v/m////CgAeABwAAQD5/9D/1P/W//D/DAAjADUAMAATAO//vf+0/8H/zP/s//P/AwD5//7/AQACAAMA9P/j/9P/3/8NACQAKQAaAOL/2v/g//D/CgD//9L/vP+8/8//CgAUABAACADv/+j/8f/8/wAA9//k/9r/5v/2/w4AEwALAPn/3v/a/+T/5f/q/+7/7v/v/wAABwANAPj/5f/W/9n/3v/s//j/BAAMAAoAFwAeABIA9v/g/7v/uv/c//r/HAAfAAYA+//w//P/7f/t/+H/3f/f/+b/EgAiADMALQANAPP/1P/H/97/6P8ZABsAGwAcAA0AAADj/9j/zv/a/wAADQAZABMAAwD8//L/7//1//P/6f/j/9//3f/n//P/JgAmABUAAwDl/9//5P/1/wQAAAACAAEADgALAA0A///X/8f/s//E//3/GAAsACAA+f/n/9n/3//w//f/6//o/+j/7/8NABsAJQATAOz/3f/C/8j/5v/u//7/BwAPABcAFwAQAOv/2f/G/8z/2//k//D//f8MABQAEgAFANj/0f/M/8v/2//q/wYADQAWAA0AAgD3/+n/3f/N/8j/yf/a/wMAEAAlACQADgD6/83/tf+s/7z/8v8OACUAJwAJAP3/9f/0/97/1//V/9f/5//z/wYACQAJAAMA9f/k/97/4v/z//b/9f/q/+L/6/8UACIAGgAKAOb/2v/V/+L/+f8IAAwADQD6//L/5//d/9D/0v/a/9//7f/w////BgAdACEAGgARAOn/1P/C/8f/6v///xUAGAAEAP7/5P/f/9D/yf/P/9T/4//r/w8AHgAkAB4A8v/a/77/u//k//n/JgArABsADADe/9X/xv/N/9n/5P/i/+D/7f///xgAGQD5/+P/0P/U/+z/7v/s/+T/5//0/xEAHQALAPn/4f/b/93/5P/l/9j/1P/R//b/BAAZAAsA5//P/7j/v//z/wQACgAJAA0ADQAEAPr/0P/J/73/y//p//r/DQATAAoABQDs/+f/3v/d/+v/8P/i/+L/5//o//P/AQD+//3/8f/s/9v/0P/K/9P/7P/1/wYACwAWABMA/v/v/9z/2f/g/+n/5f/p//X///8SABQA9v/n/8z/yf/h/+v/CQAUAAoACAD9/+r/5P/l//H/5f/U/9H/6v8CAC0ANQAYAPr/z//H/9T/6v8HAAoACAADAPH/8P8AAAgACQAAAPP/6f/m/+z/+/8CAAwADgARAAwA9//s/+j/6v/v//f/8v/u//3/AAAXABkAAAD0/+j/5f/w//f/CwAJABcAFQANAAQA8P/p/+X/4f/h/+f//P8HACEAHwAaAA4A9P/l/93/3f/w////HQArAB4ADwDk/9H/vf+9/+L/8f8OAAsABgABAPr/AgD8//T/5f/m/wEAHQAqACEA/P/o/9r/4P/0//b/6P/b/+P/7/8IABYAEQAEAOT/3P/m/+v//f8FAPf/9P/x//P/CAAMAPP/4f/V/93/+P8GAPz/7P/J/8f/3P/1/xAAEQD2/93/y//P////EwAlABMA6P/Y/9//7/8EAAQA3f/N/9f/5P8LAAwACQD+/9n/0P/S/9r/7f/z//n/+v/5////EQAaABAA///X/8v/0v/f//P/9f/3/+X/5//n//P/9P/j/9v/x//G//D/AwAaABEA6f/Y/8r/0P/o//D/4f/g/+b/8f8IAA8AAwDy/+D/2f/k/+n/+P/4/+7/6//d/+P/+/8FAAIA8//J/7f/yv/a//7/BQD+//z/CAAOAA4ABgDj/9D/z//Z//P/CAAVABAA+v/p/9T/zv/X/9f/3f/h//L//f8gACMAEwD6/9j/xf/E/8v/5//7/woAFwAVABAA8f/r/9v/1//X/+D/9v8JACgAKAAWAPv/2v/T/93/5P/8/wQA+/8EAP3//v/5//f/8P/r//b/9f/3//z/7v/t/+///v8fACgACgAAAOn/5P/s//P/AQD+/wgAAwAOABAAAgD1/+H/4f/b/+D/AQASACUAIAD8/+v/2f/k/wIADgAMAP//9//6/wEADwAHAAQA9v/z//X/8f/z//v/+v8BAAEA/f8DAAcAAQD2//L/8////wQAFAAQAAUA+v/0/+z/8v/5/wEAAADq/+D/6P/2/w8AFAD8/+//6f/w/wMACAACAPf/2v/h/xAAHwAfABEA7P/c/9r/5v/+/wcAGgAYAA4AAQDs/+n/6v/k/9b/1//e/+z/DAAQABEAAgDi/9b/z//Q/+//BQAVAAsA9f/3/+z/7f/6//P/1v/S/9H/3f/k/+z/+v8IABMADQD3/+b/1P/W//T/AQACAAIA/f/3//H/5//c/+T/5P/k/+X/4v/h/+P/+/8EAAUABwD6//b/4//h/9//3v/s//H/9v/3//H/8//z/+7/5//n//H/AAARAA8A/f/z/+b/4f/n//D/BQABAPr/6//U/9H/3v/z/wQA/P/0//H/AwAGAPz/7//R/8j/4P/s/wIABgD5//v/8v/r/9n/zP/L/9r/BQAXACUAHQD+//H/3v/e/+7/9v/6//j/+P/1//n//v/w/9z/0v/V//T/AAATABMABgADAAEA/P/n/9//4v/m//L/9v/3//f/+f/9//j/+v/y/+//7f/q/+z/9P/+/wkACgANAPv/9P/n/+H/5P/k//n/BQAWAA8A+P/y/+//9/8JAAcA7v/s/97/6f8KABgACAD9/+j/6v/5//7/CwAGAPr/9P/4//3/DAANAA4A/f/j/9v/5f/u//z//f/z//j//f8GAAIAAgD6//f/+/8AAAwADQACAPv/9f/n//D/+/8FAP7//P/6//P/8//z//X//P/8/w0AEQASAA8A+P/4//L/7//n/+n//v8GABQAEwADAPj/6P/m/+X/5f/x//v/FwAlACQAHgDm/8r/vP+//+f/8/8XABoAGQATAPT/7f/s/+n/6v/t//L//v8HAA0ABAD6/+f/4v/g/+H/6v/v//X/+/8QABoAGgAWAP7/6v/T/9H/6v/8/yEAIgAJAPj/6P/t//r//f8FAAAA7v/y/wEACQAJAAkA+f/w/+b/6/8DABAADAAFAPX/6f/q//b/AAD8//P/6v/s//D/+//+/wQA+//m/+b/7v/y/wcACAAFAP3/9P/1//r//f/6//P/9f/4//z//f/5/+//4P/c/9//3v/9/wkAEgAEAO3/4f/l/+n//P8NABEABwDp/+b/6v/p//T/9v/0//f/7//z/+//6v/y//v/DgAOAAoAAADj/9r/2P/d/+r/7P/5//v/EQATAAYA8P/V/83/7/8EAB4AJAAYAAwA7//s/97/4P/n//H/AQABAAIABQAAAPr/7//k/93/5f8LABcAHAAYAPz/7P/l/+f/+P/5//v/+f/3/+//9v/+/wAA///t/+D/2P/e//L///8RABEABQD///T/9f/2//7//P8DAAMAAgAAAPn////6//P/8//2//v/+v/v/+//7/8IABcADwAIAPX/9P/4//7/AAAMAAIA///2//L/5f/f/+3//f8JAA4ADAAFAPT/8P/r//L/+v8IAB4AHgAMAAEA+P/1//T/8P/c/9n/8f8DACAAJQAFAOv/wv++/9n/7/8jACgAGgAGAPb/8f/z/+7/9P/4/+//9f8OABYAAAD3/+H/1v/U/93/9P8DAAkABwDu/+b/9f8AAAUABQDy/+3/8P///xsAIAAQAAIA3f/Q/9b/3v/w//T//v///wYA/v/x/+f/5P/h/+r/8/8IABAABQD+//P/8//6//3/9//y//n//P8HAAMA/P/4/+//7f/4////+//1//P/7//f/9z/6//4/w4AFgAQAAYA+v/u//b/9//3//f/BAADAAIABAD6/wAA+f/z/+z/9P/t//P///8EABMAEgAIAAcACAAEAAsAEAAIAAMA9v/1//f/AwAMAAwAAAD3/+z/7v/p//H/+v8IAB8AJQAYAAkA9f/v/+z/6P/5//f/+v/+/wYAAwAFAAoADwAIAO//6v/m/+3/BQANABIABwDz/+r/4P/r/wMADwAWAA8ABQAFAP///f/7//f/7//0//z/BAAFAAMA/v8CAP3/+v/6//P/8f/w//z/AgAGAAoAEwAPAP///f/s/+j/9f/9/woADQAQAAsA9P/n/9//3f/w//r/CgANAA0AEAAUAA0A9//v/+f/4//2//n/+/8AABIAGAAYABIA6v/f/9X/4/8IABUAFwAJAPL/6f/n/+j/AgAGAAIA8P/j/+P//P8NABcAFgDz/+D/1f/b/+3//v8KAA4ABQABAPv/+P/4//P/7v/z/wMABAAEAPf/8P/n/+7/9P/7//n/+f/4//f/9P/z/+3/5P/m/+z/+/8DAA4ADwAMAP3/9P/p//D/BgAHAP3/7v/W/9L/7f/0/wIA/v/5//r/AwAFAPH/7f/o/+///v8NABkAGgAEAPb/2P/M/83/1/8GABsAKAAmAAYA8//F/7//1v/k/xAAHAApACgADgAEAO3/4f/O/9f/6f/3/w4ADAAAAPv/9P/3//T/8P/k/+P/AwAKABgAEwAFAAAA+P/2/+//9P/u//X/CQALAAkABwADAAAA//8AAPX/6//h/+P/AgAJAAoAAgD3/+//+f/2/wgAAwDy//H/9//8/wsAEgADAP//+P/u/+3/7v/3//r/DQALAP7/9v/q/+f/6//t//n/AwAYAB8AKAAhAPz/6f/V/8//7f/y/wMACQAHAAcAAgAEAP7//P/z//f/BwALAAkAAwD4//T//P/5//r/7//f/+T/+/8FABwAGgANAAQA6P/e/+P/6P8LABcAKgAbAP//8//k/+r/8f/0//j///8RABcABgD7/9H/yv/U/+n/FwAkACwAHQAAAPP/4P/d/9j/2P/n//H/CQAGAPn/8P/b/+X/7v/9/xAADQAFAP//4v/j/+7/9f8UAB8ADQAHAPD/5//x//f/9f/x/+b/7v8HAAMAAAD2/+D/2//X/+n/CAAWABgAFAD8//T/3f/f/+7/8//1//3/AgALABgAFwD7/+b/x//I/93/9P8MABUAHAAWAP3/7f/e/9b/3f/j/xAAJQA0ADIACQDj/7n/uv/X/+3/CwAUAA8ABwD7//P/8f/u//P/8//5//j/+P/6/wsAEQAEAAAA8v/z/+r/9v////b/4v/j/+b/8f/5//P/6P/m/+j/7f8AAAsAFAANAPT/6f/o/+b/6//w//b/7f/2//T/+//4/wIABAAMAAMA9f/s//X//f/9//3/1//N/9L/3/8FAA4AAQDz/+n/3P/j/+n/+v/+/w4AEAD3/+3/6v/j//L/8f/v//L/BwASAAcAAwDn/9z/2f/h//n/+P/2//X//v///wIAAAD6//X/4v/a/9j/2//x//j/BAAFAAYADAAGAAIA7v/v/+T/8P/1/wMADAAMAAUAAQDe/87/wv/F//L/BAAeAB8ACgD1/+3/7P/5/wEACQAIAPb/8P/s/+//7//r/97/4//3/wMADgD6/+T/4f/w//j/DgATAP///v/y//D/5v/o/+P/5P/q/+//8P/v//j/+//w/+X/4P/m/wAACQAGAPv/6f/l////CQAEAPf/2v/X/9n/5P/1/wUABQD///b/+P/p/+z/6P/m/+P/6f///wYAAwD8//j/8v/x//L/8v/w//z//v8HAA8AAAD8//b/8f/n/+P/3v/u/wIABAAMAAQA8P/l/+D/4P/g/+r/CgAWACcAKwAIAPP/zP/P/+v//v8WABsAAADt/9P/z//h/+b/BQAMAAMA/f/2//L/6f/p//f/9f/5//r///8CAAMAAgD8//v/+f/9/wcABwAHAAUA+f/y/+3/8P/1//T/9//4//z/9v/x//b/BQALAAIAAAACAPn/8f/q/93/3//5/wUACwACAPX/7f/s/+n/6//q/+3/+v8KAAwACAD+/+L/5P/x////DQAPAAUA+v/s/+r/8P/q//D/8P/w//X//P/7//v/8//9//r/AQD8//j/8//7//v////3//D/8//3//z/DQAHAOz/4v/r//H////+//f/9//+/wQAAAD2/+f/5v/2//v/CQAIAAsABADr/+f/5f/q/+//8v/2/+7/7P/y/wQABwD9//3/5P/j/+H/7f///w8AGQASAPz/6//Z/+T/9//7//P/8f/u//b/7v/p/93/2//X/+f/AwADABMAFAAKAAYA9f/r/9j/2f/t////HQAaAAwA/v/u/97/yP/I/+D/8/8CAAcABgAIAP3//f/o/97/3P/r//b/+/8MAA8AFwANAPv/7f/d/9n/1//g//r/CQATAA0A+v/z/+H/6P/t//P//P8FABUAGwATAA0A7P/e/97/6/8CAAwADgADAO//5P/h/+b/9f/7/w4AEQAGAAQA8//t/wEAEAATAAkA9P/q/+X/7//+//3/9//v/+b/7P/8/wkABgD4/+L/4f/8/w4AIAAhAAgA+//x//b//P/+/+n/6v/s/+7//v8FAAUA///x/+v/6//s/woAFwAbABcAAQDz//H/9v8HAAgA/v/v/+v/7v8PABkAIwAWAPf/5f/f/+z//f8DAAEA/v/7//z/AwD///f/+/8HAAMACgAEAAQAAAAFAAUA+f/2//r//v8LABEACgD8/+f/7/8FAA0AGgAfAAkA/v/5//j//f/8//v//v8EAAgAFAAiACoAHgAPAP3/3f/a/+L/6f8GABIAHwAgABoACAD1/+n/4f/m////DAAdABYAEAAAAPz/9f/w/+3/7f/5/xYAGwAbAAoA7P/r//H/AAAKABEA/P/8//b///8OAA8ACQAPABsAFgAKAAIA9f/u/wgAEAAgABIAAgD4/+3/7//9//3/AAAJABUAEgD3//L/5f/2/xgAKwAyACgABgDx/+L/5//9/wEAAgD4//b/7f/p/+3/8P/r//D/+/8NABMAIgAfAAAA7v/d/9n/+/8QADgAOwAUAP7/1//a//v/CAALABMA///3/+b/7v8AAP//BwAMAAUAAADz//D/5v/o////DQAcABkAEAAGAOH/0P/U/+P/DgAYABsAGAAGAPP/4f/g/+L/5v/w//3/DgANABAACgAJAAAABgAHAAQA/v/z/+f/5v/m/wAADgAcAB4ACQD8/+X/5P/q//z/HQAoAC0AIwD+//D/2f/Z/+r/9P8CABQAIwAYABIABwD4/+v/5v/i//D/9v8bACYAHQAUAPP/6//3/wAADQAOAAkA9//5/wUAJgAgAA4AAwDm/+j/+P8MACEAJgAjABgABwD4/+v/6P/j/+P/CAAPACIAFQD+//T/8//2/wIACAAEAAcAFQAYABcAEgD9//7/AgAHAAoA///2//H/8//5/////v/y//b/+/8HAAcACgAIAAcAEAANAA8ACgDt/+7///8EAA4ACgAFAAMAEAAUABUADAD8//r//P///wIACgAGAAsACgARAAAA//8EAAkAFgANAAYAAAD//wEAAwACAPb/7//1//r/CQAHAAcABgAPABgAIQAhAAUA7v/e/+b/AAARABcAFQADAPj/5//s//b//v8PABMAEQAJAPT/8v8FABEAFgATAAcACwAjAC0AOQAsAAMA8f/g/+b/9f/+//3/+f/8////CgAQABMADwANABEAFgATAAMAAgAEABIAFAAVAAUAAADz//L//v////P/7//1//n/AwAJABAADwAHAP3/9//x//j//P8PABUAIQARAA8AAwDq/+D/0//P//D/BQAkACkAHAAJAOb/6P/7/wkAGAAOAO7/4f/q//7/IgAlAA8A/v/p/+z/AgAFAAkA///z//r/BgARABYAEgDr/9z/0//f/wYAEQAhABcA7v/g/9L/1//5/wEADAAIAAcABQAUABkACQD2/+X/5////wwAHAAaAAoA/v/r//L/+v/x/+b/3v/d/+n/AgARACIAHgALAP3/4v/d/9v/5f8QABkAMQArABYABADQ/8P/uv/C/+7/CQArACkACQD6/+f/5v/3/wUADwAMAAQA/v/0//P/AgAJAAUABADw/+H/1P/V/+z//P8GAAMA8//t/+v/8v/7/wkADgARAAcACgAOABIABQD6/+7/6//v//X/+//7//D/7f/t//D//////////P/0/+z/8v/1/wIAEgAlACQAGgAVAP//9//2////CQAKAAcA+v/r/+H/6P/s/wEABwACAAYA/f/+//v/AAATABgAHAAbABcADADs/+X/5v/l/+3//v8mACsAJQAVAPD/3P/J/8v/2//y/xkAKAArACUABgABAPL/8f/y//f/8//y//7/CgAlACIAHgARAAEA9//n/+f/8f/4/wwAFwAsACYAEQD4/9r/0f/h//X/GgAkACYAHQAVABgAFgAVAAIA+//p/+z/9f/5/wUACQAMAAkACQAHAPz/+f/v//D/9f/5/wsAFwAhACAAEwAMAPv/8f/4/wYAGAAbAAkA/f/n/+3///8UABUABgDr/+L/8v8AACMAKgAdABYADAADAPL/6v/v/wEAEwAcABkAEgD+//T/6//w//n/+v8OABAAEQAPABAAEgAVAA4A/v/8//3/AwAUAB4ACgD6/93/3f/x//7/CgANAPj/5//f/+b/DwAgAB0AEwD6/+n/6//4/wAA///z//v///8GAAEA///5//P/9f/1//L/9/8BAAAA+f/7/wIADwAiAB8ACAD0/9z/1v/w//v/AwADAAQABAADAAIA+//0/+T/5v8BAAkAHwAWAA4A/f/p/+n/9v/8//X/+f/r//L/CgAhACYAIAD2/+b/x//L/+H/8f8TABoAEgD///f/9v/6//z//f/r/+n/8P8NABsAGQATAO7/7v/v/+///v8AAA0ADAAKAP7/5f/i/+3//f8IAAcA9//u/+f/6f8AAAoAEAAYAAwAAwDf/9T/z//R/+3/AwAWABsAGQAKAPP/6f/m//D/+v/4//L/8f/1/wQABQD8//H/6v/t//b/AAAMABEADAD///b/8v/4/xoAIAALAPP/y//J/+f/BgAkAC0AGAD//+r/3f/V/9//9/8KABMAGgAQAA0ABgD//+7/6f/x//r/DAATAAMA9f/g/+D/6//6/wYADgAOAAsA/f/3/+7/8/8AAAUAAgABAAMACgAMAAYA9//3//v/BQARABMA8//r/+X/6f/u/+v/8//2//3/AAAJAAsA///8/+n/6v/5/wcADQASAAQA9P/k/+3/AQAJAAAA9P/w/+z//P8EAAwADQAFAP3////3//z//f8KABAAFAATABkAFAAIAP3/5//j/+r/9v8GAAAABQAIABcAHQAkABwABADo/87/1//w/wgAMgAzABYA/P/T/9T/7v/+/wQACAD//wIA/P/2//r/+/8HAAoAEAD7/+7/6v/4/wEABwAEAP7/BwAcABwAAADu/9b/0f/u/wgAJgApAB8AFgD2/+z/7P/w//z/AAAPAA0ABQD+//r/8v/5/wYAFwAVAAQA8v/n/+r/+v/8/wMAAwAJAA4AGwAUAO//5v/o//X//f8DAPz/+////wUA/v/u/9f/1//s//b/BAAGAAkACwAAAP3/7//w//X/9/8GAAYADQAVABsAHAAEAPT/3//d/+j/+P8KABMAAQDy/9X/zP/c//P/FwAdABYADQAKAAQA+v/6/+j/5f8CABEAIgAiAAYA+f/p/9r/2f/f//r/BgAMAAMA+v/1//P/9v8JAAgABwAHAA8AEgANAAoAAAD9/wcACQD2/+f/0//N/97/9P8YACEAEQD//8//wf/P/+P/DAAZAA8AFQD8//b/9v/2/+//9P/8//v/8f/x/+f/6v/1//r/6P/o/+X/7v8EAAwABgD+//P/+P/2//n/AAD9//P/6f/a/9n/5v/+/xYAFwAIAPb/2//U/93/5v/2/wIADwAOAAEA/P8CAAUABgD+/+j/3f/w/wIAIAAeAPr/3f/C/7r/0P/g/w0AGAAiABUAAAD7/+j/4//l/+T/CAAcACsAKAANAPf/0//S/97/9P8JAA4ACQANAAMA+v/n/9v/1//V/+3//f8cACYAHwAMAPn/7P/+/wgAGQAPAPT/7v/z//3/DwATAAQA9//y//T/8//0//v/BAAJAA0ABwD7/+z/6v/4/wYADwALAAMACQANAA8ACgAJAO//6P/g/+7/BQASABMADQDp/97/2//m//v/DgAYABoADgAQAAQACAAGAAcA/P/2//X/8v8NABAAFwAGAPD/6v/t//P/BAAHAPz/9//+/wgACQANABMAEQAEAPz/5P/h/+L/5v8BAAsAGgAZAA8A+//a/9D/1f/p/xMAIwAsACoACAD7/+L/4P/W/9z/CQARABwAFwADAPT/6P/n/+z/9/8MAA8AHgAYAAoAAwDv/+3/8f8BAAwACQABAO7/3P/a//H/BwAVABwABQD6//z////1//f/8v/+/wsAEAAUAA4ABAD///3/AADu/+j/4//s/wUAEAAEAP//8f/t//P/9v8CAAEA//8CAAcADAAWAB0AFAAEAN//1//E/8r/6//9/xcAIAAUAAYA4v/Y/87/1//9/wgAFgARAAUA9f/w//P/AAAFAAoA///8//P/8P/s//D/7v/c/+T/7f/0//j///8IAAcABwACAPX/7//t//f//f/+/+r/4f/g/+b/6v/0//v/+P/5//P/9P/3//T/8f/z//T/7//1//z//f/7//j/6v/r/+3/6f/3//n/AQAHAP///P/q/+b/8//4/woADgARABIAGAAXAAYA+P/q/+f/5P/k//X///8RABgAFgANAPj/9v/y//3/BgAGAAUA+P/r/+v///8GAAkADQD+//P/4v/h/+n/+f8dACIAFAACAOH/3P/c/+f/BgASABcAFgALAAoABQALAAIA+v/n/9//5v/v//v////0/+7/4//r/wwAEAAXAA8A9P/l/+X/7P8FABEAGgAKAAIA+f/p/+3/7P/r//n/+//w/+T/3f/l/wIADgAXAA4A3//E/73/zf8DABwAKAAdAAYA///v/+n/8v/t/9//4f/i/+3/DwAYABcACgDh/9L/yv/Q//L/EAAwADUAIAAPAOr/4v/l/+//AgAKAP//9//6//v/AQAHAA4ADgAMAAUAAAD3//7/AgAJAP3/+P/3/wUACQAVABYAAgD9//P/9//7/wMAAwADAA0ABwADAPX/7//0/wEAEgAmACcAGwATAAUA/P/v/+v/5P/p//z/DQAjACcACwD7/+n/8P/5/wEAHAAjAA4ABADn/97/4v/r/xEAGAAMAAoA+P/7/wUACwAJAPz/3v/b/+r/+f8TAB0AGQANAPj/7v/1//z/GwAhACkAHQDs/93/z//R/+D/5v8CAAUACQATABEAGAAGAAUA6//i/9v/4f/+/xUAFwAWAAgA/P/1//H/+v/9/wEAAgAEAAcABAAJAAUAAADu/+b/2v/R/93/7v8MABcAHwAZAA4A/v/k/9T/zv/V/+n/9/8RABQAAgD1//H/9f/7//n/7//l/+X/8////wkAAQD6/+v/5P/j/+v/8//z/+j/7//8/wUADwAIAPP/6//T/8//4f/x/wkAAwD2//H/5v/l//3/+//r/+r/8v/7/wgACgDx/+X/2P/k//3/CAACAPz/2//S/9f/5v8CAAwAEAADAPH/7f/j/+b/7f/s/+X/6f/0//b/DQAHAPr/7//b/9P/1P/a/+z/8f/s/+P/3v/n//7/BwAUAAEA1f++/8T/1P8XAC8ANAApAPz/6v/S/8r/1P/b/+//BAAjADAAJAASANv/yP+w/7X/1P/t/xEAGwAeABkACwD7/+v/3v/Q/9r/+P8PADIANwAmABMA8f/p/9r/4//6/wgAGgAiAC4ALwAaAAIA2v/H/8D/zf8LACYANwAsAAYA9v/z/wMAIAAjABMABwADAP7/GQAgABAA///o/+f/+f8OACQAHwAJAP//AAAHABsAFwACAPX/6v/v/wkAEwAcABAABgACAAUACwAPABMAFAANAA8ADgAOAAkABAD9//v/BAAcACQAKQAYAOz/1P/K/9z/EwAwAD4AMgD7/+H/z//S////CwAeACEAHQAYABMACwD9//L/9P8BACYAMgA2ACsA+//l/9f/4P8CABUAMAAuABgADADe/9b/4v/2/yYAPABCADAABwD2/+X/5f/0/wQAGwAeABAADAD5/+3/8P/7/w8AGQAPAAAA+/8FACoALgArAB0A5f/d/+v//P8TABUACAD///f///8NABAA/f/z/9//3/8CAAwAKwArAB4AEgDy/+r/5f/l//P///8OABMAIAAlABgADADu/+j/2v/t/wEABwAGAAgAAAD4//X/9//5//P/DgAHAAoA///0//T/+f8FAAYA/v/2/+//6f/n/+X/5//l//L/AwAGAAMAAgAKABIAFAACAOL/w/+9/9D/EwAyAEsANQDn/8P/tP++/+3/+/8JAAYA/P8EAB0AIgAEAPH/zv/V/+f/9v8MAAsA8P/r//T/9f/8//n/5//i/9//4f8GAAoAGwATAAMA+//r/+f/7P/m/+P/5//m/+3//P8KAA8ADQD8/+7/5v/m//T/+f8AAP//8v8AAAwADQADAPH/2P/S/9L/4f8CAAoAEwAXABEADAD///H/5P/f/+n/+v8RAB4AFwAOAPv/6//b/9j/6f/s//H/AAAdACYALwAZAP7/5f/N/9X/7P/5/wAAAgD8////BAAAAOr/4f/f/+X/+/8KABwAGQAMAPv/5//e/+z/9/8IAAQA///4//n/AAAVABgABgAJAPP/8v/3//7/7P/p/93/3//3/wMAJQAnAB0ADQD7/+7/3v/b//f/BgAyAEAAOQApAPr/7P/I/8T/0f/h//7/EgAsACsAHQAPAPj/3//S/9P/8v8GAD0ASwBLADcABgDx/+H/5v/Z/9T/2v/m/w4AJQA4AC8ACADy/+7/8f/8/wMAAwADABAAFwAjAB4ABwD6/+j/3f/V/9n/+v8RAC8ALgAbAAsA4//a/9j/3f/v//j/FAAbACAAIAATAAcA5f/g/+D/4v/x//z/BAAIAAgABwD0/+v/3f/i//P/+v/+//v/9//0//f//v8LAAMA/P/0/+b/5//i/+n/+////w0AGAAJAAEA5P/a/8f/zP/q/wEAEQAVAAkABAACAPX/6P/m/9f/3//k/+z/BgAWACAAKAAOAPb/0v/H/9H/5v8IAA8AFQAPAA4ACgD1/+X/zv/A/8v/1f/+/xIAHAAfAAgA/f/v//L/+P/6//T/7P/s//n/EAAYABMACADc/8//yv/Q/+X/6f8DAAgAFQAcABYAEgDu/+T/zf/Q/+n/AAAhACcAHQAHAOj/3f/U/9X/4P/j//n/AAAUABsAEAD+/+r/6v/w//b/EwAbAAoA+//b/9v//P8IABwAEwDp/9r/0f/c//3/BQANAAsA/f/3//3/BgALAAEA3//P/9n/7P8TABQAEAAGAAEABAADAPL/3P/T/9T/5f8NABsADwAHAPH/6v/m/97/0P/X/+r/9v8JABoAGwAZAAsA+v/m/93/3//q/wMAAgAFAAIACAALAA4A+P/i/8//zf/Z/wcAEwAmABkA8f/e/+P/9f8XABQA6v/e/9r/8P8iADIANQAiAPn/5//X/9L/1//c/+n/9/8KABYAKAAqABkABQDY/8L/1v/p/yEALgA4AC4ACwAIAPH/5//U/9H/2f/w/zEASwBIACsA5//F/7L/yf8JABwAKwAiABEACgAnAC8ADgDv/8D/vv/P/+v/HgAsACsAHgAHAAMA+v8AAPP/6v/j/+n/CgAdACQAGADw/+H/2v/e//f/AQD5//b/BQAZACkALQARAP7/2f/X/+v/9v8RABMACQADAPv//f8TABsAEgABAOD/2f/p//P/AwARABcAGAAWABgAFwAUAAAA9P/P/8z/2P/y/ygANQArABMA8P/w//H/9v/+//L/9//7/yMAJwAuACIA+f/c/8H/yf/k//z/HgArACIAGwABAAAA7f/o/+b/6P/0//b/AQAMABwAGwAZABMA/v/z/9X/1//p//L/CgAWAA0ABgD1//j//f/8//f/8f/g/+D/AgAWACcAJwAMAPv/6f/e/+r/7f/6/wQAEAAaABMADAD1/+7/4f/c/+H/7P8AAAQAHwAwADcAHgDy/9n/u/+1/9T/5v8EAA8AFgAUABEABADg/9v/1//j//b//f8KAAYADgAQABQABADj/+T/3//n//7/DQAYAB0AJgAmABQA+f/a/9T/0//U/+P/9f8WACEANwA2ABAA7//C/8L/5P/4/xMAGQAPAAMAAgAPABEADgD9//f/4//c/+T/+/8JAAsABAAEAPr/8v/u/+7/8f/r/+z/6f8JABkALQAsAAwA8v/b/93///8GABkAGQAIAAIA//8KAAkABwD7//X/7f/j/93/4f/6/xAAKgAsACAADADo/+f/9P/8/wsAEwATABkAGgAWAAYA9//m/+//+v///wYACgABAAAACQAPAAsACAAKAAsAEQAQACAAIgAfACEAHAASAAEA///6/////v8EAP7////4//r//v8JABAACQD1//f/FAAbACYAIwARAAgA/P8CABgAJAAmABoA/f/m/9X/4v8EABsAJwAiAAcA9P/s//D/+/8BAAQADgAhACQAIgAVAPz/6P/p//T/HgAvADMAKAAAAPn/8P/8/xEAFQAPAAkABAAAAAEACQAXABEAFwAQAPz/8//n//P/EwAeACMAIwALAAkABQAJAAEAAgAGAAQAEwATAA8ABwAFAAUABwALAA8ACAD5//r/CQAVACAAKAAkABkA/////wEA////////DwAQAB0AJgAmACcAAwDy/9r/1//p//j/JQAxAB4AFAAcABYAFQAVAAQA+//l//P/BQAZACgAJAAHAP//8f/r/+r/+P/9/woAEgAZAB0AKAAmACAAAQDt/+n/6f/4/wsAHwAkACMAIAAIAAYA9f/t/+j/7f8CABYAIgApABEADQACAAcADQADAPv/9f8AAAIAGAAbABYAEgAAAPv/7v/t/wIAEgAjACAADwAHAP3/BQAPABEADAAKAAsACAAMAAoAAgAAAPr/+/8UABYACgD+/+P/3P/r//z/IAApADAAJgAUAA4ACAD//+7/5//7/wMAHQAtACgAIwAEAPX/5f/t//r/BwALAAgAAQAKAA0ADwATAAYA6f/k//b/BwAdABsAFgANAA4ABwD7//D/4P/g//j/BwAVACEAKAAnABYACwDs/+D/4P/r/wUAEAAXABYAGgAZAA0A+//r/+X/AQAQACUAHQAPAP7/7//6/xQAGgAJAAQA7P/v/wIAEwAvADIAFgAMAPT/6f/a/9//+v/7/xMAFgAjACsANwA2AA4A9//a/9n//P8aACQAGQDv/+7//v8VADQAMgAPAP3/7P/v/wYADwAiAB0AGAAOAAMA+P/6//v/BQALABEAFQAWABoAIAAYAAcAAAD2//T/AAALAAwADgAaACUANgAwABMA/v/d/+X/CgAbABkADgD6//7/GwArAC0AHAD0//H/6f/u/xIAGwAfAB8ACwABAPL/+/8PABUAIwAMAPX/7v8EAB0ANgAxAAwA9//t//n/EwAVABUAGAAaACIALwAwABAA/v/j/9r/8f8KACoAKQAeABUAEAAJAAoAAgDv/+//BAAOADYAQgAxAB0A9v/v/wEADQAmACYABQD8//H/+/8HAA8ADAACAO3/7v8CABMAJQAlABMAEAASAA4AGQAWABEACwAIAAIAAAAMAB4AIQATAAQA5v/k/+z/+/8WACgAGQAVAAUAAAAAAAoAMAA4ADMAKAAFAPH/5//s//b/AgAUABUAFAANAP////8LABAAEQAQAAgACAAKAAsACQAIAAUABgD9//7/CAAMAAkADQAWABcAFAAQAPz/8f/d/+D/+/8GABYAGQAPAAMACAAHAAAA9/8GAAcAFAAQAAUAAgAAAA8AFwAZAAYA+P/k/+v/AgAPABcAFQAJAP7/+/8CAAUAAwD7//b/+P8FACQANQA3ACEA+//m/9n/1//w//3/EwAaACcAJgASAAQA2v/X/9b/5/8NACIAJwAiAAcA/f/7//7/DAAHAO//6P/3/wQALAAzADYAJAADAPH/2P/W/+D/7v8eACwALAAiAPv/8//u//H//P//////CAAWACMAIgAdAAkA9//s/+r/9////wwABQAGAAwAFAAbAA8ABgADAAIA///2/+//+/8LAB8AIQAVAPv/8P/w//v/DAAXABYAEQANAAgACQAHAAwADgAZABAABQD8/wYADQASABUAFAATAAkACgAAAP3/6v/s//H//f8TAB0AJAAdAAUAAwAHAAcAGgAgAB0ADwD8//f/CQATABYAHgAbAA0A7v/t//j/CAAaACMAHAAXAAQACQAEAAEABwATABwAJAAkACYAGgAJAP7//P////v/+f/+/w8AGwAZABkAGQAVABQAGQAGAP//+P/5/wwAGwAqACkAKAAaABAABAD8/wQADQAPABUAFgAeACYAJAAeAPT/4//s//3/EgAiACAAFQAOAAsAEgAYACcAJgAVAAQA6f/l//X/BwAuADYAKQAYAPj/8P/o//b/+/8CABAAHQA9AEUAMgAkAPj/7//y//f/BgAFAAUABwAWACYAIwAfAAYA/f/6/wkACQAPABcAHAAWABsAFwANAPz/+P8LABEADAAGAAIABAAVABcAHgAQAAAA+v/7//f/9f/5/wkAFQA0ADkAKwAeAPb/7//w//r/EAARAAoADgAcAB4AKgAcAPz/5//a/93/BQAgADsANQAYAAoA9v/4/wUADgAEAAQACQAQACkAMwAwACEA9f/l/+L/7P/9/wUAEwAhADcAOwBBAC8A9//f/8X/0//+/xQAJwAmABgACgAMABAACwAOAAcACAAGABMAGwAdABMACQDx//X/+f8HABgAFwAGAPv/+/8DAB4AIwAZAAoA+//2/wQACAAdABgAAgD8/wAADwAVABcADQAEAP7//P/7//n//v8IAAsAFQAoACYAHwAeAPr/8f/r//L/7//6/xIAGQAhACMACwD+/+n/4P/4/wAAEQAhACcAJgAoACIAAgDw/+L/5f8CABgAMQAzACoAHQABAPf/5v/k/9z/6/8PACYAPAA6AC0AGAD9//T/8//9/wgAGQApACkAHgAbAAMA9v/p//L/AQATACMAKwAiABsA///4//r//v8OABgAIQAoACQAIAAVAAgAAAAAABAAFwAbABEA/f/2//L///8XAB4AIgAkABwADgD7/wIAEgAXACAAHgAHAPf/8P/4/w0AGgAhABkADQAEAAQADQAOAAYA6//r/wEAHAAvADIAHAAPAPv//P8LAAgAGQAhABoAFAAJAAYA+P/2/wcAEAAcACMAGwAbABAABwABAAYADAAUABEAFAAGAP3/9//3/w4ADwAlABoADwAFAPv//P8JAA4ADwALAAsABQD3/wAA/P8AAA0AFwAnACoAHgAPAPL/6v/p//H/DgAeACgAIgAhABUABQAIAA0ACgAFAAAA/P8IAA8AIQAtACoAFwAOAAMAAAAQABIAGQATAAMAAgAMABMAHAAdAAwAAwD//wQACQANAAgADQATABQAEgAKAPf/9f/4/wIAFAAQABcAGwAgACEAHQASAPD/7//z//z/BQAOAA8AEQANAAwADQAJAAcACAAIAP3/BQAAAP//BgAeACAAHwAaABEABwD6//X/6//t//f/BQAUAB0AHQAbAAIA9P/s/+n/+v8DABkAIgA+ADwAJwAOAOz/2//T/9r/+P8HACMALwAoACYA/v/x/+j/5P/n/+3/+f8FAB0AJAAoACEA+P/m/97/5//+/wsAKQAmABsAEAAKAAIA6v/s/+//+v8CAAgAFAATAB8AKAAwACgABQDw/+r/9f8MAA8AEAARAP3//f8UABsAEgAIAOz/4v/t/wIAKgA0ACgAHAAQAAgABgANABAADQAGAAQABgAIABQACAD9//f/5//q//X/BAAbACcALgAqABYACwD5//P/7//1/w4AGgAdABoAEgAHAPn/AwAAAAMAAgAAABEAEQAQABQACQAMAA4ACQD6//7/+/8BABQAIAASAAkA/P/9/xoAJAAyACUA/P/t//P/AQAeACoAKQAhAA4ABQAIAP///f/z//f/AwAHAAsAFgAbAB0AGQAOABEA9P/0//n///8NABAAIgAfACMAGQANAAEA8f/z/wYACgATABQAGAAYABMADgAAAPr/6v/p/+3/+v8WACIAMQAtABcADAADAP3/+f/8/w4ADgAMAAoAEQAXAB0AHQAWAAwA6f/k/+3/9/8OACcAPQBEAC8AFwDt/+b/7f/4/xQAHAAdACAAHAAUAAMA7v/o/+D/9f8GAB0AJAAcABYACQD7//7//v8MABUACAAJABMAFQAjAB0AFAAJAPj/8v/2/wAAFgAYABgAEAD4//P/AAAAAAQAAQAGAAsADQAPAA8ABQD8//r//P8DAAwADAANAAgACwAHAPn/7v/x//j/DwAeABkADgDq/+P/6P/u/w4AFwAhAB4ADwAHAP7/AAAGAAUAAgADAAMACQAUABoAHAAYAAcAAAD4//n/9//8/wkAEgAXABwAGgATAO//7P/s//r/GgAlADYANQAVAAUA9v/1//r//v8GAP//AQAHABwAGgAOAP7/7P/n//T/BgAbACEABQD6/+v/9/8dACMAJgAZAP3/8v/v//z/BgAIABQADQAMAAsAHgAmABcACwDo/+b/+f8QACcAKgAeAAwA9f/x//H/9v/7/woAFQAYABQAEQAJAAUACgALAAIA/v/7//z/BwANABUAGAATABAABgAHAAgABwD5//n/9f/0//P/9v8JABUAHgAeAAIA7v/Z/97/BwAYADIALgANAP//CgAJAAsACgD7//f/AQAHAAwADAAGAAgA/v/9//L/8f/p//f/EQAYABUAFAAQAA4AGQAXAAcA9v/o/+v/AgAVACoALQAVAAYA6P/n/+j/7f/3/wIAEQAWAAUAAQD9//r/CgARABsAGQATABUAFQAVABYADwD+//7/AAD8//z/+//9//v/AgAOAAsAEgARAAcAAgADABIAFwAfACAAIQAZAB4AKAAhABgA///z/+D/4v/2/wMACQAHAAUA/f/z//b/+v8AAAAABgAKAB8ALQApAA0A/P/x//D/AwAQABsAGwASAAoA///4/wYAEQAVABYADgAAAPP/9/8JABEAJQAmAC0AKgASAAgA6v/i//T//f8aACUAJwAmABQAFQAGAAEAAgALAB8ALgAvAC4ADgAGAPb//P8NABgAKwAcAA4AAQAEAA4AGQAdABcAFQAWAB0AEgAQAAAABQAeACsANAAhAAoAAQAGABUAGQAWABgAEAASABUAFgATAA8ACQAOABcALgAyACIADgD1//L//f8FACMAKQApACAAAAD0//D/8v8RACAAMgAtABUACQACAAoADQARAA0AFQAeACMAGAAKAPH/7//7/wsAFwAcABcAGQANAA8ADAANAAkADAANAAwAAwD8/w0AHAARAAgA8//1/wQAGwAoABgA+//s//n/CAAoACwAEAAIAPP/+v8FAA8AEwASAAAAAAAOABkAHwAXAPP/6v/y//7/EgAbACoALAAuACMAFAAKAP//+v/3//7/FwAcACsALQAhAAkA8f/r//n//f8GAAkACQAPABEAFgAFAAMABQAIAA8AEQATABsAHwAeABMACwACAAEACQAHAPj/7//z//z/DwAYABgAHAAUABYAJAAkABUACQAEAAYABAAJAB0AIgAoAB8AEgAFAPD/8f/7/wQADAASACAAJQAcABcABwD+//v//v/5//7/EwAZAB0AHgAfABYAAwD5//L/8f8DABcALgAvACYAGAAFAAEAAQD5//T/9P/2//z/DgAYACAAIwAuACYAAgDz//7/BgAkACIAGAAKAAEACQAoACQAGgATAP//+//9//z/DAAXAB4ALAAkAB0A/f/o/+T/5////xEAPQBCADwALAD+/+3/4f/v/xsAKAA2ADUAHQASAA4AFwAZAAwA+v/0/wMAEgAoACoACwD9//j/AAAYACMAJwAgAB4AEQANAA0AGAAeABwAFgAKAAgA/v8MABcAGgAOABMAIwAxADQAJgABAO//5v/2/xAAGwAmACAADgACAPn/9/8RABcAGQALAP//+f8AAAcAGAAWAA8ADQAJAAcABAAEAPv/+/8OAA4AEAASABIAEAD//////P8IAB4AKgAZABEADAAQAA8AEAD6/+//6P/m/wgADgAkABwAHgAVAA0ACAAEAAwAGwAmABsADwD2//D/9f8EAB0AHQAaABQADAAHAPv/9//x//D/AgATACwAJwAQAPn/3P/e//b/BAAiACkAKgAoACAADgABAPz/CAAOAB0AIAAQAAkAAwAEAAAA+//5//3/BwAIAAsABAABAAcAEAASAAkACQAPABUAFQAOAPj/9P/5/wYAIAAaABEA///l/+b//v8AABQAGgAUABIAFQARAP7/+f/v//X/BAASACsALwAbAAgA8//2/wUAEwAYABQACwAMAAcABgARAAQAAwACAO//8f///woAKwAoABgACAAFAAsAGgAdABAABAD2//f/CAAYACIAJAANAP7/5v/o/wEAFAAlACYAEwAIAP////8AAAQABQALABEAEwAYABUACgAJAAkADQAOABIAFgAhACMAFgD8//X/9//3/wAACwAfACIAJQAaAPT/6P/d/97/AQAQACwAMwAmABsA/f/1//7/AwAVABoADgAPABUAHwApAB8A+//u/+L/6P8SABoAGwANAPf/+v8OABwAJgAgAAsAAAADAAsAFwAgACgAJgAfABIABQADAPn//P8EAAgAEAAWAA4ADgAWABcADgAQAAYABAAKABQALAAqACAAFgAMAAgACwARABEADgAPAAgACwAGAAIAAgAEAA4AGAAbAA0ABgD5//r/EQAbACIAHAAaABEAAAACAAIACAAFAAsABwAGABUAHAAcABkABADy/+P/6v8JABQAGQAUAPv/8//2//7/EQASAB0AGwAGAPj/6//s/wMAEQAdABYAAAD9////+f/9//f/8v/z/wgAFQAhABkAAAD+//L/9//z//X/AwAMAB4AHAAOAAQA+f/9/wIACgAOABIAAwAIAAkAFAAZABQAEwAFAPv/+f/2//D/+f/5//r/+f8BAP7/AAAGAAIACgAGAAgACQAKABQAFAAOAAAA8P/x//n//f/x//b/+P8BAAkAEQAXABUAFAANAAkA/v/y/+H/6P/y/w0AFwAdAA8A5//Y/+H/7P8GABgAGAASAP3/9v/6//j/+P/z/+7/8P8CAAUAEwARAPn/5v/a/9j/4v/1/wwAFQAXABcAFgANAPf/7//p/+3///8LACEAGQACAPj/5v/g/+b/7v/9/wQADwATAB4AGgAMAAIA9P/0//n/AQAQAA8AAQD+/wEA+f/3//H/+//9//f/+f/n/+P/8f/2/wQACQAIAAAA/P/3//3//v8OAAkAAwAEABYAHQAWABIA/v/v/93/4f/q//T/DwASAAoACwAHAAMA/P/0//n/+v8PABYAEwAOAAMABQAIAAgAAgD7//P/8v/9/wIADwATABEABQDz//L/AQAIAAsAEgABAAIA+/8EAAAAAQDr/+f/8f/6/wkACgD9//v/7f/t//7/BAAWABIAEAAGAPv//v8HAA0ACgALAAcA/P/6/wEABAAAAPr/9P/1//r/DQAYACEAIgAKAAQA9//5//7///8DAAkAEAAOAAsAAQD0/+//6//x//b/AAAIAA4AEAAPAAMA/f/+/wQADQAXABkADwAAAP///v/5//n/9//5//T/CgAGAAgABgAKAAUA//8AAAcAEQAHAAcACAAHAAcACwD+////BgACAAoABwD6//f//P8HABQAEgAIAPj/3//i//P/AgAUABIABgD9//T/9////wEACgAIABAAEgARABYADgALAP////8EABEALQAtABYAAwDZ/8v/0//t/w8AHwAjABwA9//u/9//2v/g/+7/EwAfADEANgAtAB8A/f/0/+T/4//z////CwAOAAoAAQD6//L/7P/q/+X/6//p//f/GQAkABoAEAAHAAYAEgASAP//6P/J/8n/7v8NADEAMQAUAPX/zf/N/9v/6P8CAAwAEQAUAAwADAALAAoA/f/z/+j/8v///wcADwAKAPH/5//z//z//v///wIA9P/4//n//P/5//n/AAAMAAwABAD8/+//5v/u//D/9//1/wEACAAKAAsA9v/w//H/8/8BABUAEwAKAP3/+v/v//T///8CAAMA+//u/+f/2v/U/9f/5f8GABMAIgAbAP7/7f/l/+T/9P8FABsAHAAXAAkAAQDv/+3/7v/t//L/9f/0//P/8f/4//z/BQAKAA0AAwD7//n/9/8BAAwAEgAWABUACQADAPr/+//u/+b/3v/h//H/+/8TACAAFgAMAOn/4P/g/+X/BgAPABwAHwAQAAcA9v/x/+//9P8CAAYABwAQABgAEQABAPT/3//g//v/DQAsACkAFQAFAPL//P8HAAoA/v/3/+n/5/8CABYAJAAdAAIA8v/j/+X//f8QAB4AHwALAAAA7v/y/wUADQARABMA/v/0//3/BAAWAB0AAwD2/+L/3v/1////EgAUAAcABAD///z/CQAJABIAEwAHAAgACQAMAAkA/v/m/+z/CAAWACsAHAAAAOv/1f/a//r/DQAdABoACgAHAP//AAAEAAMABgADABEAFgAMAAQA+f/5//3//v/9//H/4f/m//3/EgAmACYAEAABAPD/7f/v//P/AAANACUALAAqABwABADx/+T/3//p//P/BQAUACUAJwAPAPj/2P/O/9f/5f8KABcAGAAOAPn/8v/8/wEA/v/2/+X/6P/u/wQAGAAmADAALAATAAEA3//U/9D/2P/x/wEAHwAnACAAEwDq/8j/vv/R//D/DQApACkADAD9/+r/4P/q//H/BAAMAAoABgD7//P/+P/1/wUAAQD8//v/8P/3/+z/6P/b/+L/DgAfACYAHwDw/9n/yf/T//b/DgAhABsAAgD7//r//P8EAPn/6P/p//L//P8LAAkAAAD+//n//v8EAAkA///2/+r/6f/y////EAANAPj/8f/Q/8z/2//i//v/AQACAAEA7v/n/+r/7f/+/woAEAALAAkABAD1//X/4//j/+L/7/8IABQAEAAHAOr/2P/X/+T/+/8GACIAIQAJAAAA9v/r/+P/3v/q//T/AAAKABIAEgABAP//8v/1/wUABAAHAAMA/v///wYABADy/+X/4P/d/+L/7v8KABoAFgANAOv/4f/T/9z/AAAYACgAIgAKAAEA6v/k/+v/+P/+//b///8GAAEA/P/6//z//v/3//v//v8FAAsADwAMAPj/8v/9/wQAEAARAAYA+P/z//H/9v8BAAMAAAABAAgACwALAAcA+P/e/9b/3//s/w0AGwArACsAEwAJAOj/3v/Y/+L/8P8AABUAIAAdABUA+//r/9b/1v/h/+f/BAATACAAJgAcABsABAD3/+n/5P/j/+3/DwAeACoAJgAMAP7/7P/n/+b/6//v//X/AAARABsAIwAfABUA7f/Z/8r/2f/+/xQAIwAeAAcA8P/j/+n//P/+/wMA+//3//P/AAAOABsAGgD///f/5P/o/+//9P/8/wUAAgAHAAwACQAFAAIA8P/r//b/+/8FAA4AGwAWAAcA/P/n/+H/5v/u//r/AQAHAAYA9P/0/+z/7/8CAA0AFwAKAO//5P/j/+3/DQAYABQACQDv/+L/4f/e/9//2v/k//P/FAAhABYAAADS/8H/y//i/xQAHgAbAA0A+P/w/+//6//z//b/6f/d/+T/7P///wkABAD6/9z/0f/r//z/EgAOAPj/7P/o//H/FQAeABwAAgDS/8b/zf/a//r/BgABAPP/4f/d//z/BgAXAA8A8P/r/+z/+/8dAB4ACQD4/9P/0//0/wUAFAAMAOD/0v/N/93/CwAVAAwA9v/W/9b/8//7/wIA/v/o/9r/5f/x/w4AGgAcAAwA3//H/8b/1v/1/wAACAD8//L/7P/u/+//5//g/9L/2P/4/wkAKgAjAA8A9P/c/9P/4P/n//n/AwATABwAFAAOAOH/2f/L/9L/6//w//r/9P/7//P/6//r/+3/8P/w//H/4f/h/+n///8aABgA///r/8//zf/Y/+X/8v/2//P/8v/q/+7/7//t/+T/3//i/+D/+/8EAAsAAQD0//P/9/8AAAcA+//k/9v/3v/m//v/BgD///v/6v/r/+z/7v/v/+v/5//r//f//f/+//3/9P/1//j/9P/5//P//f8FAAUABwD4/+f/3P/b//b////+//b/5P/X/9v/4v/5//7/DAAMAAsA/v/w/+f/7P/z/wUAEwAfABEA8//w/+z/+P8HABAA+f/h/8r/yf/u//b/HgAkAAsAAwDz/+r/5f/s//T//v8MABQAEQAOAPT/5//T/9r/8P8BAAkADQAEAAIA7v/k/+H/4P/3//7/BQADAP//9v/4//3/DAASAAsACgADAAEACQAJAPT/5P/Y/9v/9/8HAA8A///h/9n/3P/0/yEAKgAVAAEA2v/Y//L/CgAdACAACQD+/+3/5P/v//b/9v/5//z//P/5//z/+//r/9P/1v/5/xIAOAA2AAAA4//C/8n///8aACkAIAD4/+T/3P/d//X//v/9//f/9P/3/w0AEgAQAP//2v/I/87/3/8IAB8AIQAUAPr/9v/4/wUAFgAUAO7/4//Q/9v/AQAaABoAFADj/9f/2v/a//T//v/+//z/AwAFAAMA/f8FAPz/9P/y//r/AAAJAAoAAAD0//D/8f8FAAcAAADv/8//zv/e/+r/CwAUACUAHAARAAAA9f/u//P/9f8LAA8AEQAMAPr/9v/u/+v/6P/j/+z/6//2//L//f8BAP7/AwACAAAA8v/n/+X/8P8EAAsAEwALAPT/7P/u/+n/5P/i/+7/5P/u//L//v8MAA8AEQD4/+D/1f/c//n/EgAwAC0ADwD+/+j/4P/j/+b/9v/7/////f/1//n/9f/3/+v/5f/y//T/CQARAA8ACgANAAsAAgD8//f/8P/4//j//P/6/wEABgAFAAUA/v/8//n/+//7/wAA7P/s/+j/9P8NAB0AIgAbAAAA7f/e/+P/+v8JABcAGAALAPr/8//z//n/+/8KAA0ADgAHAPf/7//e/+L/+/8PACEAJQANAP//4//X/93/7f8OABkAHQAVAAcAAwD0/+7/6P/g//D/+f8VABwAIwAcAAsA/f/g/97/2//n/wIACwAYABkAHAAbACIAIQAQAAMA7//s//D/+/8QABUADAAEAPf/9f/n/+T/6//w//b/AQASABoAFAAIAOv/6v/f//L/FAAjAB8ADgD3//L/6v/y/wUADAD4//P/4//n//D///8KAAgAAwALABQAFgAHAP//4v/a//T/AwAcABYA/v/x/+T/5f/2/wAAEQAbAAwAAwDz//r/+//8//b/7//y//T/CgASABwAHAAQAAIA9f/t/+X/5P/q//X/CgAMAA0AAADz/+7/5v/w/w8AHQAcABUABwD4/+z/6f/n/+z//v8DABMAFwAFAP7/6//i/+n/7f8RABwAHgAaAP7/7P/T/9f/8f8CABcAGQAQAAoA/v/5/+n/3v/H/9L/9/8QACgAIwAGAPf/7f/n/wEABAAHAAQA+v/5/wQACAAMABEADgAEAOr/6f/i/+P/5//w//b//v8LABEAAgD6/+D/3f/e/+//IQA3ADoAKgD5/+P/1P/a//T/AgALAAEA8v/r/+3/8//4//r/5v/Z/8v/2v/0/w8AIwAcAAUA9v/v//X/CQATAAMAAADz/+v/5f/s//v//P/6/+//5f/l//v/AAADAP3/7P/r/+z/9P8IABMAFAAMAAcAAQD+/wIADgATAP7/8f/o/+j/+v/+//j/6//d/9f/7f///xkAHgAMAAYA+/8DAAsAEgANAAcA7f/u//T/AQARABwADgAAAOj/3//n/+z/BAADABoADgD1/+z/5v/n/wAAEAARABQAEQAKAPL/6//O/9H/3//n/wQA///6//r/9//5////BQAPAAoA+f/v/+H/3//s//H/BwAGAPn/8v/m/+j/4P/k/+j/7P8FAAoAHAAcABAA8v/O/8T/2v/t/xsAJwAbABUA+f/v/+n/5f/g/+L/6f/5//7/BAAKAAYABwAHAPv/7f/i/+j/8P/y//j/9/8FABEAFQANAP7/8//p/+//AQAFAAEA+f/7//r/BAAHAAYA/P/3/+//7f/5/w0AEAAWAA8A+f/t/+H/4f/l/+z/+////wIABgALAAcA+//r/9//5v/3/wsAFAAYAAcA9v/n/+z/8f/4/wEACwAYABoACQD2/9P/xv/a/+//HAAnACAAFgD0/+T/1//f//v/BgAPABMAAQD2/93/4v/v//D/+P/6/+3/8f8CAA4AHwASAPz/9P/u/+v/9P/x/+r/6P/w//r/GQAdAAwA/P/b/8v/3v/t/xIAHQAfABsABgD4/9//4P/t//v/BAADAP7/9v/1//7/+f/z/+z/7f8IABEAGgASAPf/6v/j/+f/+f8KABsAFQAKAP//0//P/+D/6v8RAB4AGQATAO//4//n/+7/9v/5//3/+P8HAAcACwAKAPr/8f/l/+7/AAAJAAIAAgAAAAEACQAMAAsADQACAP7/8//z//X//v8FAA0AAwD3/+//9v8DAAEAAQD//wUACQAOAAcA9f/y//T//P8FAAsABQAAAP3/9v/y//b/+/8FABcAEgD3/+j/0//X//z/FQAzADAAHQANAOr/6P/2/wIAEgAVAA8ACAAAAAUACwD9/+v/6f/n/+z/CAAQAB0AHwALAAEA4v/j//T/BAAQABQAEAAKAAYABAAHAAMA9//8/wYAEQAOAAMA9v/s/+r/7v8FAAsAEwANAPf/9f/v//n/BQAIAAYA/f8EAAMACwAOAPz/7v/o/+//AgAKAAcABAAEAP//+v/+//3//f/6//v//P8EABQAHAASAAYA6v/q/+////8FAP7/9//3//j//v8RABYABAD0/93/2//p//7/GgAjABwACwD6/+7/6//s//X/+f8AAAIA+P/z//L/+v8GAA0ACgABAPT/8v/3//r/DQAYACwALgAdAAcA4f/Z/9r/7f8LAAwAEQAUAAgACAD3//L/7P/r//P/+/8GAAMAAwALAAUA//////z//P/8//H/6//q//P/AwAPABEACgAAAP7//P/4/+r/7P/1////GAAXACEAGQADAPf/9P/2/wkADwAEAPn/6//w/wkAFAAXAAoA7v/i/93/5f/8/woAFAAcABMAEQAIAA0ACQAFAPD/6f/y//z/KgArABEA8P/C/73/2f/z/xgAIAAWAAoA7v/s/wcADgAbABkA9v/p//b///8TABkACADz/+v/8f8DAAsADQAOAP7/+f8AAAkAFwAXAA0A+v/n/+3/EgAcAB0AEADk/9j/6P/1/xwAJgAWAA0A8P/l/97/6f8AABAACgALAAQADgAUABIA9//n/9v/6P8LABkAHwAQAPf/8f/7/wkAFwAYAAgA+f/i/97/CwAfAEUAQQAUAPH/yP/J//v/DgAmACcAHAAWAA0AEAD4/+3/4v/n/wYAHgA+AEAAIwANAOb/3P/w/wYAGwAgABEABwD+////BwAFAA0ABwAPAAcABwAEAAIADgASABMADwAMAAcABAD4//b/9P/9/xoAIwAbAA4A/v/+/wkAEAAJAAMA+//z//v/BAAVABYAFgAMAAMA+v/7//z/9P/y////AQAaACIAKgAjABAACADl/+X/3v/z/x8ANgBFAD8AAgD0/+j/7f/6//z/+v8AAA0AGwAnAB0AEwAGAPL/7f/i/+b/+P8CACAAJQApACUAJAApAA0ABQD5//L//v8OABwAHAAgAB4AAgD7//D/8v8AAAYA9P/x////CQApAC8ALQAtAA4ACAD1/+//7f/8/yAANwBHAD0AEgD8/93/2f/j//L///8GABIAFwAjACgAGgASAPv/8f/z////HwAwACYAIAAMAAoABAAEAPn/9v/6//z/AgACAAoACwAUAA0A/v/y//v////+//3/+P/7/x4AMgA7ADUACQD2/+r/7P/5//3/AQABAAsACAAGAAAA+P/y/+7/7v/1//z/HgAsADYAJAAGAPj/7v/3/w4AEgALAAYA9//v//r///8OAAsAAAD4//L/8P/9/wAABwAGAAIAEAAaABMADgAJAPz/8//v//f/EAAeACAAIwARAP//6P/q/+P/6/8GAAwAGQAUAAIA/v/5/wMAEwAZAP//8f/o/+r/BwAZACgAJwAhABMAAQDx/+P/4f/y/wMAGQAfAAsACQAIAP//6P/k/+f/6/8FAB4AKgAvACMAFgD2/+b/4f/p/xUAHQAYAAoA+P/0/woAEAATAA0A7v/h/+D/6P8LABoAFgAPAPj/+P8IABMAFAAJAOf/5P/u//7/LAAyACQAFgDr/9f/wP++/97//f82AEIANAAgAPf/6f/l/+b/8P/1/xkAIwAwAC0AIAAQAPT/4//c/9v//v8OACAAHAD9/+7/6f/z//7/DAADAP7/8f/t//b//f8MAB4ALwAsAA8A/v/h/9v/4P/u/wwAGQAmAB0ABgD5/+3/8P/2//L/8P/w/wMAEgAgAB8AFAAOAAIA/v/6//v/AQAHAA8ACgADAP7/AAAFAAwADwACAPP/6f/l//b/AAAMABQAJgAcAAMA8P/j/+L/8P/8/wgADAD9//v/8//u//X/+P8DAP//+P/2//r/+/8DAAUADgAPAAoACQDw/+n/5f/q/wMA/f/+/wQA/P8AAAEA+P/m/93/8v///yMAJwAQAAIA+v/y/+//8P/q/+3/9//6/wAAAAD+/wEACQADAPP/7//w//b/AQALABMACgDz/+j/5//l//X/AQD7/+3/0//V/+j/9v8SABsAEgALAOr/5v/a/9//7P/1/wEAAwAKAAkADQANAPX/4//K/83/5/8AAB0AHQAZABIABAD5/9b/zP/S/9v/BQAVACwAMQAgAA4A7f/j/9r/4/8GABIAKAAmABoACwDw/+3/4//i/+T/6v///wIACgAMAAcAAwD1//v/CgAYAB4AFwACAPP/+P///xYAHgARAAYA9v/r/+n/6v///woABgAKAAoABwAQABUAGAANAPT/8P/t//z/HwAiABIABwD1/+3/7v/r//b/8//1//L/BAAEABYAHQAOAAwAAQDv/+v/7v/+/wIAGwAhACMAGgAIAAAA8P/r/9//4//y/wAAJQAsAB4ADADv/+f/8v/+/xAAFAAYABYAFAAXAB4AHgAVAAYA7//l/+f/7/8SAB0AGgAaAP//9f/1//X/9f/u/+3/9f8GAB0AOQA1ACMABADo/9//8//+/xMAFQABAP///P/9/wcACADv/+//8P///w0AGQATAAUA6v/i//j/CgAqADAAGwAFANX/0P/y/w4ARQBIADQAGwDl/9f/0v/b//P/AQAfAC4AOgA2ABgABQDZ/8z/2//2/xUAKQAoAB4ADwAGAAMA/f/y/+r/5//4/x0AKwAmABYA8f/e/9n/6v8OABQAHwAXAAQAAAAKABEAGAAZAAEA7//c/93/7/8DAA4AEAAMAAwACgAMAAkABQDe/9H/5v/4/y4ANwAnABYA5//Z/+r//f8aACQAGAAOAP3/AAAHAA8A+v/q/8n/xP/l//r/MgA2ABQABADp/+////8KAAAA+f/2//b/BQANABwAHgAXAAoA8f/p//D/+P8QAAwABQAAAAUAFAAhAB4A+f/r/+T/9/8hADEALAAcAPr/7P/u//f/FgAbAA4ABgD1//P/AgAKABsAGAAGAPr/+v/2//j/7P/j/+P/BQAeAE4AWQAzABwA7v/f/9//8v8IABIAFgAbABsAGgAhABIA5v/U/8v/2v8JACQAOgAxABYABAD1//j/AwAIAPv/8//6/wQAEgAbABgAGQAGAPj/+P/4//f/+//0/+//BAATADcAPgAtABMA2f/A/8H/0P8NACMAMgArABMACAD3//j/AAAJAAkADgAWAA8ACQAGAAkACQAGAAgA+//7/wMAAQD8//n/8P/4//7/BAAOABEADwAVAA4ADQDw/+n/7v/3/yEAKAAkABUA6//a/9z/8/8TABwAGAAOAP7/9P8AAAkADwAGAPf/7P/m//P/CQAQABQAEQALAAMACwAQAAkABwDv/+//AAAEABAAFgABAPr/+v/0//j/AAAPAAsAEwALAAcABAD7//T/8f/s//L/9/8QABoAKQAiAAQA8//p/+z//f8EAA0AEAAVACAAKAAoAA8A9//V/9L/+P8MAC8AMAD8/+z/1//p/w0AHAAdABgA9v/1/wEADQAWABYAFAALAAoAAgD5//X/7f/z//j/CQAkADgALwAlAPT/4//Q/93/CQAcAC4AMgATAAUA9v/3////CgANAA0A9//z/+T/6v/1////EwAYABwAKQAcABAA7f/j/+P/7v8gADwAPwA1ABAA///g/9z/4P/n/wMAGwBDAE0AKwAQANX/xv/O/+3/HwAsACAAEQABAAcAFQAbAA4ABQDj/9T/0f/j/w4AJQA9ADcADAD5/+L/6f/3////EwAQABsAJAAxACsAAwDr/8P/wv/i////LgAwADMAHADu/+H/6v/r//n//f/9//f/BwAVAB8AIQACAPn/7v/x//3/AAD6//H/5//s/wIAFgA2AD0AHgAMAOf/5f/s//H/BAAOABAAEwAVABMA/f/q/97/1v/c/+j/EAArAD8AQQAbAAIA2f/O/+7/BAAkACgAGAAXAAwADwABAPn/4//Y/+3/9P8LAAkAAAD///T/AwAWABoADwD///X/7/8BAA0AFQAXAAgAAgD8//3//P/8//3/+v/4//X/8f/z/wkABwAGAPb/6f/l//X/AAAVABoAEgASAAoADQALAAAA5v/d/+f/6v/5//n/8P/v//P/+v8SABYAAwDz/9b/zf/r//v/IQAvAB8AEgDy/+P/5P/e/+H/5//6/wUAHAAcAAYA/P/j/87/zv/S//r/DwAuADAADwAGAOr/6v/q//L/8P/k/+j/7P8KABMAFwAMAPL/5//p/+7/+P/7//z/+/8BAAIAGgAhABMAAwDt/+j/5v/t/wAABwAKAAoABwAEAAEA///u/+v/5v/l/wQAEwAlABsACQD7//T//f8LAA0A+v/v/+r/8/8dACkAIAATAOf/1P/V/97/+/8MACEAIAAGAAIABQAGABEAFwAFAPj/5v/s//r/DAAYABMA9f/m/+L/6f8BAA8ADgANAAAABwAOABgAFQAHAO3/4//v//v/GAAZABwAFQAEAPH/6f/x/wwAFQAXAAgA7v/i/+z/9v8IAAcAAAADAAUABwACAPn/7//s//D/9f8MAA4AFQAWAAIA8v/e/97/6f/4/xQAGQAOAAEA7P/i/+P/4f/n//n/AwAOAAkACAADAAMA+//8/+3/3//h/+P/9v/3/wUACQALAAMA/f/5/+3/6f/h/+r/9v/7/w0ACgAZAA8A9//q/9T/1f/k//T/FAAhACMAGwAFAP3/7P/l/9z/4//v//z/BQD///P/8v/0//b/7f/l/9v/3v/7/xEAJAAdAAYAAAD3//z/BAABAOj/5P/i/+T//v8DABMACwD6/+z/4P/d//H/+v8FAPz/6v/o/+n/9/8JAA8A9//v/9r/2//u/wMAEAAQAPj/7P/s//n/BgAAAOX/2v/T/9z/8f/+/wkABQD7//v/9P/y//b/8v/m/+H/6v/3/xEAHQAkABMA4//S/8v/1P/s//7/EwAdABoAEQD6/+3/5f/d/97/4P/6/wgAGAAZAAQA9f/l/9//8f/4//z/+f//////CgAJAPj/+f/9/wEA/f/7//b/8//4//v/DgAJAAIA+v/y/+7/8v/3//T/8v/y//D/+//+/wQABgD//wEA9v/5/wEADQASABEAEAAJAPn/9v/x//n//P/9//n/+v/9//z/AgAEAP///f/9/wEAAgABAAYABQAKAAYABAACAPL/8v/u/+r/8f/y/wkACwAOAA0A9//v/+7/8f/7/wQAFAAVAA8AAADn/97/5f/9/xcAGQAMAPz/5P/h////CAATABAAAgD5//T/6f/v/+3/7f/o//X/+v8MABUADQD9/+X/3f/k/+3/8f/4//7/BgAEAAAA8P/r//v/+v////j/7v/s/wQADwAUABIA7f/n/+r/7f/3//X/+v/3//////8LAAkA/P/t/+L/4P/r//7/EAAPAPr/8f/t//j//v8DAPr/9v/q//H/BAAGAPb/+f/8/wEADQAhACcAIQD8/+//3f/b//z/CgAXABEA+//2//T/9P/x//X/AQAIAAQABAAEAAIADgAaAAoACADv//D//P8AAP7//f/8/wIACQAKAAgA/f/s//H/9P/5/wAACQATABQAAQD4/+j/6f/1/wAA+f/z/+z/8P/7/w0AEwATAAwABgDs/+n/8f/1//v//v/+//v/+//6//f/8f/i/+b/8P8CABQAEgD+//7/+v/3//T/+v8FAAoACgD7/+L/4f/5/wYAFwAUAPL/4P/Q/9b/9f/6/xAAEQAHAAIA/f8BAAkABwD6//D/3//p/xMAKAAvACIA8f/i/9T/2v/4/wIAEQANAP///f8JAAkABAD6/93/zf/k//f/KwA1ACwAGgD0/+f/6v/1//7/+v/4//L/7P/r/wsAFAAUAAkA7P/j/9j/7v8AAAAA+v/v/+7/9/8MABMACAD+/9z/1f/y/woALgAwAA0A9v/U/9D/7/8CAA8ABwDw//H/8v8EAAEA9v/o/+z/8f8FABgAFgAGAP//7f/q//j/CAAOAAoA+P/z/+v/6f/z//r/+v/r/+v/6P/w//v/BQAIAP3/9v/u//P/CAARAAMA+v/n/+H/8f8EABkAFAD2//D/8P/t//z/+P/p/+L/4v/o/wYAEAAcABoA/P/n/+X/7v8BABAADAAEAOr/6f/7/wUADwAFAO7/6P/z//n/9//0//3/+P/6////AwD5//r/8v/t/+v/+P8CAAwAFwAaACIAFgAGANv/0P/N/93/DAAZACQAGwD3/+X/2v/f//L/BAAcABoAAwDz/9P/0//r/wAAFAAQAAwABwAFAP7/9//0/+3/6v/w//b/CAANAAUA+f/i/9z/6P/5/x0AGQANAPj/6f/x/wwADgANAP3/3v/Y/9//3f/9/wkAEgASAPv/9f/r/+b/3//c//f/AwAiADUAKgAfAPb/6v/j/+T/9P/8/wYAAQAFAAIA9v/3/+v/5f/f/+P//f8LADAAPAAeAAwA6f/g/+7/AAAAAAAA9f/z/wEABwANAAcA8//i/97/5P8LAB4ANAAmAAoA8P/S/9b/+P8KABgAEgD7//X/5v/s//v/AgABAPv/+P/3/w4AHAAjABYA8v/j/+r//v8XAB4AHwAPAOr/1P/a/+v/FQAmADEAJAD0/9n/1f/q/xYAJgAeABIA6v/i/+L/7v8KABQAHAATAPn/6//2//n/AQAEAAUABAAFAAkABAADAP3/9P8EAAYABgAGAP3/8v/r/+z/7f/1/w8AEQAKAAUA/f/2//v//P/+/wEABQAEAAMAAgAJAAgABwACAP3/8//6//z/AwD///n/7//l/+j/8v/7/wsACgADAAQA/f///wkADAAWABcAAgD6//7/CQAQAAMA6//f/9r/4P/3/wQABgAFAP3/+v/z//X/BAACAPT/5//b/+P/DQAqAD4ALQDq/8b/rf/B//3/JgAxACQA9v/n//n/DAAhAB8A9v/l/8n/zP/4/xEAKQAfAP3/8P/d/9n/6v/1//f/AAAIAA0AHAAZABQACwDq/9n/zf/f/wAAFwAQAAMA8f/s//X/AwABAPf/4v/g/+D/4//7/wUAEQAQABIADgAEAPr/+//w/+j/7P/4/wYAIgAkAA4AAwDf/9n/2//i/wAABAAGAAAA+P/7/wcACgAGAP//9f///wwAFAAbABwA///0/+b/6f/1/wAABgD8/+z/6f/q//v/HQAlAB0ACwD5/+n/8v/4/xQAGQASABAA9P/u/+P/7P/+/wkACwAHAPz//v/7//n/6//r/+r/8/8LABMACQAIAAYAAQAGAAgAAwD6//P/8/8HABAAEwAUABIAEgADAA4ACAAHAO//4v/g/+f/CgATACUAGgD3/+3/5//x/wMACAAHAP7/8P/4/wwAFgAcABoA/v/0/+v/8//9/wUA9f/1//3/BgAdACIADAD7/9r/y//W/+X///8PACAAIQARAAwAEgAEAPj/7//k/+r/8/8EABMAEQAhABgADwALAAEA8//Z/9v/6P/w/wwADQAJAAkAAAD6//b/+////wMA+P/y//r/+/8GAAsADAADAAgABwD9//P/6f/q//7/CAAPAA0A///6//b/9//2//n/6f/f/+r/9P8EABcAIQAdAAgA/f/r/+3/7//q//L/+v8RAB4AJwAnABcACwDp/9n/0f/T//T/CAAbAB8AEgABAN7/3v/s//3/DwAYACUAHQD9//f/6P/v//L/8//v//T///8IAAsACwDv/+T/7f/4/wwADgD8//D/1v/a/wUAHAAwACwAEgAEAO3/5f/j/+T/5P/x/wkADQAdABkAAAD8//D/6P/t//b/AwAPAB8AJgAfABEA/f/x/9b/1v/c/+b/BQAXADYANQAnABQA3v/H/7H/tv/n/wQAJQAxAC8AIwAGAAAA+//1/+7/8P8HAB8AOgA3ABQA+v/W/83/3f/k/wIACQAGAAkABQD7////BAD6//f//f8AAP3/BQAJABQAHAAdAB8AEwADAPn/6P/r//P/AQAPAA0AAAD2/+7/6/8AAAoAEgAKAAEA+f/3/wAAEgAWABAADgD8//3/+//7/wgADQAOAA8ABQAGAAUABwD///D/4v/f/wcAFgAkABsABwD0//X/AAARABEACgAIAAIAAgAJAAoACAAEAPz/+v/9////8f/s/+f/5//w//7/FwAjAB0AGAAPAAIA7//o//P/9v8VAB4AKgAlAA8ACADk/9v/x//Q//v/FAAzADUAFgACANj/1v/i/+v/+f/+/wUAEgAeACEAIwAWAPL/7P/e/+X//P8GABMAEwAHAAgAAwD/////+//w/+n/3v/m//n/CgArADUAJwAPAN//0f/j//v/HAAxADAAKQANAAgAAwD8/+X/5v/e/+b/9/8HABYAGwAPAAgA8f/z/wEADwAWABIA///1//H//f8XABwAKQAbAAsA9P/p/+b/4f/l/+3/+v8XAB8AJAAZAPD/5P/a/9z//P8SADAAOQApAA4A8//m/+T/6P/r/+n/7f/w/wsAGAAnABoA9v/a/8//1//3////DAAIAAgACAAXAB4AEwABAOX/3P/n//7/FQAcAA4AAADx//D/8P/0//X/8P/m/9//8P8BACcAKwAcABEA8v/p/+n/6/8IAAkAEgAOAAQA/P/+/wAA7//w/+T/6P/7/wMAAQAFAA4ADgAXABUADgAHAAMA/v8LAAoABgD3//P/8f8JABIAFQAMAOv/4f/d/+f/+v8GAB0AKQAyACwADQAAAOj/4f///wQAFwAaAB0AFAAHAAUA/P/3/+v/6f/v//v/EQAXABAADgAGAA8ACgAJAP7/8f/3//j/AwAHABoAJQAqACwAHAASAOP/2f/Y/+v/EAAgACEAFgD///T/9//z//n/8//y//P/EQAcADcANQAZAPv/2f/T/97/8P8PABsAFgAUAAQA/f/1//T/8v/2//3/BwAOAA0ABQABAP7/AAALAAsAEQAKAO//6P/o/+v/8//5/wEABQADAA8A/P/y/+r/6P/y//z/EwAfABYAFQAPAAoA9//t//L/8/8KAAgAEwANAPv/+P8DAAcAFwAYAP7/9f/q//L/CgAYABcAEgD4//T/8//z//D/7v/o/+j/+/8HABUAEQAEAAIAAAD9/wEACwAVABcAHQASAP7/+f/y//T//v8EAPv/9v/n/+X/8P/6/woACgD8//r/AgAHABIAEAAEAP//BQAMABMAEAD///r/8v/x//D/7v/p//H/8P/5/wEAAwD8//z/5f/Y/9D/3f8PACoAPAAvAAkA9f/v//T/9//2//7/AAASAB0AHgAMAOP/zv+//8r/8P8JAB4AIgATAAwABQAIAAoACgAUAAsA/v/z/+v/9f8SACMAMAAgAO7/4f/c/+T/+v8BAPv/9P8CABUANwA2ABYAAwDo/+v/+/8AABEAGAAXAA4ABAABAPP/7//u/+z/5P/j/wQADgAjACUAGAAPAPb/+P/3//n/AQAJAB8AJgAiABwACAD6/+r/6//7/wkAJAAyABoACwDZ/9X/3P/p/xYAGwATAAsA9P/s//7/BwAhACIAFgAKAPX/9v/4//3/+f/+//3///8DAAkA///0/+D/3P/z/wIAIwAvACwAFwD2/+v/7P/x/wEACgAPAAwADAAHAP//+P/u//P/9//6/wAA///v//L/9P/z/woADgAbABgAAQD0/+T/5v8HABIAFAAQAAIA/v8GAAsACAD9/93/4f/w////FgAeABQABwD7//T/+f/+/xAAFgAKAP7/7//w/w4AFgAjAB4ACQD7/+v/6f/t/+z/7P/q//v/AQAfACMAHAAHAOD/2//h//D/FAAdABgAEQD///X/7v/0//T/+v8HAAgA+v/7/wQABwANAAkAAgD6//j//f8EAPz/9v/y/+3/9f8LABkAFgAMAPn/7f/j/+T/8P/v////DQARAA8ABQD4/93/2P/p//T/EQAYABcAFgD+//H/6v/h/+T/7f8FABIAIQAeABAABgDo/+P/3v/m//X///8FAAIAAwD7//f/8//q/+//+v/+/w4AFgAbABQAAwD+/+n/5P/W/+H/8//9/xQAFQAKAA0ACAAKAAMAAwD+//7//P8EAA0AGwALAAcA8P/u//H/8P/5//X//f/5/wwAEAAfABUA+f/u/+//+/8gACYAEAABANr/2f/s/wIALQArABoAAwDZ/9X/3v/3/xAAGQAgABYA+f/7//j/9v8GAAsAAwD7//P/6//0//n/BwANAA8ABwACAP//BQAFAP//AQAIABEADwASABAA///k/+H/5P/x/wcACwAOAA4ADAAMAAMAAgDy//L/8v/6/wEACgABAAQA/v/+/wAA/f/y//T/8f/z//z/BwAQABYAEwAIAOr/3//u//v/CgAOABUAGAAjAC0AIwAPAOL/0//T/+n/HgAzACoAHgD8/+3/7v/5/wsAEAD3//T/5f/o/wkAGwAsACcAFwAMAOv/5v/y//j/+/8BAAEADQAXABIA9f/m/9X/1//3/wkAIgAdAAYAAQD8/wUADQAMAP3/9P/s/+v/8v/7/xMAHwAZABIAAwAAAAIAAAAAAO//5f/m/wMAFQAmACQA/f/p/9X/2v/p//b/BgD6//f/AQAOABcAGQAQAOn/2//X/+j/BwAVACAAHgD8//P/6v/q/+7/8v/5//X/8//0/wgAEgAVAAwA+//y/+7/9P8FABAAAwD1/+z/8v8IAA0ACQADAOn/4//u//b/CAALAAQA/P/z//n/DgAUAAUA///r/+f///8HAAsA/v/e/8//5v/6/yEAKwAPAPD/wP+7/+v/CQA+ADsAHgD//8//yf/g/+z/AgAKABQAHwAlAB0A8P/j/8v/xf/Y/+7/GgAmACUADwDg/9j/3//1/xwAHQAMAAEA8P/1/wAAAAD1/+//4f/j//P/+v/8//r/7v/q/+v/+/8PABQAAgDt/9H/2P/9/xcAMQAnAP7/6f/f/+r/BQAHAPj/5v/H/8v/AQAkADoAMQD//+X/wv/S/wEAGgAeABIA7P/i/+H/8//4//b/7//u/+n/+v8QABQAFQAMAO3/5P/z//r/AwD+/+v/3//e//H/FQAhAA8ABADu/+D/2P/h//b//v8QABMAEgAQAAsABgD4/+j/2//e//3/CAAeABwA+v/v/+D/5v/u/+v/7//2//v/AAAQABUACAD5/+b/3//r//P/BQAMAPH/5v/k//b/FwAnABgACQDZ/83/zP/U//X//f8WABwAHAAMAAQAAAD4//b/7P/p/+//9//6//z////+////9v/h/9j/1P/Z//f/BAATABUAFgARAAUA+P/j/9T/6P/1/wcADgAQAAoA+v/0/+j/5f/h/+P/6f/u//v//v8KABAADwAEAPX/7//2//T/+/8EAAMAAAABAP//9f/p/9z/2v/s/wIAIAAoABwADADr/+j/BwAUACMAFQDx/9r/z//g/wQAEgATAAQA7//j/+n/7f/9/wQACwAKABIAEwAVAA8AEAADANv/0f/N/9z/BQAbACEAHgAEAPH/1P/M/9L/3f8BABcAIwAgABAACAD7//P/AgAAAP//AgD6//X/9f/1/wEAAwD+//f/7//x/+7/7f/u//T/BgAMABAAEQALAAgA+f/5/9z/3v/j/+T/+v8AAAcADAAQAAgA+P/k/8n/wf/W/+X/IAAmACgAGgD+/+7/3P/e/+n/7v/4//z/AQADAPn/8//Y/9b/1//s//j/AQANABAACwAGABEACQAGAPr/8v/u/+//9P/7//3/9f/4//v/AgARABEAAgDx/8//x//X/+z/FgAjACIAGQD6/+f/3P/e//D/+f8FAAAA+v/x//X//v/3//T/2v/R/8b/2f/+/xYANgA5ABoABwDp/9//4P/o//P/9//+/wsAFwAdAA8A+f/e/9T/0v/e//T/AgAbAB0AEAAKAPv/8P/r/+n/6P/s//n/+f////z/6v/s//T//v8PAAoA8P/n/+r/8/8NABoAHQAfABIACQDn/9r/0v/Z/+j/8/8CAAsADgAHAOz/3v/i/+b/AAAOACgAIgAHAPv/8v/5////CQANAAkA9f/p/9z/5P/8/wMAAAD5//H/9//6/wEACAAIAAcA///1/+3//f8BAAcABQD0/+v/9f/7/xIAFgANAPv/6//x/wMABQADAPz/AgD///b/8v/y//X/CgAOAAkAAwD2//P/9P/1//7/CQATABcAFQAUAP///P/v//H/8f/4/wQAEQAeABoAFAALAPn/9P/q/+D/8P/y/xYAKAAxACwAFAAJAOP/0v/M/9X/AgASADMAPwA4ADAAGgD//+D/z//Y/+L/BwASAB8AIgAbABsAAADu/9D/xv/X//D/HAAnADIAOQA2ACYACAD1/9z/0v/e//L/CgAYABwAFgDz/+j/6f/v//v/+//t/+v/BQAWADYAQQA0ACAA8//e/83/0P/z/wgAHAAdAAkAAQAGAAkADAABAN7/z//c//D/GgArADcALQANAPv/3f/W/+X/8f8SABoAEwAMAP7//f8KAAMA8//o/+v/8/8MAB0AKgAtABsACwDp/+D/5P/w/wMACAAIAAcAAQAHAAgACAD///n/9P/6//3/BQAEAP7/+//6/wsAFAApACkAFgAFAPL/8v/z//r/BwAMABQAGQADAPb/0//T/9f/5f8JABUAJAAhABgAEQACAAEA+v8HABIADgD9/+z/7f/7/xAADQD8/+v/5v/m//D/8v/0//f/BwAOABQAGgAdABwA///y/9//1f/w////HwAdAAQA9//w//f/EQAbAAoA9v/T/87/7f8BACYAJgAKAPb/4//m/wkACgAEAPr/9v8BABgAGwASAAIA3v/X/+H/8v8GABgAHAAbABgAEAD1/+3/4P/f/+7/9v8iADMARwA2AAcA7f/M/9v/BwAYAB8AHwACAPn/+P8DAA8ADADs/+H/1//e/wsAHgAsACgAFAAGAPP/6v/l/+r/+f8GABcAHgA1ADYAJgAVAOb/2f/c/+b///8EAAUA/P///wkAFgAaAP7/+v/1//b/DwAbABcAEAACAAYADQAUAAwABgD1/+v/5P/k//X//v8LAAkABgD//wAA/P/8//n/9f/5/wQADQAlADAANQAhAPb/7P/k/+z/9//+//r/9f///wAAHwAgABgABADv/+j/+f8CABUAHQAPAAUA9v/5/wkAEQAXABMA9//t/+r/8f8MABkAJAAnABUACwD6//n/9P/2//7/DgAkAC0AKgAdAPn/7f/g/+3/EQAfACIAFgAHAP7/AAANAAAA/P/p/+X/6f/t/wAADAAbABcABQD+//r/9f/9////AAD4/+7/8f8OABsAJgAbAPv/5v/P/87/6f/8/yEALQApACEABwD4/+j/5v/h/9//6f/4/yQALQA2ACwA+f/d/8X/xv/e//D/DQATACIAJgAqACMAAQDp/77/u//Y//f/IwArACsAIwAOAAAA8P/t/+3/8/8HAAsAEwAPAAYACQAGAAkA+P/v/+j/6//5/wMAAwD///////8UABkAEAADAOv/4P/i/+r/9f/9//3//P8SABMAGQAUAPX/5v/W/+D/7v8BAA4AGgAXABYACAADAO//7//v//b/+f/5//3///8PABAAFwAQAPL/4P/I/8b/5//6/yUANgAyABgA7v/c/9L/4f8HABAADQAMABgAHAAWABUA7v/e/9P/0f/g//r/HgApACwAIQD1/+f/y//W/+///P8HAA0AEQAWABkADAD1/+X/2v/O/+P/8v8OABQAGgAWAA8ABQD8//j/6P/h/+X/6/8GABMAFgATAPf/6v/X/9X/6v/6/wQA/f/0//L/AwAUACUAJAAIAPr/1v/S/9j/5P/5/wUAGAAoACAAFgD5/+P/2//Y//f/AAAKAAkADAAMAAsADQD///j/4v/W/8f/1f/5/woAKgA0ACsAGgDs/9P/wv++/+7/AAAjACEAGgAQAPz/7f/f/9X/1f/d//j/FAAwADkALgAgAPP/4//N/9H/6f/z/wAAAwANAAgABAD///7/8v/u/+3/+v8CABQADwAfACEAHAAVAPj/7P/b/97/4//s/wMADAAjACMAGAAKAO3/4v/Y/9r/AAAOABsAGwAbABoADAAGAAAA+f/m/+X/8v///xcAHwAVAAoACAADAP//8//2/+7/+f///wsADAALAAQA+//9/w8AEwAQAAoA+f/o/+b/7f8UACIALwApAP7/3f+v/6n/0f/t/ysANQAxACIACgAAAPH/8P/t//P/CgATACIAHQAVAA4AAgACAPX/8//T/8//3P/p/wsAFQAeABIAAwAAAPL/7v/r/+3/+P8CABIAFwAiACcAEQAGAND/xf/I/9v/GgAyADwAJwAKAPT/4v/k/+7/9P/4//P/AgAJABUAFQAMAAEA9P/0//f/AwAMAAkAAQD2/+z/6f8HABkAGwAJAOj/2P/X/9z/CgAWABoADQAEAPr/BwAJAA0ABgDt/+L/3//p/wQAEAAgACAAHwAIANz/yf/R/9b/DQAiAD0ANQAdAAYA6v/c/93/6P/u//D/9P/1/wkAGgAyAC8A/f/m/8T/yv/5/xIAMAAlABEA+f/v//D/AwAEAAkA/P/c/9//9P8EACAAKgAZAAwA7//q/+n/7v/w//n/CgASAB0AIAAOAP7/4P/g/9D/1//y////GgAcABgAEQAMAAUA+P/x/+b/5f/l//L/FQAcAB4AHQAXAA8AAQD3/9//1f/W/9//CQAiAEwATAAdAPj/tP+o/8X/4f8QACcAKwAuABUAEQD6//T/4P/Q/8//2f/6/w4AJwAbABEABwD0/+//8P/5//r/9f/g/+n/BgAZADkAOwAjAAMAu/+q/7b/0P8VAC4AOwA2AAcA7//e/9r/5//2/wIABwAGAAgADwAOAAoACwD///j/4v/i/+z/8P8QABgAIQAYAPr/7f/z//v/BwANAPj/8f/1/wcAIwAuACgAGgDo/9L/0v/k/xAAIwApAB4A9f/p//D//P8OABMABQD5//D/8v8BAA0AGQAVABUADgD5/+//7P/t/wYADAAVABEAFQANAPv/9v/i/97/4P/m//v/DAAVABsAGwAWAAYA+//q/+f/8//3/wYABAABAAIACAAPABEAEQD+/+f/xf/H/9z/AABAAFwAUgAyAOH/yf+8/8//BgAXABUACwABAAgAHAAjABYAAADN/73/zP/q/yUAPABMAD8AEAD+/+//7//s/97/0f/V/+//DwBFAEQALAAQANP/xv/Z/+r/GAApADIALQAgABwAEgAJAOT/4P/m//H/BQASAAoAAAD8//z///8FAAcABgDz/+7/6P/1/xUAIwAwACEAAADu/+X/8P8BAAoAAgD6/+r/9f8RACEALgAiAPD/0f/I/9f/CQAlADYAKQAKAP3/9v8AABQAGQD8/+r/2f/l/w4AKQBCADIA/f/m/83/2v/4/wgAGAAeABgAFQARAAoAAQDy/+b/5f/u//T/CgARACUAJwAqACAAAwDp/8//yP/e/+3/JQAxADoALgAFAPL/8P/1//f/8P/o/+D/9v8RADkAQgAeAAcA1P/H/9f/7P8WAB4AHgAbAAoACgAOAA4A9//w/9n/2f/p/wUALAA6AC8AJAD8//L/7v/w/wcABwABAP//9f/3/wMACAAPAAkA+v/x/+H/4v/v//v/GQAeACIAGAD///L/9f/6/woABgD3/+v/6//2/xgAIgApABkA5f/M/8f/0f/6/w8ALQAqAAgA+v/0//L/+v/4/+f/5f/l/+7/DwAkADgANwAKAPH/wv+8/9z/9P8ZACMAHwARAAEA/P/4//z/9v/s/+H/5f/1/wgAKAA1ACEAEADk/9n/1v/p/wUAEwAcAB8AEAASAAwABQAAAPz/6v/p//T//P8UAB8AIAAdAAoABQDo/+b/2//e/+3//v8QABIACQAPAA0AEAAiACIABQDs/87/1P8FACMATwBPABsA+//W/9L/6v8BABEADwACAAMADAAXACQAJQD7/+f/uv+///L/FgBKAE0ALwAXAPH/7P8OABYABQDz/9H/1/8EAB8AQgBAAA0A7f/F/8T/3//+/yUAKgAZAAsAAwAAACEAGgABAPb/6P/q/wwAGwAeAB0AAQD7//P/9P/4//b/6v/q//z/EAAxADYAIQANAPH/7//6/wIA/v/2//H/9v8SACIAKwAeAPz/6P/X/9//+/8KACQAJwAUAAwAAgD9/wEA+v/2/+//7f/2/xEAIAAhABUA/f/x/+r/8////wcACgALAAoABwATAA4AFwARAP7//v///woAEQAJAAAA//8HAB8AMgA1ABYA/v/i/9L/3//s/w8AIQApACYAFgAJAPj/8f/w//L/+f8NADEAPgA/ACwA9//i/9H/2//5/wYAEAAPAA8ACwALABMADwAQAAAA8//j/+D/9f8BAB0AJgAxAC4AHgAPAOf/0f+//8j/9v8VAD8ASQA2ACQA8//g/9r/3P/p//L/DAAVADMAOwAvABkA6v/Z/9b/5v8KABsAHgAhAA8AEwAfACIAFAAAAMj/rv+y/8r/JQBHAEoAMwDn/8r/xf/b/wEACQABAPL/7//9/yUAQAA/ADUA9P/Z/8H/zv8CABwAMgAmAAwAAQD1//X/BgAFAPT/6f/r//f/GgAsADoANwAUAAwA+P/3//T/9P/0//z/GQAmADsANgAOAPn/2//d/+f/9/8IAAwAEQAQACcANAA7ADAA/v/m/8T/zP8NADgAUwBHAAsA8v/f/93/AAAMAAYA/v/3//n/EwAdADIALQASAAEA8//0/w0AEgASAA4AAAAAAB0ALAA7AC4A9f/g/8P/y/8AAB8APwA7ACYAFgANAAQA/f/0/9v/2P/t/wMAKgA9AEMAMQALAPX/2f/Y//L/BgAmADQALAAiABEABgDo/9v/z//b/wAAFQAoACMABgD5/wIADQAPAAsABgAAAAEABwAVAB8AHQAWAAIA/f/y//T/BQALAPb/7//p//T/IgA9AE0ARAAAANv/w//P/wIAHABBADYADwD2/+L/6/8DAA4AAgABAPn/+P8UACQANAAhAPf/5P/m/+n//P8JAAwADAAUAB0AJwAoAAsA9v/h/9v/6//x/wQAAwAXABgAHAAbAAwA/v/d/9H/1//q/xYALAAwACcAAQDx/+z/+f8GAAsA9//t//P//P8fACQAIgAQAOj/3f/Y/+X/AAAXAC4AKgAQAAkACAAPABQADQDu/9L/uP/F/wQAIwA9ADcADwD2/9T/3P/q//X//P/8/wIAAwAMABIAFQARAOr/5P/d/+X/CwAZABwAEAALAAYA//8IAPz///////3/CQAPAAoACwAPAA0AFAASAP//9P/j/97/6f/7/yUANQAzACsAEwAFAOv/4//r/+3/AAAIAAwADgAYABwAGAAKAOL/1f/e/+3/EQAjAC4AKwAHAPn/7//p/+r/8v8AAPr/AQAEABoAJwAeAA4A9f/q//n///8PAAsADAAOABgAIgAZAA4A9f/p/+T/6f/4//n/9v/9//v/BwAhACsAHgAMAPL/4//u//v/GwAlACMAGwAHAAIA/P/z//H/8v/r/+//AwAQAA8ADwAJAAUA+f/0/+r/5//4/wAADQAZACAAHQAUAAUA8f/i/8j/yf/X//P/HAAwADQALQAOAPb/5f/h/+H/5v/9/w8AJQAiAA4ACAD6//n/AgD+/+//5//t//j/EwAcABYACgD8//D/7P/s/wEACQAVAA4ACgAFAA4AEgAaABIA9P/i/8v/0P/6/wgAJwAtACkAGQD4//D/6f/0/wIACQABAPz/+f8BABEAFgAbABIA9v/x/9X/zf/V/+L/+f8PACQAKAAOAAEA2v/Z/+T///8mACcAHgATAAoADAAHAP//1f/F/8T/0v8GACAAKQAkAPz/8P/l//D/AgAGAP//9P/n/+v/CgAcADUAKgANAP3/6P/n/+3/8//r/+b/9P8BABMAEAACAPX/zf/F/83/3f8MACcAMwAmAAcA+f/h/+T/8P/4////BAAKAAoAGgAfABIABgDk/9j/y//K/93/5v/z/wQAGwAkABsAEADf/9H/1P/m/xsAKgArAB4ABgD2/+r/6v/u//D/9f/4/+v/7v8HAAoAFwAPAO3/4v/k//D/DgAQAA4AAADy/+z/BgAOABoAFwD5/+X/zP/R/+3/AQAnACkAGwAQAPX/5//f/93/7P/w//v/AwANAA8AGAARAAEA7v/n/97/+/8DAA0ACgABAAsAHgAcAAoA+v/h/+P/7f/y//n/+v8FAAcAFgAdABAA///Z/9L/3f/1/yUANAA1ACQA8//b/+T/7P8BAAcA8//r/+P/6v8FAB0AKAAkAAsA8//Y/9n/9/8EAAgA+//x//f/DQAWAB0ADADm/9z/1f/i//z/CwAcACMABQDy/9n/1f/s//r/EQAUAA8AEwAdACUAGwALAOf/1f/a/+T/CAAYAB4AGAADAP3/BAAHAP3/8P/K/83/7P8NADAAOQAZAAUA+f/2/wcAEgAJAAMABQALABcAHwAcAAcA4P/N/8D/0/8PACsALwAjAAIA8P/5////BAD5/+z/7f/8/wkAJAAgABMAAgDo/+f/6v/4/wQACwD6//X/8f/5/wQABQAFAAAA//8FAAwAAgDv/+7/7//4/wgACQAMAAgA+v/x/+j/6P///w4AFAALAO//6P/0/wYAHQAZAPX/4v/h//L/IwAtACkAEgDd/9f/4//5/xYAGQD1/9n/xv/T/xQAMgAoAAwA4//W//H/CQAlACEADgD//+r/8v/7/wwAEgAIAOv/5P/r//3/HgAhAAgA/P/j/+L/8/8AAAkACQAIAAAAAAACABIAGAAUAAcA7P/j/+P/8/8PABMABQD+////DgAlACUAAQDu/9f/3f/4/wwAHwAeAAYA/v/4//v/CwAPAP//9P/e/+r//f8NABYAGAADAP3/8v/z//b/9v/4/wcADgAOAAcABgAGAAIA8P/1//H/9v8FAAsADwAWACAAIgAOAP7/2P/W/+//AQAcABwACwD/////AwASABIA/v/7//X/9v/3//f/EwAaAB8AFwD+//H/9//+/woADAD9//b/+P/7/w0ADgAMAAEA3//b/+z/+v8lADAAJQANAOf/6v8DAA4AEwAIAPL/7f/t//n/FAAhACUAGAAFAPr/9v/+/wcACQAGAP3//f8BAAEAAwADAAQADAAQAAEA/v/p//H/EAAgACMAHAABAOz/5P/v/wIAEgAmACkAFwANAAMA/v8HAAUA9//t/+T/7v8FACEAMgAxABMA+f/Z/9X/5f8CAC4ANQAcAAsA+f8AABIAFQD4//X/6f/1/xAAGgATABAA+f/3/+//8f/3/wcAAAD8//z//f8ZABsAEAABAOn/5P/1/wQACAAGAAMACgAhACgAGQABAOD/1f/e/+v/DQATAA8A/f/o/+3//v8KACEAGAD9//b/7f/1/xIAGgAaABEA/f/3//H/8P/9/wkACgACAPL/6//9/xAAKwAgAPX/5//Z/+f/GgAmACsAFwDs/9f/4P/s/xMAJwApABwA6v/b/+L/6v8KABkAHQAbABUADQAGAPn/7P/m/+z/8f///wwAGQAkACIAGAAIAPL/5P/m/wAAEgAxADEAIQAOAOT/3v/o/+v/AAAJAA4ADgAZABQABwD7/+z/7P/8/wcABwALAAMACgAKAAwAEgAIAPf/9f8KAAoACgAIAA==\" type=\"audio/x-wav\" />\n",
       "                    Your browser does not support the audio element.\n",
       "                </audio>\n",
       "              "
      ],
      "text/plain": [
       "<IPython.lib.display.Audio object>"
      ]
     },
     "metadata": {},
     "output_type": "display_data"
    }
   ],
   "source": [
    "# usando o pipeline \n",
    "from pathlib import Path\n",
    "from IPython.display import Audio, display\n",
    "\n",
    "audio_path = \"/home/stevan/Documentos/4fluid-ia/data/audios/2025_db1/3026c4d9-78ff-4dde-8034-fb2c18d5100f.wav\"\n",
    "cfg = FeatureConfig(\n",
    "    sr=16000,\n",
    "    n_fft=1024,\n",
    "    hop_length=256,\n",
    "    n_mels=64,\n",
    "    n_mfcc=13,\n",
    "    mfcc_use_deltas=True,      # MFCC \n",
    "    use_logmel=True,\n",
    "    use_mfcc=True,\n",
    "    use_chroma=True,\n",
    "    use_contrast=True,\n",
    "    use_tonnetz=False,         # ativar se o sinal for musical\n",
    "    use_rms=True,\n",
    "    use_zcr=True,\n",
    "    use_centroid_bw_rolloff=True,\n",
    "    use_flatness=True,\n",
    "    use_tempo=True,\n",
    "    aggregate=True,\n",
    "    aggregate_stats=(\"mean\",\"std\",\"median\",\"iqr\",\"min\",\"max\"),\n",
    ")\n",
    "\n",
    "maps, vec, names = extract_audio_features_advanced(audio_path, cfg, return_maps=True)\n",
    "print(f\"✅ vetor agregado: {vec.shape} dimensões\")\n",
    "print(\"alguns nomes:\", names[:10])\n",
    "print(\"mapas disponíveis:\", {k: v.shape for k, v in maps.items()})\n",
    "\n",
    "if Path(audio_path).exists():\n",
    "    display(Audio(audio_path))\n"
   ]
  },
  {
   "cell_type": "markdown",
   "id": "bd8c2c7b",
   "metadata": {},
   "source": [
    "# Extrair Vetores para df_train e df_test:"
   ]
  },
  {
   "cell_type": "code",
   "execution_count": 22,
   "id": "32377eb1",
   "metadata": {},
   "outputs": [
    {
     "name": "stderr",
     "output_type": "stream",
     "text": [
      "/tmp/ipykernel_7924/2901479956.py:185: DeprecationWarning:\n",
      "\n",
      "Conversion of an array with ndim > 0 to a scalar is deprecated, and will error in future. Ensure you extract a single element from your array before performing this operation. (Deprecated NumPy 1.25.)\n",
      "\n"
     ]
    },
    {
     "name": "stdout",
     "output_type": "stream",
     "text": [
      "... processados 50/640\n",
      "... processados 100/640\n",
      "... processados 150/640\n",
      "... processados 200/640\n",
      "... processados 250/640\n",
      "... processados 300/640\n",
      "... processados 350/640\n"
     ]
    },
    {
     "name": "stderr",
     "output_type": "stream",
     "text": [
      "/home/stevan/anaconda3/envs/4fluid/lib/python3.12/site-packages/librosa/core/pitch.py:103: UserWarning:\n",
      "\n",
      "Trying to estimate tuning from empty frequency set.\n",
      "\n"
     ]
    },
    {
     "name": "stdout",
     "output_type": "stream",
     "text": [
      "... processados 400/640\n",
      "... processados 450/640\n",
      "... processados 500/640\n",
      "... processados 550/640\n",
      "... processados 600/640\n"
     ]
    },
    {
     "name": "stderr",
     "output_type": "stream",
     "text": [
      "/tmp/ipykernel_7924/2901479956.py:185: DeprecationWarning:\n",
      "\n",
      "Conversion of an array with ndim > 0 to a scalar is deprecated, and will error in future. Ensure you extract a single element from your array before performing this operation. (Deprecated NumPy 1.25.)\n",
      "\n"
     ]
    },
    {
     "name": "stdout",
     "output_type": "stream",
     "text": [
      "... processados 50/192\n",
      "... processados 100/192\n",
      "... processados 150/192\n",
      "✅ X_train: (640, 774) | y_train: (640,) | classes: ['LEAK', 'LESS']\n",
      "✅ X_test:  (192, 774)  | y_test:  (192,)\n"
     ]
    }
   ],
   "source": [
    "# Extrair vetores do extrator a partir dos dataframes ===\n",
    "from pathlib import Path\n",
    "import numpy as np\n",
    "from sklearn.preprocessing import LabelEncoder\n",
    "\n",
    "# 1) Wrapper: usa o extrator AVANÇADO e retorna APENAS o vetor agregado\n",
    "def feature_fn_advanced_only_vector(path: str) -> np.ndarray:\n",
    "    cfg = FeatureConfig(\n",
    "        sr=16000, n_fft=1024, hop_length=256,\n",
    "        n_mels=64, n_mfcc=13, mfcc_use_deltas=True,\n",
    "        use_logmel=True, use_mfcc=True, use_chroma=True, use_contrast=True,\n",
    "        use_tonnetz=False, use_rms=True, use_zcr=True,\n",
    "        use_centroid_bw_rolloff=True, use_flatness=True, use_tempo=True,\n",
    "        aggregate=True,\n",
    "        aggregate_stats=(\"mean\",\"std\",\"median\",\"iqr\",\"min\",\"max\"),\n",
    "    )\n",
    "    _, vec, _ = extract_audio_features_advanced(path, cfg, return_maps=False)\n",
    "    return vec.astype(np.float32)\n",
    "\n",
    "def batch_extract_vectors(df, path_col=\"path\"):\n",
    "    X_list, keep_idx = [], []\n",
    "    for i, (idx, row) in enumerate(df.iterrows(), start=1):\n",
    "        p = str(row[path_col])\n",
    "        if not Path(p).exists():\n",
    "            print(f\"⚠️ arquivo não encontrado, pulando: {p}\")\n",
    "            continue\n",
    "        try:\n",
    "            v = feature_fn_advanced_only_vector(p)\n",
    "            X_list.append(v)\n",
    "            keep_idx.append(idx)\n",
    "        except Exception as e:\n",
    "            print(f\"⚠️ erro ao extrair de {p}: {e}\")\n",
    "        if i % 50 == 0:\n",
    "            print(f\"... processados {i}/{len(df)}\")\n",
    "    X = np.vstack(X_list).astype(np.float32) if X_list else np.zeros((0, ), dtype=np.float32)\n",
    "    return X, df.loc[keep_idx].reset_index(drop=True)\n",
    "\n",
    "# Extração em lote\n",
    "X_train, df_train_ok = batch_extract_vectors(df_train, path_col=\"path\")\n",
    "X_test,  df_test_ok  = batch_extract_vectors(df_test,  path_col=\"path\")\n",
    "\n",
    "# Rótulos (encode para inteiros)\n",
    "le = LabelEncoder()\n",
    "y_train = le.fit_transform(df_train_ok[\"class\"].values)\n",
    "y_test  = le.transform(df_test_ok[\"class\"].values)\n",
    "\n",
    "print(f\"✅ X_train: {X_train.shape} | y_train: {y_train.shape} | classes: {list(le.classes_)}\")\n",
    "print(f\"✅ X_test:  {X_test.shape}  | y_test:  {y_test.shape}\")\n"
   ]
  },
  {
   "cell_type": "markdown",
   "id": "ce3b98ff",
   "metadata": {},
   "source": [
    "# Treinar, avaliar e salvar o classificador -> Regressão Logística"
   ]
  },
  {
   "cell_type": "code",
   "execution_count": null,
   "id": "518ad927",
   "metadata": {},
   "outputs": [
    {
     "name": "stdout",
     "output_type": "stream",
     "text": [
      "=== Classification Report (TEST) ===\n",
      "              precision    recall  f1-score   support\n",
      "\n",
      "        LEAK     0.8936    0.8750    0.8842        96\n",
      "        LESS     0.8776    0.8958    0.8866        96\n",
      "\n",
      "    accuracy                         0.8854       192\n",
      "   macro avg     0.8856    0.8854    0.8854       192\n",
      "weighted avg     0.8856    0.8854    0.8854       192\n",
      "\n",
      "✅ Modelo salvo em: audio_classifier_logreg.joblib\n"
     ]
    },
    {
     "name": "stderr",
     "output_type": "stream",
     "text": [
      "/tmp/ipykernel_7924/2023592847.py:35: UserWarning:\n",
      "\n",
      "FigureCanvasAgg is non-interactive, and thus cannot be shown\n",
      "\n"
     ]
    }
   ],
   "source": [
    "# Classificador: StandardScaler + Regressão Logística ===\n",
    "import numpy as np\n",
    "import matplotlib.pyplot as plt\n",
    "from sklearn.pipeline import Pipeline\n",
    "from sklearn.preprocessing import StandardScaler\n",
    "from sklearn.linear_model import LogisticRegression\n",
    "from sklearn.metrics import classification_report, confusion_matrix\n",
    "import joblib\n",
    "\n",
    "# Treino\n",
    "clf = Pipeline([\n",
    "    (\"scaler\", StandardScaler(with_mean=True, with_std=True)),\n",
    "    (\"logreg\", LogisticRegression(\n",
    "        max_iter=2000, class_weight=\"balanced\", n_jobs=-1, solver=\"lbfgs\", random_state=42\n",
    "    )),\n",
    "])\n",
    "clf.fit(X_train, y_train)\n",
    "\n",
    "# Avaliação no TEST já definido pelo split DVC\n",
    "y_pred = clf.predict(X_test)\n",
    "print(\"=== Classification Report (TEST) ===\")\n",
    "print(classification_report(y_test, y_pred, target_names=list(le.classes_), digits=4))\n",
    "\n",
    "# Matriz de confusão\n",
    "labels_sorted = list(range(len(le.classes_)))\n",
    "cm = confusion_matrix(y_test, y_pred, labels=labels_sorted)\n",
    "\n",
    "fig, ax = plt.subplots(figsize=(5,4))\n",
    "im = ax.imshow(cm, cmap=\"Blues\")\n",
    "ax.set_xticks(labels_sorted); ax.set_xticklabels(le.classes_, rotation=45, ha=\"right\")\n",
    "ax.set_yticks(labels_sorted); ax.set_yticklabels(le.classes_)\n",
    "ax.set_xlabel(\"Predito\"); ax.set_ylabel(\"Verdadeiro\"); ax.set_title(\"Matriz de confusão\")\n",
    "for (i, j), v in np.ndenumerate(cm):\n",
    "    ax.text(j, i, str(v), ha=\"center\", va=\"center\")\n",
    "plt.colorbar(im); plt.tight_layout(); plt.show()\n",
    "\n",
    "# Salvar pipeline + label encoder \n",
    "MODEL_PATH = \"audio_classifier_logreg.joblib\"\n",
    "joblib.dump({\"pipeline\": clf, \"label_encoder\": le}, MODEL_PATH)\n",
    "print(f\"✅ Modelo salvo em: {MODEL_PATH}\")\n",
    "\n",
    "# Função para prever 1 arquivo novo usando o mesmo pipeline\n",
    "def predict_single_audio(path: str):\n",
    "    v = feature_fn_advanced_only_vector(path).reshape(1, -1)\n",
    "    y_hat = clf.predict(v)[0]\n",
    "    prob = clf.predict_proba(v)[0]\n",
    "    return le.inverse_transform([y_hat])[0], dict(zip(le.classes_, prob))"
   ]
  },
  {
   "cell_type": "code",
   "execution_count": null,
   "id": "0bf03774",
   "metadata": {},
   "outputs": [
    {
     "name": "stderr",
     "output_type": "stream",
     "text": [
      "/tmp/ipykernel_7924/2901479956.py:185: DeprecationWarning:\n",
      "\n",
      "Conversion of an array with ndim > 0 to a scalar is deprecated, and will error in future. Ensure you extract a single element from your array before performing this operation. (Deprecated NumPy 1.25.)\n",
      "\n"
     ]
    },
    {
     "data": {
      "text/plain": [
       "('LEAK',\n",
       " {'LEAK': np.float64(0.9999748344746593),\n",
       "  'LESS': np.float64(2.5165525340675957e-05)})"
      ]
     },
     "execution_count": 25,
     "metadata": {},
     "output_type": "execute_result"
    },
    {
     "name": "stderr",
     "output_type": "stream",
     "text": [
      "Exception ignored in: <function ResourceTracker.__del__ at 0x7d7283d99da0>\n",
      "Traceback (most recent call last):\n",
      "  File \"/home/stevan/anaconda3/envs/4fluid/lib/python3.12/multiprocessing/resource_tracker.py\", line 77, in __del__\n",
      "  File \"/home/stevan/anaconda3/envs/4fluid/lib/python3.12/multiprocessing/resource_tracker.py\", line 86, in _stop\n",
      "  File \"/home/stevan/anaconda3/envs/4fluid/lib/python3.12/multiprocessing/resource_tracker.py\", line 111, in _stop_locked\n",
      "ChildProcessError: [Errno 10] No child processes\n",
      "Exception ignored in: <function ResourceTracker.__del__ at 0x72d1eebadda0>\n",
      "Traceback (most recent call last):\n",
      "  File \"/home/stevan/anaconda3/envs/4fluid/lib/python3.12/multiprocessing/resource_tracker.py\", line 77, in __del__\n",
      "  File \"/home/stevan/anaconda3/envs/4fluid/lib/python3.12/multiprocessing/resource_tracker.py\", line 86, in _stop\n",
      "  File \"/home/stevan/anaconda3/envs/4fluid/lib/python3.12/multiprocessing/resource_tracker.py\", line 111, in _stop_locked\n",
      "ChildProcessError: [Errno 10] No child processes\n",
      "Exception ignored in: <function ResourceTracker.__del__ at 0x7e18b6ba5da0>\n",
      "Traceback (most recent call last):\n",
      "  File \"/home/stevan/anaconda3/envs/4fluid/lib/python3.12/multiprocessing/resource_tracker.py\", line 77, in __del__\n",
      "  File \"/home/stevan/anaconda3/envs/4fluid/lib/python3.12/multiprocessing/resource_tracker.py\", line 86, in _stop\n",
      "  File \"/home/stevan/anaconda3/envs/4fluid/lib/python3.12/multiprocessing/resource_tracker.py\", line 111, in _stop_locked\n",
      "ChildProcessError: [Errno 10] No child processes\n",
      "Exception ignored in: <function ResourceTracker.__del__ at 0x7f6baffadda0>\n",
      "Traceback (most recent call last):\n",
      "  File \"/home/stevan/anaconda3/envs/4fluid/lib/python3.12/multiprocessing/resource_tracker.py\", line 77, in __del__\n",
      "  File \"/home/stevan/anaconda3/envs/4fluid/lib/python3.12/multiprocessing/resource_tracker.py\", line 86, in _stop\n",
      "  File \"/home/stevan/anaconda3/envs/4fluid/lib/python3.12/multiprocessing/resource_tracker.py\", line 111, in _stop_locked\n",
      "ChildProcessError: [Errno 10] No child processes\n",
      "Exception ignored in: <function ResourceTracker.__del__ at 0x76169b499da0>\n",
      "Traceback (most recent call last):\n",
      "  File \"/home/stevan/anaconda3/envs/4fluid/lib/python3.12/multiprocessing/resource_tracker.py\", line 77, in __del__\n",
      "  File \"/home/stevan/anaconda3/envs/4fluid/lib/python3.12/multiprocessing/resource_tracker.py\", line 86, in _stop\n",
      "  File \"/home/stevan/anaconda3/envs/4fluid/lib/python3.12/multiprocessing/resource_tracker.py\", line 111, in _stop_locked\n",
      "ChildProcessError: [Errno 10] No child processes\n",
      "Exception ignored in: <function ResourceTracker.__del__ at 0x7338fc5a9da0>\n",
      "Traceback (most recent call last):\n",
      "  File \"/home/stevan/anaconda3/envs/4fluid/lib/python3.12/multiprocessing/resource_tracker.py\", line 77, in __del__\n",
      "  File \"/home/stevan/anaconda3/envs/4fluid/lib/python3.12/multiprocessing/resource_tracker.py\", line 86, in _stop\n",
      "  File \"/home/stevan/anaconda3/envs/4fluid/lib/python3.12/multiprocessing/resource_tracker.py\", line 111, in _stop_locked\n",
      "ChildProcessError: [Errno 10] No child processes\n",
      "Exception ignored in: <function ResourceTracker.__del__ at 0x780312299da0>\n",
      "Traceback (most recent call last):\n",
      "  File \"/home/stevan/anaconda3/envs/4fluid/lib/python3.12/multiprocessing/resource_tracker.py\", line 77, in __del__\n",
      "  File \"/home/stevan/anaconda3/envs/4fluid/lib/python3.12/multiprocessing/resource_tracker.py\", line 86, in _stop\n",
      "  File \"/home/stevan/anaconda3/envs/4fluid/lib/python3.12/multiprocessing/resource_tracker.py\", line 111, in _stop_locked\n",
      "ChildProcessError: [Errno 10] No child processes\n",
      "Exception ignored in: <function ResourceTracker.__del__ at 0x72fb00e95da0>\n",
      "Traceback (most recent call last):\n",
      "  File \"/home/stevan/anaconda3/envs/4fluid/lib/python3.12/multiprocessing/resource_tracker.py\", line 77, in __del__\n",
      "  File \"/home/stevan/anaconda3/envs/4fluid/lib/python3.12/multiprocessing/resource_tracker.py\", line 86, in _stop\n",
      "  File \"/home/stevan/anaconda3/envs/4fluid/lib/python3.12/multiprocessing/resource_tracker.py\", line 111, in _stop_locked\n",
      "ChildProcessError: [Errno 10] No child processes\n",
      "Exception ignored in: <function ResourceTracker.__del__ at 0x71b38e5a9da0>\n",
      "Traceback (most recent call last):\n",
      "  File \"/home/stevan/anaconda3/envs/4fluid/lib/python3.12/multiprocessing/resource_tracker.py\", line 77, in __del__\n",
      "  File \"/home/stevan/anaconda3/envs/4fluid/lib/python3.12/multiprocessing/resource_tracker.py\", line 86, in _stop\n",
      "  File \"/home/stevan/anaconda3/envs/4fluid/lib/python3.12/multiprocessing/resource_tracker.py\", line 111, in _stop_locked\n",
      "ChildProcessError: [Errno 10] No child processes\n",
      "Exception ignored in: <function ResourceTracker.__del__ at 0x735d70c95da0>\n",
      "Traceback (most recent call last):\n",
      "  File \"/home/stevan/anaconda3/envs/4fluid/lib/python3.12/multiprocessing/resource_tracker.py\", line 77, in __del__\n",
      "  File \"/home/stevan/anaconda3/envs/4fluid/lib/python3.12/multiprocessing/resource_tracker.py\", line 86, in _stop\n",
      "  File \"/home/stevan/anaconda3/envs/4fluid/lib/python3.12/multiprocessing/resource_tracker.py\", line 111, in _stop_locked\n",
      "ChildProcessError: [Errno 10] No child processes\n",
      "Exception ignored in: <function ResourceTracker.__del__ at 0x7833f5dadda0>\n",
      "Traceback (most recent call last):\n",
      "  File \"/home/stevan/anaconda3/envs/4fluid/lib/python3.12/multiprocessing/resource_tracker.py\", line 77, in __del__\n",
      "  File \"/home/stevan/anaconda3/envs/4fluid/lib/python3.12/multiprocessing/resource_tracker.py\", line 86, in _stop\n",
      "  File \"/home/stevan/anaconda3/envs/4fluid/lib/python3.12/multiprocessing/resource_tracker.py\", line 111, in _stop_locked\n",
      "ChildProcessError: [Errno 10] No child processes\n",
      "Exception ignored in: <function ResourceTracker.__del__ at 0x7223d15adda0>\n",
      "Traceback (most recent call last):\n",
      "  File \"/home/stevan/anaconda3/envs/4fluid/lib/python3.12/multiprocessing/resource_tracker.py\", line 77, in __del__\n",
      "  File \"/home/stevan/anaconda3/envs/4fluid/lib/python3.12/multiprocessing/resource_tracker.py\", line 86, in _stop\n",
      "  File \"/home/stevan/anaconda3/envs/4fluid/lib/python3.12/multiprocessing/resource_tracker.py\", line 111, in _stop_locked\n",
      "ChildProcessError: [Errno 10] No child processes\n",
      "Exception ignored in: <function ResourceTracker.__del__ at 0x74a8e9da1da0>\n",
      "Traceback (most recent call last):\n",
      "  File \"/home/stevan/anaconda3/envs/4fluid/lib/python3.12/multiprocessing/resource_tracker.py\", line 77, in __del__\n",
      "  File \"/home/stevan/anaconda3/envs/4fluid/lib/python3.12/multiprocessing/resource_tracker.py\", line 86, in _stop\n",
      "  File \"/home/stevan/anaconda3/envs/4fluid/lib/python3.12/multiprocessing/resource_tracker.py\", line 111, in _stop_locked\n",
      "ChildProcessError: [Errno 10] No child processes\n",
      "Exception ignored in: <function ResourceTracker.__del__ at 0x7bd7c07a9da0>\n",
      "Traceback (most recent call last):\n",
      "  File \"/home/stevan/anaconda3/envs/4fluid/lib/python3.12/multiprocessing/resource_tracker.py\", line 77, in __del__\n",
      "  File \"/home/stevan/anaconda3/envs/4fluid/lib/python3.12/multiprocessing/resource_tracker.py\", line 86, in _stop\n",
      "  File \"/home/stevan/anaconda3/envs/4fluid/lib/python3.12/multiprocessing/resource_tracker.py\", line 111, in _stop_locked\n",
      "ChildProcessError: [Errno 10] No child processes\n",
      "Exception ignored in: <function ResourceTracker.__del__ at 0x7e2334099da0>\n",
      "Traceback (most recent call last):\n",
      "  File \"/home/stevan/anaconda3/envs/4fluid/lib/python3.12/multiprocessing/resource_tracker.py\", line 77, in __del__\n",
      "  File \"/home/stevan/anaconda3/envs/4fluid/lib/python3.12/multiprocessing/resource_tracker.py\", line 86, in _stop\n",
      "  File \"/home/stevan/anaconda3/envs/4fluid/lib/python3.12/multiprocessing/resource_tracker.py\", line 111, in _stop_locked\n",
      "ChildProcessError: [Errno 10] No child processes\n",
      "Exception ignored in: <function ResourceTracker.__del__ at 0x74d459aadda0>\n",
      "Traceback (most recent call last):\n",
      "  File \"/home/stevan/anaconda3/envs/4fluid/lib/python3.12/multiprocessing/resource_tracker.py\", line 77, in __del__\n",
      "  File \"/home/stevan/anaconda3/envs/4fluid/lib/python3.12/multiprocessing/resource_tracker.py\", line 86, in _stop\n",
      "  File \"/home/stevan/anaconda3/envs/4fluid/lib/python3.12/multiprocessing/resource_tracker.py\", line 111, in _stop_locked\n",
      "ChildProcessError: [Errno 10] No child processes\n",
      "Exception ignored in: <function ResourceTracker.__del__ at 0x72a15b1a9da0>\n",
      "Traceback (most recent call last):\n",
      "  File \"/home/stevan/anaconda3/envs/4fluid/lib/python3.12/multiprocessing/resource_tracker.py\", line 77, in __del__\n",
      "  File \"/home/stevan/anaconda3/envs/4fluid/lib/python3.12/multiprocessing/resource_tracker.py\", line 86, in _stop\n",
      "  File \"/home/stevan/anaconda3/envs/4fluid/lib/python3.12/multiprocessing/resource_tracker.py\", line 111, in _stop_locked\n",
      "ChildProcessError: [Errno 10] No child processes\n",
      "Exception ignored in: <function ResourceTracker.__del__ at 0x7b82861adda0>\n",
      "Traceback (most recent call last):\n",
      "  File \"/home/stevan/anaconda3/envs/4fluid/lib/python3.12/multiprocessing/resource_tracker.py\", line 77, in __del__\n",
      "  File \"/home/stevan/anaconda3/envs/4fluid/lib/python3.12/multiprocessing/resource_tracker.py\", line 86, in _stop\n",
      "  File \"/home/stevan/anaconda3/envs/4fluid/lib/python3.12/multiprocessing/resource_tracker.py\", line 111, in _stop_locked\n",
      "ChildProcessError: [Errno 10] No child processes\n",
      "Exception ignored in: <function ResourceTracker.__del__ at 0x71f38b9b1da0>\n",
      "Traceback (most recent call last):\n",
      "  File \"/home/stevan/anaconda3/envs/4fluid/lib/python3.12/multiprocessing/resource_tracker.py\", line 77, in __del__\n",
      "  File \"/home/stevan/anaconda3/envs/4fluid/lib/python3.12/multiprocessing/resource_tracker.py\", line 86, in _stop\n",
      "  File \"/home/stevan/anaconda3/envs/4fluid/lib/python3.12/multiprocessing/resource_tracker.py\", line 111, in _stop_locked\n",
      "ChildProcessError: [Errno 10] No child processes\n",
      "Exception ignored in: <function ResourceTracker.__del__ at 0x729a8a19dda0>\n",
      "Traceback (most recent call last):\n",
      "  File \"/home/stevan/anaconda3/envs/4fluid/lib/python3.12/multiprocessing/resource_tracker.py\", line 77, in __del__\n",
      "  File \"/home/stevan/anaconda3/envs/4fluid/lib/python3.12/multiprocessing/resource_tracker.py\", line 86, in _stop\n",
      "  File \"/home/stevan/anaconda3/envs/4fluid/lib/python3.12/multiprocessing/resource_tracker.py\", line 111, in _stop_locked\n",
      "ChildProcessError: [Errno 10] No child processes\n"
     ]
    }
   ],
   "source": [
    "# Exemplo:\n",
    "pred_label, pred_proba = predict_single_audio(df_test_ok.loc[0, \"path\"])\n",
    "pred_label, pred_proba"
   ]
  },
  {
   "cell_type": "code",
   "execution_count": 27,
   "id": "fef733fe",
   "metadata": {},
   "outputs": [
    {
     "name": "stdout",
     "output_type": "stream",
     "text": [
      "Classes: ['LEAK', 'LESS']\n",
      "Mapa classe->id: {'LEAK': np.int64(0), 'LESS': np.int64(1)}\n"
     ]
    }
   ],
   "source": [
    "# Ver o mapeamento:\n",
    "print(\"Classes:\", list(le.classes_))\n",
    "print(\"Mapa classe->id:\", dict(zip(le.classes_, le.transform(le.classes_))))\n"
   ]
  },
  {
   "cell_type": "code",
   "execution_count": 29,
   "id": "bb317d30",
   "metadata": {},
   "outputs": [
    {
     "name": "stdout",
     "output_type": "stream",
     "text": [
      "✅ X_train: (640, 774) | y_train: (640,) | classes: ['LEAK', 'LESS']\n",
      "✅ X_test:  (192, 774)  | y_test:  (192,)\n"
     ]
    }
   ],
   "source": [
    "# Conferência rápida:\n",
    "print(f\"✅ X_train: {X_train.shape} | y_train: {y_train.shape} | classes: {list(le.classes_)}\")\n",
    "print(f\"✅ X_test:  {X_test.shape}  | y_test:  {y_test.shape}\")"
   ]
  }
 ],
 "metadata": {
  "kernelspec": {
   "display_name": "4fluid",
   "language": "python",
   "name": "python3"
  },
  "language_info": {
   "codemirror_mode": {
    "name": "ipython",
    "version": 3
   },
   "file_extension": ".py",
   "mimetype": "text/x-python",
   "name": "python",
   "nbconvert_exporter": "python",
   "pygments_lexer": "ipython3",
   "version": "3.12.11"
  }
 },
 "nbformat": 4,
 "nbformat_minor": 5
}
